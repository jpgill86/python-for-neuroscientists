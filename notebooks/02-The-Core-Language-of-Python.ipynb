{
  "nbformat": 4,
  "nbformat_minor": 0,
  "metadata": {
    "colab": {
      "name": "02-The-Core-Language-of-Python.ipynb",
      "provenance": [],
      "collapsed_sections": [],
      "authorship_tag": "ABX9TyNrxZFQpcVYE5j5FBbONzQV",
      "include_colab_link": true
    },
    "kernelspec": {
      "name": "python3",
      "display_name": "Python 3"
    }
  },
  "cells": [
    {
      "cell_type": "markdown",
      "metadata": {
        "id": "view-in-github",
        "colab_type": "text"
      },
      "source": [
        "<a href=\"https://colab.research.google.com/github/jpgill86/python-for-neuroscientists/blob/master/notebooks/02-The-Core-Language-of-Python.ipynb\" target=\"_parent\"><img src=\"https://colab.research.google.com/assets/colab-badge.svg\" alt=\"Open In Colab\"/></a>"
      ]
    },
    {
      "cell_type": "markdown",
      "metadata": {
        "id": "QRtgy8QlUJSM",
        "colab_type": "text"
      },
      "source": [
        "# The Core Language of Python"
      ]
    },
    {
      "cell_type": "markdown",
      "metadata": {
        "id": "EKEQe-jELmlJ",
        "colab_type": "text"
      },
      "source": [
        "This notebook will be primarily focused on \"vanilla\" Python. That is, the core language will be showcased, but third-party libraries (like NumPy, Pandas, Matplotlib) will be discussed elsewhere. This notebook is all about what the basic language can do.\n",
        "\n",
        "That said, there are a some extra features available in Jupyter notebooks that are not part of the core language but which will be useful to introduce here. These will be sprinked in where appropriate."
      ]
    },
    {
      "cell_type": "markdown",
      "metadata": {
        "id": "EzxgjskbI3aP",
        "colab_type": "text"
      },
      "source": [
        "## Getting Help While Coding"
      ]
    },
    {
      "cell_type": "markdown",
      "metadata": {
        "id": "OJm7JzuhJGI3",
        "colab_type": "text"
      },
      "source": [
        "Even veteran Python programmers need to look things up sometimes! As you work through this notebook and start to write your own code, keep these tips in mind:\n",
        "\n",
        "* Python has a built-in documentation system, which is accessed using the `help()` function. For example, `help(print)` or `help(str)` can give you more information about functions and data types (try it!). You can use it on variables that have been defined in your code as well.\n",
        "\n",
        "* In Jupyter notebooks, you can get some of the same information (often with fewer technical details) to appear in a separate \"Help\" tab by using the special `?` symbol, which can be placed before or immediately after a name. For examples, try `? print` or `max?`.\n",
        "\n",
        "* The online, official documentation is great for in-depth, definitive information: [https://docs.python.org](https://docs.python.org)\n",
        "\n",
        "* Googling with the right search terms, like \"python list slicing\", will get you very far in life. Just be aware that results for older versions of Python, especially Python 2, may come up and no longer be correct. To check the version of Python you are using, just run this code:"
      ]
    },
    {
      "cell_type": "code",
      "metadata": {
        "id": "aBJ8DWQDNFGs",
        "colab_type": "code",
        "colab": {
          "base_uri": "https://localhost:8080/",
          "height": 53
        },
        "outputId": "4bfca040-a73d-488a-baab-4eac72cf6377"
      },
      "source": [
        "from sys import version\n",
        "print(version)"
      ],
      "execution_count": null,
      "outputs": [
        {
          "output_type": "stream",
          "text": [
            "3.6.9 (default, Jul 17 2020, 12:50:27) \n",
            "[GCC 8.4.0]\n"
          ],
          "name": "stdout"
        }
      ]
    },
    {
      "cell_type": "markdown",
      "metadata": {
        "id": "di2Gq7cVXOM_",
        "colab_type": "text"
      },
      "source": [
        "## Comments"
      ]
    },
    {
      "cell_type": "markdown",
      "metadata": {
        "id": "lg_S4UTWXQpw",
        "colab_type": "text"
      },
      "source": [
        "In Python, the `#` character indicates the start of a **comment**. Everything on a line of code that comes after a `#` character is ignored by the computer.\n",
        "\n",
        "> *Aside: Colab allows you to attach notes to cells, which are confusingly also called \"comments\". These are not the same thing as code comments.*\n",
        "\n",
        "Code comments have two purposes:\n",
        "\n",
        "* Comments allow you to include explanations of how the code works. This is an essential habit every programmer should develop: **write helpful comments in your code**. This helps others understand how your code works. This (especially) includes *future-you*!\n",
        "* You can **reversibly disable** a line of code by putting a `#` character at the start. When developing code, this is very useful.\n",
        "\n",
        "Here's a trivial example of an explanatory comment:"
      ]
    },
    {
      "cell_type": "code",
      "metadata": {
        "id": "mYSE5BYnZsgS",
        "colab_type": "code",
        "colab": {
          "base_uri": "https://localhost:8080/",
          "height": 35
        },
        "outputId": "210c8c7a-a68a-4dfc-9831-cadf7d910a6f"
      },
      "source": [
        "# calculate one plus one\n",
        "1 + 1"
      ],
      "execution_count": null,
      "outputs": [
        {
          "output_type": "execute_result",
          "data": {
            "text/plain": [
              "2"
            ]
          },
          "metadata": {
            "tags": []
          },
          "execution_count": 2
        }
      ]
    },
    {
      "cell_type": "markdown",
      "metadata": {
        "id": "NZndinzxZ6km",
        "colab_type": "text"
      },
      "source": [
        "Notice the comment is easily distinguishable by its color.\n",
        "\n",
        "Colab provides a very useful keyboard shortcut for adding and removing the `#` symbol from the current line of code, or many lines at once if you select them first: Ctrl+/ (Cmd+/ on Mac).\n",
        "\n",
        "Try placing your cursor in the code cell below and toggling the comment state of the line using the keyboard shortcut:"
      ]
    },
    {
      "cell_type": "code",
      "metadata": {
        "id": "6503wDsMcUzq",
        "colab_type": "code",
        "colab": {}
      },
      "source": [
        "# 1 + 1"
      ],
      "execution_count": null,
      "outputs": []
    },
    {
      "cell_type": "markdown",
      "metadata": {
        "id": "iYTNC1UTQRTZ",
        "colab_type": "text"
      },
      "source": [
        "## Variables and Operators"
      ]
    },
    {
      "cell_type": "markdown",
      "metadata": {
        "id": "WA2OomvOQXY8",
        "colab_type": "text"
      },
      "source": [
        "Data can be stored in variables using `=`. Try executing the two code cells below in order to first store the value `2` in the variable `x` and then to display the contents of `x`."
      ]
    },
    {
      "cell_type": "code",
      "metadata": {
        "id": "e_2GYieLLBV5",
        "colab_type": "code",
        "colab": {}
      },
      "source": [
        "# store 2 in x\n",
        "x = 1 + 1"
      ],
      "execution_count": null,
      "outputs": []
    },
    {
      "cell_type": "code",
      "metadata": {
        "id": "MYMDjVCbK15F",
        "colab_type": "code",
        "colab": {
          "base_uri": "https://localhost:8080/",
          "height": 35
        },
        "outputId": "40d1aed8-545a-4f40-c960-41fcfc9c6a5d"
      },
      "source": [
        "# output the value of x\n",
        "x"
      ],
      "execution_count": null,
      "outputs": [
        {
          "output_type": "execute_result",
          "data": {
            "text/plain": [
              "2"
            ]
          },
          "metadata": {
            "tags": []
          },
          "execution_count": 5
        }
      ]
    },
    {
      "cell_type": "markdown",
      "metadata": {
        "id": "9q9mptu_OaEm",
        "colab_type": "text"
      },
      "source": [
        "In Jupyter notebooks, you can list all of the variables (and functions, classes, imported modules) that you have defined, along with their values, using the \"magic\" command `%whos`:"
      ]
    },
    {
      "cell_type": "code",
      "metadata": {
        "id": "_N4utwwnKmcd",
        "colab_type": "code",
        "colab": {
          "base_uri": "https://localhost:8080/",
          "height": 90
        },
        "outputId": "8f536c1f-dbc6-42a9-abae-b5b398deef00"
      },
      "source": [
        "# remember this one -- it is super useful!\n",
        "%whos"
      ],
      "execution_count": null,
      "outputs": [
        {
          "output_type": "stream",
          "text": [
            "Variable   Type    Data/Info\n",
            "----------------------------\n",
            "version    str     3.6.9 (default, Jul 17 20<...>, 12:50:27) \\n[GCC 8.4.0]\n",
            "x          int     2\n"
          ],
          "name": "stdout"
        }
      ]
    },
    {
      "cell_type": "markdown",
      "metadata": {
        "id": "SxwD_4d3Rp57",
        "colab_type": "text"
      },
      "source": [
        "You can check a variable's type using the built-in `type()` function:"
      ]
    },
    {
      "cell_type": "code",
      "metadata": {
        "id": "4J1xA6H1S7GI",
        "colab_type": "code",
        "colab": {
          "base_uri": "https://localhost:8080/",
          "height": 35
        },
        "outputId": "d4dbcbd9-2383-4e1a-c7c9-31d812ea208c"
      },
      "source": [
        "type(x)"
      ],
      "execution_count": null,
      "outputs": [
        {
          "output_type": "execute_result",
          "data": {
            "text/plain": [
              "int"
            ]
          },
          "metadata": {
            "tags": []
          },
          "execution_count": 7
        }
      ]
    },
    {
      "cell_type": "markdown",
      "metadata": {
        "id": "NFxV9GUgS86c",
        "colab_type": "text"
      },
      "source": [
        "`int` stands for \"integer\".\n",
        "\n",
        "Unlike some stricter languages, Python allows you to change the type of a variable effortlessly by assigning it a new value."
      ]
    },
    {
      "cell_type": "code",
      "metadata": {
        "id": "WfHybtGqTR7J",
        "colab_type": "code",
        "colab": {}
      },
      "source": [
        "x = 1.5"
      ],
      "execution_count": null,
      "outputs": []
    },
    {
      "cell_type": "code",
      "metadata": {
        "id": "2qJRlmD2Tz12",
        "colab_type": "code",
        "colab": {
          "base_uri": "https://localhost:8080/",
          "height": 35
        },
        "outputId": "c54c791b-4303-4d74-d3a4-1195960ffa66"
      },
      "source": [
        "type(x)"
      ],
      "execution_count": null,
      "outputs": [
        {
          "output_type": "execute_result",
          "data": {
            "text/plain": [
              "float"
            ]
          },
          "metadata": {
            "tags": []
          },
          "execution_count": 9
        }
      ]
    },
    {
      "cell_type": "markdown",
      "metadata": {
        "id": "T7xSp41zTVOX",
        "colab_type": "text"
      },
      "source": [
        "`float` stands for \"floating point number\", which is a format that computers use to represent decimal numbers. `int` and `float` are both numeric types.\n",
        "\n",
        "Truth values are represented in Python using `True` and `False`, which have type `bool` (for \"Boolean\"). `True` and `False` must always start with capital letters. These values can be assigned to variables directly, or they can result from comparisons and tests.\n",
        "\n",
        "For example, the `==` comparison operator (double-equals; this is different from the single-equals `=` used for variable assignment!) can be used to test whether two values match. It will evaluate to either `True` or `False`.\n",
        "\n",
        "Try running the cell below twice, first with `x = 2` and a second time with `x = 1.5`. Use the keyboard shortcut for toggling comments (Ctrl+/ or Cmd+/) to switch which variable assignment is used when the cell runs."
      ]
    },
    {
      "cell_type": "code",
      "metadata": {
        "id": "04f2nV4DTkdk",
        "colab_type": "code",
        "colab": {
          "base_uri": "https://localhost:8080/",
          "height": 35
        },
        "outputId": "4c7e1fc5-f70e-4055-fea4-2897a1e17a98"
      },
      "source": [
        "x = 2\n",
        "# x = 1.5\n",
        "type(x) == int"
      ],
      "execution_count": null,
      "outputs": [
        {
          "output_type": "execute_result",
          "data": {
            "text/plain": [
              "True"
            ]
          },
          "metadata": {
            "tags": []
          },
          "execution_count": 10
        }
      ]
    },
    {
      "cell_type": "markdown",
      "metadata": {
        "id": "aY3xfKBag32B",
        "colab_type": "text"
      },
      "source": [
        "Python can, of course, perform the other basic mathematical operations, not just addition:\n",
        "\n",
        "```python\n",
        "5 + 2   # addition        = 7\n",
        "5 - 2   # subtraction     = 3\n",
        "5 * 2   # multiplication  = 10\n",
        "5 / 2   # division        = 2.5\n",
        "5 ** 2  # exponentiation  = 25\n",
        "        # (do NOT use ^ for exponentiation, it does something very different!)\n",
        "\n",
        "5 // 2  # integer division (drop remainder)  = 2\n",
        "5 % 2   # modulus (remainder)                = 1\n",
        "```\n",
        "\n",
        "Python has many more comparison operators:\n",
        "\n",
        "```python\n",
        "x = 2      # assign 2 to x\n",
        "t = True   # assign True to t\n",
        "f = False  # assign False to f\n",
        "\n",
        "x == 2     # equal                  = True\n",
        "x != 2     # not equal              = False\n",
        "x > 2      # greater than           = False\n",
        "x < 2      # less than              = False\n",
        "x >= 2     # greater than or equal  = True\n",
        "x <= 2     # less than or equal     = True\n",
        "\n",
        "t and f    # both true              = False\n",
        "t or f     # either true            = True\n",
        "not t      # negation               = False\n",
        "not f      #                        = True\n",
        "```"
      ]
    },
    {
      "cell_type": "markdown",
      "metadata": {
        "id": "ltks2-ABKx1c",
        "colab_type": "text"
      },
      "source": [
        "## Printing"
      ]
    },
    {
      "cell_type": "markdown",
      "metadata": {
        "id": "aXQC7_bXK13G",
        "colab_type": "text"
      },
      "source": [
        "To display the value of a variable or the result of a calculation, you can simply write the variable name or perform the calculation as the last thing in a code cell. For example:"
      ]
    },
    {
      "cell_type": "code",
      "metadata": {
        "id": "JNgiUIoKK06g",
        "colab_type": "code",
        "colab": {
          "base_uri": "https://localhost:8080/",
          "height": 35
        },
        "outputId": "06cbde8a-5f9f-47c7-cfe9-fd71dba80094"
      },
      "source": [
        "x = 1 + 1\n",
        "x"
      ],
      "execution_count": null,
      "outputs": [
        {
          "output_type": "execute_result",
          "data": {
            "text/plain": [
              "2"
            ]
          },
          "metadata": {
            "tags": []
          },
          "execution_count": 11
        }
      ]
    },
    {
      "cell_type": "markdown",
      "metadata": {
        "id": "RrCbYTOZLpfX",
        "colab_type": "text"
      },
      "source": [
        "If you try to do this with multiple variables or calculations, only the last will be displayed automatically:"
      ]
    },
    {
      "cell_type": "code",
      "metadata": {
        "id": "TYCxagQjLnCv",
        "colab_type": "code",
        "colab": {
          "base_uri": "https://localhost:8080/",
          "height": 35
        },
        "outputId": "1b1ad119-cbcd-4271-be2c-8339e1cd89bf"
      },
      "source": [
        "x = 1 + 1\n",
        "y = x + 1\n",
        "\n",
        "x\n",
        "y"
      ],
      "execution_count": null,
      "outputs": [
        {
          "output_type": "execute_result",
          "data": {
            "text/plain": [
              "3"
            ]
          },
          "metadata": {
            "tags": []
          },
          "execution_count": 12
        }
      ]
    },
    {
      "cell_type": "markdown",
      "metadata": {
        "id": "ia2rpRTAL2Z6",
        "colab_type": "text"
      },
      "source": [
        "To display multiple things as a result of running one code cell, you can use the `print()` function:"
      ]
    },
    {
      "cell_type": "code",
      "metadata": {
        "id": "l0kZmZHrMFmC",
        "colab_type": "code",
        "colab": {
          "base_uri": "https://localhost:8080/",
          "height": 90
        },
        "outputId": "931353b8-4da2-4285-b343-e35a420e10f7"
      },
      "source": [
        "print(x)\n",
        "print(y)\n",
        "\n",
        "z = y + 1\n",
        "\n",
        "print(z)\n",
        "print(z + 1)"
      ],
      "execution_count": null,
      "outputs": [
        {
          "output_type": "stream",
          "text": [
            "2\n",
            "3\n",
            "4\n",
            "5\n"
          ],
          "name": "stdout"
        }
      ]
    },
    {
      "cell_type": "markdown",
      "metadata": {
        "id": "o3tAb3nZnzYb",
        "colab_type": "text"
      },
      "source": [
        "## Strings"
      ]
    },
    {
      "cell_type": "markdown",
      "metadata": {
        "id": "J7GJkDWroVj9",
        "colab_type": "text"
      },
      "source": [
        "Variables containing text are called strings and have type `str`. Strings can be enclosed by either double quotes (`\"\"`) or single quotes (`''`). Which you use often comes down to personal preference."
      ]
    },
    {
      "cell_type": "code",
      "metadata": {
        "id": "-usEh06mz-cf",
        "colab_type": "code",
        "colab": {
          "base_uri": "https://localhost:8080/",
          "height": 35
        },
        "outputId": "09ca45d7-aa00-48ee-fd5a-04ad7555dafb"
      },
      "source": [
        "genus = \"Aplysia\"\n",
        "species = 'californica'\n",
        "\n",
        "type(genus)"
      ],
      "execution_count": null,
      "outputs": [
        {
          "output_type": "execute_result",
          "data": {
            "text/plain": [
              "str"
            ]
          },
          "metadata": {
            "tags": []
          },
          "execution_count": 14
        }
      ]
    },
    {
      "cell_type": "markdown",
      "metadata": {
        "id": "RLDRIAgh2fOj",
        "colab_type": "text"
      },
      "source": [
        "Multi-line strings can be constructed using three quote marks (either `\"\"\"` or `'''`). Inside of a **triple quoted string**, including a backslash (`\\`) at the end of a line will cause the line break immediately following it to be ignored.\n",
        "\n",
        "In the example below, a backslash is included at the end of the first line so that the string will not begin with an empty line. Also, the string is printed using `print()`, instead of just displayed by naming the variable, so that the line breaks will display properly."
      ]
    },
    {
      "cell_type": "code",
      "metadata": {
        "id": "N6kaB_xP2Ieh",
        "colab_type": "code",
        "colab": {
          "base_uri": "https://localhost:8080/",
          "height": 144
        },
        "outputId": "3a425ade-ee9f-4e9b-d3b9-222480db9746"
      },
      "source": [
        "long_string = \"\"\"\\\n",
        "Strange women lying in ponds\n",
        "distributing swords is no basis\n",
        "for a system of government!\n",
        "Supreme executive power derives\n",
        "from a mandate from the masses,\n",
        "not from some farcical aquatic\n",
        "ceremony!\"\"\"\n",
        "\n",
        "print(long_string)"
      ],
      "execution_count": null,
      "outputs": [
        {
          "output_type": "stream",
          "text": [
            "Strange women lying in ponds\n",
            "distributing swords is no basis\n",
            "for a system of government!\n",
            "Supreme executive power derives\n",
            "from a mandate from the masses,\n",
            "not from some farcical aquatic\n",
            "ceremony!\n"
          ],
          "name": "stdout"
        }
      ]
    },
    {
      "cell_type": "markdown",
      "metadata": {
        "id": "yIB_zDeJ5ZIh",
        "colab_type": "text"
      },
      "source": [
        "> *Aside: The Python language is named after the British comedy troupe \"Monty Python\", and the text above is a quote from their 1975 film \"Monty Python and the Holy Grail\". You will not learn much about programming by watching it, but I still highly recommend it.*\n",
        "\n",
        "Including a literal apostrophe (`'`) or quotation mark (`\"`) inside your string can cause a problem if Python misinterprets the character as terminating your string. You can avoid this problem by either using the other type of quote to enclose your string, or by using a backslash to \"escape\" the literal punctuation mark, which tells Python to not interpret the character as terminating the string. That is, Python will interpret `\\'` and `\\\"` as just punctuation in a string, rather than the end of the string."
      ]
    },
    {
      "cell_type": "code",
      "metadata": {
        "id": "u1IAYrpQ9y_7",
        "colab_type": "code",
        "colab": {
          "base_uri": "https://localhost:8080/",
          "height": 53
        },
        "outputId": "72d94645-8ccc-4acc-e422-d7ebec93023d"
      },
      "source": [
        "# option 1: enclose the string in double quotes\n",
        "# so that the apostrophe is not misinterpreted\n",
        "string1 = \"The slug's ink ain't pink.\"\n",
        "\n",
        "# option 2: use a backslash to escape the apostrophe\n",
        "string2 = 'The slug\\'s ink ain\\'t pink.'\n",
        "\n",
        "print(string1)\n",
        "print(string2)"
      ],
      "execution_count": null,
      "outputs": [
        {
          "output_type": "stream",
          "text": [
            "The slug's ink ain't pink.\n",
            "The slug's ink ain't pink.\n"
          ],
          "name": "stdout"
        }
      ]
    },
    {
      "cell_type": "markdown",
      "metadata": {
        "id": "4g5s0sP381r8",
        "colab_type": "text"
      },
      "source": [
        "The value of a string variable can be tested with `==`. Notice that, in the following example, switching from double quotes (above, when `genus` was assigned its value) to single quotes (below) does not matter."
      ]
    },
    {
      "cell_type": "code",
      "metadata": {
        "id": "ctoPaymS0awd",
        "colab_type": "code",
        "colab": {
          "base_uri": "https://localhost:8080/",
          "height": 35
        },
        "outputId": "a7dbc848-0b60-41fd-8372-989cb209f91e"
      },
      "source": [
        "genus == 'Aplysia'"
      ],
      "execution_count": null,
      "outputs": [
        {
          "output_type": "execute_result",
          "data": {
            "text/plain": [
              "True"
            ]
          },
          "metadata": {
            "tags": []
          },
          "execution_count": 17
        }
      ]
    },
    {
      "cell_type": "markdown",
      "metadata": {
        "id": "QhFbzs880zmB",
        "colab_type": "text"
      },
      "source": [
        "Strings can also be **concatenated**, or put together, using `+`. Here, a string containing just a space is sandwiched between two string variables:"
      ]
    },
    {
      "cell_type": "code",
      "metadata": {
        "id": "P3uCgkcl1AJS",
        "colab_type": "code",
        "colab": {
          "base_uri": "https://localhost:8080/",
          "height": 36
        },
        "outputId": "040c5764-a0fd-4327-80f8-04635d0a41b8"
      },
      "source": [
        "genus + ' ' + species"
      ],
      "execution_count": null,
      "outputs": [
        {
          "output_type": "execute_result",
          "data": {
            "application/vnd.google.colaboratory.intrinsic+json": {
              "type": "string"
            },
            "text/plain": [
              "'Aplysia californica'"
            ]
          },
          "metadata": {
            "tags": []
          },
          "execution_count": 18
        }
      ]
    },
    {
      "cell_type": "markdown",
      "metadata": {
        "id": "uY0J_AzNAnaq",
        "colab_type": "text"
      },
      "source": [
        "> *Aside: This is an example of* **operator overloading** *where the same symbol is used in different contexts to do different things. As we saw before, the `+` operator can be used to perform arithmetic addition, as well as to concatenate strings. It can also be used to join lists, as will be described below.*\n",
        "\n",
        "For more complex string manipulation, a special type of string called an **f-string** may be useful. F-strings are distinguished by the character `f` immediately preceding the enclosing quotes (either `f'...'` or `f\"...\"`). The `f` stands for \"format\", and f-strings allow you both to combine variables into a single string and to control the way numbers are displayed.\n",
        "\n",
        "In an f-string, curly braces (`{}`) may enclose the names of variables or more complex expressions, and those expressions will be evaluated to create the string. For example, the previous example combined a genus and species name with `+` symbols, but this can also be done with f-strings:"
      ]
    },
    {
      "cell_type": "code",
      "metadata": {
        "id": "3OOJGR2V0RJJ",
        "colab_type": "code",
        "colab": {
          "base_uri": "https://localhost:8080/",
          "height": 36
        },
        "outputId": "ebaade24-0014-41d9-a41f-3a82d185d18f"
      },
      "source": [
        "f'{genus} {species}'"
      ],
      "execution_count": null,
      "outputs": [
        {
          "output_type": "execute_result",
          "data": {
            "application/vnd.google.colaboratory.intrinsic+json": {
              "type": "string"
            },
            "text/plain": [
              "'Aplysia californica'"
            ]
          },
          "metadata": {
            "tags": []
          },
          "execution_count": 19
        }
      ]
    },
    {
      "cell_type": "markdown",
      "metadata": {
        "id": "odNiHSEVCKGg",
        "colab_type": "text"
      },
      "source": [
        "F-strings allow calculations to be performed inside of the curly braces:"
      ]
    },
    {
      "cell_type": "code",
      "metadata": {
        "id": "2oyBvwRJCJay",
        "colab_type": "code",
        "colab": {
          "base_uri": "https://localhost:8080/",
          "height": 36
        },
        "outputId": "b114b7fa-0211-4d83-dbe4-3a316fa1b29f"
      },
      "source": [
        "x = 2\n",
        "y = 8\n",
        "\n",
        "f'{x} raised to the {y}th power is {x**y}'"
      ],
      "execution_count": null,
      "outputs": [
        {
          "output_type": "execute_result",
          "data": {
            "application/vnd.google.colaboratory.intrinsic+json": {
              "type": "string"
            },
            "text/plain": [
              "'2 raised to the 8th power is 256'"
            ]
          },
          "metadata": {
            "tags": []
          },
          "execution_count": 20
        }
      ]
    },
    {
      "cell_type": "markdown",
      "metadata": {
        "id": "qCz9VfcaC3xg",
        "colab_type": "text"
      },
      "source": [
        "F-strings also allow numbers to be formatted just the way you want. For example, you can control how many digits after the decimal point are displayed using `{my_number:.xf}`, where `x` is the number of digits:"
      ]
    },
    {
      "cell_type": "code",
      "metadata": {
        "id": "sgf51uvcDGn2",
        "colab_type": "code",
        "colab": {
          "base_uri": "https://localhost:8080/",
          "height": 36
        },
        "outputId": "4c770dfb-de59-45ef-c985-3e7cf805246a"
      },
      "source": [
        "pi = 3.14159265358979323846\n",
        "\n",
        "f'The ratio of a circle\\'s circumferance to its diameter is {pi:.5f}'"
      ],
      "execution_count": null,
      "outputs": [
        {
          "output_type": "execute_result",
          "data": {
            "application/vnd.google.colaboratory.intrinsic+json": {
              "type": "string"
            },
            "text/plain": [
              "\"The ratio of a circle's circumferance to its diameter is 3.14159\""
            ]
          },
          "metadata": {
            "tags": []
          },
          "execution_count": 21
        }
      ]
    },
    {
      "cell_type": "markdown",
      "metadata": {
        "id": "-lXX2habGfdh",
        "colab_type": "text"
      },
      "source": [
        "> *Aside: Prior to the addition of f-strings to Python in 2016, strings could be (and still can be) formatted using different syntax. All of these are equivalent, but f-strings tend to be, in my opinion, most readable because of their simplicity, while also being incredibly flexible:*\n",
        "```python\n",
        "genus + ' ' + species\n",
        "'%s %s' % (genus, species)\n",
        "'{} {}'.format(genus, species)\n",
        "'{g} {s}'.format(g=genus, s=species)\n",
        "f'{genus} {species}'\n",
        "```"
      ]
    },
    {
      "cell_type": "markdown",
      "metadata": {
        "id": "DyTGFNGmeJuk",
        "colab_type": "text"
      },
      "source": [
        "The built-in `str()` function can be used to convert objects of other types, such as numbers, into strings:"
      ]
    },
    {
      "cell_type": "code",
      "metadata": {
        "id": "glCFNuUDeRIJ",
        "colab_type": "code",
        "colab": {
          "base_uri": "https://localhost:8080/",
          "height": 36
        },
        "outputId": "2a9483e4-c9d9-4f4e-8ea2-afed62dfa47b"
      },
      "source": [
        "str(123)"
      ],
      "execution_count": null,
      "outputs": [
        {
          "output_type": "execute_result",
          "data": {
            "application/vnd.google.colaboratory.intrinsic+json": {
              "type": "string"
            },
            "text/plain": [
              "'123'"
            ]
          },
          "metadata": {
            "tags": []
          },
          "execution_count": 22
        }
      ]
    },
    {
      "cell_type": "markdown",
      "metadata": {
        "id": "6fFMGy5af8w8",
        "colab_type": "text"
      },
      "source": [
        "## If/Else Statements"
      ]
    },
    {
      "cell_type": "markdown",
      "metadata": {
        "id": "Lju3cRiE2dow",
        "colab_type": "text"
      },
      "source": [
        "Code can be executed conditionally depending on the results of comparison operations and Boolean truth values using `if`/`else` statements.\n",
        "\n",
        "The simplest form of an `if` statement does something only if the specified condition is true. In the example below, a `print` command is executed only if `x` is positive (in this case, it is). Notice that a **colon** (`:`) terminates the condition in the line containing `if`, and the command(s) that follow are **indented**. This indentation is required and must be consistent."
      ]
    },
    {
      "cell_type": "code",
      "metadata": {
        "id": "5dRkuOnEgXdc",
        "colab_type": "code",
        "colab": {
          "base_uri": "https://localhost:8080/",
          "height": 35
        },
        "outputId": "ef0ae64f-f376-4062-cd7f-1117de6855a9"
      },
      "source": [
        "x = 10\n",
        "\n",
        "if x > 0:\n",
        "    # this code will run because x > 0 is true\n",
        "    print('x is positive')"
      ],
      "execution_count": null,
      "outputs": [
        {
          "output_type": "stream",
          "text": [
            "x is positive\n"
          ],
          "name": "stdout"
        }
      ]
    },
    {
      "cell_type": "markdown",
      "metadata": {
        "id": "N6WZc4w25b9V",
        "colab_type": "text"
      },
      "source": [
        "If the condition is not true, as below, nothing will happen."
      ]
    },
    {
      "cell_type": "code",
      "metadata": {
        "id": "6GsUjUgHgd26",
        "colab_type": "code",
        "colab": {}
      },
      "source": [
        "x = -5\n",
        "\n",
        "if x > 0:\n",
        "    # this code will NOT run because x > 0 is false\n",
        "    print('x is positive')"
      ],
      "execution_count": null,
      "outputs": []
    },
    {
      "cell_type": "markdown",
      "metadata": {
        "id": "43Yehw8h5jcj",
        "colab_type": "text"
      },
      "source": [
        "The conditionally-executed code may contain much more than a single `print` command. Any number of lines of code can be included there, but they must be consistently indented. Four spaces is a common indentation convention.\n",
        "\n",
        "If you want some other code to run if the condition is false, use `else`. Again, a colon is needed."
      ]
    },
    {
      "cell_type": "code",
      "metadata": {
        "id": "mDK0CrOq6SjO",
        "colab_type": "code",
        "colab": {
          "base_uri": "https://localhost:8080/",
          "height": 35
        },
        "outputId": "a715ccba-52ed-42aa-bf0a-1b482518063d"
      },
      "source": [
        "x = -5\n",
        "\n",
        "if x > 0:\n",
        "    # this code will NOT run because x > 0 is false\n",
        "    print('x is positive')\n",
        "else:\n",
        "    # this code will run because the tested condition was not true\n",
        "    print('x is not positive')"
      ],
      "execution_count": null,
      "outputs": [
        {
          "output_type": "stream",
          "text": [
            "x is not positive\n"
          ],
          "name": "stdout"
        }
      ]
    },
    {
      "cell_type": "markdown",
      "metadata": {
        "id": "hLhz8Vy66kue",
        "colab_type": "text"
      },
      "source": [
        "If you want alternative conditions to be tested if the first condition is false, use `elif` (\"else-if\"). Several of these can be chained together, and an `else` may be included at the end."
      ]
    },
    {
      "cell_type": "code",
      "metadata": {
        "id": "CjcEHIPFgB43",
        "colab_type": "code",
        "colab": {
          "base_uri": "https://localhost:8080/",
          "height": 35
        },
        "outputId": "9b5fbc8e-17a8-4862-cf81-6a21a4f735e9"
      },
      "source": [
        "x = -5\n",
        "\n",
        "if x > 0:\n",
        "    # this code will NOT run because x > 0 is false\n",
        "    print('x is positive')\n",
        "elif x < 0:\n",
        "    # this code will run because x < 0 is true\n",
        "    print('x is negative')\n",
        "else:\n",
        "    # this code will NOT run because one of the tested conditions was true\n",
        "    print('x is zero')"
      ],
      "execution_count": null,
      "outputs": [
        {
          "output_type": "stream",
          "text": [
            "x is negative\n"
          ],
          "name": "stdout"
        }
      ]
    },
    {
      "cell_type": "markdown",
      "metadata": {
        "id": "G8tY5Ru2UQAV",
        "colab_type": "text"
      },
      "source": [
        "## Lists"
      ]
    },
    {
      "cell_type": "markdown",
      "metadata": {
        "id": "ATim0snI9KfP",
        "colab_type": "text"
      },
      "source": [
        "One of the most common data types for sequences is the **list**. Lists are comma-separated values enclosed by square brackets (`[]`). Here is a simple example:"
      ]
    },
    {
      "cell_type": "code",
      "metadata": {
        "id": "HoTigxmBU5fp",
        "colab_type": "code",
        "colab": {
          "base_uri": "https://localhost:8080/",
          "height": 35
        },
        "outputId": "59bc766b-bbcb-4efc-b6fa-89f4e81c0c9e"
      },
      "source": [
        "# create a new list using square brackets []\n",
        "my_list = [0, 10, 20, 30]\n",
        "my_list"
      ],
      "execution_count": null,
      "outputs": [
        {
          "output_type": "execute_result",
          "data": {
            "text/plain": [
              "[0, 10, 20, 30]"
            ]
          },
          "metadata": {
            "tags": []
          },
          "execution_count": 27
        }
      ]
    },
    {
      "cell_type": "markdown",
      "metadata": {
        "id": "Ej3SZvgH9spA",
        "colab_type": "text"
      },
      "source": [
        "The type of a list variable is, unsurprisingly, `list`:"
      ]
    },
    {
      "cell_type": "code",
      "metadata": {
        "id": "DKAMZuH39qEK",
        "colab_type": "code",
        "colab": {
          "base_uri": "https://localhost:8080/",
          "height": 35
        },
        "outputId": "6dcaaa35-5b18-4772-8b54-37cfb838278f"
      },
      "source": [
        "type(my_list)"
      ],
      "execution_count": null,
      "outputs": [
        {
          "output_type": "execute_result",
          "data": {
            "text/plain": [
              "list"
            ]
          },
          "metadata": {
            "tags": []
          },
          "execution_count": 28
        }
      ]
    },
    {
      "cell_type": "markdown",
      "metadata": {
        "id": "z0fGrgg2Zwpz",
        "colab_type": "text"
      },
      "source": [
        "The built-in `range()` function can be used (in conjunction with the `list()` function for the purpose of this example) to create a list of ascending or descending numbers. As will be seen later with indexing and slicing, the numbering here is a bit weird, as it will produce a list that starts from 0 and goes up to, but does not include, your specified number."
      ]
    },
    {
      "cell_type": "code",
      "metadata": {
        "id": "FdEuuX6fYFpi",
        "colab_type": "code",
        "colab": {
          "base_uri": "https://localhost:8080/",
          "height": 35
        },
        "outputId": "1d585043-9b01-44a4-d97c-ec5a81da5ce1"
      },
      "source": [
        "# create the numbers 0 through 19\n",
        "list(range(20)) # list() is needed for this demo since range() actually returns a special type of object"
      ],
      "execution_count": null,
      "outputs": [
        {
          "output_type": "execute_result",
          "data": {
            "text/plain": [
              "[0, 1, 2, 3, 4, 5, 6, 7, 8, 9, 10, 11, 12, 13, 14, 15, 16, 17, 18, 19]"
            ]
          },
          "metadata": {
            "tags": []
          },
          "execution_count": 29
        }
      ]
    },
    {
      "cell_type": "markdown",
      "metadata": {
        "id": "yrtZkifAbEMK",
        "colab_type": "text"
      },
      "source": [
        "The `range()` function also accepts \"start\", \"stop\", and \"step\" inputs."
      ]
    },
    {
      "cell_type": "code",
      "metadata": {
        "id": "jnpq94wJZWm_",
        "colab_type": "code",
        "colab": {
          "base_uri": "https://localhost:8080/",
          "height": 35
        },
        "outputId": "97c05d36-e782-47d4-c769-94a97de14d8b"
      },
      "source": [
        "# create the numbers 10 through 100 in steps of 20\n",
        "list(range(10, 100, 20))"
      ],
      "execution_count": null,
      "outputs": [
        {
          "output_type": "execute_result",
          "data": {
            "text/plain": [
              "[10, 30, 50, 70, 90]"
            ]
          },
          "metadata": {
            "tags": []
          },
          "execution_count": 30
        }
      ]
    },
    {
      "cell_type": "markdown",
      "metadata": {
        "id": "WzP3_qm496-x",
        "colab_type": "text"
      },
      "source": [
        "Lists are a data type with **method functions**, i.e., built-in functions that are associated with every list object.\n",
        "\n",
        "> *Aside: Each of the other data types we have already discussed (`int`, `float`, `bool`, `str`) also have associated method functions (e.g., the `str.format` method shown earlier as an alternative to f-strings). We may discuss more of these in the future.*\n",
        "\n",
        "Method functions are accessed in Python using **dot notation**, e.g., `my_list.append`, where a period (`.`) separates the object name (`my_list`) and the method name (`append`). In Colab, it is easy to see a listing of the method functions (and other attributes) associated with a variable by typing in the variable name, followed by a period, and then pausing for a brief moment. If you try it for our list named `my_list` (assuming you evaluated the cells above), you will see a pop-up that looks like this:\n",
        "\n",
        "![Screenshot of list methods pop-up in Colab](data:image/png;base64,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)\n",
        "\n",
        "Try it!\n",
        "\n",
        "The `append` method can be used to add a new element to the end of a list. When `append` is used, the list is changed **in-place**, meaning that `my_list` is modified without you needing to write `my_list =`. For example:"
      ]
    },
    {
      "cell_type": "code",
      "metadata": {
        "id": "3WKOpCWYbhMT",
        "colab_type": "code",
        "colab": {
          "base_uri": "https://localhost:8080/",
          "height": 35
        },
        "outputId": "b71cf63b-897d-45c1-a05e-4b4c9393cb7d"
      },
      "source": [
        "# append an item to a list\n",
        "my_list.append(40) # note = is NOT needed for my_list to permanently change\n",
        "my_list"
      ],
      "execution_count": null,
      "outputs": [
        {
          "output_type": "execute_result",
          "data": {
            "text/plain": [
              "[0, 10, 20, 30, 40]"
            ]
          },
          "metadata": {
            "tags": []
          },
          "execution_count": 31
        }
      ]
    },
    {
      "cell_type": "markdown",
      "metadata": {
        "id": "8x8RyR9PFLmL",
        "colab_type": "text"
      },
      "source": [
        "Lists can also be extended by \"adding\" lists together using `+`. This operation does *not* cause in-place modification of the `my_list` variable, so `my_list =` is needed."
      ]
    },
    {
      "cell_type": "code",
      "metadata": {
        "id": "Olvj9mwCbr_K",
        "colab_type": "code",
        "colab": {
          "base_uri": "https://localhost:8080/",
          "height": 35
        },
        "outputId": "0f9316f5-e57f-49b0-9f31-803de39fe16f"
      },
      "source": [
        "# combine lists with +\n",
        "my_list = my_list + [50, 60] # note = is needed for my_list to permanently change\n",
        "my_list"
      ],
      "execution_count": null,
      "outputs": [
        {
          "output_type": "execute_result",
          "data": {
            "text/plain": [
              "[0, 10, 20, 30, 40, 50, 60]"
            ]
          },
          "metadata": {
            "tags": []
          },
          "execution_count": 32
        }
      ]
    },
    {
      "cell_type": "markdown",
      "metadata": {
        "id": "M7vQbZbIIQ_K",
        "colab_type": "text"
      },
      "source": [
        "The `extend` method does the same thing, but, like the `append` method, it *does* modify the variable in-place, so `my_list =` is not needed."
      ]
    },
    {
      "cell_type": "code",
      "metadata": {
        "id": "7obPN5keIF-v",
        "colab_type": "code",
        "colab": {
          "base_uri": "https://localhost:8080/",
          "height": 35
        },
        "outputId": "13493e57-3349-47ba-d23d-4e242c1db7e8"
      },
      "source": [
        "# alternative to +\n",
        "my_list.extend([70, 80]) # note = is NOT needed for my_list to permanently change\n",
        "my_list"
      ],
      "execution_count": null,
      "outputs": [
        {
          "output_type": "execute_result",
          "data": {
            "text/plain": [
              "[0, 10, 20, 30, 40, 50, 60, 70, 80]"
            ]
          },
          "metadata": {
            "tags": []
          },
          "execution_count": 33
        }
      ]
    },
    {
      "cell_type": "markdown",
      "metadata": {
        "id": "mqtnUSxJOCU0",
        "colab_type": "text"
      },
      "source": [
        "To learn more about any of the list member functions, you can **view the documentation** using either `?` or the built-in `help()` function, e.g., `my_list.extend?` or `help(my_list.extend)`. For example, try looking at the documentation for `my_list.reverse`. You are encouraged to explore the other list member functions too!"
      ]
    },
    {
      "cell_type": "markdown",
      "metadata": {
        "id": "gVo7mNh_decj",
        "colab_type": "text"
      },
      "source": [
        "## Even More About Strings"
      ]
    },
    {
      "cell_type": "markdown",
      "metadata": {
        "id": "ZGCrimdJdipU",
        "colab_type": "text"
      },
      "source": [
        "Like lists, strings have method functions. Here are some examples:"
      ]
    },
    {
      "cell_type": "code",
      "metadata": {
        "id": "0y3Nt1TRLw8V",
        "colab_type": "code",
        "colab": {
          "base_uri": "https://localhost:8080/",
          "height": 144
        },
        "outputId": "d0ae98b5-b134-47ca-d1ee-aafdacfefdbf"
      },
      "source": [
        "my_string = 'Aplysia californica'\n",
        "\n",
        "# convert all letters to capital\n",
        "print(my_string.upper())\n",
        "\n",
        "# return True if the string begins with capital A, otherwise return False\n",
        "print(my_string.startswith('A'))\n",
        "\n",
        "# count the number of occurances of lowercase i\n",
        "print(my_string.count('i'))\n",
        "\n",
        "# replace each i with an exclamation point\n",
        "print(my_string.replace('i', '!'))\n",
        "\n",
        "# split the string everywhere there is a lowercase i to make a list of smaller\n",
        "# strings, discarding the i's in the process\n",
        "print(my_string.split('i'))\n",
        "\n",
        "# join each string in the list with a hyphen\n",
        "print('-'.join(['pre', 'synaptic']))\n",
        "\n",
        "# after splitting the string at the i's, join the pieces together again with i's\n",
        "print('i'.join(my_string.split('i')))"
      ],
      "execution_count": null,
      "outputs": [
        {
          "output_type": "stream",
          "text": [
            "APLYSIA CALIFORNICA\n",
            "True\n",
            "3\n",
            "Aplys!a cal!forn!ca\n",
            "['Aplys', 'a cal', 'forn', 'ca']\n",
            "pre-synaptic\n",
            "Aplysia californica\n"
          ],
          "name": "stdout"
        }
      ]
    },
    {
      "cell_type": "markdown",
      "metadata": {
        "id": "49_XtPs3VJnl",
        "colab_type": "text"
      },
      "source": [
        "Try to familiarize yourself with some of the list and string method functions by typing `my_list` or `my_string`, followed by a period, and then pausing for the pop-up listing of methods. Note that if the listing is long, as it will be for the string methods, you may need to scroll within the pop-up to see all the methods. Try using `?` to inspect some (e.g., `my_string.strip?`)."
      ]
    },
    {
      "cell_type": "markdown",
      "metadata": {
        "id": "XbviBW2WFEr1",
        "colab_type": "text"
      },
      "source": [
        "## Indexing and Slicing"
      ]
    },
    {
      "cell_type": "markdown",
      "metadata": {
        "id": "TmsfpWhcFChD",
        "colab_type": "text"
      },
      "source": [
        "Items in a list can be accessed by their position in the list using **indexing**, which is done using square brackets (`[]`) after the name of the list, with a position number given inside the brackets. The tricky thing to remember is that, like many other programming languages, **indexing starts from 0** in Python. That is, for our list `my_list`, to extract the first item of the list, you should use `my_list[0]`, not `my_list[1]`. If you are used to working with other languages that begin indexing with 1, such as MATLAB and Mathematica, this may take some getting used to!"
      ]
    },
    {
      "cell_type": "code",
      "metadata": {
        "id": "oCuo6EhJVLZh",
        "colab_type": "code",
        "colab": {
          "base_uri": "https://localhost:8080/",
          "height": 35
        },
        "outputId": "df958a3a-ba83-48bc-a179-39c6b514231b"
      },
      "source": [
        "# select the first item by index, which is in position 0\n",
        "my_list = [0, 10, 20, 30, 40, 50, 60, 70, 80]\n",
        "my_list[0]"
      ],
      "execution_count": null,
      "outputs": [
        {
          "output_type": "execute_result",
          "data": {
            "text/plain": [
              "0"
            ]
          },
          "metadata": {
            "tags": []
          },
          "execution_count": 35
        }
      ]
    },
    {
      "cell_type": "markdown",
      "metadata": {
        "id": "DSPqBpnYfB3w",
        "colab_type": "text"
      },
      "source": [
        "To access the second or third item in our list, you would use `my_list[1]` or `my_list[2]`, and so on. **In general, to access the *i*-th item in a list, you should use index *i-1*.**\n",
        "\n",
        "You can also use negative indices to count backwards from the end of a list. For example, to access the last item in a list, use index `-1`; the second-to-last item could be accessed with index `-2`, and so on."
      ]
    },
    {
      "cell_type": "code",
      "metadata": {
        "id": "kRBaweZbVU7V",
        "colab_type": "code",
        "colab": {
          "base_uri": "https://localhost:8080/",
          "height": 35
        },
        "outputId": "467d172f-4f32-4b42-b888-0627304224cf"
      },
      "source": [
        "# select the last item\n",
        "my_list = [0, 10, 20, 30, 40, 50, 60, 70, 80]\n",
        "my_list[-1]"
      ],
      "execution_count": null,
      "outputs": [
        {
          "output_type": "execute_result",
          "data": {
            "text/plain": [
              "80"
            ]
          },
          "metadata": {
            "tags": []
          },
          "execution_count": 36
        }
      ]
    },
    {
      "cell_type": "markdown",
      "metadata": {
        "id": "eJNKzCmJpG1t",
        "colab_type": "text"
      },
      "source": [
        "Indexing works on strings too:"
      ]
    },
    {
      "cell_type": "code",
      "metadata": {
        "id": "zQmySwczg_qH",
        "colab_type": "code",
        "colab": {
          "base_uri": "https://localhost:8080/",
          "height": 53
        },
        "outputId": "80a14b4c-6394-4079-ec32-8047c1c5edc9"
      },
      "source": [
        "# strings can be indexed just like lists\n",
        "my_string = \"The slug's ink ain't pink.\"\n",
        "print(f'The first character: {my_string[0]}')\n",
        "print(f'The last character:  {my_string[-1]}')"
      ],
      "execution_count": null,
      "outputs": [
        {
          "output_type": "stream",
          "text": [
            "The first character: T\n",
            "The last character:  .\n"
          ],
          "name": "stdout"
        }
      ]
    },
    {
      "cell_type": "markdown",
      "metadata": {
        "id": "ZWLTNLCJgEtC",
        "colab_type": "text"
      },
      "source": [
        "The concept of indexing can be extended to **slicing** a list, or extracting multiple items from it. To slice a list, provide two indices separated by a colon (`:`). There is another tricky thing to remember here, on top of indices starting with 0: **The item corresponding to the first index of the slice will be included in the result, but the item corresponding to the last index of the slice will not.** In other words, we can say that the first index is inclusive, and the last index is exclusive."
      ]
    },
    {
      "cell_type": "code",
      "metadata": {
        "id": "IdgQpOU3VsQR",
        "colab_type": "code",
        "colab": {
          "base_uri": "https://localhost:8080/",
          "height": 35
        },
        "outputId": "6c7e7215-d4ed-494d-cb3e-6fe60c7793e2"
      },
      "source": [
        "# select items in positions 1 (inclusive) through 4 (exclusive)\n",
        "my_list = [0, 10, 20, 30, 40, 50, 60, 70, 80]\n",
        "my_list[1:4]"
      ],
      "execution_count": null,
      "outputs": [
        {
          "output_type": "execute_result",
          "data": {
            "text/plain": [
              "[10, 20, 30]"
            ]
          },
          "metadata": {
            "tags": []
          },
          "execution_count": 38
        }
      ]
    },
    {
      "cell_type": "markdown",
      "metadata": {
        "id": "o-Yh_E0OqRJE",
        "colab_type": "text"
      },
      "source": [
        "Slicing works on strings too:"
      ]
    },
    {
      "cell_type": "code",
      "metadata": {
        "id": "WGJzpt38pUEn",
        "colab_type": "code",
        "colab": {
          "base_uri": "https://localhost:8080/",
          "height": 36
        },
        "outputId": "92b15311-f5e2-43f1-95d2-7e7e7f936946"
      },
      "source": [
        "# strings can be sliced just like lists\n",
        "my_string = \"The slug's ink ain't pink.\"\n",
        "my_string[4:8]"
      ],
      "execution_count": null,
      "outputs": [
        {
          "output_type": "execute_result",
          "data": {
            "application/vnd.google.colaboratory.intrinsic+json": {
              "type": "string"
            },
            "text/plain": [
              "'slug'"
            ]
          },
          "metadata": {
            "tags": []
          },
          "execution_count": 39
        }
      ]
    },
    {
      "cell_type": "markdown",
      "metadata": {
        "id": "RTGOeBTnm-KV",
        "colab_type": "text"
      },
      "source": [
        "A helpful way to think about slicing is given in the [official Python tutorial](https://docs.python.org/3/tutorial/introduction.html). This example refers to slicing into the string `\"Python\"`, but it applies to lists as well:\n",
        "\n",
        "> \"One way to remember how slices work is to think of the indices as pointing *between* characters, with the left edge of the first character numbered 0. Then the right edge of the last character of a string of *n* characters has index *n*, for example:\n",
        "```\n",
        " +---+---+---+---+---+---+\n",
        " | P | y | t | h | o | n |\n",
        " +---+---+---+---+---+---+\n",
        " 0   1   2   3   4   5   6\n",
        "-6  -5  -4  -3  -2  -1\n",
        "```\n",
        "The first row of numbers gives the position of the indices 0…6 in the string; the second row gives the corresponding negative indices. The slice from *i* to *j* consists of all characters between the edges labeled *i* and *j*, respectively.\"\n",
        "\n",
        "So, with `word = \"Python\"`, the substring `'Py'` could be extracted using `word[0:2]`:"
      ]
    },
    {
      "cell_type": "code",
      "metadata": {
        "id": "QSIS2MXwq6tT",
        "colab_type": "code",
        "colab": {
          "base_uri": "https://localhost:8080/",
          "height": 36
        },
        "outputId": "7fd1e12d-3fcb-4cbc-ff89-26c98b5cef15"
      },
      "source": [
        "word = \"Python\"\n",
        "word[0:2]"
      ],
      "execution_count": null,
      "outputs": [
        {
          "output_type": "execute_result",
          "data": {
            "application/vnd.google.colaboratory.intrinsic+json": {
              "type": "string"
            },
            "text/plain": [
              "'Py'"
            ]
          },
          "metadata": {
            "tags": []
          },
          "execution_count": 40
        }
      ]
    },
    {
      "cell_type": "markdown",
      "metadata": {
        "id": "4f6u1eDsrC_a",
        "colab_type": "text"
      },
      "source": [
        "When slicing, if the number before or after the colon is omitted, the slice will begin from the very beginning or go to the very end, respectively."
      ]
    },
    {
      "cell_type": "code",
      "metadata": {
        "id": "DlStQoCgrmxi",
        "colab_type": "code",
        "colab": {
          "base_uri": "https://localhost:8080/",
          "height": 35
        },
        "outputId": "998b4895-3b96-4e80-80cb-358cc6d47ef4"
      },
      "source": [
        "# select all items before position 2, excluding position 2\n",
        "my_list = [0, 10, 20, 30, 40, 50, 60, 70, 80]\n",
        "my_list[:2]"
      ],
      "execution_count": null,
      "outputs": [
        {
          "output_type": "execute_result",
          "data": {
            "text/plain": [
              "[0, 10]"
            ]
          },
          "metadata": {
            "tags": []
          },
          "execution_count": 41
        }
      ]
    },
    {
      "cell_type": "code",
      "metadata": {
        "id": "5vBwgDcyVYT6",
        "colab_type": "code",
        "colab": {
          "base_uri": "https://localhost:8080/",
          "height": 35
        },
        "outputId": "5fd97082-8dd4-4361-91f0-a65b15e652be"
      },
      "source": [
        "# select all items after position 2, including position 2\n",
        "my_list = [0, 10, 20, 30, 40, 50, 60, 70, 80]\n",
        "my_list[2:]"
      ],
      "execution_count": null,
      "outputs": [
        {
          "output_type": "execute_result",
          "data": {
            "text/plain": [
              "[20, 30, 40, 50, 60, 70, 80]"
            ]
          },
          "metadata": {
            "tags": []
          },
          "execution_count": 42
        }
      ]
    },
    {
      "cell_type": "code",
      "metadata": {
        "id": "fJYIXeDF2YQB",
        "colab_type": "code",
        "colab": {
          "base_uri": "https://localhost:8080/",
          "height": 35
        },
        "outputId": "a97d8fab-896e-4644-bcd7-36182b4dd64d"
      },
      "source": [
        "# omitting both indices selects the whole list\n",
        "my_list = [0, 10, 20, 30, 40, 50, 60, 70, 80]\n",
        "my_list[:]"
      ],
      "execution_count": null,
      "outputs": [
        {
          "output_type": "execute_result",
          "data": {
            "text/plain": [
              "[0, 10, 20, 30, 40, 50, 60, 70, 80]"
            ]
          },
          "metadata": {
            "tags": []
          },
          "execution_count": 43
        }
      ]
    },
    {
      "cell_type": "markdown",
      "metadata": {
        "id": "VlGVStrgsFmx",
        "colab_type": "text"
      },
      "source": [
        "You can even mix positive and negative indices when slicing."
      ]
    },
    {
      "cell_type": "code",
      "metadata": {
        "id": "UtAO-AlDsKJf",
        "colab_type": "code",
        "colab": {
          "base_uri": "https://localhost:8080/",
          "height": 35
        },
        "outputId": "f7050a97-555f-4abf-9e6e-52286db1f71f"
      },
      "source": [
        "# start from position 4 and go up to (but not including!) the second-to-last item\n",
        "my_list = [0, 10, 20, 30, 40, 50, 60, 70, 80]\n",
        "my_list[4:-2]"
      ],
      "execution_count": null,
      "outputs": [
        {
          "output_type": "execute_result",
          "data": {
            "text/plain": [
              "[40, 50, 60]"
            ]
          },
          "metadata": {
            "tags": []
          },
          "execution_count": 44
        }
      ]
    },
    {
      "cell_type": "markdown",
      "metadata": {
        "id": "g0hkyDiAsgLH",
        "colab_type": "text"
      },
      "source": [
        "When slicing, you can include a third number, separated from the second by a colon, that specifies a \"step size\", or how far to jump through the list between each selection. The complete slice notation looks like this: `[start:stop:step]`."
      ]
    },
    {
      "cell_type": "code",
      "metadata": {
        "id": "kZ2-bBiAVigy",
        "colab_type": "code",
        "colab": {
          "base_uri": "https://localhost:8080/",
          "height": 35
        },
        "outputId": "a206c356-8f6b-481e-abf5-b7da37a8ca6e"
      },
      "source": [
        "# select items in positions 0 (inclusive) through 6 (exclusive) in steps of 2\n",
        "my_list = [0, 10, 20, 30, 40, 50, 60, 70, 80]\n",
        "my_list[0:6:2]"
      ],
      "execution_count": null,
      "outputs": [
        {
          "output_type": "execute_result",
          "data": {
            "text/plain": [
              "[0, 20, 40]"
            ]
          },
          "metadata": {
            "tags": []
          },
          "execution_count": 45
        }
      ]
    },
    {
      "cell_type": "markdown",
      "metadata": {
        "id": "rA6Fej9bzgDf",
        "colab_type": "text"
      },
      "source": [
        "If the \"start\" or \"stop\" index is omitted, or if both are omitted, the behavior is as you would expect."
      ]
    },
    {
      "cell_type": "code",
      "metadata": {
        "id": "8ThlXwrxz8a5",
        "colab_type": "code",
        "colab": {
          "base_uri": "https://localhost:8080/",
          "height": 35
        },
        "outputId": "9ec96454-cf06-40b1-a762-80c696570818"
      },
      "source": [
        "# get every other item\n",
        "my_list = [0, 10, 20, 30, 40, 50, 60, 70, 80]\n",
        "my_list[::2]"
      ],
      "execution_count": null,
      "outputs": [
        {
          "output_type": "execute_result",
          "data": {
            "text/plain": [
              "[0, 20, 40, 60, 80]"
            ]
          },
          "metadata": {
            "tags": []
          },
          "execution_count": 46
        }
      ]
    },
    {
      "cell_type": "markdown",
      "metadata": {
        "id": "JGc9bMPC0CIC",
        "colab_type": "text"
      },
      "source": [
        "The step size can even be negative for advancing through the list backwards from the end. A common (and nearly inscrutable) trick for reversing a list is to use the slice notation `[::-1]`, which means \"in steps of 1 going backwards, start from the end of the list and go to the beginning\"."
      ]
    },
    {
      "cell_type": "code",
      "metadata": {
        "id": "0x04yXH8znUc",
        "colab_type": "code",
        "colab": {
          "base_uri": "https://localhost:8080/",
          "height": 35
        },
        "outputId": "3c9b8ff9-4d45-437a-9a57-65154eae852a"
      },
      "source": [
        "# reverse the list (using syntax no one will understand)\n",
        "my_list = [0, 10, 20, 30, 40, 50, 60, 70, 80]\n",
        "my_list[::-1]"
      ],
      "execution_count": null,
      "outputs": [
        {
          "output_type": "execute_result",
          "data": {
            "text/plain": [
              "[80, 70, 60, 50, 40, 30, 20, 10, 0]"
            ]
          },
          "metadata": {
            "tags": []
          },
          "execution_count": 47
        }
      ]
    },
    {
      "cell_type": "markdown",
      "metadata": {
        "id": "Wps6TAgJ0o5n",
        "colab_type": "text"
      },
      "source": [
        "This is almost the same as using the `reverse` method function, except that `reverse` permanently changes the list in-place, whereas the slicing approach does not change the list permanently."
      ]
    },
    {
      "cell_type": "code",
      "metadata": {
        "id": "2d2iLFAe0gkG",
        "colab_type": "code",
        "colab": {
          "base_uri": "https://localhost:8080/",
          "height": 35
        },
        "outputId": "e858f39f-2b8a-4bae-847f-0d1b3773c3a1"
      },
      "source": [
        "# similar to above, but my_list is permanently reversed\n",
        "# - if permanent reversal is what you need, reverse() is certainly easier to\n",
        "#   understand!\n",
        "# - if you wish to be obtuse for no reason, you could use\n",
        "#       my_list = my_list[::-1]\n",
        "#   and provide no comment explaining what it does, but I believe there is a\n",
        "#   special place in hell for people who do this\n",
        "my_list.reverse()\n",
        "my_list"
      ],
      "execution_count": null,
      "outputs": [
        {
          "output_type": "execute_result",
          "data": {
            "text/plain": [
              "[80, 70, 60, 50, 40, 30, 20, 10, 0]"
            ]
          },
          "metadata": {
            "tags": []
          },
          "execution_count": 48
        }
      ]
    },
    {
      "cell_type": "markdown",
      "metadata": {
        "id": "pqtguD6ds6BK",
        "colab_type": "text"
      },
      "source": [
        "If permanent reversal is what you need, `my_list.reverse()` is certainly easier to understand! If you wish to be obtuse for no reason, you could use `my_list = my_list[::-1]` and provide no comment explaining what it does, but I believe there is a special place in hell for people who do this.\n",
        "\n",
        "Lists do not need to be composed of objects of just one type, and lists can be nested inside of other lists."
      ]
    },
    {
      "cell_type": "code",
      "metadata": {
        "id": "T76aU2cLVF_2",
        "colab_type": "code",
        "colab": {
          "base_uri": "https://localhost:8080/",
          "height": 35
        },
        "outputId": "97908e17-53a7-4917-c8ab-a8aed31a155e"
      },
      "source": [
        "# create a new list of objects of different types, including another list\n",
        "my_list = [0, 10, 20, 30, 40, 50, 60, 70, 80]\n",
        "another_list = ['a', 4.5, my_list]\n",
        "another_list"
      ],
      "execution_count": null,
      "outputs": [
        {
          "output_type": "execute_result",
          "data": {
            "text/plain": [
              "['a', 4.5, [0, 10, 20, 30, 40, 50, 60, 70, 80]]"
            ]
          },
          "metadata": {
            "tags": []
          },
          "execution_count": 49
        }
      ]
    },
    {
      "cell_type": "markdown",
      "metadata": {
        "id": "mmyl1FCStJEp",
        "colab_type": "text"
      },
      "source": [
        "To index or slice into a nested list, chain together multiple square bracket selections."
      ]
    },
    {
      "cell_type": "code",
      "metadata": {
        "id": "BfWhKtBTWptg",
        "colab_type": "code",
        "colab": {
          "base_uri": "https://localhost:8080/",
          "height": 35
        },
        "outputId": "64546479-f2c9-4635-b941-32882cc6722d"
      },
      "source": [
        "# select the item in position 2 (my_list), then select the item in its position 3\n",
        "another_list[2][3]"
      ],
      "execution_count": null,
      "outputs": [
        {
          "output_type": "execute_result",
          "data": {
            "text/plain": [
              "30"
            ]
          },
          "metadata": {
            "tags": []
          },
          "execution_count": 50
        }
      ]
    },
    {
      "cell_type": "markdown",
      "metadata": {
        "id": "oAipMXdUtdLT",
        "colab_type": "text"
      },
      "source": [
        "Items inside a list (even nested lists) can be changed using indexing. For example, this code changes the last item in the nested list:"
      ]
    },
    {
      "cell_type": "code",
      "metadata": {
        "id": "8_y1ML13W5Fa",
        "colab_type": "code",
        "colab": {
          "base_uri": "https://localhost:8080/",
          "height": 35
        },
        "outputId": "87d8c97f-257a-46f8-883e-fb4f8bab5854"
      },
      "source": [
        "# change an item\n",
        "another_list[2][-1] = 9999\n",
        "another_list"
      ],
      "execution_count": null,
      "outputs": [
        {
          "output_type": "execute_result",
          "data": {
            "text/plain": [
              "['a', 4.5, [0, 10, 20, 30, 40, 50, 60, 70, 9999]]"
            ]
          },
          "metadata": {
            "tags": []
          },
          "execution_count": 51
        }
      ]
    },
    {
      "cell_type": "markdown",
      "metadata": {
        "id": "jt4yZBSqtqaI",
        "colab_type": "text"
      },
      "source": [
        "When a named list (`my_list`) is contained within another list (`another_list`) in this way and an item in the inner list is changed like above, that change affects the original list too because the second list simply contains a reference to the first, rather than a separate copy of the data."
      ]
    },
    {
      "cell_type": "code",
      "metadata": {
        "id": "oB2qkEz5XJwA",
        "colab_type": "code",
        "colab": {
          "base_uri": "https://localhost:8080/",
          "height": 35
        },
        "outputId": "b97024a9-f495-4e10-94ce-913b70f2f5b2"
      },
      "source": [
        "# the original list (my_list) is changed too because another_list contains a reference to it\n",
        "my_list"
      ],
      "execution_count": null,
      "outputs": [
        {
          "output_type": "execute_result",
          "data": {
            "text/plain": [
              "[0, 10, 20, 30, 40, 50, 60, 70, 9999]"
            ]
          },
          "metadata": {
            "tags": []
          },
          "execution_count": 52
        }
      ]
    },
    {
      "cell_type": "markdown",
      "metadata": {
        "id": "9lZbiQO9FQcB",
        "colab_type": "text"
      },
      "source": [
        "## Tuples"
      ]
    },
    {
      "cell_type": "markdown",
      "metadata": {
        "id": "b-f12iI5uYNF",
        "colab_type": "text"
      },
      "source": [
        "**Tuples** are another data type for storing sequences. They are similar to lists in many ways, but tuples are created using parentheses (`()`) rather than brackets."
      ]
    },
    {
      "cell_type": "code",
      "metadata": {
        "id": "kZCTXkBJXcMv",
        "colab_type": "code",
        "colab": {
          "base_uri": "https://localhost:8080/",
          "height": 35
        },
        "outputId": "c1ef84b3-56e7-430e-fc63-45d558ddf176"
      },
      "source": [
        "# create a new tuple using parentheses\n",
        "my_tuple = ('a', 'b', 'c')\n",
        "my_tuple"
      ],
      "execution_count": null,
      "outputs": [
        {
          "output_type": "execute_result",
          "data": {
            "text/plain": [
              "('a', 'b', 'c')"
            ]
          },
          "metadata": {
            "tags": []
          },
          "execution_count": 53
        }
      ]
    },
    {
      "cell_type": "markdown",
      "metadata": {
        "id": "ReoRI15-vgOm",
        "colab_type": "text"
      },
      "source": [
        "Indexing and slicing into tuples works just like lists and strings."
      ]
    },
    {
      "cell_type": "code",
      "metadata": {
        "id": "LOUOGmu3XuuC",
        "colab_type": "code",
        "colab": {
          "base_uri": "https://localhost:8080/",
          "height": 36
        },
        "outputId": "995fb8e5-1d0f-4d40-fbe7-48ad05aaca4d"
      },
      "source": [
        "# select items in tuples just like lists\n",
        "my_tuple[0]"
      ],
      "execution_count": null,
      "outputs": [
        {
          "output_type": "execute_result",
          "data": {
            "application/vnd.google.colaboratory.intrinsic+json": {
              "type": "string"
            },
            "text/plain": [
              "'a'"
            ]
          },
          "metadata": {
            "tags": []
          },
          "execution_count": 54
        }
      ]
    },
    {
      "cell_type": "markdown",
      "metadata": {
        "id": "Tmz6hoSWvl1j",
        "colab_type": "text"
      },
      "source": [
        "A critical difference between lists and tuples, and between lists and strings, is that **tuples and strings are immutable**, which means they cannot be changed after creation, in some technical sense of \"changed\". Here's an example of an illegal operation:"
      ]
    },
    {
      "cell_type": "code",
      "metadata": {
        "id": "73IjwdRVX1NM",
        "colab_type": "code",
        "colab": {
          "base_uri": "https://localhost:8080/",
          "height": 189
        },
        "outputId": "4fb93baa-ea46-48a8-d99f-930bce589d5c"
      },
      "source": [
        "# tuples are immutable, meaning they are not allowed to be changed after creation\n",
        "my_tuple[0] = 1 # this causes an error!"
      ],
      "execution_count": null,
      "outputs": [
        {
          "output_type": "error",
          "ename": "TypeError",
          "evalue": "ignored",
          "traceback": [
            "\u001b[0;31m---------------------------------------------------------------------------\u001b[0m",
            "\u001b[0;31mTypeError\u001b[0m                                 Traceback (most recent call last)",
            "\u001b[0;32m<ipython-input-55-717f5355b3b8>\u001b[0m in \u001b[0;36m<module>\u001b[0;34m()\u001b[0m\n\u001b[1;32m      1\u001b[0m \u001b[0;31m# tuples are immutable, meaning they are not allowed to be changed after creation\u001b[0m\u001b[0;34m\u001b[0m\u001b[0;34m\u001b[0m\u001b[0;34m\u001b[0m\u001b[0m\n\u001b[0;32m----> 2\u001b[0;31m \u001b[0mmy_tuple\u001b[0m\u001b[0;34m[\u001b[0m\u001b[0;36m0\u001b[0m\u001b[0;34m]\u001b[0m \u001b[0;34m=\u001b[0m \u001b[0;36m1\u001b[0m \u001b[0;31m# this causes an error!\u001b[0m\u001b[0;34m\u001b[0m\u001b[0;34m\u001b[0m\u001b[0m\n\u001b[0m",
            "\u001b[0;31mTypeError\u001b[0m: 'tuple' object does not support item assignment"
          ]
        }
      ]
    },
    {
      "cell_type": "markdown",
      "metadata": {
        "id": "tX0uj0vgE34K",
        "colab_type": "text"
      },
      "source": [
        "The reasons that immutability is a useful quality of tuples, which motivates the necessity for both lists and tuples existing in the language, are a bit technical but will be touched on later when we discuss dictionaries."
      ]
    },
    {
      "cell_type": "markdown",
      "metadata": {
        "id": "4XGwx7iWE48v",
        "colab_type": "text"
      },
      "source": [
        "## Lists vs. Tuples"
      ]
    },
    {
      "cell_type": "markdown",
      "metadata": {
        "id": "wLPZrITpvwFi",
        "colab_type": "text"
      },
      "source": [
        "In practice, conventions ofter determine whether an experienced Python programmer uses a list or a tuple when either could do the job. These conventions are not enforced by the language, but are common enough to mention here:\n",
        "* Sequences of **homogeneous data** (data of one type), for which the **positions of the values are not intrinsically meaningful**, are usually stored as **lists**.\n",
        "    * For example, a collection of height measurements of people could be stored in a list. Although the first measurement in the list obviously belongs to one person and the second belongs to another, this ordering is not essential on a conceptional level. You could swap the order of people without it mattering.\n",
        "* Sequences of **heterogeneous data** (data of different types), or sequences for which the **positions of the values is intrinsically meaningful**, are usually stored as **tuples**.\n",
        "    * Examples of the latter would be a pair of strings for first and last name, or an ordered pair of numbers representing a coordinate in space.\n",
        "    * An example of the former would be a collection of data about a person, such as name (string) and age (integer), which is expected to have a certain ordering, such as name first, age second.\n",
        "\n",
        "Here is an example where both conventions are in play at the same time:"
      ]
    },
    {
      "cell_type": "code",
      "metadata": {
        "id": "sBM8MA8X9L-n",
        "colab_type": "code",
        "colab": {}
      },
      "source": [
        "species_data = [\n",
        "    # genus, species, date named, common name\n",
        "    ('Aplysia',     'californica', 1863, 'California sea hare'),\n",
        "    ('Macrocystis', 'pyrifera',    1820, 'Giant kelp'),\n",
        "    ('Pagurus',     'samuelis',    1857, 'Blueband hermit crab'),\n",
        "]"
      ],
      "execution_count": null,
      "outputs": []
    },
    {
      "cell_type": "markdown",
      "metadata": {
        "id": "0q2Z48KkARaA",
        "colab_type": "text"
      },
      "source": [
        "The object `species_data` is a list. The three items it contains are not in some essential order. The use of a list here, rather than a tuple, signals (by convention) to good programmers that code which uses `species_data` is expected to be able to handle the list changing through the addition or removal of species from the list.\n",
        "\n",
        "The items inside the list are tuples. Each tuple is composed of exactly four pieces of data, including a mix of strings and integers, and always in the same order: a genus name, a species name, the year the species was given its formal scientific name, and the common name for the species. The use of tuples here, rather than lists, signals (by convention) to good programmers that this order is essential and may be relied upon in some other code, so swapping the names and dates around could cause problems.\n",
        "\n",
        "A consequence of this convention is that if we try to access `species_data[2][0]` through indexing, we may not always know which species we will find in position 2, but we can be confident that we are accessing its genus name. This is important when looping through lists (more on that later).\n",
        "\n",
        "At a technical level, the tuples here *could* have been lists. In fact, if the values needed to change, they would have to be lists. Likewise, the list could have been a tuple, so long as the tuple did not need to be modified after creation. Ultimately, it is a long-standing convention to do it the way shown above, and, if adhered to, it signals to people reading or using your code how you intend the data object to be handled.\n",
        "\n",
        "As a final point, lists can be converted to tuples using the built-in `tuple()` function, and tuples can be converted to lists using the built-in `list()` function:"
      ]
    },
    {
      "cell_type": "code",
      "metadata": {
        "id": "x45E7l1fYySD",
        "colab_type": "code",
        "colab": {
          "base_uri": "https://localhost:8080/",
          "height": 53
        },
        "outputId": "a0e9a10b-1725-49e8-df96-c6f12e9723ae"
      },
      "source": [
        "# the built-in list() and tuple() functions can be used to convert one type to the other\n",
        "# - note = is needed for my_tuple or my_list to permanently change\n",
        "print(list(my_tuple))\n",
        "print(tuple(my_list))"
      ],
      "execution_count": null,
      "outputs": [
        {
          "output_type": "stream",
          "text": [
            "['a', 'b', 'c']\n",
            "(0, 10, 20, 30, 40, 50, 60, 70, 9999)\n"
          ],
          "name": "stdout"
        }
      ]
    },
    {
      "cell_type": "markdown",
      "metadata": {
        "id": "bS8YcdMMa1CS",
        "colab_type": "text"
      },
      "source": [
        "## For Loops and List Comprehensions"
      ]
    },
    {
      "cell_type": "markdown",
      "metadata": {
        "id": "Lyf7B6WmM7cw",
        "colab_type": "text"
      },
      "source": [
        "A `for` loop can **iterate** over a list or tuple, performing calculations for each item in the sequence. Like `if` statements, `for` loops require a **colon** to terminate the first line and consistent **indentation** (typically four spaces) below it for the block of code that will be executed for each item in the sequence. Each item in the sequence is assigned a temporary variable name that can be used within the block. In the example below, this temporary variable is called `i`:"
      ]
    },
    {
      "cell_type": "code",
      "metadata": {
        "id": "1Kyl_55hbB_N",
        "colab_type": "code",
        "colab": {
          "base_uri": "https://localhost:8080/",
          "height": 126
        },
        "outputId": "0c10c9f7-f101-42dc-f76f-4a4a7ae3e81d"
      },
      "source": [
        "my_list = [0, 1, 2, 3, 4, 5]\n",
        "\n",
        "# print the square of each item in my_list\n",
        "# - colon and indentation are important!\n",
        "for i in my_list:\n",
        "    print(i**2)"
      ],
      "execution_count": null,
      "outputs": [
        {
          "output_type": "stream",
          "text": [
            "0\n",
            "1\n",
            "4\n",
            "9\n",
            "16\n",
            "25\n"
          ],
          "name": "stdout"
        }
      ]
    },
    {
      "cell_type": "markdown",
      "metadata": {
        "id": "fyCBH9N3CEUq",
        "colab_type": "text"
      },
      "source": [
        "Be careful what name you give the iterator variable, since its value will be overwritten again and again with the items in the sequence. If the variable had a value before the `for` loop, it will be lost, which may not be what you intended."
      ]
    },
    {
      "cell_type": "code",
      "metadata": {
        "id": "I94RaX5vCMW0",
        "colab_type": "code",
        "colab": {
          "base_uri": "https://localhost:8080/",
          "height": 162
        },
        "outputId": "e4951b54-a87c-41d8-a25b-018621b99ca9"
      },
      "source": [
        "i = 'abc'\n",
        "print(f'i at the start = {i}')\n",
        "\n",
        "for i in my_list:\n",
        "    print(i**2)\n",
        "\n",
        "print(f'i at the end = {i}')"
      ],
      "execution_count": null,
      "outputs": [
        {
          "output_type": "stream",
          "text": [
            "i at the start = abc\n",
            "0\n",
            "1\n",
            "4\n",
            "9\n",
            "16\n",
            "25\n",
            "i at the end = 5\n"
          ],
          "name": "stdout"
        }
      ]
    },
    {
      "cell_type": "markdown",
      "metadata": {
        "id": "iWMTke1JISYU",
        "colab_type": "text"
      },
      "source": [
        "If you wanted to store a result from each step of the `for` loop in another list, one way you could do it is\n",
        "\n",
        "1. Initialize another variable as an empty list (`another_list = []`), and then\n",
        "2. Append a result to the new list in each step (`another_list.append`).\n",
        "\n",
        "For example:"
      ]
    },
    {
      "cell_type": "code",
      "metadata": {
        "id": "-8EBseAebY9r",
        "colab_type": "code",
        "colab": {
          "base_uri": "https://localhost:8080/",
          "height": 35
        },
        "outputId": "79f2b3d6-5fa1-49eb-8131-1022d34d9799"
      },
      "source": [
        "another_list = []\n",
        "for i in my_list:\n",
        "    another_list.append(i**2)\n",
        "\n",
        "another_list"
      ],
      "execution_count": null,
      "outputs": [
        {
          "output_type": "execute_result",
          "data": {
            "text/plain": [
              "[0, 1, 4, 9, 16, 25]"
            ]
          },
          "metadata": {
            "tags": []
          },
          "execution_count": 60
        }
      ]
    },
    {
      "cell_type": "markdown",
      "metadata": {
        "id": "9g7pL0jNJQqJ",
        "colab_type": "text"
      },
      "source": [
        "If the calculation of the result (in this example, squaring `i`) is fairly simple, you can perform the same work using a more concise notation called **list comprehension**. The simplest version of list comprehension takes the form `[f(i) for i in my_list]`, where `f(i)` is some function or transformation of the list item `i`. Notice list comprehensions are enclosed in square brackets (`[]`) because they create lists. Here is a list comprehension equivalent to the example above:"
      ]
    },
    {
      "cell_type": "code",
      "metadata": {
        "id": "WlNapIW2dv97",
        "colab_type": "code",
        "colab": {
          "base_uri": "https://localhost:8080/",
          "height": 35
        },
        "outputId": "ca1ec804-1e3b-47ee-d8ea-5b9f636578e0"
      },
      "source": [
        "# basic list comprehension\n",
        "# - this means \"square the item for each item in my_list\"\n",
        "another_list = [i**2 for i in my_list]\n",
        "another_list"
      ],
      "execution_count": null,
      "outputs": [
        {
          "output_type": "execute_result",
          "data": {
            "text/plain": [
              "[0, 1, 4, 9, 16, 25]"
            ]
          },
          "metadata": {
            "tags": []
          },
          "execution_count": 61
        }
      ]
    },
    {
      "cell_type": "markdown",
      "metadata": {
        "id": "NlkBlgvEKoIF",
        "colab_type": "text"
      },
      "source": [
        "All of the work is completed in a single line of code. Elegant!\n",
        "\n",
        "List comprehensions can be more complex than this. Suppose we modified the `for` loop to append a result only if the list item is an even number (`i % 2 == 0` means that `i` divided by 2 must have a remainder of 0):"
      ]
    },
    {
      "cell_type": "code",
      "metadata": {
        "id": "OgWt2BQ6K1tk",
        "colab_type": "code",
        "colab": {
          "base_uri": "https://localhost:8080/",
          "height": 35
        },
        "outputId": "de817267-6ae7-4a77-c62a-371961db5fb2"
      },
      "source": [
        "another_list = []\n",
        "for i in my_list:\n",
        "    if i % 2 == 0:\n",
        "        # append only if i is even\n",
        "        another_list.append(i**2)\n",
        "\n",
        "# the squares of 0, 2, 4\n",
        "another_list"
      ],
      "execution_count": null,
      "outputs": [
        {
          "output_type": "execute_result",
          "data": {
            "text/plain": [
              "[0, 4, 16]"
            ]
          },
          "metadata": {
            "tags": []
          },
          "execution_count": 62
        }
      ]
    },
    {
      "cell_type": "markdown",
      "metadata": {
        "id": "ZzofzI3DLF5F",
        "colab_type": "text"
      },
      "source": [
        "To do this with list comprehension, just add `if i % 2 == 0` to the end:"
      ]
    },
    {
      "cell_type": "code",
      "metadata": {
        "id": "zuJ_V2ene2dd",
        "colab_type": "code",
        "colab": {
          "base_uri": "https://localhost:8080/",
          "height": 35
        },
        "outputId": "6594cfd7-976a-479e-91dc-a0af0dc8af9e"
      },
      "source": [
        "# list comprehension with conditional\n",
        "# - this means \"square the item for each item in my_list if it is even (otherwise skip it)\"\n",
        "another_list = [i**2 for i in my_list if i % 2 == 0]\n",
        "another_list"
      ],
      "execution_count": null,
      "outputs": [
        {
          "output_type": "execute_result",
          "data": {
            "text/plain": [
              "[0, 4, 16]"
            ]
          },
          "metadata": {
            "tags": []
          },
          "execution_count": 63
        }
      ]
    },
    {
      "cell_type": "markdown",
      "metadata": {
        "id": "vue1exdmLRKt",
        "colab_type": "text"
      },
      "source": [
        "Suppose we modify the `for` loop further to perform a different calculation if the list item is an odd number:"
      ]
    },
    {
      "cell_type": "code",
      "metadata": {
        "id": "gvy65vvMLZMP",
        "colab_type": "code",
        "colab": {
          "base_uri": "https://localhost:8080/",
          "height": 35
        },
        "outputId": "5c057407-2752-421f-ef60-470b2f3237b4"
      },
      "source": [
        "another_list = []\n",
        "for i in my_list:\n",
        "    if i % 2 == 0:\n",
        "        # square if i is even\n",
        "        another_list.append(i**2)\n",
        "    else:\n",
        "        # add 100 if i is odd\n",
        "        another_list.append(i+100)\n",
        "\n",
        "another_list"
      ],
      "execution_count": null,
      "outputs": [
        {
          "output_type": "execute_result",
          "data": {
            "text/plain": [
              "[0, 101, 4, 103, 16, 105]"
            ]
          },
          "metadata": {
            "tags": []
          },
          "execution_count": 64
        }
      ]
    },
    {
      "cell_type": "markdown",
      "metadata": {
        "id": "yACuxW0pLiie",
        "colab_type": "text"
      },
      "source": [
        "This can be done with list comprehension by moving the `if i % 2 == 0` to an earlier position, just after `i**2`, and adding `else i+100`:"
      ]
    },
    {
      "cell_type": "code",
      "metadata": {
        "id": "IXgkEuppekHU",
        "colab_type": "code",
        "colab": {
          "base_uri": "https://localhost:8080/",
          "height": 35
        },
        "outputId": "f7a5fea1-d309-47c2-d462-b4a7f258b00f"
      },
      "source": [
        "# list comprehension with complex conditional\n",
        "# - this means \"square the item if it is even, otherwise add 100 to it, for each item in my_list\"\n",
        "another_list = [i**2 if i%2==0 else i+100 for i in my_list]\n",
        "another_list"
      ],
      "execution_count": null,
      "outputs": [
        {
          "output_type": "execute_result",
          "data": {
            "text/plain": [
              "[0, 101, 4, 103, 16, 105]"
            ]
          },
          "metadata": {
            "tags": []
          },
          "execution_count": 65
        }
      ]
    },
    {
      "cell_type": "markdown",
      "metadata": {
        "id": "d-rCAUbyL7qc",
        "colab_type": "text"
      },
      "source": [
        "The results stored in `another_list` could be something other than a calculation using `i`. For example, strings:"
      ]
    },
    {
      "cell_type": "code",
      "metadata": {
        "id": "-U7WjGFQMQol",
        "colab_type": "code",
        "colab": {
          "base_uri": "https://localhost:8080/",
          "height": 126
        },
        "outputId": "da9b507f-ba5e-4d63-8813-91ed92a7ebf1"
      },
      "source": [
        "# this means \"store the string 'less than 2' if the item is less than 2, otherwise store '2 or greater', for each item in my_list\"\n",
        "another_list = ['less than 2' if i < 2 else '2 or greater' for i in my_list]\n",
        "another_list"
      ],
      "execution_count": null,
      "outputs": [
        {
          "output_type": "execute_result",
          "data": {
            "text/plain": [
              "['less than 2',\n",
              " 'less than 2',\n",
              " '2 or greater',\n",
              " '2 or greater',\n",
              " '2 or greater',\n",
              " '2 or greater']"
            ]
          },
          "metadata": {
            "tags": []
          },
          "execution_count": 66
        }
      ]
    },
    {
      "cell_type": "markdown",
      "metadata": {
        "id": "AMA_yUr1UZqi",
        "colab_type": "text"
      },
      "source": [
        "## While Loops"
      ]
    },
    {
      "cell_type": "markdown",
      "metadata": {
        "id": "hSR1KkbVUYMI",
        "colab_type": "text"
      },
      "source": [
        "A `while` loop is another way to repeatedly perform calculations. Whereas `for` loops execute code for each item in a sequence, `while` loops execute code for as long as a condition is true. For example:"
      ]
    },
    {
      "cell_type": "code",
      "metadata": {
        "id": "pCV4Jl9KgvR3",
        "colab_type": "code",
        "colab": {
          "base_uri": "https://localhost:8080/",
          "height": 126
        },
        "outputId": "18e829c0-c7ed-4045-bca5-c835df7046fe"
      },
      "source": [
        "x = 0\n",
        "\n",
        "while x < 5:\n",
        "    print(x)\n",
        "    x = x + 1\n",
        "\n",
        "print(f'final value of x = {x}')"
      ],
      "execution_count": null,
      "outputs": [
        {
          "output_type": "stream",
          "text": [
            "0\n",
            "1\n",
            "2\n",
            "3\n",
            "4\n",
            "final value of x = 5\n"
          ],
          "name": "stdout"
        }
      ]
    },
    {
      "cell_type": "markdown",
      "metadata": {
        "id": "EGhAoW-IVEzb",
        "colab_type": "text"
      },
      "source": [
        "Generally, this means that the code within the `while` loop should take steps toward making the condition no longer true, even if it is unknown ahead of time how many steps that may require. In the simple example above, `x` was incremented each step until `x` was no longer less than 5. A more practical example would be a piece of code that reads a text file of unknown length one line at a time using a `while` loop that continues until a request for the next line yields nothing.\n",
        "\n",
        "Be warned: **If the condition never ceases to be true, the `while` loop will never stop**, which is probably not what you want!\n",
        "\n",
        "Try executing the code cell below, which will start an infinite loop because `x` is never incremented. You will see the icon in the left margin of the code cell spin and spin endlessly as the computer keeps executing the code within the `while` loop again and again, never stopping because the condition `x < 5` never stops being true. For this to end, you must **manually interrupt the code execution**, which you can do two ways:\n",
        "\n",
        "1. Click the spinning stop icon in the left margin, or\n",
        "2. Use the \"Runtime\" menu at the top of the page and click \"Interrupt execution\".\n",
        "\n",
        "Colab executes cells one at a time, so until you interrupt the execution of this cell, you will not be able to run any other code!"
      ]
    },
    {
      "cell_type": "code",
      "metadata": {
        "id": "ioSBMMcFVdvF",
        "colab_type": "code",
        "colab": {
          "base_uri": "https://localhost:8080/",
          "height": 207
        },
        "outputId": "a59bcb1a-8904-4c41-cfd4-acae27d0a952"
      },
      "source": [
        "x = 0\n",
        "while x < 5:\n",
        "    pass # do nothing"
      ],
      "execution_count": null,
      "outputs": [
        {
          "output_type": "error",
          "ename": "KeyboardInterrupt",
          "evalue": "ignored",
          "traceback": [
            "\u001b[0;31m---------------------------------------------------------------------------\u001b[0m",
            "\u001b[0;31mKeyboardInterrupt\u001b[0m                         Traceback (most recent call last)",
            "\u001b[0;32m<ipython-input-68-51a0816648ba>\u001b[0m in \u001b[0;36m<module>\u001b[0;34m()\u001b[0m\n\u001b[1;32m      1\u001b[0m \u001b[0mx\u001b[0m \u001b[0;34m=\u001b[0m \u001b[0;36m0\u001b[0m\u001b[0;34m\u001b[0m\u001b[0;34m\u001b[0m\u001b[0m\n\u001b[0;32m----> 2\u001b[0;31m \u001b[0;32mwhile\u001b[0m \u001b[0mx\u001b[0m \u001b[0;34m<\u001b[0m \u001b[0;36m5\u001b[0m\u001b[0;34m:\u001b[0m\u001b[0;34m\u001b[0m\u001b[0;34m\u001b[0m\u001b[0m\n\u001b[0m\u001b[1;32m      3\u001b[0m     \u001b[0;32mpass\u001b[0m \u001b[0;31m# do nothing\u001b[0m\u001b[0;34m\u001b[0m\u001b[0;34m\u001b[0m\u001b[0m\n",
            "\u001b[0;31mKeyboardInterrupt\u001b[0m: "
          ]
        }
      ]
    },
    {
      "cell_type": "markdown",
      "metadata": {
        "id": "v0G2rk3FUSWn",
        "colab_type": "text"
      },
      "source": [
        "## Dictionaries"
      ]
    },
    {
      "cell_type": "markdown",
      "metadata": {
        "id": "mIUlVjvWZOXA",
        "colab_type": "text"
      },
      "source": [
        "Dictionaries are another important data type in Python. Dictionaries store **key-value pairs**, where each piece of data (the **value**) is assigned a name (the **key**) for easy access.\n",
        "\n",
        "Dictionaries are created using curly braces (`{}`). (This is different from the use of curly braces in f-strings!) Inside of the curly braces, key-value pairs are separated from one another by commas, and colons separate each key from its value. For example:"
      ]
    },
    {
      "cell_type": "code",
      "metadata": {
        "id": "nKfPDIKqh4_C",
        "colab_type": "code",
        "colab": {
          "base_uri": "https://localhost:8080/",
          "height": 35
        },
        "outputId": "8ed908a8-1890-44b4-c96d-964b175f49b7"
      },
      "source": [
        "# create a new dictionary using curly braces {}\n",
        "my_dict = {'genus': 'Aplysia', 'species': 'californica', 'mass': 150}\n",
        "my_dict"
      ],
      "execution_count": null,
      "outputs": [
        {
          "output_type": "execute_result",
          "data": {
            "text/plain": [
              "{'genus': 'Aplysia', 'mass': 150, 'species': 'californica'}"
            ]
          },
          "metadata": {
            "tags": []
          },
          "execution_count": 69
        }
      ]
    },
    {
      "cell_type": "markdown",
      "metadata": {
        "id": "_ZEE8hQibFPk",
        "colab_type": "text"
      },
      "source": [
        "The syntax for extracting a piece of data from a dictionary is similar to indexing into lists. It uses square brackets after the dictionary name (not curly braces like you might guess), but instead of a number indicating position, a key should be provided."
      ]
    },
    {
      "cell_type": "code",
      "metadata": {
        "id": "qKgS91s1iND3",
        "colab_type": "code",
        "colab": {
          "base_uri": "https://localhost:8080/",
          "height": 36
        },
        "outputId": "ab0331a3-7c26-4ab1-bc9f-cb34f74f1ea1"
      },
      "source": [
        "# select items by key\n",
        "my_dict['species']"
      ],
      "execution_count": null,
      "outputs": [
        {
          "output_type": "execute_result",
          "data": {
            "application/vnd.google.colaboratory.intrinsic+json": {
              "type": "string"
            },
            "text/plain": [
              "'californica'"
            ]
          },
          "metadata": {
            "tags": []
          },
          "execution_count": 70
        }
      ]
    },
    {
      "cell_type": "markdown",
      "metadata": {
        "id": "CDTTCM4Ybb1b",
        "colab_type": "text"
      },
      "source": [
        "Like changing the value of an item in a list via its index, the value of an item in a dictionary can be changed via its key:"
      ]
    },
    {
      "cell_type": "code",
      "metadata": {
        "id": "2Zv5Pku-iVnH",
        "colab_type": "code",
        "colab": {
          "base_uri": "https://localhost:8080/",
          "height": 35
        },
        "outputId": "b60d24cd-1697-4edd-d89e-cd75f39db9f5"
      },
      "source": [
        "# change values by key\n",
        "my_dict['mass'] = 300\n",
        "my_dict"
      ],
      "execution_count": null,
      "outputs": [
        {
          "output_type": "execute_result",
          "data": {
            "text/plain": [
              "{'genus': 'Aplysia', 'mass': 300, 'species': 'californica'}"
            ]
          },
          "metadata": {
            "tags": []
          },
          "execution_count": 71
        }
      ]
    },
    {
      "cell_type": "markdown",
      "metadata": {
        "id": "7KMxLle5bpKn",
        "colab_type": "text"
      },
      "source": [
        "New key-value pairs can be added to a dictionary the same way. In fact, you can start with an empty dictionary and build it up one key-value pair at a time:"
      ]
    },
    {
      "cell_type": "code",
      "metadata": {
        "id": "ED2BXEonb0Y2",
        "colab_type": "code",
        "colab": {
          "base_uri": "https://localhost:8080/",
          "height": 35
        },
        "outputId": "82070688-e7ac-4eec-9de5-824da7061443"
      },
      "source": [
        "my_dict2 = {}\n",
        "\n",
        "my_dict2['genus'] = 'Aplysia'\n",
        "my_dict2['species'] = 'californica'\n",
        "my_dict2['mass'] = 300\n",
        "\n",
        "my_dict2"
      ],
      "execution_count": null,
      "outputs": [
        {
          "output_type": "execute_result",
          "data": {
            "text/plain": [
              "{'genus': 'Aplysia', 'mass': 300, 'species': 'californica'}"
            ]
          },
          "metadata": {
            "tags": []
          },
          "execution_count": 72
        }
      ]
    },
    {
      "cell_type": "markdown",
      "metadata": {
        "id": "-Ku9Y5v1ajF6",
        "colab_type": "text"
      },
      "source": [
        "Values can have any data type. Most basic data types are valid for keys too, but an important exception is lists: **lists are not allowed to be dictionary keys**. Tuples, on the other hand, are allowed to be keys. This is because keys must be immutable (uneditable), which is a property that tuples have but lists do not."
      ]
    },
    {
      "cell_type": "code",
      "metadata": {
        "id": "84vyRC8ydXow",
        "colab_type": "code",
        "colab": {
          "base_uri": "https://localhost:8080/",
          "height": 207
        },
        "outputId": "10ed0aa0-278c-45df-d533-9c04579ad2de"
      },
      "source": [
        "# lists cannot be keys, so this is NOT allowed\n",
        "# - the error \"unhashable type\" is a consequence of the fact that lists are not immutable (they can be changed)\n",
        "my_dict2[['x', 'y', 'z']] = [1, 2, 3]"
      ],
      "execution_count": null,
      "outputs": [
        {
          "output_type": "error",
          "ename": "TypeError",
          "evalue": "ignored",
          "traceback": [
            "\u001b[0;31m---------------------------------------------------------------------------\u001b[0m",
            "\u001b[0;31mTypeError\u001b[0m                                 Traceback (most recent call last)",
            "\u001b[0;32m<ipython-input-73-660271824196>\u001b[0m in \u001b[0;36m<module>\u001b[0;34m()\u001b[0m\n\u001b[1;32m      1\u001b[0m \u001b[0;31m# lists cannot be keys, so this is NOT allowed\u001b[0m\u001b[0;34m\u001b[0m\u001b[0;34m\u001b[0m\u001b[0;34m\u001b[0m\u001b[0m\n\u001b[1;32m      2\u001b[0m \u001b[0;31m# - the error \"unhashable type\" is a consequence of the fact that lists are not immutable (they can be changed)\u001b[0m\u001b[0;34m\u001b[0m\u001b[0;34m\u001b[0m\u001b[0;34m\u001b[0m\u001b[0m\n\u001b[0;32m----> 3\u001b[0;31m \u001b[0mmy_dict2\u001b[0m\u001b[0;34m[\u001b[0m\u001b[0;34m[\u001b[0m\u001b[0;34m'x'\u001b[0m\u001b[0;34m,\u001b[0m \u001b[0;34m'y'\u001b[0m\u001b[0;34m,\u001b[0m \u001b[0;34m'z'\u001b[0m\u001b[0;34m]\u001b[0m\u001b[0;34m]\u001b[0m \u001b[0;34m=\u001b[0m \u001b[0;34m[\u001b[0m\u001b[0;36m1\u001b[0m\u001b[0;34m,\u001b[0m \u001b[0;36m2\u001b[0m\u001b[0;34m,\u001b[0m \u001b[0;36m3\u001b[0m\u001b[0;34m]\u001b[0m\u001b[0;34m\u001b[0m\u001b[0;34m\u001b[0m\u001b[0m\n\u001b[0m",
            "\u001b[0;31mTypeError\u001b[0m: unhashable type: 'list'"
          ]
        }
      ]
    },
    {
      "cell_type": "code",
      "metadata": {
        "id": "EzrV7q7Repbd",
        "colab_type": "code",
        "colab": {
          "base_uri": "https://localhost:8080/",
          "height": 90
        },
        "outputId": "ecd23dd0-9414-4f06-d0ea-f1cfffa3952e"
      },
      "source": [
        "# tuples can be keys, so this IS allowed\n",
        "my_dict2[('x', 'y', 'z')] = [1, 2, 3]\n",
        "\n",
        "my_dict2"
      ],
      "execution_count": null,
      "outputs": [
        {
          "output_type": "execute_result",
          "data": {
            "text/plain": [
              "{('x', 'y', 'z'): [1, 2, 3],\n",
              " 'genus': 'Aplysia',\n",
              " 'mass': 300,\n",
              " 'species': 'californica'}"
            ]
          },
          "metadata": {
            "tags": []
          },
          "execution_count": 74
        }
      ]
    },
    {
      "cell_type": "markdown",
      "metadata": {
        "id": "7VIUOPVWjXIU",
        "colab_type": "text"
      },
      "source": [
        "You can delete a key-value pair from a dictionary using the `del` keyword:"
      ]
    },
    {
      "cell_type": "code",
      "metadata": {
        "id": "arSWjJTsjcKf",
        "colab_type": "code",
        "colab": {
          "base_uri": "https://localhost:8080/",
          "height": 35
        },
        "outputId": "a705d85a-375a-4b6f-e3b9-e45473a6f537"
      },
      "source": [
        "del my_dict2['species']\n",
        "\n",
        "my_dict2"
      ],
      "execution_count": null,
      "outputs": [
        {
          "output_type": "execute_result",
          "data": {
            "text/plain": [
              "{('x', 'y', 'z'): [1, 2, 3], 'genus': 'Aplysia', 'mass': 300}"
            ]
          },
          "metadata": {
            "tags": []
          },
          "execution_count": 75
        }
      ]
    },
    {
      "cell_type": "markdown",
      "metadata": {
        "id": "jxvOXW8Vjjf8",
        "colab_type": "text"
      },
      "source": [
        "As a matter of fact, **`del` is how you unset any variable**:"
      ]
    },
    {
      "cell_type": "code",
      "metadata": {
        "id": "FsDr-dIcjydX",
        "colab_type": "code",
        "colab": {
          "base_uri": "https://localhost:8080/",
          "height": 207
        },
        "outputId": "ae21a547-195b-4fbd-f503-27102f9a2985"
      },
      "source": [
        "del my_dict2\n",
        "\n",
        "# now my_dict2 is not defined\n",
        "my_dict2"
      ],
      "execution_count": null,
      "outputs": [
        {
          "output_type": "error",
          "ename": "NameError",
          "evalue": "ignored",
          "traceback": [
            "\u001b[0;31m---------------------------------------------------------------------------\u001b[0m",
            "\u001b[0;31mNameError\u001b[0m                                 Traceback (most recent call last)",
            "\u001b[0;32m<ipython-input-76-e8ec4f3d0d06>\u001b[0m in \u001b[0;36m<module>\u001b[0;34m()\u001b[0m\n\u001b[1;32m      2\u001b[0m \u001b[0;34m\u001b[0m\u001b[0m\n\u001b[1;32m      3\u001b[0m \u001b[0;31m# now my_dict2 is not defined\u001b[0m\u001b[0;34m\u001b[0m\u001b[0;34m\u001b[0m\u001b[0;34m\u001b[0m\u001b[0m\n\u001b[0;32m----> 4\u001b[0;31m \u001b[0mmy_dict2\u001b[0m\u001b[0;34m\u001b[0m\u001b[0;34m\u001b[0m\u001b[0m\n\u001b[0m",
            "\u001b[0;31mNameError\u001b[0m: name 'my_dict2' is not defined"
          ]
        }
      ]
    },
    {
      "cell_type": "markdown",
      "metadata": {
        "id": "QBHvoLeFDwLP",
        "colab_type": "text"
      },
      "source": [
        "Just like lists and tuples, `for` loops can iterate over a dictionary. In its simplest form, this actually iterates over the dictionary's keys. In the example below, we choose to use the name `k`, rather than `i`, for the temporary variable to reflect this. To access the value associated with key `k`, we must use `my_dict[k]`."
      ]
    },
    {
      "cell_type": "code",
      "metadata": {
        "id": "iqhcOTaiDAfm",
        "colab_type": "code",
        "colab": {
          "base_uri": "https://localhost:8080/",
          "height": 72
        },
        "outputId": "125a37aa-052e-47f8-ede9-295e28e9636d"
      },
      "source": [
        "# iterate over keys\n",
        "for k in my_dict:\n",
        "    print(f'key: {k} --> value: {my_dict[k]}')"
      ],
      "execution_count": null,
      "outputs": [
        {
          "output_type": "stream",
          "text": [
            "key: genus --> value: Aplysia\n",
            "key: species --> value: californica\n",
            "key: mass --> value: 300\n"
          ],
          "name": "stdout"
        }
      ]
    },
    {
      "cell_type": "markdown",
      "metadata": {
        "id": "GDzD1KKQDvKY",
        "colab_type": "text"
      },
      "source": [
        "The dictionary member function `items()` returns a (special type of) list of tuples, where each tuple is a key-value pair:"
      ]
    },
    {
      "cell_type": "code",
      "metadata": {
        "id": "CtGqkepIEF4P",
        "colab_type": "code",
        "colab": {
          "base_uri": "https://localhost:8080/",
          "height": 35
        },
        "outputId": "eb43ed28-f9f2-4583-971e-68c602361447"
      },
      "source": [
        "# using list() here to simplify how the list of tuples is displayed\n",
        "list(my_dict.items())"
      ],
      "execution_count": null,
      "outputs": [
        {
          "output_type": "execute_result",
          "data": {
            "text/plain": [
              "[('genus', 'Aplysia'), ('species', 'californica'), ('mass', 300)]"
            ]
          },
          "metadata": {
            "tags": []
          },
          "execution_count": 78
        }
      ]
    },
    {
      "cell_type": "markdown",
      "metadata": {
        "id": "q6UZtRrQEXjg",
        "colab_type": "text"
      },
      "source": [
        "When using a `for` loop to iterate over any list of tuples (or a list of lists, or a tuple of lists, or a tuple of tuples...) such as this, you can assign a temporary variable name to each item in the inner tuple/list. This is an example of what is called **unpacking**. For example:"
      ]
    },
    {
      "cell_type": "code",
      "metadata": {
        "id": "joJJS5mXE-AN",
        "colab_type": "code",
        "colab": {
          "base_uri": "https://localhost:8080/",
          "height": 72
        },
        "outputId": "658d05ed-fee4-430e-9925-5022f6a61c58"
      },
      "source": [
        "list_of_tuples = [\n",
        "    ('a', 1),\n",
        "    ('b', 2),\n",
        "    ('c', 3),\n",
        "]\n",
        "\n",
        "for (letter, number) in list_of_tuples:\n",
        "    print(letter, number)"
      ],
      "execution_count": null,
      "outputs": [
        {
          "output_type": "stream",
          "text": [
            "a 1\n",
            "b 2\n",
            "c 3\n"
          ],
          "name": "stdout"
        }
      ]
    },
    {
      "cell_type": "markdown",
      "metadata": {
        "id": "Etn3F4xeFO6-",
        "colab_type": "text"
      },
      "source": [
        "In the example above, the parentheses around the iterator variables `(letter, number)` are actually optional, so the loop could be written without them:"
      ]
    },
    {
      "cell_type": "code",
      "metadata": {
        "id": "6IZq91W2Fdh4",
        "colab_type": "code",
        "colab": {
          "base_uri": "https://localhost:8080/",
          "height": 72
        },
        "outputId": "a0252a7e-cda7-4d0e-e6fc-9728146a6d5a"
      },
      "source": [
        "for letter, number in list_of_tuples:\n",
        "    print(letter, number)"
      ],
      "execution_count": null,
      "outputs": [
        {
          "output_type": "stream",
          "text": [
            "a 1\n",
            "b 2\n",
            "c 3\n"
          ],
          "name": "stdout"
        }
      ]
    },
    {
      "cell_type": "markdown",
      "metadata": {
        "id": "Dt6hLG2wFh8J",
        "colab_type": "text"
      },
      "source": [
        "Using the list of tuples produced by `my_dict.items()` and unpacking each key-value tuple into `k,v`, we can write the `for` loop this way:"
      ]
    },
    {
      "cell_type": "code",
      "metadata": {
        "id": "R7eGsGw1ieTE",
        "colab_type": "code",
        "colab": {
          "base_uri": "https://localhost:8080/",
          "height": 72
        },
        "outputId": "8c43663d-5dad-4d3a-af28-31ea3fbc9070"
      },
      "source": [
        "# iterate over key-value pairs\n",
        "for k,v in my_dict.items():\n",
        "    print(f'key: {k} --> value: {v}')"
      ],
      "execution_count": null,
      "outputs": [
        {
          "output_type": "stream",
          "text": [
            "key: genus --> value: Aplysia\n",
            "key: species --> value: californica\n",
            "key: mass --> value: 300\n"
          ],
          "name": "stdout"
        }
      ]
    },
    {
      "cell_type": "markdown",
      "metadata": {
        "id": "xYicbmxTGVnx",
        "colab_type": "text"
      },
      "source": [
        "Notice this does exactly the same thing as\n",
        "```python\n",
        "for k in my_dict:\n",
        "    print(f'key: {k} --> value: {my_dict[k]}')\n",
        "```\n",
        "seen earlier, except the version using `for k,v in my_dict.items()` conveniently assigns the name `v` to the value of each key-value pair, so that `my_dict[k]` does not need to be typed out.\n",
        "\n",
        "Like list comprehensions, there exists a concise way for constructing dictionaries from a sequence, called **dictionary comprehension**. The syntax is similar, but a key and a value must be computed for each iteration, separated by a colon.\n",
        "\n",
        "To set up an example, here is a long way of constructing a dictionary of squares using a `for` loop, where the keys are string versions of the numbers:"
      ]
    },
    {
      "cell_type": "code",
      "metadata": {
        "id": "29IB32ctkux2",
        "colab_type": "code",
        "colab": {
          "base_uri": "https://localhost:8080/",
          "height": 35
        },
        "outputId": "964a5792-c506-4258-e682-fa18909ff758"
      },
      "source": [
        "my_list = [0, 1, 2, 3, 4, 5]\n",
        "\n",
        "squares = {}\n",
        "for i in my_list:\n",
        "    # store keys as strings and values as integers\n",
        "    squares[str(i)] = i**2\n",
        "\n",
        "squares"
      ],
      "execution_count": null,
      "outputs": [
        {
          "output_type": "execute_result",
          "data": {
            "text/plain": [
              "{'0': 0, '1': 1, '2': 4, '3': 9, '4': 16, '5': 25}"
            ]
          },
          "metadata": {
            "tags": []
          },
          "execution_count": 82
        }
      ]
    },
    {
      "cell_type": "markdown",
      "metadata": {
        "id": "MlYNw-5Klap2",
        "colab_type": "text"
      },
      "source": [
        "Here is a dictionary comprehension that does the same thing. Note it is enclosed with curly braces because it produces a dictionary, and a colon separates a key and its value."
      ]
    },
    {
      "cell_type": "code",
      "metadata": {
        "id": "q0qefaLfi5qm",
        "colab_type": "code",
        "colab": {
          "base_uri": "https://localhost:8080/",
          "height": 35
        },
        "outputId": "60ffe66c-d14a-429f-a10a-25af2efec62d"
      },
      "source": [
        "# basic dictionary comprehension\n",
        "# - this means \"pair a string version of the item with its square for each item in my_list\"\n",
        "squares = {str(i): i**2 for i in my_list}\n",
        "\n",
        "squares"
      ],
      "execution_count": null,
      "outputs": [
        {
          "output_type": "execute_result",
          "data": {
            "text/plain": [
              "{'0': 0, '1': 1, '2': 4, '3': 9, '4': 16, '5': 25}"
            ]
          },
          "metadata": {
            "tags": []
          },
          "execution_count": 83
        }
      ]
    },
    {
      "cell_type": "markdown",
      "metadata": {
        "id": "DU1jv-zRlmwC",
        "colab_type": "text"
      },
      "source": [
        "Like list comprehension, conditionals are allowed for the values:"
      ]
    },
    {
      "cell_type": "code",
      "metadata": {
        "id": "r7LQKLYZlucM",
        "colab_type": "code",
        "colab": {
          "base_uri": "https://localhost:8080/",
          "height": 35
        },
        "outputId": "d6538074-05e8-4815-875f-c20c105bfcc7"
      },
      "source": [
        "# dictionary comprehension with complex conditional\n",
        "# - this means \"pair a string version of the item with its square if it is even, otherwise with the item plus 100, for each item in my_list\"\n",
        "squares = {str(i): i**2 if i%2==0 else i+100 for i in my_list}\n",
        "\n",
        "squares"
      ],
      "execution_count": null,
      "outputs": [
        {
          "output_type": "execute_result",
          "data": {
            "text/plain": [
              "{'0': 0, '1': 101, '2': 4, '3': 103, '4': 16, '5': 105}"
            ]
          },
          "metadata": {
            "tags": []
          },
          "execution_count": 84
        }
      ]
    },
    {
      "cell_type": "markdown",
      "metadata": {
        "id": "aV04ty_YxORR",
        "colab_type": "text"
      },
      "source": [
        "## A Practical Example for Dictionaries and Comprehensions"
      ]
    },
    {
      "cell_type": "markdown",
      "metadata": {
        "id": "imBs2CaDqZMu",
        "colab_type": "text"
      },
      "source": [
        "So how are dictionaries useful? There are countless ways, but let's look at one example. Previously we saw in the section titled \"Lists vs. Tuples\" that a list of tuples with consistent structure is useful because pieces of data have predictable indices. For example, with this definition of `species_data`, the genus of every entry always has index 0:"
      ]
    },
    {
      "cell_type": "code",
      "metadata": {
        "id": "I_Nr2BlQqj8r",
        "colab_type": "code",
        "colab": {
          "base_uri": "https://localhost:8080/",
          "height": 72
        },
        "outputId": "943c2100-ff32-4493-fb8e-d020bfff30a6"
      },
      "source": [
        "species_data = [\n",
        "    # genus, species, date named, common name\n",
        "    ('Aplysia',     'californica', 1863, 'California sea hare'),\n",
        "    ('Macrocystis', 'pyrifera',    1820, 'Giant kelp'),\n",
        "    ('Pagurus',     'samuelis',    1857, 'Blueband hermit crab'),\n",
        "]\n",
        "\n",
        "# print every genus\n",
        "for sp in species_data:\n",
        "    print(sp[0])"
      ],
      "execution_count": null,
      "outputs": [
        {
          "output_type": "stream",
          "text": [
            "Aplysia\n",
            "Macrocystis\n",
            "Pagurus\n"
          ],
          "name": "stdout"
        }
      ]
    },
    {
      "cell_type": "markdown",
      "metadata": {
        "id": "WmFDnSjAr4nQ",
        "colab_type": "text"
      },
      "source": [
        "However, this approach requires that we memorize the meaning of each index (0 = genus, 1 = species, etc.). If we use dictionaries instead of tuples, we can access data by name, rather than arbitrary indices. To do this, we could convert every tuple into a dictionary, so that the whole data set is a list of dictionaries with identical keys.\n",
        "\n",
        "To demonstrate this, we could write everything out, like this:"
      ]
    },
    {
      "cell_type": "code",
      "metadata": {
        "id": "BjVNnxL_vgkO",
        "colab_type": "code",
        "colab": {}
      },
      "source": [
        "species_dicts = [\n",
        "    {'genus': 'Aplysia',     'species': 'californica', 'year': 1863, 'common': 'California sea hare'},\n",
        "    {'genus': 'Macrocystis', 'species': 'pyrifera',    'year': 1820, 'common': 'Giant kelp'},\n",
        "    {'genus': 'Pagurus',     'species': 'samuelis',    'year': 1857, 'common': 'Blueband hermit crab'},\n",
        "]"
      ],
      "execution_count": null,
      "outputs": []
    },
    {
      "cell_type": "markdown",
      "metadata": {
        "id": "GYuk9MXBvZl7",
        "colab_type": "text"
      },
      "source": [
        "However, if the `species_data` list already existed and was much longer than it is here, this would be a lot of extra work!\n",
        "\n",
        "Instead, we could use what we have learned to programmatically construct the list of dictionaries from the existing list of tuples using a `for` loop. Here's one way to do that which uses tuple unpacking for naming each of the four pieces of data in every tuple:"
      ]
    },
    {
      "cell_type": "code",
      "metadata": {
        "id": "uGoo7PROqtlZ",
        "colab_type": "code",
        "colab": {
          "base_uri": "https://localhost:8080/",
          "height": 235
        },
        "outputId": "e865b453-c5df-463a-b63f-1c663f6a2d0e"
      },
      "source": [
        "# create a new empty list\n",
        "species_dicts = []\n",
        "\n",
        "# for each tuple, unpack the 4 pieces of data into 4 temporary variables\n",
        "for genus, species, year, common in species_data:\n",
        "\n",
        "    # build a new dictionary for this species\n",
        "    d = {'genus': genus, 'species': species, 'year': year, 'common': common}\n",
        "\n",
        "    # append the dictionary to the new list\n",
        "    species_dicts.append(d)\n",
        "\n",
        "# display the new list of dictionaries\n",
        "species_dicts"
      ],
      "execution_count": null,
      "outputs": [
        {
          "output_type": "execute_result",
          "data": {
            "text/plain": [
              "[{'common': 'California sea hare',\n",
              "  'genus': 'Aplysia',\n",
              "  'species': 'californica',\n",
              "  'year': 1863},\n",
              " {'common': 'Giant kelp',\n",
              "  'genus': 'Macrocystis',\n",
              "  'species': 'pyrifera',\n",
              "  'year': 1820},\n",
              " {'common': 'Blueband hermit crab',\n",
              "  'genus': 'Pagurus',\n",
              "  'species': 'samuelis',\n",
              "  'year': 1857}]"
            ]
          },
          "metadata": {
            "tags": []
          },
          "execution_count": 87
        }
      ]
    },
    {
      "cell_type": "markdown",
      "metadata": {
        "id": "0FkLJqqAsqOO",
        "colab_type": "text"
      },
      "source": [
        "Now the genus of every entry can be accessed using the key `'genus'` rather than index 0:"
      ]
    },
    {
      "cell_type": "code",
      "metadata": {
        "id": "G0SzsX3gs2ox",
        "colab_type": "code",
        "colab": {
          "base_uri": "https://localhost:8080/",
          "height": 72
        },
        "outputId": "37bec854-8110-4315-f6e3-ce75c2dbaac6"
      },
      "source": [
        "# print every genus\n",
        "for sp in species_dicts:\n",
        "    print(sp['genus'])"
      ],
      "execution_count": null,
      "outputs": [
        {
          "output_type": "stream",
          "text": [
            "Aplysia\n",
            "Macrocystis\n",
            "Pagurus\n"
          ],
          "name": "stdout"
        }
      ]
    },
    {
      "cell_type": "markdown",
      "metadata": {
        "id": "YQ2BzKEMugig",
        "colab_type": "text"
      },
      "source": [
        "If we want to be *really* clever, we can do the entire conversion in a single step by *constructing a dictionary inside a list comprehension*. For this, we need to first introduce another built-in function.\n",
        "\n",
        "The `zip()` function takes two or more sequences (e.g., lists or tuples) as inputs and groups the elements from each sequence in order. For example:"
      ]
    },
    {
      "cell_type": "code",
      "metadata": {
        "id": "frBlTOmHzels",
        "colab_type": "code",
        "colab": {
          "base_uri": "https://localhost:8080/",
          "height": 35
        },
        "outputId": "b0461257-4e2a-4476-88a6-24890017203d"
      },
      "source": [
        "list1 = ['a', 'b', 'c']\n",
        "list2 = [1, 2, 3]\n",
        "\n",
        "# using list() here to simplify how the result is displayed\n",
        "list(zip(list1, list2))"
      ],
      "execution_count": null,
      "outputs": [
        {
          "output_type": "execute_result",
          "data": {
            "text/plain": [
              "[('a', 1), ('b', 2), ('c', 3)]"
            ]
          },
          "metadata": {
            "tags": []
          },
          "execution_count": 89
        }
      ]
    },
    {
      "cell_type": "markdown",
      "metadata": {
        "id": "j7VRGwpuz68T",
        "colab_type": "text"
      },
      "source": [
        "How can we use `zip()` to help us convert our list of tuples into a list of dictionaries? First, define a variable containing the dictionary keys:"
      ]
    },
    {
      "cell_type": "code",
      "metadata": {
        "id": "mLJEEGMk0MP7",
        "colab_type": "code",
        "colab": {}
      },
      "source": [
        "keys = ('genus', 'species', 'year', 'common')"
      ],
      "execution_count": null,
      "outputs": []
    },
    {
      "cell_type": "markdown",
      "metadata": {
        "id": "iaCMlCc10RI0",
        "colab_type": "text"
      },
      "source": [
        "With this, it is possible to pair the values from one of the tuples with these keys. For example, if we just look at the first tuple:"
      ]
    },
    {
      "cell_type": "code",
      "metadata": {
        "id": "RyKy59dI0aFK",
        "colab_type": "code",
        "colab": {
          "base_uri": "https://localhost:8080/",
          "height": 90
        },
        "outputId": "f62b8006-0fd2-426f-b5d7-521f8473c137"
      },
      "source": [
        "values = species_data[0]\n",
        "list(zip(keys, values))"
      ],
      "execution_count": null,
      "outputs": [
        {
          "output_type": "execute_result",
          "data": {
            "text/plain": [
              "[('genus', 'Aplysia'),\n",
              " ('species', 'californica'),\n",
              " ('year', 1863),\n",
              " ('common', 'California sea hare')]"
            ]
          },
          "metadata": {
            "tags": []
          },
          "execution_count": 91
        }
      ]
    },
    {
      "cell_type": "markdown",
      "metadata": {
        "id": "eK4jy2L70lZI",
        "colab_type": "text"
      },
      "source": [
        "Here we have a list of tuples, where each tuple is a key-value pair. This is just like what the `items()` function returns for a dictionary. From this, we could construct a dictionary from this first tuple using dictionary comprehension:"
      ]
    },
    {
      "cell_type": "code",
      "metadata": {
        "id": "4TSE6cjr039H",
        "colab_type": "code",
        "colab": {
          "base_uri": "https://localhost:8080/",
          "height": 90
        },
        "outputId": "bae1cd4b-965b-4caa-97c2-f98b23c015e7"
      },
      "source": [
        "{k:v for k,v in zip(keys, values)}"
      ],
      "execution_count": null,
      "outputs": [
        {
          "output_type": "execute_result",
          "data": {
            "text/plain": [
              "{'common': 'California sea hare',\n",
              " 'genus': 'Aplysia',\n",
              " 'species': 'californica',\n",
              " 'year': 1863}"
            ]
          },
          "metadata": {
            "tags": []
          },
          "execution_count": 92
        }
      ]
    },
    {
      "cell_type": "markdown",
      "metadata": {
        "id": "qiD0qY-315Qm",
        "colab_type": "text"
      },
      "source": [
        "Equivalently, because there is no extra manipulation of `k` or `v` here, we could use the built-in function `dict()` to convert the list of key-value pairs directly into a dictionary:"
      ]
    },
    {
      "cell_type": "code",
      "metadata": {
        "id": "cIb6CoY01rZn",
        "colab_type": "code",
        "colab": {
          "base_uri": "https://localhost:8080/",
          "height": 90
        },
        "outputId": "65de7a03-d5ef-4da6-80e1-86f99d4ee53f"
      },
      "source": [
        "dict(zip(keys, values))"
      ],
      "execution_count": null,
      "outputs": [
        {
          "output_type": "execute_result",
          "data": {
            "text/plain": [
              "{'common': 'California sea hare',\n",
              " 'genus': 'Aplysia',\n",
              " 'species': 'californica',\n",
              " 'year': 1863}"
            ]
          },
          "metadata": {
            "tags": []
          },
          "execution_count": 93
        }
      ]
    },
    {
      "cell_type": "markdown",
      "metadata": {
        "id": "-DB_FszX1DVx",
        "colab_type": "text"
      },
      "source": [
        "All we have to do now is generalize this to all tuples in `species_data`. We can use a list comprehension for this, which gives us the final expression that does the entire conversion in one step, from a list of tuples to a list of dictionaries:"
      ]
    },
    {
      "cell_type": "code",
      "metadata": {
        "id": "00KpIj04uK1o",
        "colab_type": "code",
        "colab": {
          "base_uri": "https://localhost:8080/",
          "height": 235
        },
        "outputId": "a59b44d1-37ed-4853-e4fa-75cb0dc9820a"
      },
      "source": [
        "keys = ('genus', 'species', 'year', 'common')\n",
        "species_dicts = [dict(zip(keys, values)) for values in species_data]\n",
        "species_dicts"
      ],
      "execution_count": null,
      "outputs": [
        {
          "output_type": "execute_result",
          "data": {
            "text/plain": [
              "[{'common': 'California sea hare',\n",
              "  'genus': 'Aplysia',\n",
              "  'species': 'californica',\n",
              "  'year': 1863},\n",
              " {'common': 'Giant kelp',\n",
              "  'genus': 'Macrocystis',\n",
              "  'species': 'pyrifera',\n",
              "  'year': 1820},\n",
              " {'common': 'Blueband hermit crab',\n",
              "  'genus': 'Pagurus',\n",
              "  'species': 'samuelis',\n",
              "  'year': 1857}]"
            ]
          },
          "metadata": {
            "tags": []
          },
          "execution_count": 94
        }
      ]
    },
    {
      "cell_type": "markdown",
      "metadata": {
        "id": "cUknVPFX2xUU",
        "colab_type": "text"
      },
      "source": [
        "This is much more elegant than writing out the list of dictionaries by hand!\n",
        "\n",
        "As a final proof of success, we can once again access the genus of every entry using a key:"
      ]
    },
    {
      "cell_type": "code",
      "metadata": {
        "id": "91fECV-72vq4",
        "colab_type": "code",
        "colab": {
          "base_uri": "https://localhost:8080/",
          "height": 72
        },
        "outputId": "1272efef-8d1c-4f25-fac3-bcc53bc71c9b"
      },
      "source": [
        "# print every genus\n",
        "for sp in species_dicts:\n",
        "    print(sp['genus'])"
      ],
      "execution_count": null,
      "outputs": [
        {
          "output_type": "stream",
          "text": [
            "Aplysia\n",
            "Macrocystis\n",
            "Pagurus\n"
          ],
          "name": "stdout"
        }
      ]
    },
    {
      "cell_type": "markdown",
      "metadata": {
        "id": "-jFZdhVM5amr",
        "colab_type": "text"
      },
      "source": [
        "For me, the amount of work we get out of this single expression, `[dict(zip(keys, values)) for values in species_data]`, is delightful!"
      ]
    },
    {
      "cell_type": "markdown",
      "metadata": {
        "id": "XtfHIWprUw5r",
        "colab_type": "text"
      },
      "source": [
        "## Functions"
      ]
    },
    {
      "cell_type": "markdown",
      "metadata": {
        "id": "Wnszey9SlfdV",
        "colab_type": "text"
      },
      "source": [
        "**Functions** take inputs, called **arguments** or **parameters**, and do work with them. Often, functions will **return** a result.\n",
        "\n",
        "Before use, functions must be **defined** using the `def` keyword. Inside the definition, results can be **returned** using the `return` keyword. Function arguments are specified in the definition inside parentheses after the function name.\n",
        "\n",
        "A function is used, or **called**, by invoking its name with the arguments."
      ]
    },
    {
      "cell_type": "code",
      "metadata": {
        "id": "B3snzbIcUAx6",
        "colab_type": "code",
        "colab": {
          "base_uri": "https://localhost:8080/",
          "height": 35
        },
        "outputId": "8e5cde9d-166c-4848-f3b4-89967da0624c"
      },
      "source": [
        "def compute_square(x):\n",
        "    return x**2\n",
        "\n",
        "compute_square(4)"
      ],
      "execution_count": null,
      "outputs": [
        {
          "output_type": "execute_result",
          "data": {
            "text/plain": [
              "16"
            ]
          },
          "metadata": {
            "tags": []
          },
          "execution_count": 96
        }
      ]
    },
    {
      "cell_type": "markdown",
      "metadata": {
        "id": "r1xmHta7f4xx",
        "colab_type": "text"
      },
      "source": [
        "Variables assignment within a function has limited **scope**. This means that if a new variable is assigned within a function, it will exist within the function (local scope) but not outside it (global scope)."
      ]
    },
    {
      "cell_type": "code",
      "metadata": {
        "id": "JCcEh5QcGZXM",
        "colab_type": "code",
        "colab": {
          "base_uri": "https://localhost:8080/",
          "height": 225
        },
        "outputId": "115a3f24-35b4-48ff-b5e7-3caec9598917"
      },
      "source": [
        "def add_4(x):\n",
        "    # this new variable has local scope and will not be accessible outside the function\n",
        "    some_local_variable = x + 4\n",
        "    \n",
        "    print(f'{x} + 4 = {some_local_variable}')\n",
        "\n",
        "add_4(1)\n",
        "\n",
        "# this will fail because some_local_variable is out of scope\n",
        "print(some_local_variable)"
      ],
      "execution_count": null,
      "outputs": [
        {
          "output_type": "stream",
          "text": [
            "1 + 4 = 5\n"
          ],
          "name": "stdout"
        },
        {
          "output_type": "error",
          "ename": "NameError",
          "evalue": "ignored",
          "traceback": [
            "\u001b[0;31m---------------------------------------------------------------------------\u001b[0m",
            "\u001b[0;31mNameError\u001b[0m                                 Traceback (most recent call last)",
            "\u001b[0;32m<ipython-input-97-a816e85c72de>\u001b[0m in \u001b[0;36m<module>\u001b[0;34m()\u001b[0m\n\u001b[1;32m      8\u001b[0m \u001b[0;34m\u001b[0m\u001b[0m\n\u001b[1;32m      9\u001b[0m \u001b[0;31m# this will fail because some_local_variable is out of scope\u001b[0m\u001b[0;34m\u001b[0m\u001b[0;34m\u001b[0m\u001b[0;34m\u001b[0m\u001b[0m\n\u001b[0;32m---> 10\u001b[0;31m \u001b[0mprint\u001b[0m\u001b[0;34m(\u001b[0m\u001b[0msome_local_variable\u001b[0m\u001b[0;34m)\u001b[0m\u001b[0;34m\u001b[0m\u001b[0;34m\u001b[0m\u001b[0m\n\u001b[0m",
            "\u001b[0;31mNameError\u001b[0m: name 'some_local_variable' is not defined"
          ]
        }
      ]
    },
    {
      "cell_type": "markdown",
      "metadata": {
        "id": "FJ61P-MoGTdM",
        "colab_type": "text"
      },
      "source": [
        "This also means that if a variable that already exists (a global variable) is given a value inside the function, the global variable will not be affected."
      ]
    },
    {
      "cell_type": "code",
      "metadata": {
        "id": "_-hoKrz9eaID",
        "colab_type": "code",
        "colab": {
          "base_uri": "https://localhost:8080/",
          "height": 72
        },
        "outputId": "c2fca126-ebb4-4074-ca8d-509ed82df398"
      },
      "source": [
        "x = 'original value'\n",
        "\n",
        "print(f'x in global scope: {x}')\n",
        "\n",
        "def print_something(text):\n",
        "    # assigning x inside the function does not affect x outside\n",
        "    x = text\n",
        "    print(f'x in local scope: {x}')\n",
        "\n",
        "print_something('new value')\n",
        "\n",
        "print(f'x in global scope: {x}')"
      ],
      "execution_count": null,
      "outputs": [
        {
          "output_type": "stream",
          "text": [
            "x in global scope: original value\n",
            "x in local scope: new value\n",
            "x in global scope: original value\n"
          ],
          "name": "stdout"
        }
      ]
    },
    {
      "cell_type": "markdown",
      "metadata": {
        "id": "5Ie5Qaikm3Pv",
        "colab_type": "text"
      },
      "source": [
        "Functions can be defined with multiple arguments."
      ]
    },
    {
      "cell_type": "code",
      "metadata": {
        "id": "lxyjjasHgblQ",
        "colab_type": "code",
        "colab": {
          "base_uri": "https://localhost:8080/",
          "height": 35
        },
        "outputId": "4a2ef80b-294b-41a1-9480-bc1f83eab11a"
      },
      "source": [
        "def quadratic(x, a, b, c):\n",
        "    return a * x**2 + b * x + c\n",
        "\n",
        "quadratic(3, 1, 0, 5)  # 1 * 3**2 + 5 = 14"
      ],
      "execution_count": null,
      "outputs": [
        {
          "output_type": "execute_result",
          "data": {
            "text/plain": [
              "14"
            ]
          },
          "metadata": {
            "tags": []
          },
          "execution_count": 99
        }
      ]
    },
    {
      "cell_type": "markdown",
      "metadata": {
        "id": "L72PWJovHNxu",
        "colab_type": "text"
      },
      "source": [
        "When calling a function with multiple arguments, the order of the inputs must match the definition unless the arguments are explicitly named. This can be done using `=`. This use of `=` does not actually assign the value to the argument in the global scope."
      ]
    },
    {
      "cell_type": "code",
      "metadata": {
        "id": "3CAqarN2H5KE",
        "colab_type": "code",
        "colab": {
          "base_uri": "https://localhost:8080/",
          "height": 35
        },
        "outputId": "175998f2-e0a5-44c1-b6c6-5a67a6781f34"
      },
      "source": [
        "# arguments may be given out of order if they are explicitly named with =\n",
        "quadratic(b=0, c=5, a=1, x=3)\n",
        "\n",
        "# after calling the function with explicit arguments, the variables x, a, b, c\n",
        "# have NOT been defined or changed in the global scope"
      ],
      "execution_count": null,
      "outputs": [
        {
          "output_type": "execute_result",
          "data": {
            "text/plain": [
              "14"
            ]
          },
          "metadata": {
            "tags": []
          },
          "execution_count": 100
        }
      ]
    },
    {
      "cell_type": "markdown",
      "metadata": {
        "id": "UxggRAaDMnS6",
        "colab_type": "text"
      },
      "source": [
        "Because `=` has this special non-assignment meaning in function calls, you will sometimes see seemingly odd notation where variables appear to be assigned to themselves. For example, if the parameters for `quadratic` are already defined in the global scope as variables with the same names, the function could be called like this:"
      ]
    },
    {
      "cell_type": "code",
      "metadata": {
        "id": "5KGA7juqNLqm",
        "colab_type": "code",
        "colab": {
          "base_uri": "https://localhost:8080/",
          "height": 35
        },
        "outputId": "e61994d1-6cfc-4247-998c-b8c3c66058ba"
      },
      "source": [
        "x = 3\n",
        "a = 1\n",
        "b = 0\n",
        "c = 5\n",
        "\n",
        "quadratic(b=b, c=c, a=a, x=x)"
      ],
      "execution_count": null,
      "outputs": [
        {
          "output_type": "execute_result",
          "data": {
            "text/plain": [
              "14"
            ]
          },
          "metadata": {
            "tags": []
          },
          "execution_count": 101
        }
      ]
    },
    {
      "cell_type": "markdown",
      "metadata": {
        "id": "VeWgqNxpm97V",
        "colab_type": "text"
      },
      "source": [
        "When you see a function call like this, remember that the names to the left of the `=` symbols are the argument names, which will exist in the local scope of the function, and the names to the right of the `=` symbols refer to variables defined in the global scope.\n",
        "\n",
        "By default, all arguments must be provided when using the function."
      ]
    },
    {
      "cell_type": "code",
      "metadata": {
        "id": "NQ7NK9Nyg5rH",
        "colab_type": "code",
        "colab": {
          "base_uri": "https://localhost:8080/",
          "height": 171
        },
        "outputId": "b0b85e20-7379-466e-9449-6f15e66308e3"
      },
      "source": [
        "quadratic(3)"
      ],
      "execution_count": null,
      "outputs": [
        {
          "output_type": "error",
          "ename": "TypeError",
          "evalue": "ignored",
          "traceback": [
            "\u001b[0;31m---------------------------------------------------------------------------\u001b[0m",
            "\u001b[0;31mTypeError\u001b[0m                                 Traceback (most recent call last)",
            "\u001b[0;32m<ipython-input-102-a9084b27f93d>\u001b[0m in \u001b[0;36m<module>\u001b[0;34m()\u001b[0m\n\u001b[0;32m----> 1\u001b[0;31m \u001b[0mquadratic\u001b[0m\u001b[0;34m(\u001b[0m\u001b[0;36m3\u001b[0m\u001b[0;34m)\u001b[0m\u001b[0;34m\u001b[0m\u001b[0;34m\u001b[0m\u001b[0m\n\u001b[0m",
            "\u001b[0;31mTypeError\u001b[0m: quadratic() missing 3 required positional arguments: 'a', 'b', and 'c'"
          ]
        }
      ]
    },
    {
      "cell_type": "markdown",
      "metadata": {
        "id": "JFHybcdonkuj",
        "colab_type": "text"
      },
      "source": [
        "Functions can be defined with default parameter values using `=` so that they are not required when calling the function. Again, this does not actually assign these values to variables in the global scope."
      ]
    },
    {
      "cell_type": "code",
      "metadata": {
        "id": "ZEB4y9hjg8-p",
        "colab_type": "code",
        "colab": {
          "base_uri": "https://localhost:8080/",
          "height": 35
        },
        "outputId": "2e428b11-5fbc-439c-eb35-a2fc91bc59a6"
      },
      "source": [
        "# provide default values for parameters\n",
        "def quadratic(x, a=1, b=0, c=0):\n",
        "    return a * x**2 + b * x + c\n",
        "\n",
        "quadratic(3)"
      ],
      "execution_count": null,
      "outputs": [
        {
          "output_type": "execute_result",
          "data": {
            "text/plain": [
              "9"
            ]
          },
          "metadata": {
            "tags": []
          },
          "execution_count": 103
        }
      ]
    },
    {
      "cell_type": "markdown",
      "metadata": {
        "id": "PdcAOc_aAyDq",
        "colab_type": "text"
      },
      "source": [
        "When variables containing lists, dictionaries, or other complex objects (e.g., custom classes) are passed as arguments to a function, they are **passed by reference**, which means that the function can change those variables in the global scope. For example, if a list is passed to a function as input, the function could change items in the list:"
      ]
    },
    {
      "cell_type": "code",
      "metadata": {
        "id": "Sy4WEY0h_4J2",
        "colab_type": "code",
        "colab": {
          "base_uri": "https://localhost:8080/",
          "height": 35
        },
        "outputId": "f50ab21f-8066-482c-d236-a43bfe3527e1"
      },
      "source": [
        "def change_list(some_list):\n",
        "    # change the first item in the list to 4\n",
        "    some_list[0] = 4\n",
        "\n",
        "my_list = [1, 1, 1, 1]\n",
        "\n",
        "# this function call will change my_list permanently in the global scope\n",
        "change_list(my_list)\n",
        "\n",
        "# the first item has changed\n",
        "my_list"
      ],
      "execution_count": null,
      "outputs": [
        {
          "output_type": "execute_result",
          "data": {
            "text/plain": [
              "[4, 1, 1, 1]"
            ]
          },
          "metadata": {
            "tags": []
          },
          "execution_count": 104
        }
      ]
    },
    {
      "cell_type": "markdown",
      "metadata": {
        "id": "XRH7w9shnyAp",
        "colab_type": "text"
      },
      "source": [
        "The built-in function `map` can be used to apply a function to every value in a sequence:"
      ]
    },
    {
      "cell_type": "code",
      "metadata": {
        "id": "EZE5w-6GhMhr",
        "colab_type": "code",
        "colab": {
          "base_uri": "https://localhost:8080/",
          "height": 35
        },
        "outputId": "96bd967e-d8ca-44cd-b6c3-d49d336ee9da"
      },
      "source": [
        "list(map(compute_square, range(5)))  # list() is used so the output displays nicely"
      ],
      "execution_count": null,
      "outputs": [
        {
          "output_type": "execute_result",
          "data": {
            "text/plain": [
              "[0, 1, 4, 9, 16]"
            ]
          },
          "metadata": {
            "tags": []
          },
          "execution_count": 105
        }
      ]
    },
    {
      "cell_type": "markdown",
      "metadata": {
        "id": "XbcJy_qEn5ow",
        "colab_type": "text"
      },
      "source": [
        "This example is identical to the following list comprehension:"
      ]
    },
    {
      "cell_type": "code",
      "metadata": {
        "id": "1IBPU99ghhj1",
        "colab_type": "code",
        "colab": {
          "base_uri": "https://localhost:8080/",
          "height": 35
        },
        "outputId": "ef457200-e391-4ec2-c08a-a08c16f5f828"
      },
      "source": [
        "[compute_square(i) for i in range(5)]"
      ],
      "execution_count": null,
      "outputs": [
        {
          "output_type": "execute_result",
          "data": {
            "text/plain": [
              "[0, 1, 4, 9, 16]"
            ]
          },
          "metadata": {
            "tags": []
          },
          "execution_count": 106
        }
      ]
    },
    {
      "cell_type": "markdown",
      "metadata": {
        "id": "YZIf9yoxCb9s",
        "colab_type": "text"
      },
      "source": [
        "`map` can be used with multiple sequences. The first items from all sequences will be passed together as arguments to the function, then the second items, and so on."
      ]
    },
    {
      "cell_type": "code",
      "metadata": {
        "id": "CGZ3OPHxCMuA",
        "colab_type": "code",
        "colab": {
          "base_uri": "https://localhost:8080/",
          "height": 35
        },
        "outputId": "8b4a2477-a48e-47fb-a72e-d85f3f995a3f"
      },
      "source": [
        "def multiply(x, y):\n",
        "    return x * y\n",
        "\n",
        "list1 = [1, 2, 3, 4]\n",
        "list2 = [1, 10, 100, 1000]\n",
        "\n",
        "list(map(multiply, list1, list2))  # list() is used so the output displays nicely"
      ],
      "execution_count": null,
      "outputs": [
        {
          "output_type": "execute_result",
          "data": {
            "text/plain": [
              "[1, 20, 300, 4000]"
            ]
          },
          "metadata": {
            "tags": []
          },
          "execution_count": 107
        }
      ]
    },
    {
      "cell_type": "markdown",
      "metadata": {
        "id": "UTFrw3ckE08H",
        "colab_type": "text"
      },
      "source": [
        "This behavior can also be replicated with a list comprehension and `zip()`:"
      ]
    },
    {
      "cell_type": "code",
      "metadata": {
        "id": "JBfMFu-vErqc",
        "colab_type": "code",
        "colab": {
          "base_uri": "https://localhost:8080/",
          "height": 35
        },
        "outputId": "32f92b87-5af3-43be-bd13-7b9f207fb5f0"
      },
      "source": [
        "[multiply(x, y) for x, y in zip(list1, list2)]"
      ],
      "execution_count": null,
      "outputs": [
        {
          "output_type": "execute_result",
          "data": {
            "text/plain": [
              "[1, 20, 300, 4000]"
            ]
          },
          "metadata": {
            "tags": []
          },
          "execution_count": 108
        }
      ]
    },
    {
      "cell_type": "markdown",
      "metadata": {
        "id": "-_qiZpUOoEzx",
        "colab_type": "text"
      },
      "source": [
        "The built-in function `filter` is used to remove all items from a sequence that do not satisfy the criterion of returning `True` when passed into a function:"
      ]
    },
    {
      "cell_type": "code",
      "metadata": {
        "id": "jVmchd1HjuMT",
        "colab_type": "code",
        "colab": {
          "base_uri": "https://localhost:8080/",
          "height": 35
        },
        "outputId": "d1484eb0-bc0e-48ad-e9e5-9ab8f76d950f"
      },
      "source": [
        "def greater_than_2(x):\n",
        "    return x > 2\n",
        "\n",
        "# keep only items that satisfy the condition\n",
        "list(filter(greater_than_2, range(5)))  # list() is used so the output displays nicely"
      ],
      "execution_count": null,
      "outputs": [
        {
          "output_type": "execute_result",
          "data": {
            "text/plain": [
              "[3, 4]"
            ]
          },
          "metadata": {
            "tags": []
          },
          "execution_count": 109
        }
      ]
    },
    {
      "cell_type": "markdown",
      "metadata": {
        "id": "ZJt99qRgKAAF",
        "colab_type": "text"
      },
      "source": [
        "This behavior can also be replicated by a list comprehension:"
      ]
    },
    {
      "cell_type": "code",
      "metadata": {
        "id": "F15qik_hKD7R",
        "colab_type": "code",
        "colab": {
          "base_uri": "https://localhost:8080/",
          "height": 35
        },
        "outputId": "4c5ddf30-bbad-49b0-9278-6c74c4254b97"
      },
      "source": [
        "[x for x in range(5) if greater_than_2(x)]"
      ],
      "execution_count": null,
      "outputs": [
        {
          "output_type": "execute_result",
          "data": {
            "text/plain": [
              "[3, 4]"
            ]
          },
          "metadata": {
            "tags": []
          },
          "execution_count": 110
        }
      ]
    },
    {
      "cell_type": "markdown",
      "metadata": {
        "id": "yuyyaYiODIZt",
        "colab_type": "text"
      },
      "source": [
        "`filter` does not change the variable:"
      ]
    },
    {
      "cell_type": "code",
      "metadata": {
        "id": "8l_rRZsAC-yt",
        "colab_type": "code",
        "colab": {
          "base_uri": "https://localhost:8080/",
          "height": 53
        },
        "outputId": "c4a96834-3c9b-4431-a519-c7e3e06edc34"
      },
      "source": [
        "my_list = [0, 1, 2, 3, 4]\n",
        "\n",
        "# return a filtered version of the list but do not actually change my_list\n",
        "print(list(filter(greater_than_2, my_list)))  # list() is used so the output displays nicely\n",
        "\n",
        "# the list was not permanently changed\n",
        "print(my_list)"
      ],
      "execution_count": null,
      "outputs": [
        {
          "output_type": "stream",
          "text": [
            "[3, 4]\n",
            "[0, 1, 2, 3, 4]\n"
          ],
          "name": "stdout"
        }
      ]
    },
    {
      "cell_type": "markdown",
      "metadata": {
        "id": "vW-5aSoTC1_L",
        "colab_type": "text"
      },
      "source": [
        "STOPPED HERE AT END OF AUGUST 9 SESSION\n",
        "\n",
        "---"
      ]
    },
    {
      "cell_type": "markdown",
      "metadata": {
        "id": "F84GDe6GoVHz",
        "colab_type": "text"
      },
      "source": [
        "Temporary **anonymous functions**, also called **lambda functions**, can be defined using the `lambda` keyword. They are useful in contexts were a function is needed just once to do something simple.\n",
        "\n",
        "This example is equivalent to the previous one but does not require the function `greater_than_2` to be defined:"
      ]
    },
    {
      "cell_type": "code",
      "metadata": {
        "id": "Tdc-A3CCkS-_",
        "colab_type": "code",
        "colab": {
          "base_uri": "https://localhost:8080/",
          "height": 35
        },
        "outputId": "af7fc63f-02a9-467e-dc71-13a6367e5ad1"
      },
      "source": [
        "list(filter(lambda x: x > 2, range(5)))"
      ],
      "execution_count": null,
      "outputs": [
        {
          "output_type": "execute_result",
          "data": {
            "text/plain": [
              "[3, 4]"
            ]
          },
          "metadata": {
            "tags": []
          },
          "execution_count": 112
        }
      ]
    },
    {
      "cell_type": "markdown",
      "metadata": {
        "id": "jhLHgGm8o3so",
        "colab_type": "text"
      },
      "source": [
        "A function can be defined with a **docstring**, or documentation string, which can provide helpful information when `help()` or `?` is used. Docstrings can span multiple lines and are sometimes very detailed (e.g., describing every function argument)."
      ]
    },
    {
      "cell_type": "code",
      "metadata": {
        "id": "m_U0UhMVk-rL",
        "colab_type": "code",
        "colab": {
          "base_uri": "https://localhost:8080/",
          "height": 144
        },
        "outputId": "20e01430-8f7b-4d24-bf7b-33185b0ad3ed"
      },
      "source": [
        "def compute_square(x):\n",
        "    '''Calculate the square of the input\n",
        "    \n",
        "    x: the number to be squared'''\n",
        "    \n",
        "    return x**2\n",
        "\n",
        "help(compute_square)"
      ],
      "execution_count": null,
      "outputs": [
        {
          "output_type": "stream",
          "text": [
            "Help on function compute_square in module __main__:\n",
            "\n",
            "compute_square(x)\n",
            "    Calculate the square of the input\n",
            "    \n",
            "    x: the number to be squared\n",
            "\n"
          ],
          "name": "stdout"
        }
      ]
    },
    {
      "cell_type": "markdown",
      "metadata": {
        "id": "JBF3eflUphLo",
        "colab_type": "text"
      },
      "source": [
        "Multiple values can be returned at once. If they are separated by commas without enclosing brackets, the returned object is a tuple."
      ]
    },
    {
      "cell_type": "code",
      "metadata": {
        "id": "ifdc6CuHlXtv",
        "colab_type": "code",
        "colab": {
          "base_uri": "https://localhost:8080/",
          "height": 35
        },
        "outputId": "8bf77327-5783-450f-d117-9835d58ee978"
      },
      "source": [
        "def powers(x):\n",
        "    return x**1, x**2, x**3\n",
        "\n",
        "x = 4\n",
        "result = powers(x)\n",
        "\n",
        "print(f'Result of powers({x}) is a tuple: {result}')"
      ],
      "execution_count": null,
      "outputs": [
        {
          "output_type": "stream",
          "text": [
            "Result of powers(4) is a tuple: (4, 16, 64)\n"
          ],
          "name": "stdout"
        }
      ]
    },
    {
      "cell_type": "markdown",
      "metadata": {
        "id": "ZN_CJ4sOp4on",
        "colab_type": "text"
      },
      "source": [
        "When a function returns a tuple or list, the result can be **unpacked** into multiple named variables for convenience."
      ]
    },
    {
      "cell_type": "code",
      "metadata": {
        "id": "SFoRX6y3mpME",
        "colab_type": "code",
        "colab": {
          "base_uri": "https://localhost:8080/",
          "height": 90
        },
        "outputId": "3775256b-9f4d-42cd-f80d-b29fe164c61b"
      },
      "source": [
        "x = 4\n",
        "first, second, third = powers(x)\n",
        "\n",
        "print(f'Result of powers({x}) was unpacked into 3 variables...')\n",
        "print(f'first:  {first}')\n",
        "print(f'second: {second}')\n",
        "print(f'third:  {third}')"
      ],
      "execution_count": null,
      "outputs": [
        {
          "output_type": "stream",
          "text": [
            "Result of powers(4) was unpacked into 3 variables...\n",
            "first:  4\n",
            "second: 16\n",
            "third:  64\n"
          ],
          "name": "stdout"
        }
      ]
    },
    {
      "cell_type": "markdown",
      "metadata": {
        "id": "Mt_msWYiqOr9",
        "colab_type": "text"
      },
      "source": [
        "To partially unpack the returned values and discard the rest, use `_` as a placeholder for the results you do not care about."
      ]
    },
    {
      "cell_type": "code",
      "metadata": {
        "id": "nMbhhoQSqCpC",
        "colab_type": "code",
        "colab": {
          "base_uri": "https://localhost:8080/",
          "height": 53
        },
        "outputId": "d75ff9d4-de33-493b-ddda-5abb7e8dbfac"
      },
      "source": [
        "x = 4\n",
        "first, _, _ = powers(x)\n",
        "\n",
        "print(f'The first result of powers({x}) was unpacked but the others were discarded...')\n",
        "print(f'first:  {first}')"
      ],
      "execution_count": null,
      "outputs": [
        {
          "output_type": "stream",
          "text": [
            "The first result of powers(4) was unpacked but the others were discarded...\n",
            "first:  4\n"
          ],
          "name": "stdout"
        }
      ]
    },
    {
      "cell_type": "markdown",
      "metadata": {
        "id": "ptJrJUavqk85",
        "colab_type": "text"
      },
      "source": [
        "If an asterisk (`*`) precedes an argument name in the function definition, that argument name stands for a sequence of inputs."
      ]
    },
    {
      "cell_type": "code",
      "metadata": {
        "id": "w6Swtlprp5Fb",
        "colab_type": "code",
        "colab": {
          "base_uri": "https://localhost:8080/",
          "height": 35
        },
        "outputId": "ad95d304-b3fc-4e0f-e96e-1d61fc577af8"
      },
      "source": [
        "def my_func(*args):\n",
        "    # everything passed to my_func is stored in args\n",
        "    return args\n",
        "\n",
        "# the retuned object is a tuple containing all of the inputs\n",
        "my_func(123, 'abc', True)"
      ],
      "execution_count": null,
      "outputs": [
        {
          "output_type": "execute_result",
          "data": {
            "text/plain": [
              "(123, 'abc', True)"
            ]
          },
          "metadata": {
            "tags": []
          },
          "execution_count": 117
        }
      ]
    },
    {
      "cell_type": "markdown",
      "metadata": {
        "id": "WlEzWbjPq8bP",
        "colab_type": "text"
      },
      "source": [
        "This is useful when the number of inputs is allowed to vary. For example, this function can take any number of numeric inputs, sums them, and returns a list of the cumulative sums:"
      ]
    },
    {
      "cell_type": "code",
      "metadata": {
        "id": "HW-ZFhZzrs88",
        "colab_type": "code",
        "colab": {
          "base_uri": "https://localhost:8080/",
          "height": 53
        },
        "outputId": "f0297945-a6a2-40cd-b5e6-137b84398681"
      },
      "source": [
        "def cumulative_sum(*nums):\n",
        "    result = [0]\n",
        "    for x in nums:\n",
        "        result.append(result[-1] + x)\n",
        "    return result[1:]\n",
        "\n",
        "print(f'Result for input 10:       {cumulative_sum(10)}')\n",
        "print(f'Result for inputs 1, 2, 3: {cumulative_sum(1, 2, 3)}')"
      ],
      "execution_count": null,
      "outputs": [
        {
          "output_type": "stream",
          "text": [
            "Result for input 10:       [10]\n",
            "Result for inputs 1, 2, 3: [1, 3, 6]\n"
          ],
          "name": "stdout"
        }
      ]
    },
    {
      "cell_type": "markdown",
      "metadata": {
        "id": "UJpMeGBPrgFu",
        "colab_type": "text"
      },
      "source": [
        "Notice that this is different from passing a list as the first argument."
      ]
    },
    {
      "cell_type": "code",
      "metadata": {
        "id": "6JVuUa-esfqE",
        "colab_type": "code",
        "colab": {
          "base_uri": "https://localhost:8080/",
          "height": 316
        },
        "outputId": "68cb91bb-7d13-4719-c09e-4dfc2c4cfbaf"
      },
      "source": [
        "# this does not work because nums should be naked numeric values, not a list\n",
        "cumulative_sum([1, 2, 3])"
      ],
      "execution_count": null,
      "outputs": [
        {
          "output_type": "error",
          "ename": "TypeError",
          "evalue": "ignored",
          "traceback": [
            "\u001b[0;31m---------------------------------------------------------------------------\u001b[0m",
            "\u001b[0;31mTypeError\u001b[0m                                 Traceback (most recent call last)",
            "\u001b[0;32m<ipython-input-119-b326e4e74a4c>\u001b[0m in \u001b[0;36m<module>\u001b[0;34m()\u001b[0m\n\u001b[1;32m      1\u001b[0m \u001b[0;31m# this does not work because nums should be naked numeric values, not a list\u001b[0m\u001b[0;34m\u001b[0m\u001b[0;34m\u001b[0m\u001b[0;34m\u001b[0m\u001b[0m\n\u001b[0;32m----> 2\u001b[0;31m \u001b[0mcumulative_sum\u001b[0m\u001b[0;34m(\u001b[0m\u001b[0;34m[\u001b[0m\u001b[0;36m1\u001b[0m\u001b[0;34m,\u001b[0m \u001b[0;36m2\u001b[0m\u001b[0;34m,\u001b[0m \u001b[0;36m3\u001b[0m\u001b[0;34m]\u001b[0m\u001b[0;34m)\u001b[0m\u001b[0;34m\u001b[0m\u001b[0;34m\u001b[0m\u001b[0m\n\u001b[0m",
            "\u001b[0;32m<ipython-input-118-18b29a464dbb>\u001b[0m in \u001b[0;36mcumulative_sum\u001b[0;34m(*nums)\u001b[0m\n\u001b[1;32m      2\u001b[0m     \u001b[0mresult\u001b[0m \u001b[0;34m=\u001b[0m \u001b[0;34m[\u001b[0m\u001b[0;36m0\u001b[0m\u001b[0;34m]\u001b[0m\u001b[0;34m\u001b[0m\u001b[0;34m\u001b[0m\u001b[0m\n\u001b[1;32m      3\u001b[0m     \u001b[0;32mfor\u001b[0m \u001b[0mx\u001b[0m \u001b[0;32min\u001b[0m \u001b[0mnums\u001b[0m\u001b[0;34m:\u001b[0m\u001b[0;34m\u001b[0m\u001b[0;34m\u001b[0m\u001b[0m\n\u001b[0;32m----> 4\u001b[0;31m         \u001b[0mresult\u001b[0m\u001b[0;34m.\u001b[0m\u001b[0mappend\u001b[0m\u001b[0;34m(\u001b[0m\u001b[0mresult\u001b[0m\u001b[0;34m[\u001b[0m\u001b[0;34m-\u001b[0m\u001b[0;36m1\u001b[0m\u001b[0;34m]\u001b[0m \u001b[0;34m+\u001b[0m \u001b[0mx\u001b[0m\u001b[0;34m)\u001b[0m\u001b[0;34m\u001b[0m\u001b[0;34m\u001b[0m\u001b[0m\n\u001b[0m\u001b[1;32m      5\u001b[0m     \u001b[0;32mreturn\u001b[0m \u001b[0mresult\u001b[0m\u001b[0;34m[\u001b[0m\u001b[0;36m1\u001b[0m\u001b[0;34m:\u001b[0m\u001b[0;34m]\u001b[0m\u001b[0;34m\u001b[0m\u001b[0;34m\u001b[0m\u001b[0m\n\u001b[1;32m      6\u001b[0m \u001b[0;34m\u001b[0m\u001b[0m\n",
            "\u001b[0;31mTypeError\u001b[0m: unsupported operand type(s) for +: 'int' and 'list'"
          ]
        }
      ]
    },
    {
      "cell_type": "markdown",
      "metadata": {
        "id": "kImaFt5Jr3yR",
        "colab_type": "text"
      },
      "source": [
        "If a double asterisk (`**`) is used in the function definition before an argument name, that argument represents all **keyword arguments**, which are arguments that must be specified by name when the function is called."
      ]
    },
    {
      "cell_type": "code",
      "metadata": {
        "id": "k69Kxi5Eq2eA",
        "colab_type": "code",
        "colab": {
          "base_uri": "https://localhost:8080/",
          "height": 35
        },
        "outputId": "cde50e07-0698-4e02-8311-3b8c62e74dfc"
      },
      "source": [
        "def my_func(*args, **kwargs):\n",
        "    return args, kwargs\n",
        "\n",
        "my_func(123, 'abc', True, one=1, two=2)"
      ],
      "execution_count": null,
      "outputs": [
        {
          "output_type": "execute_result",
          "data": {
            "text/plain": [
              "((123, 'abc', True), {'one': 1, 'two': 2})"
            ]
          },
          "metadata": {
            "tags": []
          },
          "execution_count": 120
        }
      ]
    },
    {
      "cell_type": "markdown",
      "metadata": {
        "id": "J-jQRs3zsbw2",
        "colab_type": "text"
      },
      "source": [
        "---"
      ]
    },
    {
      "cell_type": "markdown",
      "metadata": {
        "id": "kW-Jw1uVlMy7",
        "colab_type": "text"
      },
      "source": [
        "## IPython \"Magics\" and Extra Features"
      ]
    },
    {
      "cell_type": "markdown",
      "metadata": {
        "id": "48d6nvbyPfw5",
        "colab_type": "text"
      },
      "source": [
        "We have already seen that `%whos` can be used to list symbols and their values, and `?` can be used to display documentation. Neither of these are technically part of the Python language but are instead extra features added by IPython (\"Interactive Python\"), which is a system that Jupyter notebooks are built on top of. These extra features are sometimes refered to as \"IPython magics\"."
      ]
    },
    {
      "cell_type": "code",
      "metadata": {
        "id": "PPCn9fn-lcND",
        "colab_type": "code",
        "colab": {
          "base_uri": "https://localhost:8080/",
          "height": 35
        },
        "outputId": "ccc1fc67-9849-4008-a2ad-7ba1e436e7a4"
      },
      "source": [
        "# use _ to access the most recent result\n",
        "x = 4\n",
        "x"
      ],
      "execution_count": null,
      "outputs": [
        {
          "output_type": "execute_result",
          "data": {
            "text/plain": [
              "4"
            ]
          },
          "metadata": {
            "tags": []
          },
          "execution_count": 121
        }
      ]
    },
    {
      "cell_type": "code",
      "metadata": {
        "id": "qDBMsYsKlshv",
        "colab_type": "code",
        "colab": {
          "base_uri": "https://localhost:8080/",
          "height": 35
        },
        "outputId": "3f4b5007-109a-415d-a687-e91be568a18b"
      },
      "source": [
        "_ + 1"
      ],
      "execution_count": null,
      "outputs": [
        {
          "output_type": "execute_result",
          "data": {
            "text/plain": [
              "5"
            ]
          },
          "metadata": {
            "tags": []
          },
          "execution_count": 122
        }
      ]
    },
    {
      "cell_type": "code",
      "metadata": {
        "id": "UTh1SUdOhUhE",
        "colab_type": "code",
        "colab": {
          "base_uri": "https://localhost:8080/",
          "height": 144
        },
        "outputId": "7542a302-6bb0-4d40-b255-916c8aa9fbd0"
      },
      "source": [
        "# use ! to drop out of Python and into a system shell (command line)\n",
        "! ls /"
      ],
      "execution_count": null,
      "outputs": [
        {
          "output_type": "stream",
          "text": [
            "bin\t\t\t\t\t   etc\t  opt\t sys\n",
            "boot\t\t\t\t\t   home   proc\t tensorflow-1.15.2\n",
            "content\t\t\t\t\t   lib\t  root\t tmp\n",
            "datalab\t\t\t\t\t   lib32  run\t tools\n",
            "dev\t\t\t\t\t   lib64  sbin\t usr\n",
            "dlib-19.18.0-cp27-cp27mu-linux_x86_64.whl  media  srv\t var\n",
            "dlib-19.18.0-cp36-cp36m-linux_x86_64.whl   mnt\t  swift\n"
          ],
          "name": "stdout"
        }
      ]
    },
    {
      "cell_type": "code",
      "metadata": {
        "id": "3OcbWtmlhUVY",
        "colab_type": "code",
        "colab": {}
      },
      "source": [
        ""
      ],
      "execution_count": null,
      "outputs": []
    },
    {
      "cell_type": "code",
      "metadata": {
        "id": "EoXN8xFdmwyK",
        "colab_type": "code",
        "colab": {}
      },
      "source": [
        ""
      ],
      "execution_count": null,
      "outputs": []
    },
    {
      "cell_type": "code",
      "metadata": {
        "id": "zzAI0D6lmwky",
        "colab_type": "code",
        "colab": {}
      },
      "source": [
        ""
      ],
      "execution_count": null,
      "outputs": []
    },
    {
      "cell_type": "code",
      "metadata": {
        "id": "2AduIZEamwWG",
        "colab_type": "code",
        "colab": {}
      },
      "source": [
        ""
      ],
      "execution_count": null,
      "outputs": []
    },
    {
      "cell_type": "code",
      "metadata": {
        "id": "bvJM0ts6mwI7",
        "colab_type": "code",
        "colab": {}
      },
      "source": [
        ""
      ],
      "execution_count": null,
      "outputs": []
    },
    {
      "cell_type": "code",
      "metadata": {
        "id": "Hlnov2M8hUJG",
        "colab_type": "code",
        "colab": {}
      },
      "source": [
        ""
      ],
      "execution_count": null,
      "outputs": []
    },
    {
      "cell_type": "markdown",
      "metadata": {
        "id": "0Pj6wO9ZnQ-I",
        "colab_type": "text"
      },
      "source": [
        "---\n",
        "\n",
        "## Topics for First Lession(s)\n",
        "\n",
        "* Variables in general\n",
        "    * Not declared, not explicitly typed\n",
        "    * Ints and decimals interchangeable\n",
        "    * x += 1\n",
        "    * strings, concatenation with + or join()\n",
        "        * ' '.join() uses attribute notation with a period\n",
        "    * print(), f-strings\n",
        "* Lists\n",
        "    * Can hold inhomogeneous objects, not explicitly typed\n",
        "    * list() and []\n",
        "    * One-dimensional\n",
        "    * Access by index\n",
        "        * Works for strings too\n",
        "    * Slicing\n",
        "    * list(range()), really a generator\n",
        "    * List comprehension\n",
        "* Dictionaries\n",
        "    * Again not typed\n",
        "    * Access by key\n",
        "    * dict() and {}\n",
        "    * Dictionary comprehension\n",
        "* Tuples\n",
        "    * Immutable, usable as dict keys\n",
        "    * tuple()\n",
        "\n",
        "* \"Pythonic\"\n",
        "    * The Zen of Python\n",
        "    * Example: traditional for-loop vs comprehension\n",
        "        * for, in keywords\n",
        "            * get fancy with zip()\n",
        "\n",
        "* Whitespace, trailing commas, comments\n",
        "\n",
        "* Built-in functions and keywords\n",
        "    * and, or, not, is, ==, True, False, None\n",
        "    * round(), int(), float(), abs(), len()\n",
        "    * input()\n",
        "    * with open() as f\n",
        "    * help() and the official documentation (always check version)\n",
        "\n",
        "* IPython magic / extra features\n",
        "    * %whos\n",
        "    * _ for last output\n",
        "    * ? for help\n",
        "    * ! for shell\n",
        "\n",
        "* Creating functions, classes\n",
        "    * Variable scope\n",
        "    * Object oriented programming with classes\n",
        "        * Object attributes\n",
        "\n",
        "* Modules, imports, packages\n",
        "    * import this (Zen of Python)\n",
        "    * import antigravity (xkcd)\n",
        "    * Namespaces\n",
        "        * from foo import *\n",
        "    * Standard libraries\n",
        "        * math, random, os, sys, io\n",
        "\n",
        "* Creating a program\n",
        "\n",
        "* Debugging errors, exceptions, try/except\n",
        "\n",
        "* Python 2 vs 3\n",
        "\n",
        "## Advanced Lessions\n",
        "\n",
        "* Numpy\n",
        "* pandas\n",
        "    * reading and writing data\n",
        "* matplotlib\n",
        "    * exporting plots\n",
        "* Neo, quantities\n",
        "* neurotic\n",
        "* Version control, Git, GitHub\n",
        "* Command line, IDE, Spyder, notebooks\n",
        "\n",
        "---"
      ]
    },
    {
      "cell_type": "markdown",
      "metadata": {
        "id": "ywlbOi3FUWgK",
        "colab_type": "text"
      },
      "source": [
        "## External Resources"
      ]
    },
    {
      "cell_type": "markdown",
      "metadata": {
        "id": "Nl36l9SJSGG9",
        "colab_type": "text"
      },
      "source": [
        "The official language documentation:\n",
        "\n",
        "* [Python 3 documentation](https://docs.python.org/3/index.html)\n",
        "* [Built-in functions](https://docs.python.org/3/library/functions.html)\n",
        "* [Standard libraries](https://docs.python.org/3/library/index.html)\n",
        "* [Glossary of terms](https://docs.python.org/3/glossary.html)\n",
        "* [In-depth tutorial](https://docs.python.org/3/tutorial/index.html)\n",
        "\n",
        "Extended language documentation:\n",
        "* [IPython (Jupyter) vs. Python differences](https://ipython.readthedocs.io/en/stable/interactive/python-ipython-diff.html)\n",
        "* [IPython (Jupyter) \"magic\" (`%`) commands](https://ipython.readthedocs.io/en/stable/interactive/magics.html)\n",
        "\n",
        "Free interactive books created by Jake VanderPlas:\n",
        "\n",
        "* [A Whirlwind Tour of Python](https://colab.research.google.com/github/jakevdp/WhirlwindTourOfPython/blob/master/Index.ipynb) [[PDF version]](https://www.oreilly.com/programming/free/files/a-whirlwind-tour-of-python.pdf)\n",
        "* [Python Data Science Handbook](https://colab.research.google.com/github/jakevdp/PythonDataScienceHandbook/blob/master/notebooks/Index.ipynb)"
      ]
    },
    {
      "cell_type": "markdown",
      "metadata": {
        "id": "c07TBHdokweE",
        "colab_type": "text"
      },
      "source": [
        "# Continue to the Next Lesson\n",
        "\n",
        "Return to home to continue to the next lession:\n",
        "\n",
        "https://jpgill86.github.io/python-for-neuroscientists/"
      ]
    },
    {
      "cell_type": "markdown",
      "metadata": {
        "id": "n-KhMl8xk1Ze",
        "colab_type": "text"
      },
      "source": [
        "# License\n",
        "\n",
        "[This work](https://github.com/jpgill86/python-for-neuroscientists) is licensed under a [Creative Commons Attribution 4.0 International\n",
        "License](http://creativecommons.org/licenses/by/4.0/)."
      ]
    }
  ]
}