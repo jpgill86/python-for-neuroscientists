{
  "nbformat": 4,
  "nbformat_minor": 0,
  "metadata": {
    "colab": {
      "name": "02-The-Core-Language-of-Python.ipynb",
      "provenance": [],
      "collapsed_sections": [],
      "authorship_tag": "ABX9TyP/OL6j9JqK0pLLXVMe0cuO",
      "include_colab_link": true
    },
    "kernelspec": {
      "name": "python3",
      "display_name": "Python 3"
    }
  },
  "cells": [
    {
      "cell_type": "markdown",
      "metadata": {
        "id": "view-in-github",
        "colab_type": "text"
      },
      "source": [
        "<a href=\"https://colab.research.google.com/github/jpgill86/python-for-neuroscientists/blob/master/notebooks/02-The-Core-Language-of-Python.ipynb\" target=\"_parent\"><img src=\"https://colab.research.google.com/assets/colab-badge.svg\" alt=\"Open In Colab\"/></a>"
      ]
    },
    {
      "cell_type": "markdown",
      "metadata": {
        "id": "QRtgy8QlUJSM",
        "colab_type": "text"
      },
      "source": [
        "# The Core Language of Python"
      ]
    },
    {
      "cell_type": "markdown",
      "metadata": {
        "id": "ERBJLx06Lky0",
        "colab_type": "text"
      },
      "source": [
        "## Preface"
      ]
    },
    {
      "cell_type": "markdown",
      "metadata": {
        "id": "EKEQe-jELmlJ",
        "colab_type": "text"
      },
      "source": [
        "This notebook will be primarily focused on \"vanilla\" Python. That is, the core language will be showcased, but third-party libraries (like NumPy, Pandas, Matplotlib) will be discussed elsewhere. This notebook is all about what the basic language can do.\n",
        "\n",
        "That said, there are a some extra features available in Jupyter notebooks that are not part of the core language but will be useful here."
      ]
    },
    {
      "cell_type": "markdown",
      "metadata": {
        "id": "di2Gq7cVXOM_",
        "colab_type": "text"
      },
      "source": [
        "## Comments"
      ]
    },
    {
      "cell_type": "markdown",
      "metadata": {
        "id": "lg_S4UTWXQpw",
        "colab_type": "text"
      },
      "source": [
        "In Python, the `#` character indicates the start of a **comment**. Everything on a line of code that comes after a `#` character is ignored by the computer.\n",
        "\n",
        "(Aside: Colab allows you to attach notes to cells, which are confusingly also called \"comments\". These are not the same thing as code comments.)\n",
        "\n",
        "Code comments have two purposes:\n",
        "\n",
        "* Comments allow you to include explanations of how the code works. This is an essential habit every programmer should develop: **write helpful comments in your code**. This helps others understand how your code works. This (especially) includes *future-you*!\n",
        "* You can **reversibly disable** a line of code by putting a `#` character at the start. When developing code, this is very useful.\n",
        "\n",
        "Here's a trivial example of an explanatory comment:"
      ]
    },
    {
      "cell_type": "code",
      "metadata": {
        "id": "mYSE5BYnZsgS",
        "colab_type": "code",
        "colab": {
          "base_uri": "https://localhost:8080/",
          "height": 35
        },
        "outputId": "ae3e8152-7118-48f3-80ac-9c3ff631478b"
      },
      "source": [
        "# calculate one plus one\n",
        "1 + 1"
      ],
      "execution_count": null,
      "outputs": [
        {
          "output_type": "execute_result",
          "data": {
            "text/plain": [
              "2"
            ]
          },
          "metadata": {
            "tags": []
          },
          "execution_count": 27
        }
      ]
    },
    {
      "cell_type": "markdown",
      "metadata": {
        "id": "NZndinzxZ6km",
        "colab_type": "text"
      },
      "source": [
        "Notice the comment is easily distinguishable by its color.\n",
        "\n",
        "Colab provides a very useful keyboard shortcut for adding and removing the `#` symbol from the current line of code, or many lines at once if you select them first: Ctrl+/ (Cmd+/ on Mac).\n",
        "\n",
        "Try placing your cursor in the code cell below and toggling the comment state of the line using the keyboard shortcut:"
      ]
    },
    {
      "cell_type": "code",
      "metadata": {
        "id": "6503wDsMcUzq",
        "colab_type": "code",
        "colab": {}
      },
      "source": [
        "# 1 + 1"
      ],
      "execution_count": null,
      "outputs": []
    },
    {
      "cell_type": "markdown",
      "metadata": {
        "id": "iYTNC1UTQRTZ",
        "colab_type": "text"
      },
      "source": [
        "## Variables and Operators"
      ]
    },
    {
      "cell_type": "markdown",
      "metadata": {
        "id": "WA2OomvOQXY8",
        "colab_type": "text"
      },
      "source": [
        "Data can be stored in variables using `=`. Try executing the two code cells below in order to first store the value `2` in the variable `x` and then to display the contents of `x`."
      ]
    },
    {
      "cell_type": "code",
      "metadata": {
        "id": "e_2GYieLLBV5",
        "colab_type": "code",
        "colab": {}
      },
      "source": [
        "# store 2 in x\n",
        "x = 1 + 1"
      ],
      "execution_count": 1,
      "outputs": []
    },
    {
      "cell_type": "code",
      "metadata": {
        "id": "MYMDjVCbK15F",
        "colab_type": "code",
        "colab": {
          "base_uri": "https://localhost:8080/",
          "height": 35
        },
        "outputId": "81474df1-c0be-4dac-e2c2-fbf18c3a437f"
      },
      "source": [
        "# output the value of x\n",
        "x"
      ],
      "execution_count": 2,
      "outputs": [
        {
          "output_type": "execute_result",
          "data": {
            "text/plain": [
              "2"
            ]
          },
          "metadata": {
            "tags": []
          },
          "execution_count": 2
        }
      ]
    },
    {
      "cell_type": "markdown",
      "metadata": {
        "id": "SxwD_4d3Rp57",
        "colab_type": "text"
      },
      "source": [
        "You can check a variable's type using the built-in `type()` function:"
      ]
    },
    {
      "cell_type": "code",
      "metadata": {
        "id": "4J1xA6H1S7GI",
        "colab_type": "code",
        "colab": {
          "base_uri": "https://localhost:8080/",
          "height": 35
        },
        "outputId": "857bde94-5672-43bc-b5db-0f5cc22108b8"
      },
      "source": [
        "type(x)"
      ],
      "execution_count": 3,
      "outputs": [
        {
          "output_type": "execute_result",
          "data": {
            "text/plain": [
              "int"
            ]
          },
          "metadata": {
            "tags": []
          },
          "execution_count": 3
        }
      ]
    },
    {
      "cell_type": "markdown",
      "metadata": {
        "id": "NFxV9GUgS86c",
        "colab_type": "text"
      },
      "source": [
        "`int` stands for \"integer\".\n",
        "\n",
        "Unlike some stricter languages, Python allows you to change the type of a variable effortlessly by assigning it a new value."
      ]
    },
    {
      "cell_type": "code",
      "metadata": {
        "id": "WfHybtGqTR7J",
        "colab_type": "code",
        "colab": {}
      },
      "source": [
        "x = 1.5"
      ],
      "execution_count": 4,
      "outputs": []
    },
    {
      "cell_type": "code",
      "metadata": {
        "id": "2qJRlmD2Tz12",
        "colab_type": "code",
        "colab": {
          "base_uri": "https://localhost:8080/",
          "height": 35
        },
        "outputId": "f5f0bdf2-522c-457c-c906-c1c47a0a7cb2"
      },
      "source": [
        "type(x)"
      ],
      "execution_count": 5,
      "outputs": [
        {
          "output_type": "execute_result",
          "data": {
            "text/plain": [
              "float"
            ]
          },
          "metadata": {
            "tags": []
          },
          "execution_count": 5
        }
      ]
    },
    {
      "cell_type": "markdown",
      "metadata": {
        "id": "T7xSp41zTVOX",
        "colab_type": "text"
      },
      "source": [
        "`float` stands for \"floating point number\", which is a format that computers use to represent decimal numbers. `int` and `float` are both numeric types.\n",
        "\n",
        "Truth values are represented in Python using `True` and `False`, which have type `bool` (for \"Boolean\"). `True` and `False` must always start with capital letters. These values can be assigned to variables directly, or they can result from comparisons and tests.\n",
        "\n",
        "For example, the `==` comparison operator (double-equals; this is different from the single-equals `=` used for variable assignment!) can be used to test whether two values match. It will evaluate to either `True` or `False`.\n",
        "\n",
        "Try running the cell below twice, first with `x = 2` and a second time with `x = 1.5`. Use the keyboard shortcut for toggling comments (Ctrl+/ or Cmd+/) to switch which variable assignment is used when the cell runs."
      ]
    },
    {
      "cell_type": "code",
      "metadata": {
        "id": "04f2nV4DTkdk",
        "colab_type": "code",
        "colab": {
          "base_uri": "https://localhost:8080/",
          "height": 35
        },
        "outputId": "9a868c33-4753-49ea-ae47-f3985bbd7ca3"
      },
      "source": [
        "x = 2\n",
        "# x = 1.5\n",
        "type(x) == int"
      ],
      "execution_count": 6,
      "outputs": [
        {
          "output_type": "execute_result",
          "data": {
            "text/plain": [
              "True"
            ]
          },
          "metadata": {
            "tags": []
          },
          "execution_count": 6
        }
      ]
    },
    {
      "cell_type": "markdown",
      "metadata": {
        "id": "aY3xfKBag32B",
        "colab_type": "text"
      },
      "source": [
        "Python can, of course, perform the other basic mathematical operations, not just addition:"
      ]
    },
    {
      "cell_type": "code",
      "metadata": {
        "id": "iENcoDWrhJWa",
        "colab_type": "code",
        "colab": {}
      },
      "source": [
        "5 + 2   # addition        = 7\n",
        "5 - 2   # subtraction     = 3\n",
        "5 * 2   # multiplication  = 10\n",
        "5 / 2   # division        = 2.5\n",
        "5 ** 2  # exponentiation  = 25\n",
        "        # (do NOT use ^ for exponentiation, it does something very different!)\n",
        "\n",
        "5 // 2  # integer division (drop remainder)  = 2\n",
        "5 % 2   # modulus (remainder)                = 1"
      ],
      "execution_count": null,
      "outputs": []
    },
    {
      "cell_type": "markdown",
      "metadata": {
        "id": "HklLwKN-kGdr",
        "colab_type": "text"
      },
      "source": [
        "Python has many more comparison operators:"
      ]
    },
    {
      "cell_type": "code",
      "metadata": {
        "id": "WzuB_2i8kTmg",
        "colab_type": "code",
        "colab": {}
      },
      "source": [
        "x = 2      # assign 2 to x\n",
        "t = True   # assign True to t\n",
        "f = False  # assign False to f\n",
        "\n",
        "x == 2     # equal                  = True\n",
        "x != 2     # not equal              = False\n",
        "x > 2      # greater than           = False\n",
        "x < 2      # less than              = False\n",
        "x >= 2     # greater than or equal  = True\n",
        "x <= 2     # less than or equal     = True\n",
        "\n",
        "t and f    # both true              = False\n",
        "t or f     # either true            = True\n",
        "not t      # negation               = False\n",
        "not f      #                        = True"
      ],
      "execution_count": null,
      "outputs": []
    },
    {
      "cell_type": "markdown",
      "metadata": {
        "id": "ltks2-ABKx1c",
        "colab_type": "text"
      },
      "source": [
        "## Printing"
      ]
    },
    {
      "cell_type": "markdown",
      "metadata": {
        "id": "aXQC7_bXK13G",
        "colab_type": "text"
      },
      "source": [
        "To display the value of a variable or the result of a calculation, you can simply write the variable name or perform the calculation as the last thing in a code cell. For example:"
      ]
    },
    {
      "cell_type": "code",
      "metadata": {
        "id": "JNgiUIoKK06g",
        "colab_type": "code",
        "colab": {
          "base_uri": "https://localhost:8080/",
          "height": 35
        },
        "outputId": "22575cdc-3144-4035-d8af-50789cf57128"
      },
      "source": [
        "x = 1 + 1\n",
        "x"
      ],
      "execution_count": null,
      "outputs": [
        {
          "output_type": "execute_result",
          "data": {
            "text/plain": [
              "2"
            ]
          },
          "metadata": {
            "tags": []
          },
          "execution_count": 91
        }
      ]
    },
    {
      "cell_type": "markdown",
      "metadata": {
        "id": "RrCbYTOZLpfX",
        "colab_type": "text"
      },
      "source": [
        "If you try to do this with multiple variables or calculations, only the last will be displayed automatically:"
      ]
    },
    {
      "cell_type": "code",
      "metadata": {
        "id": "TYCxagQjLnCv",
        "colab_type": "code",
        "colab": {
          "base_uri": "https://localhost:8080/",
          "height": 35
        },
        "outputId": "1d7e456c-544b-49d6-a8f3-ebe9aa8aa60b"
      },
      "source": [
        "x = 1 + 1\n",
        "y = x + 1\n",
        "\n",
        "x\n",
        "y"
      ],
      "execution_count": null,
      "outputs": [
        {
          "output_type": "execute_result",
          "data": {
            "text/plain": [
              "3"
            ]
          },
          "metadata": {
            "tags": []
          },
          "execution_count": 92
        }
      ]
    },
    {
      "cell_type": "markdown",
      "metadata": {
        "id": "ia2rpRTAL2Z6",
        "colab_type": "text"
      },
      "source": [
        "To display multiple things as a result of running one code cell, you can use the `print()` function:"
      ]
    },
    {
      "cell_type": "code",
      "metadata": {
        "id": "l0kZmZHrMFmC",
        "colab_type": "code",
        "colab": {
          "base_uri": "https://localhost:8080/",
          "height": 90
        },
        "outputId": "41daebe7-39bf-4d9c-ade4-5f9ca9857bbf"
      },
      "source": [
        "print(x)\n",
        "print(y)\n",
        "\n",
        "z = y + 1\n",
        "\n",
        "print(z)\n",
        "print(z + 1)"
      ],
      "execution_count": null,
      "outputs": [
        {
          "output_type": "stream",
          "text": [
            "2\n",
            "3\n",
            "4\n",
            "5\n"
          ],
          "name": "stdout"
        }
      ]
    },
    {
      "cell_type": "markdown",
      "metadata": {
        "id": "o3tAb3nZnzYb",
        "colab_type": "text"
      },
      "source": [
        "## Strings"
      ]
    },
    {
      "cell_type": "markdown",
      "metadata": {
        "id": "J7GJkDWroVj9",
        "colab_type": "text"
      },
      "source": [
        "Variables containing text are called strings and have type `str`. Strings can be enclosed by either double quotes (`\"\"`) or single quotes (`''`). Which you use often comes down to personal preference."
      ]
    },
    {
      "cell_type": "code",
      "metadata": {
        "id": "-usEh06mz-cf",
        "colab_type": "code",
        "colab": {
          "base_uri": "https://localhost:8080/",
          "height": 35
        },
        "outputId": "1d161de5-88a7-4366-8625-3b5e3d7ebd48"
      },
      "source": [
        "genus = \"Aplysia\"\n",
        "species = 'californica'\n",
        "\n",
        "type(genus)"
      ],
      "execution_count": null,
      "outputs": [
        {
          "output_type": "execute_result",
          "data": {
            "text/plain": [
              "str"
            ]
          },
          "metadata": {
            "tags": []
          },
          "execution_count": 2
        }
      ]
    },
    {
      "cell_type": "markdown",
      "metadata": {
        "id": "RLDRIAgh2fOj",
        "colab_type": "text"
      },
      "source": [
        "Multi-line strings can be constructed using three quote marks (either `\"\"\"` or `'''`). Inside of a **triple quoted string**, including a backslash (`\\`) at the end of a line will cause the line break immediately following it to be ignored.\n",
        "\n",
        "In the example below, a backslash is included at the end of the first line so that the string will not begin with an empty line. Also, the string is printed using `print()`, instead of just displayed by naming the variable, so that the line breaks will display properly."
      ]
    },
    {
      "cell_type": "code",
      "metadata": {
        "id": "N6kaB_xP2Ieh",
        "colab_type": "code",
        "colab": {
          "base_uri": "https://localhost:8080/",
          "height": 144
        },
        "outputId": "9b3a0139-4b45-4b46-8851-832227b723ae"
      },
      "source": [
        "long_string = \"\"\"\\\n",
        "Strange women lying in ponds\n",
        "distributing swords is no basis\n",
        "for a system of government!\n",
        "Supreme executive power derives\n",
        "from a mandate from the masses,\n",
        "not from some farcical aquatic\n",
        "ceremony!\"\"\"\n",
        "\n",
        "print(long_string)"
      ],
      "execution_count": null,
      "outputs": [
        {
          "output_type": "stream",
          "text": [
            "Strange women lying in ponds\n",
            "distributing swords is no basis\n",
            "for a system of government!\n",
            "Supreme executive power derives\n",
            "from a mandate from the masses,\n",
            "not from some farcical aquatic\n",
            "ceremony!\n"
          ],
          "name": "stdout"
        }
      ]
    },
    {
      "cell_type": "markdown",
      "metadata": {
        "id": "yIB_zDeJ5ZIh",
        "colab_type": "text"
      },
      "source": [
        "(Aside: The Python language is named after the British comedy troupe *Monty Python*, and the text above is a quote from their 1975 film *Monty Python and the Holy Grail*. You will not learn much about programming by watching it, but I still highly recommend it.)\n",
        "\n",
        "Including a literal apostrophe (`'`) or quotation mark (`\"`) inside your string can cause a problem if Python misinterprets the character as terminating your string. You can avoid this problem by either using the other type of quote to enclose your string, or by using a backslash to \"escape\" the literal punctuation mark, which tells Python to not interpret the character as terminating the string. That is, Python will interpret `\\'` and `\\\"` as just punctuation in a string, rather than the end of the string."
      ]
    },
    {
      "cell_type": "code",
      "metadata": {
        "id": "u1IAYrpQ9y_7",
        "colab_type": "code",
        "colab": {
          "base_uri": "https://localhost:8080/",
          "height": 53
        },
        "outputId": "fec38a11-f886-412e-dd20-2a4b2d112601"
      },
      "source": [
        "# option 1: enclose the string in double quotes\n",
        "# so that the apostrophe is not misinterpreted\n",
        "string1 = \"The slug's ink ain't pink.\"\n",
        "\n",
        "# option 2: use a backslash to escape the apostrophe\n",
        "string2 = 'The slug\\'s ink ain\\'t pink.'\n",
        "\n",
        "print(string1)\n",
        "print(string2)"
      ],
      "execution_count": null,
      "outputs": [
        {
          "output_type": "stream",
          "text": [
            "The slug's ink ain't pink.\n",
            "The slug's ink ain't pink.\n"
          ],
          "name": "stdout"
        }
      ]
    },
    {
      "cell_type": "markdown",
      "metadata": {
        "id": "4g5s0sP381r8",
        "colab_type": "text"
      },
      "source": [
        "The value of a string variable can be tested with `==`. Notice that, in the following example, switching from double quotes (above, when `genus` was assigned its value) to single quotes (below) does not matter."
      ]
    },
    {
      "cell_type": "code",
      "metadata": {
        "id": "ctoPaymS0awd",
        "colab_type": "code",
        "colab": {
          "base_uri": "https://localhost:8080/",
          "height": 35
        },
        "outputId": "412ec8c7-0f1f-4f6d-d2ba-9d7edaa1cdd2"
      },
      "source": [
        "genus == 'Aplysia'"
      ],
      "execution_count": null,
      "outputs": [
        {
          "output_type": "execute_result",
          "data": {
            "text/plain": [
              "True"
            ]
          },
          "metadata": {
            "tags": []
          },
          "execution_count": 26
        }
      ]
    },
    {
      "cell_type": "markdown",
      "metadata": {
        "id": "QhFbzs880zmB",
        "colab_type": "text"
      },
      "source": [
        "Strings can also be **concatenated**, or put together, using `+`. Here, a string containing just a space is sandwiched between two string variables:"
      ]
    },
    {
      "cell_type": "code",
      "metadata": {
        "id": "P3uCgkcl1AJS",
        "colab_type": "code",
        "colab": {
          "base_uri": "https://localhost:8080/",
          "height": 36
        },
        "outputId": "68a672c3-0aff-4658-ef79-2db55794078d"
      },
      "source": [
        "genus + ' ' + species"
      ],
      "execution_count": null,
      "outputs": [
        {
          "output_type": "execute_result",
          "data": {
            "application/vnd.google.colaboratory.intrinsic+json": {
              "type": "string"
            },
            "text/plain": [
              "'Aplysia californica'"
            ]
          },
          "metadata": {
            "tags": []
          },
          "execution_count": 4
        }
      ]
    },
    {
      "cell_type": "markdown",
      "metadata": {
        "id": "uY0J_AzNAnaq",
        "colab_type": "text"
      },
      "source": [
        "For more complex string manipulation, a special type of string called an **f-string** may be useful. F-strings are distinguished by the character `f` immediately preceding the enclosing quotes (either `f'...'` or `f\"...\"`). The `f` stands for \"format\", and f-strings allow you both to combine variables into a single string and to control the way numbers are displayed.\n",
        "\n",
        "In an f-string, curly braces (`{}`) may enclose the names of variables or more complex expressions, and those expressions will be evaluated to create the string. For example, the previous example combined a genus and species name with `+` symbols, but this can also be done with f-strings:"
      ]
    },
    {
      "cell_type": "code",
      "metadata": {
        "id": "3OOJGR2V0RJJ",
        "colab_type": "code",
        "colab": {
          "base_uri": "https://localhost:8080/",
          "height": 36
        },
        "outputId": "b1a9b0e4-3b75-4ecd-eaa4-2f935cc1967b"
      },
      "source": [
        "f'{genus} {species}'"
      ],
      "execution_count": null,
      "outputs": [
        {
          "output_type": "execute_result",
          "data": {
            "application/vnd.google.colaboratory.intrinsic+json": {
              "type": "string"
            },
            "text/plain": [
              "'Aplysia californica'"
            ]
          },
          "metadata": {
            "tags": []
          },
          "execution_count": 28
        }
      ]
    },
    {
      "cell_type": "markdown",
      "metadata": {
        "id": "odNiHSEVCKGg",
        "colab_type": "text"
      },
      "source": [
        "F-strings allow calculations to be performed inside of the curly braces:"
      ]
    },
    {
      "cell_type": "code",
      "metadata": {
        "id": "2oyBvwRJCJay",
        "colab_type": "code",
        "colab": {
          "base_uri": "https://localhost:8080/",
          "height": 36
        },
        "outputId": "3aaf7745-8e39-457e-b623-76aa3ad11edc"
      },
      "source": [
        "x = 2\n",
        "y = 8\n",
        "\n",
        "f'{x} raised to the {y}th power is {x**y}'"
      ],
      "execution_count": null,
      "outputs": [
        {
          "output_type": "execute_result",
          "data": {
            "application/vnd.google.colaboratory.intrinsic+json": {
              "type": "string"
            },
            "text/plain": [
              "'2 raised to the 8th power is 256'"
            ]
          },
          "metadata": {
            "tags": []
          },
          "execution_count": 103
        }
      ]
    },
    {
      "cell_type": "markdown",
      "metadata": {
        "id": "qCz9VfcaC3xg",
        "colab_type": "text"
      },
      "source": [
        "F-strings also allow numbers to be formatted just the way you want. For example, you can control how many digits after the decimal point are displayed using `{my_number:.xf}`, where `x` is the number of digits:"
      ]
    },
    {
      "cell_type": "code",
      "metadata": {
        "id": "sgf51uvcDGn2",
        "colab_type": "code",
        "colab": {
          "base_uri": "https://localhost:8080/",
          "height": 36
        },
        "outputId": "3769d6f6-36b0-40cc-ab27-77b7285f4f02"
      },
      "source": [
        "pi = 3.14159265358979323846\n",
        "\n",
        "f'The ratio of a circle\\'s circumferance to its diameter is {pi:.5f}'"
      ],
      "execution_count": null,
      "outputs": [
        {
          "output_type": "execute_result",
          "data": {
            "application/vnd.google.colaboratory.intrinsic+json": {
              "type": "string"
            },
            "text/plain": [
              "\"The ratio of a circle's circumferance to its diameter is 3.14159\""
            ]
          },
          "metadata": {
            "tags": []
          },
          "execution_count": 104
        }
      ]
    },
    {
      "cell_type": "markdown",
      "metadata": {
        "id": "-lXX2habGfdh",
        "colab_type": "text"
      },
      "source": [
        "Prior to the addition of f-strings to Python in 2016, strings could be (and still can be) formatted using different syntax. All of these are equivalent, but f-strings tend to be most readable because of their simplicity, while also being incredibly flexible:"
      ]
    },
    {
      "cell_type": "code",
      "metadata": {
        "id": "C94GIFzdHHoy",
        "colab_type": "code",
        "colab": {
          "base_uri": "https://localhost:8080/",
          "height": 108
        },
        "outputId": "b01fef6d-7bb2-4053-9f02-3c6f46613a8a"
      },
      "source": [
        "string1 = genus + ' ' + species\n",
        "\n",
        "string2 = '%s %s' % (genus, species)\n",
        "\n",
        "string3 = '{} {}'.format(genus, species)\n",
        "\n",
        "string4 = '{g} {s}'.format(g=genus, s=species)\n",
        "\n",
        "string5 = f'{genus} {species}'\n",
        "\n",
        "print(string1)\n",
        "print(string2)\n",
        "print(string3)\n",
        "print(string4)\n",
        "print(string5)"
      ],
      "execution_count": null,
      "outputs": [
        {
          "output_type": "stream",
          "text": [
            "Aplysia californica\n",
            "Aplysia californica\n",
            "Aplysia californica\n",
            "Aplysia californica\n",
            "Aplysia californica\n"
          ],
          "name": "stdout"
        }
      ]
    },
    {
      "cell_type": "markdown",
      "metadata": {
        "id": "DyTGFNGmeJuk",
        "colab_type": "text"
      },
      "source": [
        "The built-in `str()` function can be used to convert objects of other types, such as numbers, into strings:"
      ]
    },
    {
      "cell_type": "code",
      "metadata": {
        "id": "glCFNuUDeRIJ",
        "colab_type": "code",
        "colab": {
          "base_uri": "https://localhost:8080/",
          "height": 36
        },
        "outputId": "1267fdf1-ae03-4b7c-d8fd-0bd9232a0847"
      },
      "source": [
        "str(123)"
      ],
      "execution_count": null,
      "outputs": [
        {
          "output_type": "execute_result",
          "data": {
            "application/vnd.google.colaboratory.intrinsic+json": {
              "type": "string"
            },
            "text/plain": [
              "'123'"
            ]
          },
          "metadata": {
            "tags": []
          },
          "execution_count": 150
        }
      ]
    },
    {
      "cell_type": "markdown",
      "metadata": {
        "id": "6fFMGy5af8w8",
        "colab_type": "text"
      },
      "source": [
        "## If-Else Statements"
      ]
    },
    {
      "cell_type": "code",
      "metadata": {
        "id": "5dRkuOnEgXdc",
        "colab_type": "code",
        "colab": {
          "base_uri": "https://localhost:8080/",
          "height": 35
        },
        "outputId": "bc9a38bd-d99a-45d8-9d6d-52df3e708228"
      },
      "source": [
        "x = 10\n",
        "\n",
        "# colon and indentation are important\n",
        "if x > 0:\n",
        "    print('x is positive')"
      ],
      "execution_count": null,
      "outputs": [
        {
          "output_type": "stream",
          "text": [
            "x is positive\n"
          ],
          "name": "stdout"
        }
      ]
    },
    {
      "cell_type": "code",
      "metadata": {
        "id": "6GsUjUgHgd26",
        "colab_type": "code",
        "colab": {}
      },
      "source": [
        "x = -5\n",
        "\n",
        "# this will do nothing\n",
        "if x > 0:\n",
        "    print('x is positive')"
      ],
      "execution_count": null,
      "outputs": []
    },
    {
      "cell_type": "code",
      "metadata": {
        "id": "CjcEHIPFgB43",
        "colab_type": "code",
        "colab": {
          "base_uri": "https://localhost:8080/",
          "height": 35
        },
        "outputId": "b26f751b-b97c-4e28-f108-fba387397b6a"
      },
      "source": [
        "x = 10\n",
        "\n",
        "if x > 0:\n",
        "    print('x is positive')\n",
        "elif x < 0:\n",
        "    print('x is negative')\n",
        "else:\n",
        "    print('x is zero')"
      ],
      "execution_count": null,
      "outputs": [
        {
          "output_type": "stream",
          "text": [
            "x is positive\n"
          ],
          "name": "stdout"
        }
      ]
    },
    {
      "cell_type": "markdown",
      "metadata": {
        "id": "G8tY5Ru2UQAV",
        "colab_type": "text"
      },
      "source": [
        "## Lists, Tuples, and Slicing"
      ]
    },
    {
      "cell_type": "code",
      "metadata": {
        "id": "HoTigxmBU5fp",
        "colab_type": "code",
        "colab": {
          "base_uri": "https://localhost:8080/",
          "height": 35
        },
        "outputId": "33badaea-b8ca-4e9f-a196-c04bf5e74519"
      },
      "source": [
        "# create a new list using square brackets []\n",
        "x = [0, 10, 20, 30]\n",
        "x"
      ],
      "execution_count": 64,
      "outputs": [
        {
          "output_type": "execute_result",
          "data": {
            "text/plain": [
              "[0, 10, 20, 30]"
            ]
          },
          "metadata": {
            "tags": []
          },
          "execution_count": 64
        }
      ]
    },
    {
      "cell_type": "code",
      "metadata": {
        "id": "3WKOpCWYbhMT",
        "colab_type": "code",
        "colab": {
          "base_uri": "https://localhost:8080/",
          "height": 35
        },
        "outputId": "18251efe-056d-4b83-8c3a-07094553ca57"
      },
      "source": [
        "# append an item to a list\n",
        "x.append(40) # note = is NOT needed for x to permanently change\n",
        "x"
      ],
      "execution_count": 65,
      "outputs": [
        {
          "output_type": "execute_result",
          "data": {
            "text/plain": [
              "[0, 10, 20, 30, 40]"
            ]
          },
          "metadata": {
            "tags": []
          },
          "execution_count": 65
        }
      ]
    },
    {
      "cell_type": "code",
      "metadata": {
        "id": "Olvj9mwCbr_K",
        "colab_type": "code",
        "colab": {
          "base_uri": "https://localhost:8080/",
          "height": 35
        },
        "outputId": "25282a88-bd76-41ee-db68-c4438d80e0e2"
      },
      "source": [
        "# combine lists with +\n",
        "x = x + [50, 60] # note = is needed for x to permanently change\n",
        "x"
      ],
      "execution_count": 66,
      "outputs": [
        {
          "output_type": "execute_result",
          "data": {
            "text/plain": [
              "[0, 10, 20, 30, 40, 50, 60]"
            ]
          },
          "metadata": {
            "tags": []
          },
          "execution_count": 66
        }
      ]
    },
    {
      "cell_type": "code",
      "metadata": {
        "id": "oCuo6EhJVLZh",
        "colab_type": "code",
        "colab": {
          "base_uri": "https://localhost:8080/",
          "height": 35
        },
        "outputId": "25d4722b-e448-4d8d-b874-da997258ea6d"
      },
      "source": [
        "# select the first item by index, which is in position 0\n",
        "x[0]"
      ],
      "execution_count": 67,
      "outputs": [
        {
          "output_type": "execute_result",
          "data": {
            "text/plain": [
              "0"
            ]
          },
          "metadata": {
            "tags": []
          },
          "execution_count": 67
        }
      ]
    },
    {
      "cell_type": "code",
      "metadata": {
        "id": "kRBaweZbVU7V",
        "colab_type": "code",
        "colab": {
          "base_uri": "https://localhost:8080/",
          "height": 35
        },
        "outputId": "edc6bcba-25b6-4b93-9c01-2ad65999e79c"
      },
      "source": [
        "# select the last item\n",
        "x[-1]"
      ],
      "execution_count": 68,
      "outputs": [
        {
          "output_type": "execute_result",
          "data": {
            "text/plain": [
              "60"
            ]
          },
          "metadata": {
            "tags": []
          },
          "execution_count": 68
        }
      ]
    },
    {
      "cell_type": "code",
      "metadata": {
        "id": "IdgQpOU3VsQR",
        "colab_type": "code",
        "colab": {
          "base_uri": "https://localhost:8080/",
          "height": 35
        },
        "outputId": "5f01fb6e-89d0-427f-821a-97175cb01694"
      },
      "source": [
        "# select items in positions 1 (inclusive) through 4 (exclusive)\n",
        "x[1:4]"
      ],
      "execution_count": 69,
      "outputs": [
        {
          "output_type": "execute_result",
          "data": {
            "text/plain": [
              "[10, 20, 30]"
            ]
          },
          "metadata": {
            "tags": []
          },
          "execution_count": 69
        }
      ]
    },
    {
      "cell_type": "code",
      "metadata": {
        "id": "5vBwgDcyVYT6",
        "colab_type": "code",
        "colab": {
          "base_uri": "https://localhost:8080/",
          "height": 35
        },
        "outputId": "52695208-cf91-41c2-c926-80e8cad3de81"
      },
      "source": [
        "# select all items including and after position 2\n",
        "x[2:]"
      ],
      "execution_count": 70,
      "outputs": [
        {
          "output_type": "execute_result",
          "data": {
            "text/plain": [
              "[20, 30, 40, 50, 60]"
            ]
          },
          "metadata": {
            "tags": []
          },
          "execution_count": 70
        }
      ]
    },
    {
      "cell_type": "code",
      "metadata": {
        "id": "kZ2-bBiAVigy",
        "colab_type": "code",
        "colab": {
          "base_uri": "https://localhost:8080/",
          "height": 35
        },
        "outputId": "9fe31e88-407a-47fd-cf4a-2153486735f6"
      },
      "source": [
        "# select items in positions 0 (inclusive) through 6 (exclusive) in steps of 2\n",
        "x[0:6:2]"
      ],
      "execution_count": 71,
      "outputs": [
        {
          "output_type": "execute_result",
          "data": {
            "text/plain": [
              "[0, 20, 40]"
            ]
          },
          "metadata": {
            "tags": []
          },
          "execution_count": 71
        }
      ]
    },
    {
      "cell_type": "code",
      "metadata": {
        "id": "T76aU2cLVF_2",
        "colab_type": "code",
        "colab": {
          "base_uri": "https://localhost:8080/",
          "height": 35
        },
        "outputId": "92be848d-48e8-4d69-b80c-d4a7c0027c1d"
      },
      "source": [
        "# create a new list of objects of different types, including another list\n",
        "y = ['a', 4.5, x]\n",
        "y"
      ],
      "execution_count": 72,
      "outputs": [
        {
          "output_type": "execute_result",
          "data": {
            "text/plain": [
              "['a', 4.5, [0, 10, 20, 30, 40, 50, 60]]"
            ]
          },
          "metadata": {
            "tags": []
          },
          "execution_count": 72
        }
      ]
    },
    {
      "cell_type": "code",
      "metadata": {
        "id": "BfWhKtBTWptg",
        "colab_type": "code",
        "colab": {
          "base_uri": "https://localhost:8080/",
          "height": 35
        },
        "outputId": "809bd379-2da6-41f1-9836-d2940aa607be"
      },
      "source": [
        "# select the item in position 2 (the original list), then select the item in its position 3\n",
        "y[2][3]"
      ],
      "execution_count": 73,
      "outputs": [
        {
          "output_type": "execute_result",
          "data": {
            "text/plain": [
              "30"
            ]
          },
          "metadata": {
            "tags": []
          },
          "execution_count": 73
        }
      ]
    },
    {
      "cell_type": "code",
      "metadata": {
        "id": "8_y1ML13W5Fa",
        "colab_type": "code",
        "colab": {
          "base_uri": "https://localhost:8080/",
          "height": 35
        },
        "outputId": "a5f66fbf-6c2f-46bd-c524-825cf991d9b5"
      },
      "source": [
        "# change an item\n",
        "y[2][-1] = 9999\n",
        "y"
      ],
      "execution_count": 74,
      "outputs": [
        {
          "output_type": "execute_result",
          "data": {
            "text/plain": [
              "['a', 4.5, [0, 10, 20, 30, 40, 50, 9999]]"
            ]
          },
          "metadata": {
            "tags": []
          },
          "execution_count": 74
        }
      ]
    },
    {
      "cell_type": "code",
      "metadata": {
        "id": "oB2qkEz5XJwA",
        "colab_type": "code",
        "colab": {
          "base_uri": "https://localhost:8080/",
          "height": 35
        },
        "outputId": "b1e87b33-5d96-47ac-9316-b43bb625f78b"
      },
      "source": [
        "# the original list (x) is changed too because y contains a reference to it\n",
        "x"
      ],
      "execution_count": 75,
      "outputs": [
        {
          "output_type": "execute_result",
          "data": {
            "text/plain": [
              "[0, 10, 20, 30, 40, 50, 9999]"
            ]
          },
          "metadata": {
            "tags": []
          },
          "execution_count": 75
        }
      ]
    },
    {
      "cell_type": "code",
      "metadata": {
        "id": "kZCTXkBJXcMv",
        "colab_type": "code",
        "colab": {
          "base_uri": "https://localhost:8080/",
          "height": 35
        },
        "outputId": "fd3d497f-3dfd-4dfe-d518-9d2672d1da7e"
      },
      "source": [
        "# create a new tuple using parentheses\n",
        "z = ('a', 'b', 'c')\n",
        "z"
      ],
      "execution_count": 76,
      "outputs": [
        {
          "output_type": "execute_result",
          "data": {
            "text/plain": [
              "('a', 'b', 'c')"
            ]
          },
          "metadata": {
            "tags": []
          },
          "execution_count": 76
        }
      ]
    },
    {
      "cell_type": "code",
      "metadata": {
        "id": "LOUOGmu3XuuC",
        "colab_type": "code",
        "colab": {
          "base_uri": "https://localhost:8080/",
          "height": 36
        },
        "outputId": "99701825-ef8a-4d82-ddb5-ed36937ac8e8"
      },
      "source": [
        "# select items in tuples just like lists\n",
        "z[0]"
      ],
      "execution_count": 77,
      "outputs": [
        {
          "output_type": "execute_result",
          "data": {
            "application/vnd.google.colaboratory.intrinsic+json": {
              "type": "string"
            },
            "text/plain": [
              "'a'"
            ]
          },
          "metadata": {
            "tags": []
          },
          "execution_count": 77
        }
      ]
    },
    {
      "cell_type": "code",
      "metadata": {
        "id": "73IjwdRVX1NM",
        "colab_type": "code",
        "colab": {
          "base_uri": "https://localhost:8080/",
          "height": 189
        },
        "outputId": "7c91a548-6f1b-453a-a984-f2d2f8698d5b"
      },
      "source": [
        "# tuples are immutable, meaning they are not allowed to be changed after creation\n",
        "z[0] = 1 # this causes an error!"
      ],
      "execution_count": 78,
      "outputs": [
        {
          "output_type": "error",
          "ename": "TypeError",
          "evalue": "ignored",
          "traceback": [
            "\u001b[0;31m---------------------------------------------------------------------------\u001b[0m",
            "\u001b[0;31mTypeError\u001b[0m                                 Traceback (most recent call last)",
            "\u001b[0;32m<ipython-input-78-3aab6087cfdb>\u001b[0m in \u001b[0;36m<module>\u001b[0;34m()\u001b[0m\n\u001b[1;32m      1\u001b[0m \u001b[0;31m# tuples are immutable, meaning they are not allowed to be changed after creation\u001b[0m\u001b[0;34m\u001b[0m\u001b[0;34m\u001b[0m\u001b[0;34m\u001b[0m\u001b[0m\n\u001b[0;32m----> 2\u001b[0;31m \u001b[0mz\u001b[0m\u001b[0;34m[\u001b[0m\u001b[0;36m0\u001b[0m\u001b[0;34m]\u001b[0m \u001b[0;34m=\u001b[0m \u001b[0;36m1\u001b[0m \u001b[0;31m# this causes an error!\u001b[0m\u001b[0;34m\u001b[0m\u001b[0;34m\u001b[0m\u001b[0m\n\u001b[0m",
            "\u001b[0;31mTypeError\u001b[0m: 'tuple' object does not support item assignment"
          ]
        }
      ]
    },
    {
      "cell_type": "code",
      "metadata": {
        "id": "x45E7l1fYySD",
        "colab_type": "code",
        "colab": {
          "base_uri": "https://localhost:8080/",
          "height": 53
        },
        "outputId": "42fb4620-7ab1-49a7-fc4b-aae5da614f4d"
      },
      "source": [
        "# the built-in list() and tuple() functions can be used to convert one type to the other\n",
        "# - note = is needed for z or x to permanently change\n",
        "print(list(z))\n",
        "print(tuple(x))"
      ],
      "execution_count": 79,
      "outputs": [
        {
          "output_type": "stream",
          "text": [
            "['a', 'b', 'c']\n",
            "(0, 10, 20, 30, 40, 50, 9999)\n"
          ],
          "name": "stdout"
        }
      ]
    },
    {
      "cell_type": "code",
      "metadata": {
        "id": "FdEuuX6fYFpi",
        "colab_type": "code",
        "colab": {
          "base_uri": "https://localhost:8080/",
          "height": 35
        },
        "outputId": "abb7433e-0364-4b56-baa4-9745b137099d"
      },
      "source": [
        "# the built-in range() function can be used to create a list of ascending or descending numbers\n",
        "my_list = list(range(20)) # list() is needed since range() actually creates a generator (a slightly more advanced topic for another time)\n",
        "my_list"
      ],
      "execution_count": 80,
      "outputs": [
        {
          "output_type": "execute_result",
          "data": {
            "text/plain": [
              "[0, 1, 2, 3, 4, 5, 6, 7, 8, 9, 10, 11, 12, 13, 14, 15, 16, 17, 18, 19]"
            ]
          },
          "metadata": {
            "tags": []
          },
          "execution_count": 80
        }
      ]
    },
    {
      "cell_type": "code",
      "metadata": {
        "id": "jnpq94wJZWm_",
        "colab_type": "code",
        "colab": {
          "base_uri": "https://localhost:8080/",
          "height": 35
        },
        "outputId": "35e2572e-42fe-40b8-ea97-48a95f38679b"
      },
      "source": [
        "# range() accepts start, stop, and step arguments\n",
        "my_list = list(range(10, 100, 20))\n",
        "my_list"
      ],
      "execution_count": 81,
      "outputs": [
        {
          "output_type": "execute_result",
          "data": {
            "text/plain": [
              "[10, 30, 50, 70, 90]"
            ]
          },
          "metadata": {
            "tags": []
          },
          "execution_count": 81
        }
      ]
    },
    {
      "cell_type": "code",
      "metadata": {
        "id": "zQmySwczg_qH",
        "colab_type": "code",
        "colab": {
          "base_uri": "https://localhost:8080/",
          "height": 36
        },
        "outputId": "2609f9d7-c1b2-4a5f-a6f7-265f4028b6fb"
      },
      "source": [
        "# strings can be indexed just like lists\n",
        "my_string = \"The slug's ink ain't pink.\"\n",
        "my_string[4:8]"
      ],
      "execution_count": 82,
      "outputs": [
        {
          "output_type": "execute_result",
          "data": {
            "application/vnd.google.colaboratory.intrinsic+json": {
              "type": "string"
            },
            "text/plain": [
              "'slug'"
            ]
          },
          "metadata": {
            "tags": []
          },
          "execution_count": 82
        }
      ]
    },
    {
      "cell_type": "markdown",
      "metadata": {
        "id": "bS8YcdMMa1CS",
        "colab_type": "text"
      },
      "source": [
        "## For Loops and List Comprehensions"
      ]
    },
    {
      "cell_type": "code",
      "metadata": {
        "id": "1Kyl_55hbB_N",
        "colab_type": "code",
        "colab": {
          "base_uri": "https://localhost:8080/",
          "height": 126
        },
        "outputId": "ec5ef121-5d59-4773-8570-4f5b988af2ea"
      },
      "source": [
        "my_list = list(range(6))\n",
        "\n",
        "# colon and indentation are important\n",
        "for i in my_list:\n",
        "    print(i)"
      ],
      "execution_count": null,
      "outputs": [
        {
          "output_type": "stream",
          "text": [
            "0\n",
            "1\n",
            "2\n",
            "3\n",
            "4\n",
            "5\n"
          ],
          "name": "stdout"
        }
      ]
    },
    {
      "cell_type": "code",
      "metadata": {
        "id": "eGZpfA1qbUAW",
        "colab_type": "code",
        "colab": {
          "base_uri": "https://localhost:8080/",
          "height": 126
        },
        "outputId": "0fa25af9-2f74-4e85-9cf1-9c5207eb8642"
      },
      "source": [
        "for i in my_list:\n",
        "    print(i**2)"
      ],
      "execution_count": null,
      "outputs": [
        {
          "output_type": "stream",
          "text": [
            "0\n",
            "1\n",
            "4\n",
            "9\n",
            "16\n",
            "25\n"
          ],
          "name": "stdout"
        }
      ]
    },
    {
      "cell_type": "code",
      "metadata": {
        "id": "-8EBseAebY9r",
        "colab_type": "code",
        "colab": {
          "base_uri": "https://localhost:8080/",
          "height": 35
        },
        "outputId": "57f95f4d-5a5d-42cd-a6e7-0e4d7206941a"
      },
      "source": [
        "another_list = []\n",
        "for i in my_list:\n",
        "    another_list.append(i**2)\n",
        "\n",
        "another_list"
      ],
      "execution_count": null,
      "outputs": [
        {
          "output_type": "execute_result",
          "data": {
            "text/plain": [
              "[0, 1, 4, 9, 16, 25]"
            ]
          },
          "metadata": {
            "tags": []
          },
          "execution_count": 200
        }
      ]
    },
    {
      "cell_type": "code",
      "metadata": {
        "id": "WlNapIW2dv97",
        "colab_type": "code",
        "colab": {
          "base_uri": "https://localhost:8080/",
          "height": 35
        },
        "outputId": "9d3a88b3-9334-4b6b-c592-fbf5bd7c59c7"
      },
      "source": [
        "# basic list comprehension\n",
        "another_list = [i**2 for i in my_list]\n",
        "another_list"
      ],
      "execution_count": null,
      "outputs": [
        {
          "output_type": "execute_result",
          "data": {
            "text/plain": [
              "[0, 1, 4, 9, 16, 25]"
            ]
          },
          "metadata": {
            "tags": []
          },
          "execution_count": 201
        }
      ]
    },
    {
      "cell_type": "code",
      "metadata": {
        "id": "zuJ_V2ene2dd",
        "colab_type": "code",
        "colab": {
          "base_uri": "https://localhost:8080/",
          "height": 35
        },
        "outputId": "280e1cfc-855d-48ad-ba61-76bf7012af69"
      },
      "source": [
        "# list comprehension with conditional\n",
        "another_list = [i**2 for i in my_list if i % 2 == 0]\n",
        "another_list"
      ],
      "execution_count": null,
      "outputs": [
        {
          "output_type": "execute_result",
          "data": {
            "text/plain": [
              "[0, 4, 16]"
            ]
          },
          "metadata": {
            "tags": []
          },
          "execution_count": 202
        }
      ]
    },
    {
      "cell_type": "code",
      "metadata": {
        "id": "IXgkEuppekHU",
        "colab_type": "code",
        "colab": {
          "base_uri": "https://localhost:8080/",
          "height": 35
        },
        "outputId": "3aad80bf-1bc6-4d85-ee78-e8f727cd4815"
      },
      "source": [
        "# list comprehension with complex conditional\n",
        "another_list = [i**2 if i%2==0 else i+100 for i in my_list]\n",
        "another_list"
      ],
      "execution_count": null,
      "outputs": [
        {
          "output_type": "execute_result",
          "data": {
            "text/plain": [
              "[0, 101, 4, 103, 16, 105]"
            ]
          },
          "metadata": {
            "tags": []
          },
          "execution_count": 203
        }
      ]
    },
    {
      "cell_type": "markdown",
      "metadata": {
        "id": "AMA_yUr1UZqi",
        "colab_type": "text"
      },
      "source": [
        "## While Loops"
      ]
    },
    {
      "cell_type": "code",
      "metadata": {
        "id": "pCV4Jl9KgvR3",
        "colab_type": "code",
        "colab": {
          "base_uri": "https://localhost:8080/",
          "height": 108
        },
        "outputId": "baa49cf8-a553-4553-c282-126a78e3693b"
      },
      "source": [
        "x = 0\n",
        "\n",
        "while x < 5:\n",
        "    print(x)\n",
        "    x = x + 1"
      ],
      "execution_count": null,
      "outputs": [
        {
          "output_type": "stream",
          "text": [
            "0\n",
            "1\n",
            "2\n",
            "3\n",
            "4\n"
          ],
          "name": "stdout"
        }
      ]
    },
    {
      "cell_type": "markdown",
      "metadata": {
        "id": "v0G2rk3FUSWn",
        "colab_type": "text"
      },
      "source": [
        "## Dictionaries"
      ]
    },
    {
      "cell_type": "code",
      "metadata": {
        "id": "nKfPDIKqh4_C",
        "colab_type": "code",
        "colab": {
          "base_uri": "https://localhost:8080/",
          "height": 35
        },
        "outputId": "c59acadf-7e8e-443f-b383-263f5af99cb3"
      },
      "source": [
        "# create a new dictionary using curly braces {}\n",
        "x = {'genus': 'Aplysia', 'species': 'californica', 'mass': 150}\n",
        "x"
      ],
      "execution_count": null,
      "outputs": [
        {
          "output_type": "execute_result",
          "data": {
            "text/plain": [
              "{'genus': 'Aplysia', 'mass': 150, 'species': 'californica'}"
            ]
          },
          "metadata": {
            "tags": []
          },
          "execution_count": 211
        }
      ]
    },
    {
      "cell_type": "code",
      "metadata": {
        "id": "qKgS91s1iND3",
        "colab_type": "code",
        "colab": {
          "base_uri": "https://localhost:8080/",
          "height": 36
        },
        "outputId": "7152fb1b-223b-4dd2-b56e-e64e2ff58950"
      },
      "source": [
        "# select items by key\n",
        "x['species']"
      ],
      "execution_count": null,
      "outputs": [
        {
          "output_type": "execute_result",
          "data": {
            "application/vnd.google.colaboratory.intrinsic+json": {
              "type": "string"
            },
            "text/plain": [
              "'californica'"
            ]
          },
          "metadata": {
            "tags": []
          },
          "execution_count": 210
        }
      ]
    },
    {
      "cell_type": "code",
      "metadata": {
        "id": "2Zv5Pku-iVnH",
        "colab_type": "code",
        "colab": {
          "base_uri": "https://localhost:8080/",
          "height": 35
        },
        "outputId": "7768f50c-c5c7-4ea9-bc76-f74e1b3fa6f8"
      },
      "source": [
        "# change values by key\n",
        "x['mass'] = 300\n",
        "x"
      ],
      "execution_count": null,
      "outputs": [
        {
          "output_type": "execute_result",
          "data": {
            "text/plain": [
              "{'genus': 'Aplysia', 'mass': 300, 'species': 'californica'}"
            ]
          },
          "metadata": {
            "tags": []
          },
          "execution_count": 212
        }
      ]
    },
    {
      "cell_type": "code",
      "metadata": {
        "id": "R7eGsGw1ieTE",
        "colab_type": "code",
        "colab": {
          "base_uri": "https://localhost:8080/",
          "height": 72
        },
        "outputId": "788b926e-d85d-4a1e-9dd1-be5ee32b88cb"
      },
      "source": [
        "# iterate over key-value pairs\n",
        "for k,v in x.items():\n",
        "    print(f'key: {k} --> value: {v}')"
      ],
      "execution_count": null,
      "outputs": [
        {
          "output_type": "stream",
          "text": [
            "key: genus --> value: Aplysia\n",
            "key: species --> value: californica\n",
            "key: mass --> value: 300\n"
          ],
          "name": "stdout"
        }
      ]
    },
    {
      "cell_type": "code",
      "metadata": {
        "id": "q0qefaLfi5qm",
        "colab_type": "code",
        "colab": {
          "base_uri": "https://localhost:8080/",
          "height": 53
        },
        "outputId": "ffcc8fae-a6a7-4986-8813-0794756b2a35"
      },
      "source": [
        "# dictionary comprehension\n",
        "# - use curly braces, and use colon to separate key and value\n",
        "my_list = [1, 2, 3, 4, 5]\n",
        "squares = {i: i**2 for i in my_list}\n",
        "\n",
        "print(squares)\n",
        "print(squares[4])"
      ],
      "execution_count": null,
      "outputs": [
        {
          "output_type": "stream",
          "text": [
            "{1: 1, 2: 4, 3: 9, 4: 16, 5: 25}\n",
            "16\n"
          ],
          "name": "stdout"
        }
      ]
    },
    {
      "cell_type": "markdown",
      "metadata": {
        "id": "XtfHIWprUw5r",
        "colab_type": "text"
      },
      "source": [
        "## Functions"
      ]
    },
    {
      "cell_type": "code",
      "metadata": {
        "id": "B3snzbIcUAx6",
        "colab_type": "code",
        "colab": {
          "base_uri": "https://localhost:8080/",
          "height": 35
        },
        "outputId": "7e709bfb-f88c-4bcb-9769-a19166023212"
      },
      "source": [
        "# note that variables used in function, including the arguments, have local scope\n",
        "\n",
        "def compute_square(x):\n",
        "    return x**2\n",
        "\n",
        "compute_square(4)"
      ],
      "execution_count": null,
      "outputs": [
        {
          "output_type": "execute_result",
          "data": {
            "text/plain": [
              "16"
            ]
          },
          "metadata": {
            "tags": []
          },
          "execution_count": 230
        }
      ]
    },
    {
      "cell_type": "markdown",
      "metadata": {
        "id": "kW-Jw1uVlMy7",
        "colab_type": "text"
      },
      "source": [
        "## IPython \"Magic\" and Extra Features"
      ]
    },
    {
      "cell_type": "code",
      "metadata": {
        "id": "aK-Lcj7LUAkZ",
        "colab_type": "code",
        "colab": {
          "base_uri": "https://localhost:8080/",
          "height": 290
        },
        "outputId": "4ac4e9f9-ffa8-4338-d3ca-553e7c97200d"
      },
      "source": [
        "# use %whos to list all defined symbols and their values\n",
        "%whos"
      ],
      "execution_count": null,
      "outputs": [
        {
          "output_type": "stream",
          "text": [
            "Variable         Type        Data/Info\n",
            "--------------------------------------\n",
            "another_list     list        n=6\n",
            "compute_square   function    <function compute_square at 0x7f07093add08>\n",
            "i                int         5\n",
            "k                str         mass\n",
            "my_list          list        n=5\n",
            "my_string        str         The slug's ink ain't pink.\n",
            "squares          dict        n=5\n",
            "string1          str         The slug's ink ain't pink.\n",
            "string2          str         The slug's ink ain't pink.\n",
            "v                int         300\n",
            "x                dict        n=3\n",
            "y                list        n=3\n",
            "z                tuple       n=3\n"
          ],
          "name": "stdout"
        }
      ]
    },
    {
      "cell_type": "code",
      "metadata": {
        "id": "YoHJKCczlyTM",
        "colab_type": "code",
        "colab": {}
      },
      "source": [
        "# use ? or help() to learn more about something\n",
        "x = 4\n",
        "x?"
      ],
      "execution_count": null,
      "outputs": []
    },
    {
      "cell_type": "code",
      "metadata": {
        "id": "-bQZfyS0mH4d",
        "colab_type": "code",
        "colab": {
          "base_uri": "https://localhost:8080/",
          "height": 235
        },
        "outputId": "eb032e46-ee95-450d-81fe-47e34bb6ac1e"
      },
      "source": [
        "help(print)"
      ],
      "execution_count": null,
      "outputs": [
        {
          "output_type": "stream",
          "text": [
            "Help on built-in function print in module builtins:\n",
            "\n",
            "print(...)\n",
            "    print(value, ..., sep=' ', end='\\n', file=sys.stdout, flush=False)\n",
            "    \n",
            "    Prints the values to a stream, or to sys.stdout by default.\n",
            "    Optional keyword arguments:\n",
            "    file:  a file-like object (stream); defaults to the current sys.stdout.\n",
            "    sep:   string inserted between values, default a space.\n",
            "    end:   string appended after the last value, default a newline.\n",
            "    flush: whether to forcibly flush the stream.\n",
            "\n"
          ],
          "name": "stdout"
        }
      ]
    },
    {
      "cell_type": "code",
      "metadata": {
        "id": "PPCn9fn-lcND",
        "colab_type": "code",
        "colab": {
          "base_uri": "https://localhost:8080/",
          "height": 35
        },
        "outputId": "1ce4a96d-8d06-48c0-aba0-85c3c3d251f6"
      },
      "source": [
        "# use _ to access the most recent result\n",
        "x = 4\n",
        "x"
      ],
      "execution_count": null,
      "outputs": [
        {
          "output_type": "execute_result",
          "data": {
            "text/plain": [
              "4"
            ]
          },
          "metadata": {
            "tags": []
          },
          "execution_count": 244
        }
      ]
    },
    {
      "cell_type": "code",
      "metadata": {
        "id": "qDBMsYsKlshv",
        "colab_type": "code",
        "colab": {
          "base_uri": "https://localhost:8080/",
          "height": 35
        },
        "outputId": "1ddf454d-174a-4df1-defc-70a1f37556d4"
      },
      "source": [
        "_ + 1"
      ],
      "execution_count": null,
      "outputs": [
        {
          "output_type": "execute_result",
          "data": {
            "text/plain": [
              "5"
            ]
          },
          "metadata": {
            "tags": []
          },
          "execution_count": 245
        }
      ]
    },
    {
      "cell_type": "code",
      "metadata": {
        "id": "UTh1SUdOhUhE",
        "colab_type": "code",
        "colab": {
          "base_uri": "https://localhost:8080/",
          "height": 144
        },
        "outputId": "c3b8b101-d460-4d71-cec4-bf958bd2571c"
      },
      "source": [
        "# use ! to drop out of Python and into a system shell (command line)\n",
        "! ls /"
      ],
      "execution_count": null,
      "outputs": [
        {
          "output_type": "stream",
          "text": [
            "bin\t\t\t\t\t   etc\t  opt\t sys\n",
            "boot\t\t\t\t\t   home   proc\t tensorflow-1.15.2\n",
            "content\t\t\t\t\t   lib\t  root\t tmp\n",
            "datalab\t\t\t\t\t   lib32  run\t tools\n",
            "dev\t\t\t\t\t   lib64  sbin\t usr\n",
            "dlib-19.18.0-cp27-cp27mu-linux_x86_64.whl  media  srv\t var\n",
            "dlib-19.18.0-cp36-cp36m-linux_x86_64.whl   mnt\t  swift\n"
          ],
          "name": "stdout"
        }
      ]
    },
    {
      "cell_type": "code",
      "metadata": {
        "id": "3OcbWtmlhUVY",
        "colab_type": "code",
        "colab": {}
      },
      "source": [
        ""
      ],
      "execution_count": null,
      "outputs": []
    },
    {
      "cell_type": "code",
      "metadata": {
        "id": "EoXN8xFdmwyK",
        "colab_type": "code",
        "colab": {}
      },
      "source": [
        ""
      ],
      "execution_count": null,
      "outputs": []
    },
    {
      "cell_type": "code",
      "metadata": {
        "id": "zzAI0D6lmwky",
        "colab_type": "code",
        "colab": {}
      },
      "source": [
        ""
      ],
      "execution_count": null,
      "outputs": []
    },
    {
      "cell_type": "code",
      "metadata": {
        "id": "2AduIZEamwWG",
        "colab_type": "code",
        "colab": {}
      },
      "source": [
        ""
      ],
      "execution_count": null,
      "outputs": []
    },
    {
      "cell_type": "code",
      "metadata": {
        "id": "bvJM0ts6mwI7",
        "colab_type": "code",
        "colab": {}
      },
      "source": [
        ""
      ],
      "execution_count": null,
      "outputs": []
    },
    {
      "cell_type": "code",
      "metadata": {
        "id": "Hlnov2M8hUJG",
        "colab_type": "code",
        "colab": {}
      },
      "source": [
        ""
      ],
      "execution_count": null,
      "outputs": []
    },
    {
      "cell_type": "markdown",
      "metadata": {
        "id": "0Pj6wO9ZnQ-I",
        "colab_type": "text"
      },
      "source": [
        "## Topics for First Lession(s)\n",
        "\n",
        "* Variables in general\n",
        "    * Not declared, not explicitly typed\n",
        "    * Ints and decimals interchangeable\n",
        "    * x += 1\n",
        "    * strings, concatenation with + or join()\n",
        "        * ' '.join() uses attribute notation with a period\n",
        "    * print(), f-strings\n",
        "* Lists\n",
        "    * Can hold inhomogeneous objects, not explicitly typed\n",
        "    * list() and []\n",
        "    * One-dimensional\n",
        "    * Access by index\n",
        "        * Works for strings too\n",
        "    * Slicing\n",
        "    * list(range()), really a generator\n",
        "    * List comprehension\n",
        "* Dictionaries\n",
        "    * Again not typed\n",
        "    * Access by key\n",
        "    * dict() and {}\n",
        "    * Dictionary comprehension\n",
        "* Tuples\n",
        "    * Immutable, usable as dict keys\n",
        "    * tuple()\n",
        "\n",
        "* \"Pythonic\"\n",
        "    * The Zen of Python\n",
        "    * Example: traditional for-loop vs comprehension\n",
        "        * for, in keywords\n",
        "            * get fancy with zip()\n",
        "\n",
        "* Whitespace, trailing commas, comments\n",
        "\n",
        "* Built-in functions and keywords\n",
        "    * and, or, not, is, ==, True, False, None\n",
        "    * round(), int(), float(), abs(), len()\n",
        "    * input()\n",
        "    * with open() as f\n",
        "    * help() and the official documentation (always check version)\n",
        "\n",
        "* IPython magic / extra features\n",
        "    * %whos\n",
        "    * _ for last output\n",
        "    * ? for help\n",
        "    * ! for shell\n",
        "\n",
        "* Creating functions, classes\n",
        "    * Variable scope\n",
        "    * Object oriented programming with classes\n",
        "        * Object attributes\n",
        "\n",
        "* Modules, imports, packages\n",
        "    * import this (Zen of Python)\n",
        "    * import antigravity (xkcd)\n",
        "    * Namespaces\n",
        "        * from foo import *\n",
        "    * Standard libraries\n",
        "        * math, random, os, sys, io\n",
        "\n",
        "* Creating a program\n",
        "\n",
        "* Debugging errors, exceptions, try/except\n",
        "\n",
        "* Python 2 vs 3\n",
        "\n",
        "## Advanced Lessions\n",
        "\n",
        "* Numpy\n",
        "* pandas\n",
        "    * reading and writing data\n",
        "* matplotlib\n",
        "    * exporting plots\n",
        "* Neo, quantities\n",
        "* neurotic\n",
        "* Version control, Git, GitHub\n",
        "* Command line, IDE, Spyder, notebooks"
      ]
    },
    {
      "cell_type": "markdown",
      "metadata": {
        "id": "ywlbOi3FUWgK",
        "colab_type": "text"
      },
      "source": [
        "## External Resources"
      ]
    },
    {
      "cell_type": "markdown",
      "metadata": {
        "id": "Nl36l9SJSGG9",
        "colab_type": "text"
      },
      "source": [
        "The official language documentation:\n",
        "\n",
        "* [Python 3 documentation](https://docs.python.org/3/index.html)\n",
        "* [Built-in functions](https://docs.python.org/3/library/functions.html)\n",
        "* [Standard libraries](https://docs.python.org/3/library/index.html)\n",
        "* [Glossary of terms](https://docs.python.org/3/glossary.html)\n",
        "* [In-depth tutorial](https://docs.python.org/3/tutorial/index.html)\n",
        "\n",
        "Extended language documentation:\n",
        "* [IPython (Jupyter) vs. Python differences](https://ipython.readthedocs.io/en/stable/interactive/python-ipython-diff.html)\n",
        "* [IPython (Jupyter) \"magic\" (`%`) commands](https://ipython.readthedocs.io/en/stable/interactive/magics.html)\n",
        "\n",
        "Free interactive books created by Jake VanderPlas:\n",
        "\n",
        "* [A Whirlwind Tour of Python](https://colab.research.google.com/github/jakevdp/WhirlwindTourOfPython/blob/master/Index.ipynb) [[PDF version]](https://www.oreilly.com/programming/free/files/a-whirlwind-tour-of-python.pdf)\n",
        "* [Python Data Science Handbook](https://colab.research.google.com/github/jakevdp/PythonDataScienceHandbook/blob/master/notebooks/Index.ipynb)"
      ]
    },
    {
      "cell_type": "markdown",
      "metadata": {
        "id": "c07TBHdokweE",
        "colab_type": "text"
      },
      "source": [
        "# Continue to the Next Lesson\n",
        "\n",
        "Return to home to continue to the next lession:\n",
        "\n",
        "https://jpgill86.github.io/python-for-neuroscientists/"
      ]
    },
    {
      "cell_type": "markdown",
      "metadata": {
        "id": "n-KhMl8xk1Ze",
        "colab_type": "text"
      },
      "source": [
        "# License\n",
        "\n",
        "[This work](https://github.com/jpgill86/python-for-neuroscientists) is licensed under a [Creative Commons Attribution 4.0 International\n",
        "License](http://creativecommons.org/licenses/by/4.0/)."
      ]
    }
  ]
}