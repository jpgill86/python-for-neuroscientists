{
  "nbformat": 4,
  "nbformat_minor": 0,
  "metadata": {
    "colab": {
      "name": "02-The-Core-Language-of-Python.ipynb",
      "provenance": [],
      "collapsed_sections": [],
      "authorship_tag": "ABX9TyNXnz9fsuJUsxxIthixUv/K",
      "include_colab_link": true
    },
    "kernelspec": {
      "name": "python3",
      "display_name": "Python 3"
    }
  },
  "cells": [
    {
      "cell_type": "markdown",
      "metadata": {
        "id": "view-in-github",
        "colab_type": "text"
      },
      "source": [
        "<a href=\"https://colab.research.google.com/github/jpgill86/python-for-neuroscientists/blob/master/notebooks/02-The-Core-Language-of-Python.ipynb\" target=\"_parent\"><img src=\"https://colab.research.google.com/assets/colab-badge.svg\" alt=\"Open In Colab\"/></a>"
      ]
    },
    {
      "cell_type": "markdown",
      "metadata": {
        "id": "QRtgy8QlUJSM",
        "colab_type": "text"
      },
      "source": [
        "# The Core Language of Python"
      ]
    },
    {
      "cell_type": "markdown",
      "metadata": {
        "id": "ERBJLx06Lky0",
        "colab_type": "text"
      },
      "source": [
        "## Preface"
      ]
    },
    {
      "cell_type": "markdown",
      "metadata": {
        "id": "EKEQe-jELmlJ",
        "colab_type": "text"
      },
      "source": [
        "This notebook will be primarily focused on \"vanilla\" Python. That is, the core language will be showcased, but third-party libraries (like NumPy, Pandas, Matplotlib) will be discussed elsewhere. This notebook is all about what the basic language can do.\n",
        "\n",
        "That said, there are a some extra features available in Jupyter notebooks that are not part of the core language but will be useful here."
      ]
    },
    {
      "cell_type": "markdown",
      "metadata": {
        "id": "di2Gq7cVXOM_",
        "colab_type": "text"
      },
      "source": [
        "## Comments"
      ]
    },
    {
      "cell_type": "markdown",
      "metadata": {
        "id": "lg_S4UTWXQpw",
        "colab_type": "text"
      },
      "source": [
        "In Python, the `#` character indicates the start of a **comment**. Everything on a line of code that comes after a `#` character is ignored by the computer.\n",
        "\n",
        "(Aside: Colab allows you to attach notes to cells, which are confusingly also called \"comments\". These are not the same thing as code comments.)\n",
        "\n",
        "Code comments have two purposes:\n",
        "\n",
        "* Comments allow you to include explanations of how the code works. This is an essential habit every programmer should develop: **write helpful comments in your code**. This helps others understand how your code works. This (especially) includes *future-you*!\n",
        "* You can **reversibly disable** a line of code by putting a `#` character at the start. When developing code, this is very useful.\n",
        "\n",
        "Here's a trivial example of an explanatory comment:"
      ]
    },
    {
      "cell_type": "code",
      "metadata": {
        "id": "mYSE5BYnZsgS",
        "colab_type": "code",
        "colab": {
          "base_uri": "https://localhost:8080/",
          "height": 35
        },
        "outputId": "ae3e8152-7118-48f3-80ac-9c3ff631478b"
      },
      "source": [
        "# calculate one plus one\n",
        "1 + 1"
      ],
      "execution_count": null,
      "outputs": [
        {
          "output_type": "execute_result",
          "data": {
            "text/plain": [
              "2"
            ]
          },
          "metadata": {
            "tags": []
          },
          "execution_count": 27
        }
      ]
    },
    {
      "cell_type": "markdown",
      "metadata": {
        "id": "NZndinzxZ6km",
        "colab_type": "text"
      },
      "source": [
        "Notice the comment is easily distinguishable by its color.\n",
        "\n",
        "Colab provides a very useful keyboard shortcut for adding and removing the `#` symbol from the current line of code, or many lines at once if you select them first: Ctrl+/ (Cmd+/ on Mac).\n",
        "\n",
        "Try placing your cursor in the code cell below and toggling the comment state of the line using the keyboard shortcut:"
      ]
    },
    {
      "cell_type": "code",
      "metadata": {
        "id": "6503wDsMcUzq",
        "colab_type": "code",
        "colab": {}
      },
      "source": [
        "# 1 + 1"
      ],
      "execution_count": null,
      "outputs": []
    },
    {
      "cell_type": "markdown",
      "metadata": {
        "id": "iYTNC1UTQRTZ",
        "colab_type": "text"
      },
      "source": [
        "## Variables and Operators"
      ]
    },
    {
      "cell_type": "markdown",
      "metadata": {
        "id": "WA2OomvOQXY8",
        "colab_type": "text"
      },
      "source": [
        "Data can be stored in variables using `=`. Try executing the two code cells below in order to first store the value `2` in the variable `x` and then to display the contents of `x`."
      ]
    },
    {
      "cell_type": "code",
      "metadata": {
        "id": "e_2GYieLLBV5",
        "colab_type": "code",
        "colab": {}
      },
      "source": [
        "# store 2 in x\n",
        "x = 1 + 1"
      ],
      "execution_count": null,
      "outputs": []
    },
    {
      "cell_type": "code",
      "metadata": {
        "id": "MYMDjVCbK15F",
        "colab_type": "code",
        "colab": {
          "base_uri": "https://localhost:8080/",
          "height": 35
        },
        "outputId": "f66a2c9e-4792-4fa4-a457-f88209a42661"
      },
      "source": [
        "# output the value of x\n",
        "x"
      ],
      "execution_count": null,
      "outputs": [
        {
          "output_type": "execute_result",
          "data": {
            "text/plain": [
              "2"
            ]
          },
          "metadata": {
            "tags": []
          },
          "execution_count": 31
        }
      ]
    },
    {
      "cell_type": "markdown",
      "metadata": {
        "id": "SxwD_4d3Rp57",
        "colab_type": "text"
      },
      "source": [
        "You can check a variable's type using the built-in `type()` function:"
      ]
    },
    {
      "cell_type": "code",
      "metadata": {
        "id": "4J1xA6H1S7GI",
        "colab_type": "code",
        "colab": {
          "base_uri": "https://localhost:8080/",
          "height": 35
        },
        "outputId": "55442c1f-8b57-4119-ce17-95a75131268d"
      },
      "source": [
        "type(x)"
      ],
      "execution_count": null,
      "outputs": [
        {
          "output_type": "execute_result",
          "data": {
            "text/plain": [
              "int"
            ]
          },
          "metadata": {
            "tags": []
          },
          "execution_count": 32
        }
      ]
    },
    {
      "cell_type": "markdown",
      "metadata": {
        "id": "NFxV9GUgS86c",
        "colab_type": "text"
      },
      "source": [
        "`int` stands for \"integer\".\n",
        "\n",
        "Unlike some stricter languages, Python allows you to change the type of a variable effortlessly by assigning it a new value."
      ]
    },
    {
      "cell_type": "code",
      "metadata": {
        "id": "WfHybtGqTR7J",
        "colab_type": "code",
        "colab": {}
      },
      "source": [
        "x = 1.5"
      ],
      "execution_count": null,
      "outputs": []
    },
    {
      "cell_type": "code",
      "metadata": {
        "id": "2qJRlmD2Tz12",
        "colab_type": "code",
        "colab": {
          "base_uri": "https://localhost:8080/",
          "height": 35
        },
        "outputId": "57e9ef9b-7bba-4ac2-bef3-a869e4b077a1"
      },
      "source": [
        "type(x)"
      ],
      "execution_count": null,
      "outputs": [
        {
          "output_type": "execute_result",
          "data": {
            "text/plain": [
              "float"
            ]
          },
          "metadata": {
            "tags": []
          },
          "execution_count": 39
        }
      ]
    },
    {
      "cell_type": "markdown",
      "metadata": {
        "id": "T7xSp41zTVOX",
        "colab_type": "text"
      },
      "source": [
        "`float` stands for \"floating point number\", which is a format that computers use to represent decimal numbers. `int` and `float` are both numeric types.\n",
        "\n",
        "Truth values are represented in Python using `True` and `False`, which have type `bool` (for \"Boolean\"). `True` and `False` must always start with capital letters. These values can be assigned to variables directly, or they can result from comparisons and tests.\n",
        "\n",
        "For example, the `==` comparison operator (double-equals; this is different from the single-equals `=` used for variable assignment!) can be used to test whether two values match. It will evaluate to either `True` or `False`.\n",
        "\n",
        "Try running the cell below twice, first with `x = 2` and a second time with `x = 1.5`. Use the keyboard shortcut for toggling comments (Ctrl+/ or Cmd+/) to switch which variable assignment is used when the cell runs."
      ]
    },
    {
      "cell_type": "code",
      "metadata": {
        "id": "04f2nV4DTkdk",
        "colab_type": "code",
        "colab": {
          "base_uri": "https://localhost:8080/",
          "height": 35
        },
        "outputId": "deb0f443-7034-445b-8290-e968a035a9c7"
      },
      "source": [
        "x = 2\n",
        "# x = 1.5\n",
        "type(x) == int"
      ],
      "execution_count": null,
      "outputs": [
        {
          "output_type": "execute_result",
          "data": {
            "text/plain": [
              "True"
            ]
          },
          "metadata": {
            "tags": []
          },
          "execution_count": 44
        }
      ]
    },
    {
      "cell_type": "markdown",
      "metadata": {
        "id": "aY3xfKBag32B",
        "colab_type": "text"
      },
      "source": [
        "Python can, of course, perform the other basic mathematical operations, not just addition:"
      ]
    },
    {
      "cell_type": "code",
      "metadata": {
        "id": "iENcoDWrhJWa",
        "colab_type": "code",
        "colab": {}
      },
      "source": [
        "5 + 2   # addition        = 7\n",
        "5 - 2   # subtraction     = 3\n",
        "5 * 2   # multiplication  = 10\n",
        "5 / 2   # division        = 2.5\n",
        "5 ** 2  # exponentiation  = 25\n",
        "        # (do NOT use ^ for exponentiation, it does something very different!)\n",
        "\n",
        "5 // 2  # integer division (drop remainder)  = 2\n",
        "5 % 2   # modulus (remainder)                = 1"
      ],
      "execution_count": null,
      "outputs": []
    },
    {
      "cell_type": "markdown",
      "metadata": {
        "id": "HklLwKN-kGdr",
        "colab_type": "text"
      },
      "source": [
        "Python has many more comparison operators:"
      ]
    },
    {
      "cell_type": "code",
      "metadata": {
        "id": "WzuB_2i8kTmg",
        "colab_type": "code",
        "colab": {}
      },
      "source": [
        "x = 2      # assign 2 to x\n",
        "t = True   # assign True to t\n",
        "f = False  # assign False to f\n",
        "\n",
        "x == 2     # equal                  = True\n",
        "x != 2     # not equal              = False\n",
        "x > 2      # greater than           = False\n",
        "x < 2      # less than              = False\n",
        "x >= 2     # greater than or equal  = True\n",
        "x <= 2     # less than or equal     = True\n",
        "\n",
        "t and f    # both true              = False\n",
        "t or f     # either true            = True\n",
        "not t      # negation               = False\n",
        "not f      #                        = True"
      ],
      "execution_count": null,
      "outputs": []
    },
    {
      "cell_type": "markdown",
      "metadata": {
        "id": "ltks2-ABKx1c",
        "colab_type": "text"
      },
      "source": [
        "## Printing"
      ]
    },
    {
      "cell_type": "markdown",
      "metadata": {
        "id": "aXQC7_bXK13G",
        "colab_type": "text"
      },
      "source": [
        "To display the value of a variable or the result of a calculation, you can simply write the variable name or perform the calculation as the last thing in a code cell. For example:"
      ]
    },
    {
      "cell_type": "code",
      "metadata": {
        "id": "JNgiUIoKK06g",
        "colab_type": "code",
        "colab": {
          "base_uri": "https://localhost:8080/",
          "height": 35
        },
        "outputId": "22575cdc-3144-4035-d8af-50789cf57128"
      },
      "source": [
        "x = 1 + 1\n",
        "x"
      ],
      "execution_count": 91,
      "outputs": [
        {
          "output_type": "execute_result",
          "data": {
            "text/plain": [
              "2"
            ]
          },
          "metadata": {
            "tags": []
          },
          "execution_count": 91
        }
      ]
    },
    {
      "cell_type": "markdown",
      "metadata": {
        "id": "RrCbYTOZLpfX",
        "colab_type": "text"
      },
      "source": [
        "If you try to do this with multiple variables or calculations, only the last will be displayed automatically:"
      ]
    },
    {
      "cell_type": "code",
      "metadata": {
        "id": "TYCxagQjLnCv",
        "colab_type": "code",
        "colab": {
          "base_uri": "https://localhost:8080/",
          "height": 35
        },
        "outputId": "1d7e456c-544b-49d6-a8f3-ebe9aa8aa60b"
      },
      "source": [
        "x = 1 + 1\n",
        "y = x + 1\n",
        "\n",
        "x\n",
        "y"
      ],
      "execution_count": 92,
      "outputs": [
        {
          "output_type": "execute_result",
          "data": {
            "text/plain": [
              "3"
            ]
          },
          "metadata": {
            "tags": []
          },
          "execution_count": 92
        }
      ]
    },
    {
      "cell_type": "markdown",
      "metadata": {
        "id": "ia2rpRTAL2Z6",
        "colab_type": "text"
      },
      "source": [
        "To display multiple things as a result of running one code cell, you can use the `print()` function:"
      ]
    },
    {
      "cell_type": "code",
      "metadata": {
        "id": "l0kZmZHrMFmC",
        "colab_type": "code",
        "colab": {
          "base_uri": "https://localhost:8080/",
          "height": 90
        },
        "outputId": "41daebe7-39bf-4d9c-ade4-5f9ca9857bbf"
      },
      "source": [
        "print(x)\n",
        "print(y)\n",
        "\n",
        "z = y + 1\n",
        "\n",
        "print(z)\n",
        "print(z + 1)"
      ],
      "execution_count": 98,
      "outputs": [
        {
          "output_type": "stream",
          "text": [
            "2\n",
            "3\n",
            "4\n",
            "5\n"
          ],
          "name": "stdout"
        }
      ]
    },
    {
      "cell_type": "markdown",
      "metadata": {
        "id": "o3tAb3nZnzYb",
        "colab_type": "text"
      },
      "source": [
        "## Strings"
      ]
    },
    {
      "cell_type": "markdown",
      "metadata": {
        "id": "J7GJkDWroVj9",
        "colab_type": "text"
      },
      "source": [
        "Variables containing text are called strings and have type `str`. Strings can be enclosed by either double quotes (`\"\"`) or single quotes (`''`). Which you use often comes down to personal preference."
      ]
    },
    {
      "cell_type": "code",
      "metadata": {
        "id": "-usEh06mz-cf",
        "colab_type": "code",
        "colab": {
          "base_uri": "https://localhost:8080/",
          "height": 35
        },
        "outputId": "1d161de5-88a7-4366-8625-3b5e3d7ebd48"
      },
      "source": [
        "genus = \"Aplysia\"\n",
        "species = 'californica'\n",
        "\n",
        "type(genus)"
      ],
      "execution_count": 2,
      "outputs": [
        {
          "output_type": "execute_result",
          "data": {
            "text/plain": [
              "str"
            ]
          },
          "metadata": {
            "tags": []
          },
          "execution_count": 2
        }
      ]
    },
    {
      "cell_type": "markdown",
      "metadata": {
        "id": "RLDRIAgh2fOj",
        "colab_type": "text"
      },
      "source": [
        "Multi-line strings can be constructed using three quote marks (either `\"\"\"` or `'''`). Inside of a **triple quoted string**, including a backslash (`\\`) at the end of a line will cause the line break immediately following it to be ignored.\n",
        "\n",
        "In the example below, a backslash is included at the end of the first line so that the string will not begin with an empty line. Also, the string is printed using `print()`, instead of just displayed by naming the variable, so that the line breaks will display properly."
      ]
    },
    {
      "cell_type": "code",
      "metadata": {
        "id": "N6kaB_xP2Ieh",
        "colab_type": "code",
        "colab": {
          "base_uri": "https://localhost:8080/",
          "height": 144
        },
        "outputId": "9b3a0139-4b45-4b46-8851-832227b723ae"
      },
      "source": [
        "long_string = \"\"\"\\\n",
        "Strange women lying in ponds\n",
        "distributing swords is no basis\n",
        "for a system of government!\n",
        "Supreme executive power derives\n",
        "from a mandate from the masses,\n",
        "not from some farcical aquatic\n",
        "ceremony!\"\"\"\n",
        "\n",
        "print(long_string)"
      ],
      "execution_count": 101,
      "outputs": [
        {
          "output_type": "stream",
          "text": [
            "Strange women lying in ponds\n",
            "distributing swords is no basis\n",
            "for a system of government!\n",
            "Supreme executive power derives\n",
            "from a mandate from the masses,\n",
            "not from some farcical aquatic\n",
            "ceremony!\n"
          ],
          "name": "stdout"
        }
      ]
    },
    {
      "cell_type": "markdown",
      "metadata": {
        "id": "yIB_zDeJ5ZIh",
        "colab_type": "text"
      },
      "source": [
        "(Aside: The Python language is named after the British comedy troupe *Monty Python*, and the text above is a quote from their 1975 film *Monty Python and the Holy Grail*. You will not learn much about programming by watching it, but I still highly recommend it.)\n",
        "\n",
        "Including a literal apostrophe (`'`) or quotation mark (`\"`) inside your string can cause a problem if Python misinterprets the character as terminating your string. You can avoid this problem by either using the other type of quote to enclose your string, or by using a backslash to \"escape\" the literal punctuation mark, which tells Python to not interpret the character as terminating the string. That is, Python will interpret `\\'` and `\\\"` as just punctuation in a string, rather than the end of the string."
      ]
    },
    {
      "cell_type": "code",
      "metadata": {
        "id": "u1IAYrpQ9y_7",
        "colab_type": "code",
        "colab": {
          "base_uri": "https://localhost:8080/",
          "height": 53
        },
        "outputId": "4468bab7-eb82-4fd2-f5a3-900859060d15"
      },
      "source": [
        "# option 1: enclose the string in double quotes\n",
        "# so that the apostrophe is not misinterpreted\n",
        "string1 = \"The slug's ink is not pink.\"\n",
        "\n",
        "# option 2: use a backslash to escape the apostrophe\n",
        "string2 = 'The slug\\'s ink is not pink.'\n",
        "\n",
        "print(string1)\n",
        "print(string2)"
      ],
      "execution_count": 25,
      "outputs": [
        {
          "output_type": "stream",
          "text": [
            "The slug's ink is not pink.\n",
            "The slug's ink is not pink.\n"
          ],
          "name": "stdout"
        }
      ]
    },
    {
      "cell_type": "markdown",
      "metadata": {
        "id": "4g5s0sP381r8",
        "colab_type": "text"
      },
      "source": [
        "The value of a string variable can be tested with `==`. Notice that, in the following example, switching from double quotes (above, when `genus` was assigned its value) to single quotes (below) does not matter."
      ]
    },
    {
      "cell_type": "code",
      "metadata": {
        "id": "ctoPaymS0awd",
        "colab_type": "code",
        "colab": {
          "base_uri": "https://localhost:8080/",
          "height": 35
        },
        "outputId": "412ec8c7-0f1f-4f6d-d2ba-9d7edaa1cdd2"
      },
      "source": [
        "genus == 'Aplysia'"
      ],
      "execution_count": 26,
      "outputs": [
        {
          "output_type": "execute_result",
          "data": {
            "text/plain": [
              "True"
            ]
          },
          "metadata": {
            "tags": []
          },
          "execution_count": 26
        }
      ]
    },
    {
      "cell_type": "markdown",
      "metadata": {
        "id": "QhFbzs880zmB",
        "colab_type": "text"
      },
      "source": [
        "Strings can also be **concatenated**, or put together, using `+`. Here, a string containing just a space is sandwiched between two string variables:"
      ]
    },
    {
      "cell_type": "code",
      "metadata": {
        "id": "P3uCgkcl1AJS",
        "colab_type": "code",
        "colab": {
          "base_uri": "https://localhost:8080/",
          "height": 36
        },
        "outputId": "68a672c3-0aff-4658-ef79-2db55794078d"
      },
      "source": [
        "genus + ' ' + species"
      ],
      "execution_count": 4,
      "outputs": [
        {
          "output_type": "execute_result",
          "data": {
            "application/vnd.google.colaboratory.intrinsic+json": {
              "type": "string"
            },
            "text/plain": [
              "'Aplysia californica'"
            ]
          },
          "metadata": {
            "tags": []
          },
          "execution_count": 4
        }
      ]
    },
    {
      "cell_type": "markdown",
      "metadata": {
        "id": "uY0J_AzNAnaq",
        "colab_type": "text"
      },
      "source": [
        "For more complex string manipulation, a special type of string called an **f-string** may be useful. F-strings are distinguished by the character `f` immediately preceding the enclosing quotes (either `f'...'` or `f\"...\"`). The `f` stands for \"format\", and f-strings allow you both to combine variables into a single string and to control the way numbers are displayed.\n",
        "\n",
        "In an f-string, curly braces (`{}`) may enclose the names of variables or more complex expressions, and those expressions will be evaluated to create the string. For example, the previous example combined a genus and species name with `+` symbols, but this can also be done with f-strings:"
      ]
    },
    {
      "cell_type": "code",
      "metadata": {
        "id": "3OOJGR2V0RJJ",
        "colab_type": "code",
        "colab": {
          "base_uri": "https://localhost:8080/",
          "height": 36
        },
        "outputId": "b1a9b0e4-3b75-4ecd-eaa4-2f935cc1967b"
      },
      "source": [
        "f'{genus} {species}'"
      ],
      "execution_count": 28,
      "outputs": [
        {
          "output_type": "execute_result",
          "data": {
            "application/vnd.google.colaboratory.intrinsic+json": {
              "type": "string"
            },
            "text/plain": [
              "'Aplysia californica'"
            ]
          },
          "metadata": {
            "tags": []
          },
          "execution_count": 28
        }
      ]
    },
    {
      "cell_type": "markdown",
      "metadata": {
        "id": "odNiHSEVCKGg",
        "colab_type": "text"
      },
      "source": [
        "F-strings allow calculations to be performed inside of the curly braces:"
      ]
    },
    {
      "cell_type": "code",
      "metadata": {
        "id": "2oyBvwRJCJay",
        "colab_type": "code",
        "colab": {
          "base_uri": "https://localhost:8080/",
          "height": 36
        },
        "outputId": "3aaf7745-8e39-457e-b623-76aa3ad11edc"
      },
      "source": [
        "x = 2\n",
        "y = 8\n",
        "\n",
        "f'{x} raised to the {y}th power is {x**y}'"
      ],
      "execution_count": 103,
      "outputs": [
        {
          "output_type": "execute_result",
          "data": {
            "application/vnd.google.colaboratory.intrinsic+json": {
              "type": "string"
            },
            "text/plain": [
              "'2 raised to the 8th power is 256'"
            ]
          },
          "metadata": {
            "tags": []
          },
          "execution_count": 103
        }
      ]
    },
    {
      "cell_type": "markdown",
      "metadata": {
        "id": "qCz9VfcaC3xg",
        "colab_type": "text"
      },
      "source": [
        "F-strings also allow numbers to be formatted just the way you want. For example, you can control how many digits after the decimal point are displayed using `{my_number:.xf}`, where `x` is the number of digits:"
      ]
    },
    {
      "cell_type": "code",
      "metadata": {
        "id": "sgf51uvcDGn2",
        "colab_type": "code",
        "colab": {
          "base_uri": "https://localhost:8080/",
          "height": 36
        },
        "outputId": "3769d6f6-36b0-40cc-ab27-77b7285f4f02"
      },
      "source": [
        "pi = 3.14159265358979323846\n",
        "\n",
        "f'The ratio of a circle\\'s circumferance to its diameter is {pi:.5f}'"
      ],
      "execution_count": 104,
      "outputs": [
        {
          "output_type": "execute_result",
          "data": {
            "application/vnd.google.colaboratory.intrinsic+json": {
              "type": "string"
            },
            "text/plain": [
              "\"The ratio of a circle's circumferance to its diameter is 3.14159\""
            ]
          },
          "metadata": {
            "tags": []
          },
          "execution_count": 104
        }
      ]
    },
    {
      "cell_type": "markdown",
      "metadata": {
        "id": "-lXX2habGfdh",
        "colab_type": "text"
      },
      "source": [
        "Prior to the addition of f-strings to Python in 2016, strings could be (and still can be) formatted using different syntax. All of these are equivalent, but f-strings tend to be most readable because of their simplicity, while also being incredibly flexible:"
      ]
    },
    {
      "cell_type": "code",
      "metadata": {
        "id": "C94GIFzdHHoy",
        "colab_type": "code",
        "colab": {
          "base_uri": "https://localhost:8080/",
          "height": 108
        },
        "outputId": "b01fef6d-7bb2-4053-9f02-3c6f46613a8a"
      },
      "source": [
        "string1 = genus + ' ' + species\n",
        "\n",
        "string2 = '%s %s' % (genus, species)\n",
        "\n",
        "string3 = '{} {}'.format(genus, species)\n",
        "\n",
        "string4 = '{g} {s}'.format(g=genus, s=species)\n",
        "\n",
        "string5 = f'{genus} {species}'\n",
        "\n",
        "print(string1)\n",
        "print(string2)\n",
        "print(string3)\n",
        "print(string4)\n",
        "print(string5)"
      ],
      "execution_count": 105,
      "outputs": [
        {
          "output_type": "stream",
          "text": [
            "Aplysia californica\n",
            "Aplysia californica\n",
            "Aplysia californica\n",
            "Aplysia californica\n",
            "Aplysia californica\n"
          ],
          "name": "stdout"
        }
      ]
    },
    {
      "cell_type": "code",
      "metadata": {
        "id": "JeqWB1YdHHJ1",
        "colab_type": "code",
        "colab": {}
      },
      "source": [
        ""
      ],
      "execution_count": null,
      "outputs": []
    },
    {
      "cell_type": "markdown",
      "metadata": {
        "id": "0Pj6wO9ZnQ-I",
        "colab_type": "text"
      },
      "source": [
        "## Topics for First Lession(s)\n",
        "\n",
        "* Variables in general\n",
        "    * Not declared, not explicitly typed\n",
        "    * Ints and decimals interchangeable\n",
        "    * x += 1\n",
        "    * strings, concatenation with + or join()\n",
        "        * ' '.join() uses attribute notation with a period\n",
        "    * print(), f-strings\n",
        "* Lists\n",
        "    * Can hold inhomogeneous objects, not explicitly typed\n",
        "    * list() and []\n",
        "    * One-dimensional\n",
        "    * Access by index\n",
        "        * Works for strings too\n",
        "    * Slicing\n",
        "    * list(range()), really a generator\n",
        "    * List comprehension\n",
        "* Dictionaries\n",
        "    * Again not typed\n",
        "    * Access by key\n",
        "    * dict() and {}\n",
        "    * Dictionary comprehension\n",
        "* Tuples\n",
        "    * Immutable, usable as dict keys\n",
        "    * tuple()\n",
        "\n",
        "* \"Pythonic\"\n",
        "    * The Zen of Python\n",
        "    * Example: traditional for-loop vs comprehension\n",
        "        * for, in keywords\n",
        "            * get fancy with zip()\n",
        "\n",
        "* Whitespace, trailing commas, comments\n",
        "\n",
        "* Built-in functions and keywords\n",
        "    * and, or, not, is, ==, True, False, None\n",
        "    * round(), int(), float(), abs(), len()\n",
        "    * input()\n",
        "    * with open() as f\n",
        "    * help() and the official documentation (always check version)\n",
        "\n",
        "* IPython magic / extra features\n",
        "    * %whos\n",
        "    * _ for last output\n",
        "    * ? for help\n",
        "    * ! for shell\n",
        "\n",
        "* Creating functions, classes\n",
        "    * Variable scope\n",
        "    * Object oriented programming with classes\n",
        "        * Object attributes\n",
        "\n",
        "* Modules, imports, packages\n",
        "    * import this (Zen of Python)\n",
        "    * import antigravity (xkcd)\n",
        "    * Namespaces\n",
        "        * from foo import *\n",
        "    * Standard libraries\n",
        "        * math, random, os, sys, io\n",
        "\n",
        "* Creating a program\n",
        "\n",
        "* Debugging errors, exceptions, try/except\n",
        "\n",
        "* Python 2 vs 3\n",
        "\n",
        "## Advanced Lessions\n",
        "\n",
        "* Numpy\n",
        "* pandas\n",
        "    * reading and writing data\n",
        "* matplotlib\n",
        "    * exporting plots\n",
        "* Neo, quantities\n",
        "* neurotic\n",
        "* Version control, Git, GitHub\n",
        "* Command line, IDE, Spyder, notebooks"
      ]
    },
    {
      "cell_type": "markdown",
      "metadata": {
        "id": "ywlbOi3FUWgK",
        "colab_type": "text"
      },
      "source": [
        "## External Resources"
      ]
    },
    {
      "cell_type": "markdown",
      "metadata": {
        "id": "Nl36l9SJSGG9",
        "colab_type": "text"
      },
      "source": [
        "The official language documentation:\n",
        "\n",
        "* [Python 3 documentation](https://docs.python.org/3/index.html)\n",
        "* [Built-in functions](https://docs.python.org/3/library/functions.html)\n",
        "* [Standard libraries](https://docs.python.org/3/library/index.html)\n",
        "* [Glossary of terms](https://docs.python.org/3/glossary.html)\n",
        "* [In-depth tutorial](https://docs.python.org/3/tutorial/index.html)\n",
        "\n",
        "Extended language documentation:\n",
        "* [IPython (Jupyter) vs. Python differences](https://ipython.readthedocs.io/en/stable/interactive/python-ipython-diff.html)\n",
        "* [IPython (Jupyter) \"magic\" (`%`) commands](https://ipython.readthedocs.io/en/stable/interactive/magics.html)\n",
        "\n",
        "Free interactive books created by Jake VanderPlas:\n",
        "\n",
        "* [A Whirlwind Tour of Python](https://colab.research.google.com/github/jakevdp/WhirlwindTourOfPython/blob/master/Index.ipynb) [[PDF version]](https://www.oreilly.com/programming/free/files/a-whirlwind-tour-of-python.pdf)\n",
        "* [Python Data Science Handbook](https://colab.research.google.com/github/jakevdp/PythonDataScienceHandbook/blob/master/notebooks/Index.ipynb)"
      ]
    },
    {
      "cell_type": "markdown",
      "metadata": {
        "id": "c07TBHdokweE",
        "colab_type": "text"
      },
      "source": [
        "# Continue to the Next Lesson\n",
        "\n",
        "Return to home to continue to the next lession:\n",
        "\n",
        "https://jpgill86.github.io/python-for-neuroscientists/"
      ]
    },
    {
      "cell_type": "markdown",
      "metadata": {
        "id": "n-KhMl8xk1Ze",
        "colab_type": "text"
      },
      "source": [
        "# License\n",
        "\n",
        "[This work](https://github.com/jpgill86/python-for-neuroscientists) is licensed under a [Creative Commons Attribution 4.0 International\n",
        "License](http://creativecommons.org/licenses/by/4.0/)."
      ]
    }
  ]
}