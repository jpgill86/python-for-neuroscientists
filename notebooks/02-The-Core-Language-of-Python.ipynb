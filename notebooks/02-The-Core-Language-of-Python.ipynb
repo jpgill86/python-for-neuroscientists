{
  "nbformat": 4,
  "nbformat_minor": 0,
  "metadata": {
    "colab": {
      "name": "02-The-Core-Language-of-Python.ipynb",
      "provenance": [],
      "collapsed_sections": [],
      "authorship_tag": "ABX9TyPq5jOpk8yT3U53956bRVN9",
      "include_colab_link": true
    },
    "kernelspec": {
      "name": "python3",
      "display_name": "Python 3"
    }
  },
  "cells": [
    {
      "cell_type": "markdown",
      "metadata": {
        "id": "view-in-github",
        "colab_type": "text"
      },
      "source": [
        "<a href=\"https://colab.research.google.com/github/jpgill86/python-for-neuroscientists/blob/master/notebooks/02-The-Core-Language-of-Python.ipynb\" target=\"_parent\"><img src=\"https://colab.research.google.com/assets/colab-badge.svg\" alt=\"Open In Colab\"/></a>"
      ]
    },
    {
      "cell_type": "markdown",
      "metadata": {
        "id": "QRtgy8QlUJSM",
        "colab_type": "text"
      },
      "source": [
        "# The Core Language of Python"
      ]
    },
    {
      "cell_type": "markdown",
      "metadata": {
        "id": "EKEQe-jELmlJ",
        "colab_type": "text"
      },
      "source": [
        "This notebook will be primarily focused on \"vanilla\" Python. That is, the core language will be showcased, but third-party libraries (like NumPy, Pandas, Matplotlib) will be discussed elsewhere. This notebook is all about what the basic language can do.\n",
        "\n",
        "That said, there are a some extra features available in Jupyter notebooks that are not part of the core language but which will be useful to introduce here. These will be sprinked in where appropriate."
      ]
    },
    {
      "cell_type": "markdown",
      "metadata": {
        "id": "EzxgjskbI3aP",
        "colab_type": "text"
      },
      "source": [
        "## Getting Help While Coding"
      ]
    },
    {
      "cell_type": "markdown",
      "metadata": {
        "id": "OJm7JzuhJGI3",
        "colab_type": "text"
      },
      "source": [
        "Even veteran Python programmers need to look things up sometimes! As you work through this notebook and start to write your own code, keep these tips in mind:\n",
        "\n",
        "* Python has a built-in documentation system, which is accessed using the `help()` function. For example, `help(print)` or `help(str)` can give you more information about functions and data types (try it!). You can use it on variables that have been defined in your code as well.\n",
        "\n",
        "* In Jupyter notebooks, you can get some of the same information (often with fewer technical details) to appear in a separate \"Help\" tab by using the special `?` symbol, which can be placed before or immediately after a name. For examples, try `? print` or `max?`.\n",
        "\n",
        "* The online, official documentation is great for in-depth, definitive information: [https://docs.python.org](https://docs.python.org)\n",
        "\n",
        "* Googling with the right search terms, like \"python list slicing\", will get you very far in life. Just be aware that results for older versions of Python, especially Python 2, may come up and no longer be correct. To check the version of Python you are using, just run this code:"
      ]
    },
    {
      "cell_type": "code",
      "metadata": {
        "id": "aBJ8DWQDNFGs",
        "colab_type": "code",
        "colab": {
          "base_uri": "https://localhost:8080/",
          "height": 53
        },
        "outputId": "c0980d98-75ea-45e6-a615-9a31e81efa44"
      },
      "source": [
        "from sys import version\n",
        "print(version)"
      ],
      "execution_count": null,
      "outputs": [
        {
          "output_type": "stream",
          "text": [
            "3.6.9 (default, Jul 17 2020, 12:50:27) \n",
            "[GCC 8.4.0]\n"
          ],
          "name": "stdout"
        }
      ]
    },
    {
      "cell_type": "markdown",
      "metadata": {
        "id": "di2Gq7cVXOM_",
        "colab_type": "text"
      },
      "source": [
        "## Comments"
      ]
    },
    {
      "cell_type": "markdown",
      "metadata": {
        "id": "lg_S4UTWXQpw",
        "colab_type": "text"
      },
      "source": [
        "In Python, the `#` character indicates the start of a **comment**. Everything on a line of code that comes after a `#` character is ignored by the computer.\n",
        "\n",
        "> *Aside: Colab allows you to attach notes to cells, which are confusingly also called \"comments\". These are not the same thing as code comments.*\n",
        "\n",
        "Code comments have two purposes:\n",
        "\n",
        "* Comments allow you to include explanations of how the code works. This is an essential habit every programmer should develop: **write helpful comments in your code**. This helps others understand how your code works. This (especially) includes *future-you*!\n",
        "* You can **reversibly disable** a line of code by putting a `#` character at the start. When developing code, this is very useful.\n",
        "\n",
        "Here's a trivial example of an explanatory comment:"
      ]
    },
    {
      "cell_type": "code",
      "metadata": {
        "id": "mYSE5BYnZsgS",
        "colab_type": "code",
        "colab": {
          "base_uri": "https://localhost:8080/",
          "height": 35
        },
        "outputId": "400f5857-c60c-4b5f-f9b3-e8af8f48c144"
      },
      "source": [
        "# calculate one plus one\n",
        "1 + 1"
      ],
      "execution_count": null,
      "outputs": [
        {
          "output_type": "execute_result",
          "data": {
            "text/plain": [
              "2"
            ]
          },
          "metadata": {
            "tags": []
          },
          "execution_count": 2
        }
      ]
    },
    {
      "cell_type": "markdown",
      "metadata": {
        "id": "NZndinzxZ6km",
        "colab_type": "text"
      },
      "source": [
        "Notice the comment is easily distinguishable by its color.\n",
        "\n",
        "Colab provides a very useful keyboard shortcut for adding and removing the `#` symbol from the current line of code, or many lines at once if you select them first: Ctrl+/ (Cmd+/ on Mac).\n",
        "\n",
        "Try placing your cursor in the code cell below and toggling the comment state of the line using the keyboard shortcut:"
      ]
    },
    {
      "cell_type": "code",
      "metadata": {
        "id": "6503wDsMcUzq",
        "colab_type": "code",
        "colab": {}
      },
      "source": [
        "# 1 + 1"
      ],
      "execution_count": null,
      "outputs": []
    },
    {
      "cell_type": "markdown",
      "metadata": {
        "id": "iYTNC1UTQRTZ",
        "colab_type": "text"
      },
      "source": [
        "## Variables and Operators"
      ]
    },
    {
      "cell_type": "markdown",
      "metadata": {
        "id": "WA2OomvOQXY8",
        "colab_type": "text"
      },
      "source": [
        "Data can be stored in variables using `=`. Try executing the two code cells below in order to first store the value `2` in the variable `x` and then to display the contents of `x`."
      ]
    },
    {
      "cell_type": "code",
      "metadata": {
        "id": "e_2GYieLLBV5",
        "colab_type": "code",
        "colab": {}
      },
      "source": [
        "# store 2 in x\n",
        "x = 1 + 1"
      ],
      "execution_count": null,
      "outputs": []
    },
    {
      "cell_type": "code",
      "metadata": {
        "id": "MYMDjVCbK15F",
        "colab_type": "code",
        "colab": {
          "base_uri": "https://localhost:8080/",
          "height": 35
        },
        "outputId": "1a455c14-6757-424a-d4bf-2ae82db78759"
      },
      "source": [
        "# output the value of x\n",
        "x"
      ],
      "execution_count": null,
      "outputs": [
        {
          "output_type": "execute_result",
          "data": {
            "text/plain": [
              "2"
            ]
          },
          "metadata": {
            "tags": []
          },
          "execution_count": 5
        }
      ]
    },
    {
      "cell_type": "markdown",
      "metadata": {
        "id": "9q9mptu_OaEm",
        "colab_type": "text"
      },
      "source": [
        "In Jupyter notebooks, you can list all of the variables (and functions, classes, imported modules) that you have defined, along with their values, using the \"magic\" command `%whos`:"
      ]
    },
    {
      "cell_type": "code",
      "metadata": {
        "id": "_N4utwwnKmcd",
        "colab_type": "code",
        "colab": {
          "base_uri": "https://localhost:8080/",
          "height": 90
        },
        "outputId": "0c73d347-ebfc-4d9d-86d6-4e685a6d4023"
      },
      "source": [
        "# remember this one -- it is super useful!\n",
        "%whos"
      ],
      "execution_count": null,
      "outputs": [
        {
          "output_type": "stream",
          "text": [
            "Variable   Type    Data/Info\n",
            "----------------------------\n",
            "version    str     3.6.9 (default, Jul 17 20<...>, 12:50:27) \\n[GCC 8.4.0]\n",
            "x          int     2\n"
          ],
          "name": "stdout"
        }
      ]
    },
    {
      "cell_type": "markdown",
      "metadata": {
        "id": "SxwD_4d3Rp57",
        "colab_type": "text"
      },
      "source": [
        "You can check a variable's type using the built-in `type()` function:"
      ]
    },
    {
      "cell_type": "code",
      "metadata": {
        "id": "4J1xA6H1S7GI",
        "colab_type": "code",
        "colab": {
          "base_uri": "https://localhost:8080/",
          "height": 35
        },
        "outputId": "6cdfd0f7-272a-4d31-d29f-d49765fcd89a"
      },
      "source": [
        "type(x)"
      ],
      "execution_count": null,
      "outputs": [
        {
          "output_type": "execute_result",
          "data": {
            "text/plain": [
              "int"
            ]
          },
          "metadata": {
            "tags": []
          },
          "execution_count": 7
        }
      ]
    },
    {
      "cell_type": "markdown",
      "metadata": {
        "id": "NFxV9GUgS86c",
        "colab_type": "text"
      },
      "source": [
        "`int` stands for \"integer\".\n",
        "\n",
        "Unlike some stricter languages, Python allows you to change the type of a variable effortlessly by assigning it a new value."
      ]
    },
    {
      "cell_type": "code",
      "metadata": {
        "id": "WfHybtGqTR7J",
        "colab_type": "code",
        "colab": {}
      },
      "source": [
        "x = 1.5"
      ],
      "execution_count": null,
      "outputs": []
    },
    {
      "cell_type": "code",
      "metadata": {
        "id": "2qJRlmD2Tz12",
        "colab_type": "code",
        "colab": {
          "base_uri": "https://localhost:8080/",
          "height": 35
        },
        "outputId": "3c7d612d-3d3b-4d53-a020-60ad6fe0b601"
      },
      "source": [
        "type(x)"
      ],
      "execution_count": null,
      "outputs": [
        {
          "output_type": "execute_result",
          "data": {
            "text/plain": [
              "float"
            ]
          },
          "metadata": {
            "tags": []
          },
          "execution_count": 9
        }
      ]
    },
    {
      "cell_type": "markdown",
      "metadata": {
        "id": "T7xSp41zTVOX",
        "colab_type": "text"
      },
      "source": [
        "`float` stands for \"floating point number\", which is a format that computers use to represent decimal numbers. `int` and `float` are both numeric types.\n",
        "\n",
        "Truth values are represented in Python using `True` and `False`, which have type `bool` (for \"Boolean\"). `True` and `False` must always start with capital letters. These values can be assigned to variables directly, or they can result from comparisons and tests.\n",
        "\n",
        "For example, the `==` comparison operator (double-equals; this is different from the single-equals `=` used for variable assignment!) can be used to test whether two values match. It will evaluate to either `True` or `False`.\n",
        "\n",
        "Try running the cell below twice, first with `x = 2` and a second time with `x = 1.5`. Use the keyboard shortcut for toggling comments (Ctrl+/ or Cmd+/) to switch which variable assignment is used when the cell runs."
      ]
    },
    {
      "cell_type": "code",
      "metadata": {
        "id": "04f2nV4DTkdk",
        "colab_type": "code",
        "colab": {
          "base_uri": "https://localhost:8080/",
          "height": 35
        },
        "outputId": "9d46151f-2320-4f5c-e291-b7381ecfd1c6"
      },
      "source": [
        "x = 2\n",
        "# x = 1.5\n",
        "type(x) == int"
      ],
      "execution_count": null,
      "outputs": [
        {
          "output_type": "execute_result",
          "data": {
            "text/plain": [
              "True"
            ]
          },
          "metadata": {
            "tags": []
          },
          "execution_count": 10
        }
      ]
    },
    {
      "cell_type": "markdown",
      "metadata": {
        "id": "aY3xfKBag32B",
        "colab_type": "text"
      },
      "source": [
        "Python can, of course, perform the other basic mathematical operations, not just addition:\n",
        "\n",
        "```python\n",
        "5 + 2   # addition        = 7\n",
        "5 - 2   # subtraction     = 3\n",
        "5 * 2   # multiplication  = 10\n",
        "5 / 2   # division        = 2.5\n",
        "5 ** 2  # exponentiation  = 25\n",
        "        # (do NOT use ^ for exponentiation, it does something very different!)\n",
        "\n",
        "5 // 2  # integer division (drop remainder)  = 2\n",
        "5 % 2   # modulus (remainder)                = 1\n",
        "```\n",
        "\n",
        "Python has many more comparison operators:\n",
        "\n",
        "```python\n",
        "x = 2      # assign 2 to x\n",
        "t = True   # assign True to t\n",
        "f = False  # assign False to f\n",
        "\n",
        "x == 2     # equal                  = True\n",
        "x != 2     # not equal              = False\n",
        "x > 2      # greater than           = False\n",
        "x < 2      # less than              = False\n",
        "x >= 2     # greater than or equal  = True\n",
        "x <= 2     # less than or equal     = True\n",
        "\n",
        "t and f    # both true              = False\n",
        "t or f     # either true            = True\n",
        "not t      # negation               = False\n",
        "not f      #                        = True\n",
        "```"
      ]
    },
    {
      "cell_type": "markdown",
      "metadata": {
        "id": "ltks2-ABKx1c",
        "colab_type": "text"
      },
      "source": [
        "## Printing"
      ]
    },
    {
      "cell_type": "markdown",
      "metadata": {
        "id": "aXQC7_bXK13G",
        "colab_type": "text"
      },
      "source": [
        "To display the value of a variable or the result of a calculation, you can simply write the variable name or perform the calculation as the last thing in a code cell. For example:"
      ]
    },
    {
      "cell_type": "code",
      "metadata": {
        "id": "JNgiUIoKK06g",
        "colab_type": "code",
        "colab": {
          "base_uri": "https://localhost:8080/",
          "height": 35
        },
        "outputId": "bcc1d69d-a652-4421-eae0-9dcda5ea236f"
      },
      "source": [
        "x = 1 + 1\n",
        "x"
      ],
      "execution_count": null,
      "outputs": [
        {
          "output_type": "execute_result",
          "data": {
            "text/plain": [
              "2"
            ]
          },
          "metadata": {
            "tags": []
          },
          "execution_count": 11
        }
      ]
    },
    {
      "cell_type": "markdown",
      "metadata": {
        "id": "RrCbYTOZLpfX",
        "colab_type": "text"
      },
      "source": [
        "If you try to do this with multiple variables or calculations, only the last will be displayed automatically:"
      ]
    },
    {
      "cell_type": "code",
      "metadata": {
        "id": "TYCxagQjLnCv",
        "colab_type": "code",
        "colab": {
          "base_uri": "https://localhost:8080/",
          "height": 35
        },
        "outputId": "f5fb7200-a66e-40bf-9d5a-1633a5d7164f"
      },
      "source": [
        "x = 1 + 1\n",
        "y = x + 1\n",
        "\n",
        "x\n",
        "y"
      ],
      "execution_count": null,
      "outputs": [
        {
          "output_type": "execute_result",
          "data": {
            "text/plain": [
              "3"
            ]
          },
          "metadata": {
            "tags": []
          },
          "execution_count": 12
        }
      ]
    },
    {
      "cell_type": "markdown",
      "metadata": {
        "id": "ia2rpRTAL2Z6",
        "colab_type": "text"
      },
      "source": [
        "To display multiple things as a result of running one code cell, you can use the `print()` function:"
      ]
    },
    {
      "cell_type": "code",
      "metadata": {
        "id": "l0kZmZHrMFmC",
        "colab_type": "code",
        "colab": {
          "base_uri": "https://localhost:8080/",
          "height": 90
        },
        "outputId": "f406b88e-2303-4aa4-8bbd-98d0c550e96d"
      },
      "source": [
        "print(x)\n",
        "print(y)\n",
        "\n",
        "z = y + 1\n",
        "\n",
        "print(z)\n",
        "print(z + 1)"
      ],
      "execution_count": null,
      "outputs": [
        {
          "output_type": "stream",
          "text": [
            "2\n",
            "3\n",
            "4\n",
            "5\n"
          ],
          "name": "stdout"
        }
      ]
    },
    {
      "cell_type": "markdown",
      "metadata": {
        "id": "o3tAb3nZnzYb",
        "colab_type": "text"
      },
      "source": [
        "## Strings"
      ]
    },
    {
      "cell_type": "markdown",
      "metadata": {
        "id": "J7GJkDWroVj9",
        "colab_type": "text"
      },
      "source": [
        "Variables containing text are called strings and have type `str`. Strings can be enclosed by either double quotes (`\"\"`) or single quotes (`''`). Which you use often comes down to personal preference."
      ]
    },
    {
      "cell_type": "code",
      "metadata": {
        "id": "-usEh06mz-cf",
        "colab_type": "code",
        "colab": {
          "base_uri": "https://localhost:8080/",
          "height": 35
        },
        "outputId": "5be8cb8e-91a4-4377-c345-9b5e91da8eba"
      },
      "source": [
        "genus = \"Aplysia\"\n",
        "species = 'californica'\n",
        "\n",
        "type(genus)"
      ],
      "execution_count": null,
      "outputs": [
        {
          "output_type": "execute_result",
          "data": {
            "text/plain": [
              "str"
            ]
          },
          "metadata": {
            "tags": []
          },
          "execution_count": 14
        }
      ]
    },
    {
      "cell_type": "markdown",
      "metadata": {
        "id": "RLDRIAgh2fOj",
        "colab_type": "text"
      },
      "source": [
        "Multi-line strings can be constructed using three quote marks (either `\"\"\"` or `'''`). Inside of a **triple quoted string**, including a backslash (`\\`) at the end of a line will cause the line break immediately following it to be ignored.\n",
        "\n",
        "In the example below, a backslash is included at the end of the first line so that the string will not begin with an empty line. Also, the string is printed using `print()`, instead of just displayed by naming the variable, so that the line breaks will display properly."
      ]
    },
    {
      "cell_type": "code",
      "metadata": {
        "id": "N6kaB_xP2Ieh",
        "colab_type": "code",
        "colab": {
          "base_uri": "https://localhost:8080/",
          "height": 144
        },
        "outputId": "2e667bf2-97d4-49f4-c3b8-da7deb622172"
      },
      "source": [
        "long_string = \"\"\"\\\n",
        "Strange women lying in ponds\n",
        "distributing swords is no basis\n",
        "for a system of government!\n",
        "Supreme executive power derives\n",
        "from a mandate from the masses,\n",
        "not from some farcical aquatic\n",
        "ceremony!\"\"\"\n",
        "\n",
        "print(long_string)"
      ],
      "execution_count": null,
      "outputs": [
        {
          "output_type": "stream",
          "text": [
            "Strange women lying in ponds\n",
            "distributing swords is no basis\n",
            "for a system of government!\n",
            "Supreme executive power derives\n",
            "from a mandate from the masses,\n",
            "not from some farcical aquatic\n",
            "ceremony!\n"
          ],
          "name": "stdout"
        }
      ]
    },
    {
      "cell_type": "markdown",
      "metadata": {
        "id": "yIB_zDeJ5ZIh",
        "colab_type": "text"
      },
      "source": [
        "> *Aside: The Python language is named after the British comedy troupe \"Monty Python\", and the text above is a quote from their 1975 film \"Monty Python and the Holy Grail\". You will not learn much about programming by watching it, but I still highly recommend it.*\n",
        "\n",
        "Including a literal apostrophe (`'`) or quotation mark (`\"`) inside your string can cause a problem if Python misinterprets the character as terminating your string. You can avoid this problem by either using the other type of quote to enclose your string, or by using a backslash to \"escape\" the literal punctuation mark, which tells Python to not interpret the character as terminating the string. That is, Python will interpret `\\'` and `\\\"` as just punctuation in a string, rather than the end of the string."
      ]
    },
    {
      "cell_type": "code",
      "metadata": {
        "id": "u1IAYrpQ9y_7",
        "colab_type": "code",
        "colab": {
          "base_uri": "https://localhost:8080/",
          "height": 53
        },
        "outputId": "74ac4898-3526-41a0-e1b2-b765244f6626"
      },
      "source": [
        "# option 1: enclose the string in double quotes\n",
        "# so that the apostrophe is not misinterpreted\n",
        "string1 = \"The slug's ink ain't pink.\"\n",
        "\n",
        "# option 2: use a backslash to escape the apostrophe\n",
        "string2 = 'The slug\\'s ink ain\\'t pink.'\n",
        "\n",
        "print(string1)\n",
        "print(string2)"
      ],
      "execution_count": null,
      "outputs": [
        {
          "output_type": "stream",
          "text": [
            "The slug's ink ain't pink.\n",
            "The slug's ink ain't pink.\n"
          ],
          "name": "stdout"
        }
      ]
    },
    {
      "cell_type": "markdown",
      "metadata": {
        "id": "4g5s0sP381r8",
        "colab_type": "text"
      },
      "source": [
        "The value of a string variable can be tested with `==`. Notice that, in the following example, switching from double quotes (above, when `genus` was assigned its value) to single quotes (below) does not matter."
      ]
    },
    {
      "cell_type": "code",
      "metadata": {
        "id": "ctoPaymS0awd",
        "colab_type": "code",
        "colab": {
          "base_uri": "https://localhost:8080/",
          "height": 35
        },
        "outputId": "116021f6-3831-43a1-a6e9-d7f7fa777118"
      },
      "source": [
        "genus == 'Aplysia'"
      ],
      "execution_count": null,
      "outputs": [
        {
          "output_type": "execute_result",
          "data": {
            "text/plain": [
              "True"
            ]
          },
          "metadata": {
            "tags": []
          },
          "execution_count": 17
        }
      ]
    },
    {
      "cell_type": "markdown",
      "metadata": {
        "id": "QhFbzs880zmB",
        "colab_type": "text"
      },
      "source": [
        "Strings can also be **concatenated**, or put together, using `+`. Here, a string containing just a space is sandwiched between two string variables:"
      ]
    },
    {
      "cell_type": "code",
      "metadata": {
        "id": "P3uCgkcl1AJS",
        "colab_type": "code",
        "colab": {
          "base_uri": "https://localhost:8080/",
          "height": 36
        },
        "outputId": "9e6bcd80-9043-4e21-f27b-fc3c35f3fb20"
      },
      "source": [
        "genus + ' ' + species"
      ],
      "execution_count": null,
      "outputs": [
        {
          "output_type": "execute_result",
          "data": {
            "application/vnd.google.colaboratory.intrinsic+json": {
              "type": "string"
            },
            "text/plain": [
              "'Aplysia californica'"
            ]
          },
          "metadata": {
            "tags": []
          },
          "execution_count": 18
        }
      ]
    },
    {
      "cell_type": "markdown",
      "metadata": {
        "id": "uY0J_AzNAnaq",
        "colab_type": "text"
      },
      "source": [
        "> *Aside: This is an example of* **operator overloading** *where the same symbol is used in different contexts to do different things. As we saw before, the `+` operator can be used to perform arithmetic addition, as well as to concatenate strings. It can also be used to join lists, as will be described below.*\n",
        "\n",
        "For more complex string manipulation, a special type of string called an **f-string** may be useful. F-strings are distinguished by the character `f` immediately preceding the enclosing quotes (either `f'...'` or `f\"...\"`). The `f` stands for \"format\", and f-strings allow you both to combine variables into a single string and to control the way numbers are displayed.\n",
        "\n",
        "In an f-string, curly braces (`{}`) may enclose the names of variables or more complex expressions, and those expressions will be evaluated to create the string. For example, the previous example combined a genus and species name with `+` symbols, but this can also be done with f-strings:"
      ]
    },
    {
      "cell_type": "code",
      "metadata": {
        "id": "3OOJGR2V0RJJ",
        "colab_type": "code",
        "colab": {
          "base_uri": "https://localhost:8080/",
          "height": 36
        },
        "outputId": "8a14e691-33be-4d54-a640-51d4391fa83d"
      },
      "source": [
        "f'{genus} {species}'"
      ],
      "execution_count": null,
      "outputs": [
        {
          "output_type": "execute_result",
          "data": {
            "application/vnd.google.colaboratory.intrinsic+json": {
              "type": "string"
            },
            "text/plain": [
              "'Aplysia californica'"
            ]
          },
          "metadata": {
            "tags": []
          },
          "execution_count": 19
        }
      ]
    },
    {
      "cell_type": "markdown",
      "metadata": {
        "id": "odNiHSEVCKGg",
        "colab_type": "text"
      },
      "source": [
        "F-strings allow calculations to be performed inside of the curly braces:"
      ]
    },
    {
      "cell_type": "code",
      "metadata": {
        "id": "2oyBvwRJCJay",
        "colab_type": "code",
        "colab": {
          "base_uri": "https://localhost:8080/",
          "height": 36
        },
        "outputId": "2274170d-7a59-4414-e759-3c3ed9e1f5ba"
      },
      "source": [
        "x = 2\n",
        "y = 8\n",
        "\n",
        "f'{x} raised to the {y}th power is {x**y}'"
      ],
      "execution_count": null,
      "outputs": [
        {
          "output_type": "execute_result",
          "data": {
            "application/vnd.google.colaboratory.intrinsic+json": {
              "type": "string"
            },
            "text/plain": [
              "'2 raised to the 8th power is 256'"
            ]
          },
          "metadata": {
            "tags": []
          },
          "execution_count": 20
        }
      ]
    },
    {
      "cell_type": "markdown",
      "metadata": {
        "id": "qCz9VfcaC3xg",
        "colab_type": "text"
      },
      "source": [
        "F-strings also allow numbers to be formatted just the way you want. For example, you can control how many digits after the decimal point are displayed using `{my_number:.xf}`, where `x` is the number of digits:"
      ]
    },
    {
      "cell_type": "code",
      "metadata": {
        "id": "sgf51uvcDGn2",
        "colab_type": "code",
        "colab": {
          "base_uri": "https://localhost:8080/",
          "height": 36
        },
        "outputId": "d568107f-3ba5-458c-899a-57723122f351"
      },
      "source": [
        "pi = 3.14159265358979323846\n",
        "\n",
        "f'The ratio of a circle\\'s circumferance to its diameter is {pi:.5f}'"
      ],
      "execution_count": null,
      "outputs": [
        {
          "output_type": "execute_result",
          "data": {
            "application/vnd.google.colaboratory.intrinsic+json": {
              "type": "string"
            },
            "text/plain": [
              "\"The ratio of a circle's circumferance to its diameter is 3.14159\""
            ]
          },
          "metadata": {
            "tags": []
          },
          "execution_count": 21
        }
      ]
    },
    {
      "cell_type": "markdown",
      "metadata": {
        "id": "-lXX2habGfdh",
        "colab_type": "text"
      },
      "source": [
        "> *Aside: Prior to the addition of f-strings to Python in 2016, strings could be (and still can be) formatted using different syntax. All of these are equivalent, but f-strings tend to be, in my opinion, most readable because of their simplicity, while also being incredibly flexible:*\n",
        "```python\n",
        "genus + ' ' + species\n",
        "'%s %s' % (genus, species)\n",
        "'{} {}'.format(genus, species)\n",
        "'{g} {s}'.format(g=genus, s=species)\n",
        "f'{genus} {species}'\n",
        "```"
      ]
    },
    {
      "cell_type": "markdown",
      "metadata": {
        "id": "DyTGFNGmeJuk",
        "colab_type": "text"
      },
      "source": [
        "The built-in `str()` function can be used to convert objects of other types, such as numbers, into strings:"
      ]
    },
    {
      "cell_type": "code",
      "metadata": {
        "id": "glCFNuUDeRIJ",
        "colab_type": "code",
        "colab": {
          "base_uri": "https://localhost:8080/",
          "height": 36
        },
        "outputId": "d291a3aa-fd61-4374-f822-744a1cf7e058"
      },
      "source": [
        "str(123)"
      ],
      "execution_count": null,
      "outputs": [
        {
          "output_type": "execute_result",
          "data": {
            "application/vnd.google.colaboratory.intrinsic+json": {
              "type": "string"
            },
            "text/plain": [
              "'123'"
            ]
          },
          "metadata": {
            "tags": []
          },
          "execution_count": 22
        }
      ]
    },
    {
      "cell_type": "markdown",
      "metadata": {
        "id": "6fFMGy5af8w8",
        "colab_type": "text"
      },
      "source": [
        "## If/Else Statements"
      ]
    },
    {
      "cell_type": "markdown",
      "metadata": {
        "id": "Lju3cRiE2dow",
        "colab_type": "text"
      },
      "source": [
        "Code can be executed conditionally depending on the results of comparison operations and Boolean truth values using `if`/`else` statements.\n",
        "\n",
        "The simplest form of an `if` statement does something only if the specified condition is true. In the example below, a `print` command is executed only if `x` is positive (in this case, it is). Notice that a **colon** (`:`) terminates the condition in the line containing `if`, and the command(s) that follow are **indented**. This indentation is required and must be consistent."
      ]
    },
    {
      "cell_type": "code",
      "metadata": {
        "id": "5dRkuOnEgXdc",
        "colab_type": "code",
        "colab": {
          "base_uri": "https://localhost:8080/",
          "height": 35
        },
        "outputId": "901b07a6-1f36-4a9d-b2d4-c6adb9387c7f"
      },
      "source": [
        "x = 10\n",
        "\n",
        "if x > 0:\n",
        "    # this code will run because x > 0 is true\n",
        "    print('x is positive')"
      ],
      "execution_count": null,
      "outputs": [
        {
          "output_type": "stream",
          "text": [
            "x is positive\n"
          ],
          "name": "stdout"
        }
      ]
    },
    {
      "cell_type": "markdown",
      "metadata": {
        "id": "N6WZc4w25b9V",
        "colab_type": "text"
      },
      "source": [
        "If the condition is not true, as below, nothing will happen."
      ]
    },
    {
      "cell_type": "code",
      "metadata": {
        "id": "6GsUjUgHgd26",
        "colab_type": "code",
        "colab": {}
      },
      "source": [
        "x = -5\n",
        "\n",
        "if x > 0:\n",
        "    # this code will NOT run because x > 0 is false\n",
        "    print('x is positive')"
      ],
      "execution_count": null,
      "outputs": []
    },
    {
      "cell_type": "markdown",
      "metadata": {
        "id": "43Yehw8h5jcj",
        "colab_type": "text"
      },
      "source": [
        "The conditionally-executed code may contain much more than a single `print` command. Any number of lines of code can be included there, but they must be consistently indented. Four spaces is a common indentation convention.\n",
        "\n",
        "If you want some other code to run if the condition is false, use `else`. Again, a colon is needed."
      ]
    },
    {
      "cell_type": "code",
      "metadata": {
        "id": "mDK0CrOq6SjO",
        "colab_type": "code",
        "colab": {
          "base_uri": "https://localhost:8080/",
          "height": 35
        },
        "outputId": "3f4559dc-aa2d-4e59-e8fd-1e7f4c5338a1"
      },
      "source": [
        "x = -5\n",
        "\n",
        "if x > 0:\n",
        "    # this code will NOT run because x > 0 is false\n",
        "    print('x is positive')\n",
        "else:\n",
        "    # this code will run because the tested condition was not true\n",
        "    print('x is not positive')"
      ],
      "execution_count": null,
      "outputs": [
        {
          "output_type": "stream",
          "text": [
            "x is not positive\n"
          ],
          "name": "stdout"
        }
      ]
    },
    {
      "cell_type": "markdown",
      "metadata": {
        "id": "hLhz8Vy66kue",
        "colab_type": "text"
      },
      "source": [
        "If you want alternative conditions to be tested if the first condition is false, use `elif` (\"else-if\"). Several of these can be chained together, and an `else` may be included at the end."
      ]
    },
    {
      "cell_type": "code",
      "metadata": {
        "id": "CjcEHIPFgB43",
        "colab_type": "code",
        "colab": {
          "base_uri": "https://localhost:8080/",
          "height": 35
        },
        "outputId": "1d28cfab-ccb3-445a-ce5f-3e95086f24b1"
      },
      "source": [
        "x = -5\n",
        "\n",
        "if x > 0:\n",
        "    # this code will NOT run because x > 0 is false\n",
        "    print('x is positive')\n",
        "elif x < 0:\n",
        "    # this code will run because x < 0 is true\n",
        "    print('x is negative')\n",
        "else:\n",
        "    # this code will NOT run because one of the tested conditions was true\n",
        "    print('x is zero')"
      ],
      "execution_count": null,
      "outputs": [
        {
          "output_type": "stream",
          "text": [
            "x is negative\n"
          ],
          "name": "stdout"
        }
      ]
    },
    {
      "cell_type": "markdown",
      "metadata": {
        "id": "G8tY5Ru2UQAV",
        "colab_type": "text"
      },
      "source": [
        "## Lists"
      ]
    },
    {
      "cell_type": "markdown",
      "metadata": {
        "id": "ATim0snI9KfP",
        "colab_type": "text"
      },
      "source": [
        "One of the most common data types for sequences is the **list**. Lists are comma-separated values enclosed by square brackets (`[]`). Here is a simple example:"
      ]
    },
    {
      "cell_type": "code",
      "metadata": {
        "id": "HoTigxmBU5fp",
        "colab_type": "code",
        "colab": {
          "base_uri": "https://localhost:8080/",
          "height": 35
        },
        "outputId": "ab5173c4-e5d3-4145-d597-091bb1136cf4"
      },
      "source": [
        "# create a new list using square brackets []\n",
        "my_list = [0, 10, 20, 30]\n",
        "my_list"
      ],
      "execution_count": null,
      "outputs": [
        {
          "output_type": "execute_result",
          "data": {
            "text/plain": [
              "[0, 10, 20, 30]"
            ]
          },
          "metadata": {
            "tags": []
          },
          "execution_count": 27
        }
      ]
    },
    {
      "cell_type": "markdown",
      "metadata": {
        "id": "Ej3SZvgH9spA",
        "colab_type": "text"
      },
      "source": [
        "The type of a list variable is, unsurprisingly, `list`:"
      ]
    },
    {
      "cell_type": "code",
      "metadata": {
        "id": "DKAMZuH39qEK",
        "colab_type": "code",
        "colab": {
          "base_uri": "https://localhost:8080/",
          "height": 35
        },
        "outputId": "2107469e-d651-4a18-e493-a9b9bcd2b044"
      },
      "source": [
        "type(my_list)"
      ],
      "execution_count": null,
      "outputs": [
        {
          "output_type": "execute_result",
          "data": {
            "text/plain": [
              "list"
            ]
          },
          "metadata": {
            "tags": []
          },
          "execution_count": 28
        }
      ]
    },
    {
      "cell_type": "markdown",
      "metadata": {
        "id": "z0fGrgg2Zwpz",
        "colab_type": "text"
      },
      "source": [
        "The built-in `range()` function can be used (in conjunction with the `list()` function for the purpose of this example) to create a list of ascending or descending numbers. As will be seen later with indexing and slicing, the numbering here is a bit weird, as it will produce a list that starts from 0 and goes up to, but does not include, your specified number."
      ]
    },
    {
      "cell_type": "code",
      "metadata": {
        "id": "FdEuuX6fYFpi",
        "colab_type": "code",
        "colab": {
          "base_uri": "https://localhost:8080/",
          "height": 35
        },
        "outputId": "1e39f958-9aee-4244-b685-28518d68fad8"
      },
      "source": [
        "# create the numbers 0 through 19\n",
        "list(range(20)) # list() is needed for this demo since range() actually returns a special type of object"
      ],
      "execution_count": null,
      "outputs": [
        {
          "output_type": "execute_result",
          "data": {
            "text/plain": [
              "[0, 1, 2, 3, 4, 5, 6, 7, 8, 9, 10, 11, 12, 13, 14, 15, 16, 17, 18, 19]"
            ]
          },
          "metadata": {
            "tags": []
          },
          "execution_count": 29
        }
      ]
    },
    {
      "cell_type": "markdown",
      "metadata": {
        "id": "yrtZkifAbEMK",
        "colab_type": "text"
      },
      "source": [
        "The `range()` function also accepts \"start\", \"stop\", and \"step\" inputs."
      ]
    },
    {
      "cell_type": "code",
      "metadata": {
        "id": "jnpq94wJZWm_",
        "colab_type": "code",
        "colab": {
          "base_uri": "https://localhost:8080/",
          "height": 35
        },
        "outputId": "8a139d12-31d4-4194-d916-f544ec9b1251"
      },
      "source": [
        "# create the numbers 10 through 100 in steps of 20\n",
        "list(range(10, 100, 20))"
      ],
      "execution_count": null,
      "outputs": [
        {
          "output_type": "execute_result",
          "data": {
            "text/plain": [
              "[10, 30, 50, 70, 90]"
            ]
          },
          "metadata": {
            "tags": []
          },
          "execution_count": 30
        }
      ]
    },
    {
      "cell_type": "markdown",
      "metadata": {
        "id": "WzP3_qm496-x",
        "colab_type": "text"
      },
      "source": [
        "Lists are a data type with **method functions**, i.e., built-in functions that are associated with every list object.\n",
        "\n",
        "> *Aside: Each of the other data types we have already discussed (`int`, `float`, `bool`, `str`) also have associated method functions (e.g., the `str.format` method shown earlier as an alternative to f-strings). We may discuss more of these in the future.*\n",
        "\n",
        "Method functions are accessed in Python using **dot notation**, e.g., `my_list.append`, where a period (`.`) separates the object name (`my_list`) and the method name (`append`). In Colab, it is easy to see a listing of the method functions (and other attributes) associated with a variable by typing in the variable name, followed by a period, and then pausing for a brief moment. If you try it for our list named `my_list` (assuming you evaluated the cells above), you will see a pop-up that looks like this:\n",
        "\n",
        "![Screenshot of list methods pop-up in Colab](https://raw.githubusercontent.com/jpgill86/python-for-neuroscientists/master/notebooks/img/list-methods-colab-popup.png)\n",
        "\n",
        "Try it!\n",
        "\n",
        "The `append` method can be used to add a new element to the end of a list. When `append` is used, the list is changed **in-place**, meaning that `my_list` is modified without you needing to write `my_list =`. For example:"
      ]
    },
    {
      "cell_type": "code",
      "metadata": {
        "id": "3WKOpCWYbhMT",
        "colab_type": "code",
        "colab": {
          "base_uri": "https://localhost:8080/",
          "height": 35
        },
        "outputId": "b0cc9ec5-7288-4553-c9a4-2a8a1aea48c7"
      },
      "source": [
        "# append an item to a list\n",
        "my_list.append(40) # note = is NOT needed for my_list to permanently change\n",
        "my_list"
      ],
      "execution_count": null,
      "outputs": [
        {
          "output_type": "execute_result",
          "data": {
            "text/plain": [
              "[0, 10, 20, 30, 40]"
            ]
          },
          "metadata": {
            "tags": []
          },
          "execution_count": 31
        }
      ]
    },
    {
      "cell_type": "markdown",
      "metadata": {
        "id": "8x8RyR9PFLmL",
        "colab_type": "text"
      },
      "source": [
        "Lists can also be extended by \"adding\" lists together using `+`. This operation does *not* cause in-place modification of the `my_list` variable, so `my_list =` is needed."
      ]
    },
    {
      "cell_type": "code",
      "metadata": {
        "id": "Olvj9mwCbr_K",
        "colab_type": "code",
        "colab": {
          "base_uri": "https://localhost:8080/",
          "height": 35
        },
        "outputId": "6108393c-cf89-4b74-befa-bb605b5a5324"
      },
      "source": [
        "# combine lists with +\n",
        "my_list = my_list + [50, 60] # note = is needed for my_list to permanently change\n",
        "my_list"
      ],
      "execution_count": null,
      "outputs": [
        {
          "output_type": "execute_result",
          "data": {
            "text/plain": [
              "[0, 10, 20, 30, 40, 50, 60]"
            ]
          },
          "metadata": {
            "tags": []
          },
          "execution_count": 32
        }
      ]
    },
    {
      "cell_type": "markdown",
      "metadata": {
        "id": "M7vQbZbIIQ_K",
        "colab_type": "text"
      },
      "source": [
        "The `extend` method does the same thing, but, like the `append` method, it *does* modify the variable in-place, so `my_list =` is not needed."
      ]
    },
    {
      "cell_type": "code",
      "metadata": {
        "id": "7obPN5keIF-v",
        "colab_type": "code",
        "colab": {
          "base_uri": "https://localhost:8080/",
          "height": 35
        },
        "outputId": "c695ab6e-0f0c-47da-92ef-442a4fd45427"
      },
      "source": [
        "# alternative to +\n",
        "my_list.extend([70, 80]) # note = is NOT needed for my_list to permanently change\n",
        "my_list"
      ],
      "execution_count": null,
      "outputs": [
        {
          "output_type": "execute_result",
          "data": {
            "text/plain": [
              "[0, 10, 20, 30, 40, 50, 60, 70, 80]"
            ]
          },
          "metadata": {
            "tags": []
          },
          "execution_count": 33
        }
      ]
    },
    {
      "cell_type": "markdown",
      "metadata": {
        "id": "mqtnUSxJOCU0",
        "colab_type": "text"
      },
      "source": [
        "To learn more about any of the list member functions, you can **view the documentation** using either `?` or the built-in `help()` function, e.g., `my_list.extend?` or `help(my_list.extend)`. For example, try looking at the documentation for `my_list.reverse`. You are encouraged to explore the other list member functions too!"
      ]
    },
    {
      "cell_type": "markdown",
      "metadata": {
        "id": "gVo7mNh_decj",
        "colab_type": "text"
      },
      "source": [
        "## Even More About Strings"
      ]
    },
    {
      "cell_type": "markdown",
      "metadata": {
        "id": "ZGCrimdJdipU",
        "colab_type": "text"
      },
      "source": [
        "Like lists, strings have method functions. Here are some examples:"
      ]
    },
    {
      "cell_type": "code",
      "metadata": {
        "id": "0y3Nt1TRLw8V",
        "colab_type": "code",
        "colab": {
          "base_uri": "https://localhost:8080/",
          "height": 144
        },
        "outputId": "110bfa9e-3444-47c6-da8d-9c008f421d58"
      },
      "source": [
        "my_string = 'Aplysia californica'\n",
        "\n",
        "# convert all letters to capital\n",
        "print(my_string.upper())\n",
        "\n",
        "# return True if the string begins with capital A, otherwise return False\n",
        "print(my_string.startswith('A'))\n",
        "\n",
        "# count the number of occurances of lowercase i\n",
        "print(my_string.count('i'))\n",
        "\n",
        "# replace each i with an exclamation point\n",
        "print(my_string.replace('i', '!'))\n",
        "\n",
        "# split the string everywhere there is a lowercase i to make a list of smaller\n",
        "# strings, discarding the i's in the process\n",
        "print(my_string.split('i'))\n",
        "\n",
        "# join each string in the list with a hyphen\n",
        "print('-'.join(['pre', 'synaptic']))\n",
        "\n",
        "# after splitting the string at the i's, join the pieces together again with i's\n",
        "print('i'.join(my_string.split('i')))"
      ],
      "execution_count": null,
      "outputs": [
        {
          "output_type": "stream",
          "text": [
            "APLYSIA CALIFORNICA\n",
            "True\n",
            "3\n",
            "Aplys!a cal!forn!ca\n",
            "['Aplys', 'a cal', 'forn', 'ca']\n",
            "pre-synaptic\n",
            "Aplysia californica\n"
          ],
          "name": "stdout"
        }
      ]
    },
    {
      "cell_type": "markdown",
      "metadata": {
        "id": "49_XtPs3VJnl",
        "colab_type": "text"
      },
      "source": [
        "Try to familiarize yourself with some of the list and string method functions by typing `my_list` or `my_string`, followed by a period, and then pausing for the pop-up listing of methods. Note that if the listing is long, as it will be for the string methods, you may need to scroll within the pop-up to see all the methods. Try using `?` to inspect some (e.g., `my_string.strip?`)."
      ]
    },
    {
      "cell_type": "markdown",
      "metadata": {
        "id": "XbviBW2WFEr1",
        "colab_type": "text"
      },
      "source": [
        "## Indexing and Slicing"
      ]
    },
    {
      "cell_type": "markdown",
      "metadata": {
        "id": "TmsfpWhcFChD",
        "colab_type": "text"
      },
      "source": [
        "Items in a list can be accessed by their position in the list using **indexing**, which is done using square brackets (`[]`) after the name of the list, with a position number given inside the brackets. The tricky thing to remember is that, like many other programming languages, **indexing starts from 0** in Python. That is, for our list `my_list`, to extract the first item of the list, you should use `my_list[0]`, not `my_list[1]`. If you are used to working with other languages that begin indexing with 1, such as MATLAB and Mathematica, this may take some getting used to!"
      ]
    },
    {
      "cell_type": "code",
      "metadata": {
        "id": "oCuo6EhJVLZh",
        "colab_type": "code",
        "colab": {
          "base_uri": "https://localhost:8080/",
          "height": 35
        },
        "outputId": "cb92b797-1ddc-4d0f-f5e6-1e2664d469ef"
      },
      "source": [
        "# select the first item by index, which is in position 0\n",
        "my_list = [0, 10, 20, 30, 40, 50, 60, 70, 80]\n",
        "my_list[0]"
      ],
      "execution_count": null,
      "outputs": [
        {
          "output_type": "execute_result",
          "data": {
            "text/plain": [
              "0"
            ]
          },
          "metadata": {
            "tags": []
          },
          "execution_count": 35
        }
      ]
    },
    {
      "cell_type": "markdown",
      "metadata": {
        "id": "DSPqBpnYfB3w",
        "colab_type": "text"
      },
      "source": [
        "To access the second or third item in our list, you would use `my_list[1]` or `my_list[2]`, and so on. **In general, to access the *i*-th item in a list, you should use index *i-1*.**\n",
        "\n",
        "You can also use negative indices to count backwards from the end of a list. For example, to access the last item in a list, use index `-1`; the second-to-last item could be accessed with index `-2`, and so on."
      ]
    },
    {
      "cell_type": "code",
      "metadata": {
        "id": "kRBaweZbVU7V",
        "colab_type": "code",
        "colab": {
          "base_uri": "https://localhost:8080/",
          "height": 35
        },
        "outputId": "fdfc1077-644d-4f09-c462-bd030da83679"
      },
      "source": [
        "# select the last item\n",
        "my_list = [0, 10, 20, 30, 40, 50, 60, 70, 80]\n",
        "my_list[-1]"
      ],
      "execution_count": null,
      "outputs": [
        {
          "output_type": "execute_result",
          "data": {
            "text/plain": [
              "80"
            ]
          },
          "metadata": {
            "tags": []
          },
          "execution_count": 36
        }
      ]
    },
    {
      "cell_type": "markdown",
      "metadata": {
        "id": "eJNKzCmJpG1t",
        "colab_type": "text"
      },
      "source": [
        "Indexing works on strings too:"
      ]
    },
    {
      "cell_type": "code",
      "metadata": {
        "id": "zQmySwczg_qH",
        "colab_type": "code",
        "colab": {
          "base_uri": "https://localhost:8080/",
          "height": 53
        },
        "outputId": "ed84e20e-0c99-4be2-9275-4eba0327dcec"
      },
      "source": [
        "# strings can be indexed just like lists\n",
        "my_string = \"The slug's ink ain't pink.\"\n",
        "print(f'The first character: {my_string[0]}')\n",
        "print(f'The last character:  {my_string[-1]}')"
      ],
      "execution_count": null,
      "outputs": [
        {
          "output_type": "stream",
          "text": [
            "The first character: T\n",
            "The last character:  .\n"
          ],
          "name": "stdout"
        }
      ]
    },
    {
      "cell_type": "markdown",
      "metadata": {
        "id": "ZWLTNLCJgEtC",
        "colab_type": "text"
      },
      "source": [
        "The concept of indexing can be extended to **slicing** a list, or extracting multiple items from it. To slice a list, provide two indices separated by a colon (`:`). There is another tricky thing to remember here, on top of indices starting with 0: **The item corresponding to the first index of the slice will be included in the result, but the item corresponding to the last index of the slice will not.** In other words, we can say that the first index is inclusive, and the last index is exclusive."
      ]
    },
    {
      "cell_type": "code",
      "metadata": {
        "id": "IdgQpOU3VsQR",
        "colab_type": "code",
        "colab": {
          "base_uri": "https://localhost:8080/",
          "height": 35
        },
        "outputId": "ac77b3c3-9376-419a-9c77-87d9d46f9e21"
      },
      "source": [
        "# select items in positions 1 (inclusive) through 4 (exclusive)\n",
        "my_list = [0, 10, 20, 30, 40, 50, 60, 70, 80]\n",
        "my_list[1:4]"
      ],
      "execution_count": null,
      "outputs": [
        {
          "output_type": "execute_result",
          "data": {
            "text/plain": [
              "[10, 20, 30]"
            ]
          },
          "metadata": {
            "tags": []
          },
          "execution_count": 38
        }
      ]
    },
    {
      "cell_type": "markdown",
      "metadata": {
        "id": "o-Yh_E0OqRJE",
        "colab_type": "text"
      },
      "source": [
        "Slicing works on strings too:"
      ]
    },
    {
      "cell_type": "code",
      "metadata": {
        "id": "WGJzpt38pUEn",
        "colab_type": "code",
        "colab": {
          "base_uri": "https://localhost:8080/",
          "height": 36
        },
        "outputId": "99095ec2-1749-4160-8cac-2d7c71725655"
      },
      "source": [
        "# strings can be sliced just like lists\n",
        "my_string = \"The slug's ink ain't pink.\"\n",
        "my_string[4:8]"
      ],
      "execution_count": null,
      "outputs": [
        {
          "output_type": "execute_result",
          "data": {
            "application/vnd.google.colaboratory.intrinsic+json": {
              "type": "string"
            },
            "text/plain": [
              "'slug'"
            ]
          },
          "metadata": {
            "tags": []
          },
          "execution_count": 39
        }
      ]
    },
    {
      "cell_type": "markdown",
      "metadata": {
        "id": "RTGOeBTnm-KV",
        "colab_type": "text"
      },
      "source": [
        "A helpful way to think about slicing is given in the [official Python tutorial](https://docs.python.org/3/tutorial/introduction.html). This example refers to slicing into the string `\"Python\"`, but it applies to lists as well:\n",
        "\n",
        "> \"One way to remember how slices work is to think of the indices as pointing *between* characters, with the left edge of the first character numbered 0. Then the right edge of the last character of a string of *n* characters has index *n*, for example:\n",
        "```\n",
        " +---+---+---+---+---+---+\n",
        " | P | y | t | h | o | n |\n",
        " +---+---+---+---+---+---+\n",
        " 0   1   2   3   4   5   6\n",
        "-6  -5  -4  -3  -2  -1\n",
        "```\n",
        "The first row of numbers gives the position of the indices 0…6 in the string; the second row gives the corresponding negative indices. The slice from *i* to *j* consists of all characters between the edges labeled *i* and *j*, respectively.\"\n",
        "\n",
        "So, with `word = \"Python\"`, the substring `'Py'` could be extracted using `word[0:2]`:"
      ]
    },
    {
      "cell_type": "code",
      "metadata": {
        "id": "QSIS2MXwq6tT",
        "colab_type": "code",
        "colab": {
          "base_uri": "https://localhost:8080/",
          "height": 36
        },
        "outputId": "79029177-8c8a-4ea3-b124-d8c7555f1f47"
      },
      "source": [
        "word = \"Python\"\n",
        "word[0:2]"
      ],
      "execution_count": null,
      "outputs": [
        {
          "output_type": "execute_result",
          "data": {
            "application/vnd.google.colaboratory.intrinsic+json": {
              "type": "string"
            },
            "text/plain": [
              "'Py'"
            ]
          },
          "metadata": {
            "tags": []
          },
          "execution_count": 40
        }
      ]
    },
    {
      "cell_type": "markdown",
      "metadata": {
        "id": "4f6u1eDsrC_a",
        "colab_type": "text"
      },
      "source": [
        "When slicing, if the number before or after the colon is omitted, the slice will begin from the very beginning or go to the very end, respectively."
      ]
    },
    {
      "cell_type": "code",
      "metadata": {
        "id": "DlStQoCgrmxi",
        "colab_type": "code",
        "colab": {
          "base_uri": "https://localhost:8080/",
          "height": 35
        },
        "outputId": "d7b81461-24d5-4ea3-afa8-e048724154de"
      },
      "source": [
        "# select all items before position 2, excluding position 2\n",
        "my_list = [0, 10, 20, 30, 40, 50, 60, 70, 80]\n",
        "my_list[:2]"
      ],
      "execution_count": null,
      "outputs": [
        {
          "output_type": "execute_result",
          "data": {
            "text/plain": [
              "[0, 10]"
            ]
          },
          "metadata": {
            "tags": []
          },
          "execution_count": 41
        }
      ]
    },
    {
      "cell_type": "code",
      "metadata": {
        "id": "5vBwgDcyVYT6",
        "colab_type": "code",
        "colab": {
          "base_uri": "https://localhost:8080/",
          "height": 35
        },
        "outputId": "f0576c87-37cb-4791-c27b-f2bef3fe303a"
      },
      "source": [
        "# select all items after position 2, including position 2\n",
        "my_list = [0, 10, 20, 30, 40, 50, 60, 70, 80]\n",
        "my_list[2:]"
      ],
      "execution_count": null,
      "outputs": [
        {
          "output_type": "execute_result",
          "data": {
            "text/plain": [
              "[20, 30, 40, 50, 60, 70, 80]"
            ]
          },
          "metadata": {
            "tags": []
          },
          "execution_count": 42
        }
      ]
    },
    {
      "cell_type": "code",
      "metadata": {
        "id": "fJYIXeDF2YQB",
        "colab_type": "code",
        "colab": {
          "base_uri": "https://localhost:8080/",
          "height": 35
        },
        "outputId": "a9332b17-ca8d-46d7-bcb9-bcef76b540ba"
      },
      "source": [
        "# omitting both indices selects the whole list\n",
        "my_list = [0, 10, 20, 30, 40, 50, 60, 70, 80]\n",
        "my_list[:]"
      ],
      "execution_count": null,
      "outputs": [
        {
          "output_type": "execute_result",
          "data": {
            "text/plain": [
              "[0, 10, 20, 30, 40, 50, 60, 70, 80]"
            ]
          },
          "metadata": {
            "tags": []
          },
          "execution_count": 43
        }
      ]
    },
    {
      "cell_type": "markdown",
      "metadata": {
        "id": "VlGVStrgsFmx",
        "colab_type": "text"
      },
      "source": [
        "You can even mix positive and negative indices when slicing."
      ]
    },
    {
      "cell_type": "code",
      "metadata": {
        "id": "UtAO-AlDsKJf",
        "colab_type": "code",
        "colab": {
          "base_uri": "https://localhost:8080/",
          "height": 35
        },
        "outputId": "326e29e7-1b4c-491a-b667-a14c73a12ba1"
      },
      "source": [
        "# start from position 4 and go up to (but not including!) the second-to-last item\n",
        "my_list = [0, 10, 20, 30, 40, 50, 60, 70, 80]\n",
        "my_list[4:-2]"
      ],
      "execution_count": null,
      "outputs": [
        {
          "output_type": "execute_result",
          "data": {
            "text/plain": [
              "[40, 50, 60]"
            ]
          },
          "metadata": {
            "tags": []
          },
          "execution_count": 44
        }
      ]
    },
    {
      "cell_type": "markdown",
      "metadata": {
        "id": "g0hkyDiAsgLH",
        "colab_type": "text"
      },
      "source": [
        "When slicing, you can include a third number, separated from the second by a colon, that specifies a \"step size\", or how far to jump through the list between each selection. The complete slice notation looks like this: `[start:stop:step]`."
      ]
    },
    {
      "cell_type": "code",
      "metadata": {
        "id": "kZ2-bBiAVigy",
        "colab_type": "code",
        "colab": {
          "base_uri": "https://localhost:8080/",
          "height": 35
        },
        "outputId": "1ebefe03-ff9c-4d17-92f0-40ce4e81d4e1"
      },
      "source": [
        "# select items in positions 0 (inclusive) through 6 (exclusive) in steps of 2\n",
        "my_list = [0, 10, 20, 30, 40, 50, 60, 70, 80]\n",
        "my_list[0:6:2]"
      ],
      "execution_count": null,
      "outputs": [
        {
          "output_type": "execute_result",
          "data": {
            "text/plain": [
              "[0, 20, 40]"
            ]
          },
          "metadata": {
            "tags": []
          },
          "execution_count": 45
        }
      ]
    },
    {
      "cell_type": "markdown",
      "metadata": {
        "id": "rA6Fej9bzgDf",
        "colab_type": "text"
      },
      "source": [
        "If the \"start\" or \"stop\" index is omitted, or if both are omitted, the behavior is as you would expect."
      ]
    },
    {
      "cell_type": "code",
      "metadata": {
        "id": "8ThlXwrxz8a5",
        "colab_type": "code",
        "colab": {
          "base_uri": "https://localhost:8080/",
          "height": 35
        },
        "outputId": "a4e7b182-a078-45b9-f4eb-180a5ce22bac"
      },
      "source": [
        "# get every other item\n",
        "my_list = [0, 10, 20, 30, 40, 50, 60, 70, 80]\n",
        "my_list[::2]"
      ],
      "execution_count": null,
      "outputs": [
        {
          "output_type": "execute_result",
          "data": {
            "text/plain": [
              "[0, 20, 40, 60, 80]"
            ]
          },
          "metadata": {
            "tags": []
          },
          "execution_count": 46
        }
      ]
    },
    {
      "cell_type": "markdown",
      "metadata": {
        "id": "JGc9bMPC0CIC",
        "colab_type": "text"
      },
      "source": [
        "The step size can even be negative for advancing through the list backwards from the end. A common (and nearly inscrutable) trick for reversing a list is to use the slice notation `[::-1]`, which means \"in steps of 1 going backwards, start from the end of the list and go to the beginning\"."
      ]
    },
    {
      "cell_type": "code",
      "metadata": {
        "id": "0x04yXH8znUc",
        "colab_type": "code",
        "colab": {
          "base_uri": "https://localhost:8080/",
          "height": 35
        },
        "outputId": "bd7d718f-a4b9-45fe-f97d-a806476844b4"
      },
      "source": [
        "# reverse the list (using syntax no one will understand)\n",
        "my_list = [0, 10, 20, 30, 40, 50, 60, 70, 80]\n",
        "my_list[::-1]"
      ],
      "execution_count": null,
      "outputs": [
        {
          "output_type": "execute_result",
          "data": {
            "text/plain": [
              "[80, 70, 60, 50, 40, 30, 20, 10, 0]"
            ]
          },
          "metadata": {
            "tags": []
          },
          "execution_count": 47
        }
      ]
    },
    {
      "cell_type": "markdown",
      "metadata": {
        "id": "Wps6TAgJ0o5n",
        "colab_type": "text"
      },
      "source": [
        "This is almost the same as using the `reverse` method function, except that `reverse` permanently changes the list in-place, whereas the slicing approach does not change the list permanently."
      ]
    },
    {
      "cell_type": "code",
      "metadata": {
        "id": "2d2iLFAe0gkG",
        "colab_type": "code",
        "colab": {
          "base_uri": "https://localhost:8080/",
          "height": 35
        },
        "outputId": "f48ed89a-7210-46d9-a239-fca3acfa0f50"
      },
      "source": [
        "# similar to above, but my_list is permanently reversed\n",
        "# - if permanent reversal is what you need, reverse() is certainly easier to\n",
        "#   understand!\n",
        "# - if you wish to be obtuse for no reason, you could use\n",
        "#       my_list = my_list[::-1]\n",
        "#   and provide no comment explaining what it does, but I believe there is a\n",
        "#   special place in hell for people who do this\n",
        "my_list.reverse()\n",
        "my_list"
      ],
      "execution_count": null,
      "outputs": [
        {
          "output_type": "execute_result",
          "data": {
            "text/plain": [
              "[80, 70, 60, 50, 40, 30, 20, 10, 0]"
            ]
          },
          "metadata": {
            "tags": []
          },
          "execution_count": 48
        }
      ]
    },
    {
      "cell_type": "markdown",
      "metadata": {
        "id": "pqtguD6ds6BK",
        "colab_type": "text"
      },
      "source": [
        "If permanent reversal is what you need, `my_list.reverse()` is certainly easier to understand! If you wish to be obtuse for no reason, you could use `my_list = my_list[::-1]` and provide no comment explaining what it does, but I believe there is a special place in hell for people who do this.\n",
        "\n",
        "Lists do not need to be composed of objects of just one type, and lists can be nested inside of other lists."
      ]
    },
    {
      "cell_type": "code",
      "metadata": {
        "id": "T76aU2cLVF_2",
        "colab_type": "code",
        "colab": {
          "base_uri": "https://localhost:8080/",
          "height": 35
        },
        "outputId": "f9981c70-0ffe-4a0a-afe9-bb6b7820fb9d"
      },
      "source": [
        "# create a new list of objects of different types, including another list\n",
        "my_list = [0, 10, 20, 30, 40, 50, 60, 70, 80]\n",
        "another_list = ['a', 4.5, my_list]\n",
        "another_list"
      ],
      "execution_count": null,
      "outputs": [
        {
          "output_type": "execute_result",
          "data": {
            "text/plain": [
              "['a', 4.5, [0, 10, 20, 30, 40, 50, 60, 70, 80]]"
            ]
          },
          "metadata": {
            "tags": []
          },
          "execution_count": 49
        }
      ]
    },
    {
      "cell_type": "markdown",
      "metadata": {
        "id": "mmyl1FCStJEp",
        "colab_type": "text"
      },
      "source": [
        "To index or slice into a nested list, chain together multiple square bracket selections."
      ]
    },
    {
      "cell_type": "code",
      "metadata": {
        "id": "BfWhKtBTWptg",
        "colab_type": "code",
        "colab": {
          "base_uri": "https://localhost:8080/",
          "height": 35
        },
        "outputId": "6221addd-67f3-4650-8186-c8dbe58b5a04"
      },
      "source": [
        "# select the item in position 2 (my_list), then select the item in its position 3\n",
        "another_list[2][3]"
      ],
      "execution_count": null,
      "outputs": [
        {
          "output_type": "execute_result",
          "data": {
            "text/plain": [
              "30"
            ]
          },
          "metadata": {
            "tags": []
          },
          "execution_count": 50
        }
      ]
    },
    {
      "cell_type": "markdown",
      "metadata": {
        "id": "oAipMXdUtdLT",
        "colab_type": "text"
      },
      "source": [
        "Items inside a list (even nested lists) can be changed using indexing. For example, this code changes the last item in the nested list:"
      ]
    },
    {
      "cell_type": "code",
      "metadata": {
        "id": "8_y1ML13W5Fa",
        "colab_type": "code",
        "colab": {
          "base_uri": "https://localhost:8080/",
          "height": 35
        },
        "outputId": "8b3e432c-b933-438f-92d4-0bca881d3026"
      },
      "source": [
        "# change an item\n",
        "another_list[2][-1] = 9999\n",
        "another_list"
      ],
      "execution_count": null,
      "outputs": [
        {
          "output_type": "execute_result",
          "data": {
            "text/plain": [
              "['a', 4.5, [0, 10, 20, 30, 40, 50, 60, 70, 9999]]"
            ]
          },
          "metadata": {
            "tags": []
          },
          "execution_count": 51
        }
      ]
    },
    {
      "cell_type": "markdown",
      "metadata": {
        "id": "jt4yZBSqtqaI",
        "colab_type": "text"
      },
      "source": [
        "When a named list (`my_list`) is contained within another list (`another_list`) in this way and an item in the inner list is changed like above, that change affects the original list too because the second list simply contains a reference to the first, rather than a separate copy of the data."
      ]
    },
    {
      "cell_type": "code",
      "metadata": {
        "id": "oB2qkEz5XJwA",
        "colab_type": "code",
        "colab": {
          "base_uri": "https://localhost:8080/",
          "height": 35
        },
        "outputId": "219035a7-e818-43a5-9b37-09af4036a8a2"
      },
      "source": [
        "# the original list (my_list) is changed too because another_list contains a reference to it\n",
        "my_list"
      ],
      "execution_count": null,
      "outputs": [
        {
          "output_type": "execute_result",
          "data": {
            "text/plain": [
              "[0, 10, 20, 30, 40, 50, 60, 70, 9999]"
            ]
          },
          "metadata": {
            "tags": []
          },
          "execution_count": 52
        }
      ]
    },
    {
      "cell_type": "markdown",
      "metadata": {
        "id": "9lZbiQO9FQcB",
        "colab_type": "text"
      },
      "source": [
        "## Tuples"
      ]
    },
    {
      "cell_type": "markdown",
      "metadata": {
        "id": "b-f12iI5uYNF",
        "colab_type": "text"
      },
      "source": [
        "**Tuples** are another data type for storing sequences. They are similar to lists in many ways, but tuples are created using parentheses (`()`) rather than brackets."
      ]
    },
    {
      "cell_type": "code",
      "metadata": {
        "id": "kZCTXkBJXcMv",
        "colab_type": "code",
        "colab": {
          "base_uri": "https://localhost:8080/",
          "height": 35
        },
        "outputId": "e682d765-2a0b-416c-9faa-e0f577977057"
      },
      "source": [
        "# create a new tuple using parentheses\n",
        "my_tuple = ('a', 'b', 'c')\n",
        "my_tuple"
      ],
      "execution_count": null,
      "outputs": [
        {
          "output_type": "execute_result",
          "data": {
            "text/plain": [
              "('a', 'b', 'c')"
            ]
          },
          "metadata": {
            "tags": []
          },
          "execution_count": 53
        }
      ]
    },
    {
      "cell_type": "markdown",
      "metadata": {
        "id": "ReoRI15-vgOm",
        "colab_type": "text"
      },
      "source": [
        "Indexing and slicing into tuples works just like lists and strings."
      ]
    },
    {
      "cell_type": "code",
      "metadata": {
        "id": "LOUOGmu3XuuC",
        "colab_type": "code",
        "colab": {
          "base_uri": "https://localhost:8080/",
          "height": 36
        },
        "outputId": "347b4cae-80d4-4cca-e769-34b8b975ed23"
      },
      "source": [
        "# select items in tuples just like lists\n",
        "my_tuple[0]"
      ],
      "execution_count": null,
      "outputs": [
        {
          "output_type": "execute_result",
          "data": {
            "application/vnd.google.colaboratory.intrinsic+json": {
              "type": "string"
            },
            "text/plain": [
              "'a'"
            ]
          },
          "metadata": {
            "tags": []
          },
          "execution_count": 54
        }
      ]
    },
    {
      "cell_type": "markdown",
      "metadata": {
        "id": "Tmz6hoSWvl1j",
        "colab_type": "text"
      },
      "source": [
        "A critical difference between lists and tuples, and between lists and strings, is that **tuples and strings are immutable**, which means they cannot be changed after creation, in some technical sense of \"changed\". Here's an example of an illegal operation:"
      ]
    },
    {
      "cell_type": "code",
      "metadata": {
        "id": "73IjwdRVX1NM",
        "colab_type": "code",
        "colab": {
          "base_uri": "https://localhost:8080/",
          "height": 189
        },
        "outputId": "49fba352-cf29-4915-b56f-f36fadb9596a"
      },
      "source": [
        "# tuples are immutable, meaning they are not allowed to be changed after creation\n",
        "my_tuple[0] = 1 # this causes an error!"
      ],
      "execution_count": 55,
      "outputs": [
        {
          "output_type": "error",
          "ename": "TypeError",
          "evalue": "ignored",
          "traceback": [
            "\u001b[0;31m---------------------------------------------------------------------------\u001b[0m",
            "\u001b[0;31mTypeError\u001b[0m                                 Traceback (most recent call last)",
            "\u001b[0;32m<ipython-input-55-717f5355b3b8>\u001b[0m in \u001b[0;36m<module>\u001b[0;34m()\u001b[0m\n\u001b[1;32m      1\u001b[0m \u001b[0;31m# tuples are immutable, meaning they are not allowed to be changed after creation\u001b[0m\u001b[0;34m\u001b[0m\u001b[0;34m\u001b[0m\u001b[0;34m\u001b[0m\u001b[0m\n\u001b[0;32m----> 2\u001b[0;31m \u001b[0mmy_tuple\u001b[0m\u001b[0;34m[\u001b[0m\u001b[0;36m0\u001b[0m\u001b[0;34m]\u001b[0m \u001b[0;34m=\u001b[0m \u001b[0;36m1\u001b[0m \u001b[0;31m# this causes an error!\u001b[0m\u001b[0;34m\u001b[0m\u001b[0;34m\u001b[0m\u001b[0m\n\u001b[0m",
            "\u001b[0;31mTypeError\u001b[0m: 'tuple' object does not support item assignment"
          ]
        }
      ]
    },
    {
      "cell_type": "markdown",
      "metadata": {
        "id": "tX0uj0vgE34K",
        "colab_type": "text"
      },
      "source": [
        "The reasons that immutability is a useful quality of tuples, which motivates the necessity for both lists and tuples existing in the language, are a bit technical but will be touched on later when we discuss dictionaries."
      ]
    },
    {
      "cell_type": "markdown",
      "metadata": {
        "id": "4XGwx7iWE48v",
        "colab_type": "text"
      },
      "source": [
        "## Lists vs. Tuples"
      ]
    },
    {
      "cell_type": "markdown",
      "metadata": {
        "id": "wLPZrITpvwFi",
        "colab_type": "text"
      },
      "source": [
        "In practice, conventions ofter determine whether an experienced Python programmer uses a list or a tuple when either could do the job. These conventions are not enforced by the language, but are common enough to mention here:\n",
        "* Sequences of **homogeneous data** (data of one type), for which the **positions of the values are not intrinsically meaningful**, are usually stored as **lists**.\n",
        "    * For example, a collection of height measurements of people could be stored in a list. Although the first measurement in the list obviously belongs to one person and the second belongs to another, this ordering is not essential on a conceptional level. You could swap the order of people without it mattering.\n",
        "* Sequences of **heterogeneous data** (data of different types), or sequences for which the **positions of the values is intrinsically meaningful**, are usually stored as **tuples**.\n",
        "    * Examples of the latter would be a pair of strings for first and last name, or an ordered pair of numbers representing a coordinate in space.\n",
        "    * An example of the former would be a collection of data about a person, such as name (string) and age (integer), which is expected to have a certain ordering, such as name first, age second.\n",
        "\n",
        "Here is an example where both conventions are in play at the same time:"
      ]
    },
    {
      "cell_type": "code",
      "metadata": {
        "id": "sBM8MA8X9L-n",
        "colab_type": "code",
        "colab": {}
      },
      "source": [
        "species_data = [\n",
        "    # genus, species, date named, common name\n",
        "    ('Aplysia',     'californica', 1863, 'California sea hare'),\n",
        "    ('Macrocystis', 'pyrifera',    1820, 'Giant kelp'),\n",
        "    ('Pagurus',     'samuelis',    1857, 'Blueband hermit crab'),\n",
        "]"
      ],
      "execution_count": null,
      "outputs": []
    },
    {
      "cell_type": "markdown",
      "metadata": {
        "id": "0q2Z48KkARaA",
        "colab_type": "text"
      },
      "source": [
        "The object `species_data` is a list. The three items it contains are not in some essential order. The use of a list here, rather than a tuple, signals (by convention) to good programmers that code which uses `species_data` is expected to be able to handle the list changing through the addition or removal of species from the list.\n",
        "\n",
        "The items inside the list are tuples. Each tuple is composed of exactly four pieces of data, including a mix of strings and integers, and always in the same order: a genus name, a species name, the year the species was given its formal scientific name, and the common name for the species. The use of tuples here, rather than lists, signals (by convention) to good programmers that this order is essential and may be relied upon in some other code, so swapping the names and dates around could cause problems.\n",
        "\n",
        "A consequence of this convention is that if we try to access `species_data[2][0]` through indexing, we may not always know which species we will find in position 2, but we can be confident that we are accessing its genus name. This is important when looping through lists (more on that later).\n",
        "\n",
        "At a technical level, the tuples here *could* have been lists. In fact, if the values needed to change, they would have to be lists. Likewise, the list could have been a tuple, so long as the tuple did not need to be modified after creation. Ultimately, it is a long-standing convention to do it the way shown above, and, if adhered to, it signals to people reading or using your code how you intend the data object to be handled.\n",
        "\n",
        "As a final point, lists can be converted to tuples using the built-in `tuple()` function, and tuples can be converted to lists using the built-in `list()` function:"
      ]
    },
    {
      "cell_type": "code",
      "metadata": {
        "id": "x45E7l1fYySD",
        "colab_type": "code",
        "colab": {
          "base_uri": "https://localhost:8080/",
          "height": 53
        },
        "outputId": "96501512-06cb-45c6-f830-94eae3f61976"
      },
      "source": [
        "# the built-in list() and tuple() functions can be used to convert one type to the other\n",
        "# - note = is needed for my_tuple or my_list to permanently change\n",
        "print(list(my_tuple))\n",
        "print(tuple(my_list))"
      ],
      "execution_count": null,
      "outputs": [
        {
          "output_type": "stream",
          "text": [
            "['a', 'b', 'c']\n",
            "(0, 10, 20, 30, 40, 50, 60, 70, 9999)\n"
          ],
          "name": "stdout"
        }
      ]
    },
    {
      "cell_type": "markdown",
      "metadata": {
        "id": "bS8YcdMMa1CS",
        "colab_type": "text"
      },
      "source": [
        "## For Loops and List Comprehensions"
      ]
    },
    {
      "cell_type": "markdown",
      "metadata": {
        "id": "Lyf7B6WmM7cw",
        "colab_type": "text"
      },
      "source": [
        "A `for` loop can **iterate** over a list or tuple, performing calculations for each item in the sequence. Like `if` statements, `for` loops require a **colon** to terminate the first line and consistent **indentation** (typically four spaces) below it for the block of code that will be executed for each item in the sequence. Each item in the sequence is assigned a temporary variable name that can be used within the block. In the example below, this temporary variable is called `i`:"
      ]
    },
    {
      "cell_type": "code",
      "metadata": {
        "id": "1Kyl_55hbB_N",
        "colab_type": "code",
        "colab": {
          "base_uri": "https://localhost:8080/",
          "height": 126
        },
        "outputId": "8a1e6ff1-437a-4268-eab5-90801f9a74e8"
      },
      "source": [
        "my_list = [0, 1, 2, 3, 4, 5]\n",
        "\n",
        "# print the square of each item in my_list\n",
        "# - colon and indentation are important!\n",
        "for i in my_list:\n",
        "    print(i**2)"
      ],
      "execution_count": null,
      "outputs": [
        {
          "output_type": "stream",
          "text": [
            "0\n",
            "1\n",
            "4\n",
            "9\n",
            "16\n",
            "25\n"
          ],
          "name": "stdout"
        }
      ]
    },
    {
      "cell_type": "markdown",
      "metadata": {
        "id": "fyCBH9N3CEUq",
        "colab_type": "text"
      },
      "source": [
        "Be careful what name you give the iterator variable, since its value will be overwritten again and again with the items in the sequence. If the variable had a value before the `for` loop, it will be lost, which may not be what you intended."
      ]
    },
    {
      "cell_type": "code",
      "metadata": {
        "id": "I94RaX5vCMW0",
        "colab_type": "code",
        "colab": {
          "base_uri": "https://localhost:8080/",
          "height": 162
        },
        "outputId": "e3cb2cb0-a8d1-484a-c73f-c39eaf69af16"
      },
      "source": [
        "i = 'abc'\n",
        "print(f'i at the start = {i}')\n",
        "\n",
        "for i in my_list:\n",
        "    print(i**2)\n",
        "\n",
        "print(f'i at the end = {i}')"
      ],
      "execution_count": null,
      "outputs": [
        {
          "output_type": "stream",
          "text": [
            "i at the start = abc\n",
            "0\n",
            "1\n",
            "4\n",
            "9\n",
            "16\n",
            "25\n",
            "i at the end = 5\n"
          ],
          "name": "stdout"
        }
      ]
    },
    {
      "cell_type": "markdown",
      "metadata": {
        "id": "iWMTke1JISYU",
        "colab_type": "text"
      },
      "source": [
        "If you wanted to store a result from each step of the `for` loop in another list, one way you could do it is\n",
        "\n",
        "1. Initialize another variable as an empty list (`another_list = []`), and then\n",
        "2. Append a result to the new list in each step (`another_list.append`).\n",
        "\n",
        "For example:"
      ]
    },
    {
      "cell_type": "code",
      "metadata": {
        "id": "-8EBseAebY9r",
        "colab_type": "code",
        "colab": {
          "base_uri": "https://localhost:8080/",
          "height": 35
        },
        "outputId": "19e3dbc6-84c9-457e-a65d-4e50d8cfeaad"
      },
      "source": [
        "another_list = []\n",
        "for i in my_list:\n",
        "    another_list.append(i**2)\n",
        "\n",
        "another_list"
      ],
      "execution_count": null,
      "outputs": [
        {
          "output_type": "execute_result",
          "data": {
            "text/plain": [
              "[0, 1, 4, 9, 16, 25]"
            ]
          },
          "metadata": {
            "tags": []
          },
          "execution_count": 60
        }
      ]
    },
    {
      "cell_type": "markdown",
      "metadata": {
        "id": "9g7pL0jNJQqJ",
        "colab_type": "text"
      },
      "source": [
        "If the calculation of the result (in this example, squaring `i`) is fairly simple, you can perform the same work using a more concise notation called **list comprehension**. The simplest version of list comprehension takes the form `[f(i) for i in my_list]`, where `f(i)` is some function or transformation of the list item `i`. Notice list comprehensions are enclosed in square brackets (`[]`) because they create lists. Here is a list comprehension equivalent to the example above:"
      ]
    },
    {
      "cell_type": "code",
      "metadata": {
        "id": "WlNapIW2dv97",
        "colab_type": "code",
        "colab": {
          "base_uri": "https://localhost:8080/",
          "height": 35
        },
        "outputId": "1ad3f344-1e2c-4973-b854-72a2278e7696"
      },
      "source": [
        "# basic list comprehension\n",
        "# - this means \"square the item for each item in my_list\"\n",
        "another_list = [i**2 for i in my_list]\n",
        "another_list"
      ],
      "execution_count": null,
      "outputs": [
        {
          "output_type": "execute_result",
          "data": {
            "text/plain": [
              "[0, 1, 4, 9, 16, 25]"
            ]
          },
          "metadata": {
            "tags": []
          },
          "execution_count": 61
        }
      ]
    },
    {
      "cell_type": "markdown",
      "metadata": {
        "id": "NlkBlgvEKoIF",
        "colab_type": "text"
      },
      "source": [
        "All of the work is completed in a single line of code. Elegant!\n",
        "\n",
        "List comprehensions can be more complex than this. Suppose we modified the `for` loop to append a result only if the list item is an even number (`i % 2 == 0` means that `i` divided by 2 must have a remainder of 0):"
      ]
    },
    {
      "cell_type": "code",
      "metadata": {
        "id": "OgWt2BQ6K1tk",
        "colab_type": "code",
        "colab": {
          "base_uri": "https://localhost:8080/",
          "height": 35
        },
        "outputId": "4588b6ed-cebc-4fbd-c0e4-1a8ac92e0373"
      },
      "source": [
        "another_list = []\n",
        "for i in my_list:\n",
        "    if i % 2 == 0:\n",
        "        # append only if i is even\n",
        "        another_list.append(i**2)\n",
        "\n",
        "# the squares of 0, 2, 4\n",
        "another_list"
      ],
      "execution_count": null,
      "outputs": [
        {
          "output_type": "execute_result",
          "data": {
            "text/plain": [
              "[0, 4, 16]"
            ]
          },
          "metadata": {
            "tags": []
          },
          "execution_count": 62
        }
      ]
    },
    {
      "cell_type": "markdown",
      "metadata": {
        "id": "ZzofzI3DLF5F",
        "colab_type": "text"
      },
      "source": [
        "To do this with list comprehension, just add `if i % 2 == 0` to the end:"
      ]
    },
    {
      "cell_type": "code",
      "metadata": {
        "id": "zuJ_V2ene2dd",
        "colab_type": "code",
        "colab": {
          "base_uri": "https://localhost:8080/",
          "height": 35
        },
        "outputId": "1f0bfaa1-33cb-477e-ef21-b278d10d82c7"
      },
      "source": [
        "# list comprehension with conditional\n",
        "# - this means \"square the item for each item in my_list if it is even (otherwise skip it)\"\n",
        "another_list = [i**2 for i in my_list if i % 2 == 0]\n",
        "another_list"
      ],
      "execution_count": null,
      "outputs": [
        {
          "output_type": "execute_result",
          "data": {
            "text/plain": [
              "[0, 4, 16]"
            ]
          },
          "metadata": {
            "tags": []
          },
          "execution_count": 63
        }
      ]
    },
    {
      "cell_type": "markdown",
      "metadata": {
        "id": "vue1exdmLRKt",
        "colab_type": "text"
      },
      "source": [
        "Suppose we modify the `for` loop further to perform a different calculation if the list item is an odd number:"
      ]
    },
    {
      "cell_type": "code",
      "metadata": {
        "id": "gvy65vvMLZMP",
        "colab_type": "code",
        "colab": {
          "base_uri": "https://localhost:8080/",
          "height": 35
        },
        "outputId": "12f73bee-56f2-4d49-9031-d4bf5e3e014e"
      },
      "source": [
        "another_list = []\n",
        "for i in my_list:\n",
        "    if i % 2 == 0:\n",
        "        # square if i is even\n",
        "        another_list.append(i**2)\n",
        "    else:\n",
        "        # add 100 if i is odd\n",
        "        another_list.append(i+100)\n",
        "\n",
        "another_list"
      ],
      "execution_count": null,
      "outputs": [
        {
          "output_type": "execute_result",
          "data": {
            "text/plain": [
              "[0, 101, 4, 103, 16, 105]"
            ]
          },
          "metadata": {
            "tags": []
          },
          "execution_count": 64
        }
      ]
    },
    {
      "cell_type": "markdown",
      "metadata": {
        "id": "yACuxW0pLiie",
        "colab_type": "text"
      },
      "source": [
        "This can be done with list comprehension by moving the `if i % 2 == 0` to an earlier position, just after `i**2`, and adding `else i+100`:"
      ]
    },
    {
      "cell_type": "code",
      "metadata": {
        "id": "IXgkEuppekHU",
        "colab_type": "code",
        "colab": {
          "base_uri": "https://localhost:8080/",
          "height": 35
        },
        "outputId": "24421193-b3ae-4837-f8a0-765a5a53d9ca"
      },
      "source": [
        "# list comprehension with complex conditional\n",
        "# - this means \"square the item if it is even, otherwise add 100 to it, for each item in my_list\"\n",
        "another_list = [i**2 if i%2==0 else i+100 for i in my_list]\n",
        "another_list"
      ],
      "execution_count": null,
      "outputs": [
        {
          "output_type": "execute_result",
          "data": {
            "text/plain": [
              "[0, 101, 4, 103, 16, 105]"
            ]
          },
          "metadata": {
            "tags": []
          },
          "execution_count": 65
        }
      ]
    },
    {
      "cell_type": "markdown",
      "metadata": {
        "id": "d-rCAUbyL7qc",
        "colab_type": "text"
      },
      "source": [
        "The results stored in `another_list` could be something other than a calculation using `i`. For example, strings:"
      ]
    },
    {
      "cell_type": "code",
      "metadata": {
        "id": "-U7WjGFQMQol",
        "colab_type": "code",
        "colab": {
          "base_uri": "https://localhost:8080/",
          "height": 126
        },
        "outputId": "f53c27b6-010b-4e11-fe0c-53ef737d790c"
      },
      "source": [
        "# this means \"store the string 'less than 2' if the item is less than 2, otherwise store '2 or greater', for each item in my_list\"\n",
        "another_list = ['less than 2' if i < 2 else '2 or greater' for i in my_list]\n",
        "another_list"
      ],
      "execution_count": null,
      "outputs": [
        {
          "output_type": "execute_result",
          "data": {
            "text/plain": [
              "['less than 2',\n",
              " 'less than 2',\n",
              " '2 or greater',\n",
              " '2 or greater',\n",
              " '2 or greater',\n",
              " '2 or greater']"
            ]
          },
          "metadata": {
            "tags": []
          },
          "execution_count": 66
        }
      ]
    },
    {
      "cell_type": "markdown",
      "metadata": {
        "id": "AMA_yUr1UZqi",
        "colab_type": "text"
      },
      "source": [
        "## While Loops"
      ]
    },
    {
      "cell_type": "markdown",
      "metadata": {
        "id": "hSR1KkbVUYMI",
        "colab_type": "text"
      },
      "source": [
        "A `while` loop is another way to repeatedly perform calculations. Whereas `for` loops execute code for each item in a sequence, `while` loops execute code for as long as a condition is true. For example:"
      ]
    },
    {
      "cell_type": "code",
      "metadata": {
        "id": "pCV4Jl9KgvR3",
        "colab_type": "code",
        "colab": {
          "base_uri": "https://localhost:8080/",
          "height": 126
        },
        "outputId": "c770a36a-074d-492f-e820-e023e4f1d292"
      },
      "source": [
        "x = 0\n",
        "\n",
        "while x < 5:\n",
        "    print(x)\n",
        "    x = x + 1\n",
        "\n",
        "print(f'final value of x = {x}')"
      ],
      "execution_count": null,
      "outputs": [
        {
          "output_type": "stream",
          "text": [
            "0\n",
            "1\n",
            "2\n",
            "3\n",
            "4\n",
            "final value of x = 5\n"
          ],
          "name": "stdout"
        }
      ]
    },
    {
      "cell_type": "markdown",
      "metadata": {
        "id": "EGhAoW-IVEzb",
        "colab_type": "text"
      },
      "source": [
        "Generally, this means that the code within the `while` loop should take steps toward making the condition no longer true, even if it is unknown ahead of time how many steps that may require. In the simple example above, `x` was incremented each step until `x` was no longer less than 5. A more practical example would be a piece of code that reads a text file of unknown length one line at a time using a `while` loop that continues until a request for the next line yields nothing.\n",
        "\n",
        "Be warned: **If the condition never ceases to be true, the `while` loop will never stop**, which is probably not what you want!\n",
        "\n",
        "Try executing the code cell below, which will start an infinite loop because `x` is never incremented. You will see the icon in the left margin of the code cell spin and spin endlessly as the computer keeps executing the code within the `while` loop again and again, never stopping because the condition `x < 5` never stops being true. For this to end, you must **manually interrupt the code execution**, which you can do two ways:\n",
        "\n",
        "1. Click the spinning stop icon in the left margin, or\n",
        "2. Use the \"Runtime\" menu at the top of the page and click \"Interrupt execution\".\n",
        "\n",
        "Colab executes cells one at a time, so until you interrupt the execution of this cell, you will not be able to run any other code!"
      ]
    },
    {
      "cell_type": "code",
      "metadata": {
        "id": "ioSBMMcFVdvF",
        "colab_type": "code",
        "colab": {
          "base_uri": "https://localhost:8080/",
          "height": 207
        },
        "outputId": "530079e6-9acd-4ade-c6a8-e6dc403bd3d5"
      },
      "source": [
        "x = 0\n",
        "while x < 5:\n",
        "    pass # do nothing"
      ],
      "execution_count": 68,
      "outputs": [
        {
          "output_type": "error",
          "ename": "KeyboardInterrupt",
          "evalue": "ignored",
          "traceback": [
            "\u001b[0;31m---------------------------------------------------------------------------\u001b[0m",
            "\u001b[0;31mKeyboardInterrupt\u001b[0m                         Traceback (most recent call last)",
            "\u001b[0;32m<ipython-input-68-51a0816648ba>\u001b[0m in \u001b[0;36m<module>\u001b[0;34m()\u001b[0m\n\u001b[1;32m      1\u001b[0m \u001b[0mx\u001b[0m \u001b[0;34m=\u001b[0m \u001b[0;36m0\u001b[0m\u001b[0;34m\u001b[0m\u001b[0;34m\u001b[0m\u001b[0m\n\u001b[0;32m----> 2\u001b[0;31m \u001b[0;32mwhile\u001b[0m \u001b[0mx\u001b[0m \u001b[0;34m<\u001b[0m \u001b[0;36m5\u001b[0m\u001b[0;34m:\u001b[0m\u001b[0;34m\u001b[0m\u001b[0;34m\u001b[0m\u001b[0m\n\u001b[0m\u001b[1;32m      3\u001b[0m     \u001b[0;32mpass\u001b[0m \u001b[0;31m# do nothing\u001b[0m\u001b[0;34m\u001b[0m\u001b[0;34m\u001b[0m\u001b[0m\n",
            "\u001b[0;31mKeyboardInterrupt\u001b[0m: "
          ]
        }
      ]
    },
    {
      "cell_type": "markdown",
      "metadata": {
        "id": "v0G2rk3FUSWn",
        "colab_type": "text"
      },
      "source": [
        "## Dictionaries"
      ]
    },
    {
      "cell_type": "markdown",
      "metadata": {
        "id": "mIUlVjvWZOXA",
        "colab_type": "text"
      },
      "source": [
        "Dictionaries are another important data type in Python. Dictionaries store **key-value pairs**, where each piece of data (the **value**) is assigned a name (the **key**) for easy access.\n",
        "\n",
        "Dictionaries are created using curly braces (`{}`). (This is different from the use of curly braces in f-strings!) Inside of the curly braces, key-value pairs are separated from one another by commas, and colons separate each key from its value. For example:"
      ]
    },
    {
      "cell_type": "code",
      "metadata": {
        "id": "nKfPDIKqh4_C",
        "colab_type": "code",
        "colab": {
          "base_uri": "https://localhost:8080/",
          "height": 35
        },
        "outputId": "5406b7d4-36fb-4867-b076-d9d4f3398f3b"
      },
      "source": [
        "# create a new dictionary using curly braces {}\n",
        "my_dict = {'genus': 'Aplysia', 'species': 'californica', 'mass': 150}\n",
        "my_dict"
      ],
      "execution_count": null,
      "outputs": [
        {
          "output_type": "execute_result",
          "data": {
            "text/plain": [
              "{'genus': 'Aplysia', 'mass': 150, 'species': 'californica'}"
            ]
          },
          "metadata": {
            "tags": []
          },
          "execution_count": 69
        }
      ]
    },
    {
      "cell_type": "markdown",
      "metadata": {
        "id": "_ZEE8hQibFPk",
        "colab_type": "text"
      },
      "source": [
        "The syntax for extracting a piece of data from a dictionary is similar to indexing into lists. It uses square brackets after the dictionary name (not curly braces like you might guess), but instead of a number indicating position, a key should be provided."
      ]
    },
    {
      "cell_type": "code",
      "metadata": {
        "id": "qKgS91s1iND3",
        "colab_type": "code",
        "colab": {
          "base_uri": "https://localhost:8080/",
          "height": 36
        },
        "outputId": "c38c1dd1-0192-4c31-9cde-d0b3ae9bed9c"
      },
      "source": [
        "# select items by key\n",
        "my_dict['species']"
      ],
      "execution_count": null,
      "outputs": [
        {
          "output_type": "execute_result",
          "data": {
            "application/vnd.google.colaboratory.intrinsic+json": {
              "type": "string"
            },
            "text/plain": [
              "'californica'"
            ]
          },
          "metadata": {
            "tags": []
          },
          "execution_count": 70
        }
      ]
    },
    {
      "cell_type": "markdown",
      "metadata": {
        "id": "CDTTCM4Ybb1b",
        "colab_type": "text"
      },
      "source": [
        "Like changing the value of an item in a list via its index, the value of an item in a dictionary can be changed via its key:"
      ]
    },
    {
      "cell_type": "code",
      "metadata": {
        "id": "2Zv5Pku-iVnH",
        "colab_type": "code",
        "colab": {
          "base_uri": "https://localhost:8080/",
          "height": 35
        },
        "outputId": "1afd2041-7043-4abc-81d4-dd204a14c12c"
      },
      "source": [
        "# change values by key\n",
        "my_dict['mass'] = 300\n",
        "my_dict"
      ],
      "execution_count": null,
      "outputs": [
        {
          "output_type": "execute_result",
          "data": {
            "text/plain": [
              "{'genus': 'Aplysia', 'mass': 300, 'species': 'californica'}"
            ]
          },
          "metadata": {
            "tags": []
          },
          "execution_count": 71
        }
      ]
    },
    {
      "cell_type": "markdown",
      "metadata": {
        "id": "7KMxLle5bpKn",
        "colab_type": "text"
      },
      "source": [
        "New key-value pairs can be added to a dictionary the same way. In fact, you can start with an empty dictionary and build it up one key-value pair at a time:"
      ]
    },
    {
      "cell_type": "code",
      "metadata": {
        "id": "ED2BXEonb0Y2",
        "colab_type": "code",
        "colab": {
          "base_uri": "https://localhost:8080/",
          "height": 35
        },
        "outputId": "d2e8c35d-982f-4edc-8478-60464f126b21"
      },
      "source": [
        "my_dict2 = {}\n",
        "\n",
        "my_dict2['genus'] = 'Aplysia'\n",
        "my_dict2['species'] = 'californica'\n",
        "my_dict2['mass'] = 300\n",
        "\n",
        "my_dict2"
      ],
      "execution_count": null,
      "outputs": [
        {
          "output_type": "execute_result",
          "data": {
            "text/plain": [
              "{'genus': 'Aplysia', 'mass': 300, 'species': 'californica'}"
            ]
          },
          "metadata": {
            "tags": []
          },
          "execution_count": 72
        }
      ]
    },
    {
      "cell_type": "markdown",
      "metadata": {
        "id": "-Ku9Y5v1ajF6",
        "colab_type": "text"
      },
      "source": [
        "Values can have any data type. Most basic data types are valid for keys too, but an important exception is lists: **lists are not allowed to be dictionary keys**. Tuples, on the other hand, are allowed to be keys. This is because keys must be immutable (uneditable), which is a property that tuples have but lists do not."
      ]
    },
    {
      "cell_type": "code",
      "metadata": {
        "id": "84vyRC8ydXow",
        "colab_type": "code",
        "colab": {
          "base_uri": "https://localhost:8080/",
          "height": 207
        },
        "outputId": "423ad988-fb46-407c-f89c-cf713d12e81e"
      },
      "source": [
        "# lists cannot be keys, so this is NOT allowed\n",
        "# - the error \"unhashable type\" is a consequence of the fact that lists are not immutable (they can be changed)\n",
        "my_dict2[['x', 'y', 'z']] = [1, 2, 3]"
      ],
      "execution_count": 73,
      "outputs": [
        {
          "output_type": "error",
          "ename": "TypeError",
          "evalue": "ignored",
          "traceback": [
            "\u001b[0;31m---------------------------------------------------------------------------\u001b[0m",
            "\u001b[0;31mTypeError\u001b[0m                                 Traceback (most recent call last)",
            "\u001b[0;32m<ipython-input-73-660271824196>\u001b[0m in \u001b[0;36m<module>\u001b[0;34m()\u001b[0m\n\u001b[1;32m      1\u001b[0m \u001b[0;31m# lists cannot be keys, so this is NOT allowed\u001b[0m\u001b[0;34m\u001b[0m\u001b[0;34m\u001b[0m\u001b[0;34m\u001b[0m\u001b[0m\n\u001b[1;32m      2\u001b[0m \u001b[0;31m# - the error \"unhashable type\" is a consequence of the fact that lists are not immutable (they can be changed)\u001b[0m\u001b[0;34m\u001b[0m\u001b[0;34m\u001b[0m\u001b[0;34m\u001b[0m\u001b[0m\n\u001b[0;32m----> 3\u001b[0;31m \u001b[0mmy_dict2\u001b[0m\u001b[0;34m[\u001b[0m\u001b[0;34m[\u001b[0m\u001b[0;34m'x'\u001b[0m\u001b[0;34m,\u001b[0m \u001b[0;34m'y'\u001b[0m\u001b[0;34m,\u001b[0m \u001b[0;34m'z'\u001b[0m\u001b[0;34m]\u001b[0m\u001b[0;34m]\u001b[0m \u001b[0;34m=\u001b[0m \u001b[0;34m[\u001b[0m\u001b[0;36m1\u001b[0m\u001b[0;34m,\u001b[0m \u001b[0;36m2\u001b[0m\u001b[0;34m,\u001b[0m \u001b[0;36m3\u001b[0m\u001b[0;34m]\u001b[0m\u001b[0;34m\u001b[0m\u001b[0;34m\u001b[0m\u001b[0m\n\u001b[0m",
            "\u001b[0;31mTypeError\u001b[0m: unhashable type: 'list'"
          ]
        }
      ]
    },
    {
      "cell_type": "code",
      "metadata": {
        "id": "EzrV7q7Repbd",
        "colab_type": "code",
        "colab": {
          "base_uri": "https://localhost:8080/",
          "height": 90
        },
        "outputId": "fe63cfe9-39e8-4a36-bace-91f4cf893467"
      },
      "source": [
        "# tuples can be keys, so this IS allowed\n",
        "my_dict2[('x', 'y', 'z')] = [1, 2, 3]\n",
        "\n",
        "my_dict2"
      ],
      "execution_count": null,
      "outputs": [
        {
          "output_type": "execute_result",
          "data": {
            "text/plain": [
              "{('x', 'y', 'z'): [1, 2, 3],\n",
              " 'genus': 'Aplysia',\n",
              " 'mass': 300,\n",
              " 'species': 'californica'}"
            ]
          },
          "metadata": {
            "tags": []
          },
          "execution_count": 74
        }
      ]
    },
    {
      "cell_type": "markdown",
      "metadata": {
        "id": "7VIUOPVWjXIU",
        "colab_type": "text"
      },
      "source": [
        "You can delete a key-value pair from a dictionary using the `del` keyword:"
      ]
    },
    {
      "cell_type": "code",
      "metadata": {
        "id": "arSWjJTsjcKf",
        "colab_type": "code",
        "colab": {
          "base_uri": "https://localhost:8080/",
          "height": 35
        },
        "outputId": "9ad7f957-2550-4604-d195-3fb7764620f5"
      },
      "source": [
        "del my_dict2['species']\n",
        "\n",
        "my_dict2"
      ],
      "execution_count": null,
      "outputs": [
        {
          "output_type": "execute_result",
          "data": {
            "text/plain": [
              "{('x', 'y', 'z'): [1, 2, 3], 'genus': 'Aplysia', 'mass': 300}"
            ]
          },
          "metadata": {
            "tags": []
          },
          "execution_count": 75
        }
      ]
    },
    {
      "cell_type": "markdown",
      "metadata": {
        "id": "jxvOXW8Vjjf8",
        "colab_type": "text"
      },
      "source": [
        "As a matter of fact, **`del` is how you unset any variable**:"
      ]
    },
    {
      "cell_type": "code",
      "metadata": {
        "id": "FsDr-dIcjydX",
        "colab_type": "code",
        "colab": {
          "base_uri": "https://localhost:8080/",
          "height": 207
        },
        "outputId": "e10488d6-5021-4c66-e038-15b12ba3fa1a"
      },
      "source": [
        "del my_dict2\n",
        "\n",
        "# now my_dict2 is not defined\n",
        "my_dict2"
      ],
      "execution_count": null,
      "outputs": [
        {
          "output_type": "error",
          "ename": "NameError",
          "evalue": "ignored",
          "traceback": [
            "\u001b[0;31m---------------------------------------------------------------------------\u001b[0m",
            "\u001b[0;31mNameError\u001b[0m                                 Traceback (most recent call last)",
            "\u001b[0;32m<ipython-input-76-e8ec4f3d0d06>\u001b[0m in \u001b[0;36m<module>\u001b[0;34m()\u001b[0m\n\u001b[1;32m      2\u001b[0m \u001b[0;34m\u001b[0m\u001b[0m\n\u001b[1;32m      3\u001b[0m \u001b[0;31m# now my_dict2 is not defined\u001b[0m\u001b[0;34m\u001b[0m\u001b[0;34m\u001b[0m\u001b[0;34m\u001b[0m\u001b[0m\n\u001b[0;32m----> 4\u001b[0;31m \u001b[0mmy_dict2\u001b[0m\u001b[0;34m\u001b[0m\u001b[0;34m\u001b[0m\u001b[0m\n\u001b[0m",
            "\u001b[0;31mNameError\u001b[0m: name 'my_dict2' is not defined"
          ]
        }
      ]
    },
    {
      "cell_type": "markdown",
      "metadata": {
        "id": "QBHvoLeFDwLP",
        "colab_type": "text"
      },
      "source": [
        "Just like lists and tuples, `for` loops can iterate over a dictionary. In its simplest form, this actually iterates over the dictionary's keys. In the example below, we choose to use the name `k`, rather than `i`, for the temporary variable to reflect this. To access the value associated with key `k`, we must use `my_dict[k]`."
      ]
    },
    {
      "cell_type": "code",
      "metadata": {
        "id": "iqhcOTaiDAfm",
        "colab_type": "code",
        "colab": {
          "base_uri": "https://localhost:8080/",
          "height": 72
        },
        "outputId": "bb13b414-2a4a-4dac-d0e6-af7b83531858"
      },
      "source": [
        "# iterate over keys\n",
        "for k in my_dict:\n",
        "    print(f'key: {k} --> value: {my_dict[k]}')"
      ],
      "execution_count": null,
      "outputs": [
        {
          "output_type": "stream",
          "text": [
            "key: genus --> value: Aplysia\n",
            "key: species --> value: californica\n",
            "key: mass --> value: 300\n"
          ],
          "name": "stdout"
        }
      ]
    },
    {
      "cell_type": "markdown",
      "metadata": {
        "id": "GDzD1KKQDvKY",
        "colab_type": "text"
      },
      "source": [
        "The dictionary member function `items()` returns a (special type of) list of tuples, where each tuple is a key-value pair:"
      ]
    },
    {
      "cell_type": "code",
      "metadata": {
        "id": "CtGqkepIEF4P",
        "colab_type": "code",
        "colab": {
          "base_uri": "https://localhost:8080/",
          "height": 35
        },
        "outputId": "f6d30f24-59d1-4bc7-84fe-8fd9eadd6eda"
      },
      "source": [
        "# using list() here to simplify how the list of tuples is displayed\n",
        "list(my_dict.items())"
      ],
      "execution_count": null,
      "outputs": [
        {
          "output_type": "execute_result",
          "data": {
            "text/plain": [
              "[('genus', 'Aplysia'), ('species', 'californica'), ('mass', 300)]"
            ]
          },
          "metadata": {
            "tags": []
          },
          "execution_count": 78
        }
      ]
    },
    {
      "cell_type": "markdown",
      "metadata": {
        "id": "q6UZtRrQEXjg",
        "colab_type": "text"
      },
      "source": [
        "When using a `for` loop to iterate over any list of tuples (or a list of lists, or a tuple of lists, or a tuple of tuples...) such as this, you can assign a temporary variable name to each item in the inner tuple/list. This is an example of what is called **unpacking**. For example:"
      ]
    },
    {
      "cell_type": "code",
      "metadata": {
        "id": "joJJS5mXE-AN",
        "colab_type": "code",
        "colab": {
          "base_uri": "https://localhost:8080/",
          "height": 72
        },
        "outputId": "57240af7-60ae-4de1-8960-c411693935b2"
      },
      "source": [
        "list_of_tuples = [\n",
        "    ('a', 1),\n",
        "    ('b', 2),\n",
        "    ('c', 3),\n",
        "]\n",
        "\n",
        "for (letter, number) in list_of_tuples:\n",
        "    print(letter, number)"
      ],
      "execution_count": null,
      "outputs": [
        {
          "output_type": "stream",
          "text": [
            "a 1\n",
            "b 2\n",
            "c 3\n"
          ],
          "name": "stdout"
        }
      ]
    },
    {
      "cell_type": "markdown",
      "metadata": {
        "id": "Etn3F4xeFO6-",
        "colab_type": "text"
      },
      "source": [
        "In the example above, the parentheses around the iterator variables `(letter, number)` are actually optional, so the loop could be written without them:"
      ]
    },
    {
      "cell_type": "code",
      "metadata": {
        "id": "6IZq91W2Fdh4",
        "colab_type": "code",
        "colab": {
          "base_uri": "https://localhost:8080/",
          "height": 72
        },
        "outputId": "d40f81b0-8039-417f-e1b5-14bc409c1163"
      },
      "source": [
        "for letter, number in list_of_tuples:\n",
        "    print(letter, number)"
      ],
      "execution_count": null,
      "outputs": [
        {
          "output_type": "stream",
          "text": [
            "a 1\n",
            "b 2\n",
            "c 3\n"
          ],
          "name": "stdout"
        }
      ]
    },
    {
      "cell_type": "markdown",
      "metadata": {
        "id": "Dt6hLG2wFh8J",
        "colab_type": "text"
      },
      "source": [
        "Using the list of tuples produced by `my_dict.items()` and unpacking each key-value tuple into `k,v`, we can write the `for` loop this way:"
      ]
    },
    {
      "cell_type": "code",
      "metadata": {
        "id": "R7eGsGw1ieTE",
        "colab_type": "code",
        "colab": {
          "base_uri": "https://localhost:8080/",
          "height": 72
        },
        "outputId": "2cd9fc44-db29-4599-b53b-59f59c272016"
      },
      "source": [
        "# iterate over key-value pairs\n",
        "for k,v in my_dict.items():\n",
        "    print(f'key: {k} --> value: {v}')"
      ],
      "execution_count": null,
      "outputs": [
        {
          "output_type": "stream",
          "text": [
            "key: genus --> value: Aplysia\n",
            "key: species --> value: californica\n",
            "key: mass --> value: 300\n"
          ],
          "name": "stdout"
        }
      ]
    },
    {
      "cell_type": "markdown",
      "metadata": {
        "id": "xYicbmxTGVnx",
        "colab_type": "text"
      },
      "source": [
        "Notice this does exactly the same thing as\n",
        "```python\n",
        "for k in my_dict:\n",
        "    print(f'key: {k} --> value: {my_dict[k]}')\n",
        "```\n",
        "seen earlier, except the version using `for k,v in my_dict.items()` conveniently assigns the name `v` to the value of each key-value pair, so that `my_dict[k]` does not need to be typed out.\n",
        "\n",
        "Like list comprehensions, there exists a concise way for constructing dictionaries from a sequence, called **dictionary comprehension**. The syntax is similar, but a key and a value must be computed for each iteration, separated by a colon.\n",
        "\n",
        "To set up an example, here is a long way of constructing a dictionary of squares using a `for` loop, where the keys are string versions of the numbers:"
      ]
    },
    {
      "cell_type": "code",
      "metadata": {
        "id": "29IB32ctkux2",
        "colab_type": "code",
        "colab": {
          "base_uri": "https://localhost:8080/",
          "height": 35
        },
        "outputId": "a602adef-98ec-4b6b-9c70-b6e13d0591e3"
      },
      "source": [
        "my_list = [0, 1, 2, 3, 4, 5]\n",
        "\n",
        "squares = {}\n",
        "for i in my_list:\n",
        "    # store keys as strings and values as integers\n",
        "    squares[str(i)] = i**2\n",
        "\n",
        "squares"
      ],
      "execution_count": null,
      "outputs": [
        {
          "output_type": "execute_result",
          "data": {
            "text/plain": [
              "{'0': 0, '1': 1, '2': 4, '3': 9, '4': 16, '5': 25}"
            ]
          },
          "metadata": {
            "tags": []
          },
          "execution_count": 82
        }
      ]
    },
    {
      "cell_type": "markdown",
      "metadata": {
        "id": "MlYNw-5Klap2",
        "colab_type": "text"
      },
      "source": [
        "Here is a dictionary comprehension that does the same thing. Note it is enclosed with curly braces because it produces a dictionary, and a colon separates a key and its value."
      ]
    },
    {
      "cell_type": "code",
      "metadata": {
        "id": "q0qefaLfi5qm",
        "colab_type": "code",
        "colab": {
          "base_uri": "https://localhost:8080/",
          "height": 35
        },
        "outputId": "68340e05-ae67-45a8-9bf1-79c4fdc43989"
      },
      "source": [
        "# basic dictionary comprehension\n",
        "# - this means \"pair a string version of the item with its square for each item in my_list\"\n",
        "squares = {str(i): i**2 for i in my_list}\n",
        "\n",
        "squares"
      ],
      "execution_count": null,
      "outputs": [
        {
          "output_type": "execute_result",
          "data": {
            "text/plain": [
              "{'0': 0, '1': 1, '2': 4, '3': 9, '4': 16, '5': 25}"
            ]
          },
          "metadata": {
            "tags": []
          },
          "execution_count": 83
        }
      ]
    },
    {
      "cell_type": "markdown",
      "metadata": {
        "id": "DU1jv-zRlmwC",
        "colab_type": "text"
      },
      "source": [
        "Like list comprehension, conditionals are allowed for the values:"
      ]
    },
    {
      "cell_type": "code",
      "metadata": {
        "id": "r7LQKLYZlucM",
        "colab_type": "code",
        "colab": {
          "base_uri": "https://localhost:8080/",
          "height": 35
        },
        "outputId": "202fd4c5-208d-4990-91df-0d7802c3f28f"
      },
      "source": [
        "# dictionary comprehension with complex conditional\n",
        "# - this means \"pair a string version of the item with its square if it is even, otherwise with the item plus 100, for each item in my_list\"\n",
        "squares = {str(i): i**2 if i%2==0 else i+100 for i in my_list}\n",
        "\n",
        "squares"
      ],
      "execution_count": null,
      "outputs": [
        {
          "output_type": "execute_result",
          "data": {
            "text/plain": [
              "{'0': 0, '1': 101, '2': 4, '3': 103, '4': 16, '5': 105}"
            ]
          },
          "metadata": {
            "tags": []
          },
          "execution_count": 84
        }
      ]
    },
    {
      "cell_type": "markdown",
      "metadata": {
        "id": "aV04ty_YxORR",
        "colab_type": "text"
      },
      "source": [
        "## A Practical Example for Dictionaries and Comprehensions"
      ]
    },
    {
      "cell_type": "markdown",
      "metadata": {
        "id": "imBs2CaDqZMu",
        "colab_type": "text"
      },
      "source": [
        "So how are dictionaries useful? There are countless ways, but let's look at one example. Previously we saw in the section titled \"Lists vs. Tuples\" that a list of tuples with consistent structure is useful because pieces of data have predictable indices. For example, with this definition of `species_data`, the genus of every entry always has index 0:"
      ]
    },
    {
      "cell_type": "code",
      "metadata": {
        "id": "I_Nr2BlQqj8r",
        "colab_type": "code",
        "colab": {
          "base_uri": "https://localhost:8080/",
          "height": 72
        },
        "outputId": "08ed04c2-f79c-4c53-b422-f3701c28ecd5"
      },
      "source": [
        "species_data = [\n",
        "    # genus, species, date named, common name\n",
        "    ('Aplysia',     'californica', 1863, 'California sea hare'),\n",
        "    ('Macrocystis', 'pyrifera',    1820, 'Giant kelp'),\n",
        "    ('Pagurus',     'samuelis',    1857, 'Blueband hermit crab'),\n",
        "]\n",
        "\n",
        "# print every genus\n",
        "for sp in species_data:\n",
        "    print(sp[0])"
      ],
      "execution_count": null,
      "outputs": [
        {
          "output_type": "stream",
          "text": [
            "Aplysia\n",
            "Macrocystis\n",
            "Pagurus\n"
          ],
          "name": "stdout"
        }
      ]
    },
    {
      "cell_type": "markdown",
      "metadata": {
        "id": "WmFDnSjAr4nQ",
        "colab_type": "text"
      },
      "source": [
        "However, this approach requires that we memorize the meaning of each index (0 = genus, 1 = species, etc.). If we use dictionaries instead of tuples, we can access data by name, rather than arbitrary indices. To do this, we could convert every tuple into a dictionary, so that the whole data set is a list of dictionaries with identical keys.\n",
        "\n",
        "To demonstrate this, we could write everything out, like this:"
      ]
    },
    {
      "cell_type": "code",
      "metadata": {
        "id": "BjVNnxL_vgkO",
        "colab_type": "code",
        "colab": {}
      },
      "source": [
        "species_dicts = [\n",
        "    {'genus': 'Aplysia',     'species': 'californica', 'year': 1863, 'common': 'California sea hare'},\n",
        "    {'genus': 'Macrocystis', 'species': 'pyrifera',    'year': 1820, 'common': 'Giant kelp'},\n",
        "    {'genus': 'Pagurus',     'species': 'samuelis',    'year': 1857, 'common': 'Blueband hermit crab'},\n",
        "]"
      ],
      "execution_count": null,
      "outputs": []
    },
    {
      "cell_type": "markdown",
      "metadata": {
        "id": "GYuk9MXBvZl7",
        "colab_type": "text"
      },
      "source": [
        "However, if the `species_data` list already existed and was much longer than it is here, this would be a lot of extra work!\n",
        "\n",
        "Instead, we could use what we have learned to programmatically construct the list of dictionaries from the existing list of tuples using a `for` loop. Here's one way to do that which uses tuple unpacking for naming each of the four pieces of data in every tuple:"
      ]
    },
    {
      "cell_type": "code",
      "metadata": {
        "id": "uGoo7PROqtlZ",
        "colab_type": "code",
        "colab": {
          "base_uri": "https://localhost:8080/",
          "height": 235
        },
        "outputId": "aa3951e5-92d7-4f2b-836b-63d3522b0056"
      },
      "source": [
        "# create a new empty list\n",
        "species_dicts = []\n",
        "\n",
        "# for each tuple, unpack the 4 pieces of data into 4 temporary variables\n",
        "for genus, species, year, common in species_data:\n",
        "\n",
        "    # build a new dictionary for this species\n",
        "    d = {'genus': genus, 'species': species, 'year': year, 'common': common}\n",
        "\n",
        "    # append the dictionary to the new list\n",
        "    species_dicts.append(d)\n",
        "\n",
        "# display the new list of dictionaries\n",
        "species_dicts"
      ],
      "execution_count": null,
      "outputs": [
        {
          "output_type": "execute_result",
          "data": {
            "text/plain": [
              "[{'common': 'California sea hare',\n",
              "  'genus': 'Aplysia',\n",
              "  'species': 'californica',\n",
              "  'year': 1863},\n",
              " {'common': 'Giant kelp',\n",
              "  'genus': 'Macrocystis',\n",
              "  'species': 'pyrifera',\n",
              "  'year': 1820},\n",
              " {'common': 'Blueband hermit crab',\n",
              "  'genus': 'Pagurus',\n",
              "  'species': 'samuelis',\n",
              "  'year': 1857}]"
            ]
          },
          "metadata": {
            "tags": []
          },
          "execution_count": 87
        }
      ]
    },
    {
      "cell_type": "markdown",
      "metadata": {
        "id": "0FkLJqqAsqOO",
        "colab_type": "text"
      },
      "source": [
        "Now the genus of every entry can be accessed using the key `'genus'` rather than index 0:"
      ]
    },
    {
      "cell_type": "code",
      "metadata": {
        "id": "G0SzsX3gs2ox",
        "colab_type": "code",
        "colab": {
          "base_uri": "https://localhost:8080/",
          "height": 72
        },
        "outputId": "49754ee8-f73c-4808-f9c6-6a234eef9ead"
      },
      "source": [
        "# print every genus\n",
        "for sp in species_dicts:\n",
        "    print(sp['genus'])"
      ],
      "execution_count": null,
      "outputs": [
        {
          "output_type": "stream",
          "text": [
            "Aplysia\n",
            "Macrocystis\n",
            "Pagurus\n"
          ],
          "name": "stdout"
        }
      ]
    },
    {
      "cell_type": "markdown",
      "metadata": {
        "id": "YQ2BzKEMugig",
        "colab_type": "text"
      },
      "source": [
        "If we want to be *really* clever, we can do the entire conversion in a single step by *constructing a dictionary inside a list comprehension*. For this, we need to first introduce another built-in function.\n",
        "\n",
        "The `zip()` function takes two or more sequences (e.g., lists or tuples) as inputs and groups the elements from each sequence in order. For example:"
      ]
    },
    {
      "cell_type": "code",
      "metadata": {
        "id": "frBlTOmHzels",
        "colab_type": "code",
        "colab": {
          "base_uri": "https://localhost:8080/",
          "height": 35
        },
        "outputId": "76468582-26d2-41e5-985c-34a06749bb5f"
      },
      "source": [
        "list1 = ['a', 'b', 'c']\n",
        "list2 = [1, 2, 3]\n",
        "\n",
        "# using list() here to simplify how the result is displayed\n",
        "list(zip(list1, list2))"
      ],
      "execution_count": null,
      "outputs": [
        {
          "output_type": "execute_result",
          "data": {
            "text/plain": [
              "[('a', 1), ('b', 2), ('c', 3)]"
            ]
          },
          "metadata": {
            "tags": []
          },
          "execution_count": 89
        }
      ]
    },
    {
      "cell_type": "markdown",
      "metadata": {
        "id": "j7VRGwpuz68T",
        "colab_type": "text"
      },
      "source": [
        "How can we use `zip()` to help us convert our list of tuples into a list of dictionaries? First, define a variable containing the dictionary keys:"
      ]
    },
    {
      "cell_type": "code",
      "metadata": {
        "id": "mLJEEGMk0MP7",
        "colab_type": "code",
        "colab": {}
      },
      "source": [
        "keys = ('genus', 'species', 'year', 'common')"
      ],
      "execution_count": null,
      "outputs": []
    },
    {
      "cell_type": "markdown",
      "metadata": {
        "id": "iaCMlCc10RI0",
        "colab_type": "text"
      },
      "source": [
        "With this, it is possible to pair the values from one of the tuples with these keys. For example, if we just look at the first tuple:"
      ]
    },
    {
      "cell_type": "code",
      "metadata": {
        "id": "RyKy59dI0aFK",
        "colab_type": "code",
        "colab": {
          "base_uri": "https://localhost:8080/",
          "height": 90
        },
        "outputId": "1bbe083e-6b76-4f38-ac66-196480902182"
      },
      "source": [
        "values = species_data[0]\n",
        "list(zip(keys, values))"
      ],
      "execution_count": null,
      "outputs": [
        {
          "output_type": "execute_result",
          "data": {
            "text/plain": [
              "[('genus', 'Aplysia'),\n",
              " ('species', 'californica'),\n",
              " ('year', 1863),\n",
              " ('common', 'California sea hare')]"
            ]
          },
          "metadata": {
            "tags": []
          },
          "execution_count": 91
        }
      ]
    },
    {
      "cell_type": "markdown",
      "metadata": {
        "id": "eK4jy2L70lZI",
        "colab_type": "text"
      },
      "source": [
        "Here we have a list of tuples, where each tuple is a key-value pair. This is just like what the `items()` function returns for a dictionary. From this, we could construct a dictionary from this first tuple using dictionary comprehension:"
      ]
    },
    {
      "cell_type": "code",
      "metadata": {
        "id": "4TSE6cjr039H",
        "colab_type": "code",
        "colab": {
          "base_uri": "https://localhost:8080/",
          "height": 90
        },
        "outputId": "6cb00d1b-f029-44d4-80c7-49b4cd4a3b75"
      },
      "source": [
        "{k:v for k,v in zip(keys, values)}"
      ],
      "execution_count": null,
      "outputs": [
        {
          "output_type": "execute_result",
          "data": {
            "text/plain": [
              "{'common': 'California sea hare',\n",
              " 'genus': 'Aplysia',\n",
              " 'species': 'californica',\n",
              " 'year': 1863}"
            ]
          },
          "metadata": {
            "tags": []
          },
          "execution_count": 92
        }
      ]
    },
    {
      "cell_type": "markdown",
      "metadata": {
        "id": "qiD0qY-315Qm",
        "colab_type": "text"
      },
      "source": [
        "Equivalently, because there is no extra manipulation of `k` or `v` here, we could use the built-in function `dict()` to convert the list of key-value pairs directly into a dictionary:"
      ]
    },
    {
      "cell_type": "code",
      "metadata": {
        "id": "cIb6CoY01rZn",
        "colab_type": "code",
        "colab": {
          "base_uri": "https://localhost:8080/",
          "height": 90
        },
        "outputId": "c3604b8a-d78d-48e2-c4a9-61b3853f3968"
      },
      "source": [
        "dict(zip(keys, values))"
      ],
      "execution_count": null,
      "outputs": [
        {
          "output_type": "execute_result",
          "data": {
            "text/plain": [
              "{'common': 'California sea hare',\n",
              " 'genus': 'Aplysia',\n",
              " 'species': 'californica',\n",
              " 'year': 1863}"
            ]
          },
          "metadata": {
            "tags": []
          },
          "execution_count": 93
        }
      ]
    },
    {
      "cell_type": "markdown",
      "metadata": {
        "id": "-DB_FszX1DVx",
        "colab_type": "text"
      },
      "source": [
        "All we have to do now is generalize this to all tuples in `species_data`. We can use a list comprehension for this, which gives us the final expression that does the entire conversion in one step, from a list of tuples to a list of dictionaries:"
      ]
    },
    {
      "cell_type": "code",
      "metadata": {
        "id": "00KpIj04uK1o",
        "colab_type": "code",
        "colab": {
          "base_uri": "https://localhost:8080/",
          "height": 235
        },
        "outputId": "c37ef6db-4236-4ac3-d112-bab32edddddd"
      },
      "source": [
        "keys = ('genus', 'species', 'year', 'common')\n",
        "species_dicts = [dict(zip(keys, values)) for values in species_data]\n",
        "species_dicts"
      ],
      "execution_count": null,
      "outputs": [
        {
          "output_type": "execute_result",
          "data": {
            "text/plain": [
              "[{'common': 'California sea hare',\n",
              "  'genus': 'Aplysia',\n",
              "  'species': 'californica',\n",
              "  'year': 1863},\n",
              " {'common': 'Giant kelp',\n",
              "  'genus': 'Macrocystis',\n",
              "  'species': 'pyrifera',\n",
              "  'year': 1820},\n",
              " {'common': 'Blueband hermit crab',\n",
              "  'genus': 'Pagurus',\n",
              "  'species': 'samuelis',\n",
              "  'year': 1857}]"
            ]
          },
          "metadata": {
            "tags": []
          },
          "execution_count": 94
        }
      ]
    },
    {
      "cell_type": "markdown",
      "metadata": {
        "id": "cUknVPFX2xUU",
        "colab_type": "text"
      },
      "source": [
        "This is much more elegant than writing out the list of dictionaries by hand!\n",
        "\n",
        "As a final proof of success, we can once again access the genus of every entry using a key:"
      ]
    },
    {
      "cell_type": "code",
      "metadata": {
        "id": "91fECV-72vq4",
        "colab_type": "code",
        "colab": {
          "base_uri": "https://localhost:8080/",
          "height": 72
        },
        "outputId": "befc9ba5-77a5-492c-a41f-e3df43aeac69"
      },
      "source": [
        "# print every genus\n",
        "for sp in species_dicts:\n",
        "    print(sp['genus'])"
      ],
      "execution_count": null,
      "outputs": [
        {
          "output_type": "stream",
          "text": [
            "Aplysia\n",
            "Macrocystis\n",
            "Pagurus\n"
          ],
          "name": "stdout"
        }
      ]
    },
    {
      "cell_type": "markdown",
      "metadata": {
        "id": "-jFZdhVM5amr",
        "colab_type": "text"
      },
      "source": [
        "For me, the amount of work we get out of this single expression, `[dict(zip(keys, values)) for values in species_data]`, is delightful!"
      ]
    },
    {
      "cell_type": "markdown",
      "metadata": {
        "id": "7sHiJvxgHaok",
        "colab_type": "text"
      },
      "source": [
        "---"
      ]
    },
    {
      "cell_type": "markdown",
      "metadata": {
        "id": "XtfHIWprUw5r",
        "colab_type": "text"
      },
      "source": [
        "## Functions"
      ]
    },
    {
      "cell_type": "code",
      "metadata": {
        "id": "B3snzbIcUAx6",
        "colab_type": "code",
        "colab": {
          "base_uri": "https://localhost:8080/",
          "height": 35
        },
        "outputId": "af5f2a9b-0cd7-4557-d344-f7163d254ee0"
      },
      "source": [
        "# note that variables used in function, including the arguments, have local scope\n",
        "\n",
        "def compute_square(x):\n",
        "    return x**2\n",
        "\n",
        "compute_square(4)"
      ],
      "execution_count": null,
      "outputs": [
        {
          "output_type": "execute_result",
          "data": {
            "text/plain": [
              "16"
            ]
          },
          "metadata": {
            "tags": []
          },
          "execution_count": 96
        }
      ]
    },
    {
      "cell_type": "markdown",
      "metadata": {
        "id": "kW-Jw1uVlMy7",
        "colab_type": "text"
      },
      "source": [
        "## IPython \"Magics\" and Extra Features"
      ]
    },
    {
      "cell_type": "markdown",
      "metadata": {
        "id": "48d6nvbyPfw5",
        "colab_type": "text"
      },
      "source": [
        "We have already seen that `%whos` can be used to list symbols and their values, and `?` can be used to display documentation. Neither of these are technically part of the Python language but are instead extra features added by IPython (\"Interactive Python\"), which is a system that Jupyter notebooks are built on top of. These extra features are sometimes refered to as \"IPython magics\"."
      ]
    },
    {
      "cell_type": "code",
      "metadata": {
        "id": "PPCn9fn-lcND",
        "colab_type": "code",
        "colab": {
          "base_uri": "https://localhost:8080/",
          "height": 35
        },
        "outputId": "e24fdc16-2032-4ac2-f877-1053d933dee1"
      },
      "source": [
        "# use _ to access the most recent result\n",
        "x = 4\n",
        "x"
      ],
      "execution_count": null,
      "outputs": [
        {
          "output_type": "execute_result",
          "data": {
            "text/plain": [
              "4"
            ]
          },
          "metadata": {
            "tags": []
          },
          "execution_count": 97
        }
      ]
    },
    {
      "cell_type": "code",
      "metadata": {
        "id": "qDBMsYsKlshv",
        "colab_type": "code",
        "colab": {
          "base_uri": "https://localhost:8080/",
          "height": 35
        },
        "outputId": "1785549f-9cca-4ca8-eee3-aea2637505d4"
      },
      "source": [
        "_ + 1"
      ],
      "execution_count": null,
      "outputs": [
        {
          "output_type": "execute_result",
          "data": {
            "text/plain": [
              "5"
            ]
          },
          "metadata": {
            "tags": []
          },
          "execution_count": 98
        }
      ]
    },
    {
      "cell_type": "code",
      "metadata": {
        "id": "UTh1SUdOhUhE",
        "colab_type": "code",
        "colab": {
          "base_uri": "https://localhost:8080/",
          "height": 144
        },
        "outputId": "abb431d1-7794-4061-e1a4-afe005c02f5f"
      },
      "source": [
        "# use ! to drop out of Python and into a system shell (command line)\n",
        "! ls /"
      ],
      "execution_count": null,
      "outputs": [
        {
          "output_type": "stream",
          "text": [
            "bin\t\t\t\t\t   etc\t  opt\t sys\n",
            "boot\t\t\t\t\t   home   proc\t tensorflow-1.15.2\n",
            "content\t\t\t\t\t   lib\t  root\t tmp\n",
            "datalab\t\t\t\t\t   lib32  run\t tools\n",
            "dev\t\t\t\t\t   lib64  sbin\t usr\n",
            "dlib-19.18.0-cp27-cp27mu-linux_x86_64.whl  media  srv\t var\n",
            "dlib-19.18.0-cp36-cp36m-linux_x86_64.whl   mnt\t  swift\n"
          ],
          "name": "stdout"
        }
      ]
    },
    {
      "cell_type": "code",
      "metadata": {
        "id": "3OcbWtmlhUVY",
        "colab_type": "code",
        "colab": {}
      },
      "source": [
        ""
      ],
      "execution_count": null,
      "outputs": []
    },
    {
      "cell_type": "code",
      "metadata": {
        "id": "EoXN8xFdmwyK",
        "colab_type": "code",
        "colab": {}
      },
      "source": [
        ""
      ],
      "execution_count": null,
      "outputs": []
    },
    {
      "cell_type": "code",
      "metadata": {
        "id": "zzAI0D6lmwky",
        "colab_type": "code",
        "colab": {}
      },
      "source": [
        ""
      ],
      "execution_count": null,
      "outputs": []
    },
    {
      "cell_type": "code",
      "metadata": {
        "id": "2AduIZEamwWG",
        "colab_type": "code",
        "colab": {}
      },
      "source": [
        ""
      ],
      "execution_count": null,
      "outputs": []
    },
    {
      "cell_type": "code",
      "metadata": {
        "id": "bvJM0ts6mwI7",
        "colab_type": "code",
        "colab": {}
      },
      "source": [
        ""
      ],
      "execution_count": null,
      "outputs": []
    },
    {
      "cell_type": "code",
      "metadata": {
        "id": "Hlnov2M8hUJG",
        "colab_type": "code",
        "colab": {}
      },
      "source": [
        ""
      ],
      "execution_count": null,
      "outputs": []
    },
    {
      "cell_type": "markdown",
      "metadata": {
        "id": "0Pj6wO9ZnQ-I",
        "colab_type": "text"
      },
      "source": [
        "---\n",
        "\n",
        "## Topics for First Lession(s)\n",
        "\n",
        "* Variables in general\n",
        "    * Not declared, not explicitly typed\n",
        "    * Ints and decimals interchangeable\n",
        "    * x += 1\n",
        "    * strings, concatenation with + or join()\n",
        "        * ' '.join() uses attribute notation with a period\n",
        "    * print(), f-strings\n",
        "* Lists\n",
        "    * Can hold inhomogeneous objects, not explicitly typed\n",
        "    * list() and []\n",
        "    * One-dimensional\n",
        "    * Access by index\n",
        "        * Works for strings too\n",
        "    * Slicing\n",
        "    * list(range()), really a generator\n",
        "    * List comprehension\n",
        "* Dictionaries\n",
        "    * Again not typed\n",
        "    * Access by key\n",
        "    * dict() and {}\n",
        "    * Dictionary comprehension\n",
        "* Tuples\n",
        "    * Immutable, usable as dict keys\n",
        "    * tuple()\n",
        "\n",
        "* \"Pythonic\"\n",
        "    * The Zen of Python\n",
        "    * Example: traditional for-loop vs comprehension\n",
        "        * for, in keywords\n",
        "            * get fancy with zip()\n",
        "\n",
        "* Whitespace, trailing commas, comments\n",
        "\n",
        "* Built-in functions and keywords\n",
        "    * and, or, not, is, ==, True, False, None\n",
        "    * round(), int(), float(), abs(), len()\n",
        "    * input()\n",
        "    * with open() as f\n",
        "    * help() and the official documentation (always check version)\n",
        "\n",
        "* IPython magic / extra features\n",
        "    * %whos\n",
        "    * _ for last output\n",
        "    * ? for help\n",
        "    * ! for shell\n",
        "\n",
        "* Creating functions, classes\n",
        "    * Variable scope\n",
        "    * Object oriented programming with classes\n",
        "        * Object attributes\n",
        "\n",
        "* Modules, imports, packages\n",
        "    * import this (Zen of Python)\n",
        "    * import antigravity (xkcd)\n",
        "    * Namespaces\n",
        "        * from foo import *\n",
        "    * Standard libraries\n",
        "        * math, random, os, sys, io\n",
        "\n",
        "* Creating a program\n",
        "\n",
        "* Debugging errors, exceptions, try/except\n",
        "\n",
        "* Python 2 vs 3\n",
        "\n",
        "## Advanced Lessions\n",
        "\n",
        "* Numpy\n",
        "* pandas\n",
        "    * reading and writing data\n",
        "* matplotlib\n",
        "    * exporting plots\n",
        "* Neo, quantities\n",
        "* neurotic\n",
        "* Version control, Git, GitHub\n",
        "* Command line, IDE, Spyder, notebooks\n",
        "\n",
        "---"
      ]
    },
    {
      "cell_type": "markdown",
      "metadata": {
        "id": "ywlbOi3FUWgK",
        "colab_type": "text"
      },
      "source": [
        "## External Resources"
      ]
    },
    {
      "cell_type": "markdown",
      "metadata": {
        "id": "Nl36l9SJSGG9",
        "colab_type": "text"
      },
      "source": [
        "The official language documentation:\n",
        "\n",
        "* [Python 3 documentation](https://docs.python.org/3/index.html)\n",
        "* [Built-in functions](https://docs.python.org/3/library/functions.html)\n",
        "* [Standard libraries](https://docs.python.org/3/library/index.html)\n",
        "* [Glossary of terms](https://docs.python.org/3/glossary.html)\n",
        "* [In-depth tutorial](https://docs.python.org/3/tutorial/index.html)\n",
        "\n",
        "Extended language documentation:\n",
        "* [IPython (Jupyter) vs. Python differences](https://ipython.readthedocs.io/en/stable/interactive/python-ipython-diff.html)\n",
        "* [IPython (Jupyter) \"magic\" (`%`) commands](https://ipython.readthedocs.io/en/stable/interactive/magics.html)\n",
        "\n",
        "Free interactive books created by Jake VanderPlas:\n",
        "\n",
        "* [A Whirlwind Tour of Python](https://colab.research.google.com/github/jakevdp/WhirlwindTourOfPython/blob/master/Index.ipynb) [[PDF version]](https://www.oreilly.com/programming/free/files/a-whirlwind-tour-of-python.pdf)\n",
        "* [Python Data Science Handbook](https://colab.research.google.com/github/jakevdp/PythonDataScienceHandbook/blob/master/notebooks/Index.ipynb)"
      ]
    },
    {
      "cell_type": "markdown",
      "metadata": {
        "id": "c07TBHdokweE",
        "colab_type": "text"
      },
      "source": [
        "# Continue to the Next Lesson\n",
        "\n",
        "Return to home to continue to the next lession:\n",
        "\n",
        "https://jpgill86.github.io/python-for-neuroscientists/"
      ]
    },
    {
      "cell_type": "markdown",
      "metadata": {
        "id": "n-KhMl8xk1Ze",
        "colab_type": "text"
      },
      "source": [
        "# License\n",
        "\n",
        "[This work](https://github.com/jpgill86/python-for-neuroscientists) is licensed under a [Creative Commons Attribution 4.0 International\n",
        "License](http://creativecommons.org/licenses/by/4.0/)."
      ]
    }
  ]
}