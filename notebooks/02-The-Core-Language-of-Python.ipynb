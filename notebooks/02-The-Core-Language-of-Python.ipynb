{
  "nbformat": 4,
  "nbformat_minor": 0,
  "metadata": {
    "colab": {
      "name": "02-The-Core-Language-of-Python.ipynb",
      "provenance": [],
      "collapsed_sections": [],
      "toc_visible": true,
      "include_colab_link": true
    },
    "kernelspec": {
      "name": "python3",
      "display_name": "Python 3"
    }
  },
  "cells": [
    {
      "cell_type": "markdown",
      "metadata": {
        "id": "view-in-github",
        "colab_type": "text"
      },
      "source": [
        "<a href=\"https://colab.research.google.com/github/jpgill86/python-for-neuroscientists/blob/master/notebooks/02-The-Core-Language-of-Python.ipynb\" target=\"_parent\"><img src=\"https://colab.research.google.com/assets/colab-badge.svg\" alt=\"Open In Colab\"/></a>"
      ]
    },
    {
      "cell_type": "markdown",
      "metadata": {
        "id": "QRtgy8QlUJSM",
        "colab_type": "text"
      },
      "source": [
        "# The Core Language of Python"
      ]
    },
    {
      "cell_type": "markdown",
      "metadata": {
        "id": "EKEQe-jELmlJ",
        "colab_type": "text"
      },
      "source": [
        "This notebook will be primarily focused on \"vanilla\" Python. That is, the core language will be showcased, but third-party libraries (like NumPy, Pandas, Matplotlib) will be discussed elsewhere. This notebook is all about what the basic language can do.\n",
        "\n",
        "That said, there are a some extra features available in Jupyter notebooks that are not part of the core language but which will be useful to introduce here. These will be sprinked in where appropriate."
      ]
    },
    {
      "cell_type": "markdown",
      "metadata": {
        "id": "EzxgjskbI3aP",
        "colab_type": "text"
      },
      "source": [
        "## Getting Help While Coding"
      ]
    },
    {
      "cell_type": "markdown",
      "metadata": {
        "id": "OJm7JzuhJGI3",
        "colab_type": "text"
      },
      "source": [
        "Even veteran Python programmers need to look things up sometimes! As you work through this notebook and start to write your own code, keep these tips in mind:\n",
        "\n",
        "* Python has a built-in documentation system, which is accessed using the `help()` function. For example, `help(print)` or `help(str)` can give you more information about functions and data types (try it!). You can use it on variables that have been defined in your code as well.\n",
        "\n",
        "* In Jupyter notebooks, you can get some of the same information (often with fewer technical details) to appear in a separate \"Help\" tab by using the special `?` symbol, which can be placed before or immediately after a name. For examples, try `? print` or `max?`.\n",
        "\n",
        "* The online, official documentation is great for in-depth, definitive information: [https://docs.python.org](https://docs.python.org)\n",
        "\n",
        "* Googling with the right search terms, like \"python list slicing\", will get you very far in life. Just be aware that results for older versions of Python, especially Python 2, may come up and no longer be correct. To check the version of Python you are using, just run this code:"
      ]
    },
    {
      "cell_type": "code",
      "metadata": {
        "id": "aBJ8DWQDNFGs",
        "colab_type": "code",
        "colab": {
          "base_uri": "https://localhost:8080/",
          "height": 53
        },
        "outputId": "4bfca040-a73d-488a-baab-4eac72cf6377"
      },
      "source": [
        "from sys import version\n",
        "print(version)"
      ],
      "execution_count": null,
      "outputs": [
        {
          "output_type": "stream",
          "text": [
            "3.6.9 (default, Jul 17 2020, 12:50:27) \n",
            "[GCC 8.4.0]\n"
          ],
          "name": "stdout"
        }
      ]
    },
    {
      "cell_type": "markdown",
      "metadata": {
        "id": "di2Gq7cVXOM_",
        "colab_type": "text"
      },
      "source": [
        "## Comments"
      ]
    },
    {
      "cell_type": "markdown",
      "metadata": {
        "id": "lg_S4UTWXQpw",
        "colab_type": "text"
      },
      "source": [
        "In Python, the `#` character indicates the start of a **comment**. Everything on a line of code that comes after a `#` character is ignored by the computer.\n",
        "\n",
        "> *Aside: Colab allows you to attach notes to cells, which are confusingly also called \"comments\". These are not the same thing as code comments.*\n",
        "\n",
        "Code comments have two purposes:\n",
        "\n",
        "* Comments allow you to include explanations of how the code works. This is an essential habit every programmer should develop: **write helpful comments in your code**. This helps others understand how your code works. This (especially) includes *future-you*!\n",
        "* You can **reversibly disable** a line of code by putting a `#` character at the start. When developing code, this is very useful.\n",
        "\n",
        "Here's a trivial example of an explanatory comment:"
      ]
    },
    {
      "cell_type": "code",
      "metadata": {
        "id": "mYSE5BYnZsgS",
        "colab_type": "code",
        "colab": {
          "base_uri": "https://localhost:8080/",
          "height": 35
        },
        "outputId": "210c8c7a-a68a-4dfc-9831-cadf7d910a6f"
      },
      "source": [
        "# calculate one plus one\n",
        "1 + 1"
      ],
      "execution_count": null,
      "outputs": [
        {
          "output_type": "execute_result",
          "data": {
            "text/plain": [
              "2"
            ]
          },
          "metadata": {
            "tags": []
          },
          "execution_count": 2
        }
      ]
    },
    {
      "cell_type": "markdown",
      "metadata": {
        "id": "NZndinzxZ6km",
        "colab_type": "text"
      },
      "source": [
        "Notice the comment is easily distinguishable by its color.\n",
        "\n",
        "Colab provides a very useful keyboard shortcut for adding and removing the `#` symbol from the current line of code, or many lines at once if you select them first: Ctrl+/ (Cmd+/ on Mac).\n",
        "\n",
        "Try placing your cursor in the code cell below and toggling the comment state of the line using the keyboard shortcut:"
      ]
    },
    {
      "cell_type": "code",
      "metadata": {
        "id": "6503wDsMcUzq",
        "colab_type": "code",
        "colab": {}
      },
      "source": [
        "# 1 + 1"
      ],
      "execution_count": null,
      "outputs": []
    },
    {
      "cell_type": "markdown",
      "metadata": {
        "id": "iYTNC1UTQRTZ",
        "colab_type": "text"
      },
      "source": [
        "## Variables and Operators"
      ]
    },
    {
      "cell_type": "markdown",
      "metadata": {
        "id": "WA2OomvOQXY8",
        "colab_type": "text"
      },
      "source": [
        "Data can be stored in variables using `=`. Try executing the two code cells below in order to first store the value `2` in the variable `x` and then to display the contents of `x`."
      ]
    },
    {
      "cell_type": "code",
      "metadata": {
        "id": "e_2GYieLLBV5",
        "colab_type": "code",
        "colab": {}
      },
      "source": [
        "# store 2 in x\n",
        "x = 1 + 1"
      ],
      "execution_count": null,
      "outputs": []
    },
    {
      "cell_type": "code",
      "metadata": {
        "id": "MYMDjVCbK15F",
        "colab_type": "code",
        "colab": {
          "base_uri": "https://localhost:8080/",
          "height": 35
        },
        "outputId": "40d1aed8-545a-4f40-c960-41fcfc9c6a5d"
      },
      "source": [
        "# output the value of x\n",
        "x"
      ],
      "execution_count": null,
      "outputs": [
        {
          "output_type": "execute_result",
          "data": {
            "text/plain": [
              "2"
            ]
          },
          "metadata": {
            "tags": []
          },
          "execution_count": 5
        }
      ]
    },
    {
      "cell_type": "markdown",
      "metadata": {
        "id": "9q9mptu_OaEm",
        "colab_type": "text"
      },
      "source": [
        "In Jupyter notebooks, you can list all of the variables (and functions, classes, imported modules) that you have defined, along with their values, using the \"magic\" command `%whos`:"
      ]
    },
    {
      "cell_type": "code",
      "metadata": {
        "id": "_N4utwwnKmcd",
        "colab_type": "code",
        "colab": {
          "base_uri": "https://localhost:8080/",
          "height": 90
        },
        "outputId": "8f536c1f-dbc6-42a9-abae-b5b398deef00"
      },
      "source": [
        "# remember this one -- it is super useful!\n",
        "%whos"
      ],
      "execution_count": null,
      "outputs": [
        {
          "output_type": "stream",
          "text": [
            "Variable   Type    Data/Info\n",
            "----------------------------\n",
            "version    str     3.6.9 (default, Jul 17 20<...>, 12:50:27) \\n[GCC 8.4.0]\n",
            "x          int     2\n"
          ],
          "name": "stdout"
        }
      ]
    },
    {
      "cell_type": "markdown",
      "metadata": {
        "id": "SxwD_4d3Rp57",
        "colab_type": "text"
      },
      "source": [
        "You can check a variable's type using the built-in `type()` function:"
      ]
    },
    {
      "cell_type": "code",
      "metadata": {
        "id": "4J1xA6H1S7GI",
        "colab_type": "code",
        "colab": {
          "base_uri": "https://localhost:8080/",
          "height": 35
        },
        "outputId": "d4dbcbd9-2383-4e1a-c7c9-31d812ea208c"
      },
      "source": [
        "type(x)"
      ],
      "execution_count": null,
      "outputs": [
        {
          "output_type": "execute_result",
          "data": {
            "text/plain": [
              "int"
            ]
          },
          "metadata": {
            "tags": []
          },
          "execution_count": 7
        }
      ]
    },
    {
      "cell_type": "markdown",
      "metadata": {
        "id": "NFxV9GUgS86c",
        "colab_type": "text"
      },
      "source": [
        "`int` stands for \"integer\".\n",
        "\n",
        "Unlike some stricter languages, Python allows you to change the type of a variable effortlessly by assigning it a new value."
      ]
    },
    {
      "cell_type": "code",
      "metadata": {
        "id": "WfHybtGqTR7J",
        "colab_type": "code",
        "colab": {}
      },
      "source": [
        "x = 1.5"
      ],
      "execution_count": null,
      "outputs": []
    },
    {
      "cell_type": "code",
      "metadata": {
        "id": "2qJRlmD2Tz12",
        "colab_type": "code",
        "colab": {
          "base_uri": "https://localhost:8080/",
          "height": 35
        },
        "outputId": "c54c791b-4303-4d74-d3a4-1195960ffa66"
      },
      "source": [
        "type(x)"
      ],
      "execution_count": null,
      "outputs": [
        {
          "output_type": "execute_result",
          "data": {
            "text/plain": [
              "float"
            ]
          },
          "metadata": {
            "tags": []
          },
          "execution_count": 9
        }
      ]
    },
    {
      "cell_type": "markdown",
      "metadata": {
        "id": "T7xSp41zTVOX",
        "colab_type": "text"
      },
      "source": [
        "`float` stands for \"floating point number\", which is a format that computers use to represent decimal numbers. `int` and `float` are both numeric types.\n",
        "\n",
        "Truth values are represented in Python using `True` and `False`, which have type `bool` (for \"Boolean\"). `True` and `False` must always start with capital letters. These values can be assigned to variables directly, or they can result from comparisons and tests.\n",
        "\n",
        "For example, the `==` comparison operator (double-equals; this is different from the single-equals `=` used for variable assignment!) can be used to test whether two values match. It will evaluate to either `True` or `False`.\n",
        "\n",
        "Try running the cell below twice, first with `x = 2` and a second time with `x = 1.5`. Use the keyboard shortcut for toggling comments (Ctrl+/ or Cmd+/) to switch which variable assignment is used when the cell runs."
      ]
    },
    {
      "cell_type": "code",
      "metadata": {
        "id": "04f2nV4DTkdk",
        "colab_type": "code",
        "colab": {
          "base_uri": "https://localhost:8080/",
          "height": 35
        },
        "outputId": "4c7e1fc5-f70e-4055-fea4-2897a1e17a98"
      },
      "source": [
        "x = 2\n",
        "# x = 1.5\n",
        "type(x) == int"
      ],
      "execution_count": null,
      "outputs": [
        {
          "output_type": "execute_result",
          "data": {
            "text/plain": [
              "True"
            ]
          },
          "metadata": {
            "tags": []
          },
          "execution_count": 10
        }
      ]
    },
    {
      "cell_type": "markdown",
      "metadata": {
        "id": "aY3xfKBag32B",
        "colab_type": "text"
      },
      "source": [
        "Python can, of course, perform the other basic mathematical operations, not just addition:\n",
        "\n",
        "```python\n",
        "5 + 2   # addition        = 7\n",
        "5 - 2   # subtraction     = 3\n",
        "5 * 2   # multiplication  = 10\n",
        "5 / 2   # division        = 2.5\n",
        "5 ** 2  # exponentiation  = 25\n",
        "        # (do NOT use ^ for exponentiation, it does something very different!)\n",
        "\n",
        "5 // 2  # integer division (drop remainder)  = 2\n",
        "5 % 2   # modulus (remainder)                = 1\n",
        "```\n",
        "\n",
        "Python has many more comparison operators:\n",
        "\n",
        "```python\n",
        "x = 2      # assign 2 to x\n",
        "t = True   # assign True to t\n",
        "f = False  # assign False to f\n",
        "\n",
        "x == 2     # equal                  = True\n",
        "x != 2     # not equal              = False\n",
        "x > 2      # greater than           = False\n",
        "x < 2      # less than              = False\n",
        "x >= 2     # greater than or equal  = True\n",
        "x <= 2     # less than or equal     = True\n",
        "\n",
        "t and f    # both true              = False\n",
        "t or f     # either true            = True\n",
        "not t      # negation               = False\n",
        "not f      #                        = True\n",
        "```"
      ]
    },
    {
      "cell_type": "markdown",
      "metadata": {
        "id": "ltks2-ABKx1c",
        "colab_type": "text"
      },
      "source": [
        "## Printing"
      ]
    },
    {
      "cell_type": "markdown",
      "metadata": {
        "id": "aXQC7_bXK13G",
        "colab_type": "text"
      },
      "source": [
        "To display the value of a variable or the result of a calculation, you can simply write the variable name or perform the calculation as the last thing in a code cell. For example:"
      ]
    },
    {
      "cell_type": "code",
      "metadata": {
        "id": "JNgiUIoKK06g",
        "colab_type": "code",
        "colab": {
          "base_uri": "https://localhost:8080/",
          "height": 35
        },
        "outputId": "06cbde8a-5f9f-47c7-cfe9-fd71dba80094"
      },
      "source": [
        "x = 1 + 1\n",
        "x"
      ],
      "execution_count": null,
      "outputs": [
        {
          "output_type": "execute_result",
          "data": {
            "text/plain": [
              "2"
            ]
          },
          "metadata": {
            "tags": []
          },
          "execution_count": 11
        }
      ]
    },
    {
      "cell_type": "markdown",
      "metadata": {
        "id": "RrCbYTOZLpfX",
        "colab_type": "text"
      },
      "source": [
        "If you try to do this with multiple variables or calculations, only the last will be displayed automatically:"
      ]
    },
    {
      "cell_type": "code",
      "metadata": {
        "id": "TYCxagQjLnCv",
        "colab_type": "code",
        "colab": {
          "base_uri": "https://localhost:8080/",
          "height": 35
        },
        "outputId": "1b1ad119-cbcd-4271-be2c-8339e1cd89bf"
      },
      "source": [
        "x = 1 + 1\n",
        "y = x + 1\n",
        "\n",
        "x\n",
        "y"
      ],
      "execution_count": null,
      "outputs": [
        {
          "output_type": "execute_result",
          "data": {
            "text/plain": [
              "3"
            ]
          },
          "metadata": {
            "tags": []
          },
          "execution_count": 12
        }
      ]
    },
    {
      "cell_type": "markdown",
      "metadata": {
        "id": "ia2rpRTAL2Z6",
        "colab_type": "text"
      },
      "source": [
        "To display multiple things as a result of running one code cell, you can use the `print()` function:"
      ]
    },
    {
      "cell_type": "code",
      "metadata": {
        "id": "l0kZmZHrMFmC",
        "colab_type": "code",
        "colab": {
          "base_uri": "https://localhost:8080/",
          "height": 90
        },
        "outputId": "931353b8-4da2-4285-b343-e35a420e10f7"
      },
      "source": [
        "print(x)\n",
        "print(y)\n",
        "\n",
        "z = y + 1\n",
        "\n",
        "print(z)\n",
        "print(z + 1)"
      ],
      "execution_count": null,
      "outputs": [
        {
          "output_type": "stream",
          "text": [
            "2\n",
            "3\n",
            "4\n",
            "5\n"
          ],
          "name": "stdout"
        }
      ]
    },
    {
      "cell_type": "markdown",
      "metadata": {
        "id": "o3tAb3nZnzYb",
        "colab_type": "text"
      },
      "source": [
        "## Strings"
      ]
    },
    {
      "cell_type": "markdown",
      "metadata": {
        "id": "J7GJkDWroVj9",
        "colab_type": "text"
      },
      "source": [
        "Variables containing text are called strings and have type `str`. Strings can be enclosed by either double quotes (`\"\"`) or single quotes (`''`). Which you use often comes down to personal preference."
      ]
    },
    {
      "cell_type": "code",
      "metadata": {
        "id": "-usEh06mz-cf",
        "colab_type": "code",
        "colab": {
          "base_uri": "https://localhost:8080/",
          "height": 35
        },
        "outputId": "fd58edef-85e0-4172-aec1-971874e92e16"
      },
      "source": [
        "genus = \"Aplysia\"\n",
        "species = 'californica'\n",
        "\n",
        "type(genus)"
      ],
      "execution_count": 60,
      "outputs": [
        {
          "output_type": "execute_result",
          "data": {
            "text/plain": [
              "str"
            ]
          },
          "metadata": {
            "tags": []
          },
          "execution_count": 60
        }
      ]
    },
    {
      "cell_type": "markdown",
      "metadata": {
        "id": "RLDRIAgh2fOj",
        "colab_type": "text"
      },
      "source": [
        "Multi-line strings can be constructed using three quote marks (either `\"\"\"` or `'''`). Inside of a **triple quoted string**, including a backslash (`\\`) at the end of a line will cause the line break immediately following it to be ignored.\n",
        "\n",
        "In the example below, a backslash is included at the end of the first line so that the string will not begin with an empty line. Also, the string is printed using `print()`, instead of just displayed by naming the variable, so that the line breaks will display properly."
      ]
    },
    {
      "cell_type": "code",
      "metadata": {
        "id": "N6kaB_xP2Ieh",
        "colab_type": "code",
        "colab": {
          "base_uri": "https://localhost:8080/",
          "height": 146
        },
        "outputId": "e48e4bdd-e870-4e84-a879-dc0bd41570dd"
      },
      "source": [
        "long_string = \"\"\"\\\n",
        "Strange women lying in ponds\n",
        "distributing swords is no basis\n",
        "for a system of government!\n",
        "Supreme executive power derives\n",
        "from a mandate from the masses,\n",
        "not from some farcical aquatic\n",
        "ceremony!\"\"\"\n",
        "\n",
        "print(long_string)"
      ],
      "execution_count": 61,
      "outputs": [
        {
          "output_type": "stream",
          "text": [
            "Strange women lying in ponds\n",
            "distributing swords is no basis\n",
            "for a system of government!\n",
            "Supreme executive power derives\n",
            "from a mandate from the masses,\n",
            "not from some farcical aquatic\n",
            "ceremony!\n"
          ],
          "name": "stdout"
        }
      ]
    },
    {
      "cell_type": "markdown",
      "metadata": {
        "id": "yIB_zDeJ5ZIh",
        "colab_type": "text"
      },
      "source": [
        "> *Aside: The Python language is named after the British comedy troupe \"Monty Python\", and the text above is a quote from their 1975 film \"Monty Python and the Holy Grail\". You will not learn much about programming by watching it, but I still highly recommend it.*\n",
        "\n",
        "Including a literal apostrophe (`'`) or quotation mark (`\"`) inside your string can cause a problem if Python misinterprets the character as terminating your string. You can avoid this problem by either using the other type of quote to enclose your string, or by using a backslash to \"escape\" the literal punctuation mark, which tells Python to not interpret the character as terminating the string. That is, Python will interpret `\\'` and `\\\"` as just punctuation in a string, rather than the end of the string."
      ]
    },
    {
      "cell_type": "code",
      "metadata": {
        "id": "u1IAYrpQ9y_7",
        "colab_type": "code",
        "colab": {
          "base_uri": "https://localhost:8080/",
          "height": 54
        },
        "outputId": "28c7cca3-8d4f-4990-ffda-c5e70bbbfdcb"
      },
      "source": [
        "# option 1: enclose the string in double quotes\n",
        "# so that the apostrophe is not misinterpreted\n",
        "string1 = \"The slug's ink ain't pink; it's purple.\"\n",
        "\n",
        "# option 2: use a backslash to escape the apostrophe\n",
        "string2 = 'The slug\\'s ink ain\\'t pink; it\\'s purple.'\n",
        "\n",
        "print(string1)\n",
        "print(string2)"
      ],
      "execution_count": 62,
      "outputs": [
        {
          "output_type": "stream",
          "text": [
            "The slug's ink ain't pink; it's purple.\n",
            "The slug's ink ain't pink; it's purple.\n"
          ],
          "name": "stdout"
        }
      ]
    },
    {
      "cell_type": "markdown",
      "metadata": {
        "id": "4g5s0sP381r8",
        "colab_type": "text"
      },
      "source": [
        "The value of a string variable can be tested with `==`. Notice that, in the following example, switching from double quotes (above, when `genus` was assigned its value) to single quotes (below) does not matter."
      ]
    },
    {
      "cell_type": "code",
      "metadata": {
        "id": "ctoPaymS0awd",
        "colab_type": "code",
        "colab": {
          "base_uri": "https://localhost:8080/",
          "height": 35
        },
        "outputId": "3e777ae3-7c5c-49e6-f222-bcf1a3958e51"
      },
      "source": [
        "genus == 'Aplysia'"
      ],
      "execution_count": 63,
      "outputs": [
        {
          "output_type": "execute_result",
          "data": {
            "text/plain": [
              "True"
            ]
          },
          "metadata": {
            "tags": []
          },
          "execution_count": 63
        }
      ]
    },
    {
      "cell_type": "markdown",
      "metadata": {
        "id": "QhFbzs880zmB",
        "colab_type": "text"
      },
      "source": [
        "Strings can also be **concatenated**, or put together, using `+`. Here, a string containing just a space is sandwiched between two string variables:"
      ]
    },
    {
      "cell_type": "code",
      "metadata": {
        "id": "P3uCgkcl1AJS",
        "colab_type": "code",
        "colab": {
          "base_uri": "https://localhost:8080/",
          "height": 36
        },
        "outputId": "cbc999ad-8aeb-4d93-b643-2859eea051d0"
      },
      "source": [
        "genus + ' ' + species"
      ],
      "execution_count": 64,
      "outputs": [
        {
          "output_type": "execute_result",
          "data": {
            "application/vnd.google.colaboratory.intrinsic+json": {
              "type": "string"
            },
            "text/plain": [
              "'Aplysia californica'"
            ]
          },
          "metadata": {
            "tags": []
          },
          "execution_count": 64
        }
      ]
    },
    {
      "cell_type": "markdown",
      "metadata": {
        "id": "uY0J_AzNAnaq",
        "colab_type": "text"
      },
      "source": [
        "> *Aside: This is an example of* **operator overloading** *where the same symbol is used in different contexts to do different things. As we saw before, the `+` operator can be used to perform arithmetic addition, as well as to concatenate strings. It can also be used to join lists, as will be described below.*\n",
        "\n",
        "For more complex string manipulation, a special type of string called an **f-string** may be useful. F-strings are distinguished by the character `f` immediately preceding the enclosing quotes (either `f'...'` or `f\"...\"`). The `f` stands for \"format\", and f-strings allow you both to combine variables into a single string and to control the way numbers are displayed.\n",
        "\n",
        "In an f-string, curly braces (`{}`) may enclose the names of variables or more complex expressions, and those expressions will be evaluated to create the string. For example, the previous example combined a genus and species name with `+` symbols, but this can also be done with f-strings:"
      ]
    },
    {
      "cell_type": "code",
      "metadata": {
        "id": "3OOJGR2V0RJJ",
        "colab_type": "code",
        "colab": {
          "base_uri": "https://localhost:8080/",
          "height": 36
        },
        "outputId": "f36c580e-f65b-4379-f27e-aeec0f0f2826"
      },
      "source": [
        "f'{genus} {species}'"
      ],
      "execution_count": 65,
      "outputs": [
        {
          "output_type": "execute_result",
          "data": {
            "application/vnd.google.colaboratory.intrinsic+json": {
              "type": "string"
            },
            "text/plain": [
              "'Aplysia californica'"
            ]
          },
          "metadata": {
            "tags": []
          },
          "execution_count": 65
        }
      ]
    },
    {
      "cell_type": "markdown",
      "metadata": {
        "id": "odNiHSEVCKGg",
        "colab_type": "text"
      },
      "source": [
        "F-strings allow calculations to be performed inside of the curly braces:"
      ]
    },
    {
      "cell_type": "code",
      "metadata": {
        "id": "2oyBvwRJCJay",
        "colab_type": "code",
        "colab": {
          "base_uri": "https://localhost:8080/",
          "height": 36
        },
        "outputId": "b114b7fa-0211-4d83-dbe4-3a316fa1b29f"
      },
      "source": [
        "x = 2\n",
        "y = 8\n",
        "\n",
        "f'{x} raised to the {y}th power is {x**y}'"
      ],
      "execution_count": null,
      "outputs": [
        {
          "output_type": "execute_result",
          "data": {
            "application/vnd.google.colaboratory.intrinsic+json": {
              "type": "string"
            },
            "text/plain": [
              "'2 raised to the 8th power is 256'"
            ]
          },
          "metadata": {
            "tags": []
          },
          "execution_count": 20
        }
      ]
    },
    {
      "cell_type": "markdown",
      "metadata": {
        "id": "qCz9VfcaC3xg",
        "colab_type": "text"
      },
      "source": [
        "F-strings also allow numbers to be formatted just the way you want. For example, you can control how many digits after the decimal point are displayed using `{my_number:.xf}`, where `x` is the number of digits:"
      ]
    },
    {
      "cell_type": "code",
      "metadata": {
        "id": "sgf51uvcDGn2",
        "colab_type": "code",
        "colab": {
          "base_uri": "https://localhost:8080/",
          "height": 36
        },
        "outputId": "4c770dfb-de59-45ef-c985-3e7cf805246a"
      },
      "source": [
        "pi = 3.14159265358979323846\n",
        "\n",
        "f'The ratio of a circle\\'s circumferance to its diameter is {pi:.5f}'"
      ],
      "execution_count": null,
      "outputs": [
        {
          "output_type": "execute_result",
          "data": {
            "application/vnd.google.colaboratory.intrinsic+json": {
              "type": "string"
            },
            "text/plain": [
              "\"The ratio of a circle's circumferance to its diameter is 3.14159\""
            ]
          },
          "metadata": {
            "tags": []
          },
          "execution_count": 21
        }
      ]
    },
    {
      "cell_type": "markdown",
      "metadata": {
        "id": "-lXX2habGfdh",
        "colab_type": "text"
      },
      "source": [
        "> *Aside: Prior to the addition of f-strings to Python in 2016, strings could be (and still can be) formatted using different syntax. All of these are equivalent, but f-strings tend to be, in my opinion, most readable because of their simplicity, while also being incredibly flexible:*\n",
        "```python\n",
        "genus + ' ' + species\n",
        "'%s %s' % (genus, species)\n",
        "'{} {}'.format(genus, species)\n",
        "'{g} {s}'.format(g=genus, s=species)\n",
        "f'{genus} {species}'\n",
        "```"
      ]
    },
    {
      "cell_type": "markdown",
      "metadata": {
        "id": "DyTGFNGmeJuk",
        "colab_type": "text"
      },
      "source": [
        "The built-in `str()` function can be used to convert objects of other types, such as numbers, into strings:"
      ]
    },
    {
      "cell_type": "code",
      "metadata": {
        "id": "glCFNuUDeRIJ",
        "colab_type": "code",
        "colab": {
          "base_uri": "https://localhost:8080/",
          "height": 36
        },
        "outputId": "2a9483e4-c9d9-4f4e-8ea2-afed62dfa47b"
      },
      "source": [
        "str(123)"
      ],
      "execution_count": null,
      "outputs": [
        {
          "output_type": "execute_result",
          "data": {
            "application/vnd.google.colaboratory.intrinsic+json": {
              "type": "string"
            },
            "text/plain": [
              "'123'"
            ]
          },
          "metadata": {
            "tags": []
          },
          "execution_count": 22
        }
      ]
    },
    {
      "cell_type": "markdown",
      "metadata": {
        "id": "O5qvrpM95d8N",
        "colab_type": "text"
      },
      "source": [
        "Strings are a data type with **method functions** (also called **member functions**), i.e., built-in functions that are associated with every string object.\n",
        "\n",
        "> *Aside: In fact, virtually every data type, including those we have already seen (`int`, `float`, `bool`) and others we will see shortly (`list`, `tuple`, `dict`) have associated method functions. We will discuss more of these in the future.*\n",
        "\n",
        "One example of a string method is `upper()`, which converts all letters in the string to uppercase:"
      ]
    },
    {
      "cell_type": "code",
      "metadata": {
        "id": "ZHDBe9sx6pcf",
        "colab_type": "code",
        "colab": {
          "base_uri": "https://localhost:8080/",
          "height": 36
        },
        "outputId": "9d9735a9-5c23-4759-dc9d-a4d6e87c4332"
      },
      "source": [
        "my_string = 'Aplysia californica'\n",
        "my_string.upper()"
      ],
      "execution_count": 69,
      "outputs": [
        {
          "output_type": "execute_result",
          "data": {
            "application/vnd.google.colaboratory.intrinsic+json": {
              "type": "string"
            },
            "text/plain": [
              "'APLYSIA CALIFORNICA'"
            ]
          },
          "metadata": {
            "tags": []
          },
          "execution_count": 69
        }
      ]
    },
    {
      "cell_type": "markdown",
      "metadata": {
        "id": "fW5IK37-6wB4",
        "colab_type": "text"
      },
      "source": [
        "As you can see above, method functions are accessed in Python using **dot notation**, e.g., `my_string.upper`, where a period (`.`) separates the object name (`my_string`) and the method name (`upper`). In Colab, it is easy to see a listing of the method functions (and other attributes) associated with a variable by typing in the variable name, followed by a period, and then pausing for a brief moment. If you try it for `my_string` (assuming you evaluated the cell above), you will see a pop-up that looks like this:\n",
        "\n",
        "![Screenshot of list methods pop-up in Colab](data:image/png;base64,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)\n",
        "\n",
        "If the number of available methods is large, you may need to scroll within the pop-up to see them all. Try it!\n",
        "\n",
        "Take some time to familiarize yourself with some of the string methods. You can use `?` to learn more about them (e.g., `my_string.upper?`). Here are some additional examples (some use lists, which will be introduced soon):"
      ]
    },
    {
      "cell_type": "code",
      "metadata": {
        "id": "ATbqRGU78vEh",
        "colab_type": "code",
        "colab": {
          "base_uri": "https://localhost:8080/",
          "height": 146
        },
        "outputId": "1f499b69-f381-443a-f98f-13ec6550808e"
      },
      "source": [
        "my_string = 'Aplysia californica'\n",
        "\n",
        "# convert all letters to uppercase\n",
        "print(my_string.upper())\n",
        "\n",
        "# return True if the string begins with capital A, otherwise return False\n",
        "print(my_string.startswith('A'))\n",
        "\n",
        "# count the number of occurances of lowercase i\n",
        "print(my_string.count('i'))\n",
        "\n",
        "# replace each i with an exclamation point\n",
        "print(my_string.replace('i', '!'))\n",
        "\n",
        "# split the string everywhere there is a lowercase i to make a list of smaller\n",
        "# strings, discarding the i's in the process\n",
        "print(my_string.split('i'))\n",
        "\n",
        "# join each string in the list with a hyphen\n",
        "print('-'.join(['pre', 'synaptic']))\n",
        "\n",
        "# after splitting the string at the i's, join the pieces together again with\n",
        "# i's, thereby reconstructing the original string\n",
        "print('i'.join(my_string.split('i')))"
      ],
      "execution_count": 70,
      "outputs": [
        {
          "output_type": "stream",
          "text": [
            "APLYSIA CALIFORNICA\n",
            "True\n",
            "3\n",
            "Aplys!a cal!forn!ca\n",
            "['Aplys', 'a cal', 'forn', 'ca']\n",
            "pre-synaptic\n",
            "Aplysia californica\n"
          ],
          "name": "stdout"
        }
      ]
    },
    {
      "cell_type": "markdown",
      "metadata": {
        "id": "6fFMGy5af8w8",
        "colab_type": "text"
      },
      "source": [
        "## If/Else Statements"
      ]
    },
    {
      "cell_type": "markdown",
      "metadata": {
        "id": "Lju3cRiE2dow",
        "colab_type": "text"
      },
      "source": [
        "Code can be executed conditionally depending on the results of comparison operations and Boolean truth values using `if`/`else` statements.\n",
        "\n",
        "The simplest form of an `if` statement does something only if the specified condition is true. In the example below, a `print` command is executed only if `x` is positive (in this case, it is). Notice that a **colon** (`:`) terminates the condition in the line containing `if`, and the command(s) that follow are **indented**. This indentation is required and must be consistent."
      ]
    },
    {
      "cell_type": "code",
      "metadata": {
        "id": "5dRkuOnEgXdc",
        "colab_type": "code",
        "colab": {
          "base_uri": "https://localhost:8080/",
          "height": 35
        },
        "outputId": "ef0ae64f-f376-4062-cd7f-1117de6855a9"
      },
      "source": [
        "x = 10\n",
        "\n",
        "if x > 0:\n",
        "    # this code will run because x > 0 is true\n",
        "    print('x is positive')"
      ],
      "execution_count": null,
      "outputs": [
        {
          "output_type": "stream",
          "text": [
            "x is positive\n"
          ],
          "name": "stdout"
        }
      ]
    },
    {
      "cell_type": "markdown",
      "metadata": {
        "id": "N6WZc4w25b9V",
        "colab_type": "text"
      },
      "source": [
        "If the condition is not true, as below, nothing will happen."
      ]
    },
    {
      "cell_type": "code",
      "metadata": {
        "id": "6GsUjUgHgd26",
        "colab_type": "code",
        "colab": {}
      },
      "source": [
        "x = -5\n",
        "\n",
        "if x > 0:\n",
        "    # this code will NOT run because x > 0 is false\n",
        "    print('x is positive')"
      ],
      "execution_count": null,
      "outputs": []
    },
    {
      "cell_type": "markdown",
      "metadata": {
        "id": "43Yehw8h5jcj",
        "colab_type": "text"
      },
      "source": [
        "The conditionally-executed code may contain much more than a single `print` command. Any number of lines of code can be included there, but they must be consistently indented. Four spaces is a common indentation convention.\n",
        "\n",
        "If you want some other code to run if the condition is false, use `else`. Again, a colon is needed."
      ]
    },
    {
      "cell_type": "code",
      "metadata": {
        "id": "mDK0CrOq6SjO",
        "colab_type": "code",
        "colab": {
          "base_uri": "https://localhost:8080/",
          "height": 35
        },
        "outputId": "a715ccba-52ed-42aa-bf0a-1b482518063d"
      },
      "source": [
        "x = -5\n",
        "\n",
        "if x > 0:\n",
        "    # this code will NOT run because x > 0 is false\n",
        "    print('x is positive')\n",
        "else:\n",
        "    # this code will run because the tested condition was not true\n",
        "    print('x is not positive')"
      ],
      "execution_count": null,
      "outputs": [
        {
          "output_type": "stream",
          "text": [
            "x is not positive\n"
          ],
          "name": "stdout"
        }
      ]
    },
    {
      "cell_type": "markdown",
      "metadata": {
        "id": "hLhz8Vy66kue",
        "colab_type": "text"
      },
      "source": [
        "If you want alternative conditions to be tested if the first condition is false, use `elif` (\"else-if\"). Several of these can be chained together, and an `else` may be included at the end."
      ]
    },
    {
      "cell_type": "code",
      "metadata": {
        "id": "CjcEHIPFgB43",
        "colab_type": "code",
        "colab": {
          "base_uri": "https://localhost:8080/",
          "height": 35
        },
        "outputId": "9b5fbc8e-17a8-4862-cf81-6a21a4f735e9"
      },
      "source": [
        "x = -5\n",
        "\n",
        "if x > 0:\n",
        "    # this code will NOT run because x > 0 is false\n",
        "    print('x is positive')\n",
        "elif x < 0:\n",
        "    # this code will run because x < 0 is true\n",
        "    print('x is negative')\n",
        "else:\n",
        "    # this code will NOT run because one of the tested conditions was true\n",
        "    print('x is zero')"
      ],
      "execution_count": null,
      "outputs": [
        {
          "output_type": "stream",
          "text": [
            "x is negative\n"
          ],
          "name": "stdout"
        }
      ]
    },
    {
      "cell_type": "markdown",
      "metadata": {
        "id": "G8tY5Ru2UQAV",
        "colab_type": "text"
      },
      "source": [
        "## Lists"
      ]
    },
    {
      "cell_type": "markdown",
      "metadata": {
        "id": "ATim0snI9KfP",
        "colab_type": "text"
      },
      "source": [
        "One of the most common data types for sequences is the **list**. Lists are comma-separated values enclosed by square brackets (`[]`). Here is a simple example:"
      ]
    },
    {
      "cell_type": "code",
      "metadata": {
        "id": "HoTigxmBU5fp",
        "colab_type": "code",
        "colab": {
          "base_uri": "https://localhost:8080/",
          "height": 35
        },
        "outputId": "59bc766b-bbcb-4efc-b6fa-89f4e81c0c9e"
      },
      "source": [
        "# create a new list using square brackets []\n",
        "my_list = [0, 10, 20, 30]\n",
        "my_list"
      ],
      "execution_count": null,
      "outputs": [
        {
          "output_type": "execute_result",
          "data": {
            "text/plain": [
              "[0, 10, 20, 30]"
            ]
          },
          "metadata": {
            "tags": []
          },
          "execution_count": 27
        }
      ]
    },
    {
      "cell_type": "markdown",
      "metadata": {
        "id": "Ej3SZvgH9spA",
        "colab_type": "text"
      },
      "source": [
        "The type of a list variable is, unsurprisingly, `list`:"
      ]
    },
    {
      "cell_type": "code",
      "metadata": {
        "id": "DKAMZuH39qEK",
        "colab_type": "code",
        "colab": {
          "base_uri": "https://localhost:8080/",
          "height": 35
        },
        "outputId": "6dcaaa35-5b18-4772-8b54-37cfb838278f"
      },
      "source": [
        "type(my_list)"
      ],
      "execution_count": null,
      "outputs": [
        {
          "output_type": "execute_result",
          "data": {
            "text/plain": [
              "list"
            ]
          },
          "metadata": {
            "tags": []
          },
          "execution_count": 28
        }
      ]
    },
    {
      "cell_type": "markdown",
      "metadata": {
        "id": "z0fGrgg2Zwpz",
        "colab_type": "text"
      },
      "source": [
        "The built-in `range()` function can be used (in conjunction with the `list()` function for the purpose of this example) to create a list of ascending or descending numbers. As will be seen later with indexing and slicing, the numbering here is a bit weird, as it will produce a list that starts from 0 and goes up to, but does not include, your specified number."
      ]
    },
    {
      "cell_type": "code",
      "metadata": {
        "id": "FdEuuX6fYFpi",
        "colab_type": "code",
        "colab": {
          "base_uri": "https://localhost:8080/",
          "height": 35
        },
        "outputId": "1d585043-9b01-44a4-d97c-ec5a81da5ce1"
      },
      "source": [
        "# create the numbers 0 through 19\n",
        "list(range(20)) # list() is needed for this demo since range() actually returns a special type of object"
      ],
      "execution_count": null,
      "outputs": [
        {
          "output_type": "execute_result",
          "data": {
            "text/plain": [
              "[0, 1, 2, 3, 4, 5, 6, 7, 8, 9, 10, 11, 12, 13, 14, 15, 16, 17, 18, 19]"
            ]
          },
          "metadata": {
            "tags": []
          },
          "execution_count": 29
        }
      ]
    },
    {
      "cell_type": "markdown",
      "metadata": {
        "id": "yrtZkifAbEMK",
        "colab_type": "text"
      },
      "source": [
        "The `range()` function also accepts \"start\", \"stop\", and \"step\" inputs."
      ]
    },
    {
      "cell_type": "code",
      "metadata": {
        "id": "jnpq94wJZWm_",
        "colab_type": "code",
        "colab": {
          "base_uri": "https://localhost:8080/",
          "height": 35
        },
        "outputId": "97c05d36-e782-47d4-c769-94a97de14d8b"
      },
      "source": [
        "# create the numbers 10 through 100 in steps of 20\n",
        "list(range(10, 100, 20))"
      ],
      "execution_count": null,
      "outputs": [
        {
          "output_type": "execute_result",
          "data": {
            "text/plain": [
              "[10, 30, 50, 70, 90]"
            ]
          },
          "metadata": {
            "tags": []
          },
          "execution_count": 30
        }
      ]
    },
    {
      "cell_type": "markdown",
      "metadata": {
        "id": "WzP3_qm496-x",
        "colab_type": "text"
      },
      "source": [
        "Like strings, lists have many useful method functions. The `append` method can be used to add a new element to the end of a list. When `append` is used, the list is changed **in-place**, meaning that `my_list` is modified without you needing to write `my_list =`. For example:"
      ]
    },
    {
      "cell_type": "code",
      "metadata": {
        "id": "3WKOpCWYbhMT",
        "colab_type": "code",
        "colab": {
          "base_uri": "https://localhost:8080/",
          "height": 35
        },
        "outputId": "b71cf63b-897d-45c1-a05e-4b4c9393cb7d"
      },
      "source": [
        "# append an item to a list\n",
        "my_list.append(40) # note = is NOT needed for my_list to permanently change\n",
        "my_list"
      ],
      "execution_count": null,
      "outputs": [
        {
          "output_type": "execute_result",
          "data": {
            "text/plain": [
              "[0, 10, 20, 30, 40]"
            ]
          },
          "metadata": {
            "tags": []
          },
          "execution_count": 31
        }
      ]
    },
    {
      "cell_type": "markdown",
      "metadata": {
        "id": "8x8RyR9PFLmL",
        "colab_type": "text"
      },
      "source": [
        "Lists can also be extended by \"adding\" lists together using `+`. This operation does *not* cause in-place modification of the `my_list` variable, so `my_list =` is needed."
      ]
    },
    {
      "cell_type": "code",
      "metadata": {
        "id": "Olvj9mwCbr_K",
        "colab_type": "code",
        "colab": {
          "base_uri": "https://localhost:8080/",
          "height": 35
        },
        "outputId": "0f9316f5-e57f-49b0-9f31-803de39fe16f"
      },
      "source": [
        "# combine lists with +\n",
        "my_list = my_list + [50, 60] # note = is needed for my_list to permanently change\n",
        "my_list"
      ],
      "execution_count": null,
      "outputs": [
        {
          "output_type": "execute_result",
          "data": {
            "text/plain": [
              "[0, 10, 20, 30, 40, 50, 60]"
            ]
          },
          "metadata": {
            "tags": []
          },
          "execution_count": 32
        }
      ]
    },
    {
      "cell_type": "markdown",
      "metadata": {
        "id": "M7vQbZbIIQ_K",
        "colab_type": "text"
      },
      "source": [
        "The `extend` method does the same thing, but, like the `append` method, it *does* modify the variable in-place, so `my_list =` is not needed."
      ]
    },
    {
      "cell_type": "code",
      "metadata": {
        "id": "7obPN5keIF-v",
        "colab_type": "code",
        "colab": {
          "base_uri": "https://localhost:8080/",
          "height": 35
        },
        "outputId": "13493e57-3349-47ba-d23d-4e242c1db7e8"
      },
      "source": [
        "# alternative to +\n",
        "my_list.extend([70, 80]) # note = is NOT needed for my_list to permanently change\n",
        "my_list"
      ],
      "execution_count": null,
      "outputs": [
        {
          "output_type": "execute_result",
          "data": {
            "text/plain": [
              "[0, 10, 20, 30, 40, 50, 60, 70, 80]"
            ]
          },
          "metadata": {
            "tags": []
          },
          "execution_count": 33
        }
      ]
    },
    {
      "cell_type": "markdown",
      "metadata": {
        "id": "mqtnUSxJOCU0",
        "colab_type": "text"
      },
      "source": [
        "To learn more about any of the list methods, you can **view the documentation** using either `?` or the built-in `help()` function, e.g., `my_list.extend?` or `help(my_list.extend)`. For example, try looking at the documentation for `my_list.reverse`. You are encouraged to explore the other list methods too!"
      ]
    },
    {
      "cell_type": "markdown",
      "metadata": {
        "id": "XbviBW2WFEr1",
        "colab_type": "text"
      },
      "source": [
        "## Indexing and Slicing"
      ]
    },
    {
      "cell_type": "markdown",
      "metadata": {
        "id": "TmsfpWhcFChD",
        "colab_type": "text"
      },
      "source": [
        "Items in a list can be accessed by their position in the list using **indexing**, which is done using square brackets (`[]`) after the name of the list, with a position number given inside the brackets. The tricky thing to remember is that, like many other programming languages, **indexing starts from 0** in Python. That is, for our list `my_list`, to extract the first item of the list, you should use `my_list[0]`, not `my_list[1]`. If you are used to working with other languages that begin indexing with 1, such as MATLAB and Mathematica, this may take some getting used to!"
      ]
    },
    {
      "cell_type": "code",
      "metadata": {
        "id": "oCuo6EhJVLZh",
        "colab_type": "code",
        "colab": {
          "base_uri": "https://localhost:8080/",
          "height": 35
        },
        "outputId": "df958a3a-ba83-48bc-a179-39c6b514231b"
      },
      "source": [
        "# select the first item by index, which is in position 0\n",
        "my_list = [0, 10, 20, 30, 40, 50, 60, 70, 80]\n",
        "my_list[0]"
      ],
      "execution_count": null,
      "outputs": [
        {
          "output_type": "execute_result",
          "data": {
            "text/plain": [
              "0"
            ]
          },
          "metadata": {
            "tags": []
          },
          "execution_count": 35
        }
      ]
    },
    {
      "cell_type": "markdown",
      "metadata": {
        "id": "DSPqBpnYfB3w",
        "colab_type": "text"
      },
      "source": [
        "To access the second or third item in our list, you would use `my_list[1]` or `my_list[2]`, and so on. **In general, to access the *i*-th item in a list, you should use index *i-1*.**\n",
        "\n",
        "You can also use negative indices to count backwards from the end of a list. For example, to access the last item in a list, use index `-1`; the second-to-last item could be accessed with index `-2`, and so on."
      ]
    },
    {
      "cell_type": "code",
      "metadata": {
        "id": "kRBaweZbVU7V",
        "colab_type": "code",
        "colab": {
          "base_uri": "https://localhost:8080/",
          "height": 35
        },
        "outputId": "467d172f-4f32-4b42-b888-0627304224cf"
      },
      "source": [
        "# select the last item\n",
        "my_list = [0, 10, 20, 30, 40, 50, 60, 70, 80]\n",
        "my_list[-1]"
      ],
      "execution_count": null,
      "outputs": [
        {
          "output_type": "execute_result",
          "data": {
            "text/plain": [
              "80"
            ]
          },
          "metadata": {
            "tags": []
          },
          "execution_count": 36
        }
      ]
    },
    {
      "cell_type": "markdown",
      "metadata": {
        "id": "eJNKzCmJpG1t",
        "colab_type": "text"
      },
      "source": [
        "Indexing works on strings too:"
      ]
    },
    {
      "cell_type": "code",
      "metadata": {
        "id": "zQmySwczg_qH",
        "colab_type": "code",
        "colab": {
          "base_uri": "https://localhost:8080/",
          "height": 53
        },
        "outputId": "80a14b4c-6394-4079-ec32-8047c1c5edc9"
      },
      "source": [
        "# strings can be indexed just like lists\n",
        "my_string = \"The slug's ink ain't pink; it's purple.\"\n",
        "print(f'The first character: {my_string[0]}')\n",
        "print(f'The last character:  {my_string[-1]}')"
      ],
      "execution_count": null,
      "outputs": [
        {
          "output_type": "stream",
          "text": [
            "The first character: T\n",
            "The last character:  .\n"
          ],
          "name": "stdout"
        }
      ]
    },
    {
      "cell_type": "markdown",
      "metadata": {
        "id": "ZWLTNLCJgEtC",
        "colab_type": "text"
      },
      "source": [
        "The concept of indexing can be extended to **slicing** a list, or extracting multiple items from it. To slice a list, provide two indices separated by a colon (`:`). There is another tricky thing to remember here, on top of indices starting with 0: **The item corresponding to the first index of the slice will be included in the result, but the item corresponding to the last index of the slice will not.** In other words, we can say that the first index is inclusive, and the last index is exclusive."
      ]
    },
    {
      "cell_type": "code",
      "metadata": {
        "id": "IdgQpOU3VsQR",
        "colab_type": "code",
        "colab": {
          "base_uri": "https://localhost:8080/",
          "height": 35
        },
        "outputId": "6c7e7215-d4ed-494d-cb3e-6fe60c7793e2"
      },
      "source": [
        "# select items in positions 1 (inclusive) through 4 (exclusive)\n",
        "my_list = [0, 10, 20, 30, 40, 50, 60, 70, 80]\n",
        "my_list[1:4]"
      ],
      "execution_count": null,
      "outputs": [
        {
          "output_type": "execute_result",
          "data": {
            "text/plain": [
              "[10, 20, 30]"
            ]
          },
          "metadata": {
            "tags": []
          },
          "execution_count": 38
        }
      ]
    },
    {
      "cell_type": "markdown",
      "metadata": {
        "id": "o-Yh_E0OqRJE",
        "colab_type": "text"
      },
      "source": [
        "Slicing works on strings too:"
      ]
    },
    {
      "cell_type": "code",
      "metadata": {
        "id": "WGJzpt38pUEn",
        "colab_type": "code",
        "colab": {
          "base_uri": "https://localhost:8080/",
          "height": 36
        },
        "outputId": "92b15311-f5e2-43f1-95d2-7e7e7f936946"
      },
      "source": [
        "# strings can be sliced just like lists\n",
        "my_string = \"The slug's ink ain't pink; it's purple.\"\n",
        "my_string[4:8]"
      ],
      "execution_count": null,
      "outputs": [
        {
          "output_type": "execute_result",
          "data": {
            "application/vnd.google.colaboratory.intrinsic+json": {
              "type": "string"
            },
            "text/plain": [
              "'slug'"
            ]
          },
          "metadata": {
            "tags": []
          },
          "execution_count": 39
        }
      ]
    },
    {
      "cell_type": "markdown",
      "metadata": {
        "id": "RTGOeBTnm-KV",
        "colab_type": "text"
      },
      "source": [
        "A helpful way to think about slicing is given in the [official Python tutorial](https://docs.python.org/3/tutorial/introduction.html). This example refers to slicing into the string `\"Python\"`, but it applies to lists as well:\n",
        "\n",
        "> \"One way to remember how slices work is to think of the indices as pointing *between* characters, with the left edge of the first character numbered 0. Then the right edge of the last character of a string of *n* characters has index *n*, for example:\n",
        "```\n",
        " +---+---+---+---+---+---+\n",
        " | P | y | t | h | o | n |\n",
        " +---+---+---+---+---+---+\n",
        " 0   1   2   3   4   5   6\n",
        "-6  -5  -4  -3  -2  -1\n",
        "```\n",
        "The first row of numbers gives the position of the indices 0…6 in the string; the second row gives the corresponding negative indices. The slice from *i* to *j* consists of all characters between the edges labeled *i* and *j*, respectively.\"\n",
        "\n",
        "So, with `word = \"Python\"`, the substring `'Py'` could be extracted using `word[0:2]`:"
      ]
    },
    {
      "cell_type": "code",
      "metadata": {
        "id": "QSIS2MXwq6tT",
        "colab_type": "code",
        "colab": {
          "base_uri": "https://localhost:8080/",
          "height": 36
        },
        "outputId": "7fd1e12d-3fcb-4cbc-ff89-26c98b5cef15"
      },
      "source": [
        "word = \"Python\"\n",
        "word[0:2]"
      ],
      "execution_count": null,
      "outputs": [
        {
          "output_type": "execute_result",
          "data": {
            "application/vnd.google.colaboratory.intrinsic+json": {
              "type": "string"
            },
            "text/plain": [
              "'Py'"
            ]
          },
          "metadata": {
            "tags": []
          },
          "execution_count": 40
        }
      ]
    },
    {
      "cell_type": "markdown",
      "metadata": {
        "id": "4f6u1eDsrC_a",
        "colab_type": "text"
      },
      "source": [
        "When slicing, if the number before or after the colon is omitted, the slice will begin from the very beginning or go to the very end, respectively."
      ]
    },
    {
      "cell_type": "code",
      "metadata": {
        "id": "DlStQoCgrmxi",
        "colab_type": "code",
        "colab": {
          "base_uri": "https://localhost:8080/",
          "height": 35
        },
        "outputId": "998b4895-3b96-4e80-80cb-358cc6d47ef4"
      },
      "source": [
        "# select all items before position 2, excluding position 2\n",
        "my_list = [0, 10, 20, 30, 40, 50, 60, 70, 80]\n",
        "my_list[:2]"
      ],
      "execution_count": null,
      "outputs": [
        {
          "output_type": "execute_result",
          "data": {
            "text/plain": [
              "[0, 10]"
            ]
          },
          "metadata": {
            "tags": []
          },
          "execution_count": 41
        }
      ]
    },
    {
      "cell_type": "code",
      "metadata": {
        "id": "5vBwgDcyVYT6",
        "colab_type": "code",
        "colab": {
          "base_uri": "https://localhost:8080/",
          "height": 35
        },
        "outputId": "5fd97082-8dd4-4361-91f0-a65b15e652be"
      },
      "source": [
        "# select all items after position 2, including position 2\n",
        "my_list = [0, 10, 20, 30, 40, 50, 60, 70, 80]\n",
        "my_list[2:]"
      ],
      "execution_count": null,
      "outputs": [
        {
          "output_type": "execute_result",
          "data": {
            "text/plain": [
              "[20, 30, 40, 50, 60, 70, 80]"
            ]
          },
          "metadata": {
            "tags": []
          },
          "execution_count": 42
        }
      ]
    },
    {
      "cell_type": "code",
      "metadata": {
        "id": "fJYIXeDF2YQB",
        "colab_type": "code",
        "colab": {
          "base_uri": "https://localhost:8080/",
          "height": 35
        },
        "outputId": "a97d8fab-896e-4644-bcd7-36182b4dd64d"
      },
      "source": [
        "# omitting both indices selects the whole list\n",
        "my_list = [0, 10, 20, 30, 40, 50, 60, 70, 80]\n",
        "my_list[:]"
      ],
      "execution_count": null,
      "outputs": [
        {
          "output_type": "execute_result",
          "data": {
            "text/plain": [
              "[0, 10, 20, 30, 40, 50, 60, 70, 80]"
            ]
          },
          "metadata": {
            "tags": []
          },
          "execution_count": 43
        }
      ]
    },
    {
      "cell_type": "markdown",
      "metadata": {
        "id": "VlGVStrgsFmx",
        "colab_type": "text"
      },
      "source": [
        "You can even mix positive and negative indices when slicing."
      ]
    },
    {
      "cell_type": "code",
      "metadata": {
        "id": "UtAO-AlDsKJf",
        "colab_type": "code",
        "colab": {
          "base_uri": "https://localhost:8080/",
          "height": 35
        },
        "outputId": "f7050a97-555f-4abf-9e6e-52286db1f71f"
      },
      "source": [
        "# start from position 4 and go up to (but not including!) the second-to-last item\n",
        "my_list = [0, 10, 20, 30, 40, 50, 60, 70, 80]\n",
        "my_list[4:-2]"
      ],
      "execution_count": null,
      "outputs": [
        {
          "output_type": "execute_result",
          "data": {
            "text/plain": [
              "[40, 50, 60]"
            ]
          },
          "metadata": {
            "tags": []
          },
          "execution_count": 44
        }
      ]
    },
    {
      "cell_type": "markdown",
      "metadata": {
        "id": "g0hkyDiAsgLH",
        "colab_type": "text"
      },
      "source": [
        "When slicing, you can include a third number, separated from the second by a colon, that specifies a \"step size\", or how far to jump through the list between each selection. The complete slice notation looks like this: `[start:stop:step]`."
      ]
    },
    {
      "cell_type": "code",
      "metadata": {
        "id": "kZ2-bBiAVigy",
        "colab_type": "code",
        "colab": {
          "base_uri": "https://localhost:8080/",
          "height": 35
        },
        "outputId": "a206c356-8f6b-481e-abf5-b7da37a8ca6e"
      },
      "source": [
        "# select items in positions 0 (inclusive) through 6 (exclusive) in steps of 2\n",
        "my_list = [0, 10, 20, 30, 40, 50, 60, 70, 80]\n",
        "my_list[0:6:2]"
      ],
      "execution_count": null,
      "outputs": [
        {
          "output_type": "execute_result",
          "data": {
            "text/plain": [
              "[0, 20, 40]"
            ]
          },
          "metadata": {
            "tags": []
          },
          "execution_count": 45
        }
      ]
    },
    {
      "cell_type": "markdown",
      "metadata": {
        "id": "rA6Fej9bzgDf",
        "colab_type": "text"
      },
      "source": [
        "If the \"start\" or \"stop\" index is omitted, or if both are omitted, the behavior is as you would expect."
      ]
    },
    {
      "cell_type": "code",
      "metadata": {
        "id": "8ThlXwrxz8a5",
        "colab_type": "code",
        "colab": {
          "base_uri": "https://localhost:8080/",
          "height": 35
        },
        "outputId": "9ec96454-cf06-40b1-a762-80c696570818"
      },
      "source": [
        "# get every other item\n",
        "my_list = [0, 10, 20, 30, 40, 50, 60, 70, 80]\n",
        "my_list[::2]"
      ],
      "execution_count": null,
      "outputs": [
        {
          "output_type": "execute_result",
          "data": {
            "text/plain": [
              "[0, 20, 40, 60, 80]"
            ]
          },
          "metadata": {
            "tags": []
          },
          "execution_count": 46
        }
      ]
    },
    {
      "cell_type": "markdown",
      "metadata": {
        "id": "JGc9bMPC0CIC",
        "colab_type": "text"
      },
      "source": [
        "The step size can even be negative for advancing through the list backwards from the end. A common (and nearly inscrutable) trick for reversing a list is to use the slice notation `[::-1]`, which means \"in steps of 1 going backwards, start from the end of the list and go to the beginning\"."
      ]
    },
    {
      "cell_type": "code",
      "metadata": {
        "id": "0x04yXH8znUc",
        "colab_type": "code",
        "colab": {
          "base_uri": "https://localhost:8080/",
          "height": 35
        },
        "outputId": "3c9b8ff9-4d45-437a-9a57-65154eae852a"
      },
      "source": [
        "# reverse the list (using syntax no one will understand)\n",
        "my_list = [0, 10, 20, 30, 40, 50, 60, 70, 80]\n",
        "my_list[::-1]"
      ],
      "execution_count": null,
      "outputs": [
        {
          "output_type": "execute_result",
          "data": {
            "text/plain": [
              "[80, 70, 60, 50, 40, 30, 20, 10, 0]"
            ]
          },
          "metadata": {
            "tags": []
          },
          "execution_count": 47
        }
      ]
    },
    {
      "cell_type": "markdown",
      "metadata": {
        "id": "Wps6TAgJ0o5n",
        "colab_type": "text"
      },
      "source": [
        "This is almost the same as using the `reverse` method function, except that `reverse` permanently changes the list in-place, whereas the slicing approach does not change the list permanently."
      ]
    },
    {
      "cell_type": "code",
      "metadata": {
        "id": "2d2iLFAe0gkG",
        "colab_type": "code",
        "colab": {
          "base_uri": "https://localhost:8080/",
          "height": 35
        },
        "outputId": "e858f39f-2b8a-4bae-847f-0d1b3773c3a1"
      },
      "source": [
        "# similar to above, but my_list is permanently reversed\n",
        "# - if permanent reversal is what you need, reverse() is certainly easier to\n",
        "#   understand!\n",
        "# - if you wish to be obtuse for no reason, you could use\n",
        "#       my_list = my_list[::-1]\n",
        "#   and provide no comment explaining what it does, but I believe there is a\n",
        "#   special place in hell for people who do this\n",
        "my_list.reverse()\n",
        "my_list"
      ],
      "execution_count": null,
      "outputs": [
        {
          "output_type": "execute_result",
          "data": {
            "text/plain": [
              "[80, 70, 60, 50, 40, 30, 20, 10, 0]"
            ]
          },
          "metadata": {
            "tags": []
          },
          "execution_count": 48
        }
      ]
    },
    {
      "cell_type": "markdown",
      "metadata": {
        "id": "pqtguD6ds6BK",
        "colab_type": "text"
      },
      "source": [
        "If permanent reversal is what you need, `my_list.reverse()` is certainly easier to understand! If you wish to be obtuse for no reason, you could use `my_list = my_list[::-1]` and provide no comment explaining what it does, but I believe there is a special place in hell for people who do this.\n",
        "\n",
        "Lists do not need to be composed of objects of just one type, and lists can be nested inside of other lists."
      ]
    },
    {
      "cell_type": "code",
      "metadata": {
        "id": "T76aU2cLVF_2",
        "colab_type": "code",
        "colab": {
          "base_uri": "https://localhost:8080/",
          "height": 35
        },
        "outputId": "97908e17-53a7-4917-c8ab-a8aed31a155e"
      },
      "source": [
        "# create a new list of objects of different types, including another list\n",
        "my_list = [0, 10, 20, 30, 40, 50, 60, 70, 80]\n",
        "another_list = ['a', 4.5, my_list]\n",
        "another_list"
      ],
      "execution_count": null,
      "outputs": [
        {
          "output_type": "execute_result",
          "data": {
            "text/plain": [
              "['a', 4.5, [0, 10, 20, 30, 40, 50, 60, 70, 80]]"
            ]
          },
          "metadata": {
            "tags": []
          },
          "execution_count": 49
        }
      ]
    },
    {
      "cell_type": "markdown",
      "metadata": {
        "id": "mmyl1FCStJEp",
        "colab_type": "text"
      },
      "source": [
        "To index or slice into a nested list, chain together multiple square bracket selections."
      ]
    },
    {
      "cell_type": "code",
      "metadata": {
        "id": "BfWhKtBTWptg",
        "colab_type": "code",
        "colab": {
          "base_uri": "https://localhost:8080/",
          "height": 35
        },
        "outputId": "64546479-f2c9-4635-b941-32882cc6722d"
      },
      "source": [
        "# select the item in position 2 (my_list), then select the item in its position 3\n",
        "another_list[2][3]"
      ],
      "execution_count": null,
      "outputs": [
        {
          "output_type": "execute_result",
          "data": {
            "text/plain": [
              "30"
            ]
          },
          "metadata": {
            "tags": []
          },
          "execution_count": 50
        }
      ]
    },
    {
      "cell_type": "markdown",
      "metadata": {
        "id": "oAipMXdUtdLT",
        "colab_type": "text"
      },
      "source": [
        "Items inside a list (even nested lists) can be changed using indexing. For example, this code changes the last item in the nested list:"
      ]
    },
    {
      "cell_type": "code",
      "metadata": {
        "id": "8_y1ML13W5Fa",
        "colab_type": "code",
        "colab": {
          "base_uri": "https://localhost:8080/",
          "height": 35
        },
        "outputId": "87d8c97f-257a-46f8-883e-fb4f8bab5854"
      },
      "source": [
        "# change an item\n",
        "another_list[2][-1] = 9999\n",
        "another_list"
      ],
      "execution_count": null,
      "outputs": [
        {
          "output_type": "execute_result",
          "data": {
            "text/plain": [
              "['a', 4.5, [0, 10, 20, 30, 40, 50, 60, 70, 9999]]"
            ]
          },
          "metadata": {
            "tags": []
          },
          "execution_count": 51
        }
      ]
    },
    {
      "cell_type": "markdown",
      "metadata": {
        "id": "jt4yZBSqtqaI",
        "colab_type": "text"
      },
      "source": [
        "When a named list (`my_list`) is contained within another list (`another_list`) in this way and an item in the inner list is changed like above, that change affects the original list too because the second list simply contains a reference to the first, rather than a separate copy of the data."
      ]
    },
    {
      "cell_type": "code",
      "metadata": {
        "id": "oB2qkEz5XJwA",
        "colab_type": "code",
        "colab": {
          "base_uri": "https://localhost:8080/",
          "height": 35
        },
        "outputId": "b97024a9-f495-4e10-94ce-913b70f2f5b2"
      },
      "source": [
        "# the original list (my_list) is changed too because another_list contains a reference to it\n",
        "my_list"
      ],
      "execution_count": null,
      "outputs": [
        {
          "output_type": "execute_result",
          "data": {
            "text/plain": [
              "[0, 10, 20, 30, 40, 50, 60, 70, 9999]"
            ]
          },
          "metadata": {
            "tags": []
          },
          "execution_count": 52
        }
      ]
    },
    {
      "cell_type": "markdown",
      "metadata": {
        "id": "9lZbiQO9FQcB",
        "colab_type": "text"
      },
      "source": [
        "## Tuples"
      ]
    },
    {
      "cell_type": "markdown",
      "metadata": {
        "id": "b-f12iI5uYNF",
        "colab_type": "text"
      },
      "source": [
        "**Tuples** are another data type for storing sequences. They are similar to lists in many ways, but tuples are created using parentheses (`()`) rather than brackets."
      ]
    },
    {
      "cell_type": "code",
      "metadata": {
        "id": "kZCTXkBJXcMv",
        "colab_type": "code",
        "colab": {
          "base_uri": "https://localhost:8080/",
          "height": 35
        },
        "outputId": "c1ef84b3-56e7-430e-fc63-45d558ddf176"
      },
      "source": [
        "# create a new tuple using parentheses\n",
        "my_tuple = ('a', 'b', 'c')\n",
        "my_tuple"
      ],
      "execution_count": null,
      "outputs": [
        {
          "output_type": "execute_result",
          "data": {
            "text/plain": [
              "('a', 'b', 'c')"
            ]
          },
          "metadata": {
            "tags": []
          },
          "execution_count": 53
        }
      ]
    },
    {
      "cell_type": "markdown",
      "metadata": {
        "id": "ReoRI15-vgOm",
        "colab_type": "text"
      },
      "source": [
        "Indexing and slicing into tuples works just like lists and strings."
      ]
    },
    {
      "cell_type": "code",
      "metadata": {
        "id": "LOUOGmu3XuuC",
        "colab_type": "code",
        "colab": {
          "base_uri": "https://localhost:8080/",
          "height": 36
        },
        "outputId": "995fb8e5-1d0f-4d40-fbe7-48ad05aaca4d"
      },
      "source": [
        "# select items in tuples just like lists\n",
        "my_tuple[0]"
      ],
      "execution_count": null,
      "outputs": [
        {
          "output_type": "execute_result",
          "data": {
            "application/vnd.google.colaboratory.intrinsic+json": {
              "type": "string"
            },
            "text/plain": [
              "'a'"
            ]
          },
          "metadata": {
            "tags": []
          },
          "execution_count": 54
        }
      ]
    },
    {
      "cell_type": "markdown",
      "metadata": {
        "id": "Tmz6hoSWvl1j",
        "colab_type": "text"
      },
      "source": [
        "A critical difference between lists and tuples, and between lists and strings, is that **tuples and strings are immutable**, which means they cannot be changed after creation, in some technical sense of \"changed\". Here's an example of an illegal operation:"
      ]
    },
    {
      "cell_type": "code",
      "metadata": {
        "id": "73IjwdRVX1NM",
        "colab_type": "code",
        "colab": {
          "base_uri": "https://localhost:8080/",
          "height": 189
        },
        "outputId": "4fb93baa-ea46-48a8-d99f-930bce589d5c"
      },
      "source": [
        "# tuples are immutable, meaning they are not allowed to be changed after creation\n",
        "my_tuple[0] = 1 # this causes an error!"
      ],
      "execution_count": null,
      "outputs": [
        {
          "output_type": "error",
          "ename": "TypeError",
          "evalue": "ignored",
          "traceback": [
            "\u001b[0;31m---------------------------------------------------------------------------\u001b[0m",
            "\u001b[0;31mTypeError\u001b[0m                                 Traceback (most recent call last)",
            "\u001b[0;32m<ipython-input-55-717f5355b3b8>\u001b[0m in \u001b[0;36m<module>\u001b[0;34m()\u001b[0m\n\u001b[1;32m      1\u001b[0m \u001b[0;31m# tuples are immutable, meaning they are not allowed to be changed after creation\u001b[0m\u001b[0;34m\u001b[0m\u001b[0;34m\u001b[0m\u001b[0;34m\u001b[0m\u001b[0m\n\u001b[0;32m----> 2\u001b[0;31m \u001b[0mmy_tuple\u001b[0m\u001b[0;34m[\u001b[0m\u001b[0;36m0\u001b[0m\u001b[0;34m]\u001b[0m \u001b[0;34m=\u001b[0m \u001b[0;36m1\u001b[0m \u001b[0;31m# this causes an error!\u001b[0m\u001b[0;34m\u001b[0m\u001b[0;34m\u001b[0m\u001b[0m\n\u001b[0m",
            "\u001b[0;31mTypeError\u001b[0m: 'tuple' object does not support item assignment"
          ]
        }
      ]
    },
    {
      "cell_type": "markdown",
      "metadata": {
        "id": "tX0uj0vgE34K",
        "colab_type": "text"
      },
      "source": [
        "The reasons that immutability is a useful quality of tuples, which motivates the necessity for both lists and tuples existing in the language, are a bit technical but will be touched on later when we discuss dictionaries."
      ]
    },
    {
      "cell_type": "markdown",
      "metadata": {
        "id": "4XGwx7iWE48v",
        "colab_type": "text"
      },
      "source": [
        "## Lists vs. Tuples"
      ]
    },
    {
      "cell_type": "markdown",
      "metadata": {
        "id": "wLPZrITpvwFi",
        "colab_type": "text"
      },
      "source": [
        "In practice, conventions ofter determine whether an experienced Python programmer uses a list or a tuple when either could do the job. These conventions are not enforced by the language, but are common enough to mention here:\n",
        "* Sequences of **homogeneous data** (data of one type), for which the **positions of the values are not intrinsically meaningful**, are usually stored as **lists**.\n",
        "    * For example, a collection of height measurements of people could be stored in a list. Although the first measurement in the list obviously belongs to one person and the second belongs to another, this ordering is not essential on a conceptional level. You could swap the order of people without it mattering.\n",
        "* Sequences of **heterogeneous data** (data of different types), or sequences for which the **positions of the values is intrinsically meaningful**, are usually stored as **tuples**.\n",
        "    * Examples of the latter would be a pair of strings for first and last name, or an ordered pair of numbers representing a coordinate in space.\n",
        "    * An example of the former would be a collection of data about a person, such as name (string) and age (integer), which is expected to have a certain ordering, such as name first, age second.\n",
        "\n",
        "Here is an example where both conventions are in play at the same time:"
      ]
    },
    {
      "cell_type": "code",
      "metadata": {
        "id": "sBM8MA8X9L-n",
        "colab_type": "code",
        "colab": {}
      },
      "source": [
        "species_data = [\n",
        "    # genus, species, date named, common name\n",
        "    ('Aplysia',     'californica', 1863, 'California sea hare'),\n",
        "    ('Macrocystis', 'pyrifera',    1820, 'Giant kelp'),\n",
        "    ('Pagurus',     'samuelis',    1857, 'Blueband hermit crab'),\n",
        "]"
      ],
      "execution_count": null,
      "outputs": []
    },
    {
      "cell_type": "markdown",
      "metadata": {
        "id": "0q2Z48KkARaA",
        "colab_type": "text"
      },
      "source": [
        "The object `species_data` is a list. The three items it contains are not in some essential order. The use of a list here, rather than a tuple, signals (by convention) to good programmers that code which uses `species_data` is expected to be able to handle the list changing through the addition or removal of species from the list.\n",
        "\n",
        "The items inside the list are tuples. Each tuple is composed of exactly four pieces of data, including a mix of strings and integers, and always in the same order: a genus name, a species name, the year the species was given its formal scientific name, and the common name for the species. The use of tuples here, rather than lists, signals (by convention) to good programmers that this order is essential and may be relied upon in some other code, so swapping the names and dates around could cause problems.\n",
        "\n",
        "A consequence of this convention is that if we try to access `species_data[2][0]` through indexing, we may not always know which species we will find in position 2, but we can be confident that we are accessing its genus name. This is important when looping through lists (more on that later).\n",
        "\n",
        "At a technical level, the tuples here *could* have been lists. In fact, if the values needed to change, they would have to be lists. Likewise, the list could have been a tuple, so long as the tuple did not need to be modified after creation. Ultimately, it is a long-standing convention to do it the way shown above, and, if adhered to, it signals to people reading or using your code how you intend the data object to be handled.\n",
        "\n",
        "As a final point, lists can be converted to tuples using the built-in `tuple()` function, and tuples can be converted to lists using the built-in `list()` function:"
      ]
    },
    {
      "cell_type": "code",
      "metadata": {
        "id": "x45E7l1fYySD",
        "colab_type": "code",
        "colab": {
          "base_uri": "https://localhost:8080/",
          "height": 53
        },
        "outputId": "a0e9a10b-1725-49e8-df96-c6f12e9723ae"
      },
      "source": [
        "# the built-in list() and tuple() functions can be used to convert one type to the other\n",
        "# - note = is needed for my_tuple or my_list to permanently change\n",
        "print(list(my_tuple))\n",
        "print(tuple(my_list))"
      ],
      "execution_count": null,
      "outputs": [
        {
          "output_type": "stream",
          "text": [
            "['a', 'b', 'c']\n",
            "(0, 10, 20, 30, 40, 50, 60, 70, 9999)\n"
          ],
          "name": "stdout"
        }
      ]
    },
    {
      "cell_type": "markdown",
      "metadata": {
        "id": "bS8YcdMMa1CS",
        "colab_type": "text"
      },
      "source": [
        "## For Loops and List Comprehensions"
      ]
    },
    {
      "cell_type": "markdown",
      "metadata": {
        "id": "Lyf7B6WmM7cw",
        "colab_type": "text"
      },
      "source": [
        "A `for` loop can **iterate** over a list or tuple, performing calculations for each item in the sequence. Like `if` statements, `for` loops require a **colon** to terminate the first line and consistent **indentation** (typically four spaces) below it for the block of code that will be executed for each item in the sequence. Each item in the sequence is assigned a temporary variable name that can be used within the block. In the example below, this temporary variable is called `i`:"
      ]
    },
    {
      "cell_type": "code",
      "metadata": {
        "id": "1Kyl_55hbB_N",
        "colab_type": "code",
        "colab": {
          "base_uri": "https://localhost:8080/",
          "height": 126
        },
        "outputId": "0c10c9f7-f101-42dc-f76f-4a4a7ae3e81d"
      },
      "source": [
        "my_list = [0, 1, 2, 3, 4, 5]\n",
        "\n",
        "# print the square of each item in my_list\n",
        "# - colon and indentation are important!\n",
        "for i in my_list:\n",
        "    print(i**2)"
      ],
      "execution_count": null,
      "outputs": [
        {
          "output_type": "stream",
          "text": [
            "0\n",
            "1\n",
            "4\n",
            "9\n",
            "16\n",
            "25\n"
          ],
          "name": "stdout"
        }
      ]
    },
    {
      "cell_type": "markdown",
      "metadata": {
        "id": "fyCBH9N3CEUq",
        "colab_type": "text"
      },
      "source": [
        "Be careful what name you give the iterator variable, since its value will be overwritten again and again with the items in the sequence. If the variable had a value before the `for` loop, it will be lost, which may not be what you intended."
      ]
    },
    {
      "cell_type": "code",
      "metadata": {
        "id": "I94RaX5vCMW0",
        "colab_type": "code",
        "colab": {
          "base_uri": "https://localhost:8080/",
          "height": 162
        },
        "outputId": "e4951b54-a87c-41d8-a25b-018621b99ca9"
      },
      "source": [
        "i = 'abc'\n",
        "print(f'i at the start = {i}')\n",
        "\n",
        "for i in my_list:\n",
        "    print(i**2)\n",
        "\n",
        "print(f'i at the end = {i}')"
      ],
      "execution_count": null,
      "outputs": [
        {
          "output_type": "stream",
          "text": [
            "i at the start = abc\n",
            "0\n",
            "1\n",
            "4\n",
            "9\n",
            "16\n",
            "25\n",
            "i at the end = 5\n"
          ],
          "name": "stdout"
        }
      ]
    },
    {
      "cell_type": "markdown",
      "metadata": {
        "id": "iWMTke1JISYU",
        "colab_type": "text"
      },
      "source": [
        "If you wanted to store a result from each step of the `for` loop in another list, one way you could do it is\n",
        "\n",
        "1. Initialize another variable as an empty list (`another_list = []`), and then\n",
        "2. Append a result to the new list in each step (`another_list.append`).\n",
        "\n",
        "For example:"
      ]
    },
    {
      "cell_type": "code",
      "metadata": {
        "id": "-8EBseAebY9r",
        "colab_type": "code",
        "colab": {
          "base_uri": "https://localhost:8080/",
          "height": 35
        },
        "outputId": "79f2b3d6-5fa1-49eb-8131-1022d34d9799"
      },
      "source": [
        "another_list = []\n",
        "for i in my_list:\n",
        "    another_list.append(i**2)\n",
        "\n",
        "another_list"
      ],
      "execution_count": null,
      "outputs": [
        {
          "output_type": "execute_result",
          "data": {
            "text/plain": [
              "[0, 1, 4, 9, 16, 25]"
            ]
          },
          "metadata": {
            "tags": []
          },
          "execution_count": 60
        }
      ]
    },
    {
      "cell_type": "markdown",
      "metadata": {
        "id": "9g7pL0jNJQqJ",
        "colab_type": "text"
      },
      "source": [
        "If the calculation of the result (in this example, squaring `i`) is fairly simple, you can perform the same work using a more concise notation called **list comprehension**. The simplest version of list comprehension takes the form `[f(i) for i in my_list]`, where `f(i)` is some function or transformation of the list item `i`. Notice list comprehensions are enclosed in square brackets (`[]`) because they create lists. Here is a list comprehension equivalent to the example above:"
      ]
    },
    {
      "cell_type": "code",
      "metadata": {
        "id": "WlNapIW2dv97",
        "colab_type": "code",
        "colab": {
          "base_uri": "https://localhost:8080/",
          "height": 35
        },
        "outputId": "ca1ec804-1e3b-47ee-d8ea-5b9f636578e0"
      },
      "source": [
        "# basic list comprehension\n",
        "# - this means \"square the item for each item in my_list\"\n",
        "another_list = [i**2 for i in my_list]\n",
        "another_list"
      ],
      "execution_count": null,
      "outputs": [
        {
          "output_type": "execute_result",
          "data": {
            "text/plain": [
              "[0, 1, 4, 9, 16, 25]"
            ]
          },
          "metadata": {
            "tags": []
          },
          "execution_count": 61
        }
      ]
    },
    {
      "cell_type": "markdown",
      "metadata": {
        "id": "NlkBlgvEKoIF",
        "colab_type": "text"
      },
      "source": [
        "All of the work is completed in a single line of code. Elegant!\n",
        "\n",
        "List comprehensions can be more complex than this. Suppose we modified the `for` loop to append a result only if the list item is an even number (`i % 2 == 0` means that `i` divided by 2 must have a remainder of 0):"
      ]
    },
    {
      "cell_type": "code",
      "metadata": {
        "id": "OgWt2BQ6K1tk",
        "colab_type": "code",
        "colab": {
          "base_uri": "https://localhost:8080/",
          "height": 35
        },
        "outputId": "de817267-6ae7-4a77-c62a-371961db5fb2"
      },
      "source": [
        "another_list = []\n",
        "for i in my_list:\n",
        "    if i % 2 == 0:\n",
        "        # append only if i is even\n",
        "        another_list.append(i**2)\n",
        "\n",
        "# the squares of 0, 2, 4\n",
        "another_list"
      ],
      "execution_count": null,
      "outputs": [
        {
          "output_type": "execute_result",
          "data": {
            "text/plain": [
              "[0, 4, 16]"
            ]
          },
          "metadata": {
            "tags": []
          },
          "execution_count": 62
        }
      ]
    },
    {
      "cell_type": "markdown",
      "metadata": {
        "id": "ZzofzI3DLF5F",
        "colab_type": "text"
      },
      "source": [
        "To do this with list comprehension, just add `if i % 2 == 0` to the end:"
      ]
    },
    {
      "cell_type": "code",
      "metadata": {
        "id": "zuJ_V2ene2dd",
        "colab_type": "code",
        "colab": {
          "base_uri": "https://localhost:8080/",
          "height": 35
        },
        "outputId": "6594cfd7-976a-479e-91dc-a0af0dc8af9e"
      },
      "source": [
        "# list comprehension with conditional\n",
        "# - this means \"square the item for each item in my_list if it is even (otherwise skip it)\"\n",
        "another_list = [i**2 for i in my_list if i % 2 == 0]\n",
        "another_list"
      ],
      "execution_count": null,
      "outputs": [
        {
          "output_type": "execute_result",
          "data": {
            "text/plain": [
              "[0, 4, 16]"
            ]
          },
          "metadata": {
            "tags": []
          },
          "execution_count": 63
        }
      ]
    },
    {
      "cell_type": "markdown",
      "metadata": {
        "id": "vue1exdmLRKt",
        "colab_type": "text"
      },
      "source": [
        "Suppose we modify the `for` loop further to perform a different calculation if the list item is an odd number:"
      ]
    },
    {
      "cell_type": "code",
      "metadata": {
        "id": "gvy65vvMLZMP",
        "colab_type": "code",
        "colab": {
          "base_uri": "https://localhost:8080/",
          "height": 35
        },
        "outputId": "5c057407-2752-421f-ef60-470b2f3237b4"
      },
      "source": [
        "another_list = []\n",
        "for i in my_list:\n",
        "    if i % 2 == 0:\n",
        "        # square if i is even\n",
        "        another_list.append(i**2)\n",
        "    else:\n",
        "        # add 100 if i is odd\n",
        "        another_list.append(i+100)\n",
        "\n",
        "another_list"
      ],
      "execution_count": null,
      "outputs": [
        {
          "output_type": "execute_result",
          "data": {
            "text/plain": [
              "[0, 101, 4, 103, 16, 105]"
            ]
          },
          "metadata": {
            "tags": []
          },
          "execution_count": 64
        }
      ]
    },
    {
      "cell_type": "markdown",
      "metadata": {
        "id": "yACuxW0pLiie",
        "colab_type": "text"
      },
      "source": [
        "This can be done with list comprehension by moving the `if i % 2 == 0` to an earlier position, just after `i**2`, and adding `else i+100`:"
      ]
    },
    {
      "cell_type": "code",
      "metadata": {
        "id": "IXgkEuppekHU",
        "colab_type": "code",
        "colab": {
          "base_uri": "https://localhost:8080/",
          "height": 35
        },
        "outputId": "f7a5fea1-d309-47c2-d462-b4a7f258b00f"
      },
      "source": [
        "# list comprehension with complex conditional\n",
        "# - this means \"square the item if it is even, otherwise add 100 to it, for each item in my_list\"\n",
        "another_list = [i**2 if i%2==0 else i+100 for i in my_list]\n",
        "another_list"
      ],
      "execution_count": null,
      "outputs": [
        {
          "output_type": "execute_result",
          "data": {
            "text/plain": [
              "[0, 101, 4, 103, 16, 105]"
            ]
          },
          "metadata": {
            "tags": []
          },
          "execution_count": 65
        }
      ]
    },
    {
      "cell_type": "markdown",
      "metadata": {
        "id": "d-rCAUbyL7qc",
        "colab_type": "text"
      },
      "source": [
        "The results stored in `another_list` could be something other than a calculation using `i`. For example, strings:"
      ]
    },
    {
      "cell_type": "code",
      "metadata": {
        "id": "-U7WjGFQMQol",
        "colab_type": "code",
        "colab": {
          "base_uri": "https://localhost:8080/",
          "height": 126
        },
        "outputId": "da9b507f-ba5e-4d63-8813-91ed92a7ebf1"
      },
      "source": [
        "# this means \"store the string 'less than 2' if the item is less than 2, otherwise store '2 or greater', for each item in my_list\"\n",
        "another_list = ['less than 2' if i < 2 else '2 or greater' for i in my_list]\n",
        "another_list"
      ],
      "execution_count": null,
      "outputs": [
        {
          "output_type": "execute_result",
          "data": {
            "text/plain": [
              "['less than 2',\n",
              " 'less than 2',\n",
              " '2 or greater',\n",
              " '2 or greater',\n",
              " '2 or greater',\n",
              " '2 or greater']"
            ]
          },
          "metadata": {
            "tags": []
          },
          "execution_count": 66
        }
      ]
    },
    {
      "cell_type": "markdown",
      "metadata": {
        "id": "AMA_yUr1UZqi",
        "colab_type": "text"
      },
      "source": [
        "## While Loops"
      ]
    },
    {
      "cell_type": "markdown",
      "metadata": {
        "id": "hSR1KkbVUYMI",
        "colab_type": "text"
      },
      "source": [
        "A `while` loop is another way to repeatedly perform calculations. Whereas `for` loops execute code for each item in a sequence, `while` loops execute code for as long as a condition is true. For example:"
      ]
    },
    {
      "cell_type": "code",
      "metadata": {
        "id": "pCV4Jl9KgvR3",
        "colab_type": "code",
        "colab": {
          "base_uri": "https://localhost:8080/",
          "height": 126
        },
        "outputId": "18e829c0-c7ed-4045-bca5-c835df7046fe"
      },
      "source": [
        "x = 0\n",
        "\n",
        "while x < 5:\n",
        "    print(x)\n",
        "    x = x + 1\n",
        "\n",
        "print(f'final value of x = {x}')"
      ],
      "execution_count": null,
      "outputs": [
        {
          "output_type": "stream",
          "text": [
            "0\n",
            "1\n",
            "2\n",
            "3\n",
            "4\n",
            "final value of x = 5\n"
          ],
          "name": "stdout"
        }
      ]
    },
    {
      "cell_type": "markdown",
      "metadata": {
        "id": "EGhAoW-IVEzb",
        "colab_type": "text"
      },
      "source": [
        "Generally, this means that the code within the `while` loop should take steps toward making the condition no longer true, even if it is unknown ahead of time how many steps that may require. In the simple example above, `x` was incremented each step until `x` was no longer less than 5. A more practical example would be a piece of code that reads a text file of unknown length one line at a time using a `while` loop that continues until a request for the next line yields nothing.\n",
        "\n",
        "Be warned: **If the condition never ceases to be true, the `while` loop will never stop**, which is probably not what you want!\n",
        "\n",
        "Try executing the code cell below, which will start an infinite loop because `x` is never incremented. You will see the icon in the left margin of the code cell spin and spin endlessly as the computer keeps executing the code within the `while` loop again and again, never stopping because the condition `x < 5` never stops being true. For this to end, you must **manually interrupt the code execution**, which you can do two ways:\n",
        "\n",
        "1. Click the spinning stop icon in the left margin, or\n",
        "2. Use the \"Runtime\" menu at the top of the page and click \"Interrupt execution\".\n",
        "\n",
        "Colab executes cells one at a time, so until you interrupt the execution of this cell, you will not be able to run any other code!"
      ]
    },
    {
      "cell_type": "code",
      "metadata": {
        "id": "ioSBMMcFVdvF",
        "colab_type": "code",
        "colab": {
          "base_uri": "https://localhost:8080/",
          "height": 207
        },
        "outputId": "a59bcb1a-8904-4c41-cfd4-acae27d0a952"
      },
      "source": [
        "x = 0\n",
        "while x < 5:\n",
        "    pass # do nothing"
      ],
      "execution_count": null,
      "outputs": [
        {
          "output_type": "error",
          "ename": "KeyboardInterrupt",
          "evalue": "ignored",
          "traceback": [
            "\u001b[0;31m---------------------------------------------------------------------------\u001b[0m",
            "\u001b[0;31mKeyboardInterrupt\u001b[0m                         Traceback (most recent call last)",
            "\u001b[0;32m<ipython-input-68-51a0816648ba>\u001b[0m in \u001b[0;36m<module>\u001b[0;34m()\u001b[0m\n\u001b[1;32m      1\u001b[0m \u001b[0mx\u001b[0m \u001b[0;34m=\u001b[0m \u001b[0;36m0\u001b[0m\u001b[0;34m\u001b[0m\u001b[0;34m\u001b[0m\u001b[0m\n\u001b[0;32m----> 2\u001b[0;31m \u001b[0;32mwhile\u001b[0m \u001b[0mx\u001b[0m \u001b[0;34m<\u001b[0m \u001b[0;36m5\u001b[0m\u001b[0;34m:\u001b[0m\u001b[0;34m\u001b[0m\u001b[0;34m\u001b[0m\u001b[0m\n\u001b[0m\u001b[1;32m      3\u001b[0m     \u001b[0;32mpass\u001b[0m \u001b[0;31m# do nothing\u001b[0m\u001b[0;34m\u001b[0m\u001b[0;34m\u001b[0m\u001b[0m\n",
            "\u001b[0;31mKeyboardInterrupt\u001b[0m: "
          ]
        }
      ]
    },
    {
      "cell_type": "markdown",
      "metadata": {
        "id": "v0G2rk3FUSWn",
        "colab_type": "text"
      },
      "source": [
        "## Dictionaries"
      ]
    },
    {
      "cell_type": "markdown",
      "metadata": {
        "id": "mIUlVjvWZOXA",
        "colab_type": "text"
      },
      "source": [
        "Dictionaries are another important data type in Python. Dictionaries store **key-value pairs**, where each piece of data (the **value**) is assigned a name (the **key**) for easy access.\n",
        "\n",
        "Dictionaries are created using curly braces (`{}`). (This is different from the use of curly braces in f-strings!) Inside of the curly braces, key-value pairs are separated from one another by commas, and colons separate each key from its value. For example:"
      ]
    },
    {
      "cell_type": "code",
      "metadata": {
        "id": "nKfPDIKqh4_C",
        "colab_type": "code",
        "colab": {
          "base_uri": "https://localhost:8080/",
          "height": 35
        },
        "outputId": "8ed908a8-1890-44b4-c96d-964b175f49b7"
      },
      "source": [
        "# create a new dictionary using curly braces {}\n",
        "my_dict = {'genus': 'Aplysia', 'species': 'californica', 'mass': 150}\n",
        "my_dict"
      ],
      "execution_count": null,
      "outputs": [
        {
          "output_type": "execute_result",
          "data": {
            "text/plain": [
              "{'genus': 'Aplysia', 'mass': 150, 'species': 'californica'}"
            ]
          },
          "metadata": {
            "tags": []
          },
          "execution_count": 69
        }
      ]
    },
    {
      "cell_type": "markdown",
      "metadata": {
        "id": "_ZEE8hQibFPk",
        "colab_type": "text"
      },
      "source": [
        "The syntax for extracting a piece of data from a dictionary is similar to indexing into lists. It uses square brackets after the dictionary name (not curly braces like you might guess), but instead of a number indicating position, a key should be provided."
      ]
    },
    {
      "cell_type": "code",
      "metadata": {
        "id": "qKgS91s1iND3",
        "colab_type": "code",
        "colab": {
          "base_uri": "https://localhost:8080/",
          "height": 36
        },
        "outputId": "ab0331a3-7c26-4ab1-bc9f-cb34f74f1ea1"
      },
      "source": [
        "# select items by key\n",
        "my_dict['species']"
      ],
      "execution_count": null,
      "outputs": [
        {
          "output_type": "execute_result",
          "data": {
            "application/vnd.google.colaboratory.intrinsic+json": {
              "type": "string"
            },
            "text/plain": [
              "'californica'"
            ]
          },
          "metadata": {
            "tags": []
          },
          "execution_count": 70
        }
      ]
    },
    {
      "cell_type": "markdown",
      "metadata": {
        "id": "CDTTCM4Ybb1b",
        "colab_type": "text"
      },
      "source": [
        "Like changing the value of an item in a list via its index, the value of an item in a dictionary can be changed via its key:"
      ]
    },
    {
      "cell_type": "code",
      "metadata": {
        "id": "2Zv5Pku-iVnH",
        "colab_type": "code",
        "colab": {
          "base_uri": "https://localhost:8080/",
          "height": 35
        },
        "outputId": "b60d24cd-1697-4edd-d89e-cd75f39db9f5"
      },
      "source": [
        "# change values by key\n",
        "my_dict['mass'] = 300\n",
        "my_dict"
      ],
      "execution_count": null,
      "outputs": [
        {
          "output_type": "execute_result",
          "data": {
            "text/plain": [
              "{'genus': 'Aplysia', 'mass': 300, 'species': 'californica'}"
            ]
          },
          "metadata": {
            "tags": []
          },
          "execution_count": 71
        }
      ]
    },
    {
      "cell_type": "markdown",
      "metadata": {
        "id": "7KMxLle5bpKn",
        "colab_type": "text"
      },
      "source": [
        "New key-value pairs can be added to a dictionary the same way. In fact, you can start with an empty dictionary and build it up one key-value pair at a time:"
      ]
    },
    {
      "cell_type": "code",
      "metadata": {
        "id": "ED2BXEonb0Y2",
        "colab_type": "code",
        "colab": {
          "base_uri": "https://localhost:8080/",
          "height": 35
        },
        "outputId": "82070688-e7ac-4eec-9de5-824da7061443"
      },
      "source": [
        "my_dict2 = {}\n",
        "\n",
        "my_dict2['genus'] = 'Aplysia'\n",
        "my_dict2['species'] = 'californica'\n",
        "my_dict2['mass'] = 300\n",
        "\n",
        "my_dict2"
      ],
      "execution_count": null,
      "outputs": [
        {
          "output_type": "execute_result",
          "data": {
            "text/plain": [
              "{'genus': 'Aplysia', 'mass': 300, 'species': 'californica'}"
            ]
          },
          "metadata": {
            "tags": []
          },
          "execution_count": 72
        }
      ]
    },
    {
      "cell_type": "markdown",
      "metadata": {
        "id": "-Ku9Y5v1ajF6",
        "colab_type": "text"
      },
      "source": [
        "Values can have any data type. Most basic data types are valid for keys too, but an important exception is lists: **lists are not allowed to be dictionary keys**. Tuples, on the other hand, are allowed to be keys. This is because keys must be immutable (uneditable), which is a property that tuples have but lists do not."
      ]
    },
    {
      "cell_type": "code",
      "metadata": {
        "id": "84vyRC8ydXow",
        "colab_type": "code",
        "colab": {
          "base_uri": "https://localhost:8080/",
          "height": 207
        },
        "outputId": "10ed0aa0-278c-45df-d533-9c04579ad2de"
      },
      "source": [
        "# lists cannot be keys, so this is NOT allowed\n",
        "# - the error \"unhashable type\" is a consequence of the fact that lists are not immutable (they can be changed)\n",
        "my_dict2[['x', 'y', 'z']] = [1, 2, 3]"
      ],
      "execution_count": null,
      "outputs": [
        {
          "output_type": "error",
          "ename": "TypeError",
          "evalue": "ignored",
          "traceback": [
            "\u001b[0;31m---------------------------------------------------------------------------\u001b[0m",
            "\u001b[0;31mTypeError\u001b[0m                                 Traceback (most recent call last)",
            "\u001b[0;32m<ipython-input-73-660271824196>\u001b[0m in \u001b[0;36m<module>\u001b[0;34m()\u001b[0m\n\u001b[1;32m      1\u001b[0m \u001b[0;31m# lists cannot be keys, so this is NOT allowed\u001b[0m\u001b[0;34m\u001b[0m\u001b[0;34m\u001b[0m\u001b[0;34m\u001b[0m\u001b[0m\n\u001b[1;32m      2\u001b[0m \u001b[0;31m# - the error \"unhashable type\" is a consequence of the fact that lists are not immutable (they can be changed)\u001b[0m\u001b[0;34m\u001b[0m\u001b[0;34m\u001b[0m\u001b[0;34m\u001b[0m\u001b[0m\n\u001b[0;32m----> 3\u001b[0;31m \u001b[0mmy_dict2\u001b[0m\u001b[0;34m[\u001b[0m\u001b[0;34m[\u001b[0m\u001b[0;34m'x'\u001b[0m\u001b[0;34m,\u001b[0m \u001b[0;34m'y'\u001b[0m\u001b[0;34m,\u001b[0m \u001b[0;34m'z'\u001b[0m\u001b[0;34m]\u001b[0m\u001b[0;34m]\u001b[0m \u001b[0;34m=\u001b[0m \u001b[0;34m[\u001b[0m\u001b[0;36m1\u001b[0m\u001b[0;34m,\u001b[0m \u001b[0;36m2\u001b[0m\u001b[0;34m,\u001b[0m \u001b[0;36m3\u001b[0m\u001b[0;34m]\u001b[0m\u001b[0;34m\u001b[0m\u001b[0;34m\u001b[0m\u001b[0m\n\u001b[0m",
            "\u001b[0;31mTypeError\u001b[0m: unhashable type: 'list'"
          ]
        }
      ]
    },
    {
      "cell_type": "code",
      "metadata": {
        "id": "EzrV7q7Repbd",
        "colab_type": "code",
        "colab": {
          "base_uri": "https://localhost:8080/",
          "height": 90
        },
        "outputId": "ecd23dd0-9414-4f06-d0ea-f1cfffa3952e"
      },
      "source": [
        "# tuples can be keys, so this IS allowed\n",
        "my_dict2[('x', 'y', 'z')] = [1, 2, 3]\n",
        "\n",
        "my_dict2"
      ],
      "execution_count": null,
      "outputs": [
        {
          "output_type": "execute_result",
          "data": {
            "text/plain": [
              "{('x', 'y', 'z'): [1, 2, 3],\n",
              " 'genus': 'Aplysia',\n",
              " 'mass': 300,\n",
              " 'species': 'californica'}"
            ]
          },
          "metadata": {
            "tags": []
          },
          "execution_count": 74
        }
      ]
    },
    {
      "cell_type": "markdown",
      "metadata": {
        "id": "7VIUOPVWjXIU",
        "colab_type": "text"
      },
      "source": [
        "You can delete a key-value pair from a dictionary using the `del` keyword:"
      ]
    },
    {
      "cell_type": "code",
      "metadata": {
        "id": "arSWjJTsjcKf",
        "colab_type": "code",
        "colab": {
          "base_uri": "https://localhost:8080/",
          "height": 35
        },
        "outputId": "a705d85a-375a-4b6f-e3b9-e45473a6f537"
      },
      "source": [
        "del my_dict2['species']\n",
        "\n",
        "my_dict2"
      ],
      "execution_count": null,
      "outputs": [
        {
          "output_type": "execute_result",
          "data": {
            "text/plain": [
              "{('x', 'y', 'z'): [1, 2, 3], 'genus': 'Aplysia', 'mass': 300}"
            ]
          },
          "metadata": {
            "tags": []
          },
          "execution_count": 75
        }
      ]
    },
    {
      "cell_type": "markdown",
      "metadata": {
        "id": "jxvOXW8Vjjf8",
        "colab_type": "text"
      },
      "source": [
        "As a matter of fact, **`del` is how you unset any variable**:"
      ]
    },
    {
      "cell_type": "code",
      "metadata": {
        "id": "FsDr-dIcjydX",
        "colab_type": "code",
        "colab": {
          "base_uri": "https://localhost:8080/",
          "height": 207
        },
        "outputId": "ae21a547-195b-4fbd-f503-27102f9a2985"
      },
      "source": [
        "del my_dict2\n",
        "\n",
        "# now my_dict2 is not defined\n",
        "my_dict2"
      ],
      "execution_count": null,
      "outputs": [
        {
          "output_type": "error",
          "ename": "NameError",
          "evalue": "ignored",
          "traceback": [
            "\u001b[0;31m---------------------------------------------------------------------------\u001b[0m",
            "\u001b[0;31mNameError\u001b[0m                                 Traceback (most recent call last)",
            "\u001b[0;32m<ipython-input-76-e8ec4f3d0d06>\u001b[0m in \u001b[0;36m<module>\u001b[0;34m()\u001b[0m\n\u001b[1;32m      2\u001b[0m \u001b[0;34m\u001b[0m\u001b[0m\n\u001b[1;32m      3\u001b[0m \u001b[0;31m# now my_dict2 is not defined\u001b[0m\u001b[0;34m\u001b[0m\u001b[0;34m\u001b[0m\u001b[0;34m\u001b[0m\u001b[0m\n\u001b[0;32m----> 4\u001b[0;31m \u001b[0mmy_dict2\u001b[0m\u001b[0;34m\u001b[0m\u001b[0;34m\u001b[0m\u001b[0m\n\u001b[0m",
            "\u001b[0;31mNameError\u001b[0m: name 'my_dict2' is not defined"
          ]
        }
      ]
    },
    {
      "cell_type": "markdown",
      "metadata": {
        "id": "QBHvoLeFDwLP",
        "colab_type": "text"
      },
      "source": [
        "Just like lists and tuples, `for` loops can iterate over a dictionary. In its simplest form, this actually iterates over the dictionary's keys. In the example below, we choose to use the name `k`, rather than `i`, for the temporary variable to reflect this. To access the value associated with key `k`, we must use `my_dict[k]`."
      ]
    },
    {
      "cell_type": "code",
      "metadata": {
        "id": "iqhcOTaiDAfm",
        "colab_type": "code",
        "colab": {
          "base_uri": "https://localhost:8080/",
          "height": 72
        },
        "outputId": "125a37aa-052e-47f8-ede9-295e28e9636d"
      },
      "source": [
        "# iterate over keys\n",
        "for k in my_dict:\n",
        "    print(f'key: {k} --> value: {my_dict[k]}')"
      ],
      "execution_count": null,
      "outputs": [
        {
          "output_type": "stream",
          "text": [
            "key: genus --> value: Aplysia\n",
            "key: species --> value: californica\n",
            "key: mass --> value: 300\n"
          ],
          "name": "stdout"
        }
      ]
    },
    {
      "cell_type": "markdown",
      "metadata": {
        "id": "GDzD1KKQDvKY",
        "colab_type": "text"
      },
      "source": [
        "The dictionary method `items()` returns a (special type of) list of tuples, where each tuple is a key-value pair:"
      ]
    },
    {
      "cell_type": "code",
      "metadata": {
        "id": "CtGqkepIEF4P",
        "colab_type": "code",
        "colab": {
          "base_uri": "https://localhost:8080/",
          "height": 35
        },
        "outputId": "eb43ed28-f9f2-4583-971e-68c602361447"
      },
      "source": [
        "# using list() here to simplify how the list of tuples is displayed\n",
        "list(my_dict.items())"
      ],
      "execution_count": null,
      "outputs": [
        {
          "output_type": "execute_result",
          "data": {
            "text/plain": [
              "[('genus', 'Aplysia'), ('species', 'californica'), ('mass', 300)]"
            ]
          },
          "metadata": {
            "tags": []
          },
          "execution_count": 78
        }
      ]
    },
    {
      "cell_type": "markdown",
      "metadata": {
        "id": "q6UZtRrQEXjg",
        "colab_type": "text"
      },
      "source": [
        "When using a `for` loop to iterate over any list of tuples (or a list of lists, or a tuple of lists, or a tuple of tuples...) such as this, you can assign a temporary variable name to each item in the inner tuple/list. This is an example of what is called **unpacking**. For example:"
      ]
    },
    {
      "cell_type": "code",
      "metadata": {
        "id": "joJJS5mXE-AN",
        "colab_type": "code",
        "colab": {
          "base_uri": "https://localhost:8080/",
          "height": 72
        },
        "outputId": "658d05ed-fee4-430e-9925-5022f6a61c58"
      },
      "source": [
        "list_of_tuples = [\n",
        "    ('a', 1),\n",
        "    ('b', 2),\n",
        "    ('c', 3),\n",
        "]\n",
        "\n",
        "for (letter, number) in list_of_tuples:\n",
        "    print(letter, number)"
      ],
      "execution_count": null,
      "outputs": [
        {
          "output_type": "stream",
          "text": [
            "a 1\n",
            "b 2\n",
            "c 3\n"
          ],
          "name": "stdout"
        }
      ]
    },
    {
      "cell_type": "markdown",
      "metadata": {
        "id": "Etn3F4xeFO6-",
        "colab_type": "text"
      },
      "source": [
        "In the example above, the parentheses around the iterator variables `(letter, number)` are actually optional, so the loop could be written without them:"
      ]
    },
    {
      "cell_type": "code",
      "metadata": {
        "id": "6IZq91W2Fdh4",
        "colab_type": "code",
        "colab": {
          "base_uri": "https://localhost:8080/",
          "height": 72
        },
        "outputId": "a0252a7e-cda7-4d0e-e6fc-9728146a6d5a"
      },
      "source": [
        "for letter, number in list_of_tuples:\n",
        "    print(letter, number)"
      ],
      "execution_count": null,
      "outputs": [
        {
          "output_type": "stream",
          "text": [
            "a 1\n",
            "b 2\n",
            "c 3\n"
          ],
          "name": "stdout"
        }
      ]
    },
    {
      "cell_type": "markdown",
      "metadata": {
        "id": "Dt6hLG2wFh8J",
        "colab_type": "text"
      },
      "source": [
        "Using the list of tuples produced by `my_dict.items()` and unpacking each key-value tuple into `k,v`, we can write the `for` loop this way:"
      ]
    },
    {
      "cell_type": "code",
      "metadata": {
        "id": "R7eGsGw1ieTE",
        "colab_type": "code",
        "colab": {
          "base_uri": "https://localhost:8080/",
          "height": 72
        },
        "outputId": "8c43663d-5dad-4d3a-af28-31ea3fbc9070"
      },
      "source": [
        "# iterate over key-value pairs\n",
        "for k,v in my_dict.items():\n",
        "    print(f'key: {k} --> value: {v}')"
      ],
      "execution_count": null,
      "outputs": [
        {
          "output_type": "stream",
          "text": [
            "key: genus --> value: Aplysia\n",
            "key: species --> value: californica\n",
            "key: mass --> value: 300\n"
          ],
          "name": "stdout"
        }
      ]
    },
    {
      "cell_type": "markdown",
      "metadata": {
        "id": "xYicbmxTGVnx",
        "colab_type": "text"
      },
      "source": [
        "Notice this does exactly the same thing as\n",
        "```python\n",
        "for k in my_dict:\n",
        "    print(f'key: {k} --> value: {my_dict[k]}')\n",
        "```\n",
        "seen earlier, except the version using `for k,v in my_dict.items()` conveniently assigns the name `v` to the value of each key-value pair, so that `my_dict[k]` does not need to be typed out.\n",
        "\n",
        "Like list comprehensions, there exists a concise way for constructing dictionaries from a sequence, called **dictionary comprehension**. The syntax is similar, but a key and a value must be computed for each iteration, separated by a colon.\n",
        "\n",
        "To set up an example, here is a long way of constructing a dictionary of squares using a `for` loop, where the keys are string versions of the numbers:"
      ]
    },
    {
      "cell_type": "code",
      "metadata": {
        "id": "29IB32ctkux2",
        "colab_type": "code",
        "colab": {
          "base_uri": "https://localhost:8080/",
          "height": 35
        },
        "outputId": "964a5792-c506-4258-e682-fa18909ff758"
      },
      "source": [
        "my_list = [0, 1, 2, 3, 4, 5]\n",
        "\n",
        "squares = {}\n",
        "for i in my_list:\n",
        "    # store keys as strings and values as integers\n",
        "    squares[str(i)] = i**2\n",
        "\n",
        "squares"
      ],
      "execution_count": null,
      "outputs": [
        {
          "output_type": "execute_result",
          "data": {
            "text/plain": [
              "{'0': 0, '1': 1, '2': 4, '3': 9, '4': 16, '5': 25}"
            ]
          },
          "metadata": {
            "tags": []
          },
          "execution_count": 82
        }
      ]
    },
    {
      "cell_type": "markdown",
      "metadata": {
        "id": "MlYNw-5Klap2",
        "colab_type": "text"
      },
      "source": [
        "Here is a dictionary comprehension that does the same thing. Note it is enclosed with curly braces because it produces a dictionary, and a colon separates a key and its value."
      ]
    },
    {
      "cell_type": "code",
      "metadata": {
        "id": "q0qefaLfi5qm",
        "colab_type": "code",
        "colab": {
          "base_uri": "https://localhost:8080/",
          "height": 35
        },
        "outputId": "60ffe66c-d14a-429f-a10a-25af2efec62d"
      },
      "source": [
        "# basic dictionary comprehension\n",
        "# - this means \"pair a string version of the item with its square for each item in my_list\"\n",
        "squares = {str(i): i**2 for i in my_list}\n",
        "\n",
        "squares"
      ],
      "execution_count": null,
      "outputs": [
        {
          "output_type": "execute_result",
          "data": {
            "text/plain": [
              "{'0': 0, '1': 1, '2': 4, '3': 9, '4': 16, '5': 25}"
            ]
          },
          "metadata": {
            "tags": []
          },
          "execution_count": 83
        }
      ]
    },
    {
      "cell_type": "markdown",
      "metadata": {
        "id": "DU1jv-zRlmwC",
        "colab_type": "text"
      },
      "source": [
        "Like list comprehension, conditionals are allowed for the values:"
      ]
    },
    {
      "cell_type": "code",
      "metadata": {
        "id": "r7LQKLYZlucM",
        "colab_type": "code",
        "colab": {
          "base_uri": "https://localhost:8080/",
          "height": 35
        },
        "outputId": "d6538074-05e8-4815-875f-c20c105bfcc7"
      },
      "source": [
        "# dictionary comprehension with complex conditional\n",
        "# - this means \"pair a string version of the item with its square if it is even, otherwise with the item plus 100, for each item in my_list\"\n",
        "squares = {str(i): i**2 if i%2==0 else i+100 for i in my_list}\n",
        "\n",
        "squares"
      ],
      "execution_count": null,
      "outputs": [
        {
          "output_type": "execute_result",
          "data": {
            "text/plain": [
              "{'0': 0, '1': 101, '2': 4, '3': 103, '4': 16, '5': 105}"
            ]
          },
          "metadata": {
            "tags": []
          },
          "execution_count": 84
        }
      ]
    },
    {
      "cell_type": "markdown",
      "metadata": {
        "id": "aV04ty_YxORR",
        "colab_type": "text"
      },
      "source": [
        "## A Practical Example for Dictionaries and Comprehensions"
      ]
    },
    {
      "cell_type": "markdown",
      "metadata": {
        "id": "imBs2CaDqZMu",
        "colab_type": "text"
      },
      "source": [
        "So how are dictionaries useful? There are countless ways, but let's look at one example. Previously we saw in the section titled \"Lists vs. Tuples\" that a list of tuples with consistent structure is useful because pieces of data have predictable indices. For example, with this definition of `species_data`, the genus of every entry always has index 0:"
      ]
    },
    {
      "cell_type": "code",
      "metadata": {
        "id": "I_Nr2BlQqj8r",
        "colab_type": "code",
        "colab": {
          "base_uri": "https://localhost:8080/",
          "height": 72
        },
        "outputId": "943c2100-ff32-4493-fb8e-d020bfff30a6"
      },
      "source": [
        "species_data = [\n",
        "    # genus, species, date named, common name\n",
        "    ('Aplysia',     'californica', 1863, 'California sea hare'),\n",
        "    ('Macrocystis', 'pyrifera',    1820, 'Giant kelp'),\n",
        "    ('Pagurus',     'samuelis',    1857, 'Blueband hermit crab'),\n",
        "]\n",
        "\n",
        "# print every genus\n",
        "for sp in species_data:\n",
        "    print(sp[0])"
      ],
      "execution_count": null,
      "outputs": [
        {
          "output_type": "stream",
          "text": [
            "Aplysia\n",
            "Macrocystis\n",
            "Pagurus\n"
          ],
          "name": "stdout"
        }
      ]
    },
    {
      "cell_type": "markdown",
      "metadata": {
        "id": "WmFDnSjAr4nQ",
        "colab_type": "text"
      },
      "source": [
        "However, this approach requires that we memorize the meaning of each index (0 = genus, 1 = species, etc.). If we use dictionaries instead of tuples, we can access data by name, rather than arbitrary indices. To do this, we could convert every tuple into a dictionary, so that the whole data set is a list of dictionaries with identical keys.\n",
        "\n",
        "To demonstrate this, we could write everything out, like this:"
      ]
    },
    {
      "cell_type": "code",
      "metadata": {
        "id": "BjVNnxL_vgkO",
        "colab_type": "code",
        "colab": {}
      },
      "source": [
        "species_dicts = [\n",
        "    {'genus': 'Aplysia',     'species': 'californica', 'year': 1863, 'common': 'California sea hare'},\n",
        "    {'genus': 'Macrocystis', 'species': 'pyrifera',    'year': 1820, 'common': 'Giant kelp'},\n",
        "    {'genus': 'Pagurus',     'species': 'samuelis',    'year': 1857, 'common': 'Blueband hermit crab'},\n",
        "]"
      ],
      "execution_count": null,
      "outputs": []
    },
    {
      "cell_type": "markdown",
      "metadata": {
        "id": "GYuk9MXBvZl7",
        "colab_type": "text"
      },
      "source": [
        "However, if the `species_data` list already existed and was much longer than it is here, this would be a lot of extra work!\n",
        "\n",
        "Instead, we could use what we have learned to programmatically construct the list of dictionaries from the existing list of tuples using a `for` loop. Here's one way to do that which uses tuple unpacking for naming each of the four pieces of data in every tuple:"
      ]
    },
    {
      "cell_type": "code",
      "metadata": {
        "id": "uGoo7PROqtlZ",
        "colab_type": "code",
        "colab": {
          "base_uri": "https://localhost:8080/",
          "height": 235
        },
        "outputId": "e865b453-c5df-463a-b63f-1c663f6a2d0e"
      },
      "source": [
        "# create a new empty list\n",
        "species_dicts = []\n",
        "\n",
        "# for each tuple, unpack the 4 pieces of data into 4 temporary variables\n",
        "for genus, species, year, common in species_data:\n",
        "\n",
        "    # build a new dictionary for this species\n",
        "    d = {'genus': genus, 'species': species, 'year': year, 'common': common}\n",
        "\n",
        "    # append the dictionary to the new list\n",
        "    species_dicts.append(d)\n",
        "\n",
        "# display the new list of dictionaries\n",
        "species_dicts"
      ],
      "execution_count": null,
      "outputs": [
        {
          "output_type": "execute_result",
          "data": {
            "text/plain": [
              "[{'common': 'California sea hare',\n",
              "  'genus': 'Aplysia',\n",
              "  'species': 'californica',\n",
              "  'year': 1863},\n",
              " {'common': 'Giant kelp',\n",
              "  'genus': 'Macrocystis',\n",
              "  'species': 'pyrifera',\n",
              "  'year': 1820},\n",
              " {'common': 'Blueband hermit crab',\n",
              "  'genus': 'Pagurus',\n",
              "  'species': 'samuelis',\n",
              "  'year': 1857}]"
            ]
          },
          "metadata": {
            "tags": []
          },
          "execution_count": 87
        }
      ]
    },
    {
      "cell_type": "markdown",
      "metadata": {
        "id": "0FkLJqqAsqOO",
        "colab_type": "text"
      },
      "source": [
        "Now the genus of every entry can be accessed using the key `'genus'` rather than index 0:"
      ]
    },
    {
      "cell_type": "code",
      "metadata": {
        "id": "G0SzsX3gs2ox",
        "colab_type": "code",
        "colab": {
          "base_uri": "https://localhost:8080/",
          "height": 72
        },
        "outputId": "37bec854-8110-4315-f6e3-ce75c2dbaac6"
      },
      "source": [
        "# print every genus\n",
        "for sp in species_dicts:\n",
        "    print(sp['genus'])"
      ],
      "execution_count": null,
      "outputs": [
        {
          "output_type": "stream",
          "text": [
            "Aplysia\n",
            "Macrocystis\n",
            "Pagurus\n"
          ],
          "name": "stdout"
        }
      ]
    },
    {
      "cell_type": "markdown",
      "metadata": {
        "id": "YQ2BzKEMugig",
        "colab_type": "text"
      },
      "source": [
        "If we want to be *really* clever, we can do the entire conversion in a single step by *constructing a dictionary inside a list comprehension*. For this, we need to first introduce another built-in function.\n",
        "\n",
        "The `zip()` function takes two or more sequences (e.g., lists or tuples) as inputs and groups the elements from each sequence in order. For example:"
      ]
    },
    {
      "cell_type": "code",
      "metadata": {
        "id": "frBlTOmHzels",
        "colab_type": "code",
        "colab": {
          "base_uri": "https://localhost:8080/",
          "height": 35
        },
        "outputId": "b0461257-4e2a-4476-88a6-24890017203d"
      },
      "source": [
        "list1 = ['a', 'b', 'c']\n",
        "list2 = [1, 2, 3]\n",
        "\n",
        "# using list() here to simplify how the result is displayed\n",
        "list(zip(list1, list2))"
      ],
      "execution_count": null,
      "outputs": [
        {
          "output_type": "execute_result",
          "data": {
            "text/plain": [
              "[('a', 1), ('b', 2), ('c', 3)]"
            ]
          },
          "metadata": {
            "tags": []
          },
          "execution_count": 89
        }
      ]
    },
    {
      "cell_type": "markdown",
      "metadata": {
        "id": "j7VRGwpuz68T",
        "colab_type": "text"
      },
      "source": [
        "How can we use `zip()` to help us convert our list of tuples into a list of dictionaries? First, define a variable containing the dictionary keys:"
      ]
    },
    {
      "cell_type": "code",
      "metadata": {
        "id": "mLJEEGMk0MP7",
        "colab_type": "code",
        "colab": {}
      },
      "source": [
        "keys = ('genus', 'species', 'year', 'common')"
      ],
      "execution_count": null,
      "outputs": []
    },
    {
      "cell_type": "markdown",
      "metadata": {
        "id": "iaCMlCc10RI0",
        "colab_type": "text"
      },
      "source": [
        "With this, it is possible to pair the values from one of the tuples with these keys. For example, if we just look at the first tuple:"
      ]
    },
    {
      "cell_type": "code",
      "metadata": {
        "id": "RyKy59dI0aFK",
        "colab_type": "code",
        "colab": {
          "base_uri": "https://localhost:8080/",
          "height": 90
        },
        "outputId": "f62b8006-0fd2-426f-b5d7-521f8473c137"
      },
      "source": [
        "values = species_data[0]\n",
        "list(zip(keys, values))"
      ],
      "execution_count": null,
      "outputs": [
        {
          "output_type": "execute_result",
          "data": {
            "text/plain": [
              "[('genus', 'Aplysia'),\n",
              " ('species', 'californica'),\n",
              " ('year', 1863),\n",
              " ('common', 'California sea hare')]"
            ]
          },
          "metadata": {
            "tags": []
          },
          "execution_count": 91
        }
      ]
    },
    {
      "cell_type": "markdown",
      "metadata": {
        "id": "eK4jy2L70lZI",
        "colab_type": "text"
      },
      "source": [
        "Here we have a list of tuples, where each tuple is a key-value pair. This is just like what the `items()` function returns for a dictionary. From this, we could construct a dictionary from this first tuple using dictionary comprehension:"
      ]
    },
    {
      "cell_type": "code",
      "metadata": {
        "id": "4TSE6cjr039H",
        "colab_type": "code",
        "colab": {
          "base_uri": "https://localhost:8080/",
          "height": 90
        },
        "outputId": "bae1cd4b-965b-4caa-97c2-f98b23c015e7"
      },
      "source": [
        "{k:v for k,v in zip(keys, values)}"
      ],
      "execution_count": null,
      "outputs": [
        {
          "output_type": "execute_result",
          "data": {
            "text/plain": [
              "{'common': 'California sea hare',\n",
              " 'genus': 'Aplysia',\n",
              " 'species': 'californica',\n",
              " 'year': 1863}"
            ]
          },
          "metadata": {
            "tags": []
          },
          "execution_count": 92
        }
      ]
    },
    {
      "cell_type": "markdown",
      "metadata": {
        "id": "qiD0qY-315Qm",
        "colab_type": "text"
      },
      "source": [
        "Equivalently, because there is no extra manipulation of `k` or `v` here, we could use the built-in function `dict()` to convert the list of key-value pairs directly into a dictionary:"
      ]
    },
    {
      "cell_type": "code",
      "metadata": {
        "id": "cIb6CoY01rZn",
        "colab_type": "code",
        "colab": {
          "base_uri": "https://localhost:8080/",
          "height": 90
        },
        "outputId": "65de7a03-d5ef-4da6-80e1-86f99d4ee53f"
      },
      "source": [
        "dict(zip(keys, values))"
      ],
      "execution_count": null,
      "outputs": [
        {
          "output_type": "execute_result",
          "data": {
            "text/plain": [
              "{'common': 'California sea hare',\n",
              " 'genus': 'Aplysia',\n",
              " 'species': 'californica',\n",
              " 'year': 1863}"
            ]
          },
          "metadata": {
            "tags": []
          },
          "execution_count": 93
        }
      ]
    },
    {
      "cell_type": "markdown",
      "metadata": {
        "id": "-DB_FszX1DVx",
        "colab_type": "text"
      },
      "source": [
        "All we have to do now is generalize this to all tuples in `species_data`. We can use a list comprehension for this, which gives us the final expression that does the entire conversion in one step, from a list of tuples to a list of dictionaries:"
      ]
    },
    {
      "cell_type": "code",
      "metadata": {
        "id": "00KpIj04uK1o",
        "colab_type": "code",
        "colab": {
          "base_uri": "https://localhost:8080/",
          "height": 235
        },
        "outputId": "a59b44d1-37ed-4853-e4fa-75cb0dc9820a"
      },
      "source": [
        "keys = ('genus', 'species', 'year', 'common')\n",
        "species_dicts = [dict(zip(keys, values)) for values in species_data]\n",
        "species_dicts"
      ],
      "execution_count": null,
      "outputs": [
        {
          "output_type": "execute_result",
          "data": {
            "text/plain": [
              "[{'common': 'California sea hare',\n",
              "  'genus': 'Aplysia',\n",
              "  'species': 'californica',\n",
              "  'year': 1863},\n",
              " {'common': 'Giant kelp',\n",
              "  'genus': 'Macrocystis',\n",
              "  'species': 'pyrifera',\n",
              "  'year': 1820},\n",
              " {'common': 'Blueband hermit crab',\n",
              "  'genus': 'Pagurus',\n",
              "  'species': 'samuelis',\n",
              "  'year': 1857}]"
            ]
          },
          "metadata": {
            "tags": []
          },
          "execution_count": 94
        }
      ]
    },
    {
      "cell_type": "markdown",
      "metadata": {
        "id": "cUknVPFX2xUU",
        "colab_type": "text"
      },
      "source": [
        "This is much more elegant than writing out the list of dictionaries by hand!\n",
        "\n",
        "As a final proof of success, we can once again access the genus of every entry using a key:"
      ]
    },
    {
      "cell_type": "code",
      "metadata": {
        "id": "91fECV-72vq4",
        "colab_type": "code",
        "colab": {
          "base_uri": "https://localhost:8080/",
          "height": 72
        },
        "outputId": "1272efef-8d1c-4f25-fac3-bcc53bc71c9b"
      },
      "source": [
        "# print every genus\n",
        "for sp in species_dicts:\n",
        "    print(sp['genus'])"
      ],
      "execution_count": null,
      "outputs": [
        {
          "output_type": "stream",
          "text": [
            "Aplysia\n",
            "Macrocystis\n",
            "Pagurus\n"
          ],
          "name": "stdout"
        }
      ]
    },
    {
      "cell_type": "markdown",
      "metadata": {
        "id": "-jFZdhVM5amr",
        "colab_type": "text"
      },
      "source": [
        "For me, the amount of work we get out of this single expression, `[dict(zip(keys, values)) for values in species_data]`, is delightful!"
      ]
    },
    {
      "cell_type": "markdown",
      "metadata": {
        "id": "XtfHIWprUw5r",
        "colab_type": "text"
      },
      "source": [
        "## Functions"
      ]
    },
    {
      "cell_type": "markdown",
      "metadata": {
        "id": "Wnszey9SlfdV",
        "colab_type": "text"
      },
      "source": [
        "**Functions** take inputs, called **arguments** or **parameters**, and do work with them. Often, functions will **return** a result.\n",
        "\n",
        "Before use, functions must be **defined** using the `def` keyword. Inside the definition, results can be **returned** using the `return` keyword. Function arguments are specified in the definition inside parentheses after the function name.\n",
        "\n",
        "A function is used, or **called**, by invoking its name with the arguments."
      ]
    },
    {
      "cell_type": "code",
      "metadata": {
        "id": "B3snzbIcUAx6",
        "colab_type": "code",
        "colab": {
          "base_uri": "https://localhost:8080/",
          "height": 35
        },
        "outputId": "8e5cde9d-166c-4848-f3b4-89967da0624c"
      },
      "source": [
        "def compute_square(x):\n",
        "    return x**2\n",
        "\n",
        "compute_square(4)"
      ],
      "execution_count": null,
      "outputs": [
        {
          "output_type": "execute_result",
          "data": {
            "text/plain": [
              "16"
            ]
          },
          "metadata": {
            "tags": []
          },
          "execution_count": 96
        }
      ]
    },
    {
      "cell_type": "markdown",
      "metadata": {
        "id": "r1xmHta7f4xx",
        "colab_type": "text"
      },
      "source": [
        "Variables assignment within a function has limited **scope**. This means that if a new variable is assigned within a function, it will exist within the function (local scope) but not outside it (global scope)."
      ]
    },
    {
      "cell_type": "code",
      "metadata": {
        "id": "JCcEh5QcGZXM",
        "colab_type": "code",
        "colab": {
          "base_uri": "https://localhost:8080/",
          "height": 225
        },
        "outputId": "115a3f24-35b4-48ff-b5e7-3caec9598917"
      },
      "source": [
        "def add_4(x):\n",
        "    # this new variable has local scope and will not be accessible outside the function\n",
        "    some_local_variable = x + 4\n",
        "    \n",
        "    # use an f-string to display the result\n",
        "    print(f'{x} + 4 = {some_local_variable}')\n",
        "\n",
        "add_4(1)\n",
        "\n",
        "# this will fail because some_local_variable is out of scope\n",
        "print(some_local_variable)"
      ],
      "execution_count": null,
      "outputs": [
        {
          "output_type": "stream",
          "text": [
            "1 + 4 = 5\n"
          ],
          "name": "stdout"
        },
        {
          "output_type": "error",
          "ename": "NameError",
          "evalue": "ignored",
          "traceback": [
            "\u001b[0;31m---------------------------------------------------------------------------\u001b[0m",
            "\u001b[0;31mNameError\u001b[0m                                 Traceback (most recent call last)",
            "\u001b[0;32m<ipython-input-97-a816e85c72de>\u001b[0m in \u001b[0;36m<module>\u001b[0;34m()\u001b[0m\n\u001b[1;32m      8\u001b[0m \u001b[0;34m\u001b[0m\u001b[0m\n\u001b[1;32m      9\u001b[0m \u001b[0;31m# this will fail because some_local_variable is out of scope\u001b[0m\u001b[0;34m\u001b[0m\u001b[0;34m\u001b[0m\u001b[0;34m\u001b[0m\u001b[0m\n\u001b[0;32m---> 10\u001b[0;31m \u001b[0mprint\u001b[0m\u001b[0;34m(\u001b[0m\u001b[0msome_local_variable\u001b[0m\u001b[0;34m)\u001b[0m\u001b[0;34m\u001b[0m\u001b[0;34m\u001b[0m\u001b[0m\n\u001b[0m",
            "\u001b[0;31mNameError\u001b[0m: name 'some_local_variable' is not defined"
          ]
        }
      ]
    },
    {
      "cell_type": "markdown",
      "metadata": {
        "id": "FJ61P-MoGTdM",
        "colab_type": "text"
      },
      "source": [
        "This also means that if a variable that already exists (a global variable) is given a value inside the function, the global variable will not be affected."
      ]
    },
    {
      "cell_type": "code",
      "metadata": {
        "id": "_-hoKrz9eaID",
        "colab_type": "code",
        "colab": {
          "base_uri": "https://localhost:8080/",
          "height": 72
        },
        "outputId": "c2fca126-ebb4-4074-ca8d-509ed82df398"
      },
      "source": [
        "x = 'original value'\n",
        "\n",
        "print(f'x in global scope: {x}')\n",
        "\n",
        "def print_something(text):\n",
        "    # assigning x inside the function does not affect x outside\n",
        "    x = text\n",
        "    print(f'x in local scope: {x}')\n",
        "\n",
        "print_something('new value')\n",
        "\n",
        "print(f'x in global scope: {x}')"
      ],
      "execution_count": null,
      "outputs": [
        {
          "output_type": "stream",
          "text": [
            "x in global scope: original value\n",
            "x in local scope: new value\n",
            "x in global scope: original value\n"
          ],
          "name": "stdout"
        }
      ]
    },
    {
      "cell_type": "markdown",
      "metadata": {
        "id": "5Ie5Qaikm3Pv",
        "colab_type": "text"
      },
      "source": [
        "Functions can be defined with multiple arguments."
      ]
    },
    {
      "cell_type": "code",
      "metadata": {
        "id": "lxyjjasHgblQ",
        "colab_type": "code",
        "colab": {
          "base_uri": "https://localhost:8080/",
          "height": 35
        },
        "outputId": "4a2ef80b-294b-41a1-9480-bc1f83eab11a"
      },
      "source": [
        "def quadratic(x, a, b, c):\n",
        "    return a * x**2 + b * x + c\n",
        "\n",
        "quadratic(3, 1, 0, 5)  # 1 * 3**2 + 5 = 14"
      ],
      "execution_count": null,
      "outputs": [
        {
          "output_type": "execute_result",
          "data": {
            "text/plain": [
              "14"
            ]
          },
          "metadata": {
            "tags": []
          },
          "execution_count": 99
        }
      ]
    },
    {
      "cell_type": "markdown",
      "metadata": {
        "id": "L72PWJovHNxu",
        "colab_type": "text"
      },
      "source": [
        "When calling a function with multiple arguments, the order of the inputs must match the definition unless the arguments are explicitly named. This can be done using `=`. This use of `=` does not actually assign the value to the argument in the global scope."
      ]
    },
    {
      "cell_type": "code",
      "metadata": {
        "id": "3CAqarN2H5KE",
        "colab_type": "code",
        "colab": {
          "base_uri": "https://localhost:8080/",
          "height": 35
        },
        "outputId": "175998f2-e0a5-44c1-b6c6-5a67a6781f34"
      },
      "source": [
        "# arguments may be given out of order if they are explicitly named with =\n",
        "quadratic(b=0, c=5, a=1, x=3)\n",
        "\n",
        "# after calling the function with explicit arguments, the variables x, a, b, c\n",
        "# have NOT been defined or changed in the global scope"
      ],
      "execution_count": null,
      "outputs": [
        {
          "output_type": "execute_result",
          "data": {
            "text/plain": [
              "14"
            ]
          },
          "metadata": {
            "tags": []
          },
          "execution_count": 100
        }
      ]
    },
    {
      "cell_type": "markdown",
      "metadata": {
        "id": "UxggRAaDMnS6",
        "colab_type": "text"
      },
      "source": [
        "Because `=` has this special non-assignment meaning in function calls, you will sometimes see seemingly odd notation where variables appear to be assigned to themselves. For example, if the parameters for `quadratic` are already defined in the global scope as variables with the same names, the function could be called like this:"
      ]
    },
    {
      "cell_type": "code",
      "metadata": {
        "id": "5KGA7juqNLqm",
        "colab_type": "code",
        "colab": {
          "base_uri": "https://localhost:8080/",
          "height": 35
        },
        "outputId": "e61994d1-6cfc-4247-998c-b8c3c66058ba"
      },
      "source": [
        "x = 3\n",
        "a = 1\n",
        "b = 0\n",
        "c = 5\n",
        "\n",
        "quadratic(b=b, c=c, a=a, x=x)"
      ],
      "execution_count": null,
      "outputs": [
        {
          "output_type": "execute_result",
          "data": {
            "text/plain": [
              "14"
            ]
          },
          "metadata": {
            "tags": []
          },
          "execution_count": 101
        }
      ]
    },
    {
      "cell_type": "markdown",
      "metadata": {
        "id": "VeWgqNxpm97V",
        "colab_type": "text"
      },
      "source": [
        "When you see a function call like this, remember that the names to the left of the `=` symbols are the argument names, which will exist in the local scope of the function, and the names to the right of the `=` symbols refer to variables defined in the global scope.\n",
        "\n",
        "By default, all arguments must be provided when using the function."
      ]
    },
    {
      "cell_type": "code",
      "metadata": {
        "id": "NQ7NK9Nyg5rH",
        "colab_type": "code",
        "colab": {
          "base_uri": "https://localhost:8080/",
          "height": 171
        },
        "outputId": "b0b85e20-7379-466e-9449-6f15e66308e3"
      },
      "source": [
        "quadratic(3)"
      ],
      "execution_count": null,
      "outputs": [
        {
          "output_type": "error",
          "ename": "TypeError",
          "evalue": "ignored",
          "traceback": [
            "\u001b[0;31m---------------------------------------------------------------------------\u001b[0m",
            "\u001b[0;31mTypeError\u001b[0m                                 Traceback (most recent call last)",
            "\u001b[0;32m<ipython-input-102-a9084b27f93d>\u001b[0m in \u001b[0;36m<module>\u001b[0;34m()\u001b[0m\n\u001b[0;32m----> 1\u001b[0;31m \u001b[0mquadratic\u001b[0m\u001b[0;34m(\u001b[0m\u001b[0;36m3\u001b[0m\u001b[0;34m)\u001b[0m\u001b[0;34m\u001b[0m\u001b[0;34m\u001b[0m\u001b[0m\n\u001b[0m",
            "\u001b[0;31mTypeError\u001b[0m: quadratic() missing 3 required positional arguments: 'a', 'b', and 'c'"
          ]
        }
      ]
    },
    {
      "cell_type": "markdown",
      "metadata": {
        "id": "JFHybcdonkuj",
        "colab_type": "text"
      },
      "source": [
        "Functions can be defined with default parameter values using `=` so that they are not required when calling the function. Again, this does not actually assign these values to variables in the global scope."
      ]
    },
    {
      "cell_type": "code",
      "metadata": {
        "id": "ZEB4y9hjg8-p",
        "colab_type": "code",
        "colab": {
          "base_uri": "https://localhost:8080/",
          "height": 35
        },
        "outputId": "2e428b11-5fbc-439c-eb35-a2fc91bc59a6"
      },
      "source": [
        "# provide default values for parameters\n",
        "def quadratic(x, a=1, b=0, c=0):\n",
        "    return a * x**2 + b * x + c\n",
        "\n",
        "quadratic(3)"
      ],
      "execution_count": null,
      "outputs": [
        {
          "output_type": "execute_result",
          "data": {
            "text/plain": [
              "9"
            ]
          },
          "metadata": {
            "tags": []
          },
          "execution_count": 103
        }
      ]
    },
    {
      "cell_type": "markdown",
      "metadata": {
        "id": "PdcAOc_aAyDq",
        "colab_type": "text"
      },
      "source": [
        "When variables containing lists, dictionaries, or other complex objects (e.g., custom classes) are passed as arguments to a function, they are **passed by reference**, which means that the function can change those variables in the global scope. For example, if a list is passed to a function as input, the function could change items in the list:"
      ]
    },
    {
      "cell_type": "code",
      "metadata": {
        "id": "Sy4WEY0h_4J2",
        "colab_type": "code",
        "colab": {
          "base_uri": "https://localhost:8080/",
          "height": 35
        },
        "outputId": "f50ab21f-8066-482c-d236-a43bfe3527e1"
      },
      "source": [
        "def change_list(some_list):\n",
        "    # change the first item in the list to 4\n",
        "    some_list[0] = 4\n",
        "\n",
        "my_list = [1, 1, 1, 1]\n",
        "\n",
        "# this function call will change my_list permanently in the global scope\n",
        "change_list(my_list)\n",
        "\n",
        "# the first item has changed\n",
        "my_list"
      ],
      "execution_count": null,
      "outputs": [
        {
          "output_type": "execute_result",
          "data": {
            "text/plain": [
              "[4, 1, 1, 1]"
            ]
          },
          "metadata": {
            "tags": []
          },
          "execution_count": 104
        }
      ]
    },
    {
      "cell_type": "markdown",
      "metadata": {
        "id": "XRH7w9shnyAp",
        "colab_type": "text"
      },
      "source": [
        "The built-in function `map` can be used to apply a function to every value in a sequence:"
      ]
    },
    {
      "cell_type": "code",
      "metadata": {
        "id": "EZE5w-6GhMhr",
        "colab_type": "code",
        "colab": {
          "base_uri": "https://localhost:8080/",
          "height": 35
        },
        "outputId": "96bd967e-d8ca-44cd-b6c3-d49d336ee9da"
      },
      "source": [
        "list(map(compute_square, range(5)))  # list() is used so the output displays nicely"
      ],
      "execution_count": null,
      "outputs": [
        {
          "output_type": "execute_result",
          "data": {
            "text/plain": [
              "[0, 1, 4, 9, 16]"
            ]
          },
          "metadata": {
            "tags": []
          },
          "execution_count": 105
        }
      ]
    },
    {
      "cell_type": "markdown",
      "metadata": {
        "id": "XbcJy_qEn5ow",
        "colab_type": "text"
      },
      "source": [
        "This example is identical to the following list comprehension:"
      ]
    },
    {
      "cell_type": "code",
      "metadata": {
        "id": "1IBPU99ghhj1",
        "colab_type": "code",
        "colab": {
          "base_uri": "https://localhost:8080/",
          "height": 35
        },
        "outputId": "ef457200-e391-4ec2-c08a-a08c16f5f828"
      },
      "source": [
        "[compute_square(i) for i in range(5)]"
      ],
      "execution_count": null,
      "outputs": [
        {
          "output_type": "execute_result",
          "data": {
            "text/plain": [
              "[0, 1, 4, 9, 16]"
            ]
          },
          "metadata": {
            "tags": []
          },
          "execution_count": 106
        }
      ]
    },
    {
      "cell_type": "markdown",
      "metadata": {
        "id": "YZIf9yoxCb9s",
        "colab_type": "text"
      },
      "source": [
        "`map` can be used with multiple sequences. The first items from all sequences will be passed together as arguments to the function, then the second items, and so on."
      ]
    },
    {
      "cell_type": "code",
      "metadata": {
        "id": "CGZ3OPHxCMuA",
        "colab_type": "code",
        "colab": {
          "base_uri": "https://localhost:8080/",
          "height": 35
        },
        "outputId": "8b4a2477-a48e-47fb-a72e-d85f3f995a3f"
      },
      "source": [
        "def multiply(x, y):\n",
        "    return x * y\n",
        "\n",
        "list1 = [1, 2, 3, 4]\n",
        "list2 = [1, 10, 100, 1000]\n",
        "\n",
        "list(map(multiply, list1, list2))  # list() is used so the output displays nicely"
      ],
      "execution_count": null,
      "outputs": [
        {
          "output_type": "execute_result",
          "data": {
            "text/plain": [
              "[1, 20, 300, 4000]"
            ]
          },
          "metadata": {
            "tags": []
          },
          "execution_count": 107
        }
      ]
    },
    {
      "cell_type": "markdown",
      "metadata": {
        "id": "UTFrw3ckE08H",
        "colab_type": "text"
      },
      "source": [
        "This behavior can also be replicated with a list comprehension and `zip()`:"
      ]
    },
    {
      "cell_type": "code",
      "metadata": {
        "id": "JBfMFu-vErqc",
        "colab_type": "code",
        "colab": {
          "base_uri": "https://localhost:8080/",
          "height": 35
        },
        "outputId": "32f92b87-5af3-43be-bd13-7b9f207fb5f0"
      },
      "source": [
        "[multiply(x, y) for x, y in zip(list1, list2)]"
      ],
      "execution_count": null,
      "outputs": [
        {
          "output_type": "execute_result",
          "data": {
            "text/plain": [
              "[1, 20, 300, 4000]"
            ]
          },
          "metadata": {
            "tags": []
          },
          "execution_count": 108
        }
      ]
    },
    {
      "cell_type": "markdown",
      "metadata": {
        "id": "-_qiZpUOoEzx",
        "colab_type": "text"
      },
      "source": [
        "The built-in function `filter` is used to remove all items from a sequence that do not satisfy the criterion of returning `True` when passed into a function:"
      ]
    },
    {
      "cell_type": "code",
      "metadata": {
        "id": "jVmchd1HjuMT",
        "colab_type": "code",
        "colab": {
          "base_uri": "https://localhost:8080/",
          "height": 35
        },
        "outputId": "22dcb3ce-3234-43e2-bed7-7c5335b9d730"
      },
      "source": [
        "def greater_than_2(x):\n",
        "    return x > 2\n",
        "\n",
        "# keep only items that satisfy the condition\n",
        "list(filter(greater_than_2, range(5)))  # list() is used so the output displays nicely"
      ],
      "execution_count": null,
      "outputs": [
        {
          "output_type": "execute_result",
          "data": {
            "text/plain": [
              "[3, 4]"
            ]
          },
          "metadata": {
            "tags": []
          },
          "execution_count": 3
        }
      ]
    },
    {
      "cell_type": "markdown",
      "metadata": {
        "id": "ZJt99qRgKAAF",
        "colab_type": "text"
      },
      "source": [
        "This behavior can also be replicated by a list comprehension:"
      ]
    },
    {
      "cell_type": "code",
      "metadata": {
        "id": "F15qik_hKD7R",
        "colab_type": "code",
        "colab": {
          "base_uri": "https://localhost:8080/",
          "height": 35
        },
        "outputId": "4c5ddf30-bbad-49b0-9278-6c74c4254b97"
      },
      "source": [
        "[x for x in range(5) if greater_than_2(x)]"
      ],
      "execution_count": null,
      "outputs": [
        {
          "output_type": "execute_result",
          "data": {
            "text/plain": [
              "[3, 4]"
            ]
          },
          "metadata": {
            "tags": []
          },
          "execution_count": 110
        }
      ]
    },
    {
      "cell_type": "markdown",
      "metadata": {
        "id": "yuyyaYiODIZt",
        "colab_type": "text"
      },
      "source": [
        "`filter` does not change the variable:"
      ]
    },
    {
      "cell_type": "code",
      "metadata": {
        "id": "8l_rRZsAC-yt",
        "colab_type": "code",
        "colab": {
          "base_uri": "https://localhost:8080/",
          "height": 53
        },
        "outputId": "c4a96834-3c9b-4431-a519-c7e3e06edc34"
      },
      "source": [
        "my_list = [0, 1, 2, 3, 4]\n",
        "\n",
        "# return a filtered version of the list but do not actually change my_list\n",
        "print(list(filter(greater_than_2, my_list)))  # list() is used so the output displays nicely\n",
        "\n",
        "# the list was not permanently changed\n",
        "print(my_list)"
      ],
      "execution_count": null,
      "outputs": [
        {
          "output_type": "stream",
          "text": [
            "[3, 4]\n",
            "[0, 1, 2, 3, 4]\n"
          ],
          "name": "stdout"
        }
      ]
    },
    {
      "cell_type": "markdown",
      "metadata": {
        "id": "F84GDe6GoVHz",
        "colab_type": "text"
      },
      "source": [
        "Temporary **anonymous functions**, also called **lambda functions**, can be defined using the `lambda` keyword. They are useful in contexts were a function is needed just once to do something simple.\n",
        "\n",
        "This example is equivalent to the previous one but does not require the function `greater_than_2` to be defined:"
      ]
    },
    {
      "cell_type": "code",
      "metadata": {
        "id": "Tdc-A3CCkS-_",
        "colab_type": "code",
        "colab": {
          "base_uri": "https://localhost:8080/",
          "height": 35
        },
        "outputId": "af7fc63f-02a9-467e-dc71-13a6367e5ad1"
      },
      "source": [
        "list(filter(lambda x: x > 2, range(5)))"
      ],
      "execution_count": null,
      "outputs": [
        {
          "output_type": "execute_result",
          "data": {
            "text/plain": [
              "[3, 4]"
            ]
          },
          "metadata": {
            "tags": []
          },
          "execution_count": 112
        }
      ]
    },
    {
      "cell_type": "markdown",
      "metadata": {
        "id": "jhLHgGm8o3so",
        "colab_type": "text"
      },
      "source": [
        "A function can be defined with a **docstring**, or documentation string, which can provide helpful information when `help()` or `?` is used. Docstrings can span multiple lines and are sometimes very detailed (e.g., describing every function argument)."
      ]
    },
    {
      "cell_type": "code",
      "metadata": {
        "id": "m_U0UhMVk-rL",
        "colab_type": "code",
        "colab": {
          "base_uri": "https://localhost:8080/",
          "height": 146
        },
        "outputId": "d852a890-5587-4ec5-a41e-448fef1b2090"
      },
      "source": [
        "def compute_square(x):\n",
        "    '''Calculate the square of the input\n",
        "    \n",
        "    x: the number to be squared'''\n",
        "    \n",
        "    return x**2\n",
        "\n",
        "help(compute_square)"
      ],
      "execution_count": null,
      "outputs": [
        {
          "output_type": "stream",
          "text": [
            "Help on function compute_square in module __main__:\n",
            "\n",
            "compute_square(x)\n",
            "    Calculate the square of the input\n",
            "    \n",
            "    x: the number to be squared\n",
            "\n"
          ],
          "name": "stdout"
        }
      ]
    },
    {
      "cell_type": "markdown",
      "metadata": {
        "id": "JBF3eflUphLo",
        "colab_type": "text"
      },
      "source": [
        "Multiple values can be returned at once. If they are separated by commas without enclosing brackets, the returned object is a tuple."
      ]
    },
    {
      "cell_type": "code",
      "metadata": {
        "id": "ifdc6CuHlXtv",
        "colab_type": "code",
        "colab": {
          "base_uri": "https://localhost:8080/",
          "height": 35
        },
        "outputId": "72c4a14f-cc2e-43b3-a56a-60c50a307a13"
      },
      "source": [
        "def powers(x):\n",
        "    return x**1, x**2, x**3\n",
        "\n",
        "x = 4\n",
        "result = powers(x)\n",
        "\n",
        "print(f'Result of powers({x}) is a tuple: {result}')"
      ],
      "execution_count": null,
      "outputs": [
        {
          "output_type": "stream",
          "text": [
            "Result of powers(4) is a tuple: (4, 16, 64)\n"
          ],
          "name": "stdout"
        }
      ]
    },
    {
      "cell_type": "markdown",
      "metadata": {
        "id": "ZN_CJ4sOp4on",
        "colab_type": "text"
      },
      "source": [
        "When a function returns a tuple or list, the result can be **unpacked** into multiple named variables for convenience."
      ]
    },
    {
      "cell_type": "code",
      "metadata": {
        "id": "SFoRX6y3mpME",
        "colab_type": "code",
        "colab": {
          "base_uri": "https://localhost:8080/",
          "height": 90
        },
        "outputId": "5053a2be-81ce-4130-eac2-006c984041c8"
      },
      "source": [
        "x = 4\n",
        "first, second, third = powers(x)\n",
        "\n",
        "print(f'Result of powers({x}) was unpacked into 3 variables...')\n",
        "print(f'first:  {first}')\n",
        "print(f'second: {second}')\n",
        "print(f'third:  {third}')"
      ],
      "execution_count": null,
      "outputs": [
        {
          "output_type": "stream",
          "text": [
            "Result of powers(4) was unpacked into 3 variables...\n",
            "first:  4\n",
            "second: 16\n",
            "third:  64\n"
          ],
          "name": "stdout"
        }
      ]
    },
    {
      "cell_type": "markdown",
      "metadata": {
        "id": "Mt_msWYiqOr9",
        "colab_type": "text"
      },
      "source": [
        "To partially unpack the returned values and discard the rest, use `_` as a placeholder for the results you do not care about."
      ]
    },
    {
      "cell_type": "code",
      "metadata": {
        "id": "nMbhhoQSqCpC",
        "colab_type": "code",
        "colab": {
          "base_uri": "https://localhost:8080/",
          "height": 54
        },
        "outputId": "763ea6a8-a89f-4304-e579-f00edfc6e8b6"
      },
      "source": [
        "x = 4\n",
        "first, _, _ = powers(x)\n",
        "\n",
        "print(f'The first result of powers({x}) was unpacked but the others were discarded...')\n",
        "print(f'first:  {first}')"
      ],
      "execution_count": null,
      "outputs": [
        {
          "output_type": "stream",
          "text": [
            "The first result of powers(4) was unpacked but the others were discarded...\n",
            "first:  4\n"
          ],
          "name": "stdout"
        }
      ]
    },
    {
      "cell_type": "markdown",
      "metadata": {
        "id": "IQF561jVKsMx",
        "colab_type": "text"
      },
      "source": [
        "STOPPED HERE AT END OF AUGUST 23 SESSION\n",
        "\n",
        "---"
      ]
    },
    {
      "cell_type": "markdown",
      "metadata": {
        "id": "ptJrJUavqk85",
        "colab_type": "text"
      },
      "source": [
        "If an asterisk (`*`) precedes an argument name in the function definition, that argument name stands for a sequence of inputs."
      ]
    },
    {
      "cell_type": "code",
      "metadata": {
        "id": "w6Swtlprp5Fb",
        "colab_type": "code",
        "colab": {
          "base_uri": "https://localhost:8080/",
          "height": 35
        },
        "outputId": "ad95d304-b3fc-4e0f-e96e-1d61fc577af8"
      },
      "source": [
        "def my_func(*args):\n",
        "    # everything passed to my_func is stored in args\n",
        "    return args\n",
        "\n",
        "# the retuned object is a tuple containing all of the inputs\n",
        "my_func(123, 'abc', True)"
      ],
      "execution_count": null,
      "outputs": [
        {
          "output_type": "execute_result",
          "data": {
            "text/plain": [
              "(123, 'abc', True)"
            ]
          },
          "metadata": {
            "tags": []
          },
          "execution_count": 117
        }
      ]
    },
    {
      "cell_type": "markdown",
      "metadata": {
        "id": "WlEzWbjPq8bP",
        "colab_type": "text"
      },
      "source": [
        "This is useful when the number of inputs is allowed to vary. For example, this function can take any number of numeric inputs, sums them, and returns a list of the cumulative sums:"
      ]
    },
    {
      "cell_type": "code",
      "metadata": {
        "id": "HW-ZFhZzrs88",
        "colab_type": "code",
        "colab": {
          "base_uri": "https://localhost:8080/",
          "height": 53
        },
        "outputId": "f0297945-a6a2-40cd-b5e6-137b84398681"
      },
      "source": [
        "def cumulative_sum(*nums):\n",
        "    result = [0]\n",
        "    for x in nums:\n",
        "        result.append(result[-1] + x)\n",
        "    return result[1:]\n",
        "\n",
        "print(f'Result for input 10:       {cumulative_sum(10)}')\n",
        "print(f'Result for inputs 1, 2, 3: {cumulative_sum(1, 2, 3)}')"
      ],
      "execution_count": null,
      "outputs": [
        {
          "output_type": "stream",
          "text": [
            "Result for input 10:       [10]\n",
            "Result for inputs 1, 2, 3: [1, 3, 6]\n"
          ],
          "name": "stdout"
        }
      ]
    },
    {
      "cell_type": "markdown",
      "metadata": {
        "id": "UJpMeGBPrgFu",
        "colab_type": "text"
      },
      "source": [
        "Notice that this is different from passing a list as the first argument."
      ]
    },
    {
      "cell_type": "code",
      "metadata": {
        "id": "6JVuUa-esfqE",
        "colab_type": "code",
        "colab": {
          "base_uri": "https://localhost:8080/",
          "height": 316
        },
        "outputId": "68cb91bb-7d13-4719-c09e-4dfc2c4cfbaf"
      },
      "source": [
        "# this does not work because nums should be naked numeric values, not a list\n",
        "cumulative_sum([1, 2, 3])"
      ],
      "execution_count": null,
      "outputs": [
        {
          "output_type": "error",
          "ename": "TypeError",
          "evalue": "ignored",
          "traceback": [
            "\u001b[0;31m---------------------------------------------------------------------------\u001b[0m",
            "\u001b[0;31mTypeError\u001b[0m                                 Traceback (most recent call last)",
            "\u001b[0;32m<ipython-input-119-b326e4e74a4c>\u001b[0m in \u001b[0;36m<module>\u001b[0;34m()\u001b[0m\n\u001b[1;32m      1\u001b[0m \u001b[0;31m# this does not work because nums should be naked numeric values, not a list\u001b[0m\u001b[0;34m\u001b[0m\u001b[0;34m\u001b[0m\u001b[0;34m\u001b[0m\u001b[0m\n\u001b[0;32m----> 2\u001b[0;31m \u001b[0mcumulative_sum\u001b[0m\u001b[0;34m(\u001b[0m\u001b[0;34m[\u001b[0m\u001b[0;36m1\u001b[0m\u001b[0;34m,\u001b[0m \u001b[0;36m2\u001b[0m\u001b[0;34m,\u001b[0m \u001b[0;36m3\u001b[0m\u001b[0;34m]\u001b[0m\u001b[0;34m)\u001b[0m\u001b[0;34m\u001b[0m\u001b[0;34m\u001b[0m\u001b[0m\n\u001b[0m",
            "\u001b[0;32m<ipython-input-118-18b29a464dbb>\u001b[0m in \u001b[0;36mcumulative_sum\u001b[0;34m(*nums)\u001b[0m\n\u001b[1;32m      2\u001b[0m     \u001b[0mresult\u001b[0m \u001b[0;34m=\u001b[0m \u001b[0;34m[\u001b[0m\u001b[0;36m0\u001b[0m\u001b[0;34m]\u001b[0m\u001b[0;34m\u001b[0m\u001b[0;34m\u001b[0m\u001b[0m\n\u001b[1;32m      3\u001b[0m     \u001b[0;32mfor\u001b[0m \u001b[0mx\u001b[0m \u001b[0;32min\u001b[0m \u001b[0mnums\u001b[0m\u001b[0;34m:\u001b[0m\u001b[0;34m\u001b[0m\u001b[0;34m\u001b[0m\u001b[0m\n\u001b[0;32m----> 4\u001b[0;31m         \u001b[0mresult\u001b[0m\u001b[0;34m.\u001b[0m\u001b[0mappend\u001b[0m\u001b[0;34m(\u001b[0m\u001b[0mresult\u001b[0m\u001b[0;34m[\u001b[0m\u001b[0;34m-\u001b[0m\u001b[0;36m1\u001b[0m\u001b[0;34m]\u001b[0m \u001b[0;34m+\u001b[0m \u001b[0mx\u001b[0m\u001b[0;34m)\u001b[0m\u001b[0;34m\u001b[0m\u001b[0;34m\u001b[0m\u001b[0m\n\u001b[0m\u001b[1;32m      5\u001b[0m     \u001b[0;32mreturn\u001b[0m \u001b[0mresult\u001b[0m\u001b[0;34m[\u001b[0m\u001b[0;36m1\u001b[0m\u001b[0;34m:\u001b[0m\u001b[0;34m]\u001b[0m\u001b[0;34m\u001b[0m\u001b[0;34m\u001b[0m\u001b[0m\n\u001b[1;32m      6\u001b[0m \u001b[0;34m\u001b[0m\u001b[0m\n",
            "\u001b[0;31mTypeError\u001b[0m: unsupported operand type(s) for +: 'int' and 'list'"
          ]
        }
      ]
    },
    {
      "cell_type": "markdown",
      "metadata": {
        "id": "kImaFt5Jr3yR",
        "colab_type": "text"
      },
      "source": [
        "If a double asterisk (`**`) is used in the function definition before an argument name, that argument represents all **keyword arguments**, which are arguments that must be specified by name when the function is called."
      ]
    },
    {
      "cell_type": "code",
      "metadata": {
        "id": "k69Kxi5Eq2eA",
        "colab_type": "code",
        "colab": {
          "base_uri": "https://localhost:8080/",
          "height": 35
        },
        "outputId": "cde50e07-0698-4e02-8311-3b8c62e74dfc"
      },
      "source": [
        "def my_func(*args, **kwargs):\n",
        "    return args, kwargs\n",
        "\n",
        "my_func(123, 'abc', True, one=1, two=2)"
      ],
      "execution_count": null,
      "outputs": [
        {
          "output_type": "execute_result",
          "data": {
            "text/plain": [
              "((123, 'abc', True), {'one': 1, 'two': 2})"
            ]
          },
          "metadata": {
            "tags": []
          },
          "execution_count": 120
        }
      ]
    },
    {
      "cell_type": "markdown",
      "metadata": {
        "id": "Kw_vsBH0K0OT",
        "colab_type": "text"
      },
      "source": [
        "## Classes"
      ]
    },
    {
      "cell_type": "markdown",
      "metadata": {
        "id": "hw6EXThtM0IX",
        "colab_type": "text"
      },
      "source": [
        "Let's create a custom **subclass** of the list data type. This class will be designed on the assumption that all values within the list are numbers (which is not true of all lists in general). For now, we won't worry about checking that this assumption is correct.\n",
        "\n",
        "Since we are creating a new list-like class for numbers, let's call it `NumericalList`. In this first version, we'll just use the `pass` keyword to skip adding anything new."
      ]
    },
    {
      "cell_type": "code",
      "metadata": {
        "id": "wZj-eb0nKzpd",
        "colab_type": "code",
        "colab": {}
      },
      "source": [
        "class NumericalList(list):\n",
        "    pass # do nothing new"
      ],
      "execution_count": null,
      "outputs": []
    },
    {
      "cell_type": "code",
      "metadata": {
        "id": "GrWH5j4iK61-",
        "colab_type": "code",
        "colab": {
          "base_uri": "https://localhost:8080/",
          "height": 53
        },
        "outputId": "f0af57d0-365a-4dc1-f1ec-dee59604199a"
      },
      "source": [
        "my_nlist = NumericalList([1, 6, 1, 12])\n",
        "print(my_nlist)\n",
        "print(type(my_nlist))"
      ],
      "execution_count": null,
      "outputs": [
        {
          "output_type": "stream",
          "text": [
            "[1, 6, 1, 12]\n",
            "<class '__main__.NumericalList'>\n"
          ],
          "name": "stdout"
        }
      ]
    },
    {
      "cell_type": "markdown",
      "metadata": {
        "id": "29m7S3T6Px_a",
        "colab_type": "text"
      },
      "source": [
        "Here we would say that `list` is the **parent class** of `NumericalList`. Our new class **inherits** the features of its parent and can be customized with new features (or the existing ones can be changed).\n",
        "\n",
        "For example, the number of items in a list (its length) can be counted using the built-in `len()` function. The countability of lists is a feature that `NumericalList` inherits:"
      ]
    },
    {
      "cell_type": "code",
      "metadata": {
        "id": "XTUjA_TzPY8N",
        "colab_type": "code",
        "colab": {
          "base_uri": "https://localhost:8080/",
          "height": 35
        },
        "outputId": "5c768794-fe7f-410b-a4e9-14562665ba69"
      },
      "source": [
        "len(my_nlist)"
      ],
      "execution_count": null,
      "outputs": [
        {
          "output_type": "execute_result",
          "data": {
            "text/plain": [
              "4"
            ]
          },
          "metadata": {
            "tags": []
          },
          "execution_count": 44
        }
      ]
    },
    {
      "cell_type": "markdown",
      "metadata": {
        "id": "0eWprdrZRX23",
        "colab_type": "text"
      },
      "source": [
        "Similarly, `NumericalList` inherits the `list` methods, like `append()`."
      ]
    },
    {
      "cell_type": "code",
      "metadata": {
        "id": "6Sb67ev0RS5n",
        "colab_type": "code",
        "colab": {
          "base_uri": "https://localhost:8080/",
          "height": 35
        },
        "outputId": "14d5076c-32fe-4fc7-d385-7f106ef19269"
      },
      "source": [
        "my_nlist.append(99)\n",
        "my_nlist"
      ],
      "execution_count": null,
      "outputs": [
        {
          "output_type": "execute_result",
          "data": {
            "text/plain": [
              "[1, 6, 1, 12, 99]"
            ]
          },
          "metadata": {
            "tags": []
          },
          "execution_count": 45
        }
      ]
    },
    {
      "cell_type": "markdown",
      "metadata": {
        "id": "x4hjQdhcM-Or",
        "colab_type": "text"
      },
      "source": [
        "So far, `NumericalList` has no useful features beyond those of its parent. Let's add one! Below we redefine the class with a new `mean()` method, which is something ordinary lists lack. Note `pass` is not needed anymore; it was needed earlier only because *something* must come after the initial semicolon."
      ]
    },
    {
      "cell_type": "code",
      "metadata": {
        "id": "T_3aD3oGLoQ6",
        "colab_type": "code",
        "colab": {}
      },
      "source": [
        "class NumericalList(list):\n",
        "    def mean(self):\n",
        "        return sum(self)/len(self)"
      ],
      "execution_count": null,
      "outputs": []
    },
    {
      "cell_type": "code",
      "metadata": {
        "id": "gVwDoXL8L00f",
        "colab_type": "code",
        "colab": {
          "base_uri": "https://localhost:8080/",
          "height": 35
        },
        "outputId": "29dfa31f-dd3c-41e0-c2c9-d1942a279377"
      },
      "source": [
        "my_nlist = NumericalList([1, 6, 1, 12])\n",
        "my_nlist.mean()"
      ],
      "execution_count": null,
      "outputs": [
        {
          "output_type": "execute_result",
          "data": {
            "text/plain": [
              "5.0"
            ]
          },
          "metadata": {
            "tags": []
          },
          "execution_count": 48
        }
      ]
    },
    {
      "cell_type": "markdown",
      "metadata": {
        "id": "Uf_2SCEuNIn-",
        "colab_type": "text"
      },
      "source": [
        "Note that all method functions need to take at least one argument, which is conventionally named `self`. This serves as a name for the `NumericalList` itself within the function.\n",
        "\n",
        "For the sake of demonstration, let's add another method called `size()`, which just returns the length:"
      ]
    },
    {
      "cell_type": "code",
      "metadata": {
        "id": "VN2StbLGLQDa",
        "colab_type": "code",
        "colab": {}
      },
      "source": [
        "class NumericalList(list):\n",
        "    def mean(self):\n",
        "        return sum(self)/len(self)\n",
        "    \n",
        "    def size(self):\n",
        "        return len(self)"
      ],
      "execution_count": null,
      "outputs": []
    },
    {
      "cell_type": "code",
      "metadata": {
        "id": "jNgZYbq3LeIL",
        "colab_type": "code",
        "colab": {
          "base_uri": "https://localhost:8080/",
          "height": 35
        },
        "outputId": "51fda6d1-2c56-43ff-9e1e-3b88574eafde"
      },
      "source": [
        "my_nlist = NumericalList([1, 6, 1, 12])\n",
        "my_nlist.size()"
      ],
      "execution_count": null,
      "outputs": [
        {
          "output_type": "execute_result",
          "data": {
            "text/plain": [
              "4"
            ]
          },
          "metadata": {
            "tags": []
          },
          "execution_count": 50
        }
      ]
    },
    {
      "cell_type": "markdown",
      "metadata": {
        "id": "NL7ZCtUwNPYd",
        "colab_type": "text"
      },
      "source": [
        "We can use a special **decorator**, `@property`, to mark the `size()` function as a **property**. This will allow (require, actually) `size` to be used without the parentheses."
      ]
    },
    {
      "cell_type": "code",
      "metadata": {
        "id": "SUAR2EYkMWUM",
        "colab_type": "code",
        "colab": {}
      },
      "source": [
        "class NumericalList(list):\n",
        "    def mean(self):\n",
        "        return sum(self)/len(self)\n",
        "    \n",
        "    @property\n",
        "    def size(self):\n",
        "        return len(self)"
      ],
      "execution_count": 1,
      "outputs": []
    },
    {
      "cell_type": "code",
      "metadata": {
        "id": "l2xkGxGuNfV8",
        "colab_type": "code",
        "colab": {
          "base_uri": "https://localhost:8080/",
          "height": 35
        },
        "outputId": "5683129d-50e9-42f7-ac3f-69d594be4e51"
      },
      "source": [
        "my_nlist = NumericalList([1, 6, 1, 12])\n",
        "my_nlist.size"
      ],
      "execution_count": null,
      "outputs": [
        {
          "output_type": "execute_result",
          "data": {
            "text/plain": [
              "4"
            ]
          },
          "metadata": {
            "tags": []
          },
          "execution_count": 52
        }
      ]
    },
    {
      "cell_type": "markdown",
      "metadata": {
        "id": "HQNfkwnb0Th7",
        "colab_type": "text"
      },
      "source": [
        "---"
      ]
    },
    {
      "cell_type": "code",
      "metadata": {
        "id": "PsKqVocd0Vm0",
        "colab_type": "code",
        "colab": {
          "base_uri": "https://localhost:8080/",
          "height": 35
        },
        "outputId": "c5690ef5-c8c1-40b0-d4ea-972fa0ecb374"
      },
      "source": [
        "class NumericalList(list):\n",
        "    def mean(self):\n",
        "        return sum(self)/len(self)\n",
        "    \n",
        "    @property\n",
        "    def size(self):\n",
        "        return len(self)\n",
        "    \n",
        "    def __add__(self, other):\n",
        "        return [x+y for x, y in zip(self, other)]\n",
        "    def __sub__(self, other):\n",
        "        return [x-y for x, y in zip(self, other)]\n",
        "    def __mul__(self, factor):\n",
        "        return [x*factor for x in self]\n",
        "    def __truediv__(self, factor):\n",
        "        return [x/factor for x in self]\n",
        "    def __neg__(self):\n",
        "        return [-x for x in self]\n",
        "\n",
        "list1 = NumericalList([1, 6, 1, 12])\n",
        "list2 = NumericalList([4, 3, 7, 9])\n",
        "\n",
        "# list1+list2\n",
        "list1-list2\n",
        "# list1*5\n",
        "# list1/5\n",
        "# -list1"
      ],
      "execution_count": 59,
      "outputs": [
        {
          "output_type": "execute_result",
          "data": {
            "text/plain": [
              "[-3, 3, -6, 3]"
            ]
          },
          "metadata": {
            "tags": []
          },
          "execution_count": 59
        }
      ]
    },
    {
      "cell_type": "markdown",
      "metadata": {
        "id": "tvhXFvyh0Uhh",
        "colab_type": "text"
      },
      "source": [
        "---"
      ]
    },
    {
      "cell_type": "markdown",
      "metadata": {
        "id": "E6z4qCDVODYg",
        "colab_type": "text"
      },
      "source": [
        "Let's create another custom class. This one will be designed for representing a sequence of voltage samples, like those obtained in electrophysiology experiments. The `mean()` function and `size` property of our `NumericalList` class will be useful, so let's build another subclass, but this time instead of subclassing `list`, we'll subclass `NumericalList`. Let's call this new class `VoltageSignal`, and we'll begin with nothing added (just using `pass` again):"
      ]
    },
    {
      "cell_type": "code",
      "metadata": {
        "id": "6_DxNpd0UgcW",
        "colab_type": "code",
        "colab": {}
      },
      "source": [
        "class VoltageSignal(NumericalList):\n",
        "    pass # do nothing new"
      ],
      "execution_count": null,
      "outputs": []
    },
    {
      "cell_type": "code",
      "metadata": {
        "id": "5JBsNmNMVFJd",
        "colab_type": "code",
        "colab": {
          "base_uri": "https://localhost:8080/",
          "height": 53
        },
        "outputId": "7c663d4b-ab08-43d0-aeb9-2ea74a537e46"
      },
      "source": [
        "my_sig = VoltageSignal([1, 6, 1, 12])\n",
        "print(my_sig)\n",
        "print(type(my_sig))"
      ],
      "execution_count": null,
      "outputs": [
        {
          "output_type": "stream",
          "text": [
            "[1, 6, 1, 12]\n",
            "<class '__main__.VoltageSignal'>\n"
          ],
          "name": "stdout"
        }
      ]
    },
    {
      "cell_type": "markdown",
      "metadata": {
        "id": "s4BHlKLsVP-j",
        "colab_type": "text"
      },
      "source": [
        "Voltages could be represented with different units, like millivolts or microvolts, so it would be useful for our class to store the units when it is created, allowing that information to be accessed later. We should require that information at the time the `VoltageSignal` is created.\n",
        "\n",
        "**TODO: Explain double underscore methods and initialization...**"
      ]
    },
    {
      "cell_type": "code",
      "metadata": {
        "id": "xzh2v1LhV-xi",
        "colab_type": "code",
        "colab": {}
      },
      "source": [
        "class VoltageSignal(NumericalList):\n",
        "    def __init__(self, data):\n",
        "        super().__init__(data)"
      ],
      "execution_count": null,
      "outputs": []
    },
    {
      "cell_type": "code",
      "metadata": {
        "id": "x1Ww-q2SWHXN",
        "colab_type": "code",
        "colab": {
          "base_uri": "https://localhost:8080/",
          "height": 53
        },
        "outputId": "a1ed567b-58a8-4c34-ea3f-167b92a3bb15"
      },
      "source": [
        "my_sig = VoltageSignal([1, 6, 1, 12])\n",
        "print(my_sig)\n",
        "print(type(my_sig))"
      ],
      "execution_count": null,
      "outputs": [
        {
          "output_type": "stream",
          "text": [
            "[1, 6, 1, 12]\n",
            "<class '__main__.VoltageSignal'>\n"
          ],
          "name": "stdout"
        }
      ]
    },
    {
      "cell_type": "markdown",
      "metadata": {
        "id": "rJvlUwipX2F_",
        "colab_type": "text"
      },
      "source": [
        "So far we haven't done anything new. We've merely set the table for introducing new things. Let's now require that a second argument is provided after the numerical data, and let's store it as the `units` attribute."
      ]
    },
    {
      "cell_type": "code",
      "metadata": {
        "id": "WzlHImiGYHo9",
        "colab_type": "code",
        "colab": {}
      },
      "source": [
        "class VoltageSignal(NumericalList):\n",
        "    def __init__(self, data, units):\n",
        "        super().__init__(data)\n",
        "        self.units = units"
      ],
      "execution_count": null,
      "outputs": []
    },
    {
      "cell_type": "code",
      "metadata": {
        "colab_type": "code",
        "id": "geF-ZEk4YQyG",
        "colab": {
          "base_uri": "https://localhost:8080/",
          "height": 53
        },
        "outputId": "0ed030f5-db7f-4a23-ebf8-7c1ed824777a"
      },
      "source": [
        "my_sig = VoltageSignal([1, 6, 1, 12], 'mV')\n",
        "print(my_sig)\n",
        "print(my_sig.units)"
      ],
      "execution_count": null,
      "outputs": [
        {
          "output_type": "stream",
          "text": [
            "[1, 6, 1, 12]\n",
            "mV\n"
          ],
          "name": "stdout"
        }
      ]
    },
    {
      "cell_type": "markdown",
      "metadata": {
        "id": "_ERpGAExYZxT",
        "colab_type": "text"
      },
      "source": [
        "Let's do something useful with the units by adding a method that can convert between millivolts and microvolts, or vice versa. We'll have it change the values in place."
      ]
    },
    {
      "cell_type": "code",
      "metadata": {
        "id": "uPQRa1TrYkdy",
        "colab_type": "code",
        "colab": {}
      },
      "source": [
        "class VoltageSignal(NumericalList):\n",
        "    def __init__(self, data, units):\n",
        "        super().__init__(data)\n",
        "        self.units = units\n",
        "    \n",
        "    def convert(self, new_units):\n",
        "        if self.units == 'mV' and new_units == 'uV':\n",
        "            factor = 1000\n",
        "        elif self.units == 'uV' and new_units == 'mV':\n",
        "            factor = 1/1000\n",
        "        else:\n",
        "            print('bad units!')\n",
        "            return\n",
        "        new_data = [x*factor for x in self]\n",
        "        return VoltageSignal(new_data, new_units)"
      ],
      "execution_count": null,
      "outputs": []
    },
    {
      "cell_type": "code",
      "metadata": {
        "id": "1kcQk173ZV-Z",
        "colab_type": "code",
        "colab": {
          "base_uri": "https://localhost:8080/",
          "height": 53
        },
        "outputId": "f0263574-1012-4659-ac15-5213f7ba44a0"
      },
      "source": [
        "my_sig = VoltageSignal([1, 6, 1, 12], 'mV')\n",
        "my_sig_converted = my_sig.convert('uV')\n",
        "print(my_sig_converted)\n",
        "print(my_sig_converted.units)"
      ],
      "execution_count": null,
      "outputs": [
        {
          "output_type": "stream",
          "text": [
            "[1000, 6000, 1000, 12000]\n",
            "uV\n"
          ],
          "name": "stdout"
        }
      ]
    },
    {
      "cell_type": "code",
      "metadata": {
        "id": "guwwP_cEaatF",
        "colab_type": "code",
        "colab": {
          "base_uri": "https://localhost:8080/",
          "height": 53
        },
        "outputId": "2167a5df-e5bf-4574-b4aa-07a5b664769f"
      },
      "source": [
        "my_sig = VoltageSignal([1, 6, 1, 12], 'uV')\n",
        "my_sig_converted = my_sig.convert('mV')\n",
        "print(my_sig_converted)\n",
        "print(my_sig_converted.units)"
      ],
      "execution_count": null,
      "outputs": [
        {
          "output_type": "stream",
          "text": [
            "[0.001, 0.006, 0.001, 0.012]\n",
            "mV\n"
          ],
          "name": "stdout"
        }
      ]
    },
    {
      "cell_type": "markdown",
      "metadata": {
        "id": "X5P6Zvxdau60",
        "colab_type": "text"
      },
      "source": [
        "We still have access to the methods inherited from `NumericalList`."
      ]
    },
    {
      "cell_type": "code",
      "metadata": {
        "id": "jeHaAmD7at9E",
        "colab_type": "code",
        "colab": {
          "base_uri": "https://localhost:8080/",
          "height": 35
        },
        "outputId": "8d807577-2f6f-43dc-d716-a8d24c200294"
      },
      "source": [
        "print(f'The mean voltage is {my_sig.mean()} {my_sig.units}. This is equivalent to {my_sig_converted.mean()} {my_sig_converted.units}.')"
      ],
      "execution_count": null,
      "outputs": [
        {
          "output_type": "stream",
          "text": [
            "The mean voltage is 5.0 uV. This is equivalent to 0.005 mV.\n"
          ],
          "name": "stdout"
        }
      ]
    },
    {
      "cell_type": "markdown",
      "metadata": {
        "id": "J-jQRs3zsbw2",
        "colab_type": "text"
      },
      "source": [
        "---"
      ]
    },
    {
      "cell_type": "markdown",
      "metadata": {
        "id": "kW-Jw1uVlMy7",
        "colab_type": "text"
      },
      "source": [
        "## IPython \"Magics\" and Extra Features"
      ]
    },
    {
      "cell_type": "markdown",
      "metadata": {
        "id": "48d6nvbyPfw5",
        "colab_type": "text"
      },
      "source": [
        "We have already seen that `%whos` can be used to list symbols and their values, and `?` can be used to display documentation. Neither of these are technically part of the Python language but are instead extra features added by IPython (\"Interactive Python\"), which is a system that Jupyter notebooks are built on top of. These extra features are sometimes refered to as \"IPython magics\"."
      ]
    },
    {
      "cell_type": "code",
      "metadata": {
        "id": "PPCn9fn-lcND",
        "colab_type": "code",
        "colab": {
          "base_uri": "https://localhost:8080/",
          "height": 35
        },
        "outputId": "ccc1fc67-9849-4008-a2ad-7ba1e436e7a4"
      },
      "source": [
        "# use _ to access the most recent result\n",
        "x = 4\n",
        "x"
      ],
      "execution_count": null,
      "outputs": [
        {
          "output_type": "execute_result",
          "data": {
            "text/plain": [
              "4"
            ]
          },
          "metadata": {
            "tags": []
          },
          "execution_count": 121
        }
      ]
    },
    {
      "cell_type": "code",
      "metadata": {
        "id": "qDBMsYsKlshv",
        "colab_type": "code",
        "colab": {
          "base_uri": "https://localhost:8080/",
          "height": 35
        },
        "outputId": "3f4b5007-109a-415d-a687-e91be568a18b"
      },
      "source": [
        "_ + 1"
      ],
      "execution_count": null,
      "outputs": [
        {
          "output_type": "execute_result",
          "data": {
            "text/plain": [
              "5"
            ]
          },
          "metadata": {
            "tags": []
          },
          "execution_count": 122
        }
      ]
    },
    {
      "cell_type": "code",
      "metadata": {
        "id": "UTh1SUdOhUhE",
        "colab_type": "code",
        "colab": {
          "base_uri": "https://localhost:8080/",
          "height": 144
        },
        "outputId": "7542a302-6bb0-4d40-b255-916c8aa9fbd0"
      },
      "source": [
        "# use ! to drop out of Python and into a system shell (command line)\n",
        "! ls /"
      ],
      "execution_count": null,
      "outputs": [
        {
          "output_type": "stream",
          "text": [
            "bin\t\t\t\t\t   etc\t  opt\t sys\n",
            "boot\t\t\t\t\t   home   proc\t tensorflow-1.15.2\n",
            "content\t\t\t\t\t   lib\t  root\t tmp\n",
            "datalab\t\t\t\t\t   lib32  run\t tools\n",
            "dev\t\t\t\t\t   lib64  sbin\t usr\n",
            "dlib-19.18.0-cp27-cp27mu-linux_x86_64.whl  media  srv\t var\n",
            "dlib-19.18.0-cp36-cp36m-linux_x86_64.whl   mnt\t  swift\n"
          ],
          "name": "stdout"
        }
      ]
    },
    {
      "cell_type": "code",
      "metadata": {
        "id": "3OcbWtmlhUVY",
        "colab_type": "code",
        "colab": {}
      },
      "source": [
        ""
      ],
      "execution_count": null,
      "outputs": []
    },
    {
      "cell_type": "code",
      "metadata": {
        "id": "EoXN8xFdmwyK",
        "colab_type": "code",
        "colab": {}
      },
      "source": [
        ""
      ],
      "execution_count": null,
      "outputs": []
    },
    {
      "cell_type": "code",
      "metadata": {
        "id": "zzAI0D6lmwky",
        "colab_type": "code",
        "colab": {}
      },
      "source": [
        ""
      ],
      "execution_count": null,
      "outputs": []
    },
    {
      "cell_type": "code",
      "metadata": {
        "id": "2AduIZEamwWG",
        "colab_type": "code",
        "colab": {}
      },
      "source": [
        ""
      ],
      "execution_count": null,
      "outputs": []
    },
    {
      "cell_type": "code",
      "metadata": {
        "id": "bvJM0ts6mwI7",
        "colab_type": "code",
        "colab": {}
      },
      "source": [
        ""
      ],
      "execution_count": null,
      "outputs": []
    },
    {
      "cell_type": "code",
      "metadata": {
        "id": "Hlnov2M8hUJG",
        "colab_type": "code",
        "colab": {}
      },
      "source": [
        ""
      ],
      "execution_count": null,
      "outputs": []
    },
    {
      "cell_type": "markdown",
      "metadata": {
        "id": "0Pj6wO9ZnQ-I",
        "colab_type": "text"
      },
      "source": [
        "---\n",
        "\n",
        "## Topics for First Lession(s)\n",
        "\n",
        "* Variables in general\n",
        "    * Not declared, not explicitly typed\n",
        "    * Ints and decimals interchangeable\n",
        "    * x += 1\n",
        "    * strings, concatenation with + or join()\n",
        "        * ' '.join() uses attribute notation with a period\n",
        "    * print(), f-strings\n",
        "* Lists\n",
        "    * Can hold inhomogeneous objects, not explicitly typed\n",
        "    * list() and []\n",
        "    * One-dimensional\n",
        "    * Access by index\n",
        "        * Works for strings too\n",
        "    * Slicing\n",
        "    * list(range()), really a generator\n",
        "    * List comprehension\n",
        "* Dictionaries\n",
        "    * Again not typed\n",
        "    * Access by key\n",
        "    * dict() and {}\n",
        "    * Dictionary comprehension\n",
        "* Tuples\n",
        "    * Immutable, usable as dict keys\n",
        "    * tuple()\n",
        "\n",
        "* \"Pythonic\"\n",
        "    * The Zen of Python\n",
        "    * Example: traditional for-loop vs comprehension\n",
        "        * for, in keywords\n",
        "            * get fancy with zip()\n",
        "\n",
        "* Whitespace, trailing commas, comments\n",
        "\n",
        "* Built-in functions and keywords\n",
        "    * and, or, not, is, ==, True, False, None\n",
        "    * round(), int(), float(), abs(), len()\n",
        "    * input()\n",
        "    * with open() as f\n",
        "    * help() and the official documentation (always check version)\n",
        "\n",
        "* IPython magic / extra features\n",
        "    * %whos\n",
        "    * _ for last output\n",
        "    * ? for help\n",
        "    * ! for shell\n",
        "\n",
        "* Creating functions, classes\n",
        "    * Variable scope\n",
        "    * Object oriented programming with classes\n",
        "        * Object attributes\n",
        "\n",
        "* Modules, imports, packages\n",
        "    * import this (Zen of Python)\n",
        "    * import antigravity (xkcd)\n",
        "    * Namespaces\n",
        "        * from foo import *\n",
        "    * Standard libraries\n",
        "        * math, random, os, sys, io\n",
        "\n",
        "* Creating a program\n",
        "\n",
        "* Debugging errors, exceptions, try/except\n",
        "\n",
        "* Python 2 vs 3\n",
        "\n",
        "## Advanced Lessions\n",
        "\n",
        "* Numpy\n",
        "* pandas\n",
        "    * reading and writing data\n",
        "* matplotlib\n",
        "    * exporting plots\n",
        "* Neo, quantities\n",
        "* neurotic\n",
        "* Version control, Git, GitHub\n",
        "* Command line, IDE, Spyder, notebooks\n",
        "\n",
        "---"
      ]
    },
    {
      "cell_type": "markdown",
      "metadata": {
        "id": "ywlbOi3FUWgK",
        "colab_type": "text"
      },
      "source": [
        "## External Resources"
      ]
    },
    {
      "cell_type": "markdown",
      "metadata": {
        "id": "Nl36l9SJSGG9",
        "colab_type": "text"
      },
      "source": [
        "The official language documentation:\n",
        "\n",
        "* [Python 3 documentation](https://docs.python.org/3/index.html)\n",
        "* [Built-in functions](https://docs.python.org/3/library/functions.html)\n",
        "* [Standard libraries](https://docs.python.org/3/library/index.html)\n",
        "* [Glossary of terms](https://docs.python.org/3/glossary.html)\n",
        "* [In-depth tutorial](https://docs.python.org/3/tutorial/index.html)\n",
        "\n",
        "Extended language documentation:\n",
        "* [IPython (Jupyter) vs. Python differences](https://ipython.readthedocs.io/en/stable/interactive/python-ipython-diff.html)\n",
        "* [IPython (Jupyter) \"magic\" (`%`) commands](https://ipython.readthedocs.io/en/stable/interactive/magics.html)\n",
        "\n",
        "Free interactive books created by Jake VanderPlas:\n",
        "\n",
        "* [A Whirlwind Tour of Python](https://colab.research.google.com/github/jakevdp/WhirlwindTourOfPython/blob/master/Index.ipynb) [[PDF version]](https://www.oreilly.com/programming/free/files/a-whirlwind-tour-of-python.pdf)\n",
        "* [Python Data Science Handbook](https://colab.research.google.com/github/jakevdp/PythonDataScienceHandbook/blob/master/notebooks/Index.ipynb)"
      ]
    },
    {
      "cell_type": "markdown",
      "metadata": {
        "id": "c07TBHdokweE",
        "colab_type": "text"
      },
      "source": [
        "# Continue to the Next Lesson\n",
        "\n",
        "Return to home to continue to the next lession:\n",
        "\n",
        "https://jpgill86.github.io/python-for-neuroscientists/"
      ]
    },
    {
      "cell_type": "markdown",
      "metadata": {
        "id": "n-KhMl8xk1Ze",
        "colab_type": "text"
      },
      "source": [
        "# License\n",
        "\n",
        "[This work](https://github.com/jpgill86/python-for-neuroscientists) is licensed under a [Creative Commons Attribution 4.0 International\n",
        "License](http://creativecommons.org/licenses/by/4.0/)."
      ]
    }
  ]
}