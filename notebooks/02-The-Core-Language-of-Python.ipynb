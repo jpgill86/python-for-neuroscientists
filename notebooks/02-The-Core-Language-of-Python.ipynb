{
  "nbformat": 4,
  "nbformat_minor": 0,
  "metadata": {
    "colab": {
      "name": "02-The-Core-Language-of-Python.ipynb",
      "provenance": [],
      "collapsed_sections": [],
      "authorship_tag": "ABX9TyMSSw7e+G112KHWJSotuUVU",
      "include_colab_link": true
    },
    "kernelspec": {
      "name": "python3",
      "display_name": "Python 3"
    }
  },
  "cells": [
    {
      "cell_type": "markdown",
      "metadata": {
        "id": "view-in-github",
        "colab_type": "text"
      },
      "source": [
        "<a href=\"https://colab.research.google.com/github/jpgill86/python-for-neuroscientists/blob/master/notebooks/02-The-Core-Language-of-Python.ipynb\" target=\"_parent\"><img src=\"https://colab.research.google.com/assets/colab-badge.svg\" alt=\"Open In Colab\"/></a>"
      ]
    },
    {
      "cell_type": "markdown",
      "metadata": {
        "id": "QRtgy8QlUJSM",
        "colab_type": "text"
      },
      "source": [
        "# The Core Language of Python"
      ]
    },
    {
      "cell_type": "markdown",
      "metadata": {
        "id": "EKEQe-jELmlJ",
        "colab_type": "text"
      },
      "source": [
        "This notebook will be primarily focused on \"vanilla\" Python. That is, the core language will be showcased, but third-party libraries (like NumPy, Pandas, Matplotlib) will be discussed elsewhere. This notebook is all about what the basic language can do.\n",
        "\n",
        "That said, there are a some extra features available in Jupyter notebooks that are not part of the core language but which will be useful to introduce here. These will be sprinked in where appropriate."
      ]
    },
    {
      "cell_type": "markdown",
      "metadata": {
        "id": "EzxgjskbI3aP",
        "colab_type": "text"
      },
      "source": [
        "## Getting Help While Coding"
      ]
    },
    {
      "cell_type": "markdown",
      "metadata": {
        "id": "OJm7JzuhJGI3",
        "colab_type": "text"
      },
      "source": [
        "Even veteran Python programmers need to look things up sometimes! As you work through this notebook and start to write your own code, keep these tips in mind:\n",
        "\n",
        "* Python has a built-in documentation system, which is accessed using the `help()` function. For example, `help(print)` or `help(str)` can give you more information about functions and data types (try it!). You can use it on variables that have been defined in your code as well.\n",
        "\n",
        "* In Jupyter notebooks, you can get some of the same information (often with fewer technical details) to appear in a separate \"Help\" tab by using the special `?` symbol, which can be placed before or immediately after a name. For examples, try `? print` or `max?`.\n",
        "\n",
        "* The online, official documentation is great for in-depth, definitive information: [https://docs.python.org](https://docs.python.org)\n",
        "\n",
        "* Googling with the right search terms, like \"python list slicing\", will get you very far in life. Just be aware that results for older versions of Python, especially Python 2, may come up and no longer be correct. To check the version of Python you are using, just run this code:"
      ]
    },
    {
      "cell_type": "code",
      "metadata": {
        "id": "aBJ8DWQDNFGs",
        "colab_type": "code",
        "colab": {
          "base_uri": "https://localhost:8080/",
          "height": 54
        },
        "outputId": "b1966271-508a-420d-bfdf-20d98c8ff849"
      },
      "source": [
        "from sys import version\n",
        "print(version)"
      ],
      "execution_count": 1,
      "outputs": [
        {
          "output_type": "stream",
          "text": [
            "3.6.9 (default, Apr 18 2020, 01:56:04) \n",
            "[GCC 8.4.0]\n"
          ],
          "name": "stdout"
        }
      ]
    },
    {
      "cell_type": "markdown",
      "metadata": {
        "id": "di2Gq7cVXOM_",
        "colab_type": "text"
      },
      "source": [
        "## Comments"
      ]
    },
    {
      "cell_type": "markdown",
      "metadata": {
        "id": "lg_S4UTWXQpw",
        "colab_type": "text"
      },
      "source": [
        "In Python, the `#` character indicates the start of a **comment**. Everything on a line of code that comes after a `#` character is ignored by the computer.\n",
        "\n",
        "> *Aside: Colab allows you to attach notes to cells, which are confusingly also called \"comments\". These are not the same thing as code comments.*\n",
        "\n",
        "Code comments have two purposes:\n",
        "\n",
        "* Comments allow you to include explanations of how the code works. This is an essential habit every programmer should develop: **write helpful comments in your code**. This helps others understand how your code works. This (especially) includes *future-you*!\n",
        "* You can **reversibly disable** a line of code by putting a `#` character at the start. When developing code, this is very useful.\n",
        "\n",
        "Here's a trivial example of an explanatory comment:"
      ]
    },
    {
      "cell_type": "code",
      "metadata": {
        "id": "mYSE5BYnZsgS",
        "colab_type": "code",
        "colab": {
          "base_uri": "https://localhost:8080/",
          "height": 35
        },
        "outputId": "45c8721b-7f69-408d-8747-ce781e71624e"
      },
      "source": [
        "# calculate one plus one\n",
        "1 + 1"
      ],
      "execution_count": 2,
      "outputs": [
        {
          "output_type": "execute_result",
          "data": {
            "text/plain": [
              "2"
            ]
          },
          "metadata": {
            "tags": []
          },
          "execution_count": 2
        }
      ]
    },
    {
      "cell_type": "markdown",
      "metadata": {
        "id": "NZndinzxZ6km",
        "colab_type": "text"
      },
      "source": [
        "Notice the comment is easily distinguishable by its color.\n",
        "\n",
        "Colab provides a very useful keyboard shortcut for adding and removing the `#` symbol from the current line of code, or many lines at once if you select them first: Ctrl+/ (Cmd+/ on Mac).\n",
        "\n",
        "Try placing your cursor in the code cell below and toggling the comment state of the line using the keyboard shortcut:"
      ]
    },
    {
      "cell_type": "code",
      "metadata": {
        "id": "6503wDsMcUzq",
        "colab_type": "code",
        "colab": {}
      },
      "source": [
        "# 1 + 1"
      ],
      "execution_count": 3,
      "outputs": []
    },
    {
      "cell_type": "markdown",
      "metadata": {
        "id": "iYTNC1UTQRTZ",
        "colab_type": "text"
      },
      "source": [
        "## Variables and Operators"
      ]
    },
    {
      "cell_type": "markdown",
      "metadata": {
        "id": "WA2OomvOQXY8",
        "colab_type": "text"
      },
      "source": [
        "Data can be stored in variables using `=`. Try executing the two code cells below in order to first store the value `2` in the variable `x` and then to display the contents of `x`."
      ]
    },
    {
      "cell_type": "code",
      "metadata": {
        "id": "e_2GYieLLBV5",
        "colab_type": "code",
        "colab": {}
      },
      "source": [
        "# store 2 in x\n",
        "x = 1 + 1"
      ],
      "execution_count": 4,
      "outputs": []
    },
    {
      "cell_type": "code",
      "metadata": {
        "id": "MYMDjVCbK15F",
        "colab_type": "code",
        "colab": {
          "base_uri": "https://localhost:8080/",
          "height": 35
        },
        "outputId": "f02a7d1c-cc84-472d-9291-6bc83681cd91"
      },
      "source": [
        "# output the value of x\n",
        "x"
      ],
      "execution_count": 5,
      "outputs": [
        {
          "output_type": "execute_result",
          "data": {
            "text/plain": [
              "2"
            ]
          },
          "metadata": {
            "tags": []
          },
          "execution_count": 5
        }
      ]
    },
    {
      "cell_type": "markdown",
      "metadata": {
        "id": "9q9mptu_OaEm",
        "colab_type": "text"
      },
      "source": [
        "In Jupyter notebooks, you can list all of the variables (and functions, classes, imported modules) that you have defined, along with their values, using the \"magic\" command `%whos`:"
      ]
    },
    {
      "cell_type": "code",
      "metadata": {
        "id": "_N4utwwnKmcd",
        "colab_type": "code",
        "colab": {
          "base_uri": "https://localhost:8080/",
          "height": 90
        },
        "outputId": "c41d36b0-bf97-459b-88f4-8c1ec71d11a1"
      },
      "source": [
        "# remember this one -- it is super useful!\n",
        "%whos"
      ],
      "execution_count": 6,
      "outputs": [
        {
          "output_type": "stream",
          "text": [
            "Variable   Type    Data/Info\n",
            "----------------------------\n",
            "version    str     3.6.9 (default, Apr 18 20<...>, 01:56:04) \\n[GCC 8.4.0]\n",
            "x          int     2\n"
          ],
          "name": "stdout"
        }
      ]
    },
    {
      "cell_type": "markdown",
      "metadata": {
        "id": "SxwD_4d3Rp57",
        "colab_type": "text"
      },
      "source": [
        "You can check a variable's type using the built-in `type()` function:"
      ]
    },
    {
      "cell_type": "code",
      "metadata": {
        "id": "4J1xA6H1S7GI",
        "colab_type": "code",
        "colab": {
          "base_uri": "https://localhost:8080/",
          "height": 35
        },
        "outputId": "e8c28a0e-2f3c-4912-95d7-ed9821b22f7c"
      },
      "source": [
        "type(x)"
      ],
      "execution_count": 7,
      "outputs": [
        {
          "output_type": "execute_result",
          "data": {
            "text/plain": [
              "int"
            ]
          },
          "metadata": {
            "tags": []
          },
          "execution_count": 7
        }
      ]
    },
    {
      "cell_type": "markdown",
      "metadata": {
        "id": "NFxV9GUgS86c",
        "colab_type": "text"
      },
      "source": [
        "`int` stands for \"integer\".\n",
        "\n",
        "Unlike some stricter languages, Python allows you to change the type of a variable effortlessly by assigning it a new value."
      ]
    },
    {
      "cell_type": "code",
      "metadata": {
        "id": "WfHybtGqTR7J",
        "colab_type": "code",
        "colab": {}
      },
      "source": [
        "x = 1.5"
      ],
      "execution_count": 8,
      "outputs": []
    },
    {
      "cell_type": "code",
      "metadata": {
        "id": "2qJRlmD2Tz12",
        "colab_type": "code",
        "colab": {
          "base_uri": "https://localhost:8080/",
          "height": 35
        },
        "outputId": "30c52f9e-569b-4212-ef51-e953419e63b9"
      },
      "source": [
        "type(x)"
      ],
      "execution_count": 9,
      "outputs": [
        {
          "output_type": "execute_result",
          "data": {
            "text/plain": [
              "float"
            ]
          },
          "metadata": {
            "tags": []
          },
          "execution_count": 9
        }
      ]
    },
    {
      "cell_type": "markdown",
      "metadata": {
        "id": "T7xSp41zTVOX",
        "colab_type": "text"
      },
      "source": [
        "`float` stands for \"floating point number\", which is a format that computers use to represent decimal numbers. `int` and `float` are both numeric types.\n",
        "\n",
        "Truth values are represented in Python using `True` and `False`, which have type `bool` (for \"Boolean\"). `True` and `False` must always start with capital letters. These values can be assigned to variables directly, or they can result from comparisons and tests.\n",
        "\n",
        "For example, the `==` comparison operator (double-equals; this is different from the single-equals `=` used for variable assignment!) can be used to test whether two values match. It will evaluate to either `True` or `False`.\n",
        "\n",
        "Try running the cell below twice, first with `x = 2` and a second time with `x = 1.5`. Use the keyboard shortcut for toggling comments (Ctrl+/ or Cmd+/) to switch which variable assignment is used when the cell runs."
      ]
    },
    {
      "cell_type": "code",
      "metadata": {
        "id": "04f2nV4DTkdk",
        "colab_type": "code",
        "colab": {
          "base_uri": "https://localhost:8080/",
          "height": 35
        },
        "outputId": "6bd0241d-5c50-4b4a-a192-3e4a0be6158e"
      },
      "source": [
        "x = 2\n",
        "# x = 1.5\n",
        "type(x) == int"
      ],
      "execution_count": 10,
      "outputs": [
        {
          "output_type": "execute_result",
          "data": {
            "text/plain": [
              "True"
            ]
          },
          "metadata": {
            "tags": []
          },
          "execution_count": 10
        }
      ]
    },
    {
      "cell_type": "markdown",
      "metadata": {
        "id": "aY3xfKBag32B",
        "colab_type": "text"
      },
      "source": [
        "Python can, of course, perform the other basic mathematical operations, not just addition:\n",
        "\n",
        "```python\n",
        "5 + 2   # addition        = 7\n",
        "5 - 2   # subtraction     = 3\n",
        "5 * 2   # multiplication  = 10\n",
        "5 / 2   # division        = 2.5\n",
        "5 ** 2  # exponentiation  = 25\n",
        "        # (do NOT use ^ for exponentiation, it does something very different!)\n",
        "\n",
        "5 // 2  # integer division (drop remainder)  = 2\n",
        "5 % 2   # modulus (remainder)                = 1\n",
        "```\n",
        "\n",
        "Python has many more comparison operators:\n",
        "\n",
        "```python\n",
        "x = 2      # assign 2 to x\n",
        "t = True   # assign True to t\n",
        "f = False  # assign False to f\n",
        "\n",
        "x == 2     # equal                  = True\n",
        "x != 2     # not equal              = False\n",
        "x > 2      # greater than           = False\n",
        "x < 2      # less than              = False\n",
        "x >= 2     # greater than or equal  = True\n",
        "x <= 2     # less than or equal     = True\n",
        "\n",
        "t and f    # both true              = False\n",
        "t or f     # either true            = True\n",
        "not t      # negation               = False\n",
        "not f      #                        = True\n",
        "```"
      ]
    },
    {
      "cell_type": "markdown",
      "metadata": {
        "id": "ltks2-ABKx1c",
        "colab_type": "text"
      },
      "source": [
        "## Printing"
      ]
    },
    {
      "cell_type": "markdown",
      "metadata": {
        "id": "aXQC7_bXK13G",
        "colab_type": "text"
      },
      "source": [
        "To display the value of a variable or the result of a calculation, you can simply write the variable name or perform the calculation as the last thing in a code cell. For example:"
      ]
    },
    {
      "cell_type": "code",
      "metadata": {
        "id": "JNgiUIoKK06g",
        "colab_type": "code",
        "colab": {
          "base_uri": "https://localhost:8080/",
          "height": 35
        },
        "outputId": "f4820071-78de-4c0d-9cc2-d7e56fe9a7e2"
      },
      "source": [
        "x = 1 + 1\n",
        "x"
      ],
      "execution_count": 11,
      "outputs": [
        {
          "output_type": "execute_result",
          "data": {
            "text/plain": [
              "2"
            ]
          },
          "metadata": {
            "tags": []
          },
          "execution_count": 11
        }
      ]
    },
    {
      "cell_type": "markdown",
      "metadata": {
        "id": "RrCbYTOZLpfX",
        "colab_type": "text"
      },
      "source": [
        "If you try to do this with multiple variables or calculations, only the last will be displayed automatically:"
      ]
    },
    {
      "cell_type": "code",
      "metadata": {
        "id": "TYCxagQjLnCv",
        "colab_type": "code",
        "colab": {
          "base_uri": "https://localhost:8080/",
          "height": 35
        },
        "outputId": "579310af-ae1c-4bcd-9338-908029d744d6"
      },
      "source": [
        "x = 1 + 1\n",
        "y = x + 1\n",
        "\n",
        "x\n",
        "y"
      ],
      "execution_count": 12,
      "outputs": [
        {
          "output_type": "execute_result",
          "data": {
            "text/plain": [
              "3"
            ]
          },
          "metadata": {
            "tags": []
          },
          "execution_count": 12
        }
      ]
    },
    {
      "cell_type": "markdown",
      "metadata": {
        "id": "ia2rpRTAL2Z6",
        "colab_type": "text"
      },
      "source": [
        "To display multiple things as a result of running one code cell, you can use the `print()` function:"
      ]
    },
    {
      "cell_type": "code",
      "metadata": {
        "id": "l0kZmZHrMFmC",
        "colab_type": "code",
        "colab": {
          "base_uri": "https://localhost:8080/",
          "height": 90
        },
        "outputId": "8fa08203-86cf-4efa-bf8e-97edb38d603f"
      },
      "source": [
        "print(x)\n",
        "print(y)\n",
        "\n",
        "z = y + 1\n",
        "\n",
        "print(z)\n",
        "print(z + 1)"
      ],
      "execution_count": 13,
      "outputs": [
        {
          "output_type": "stream",
          "text": [
            "2\n",
            "3\n",
            "4\n",
            "5\n"
          ],
          "name": "stdout"
        }
      ]
    },
    {
      "cell_type": "markdown",
      "metadata": {
        "id": "o3tAb3nZnzYb",
        "colab_type": "text"
      },
      "source": [
        "## Strings"
      ]
    },
    {
      "cell_type": "markdown",
      "metadata": {
        "id": "J7GJkDWroVj9",
        "colab_type": "text"
      },
      "source": [
        "Variables containing text are called strings and have type `str`. Strings can be enclosed by either double quotes (`\"\"`) or single quotes (`''`). Which you use often comes down to personal preference."
      ]
    },
    {
      "cell_type": "code",
      "metadata": {
        "id": "-usEh06mz-cf",
        "colab_type": "code",
        "colab": {
          "base_uri": "https://localhost:8080/",
          "height": 35
        },
        "outputId": "78014c20-4b36-48ce-e048-0811857df98d"
      },
      "source": [
        "genus = \"Aplysia\"\n",
        "species = 'californica'\n",
        "\n",
        "type(genus)"
      ],
      "execution_count": 14,
      "outputs": [
        {
          "output_type": "execute_result",
          "data": {
            "text/plain": [
              "str"
            ]
          },
          "metadata": {
            "tags": []
          },
          "execution_count": 14
        }
      ]
    },
    {
      "cell_type": "markdown",
      "metadata": {
        "id": "RLDRIAgh2fOj",
        "colab_type": "text"
      },
      "source": [
        "Multi-line strings can be constructed using three quote marks (either `\"\"\"` or `'''`). Inside of a **triple quoted string**, including a backslash (`\\`) at the end of a line will cause the line break immediately following it to be ignored.\n",
        "\n",
        "In the example below, a backslash is included at the end of the first line so that the string will not begin with an empty line. Also, the string is printed using `print()`, instead of just displayed by naming the variable, so that the line breaks will display properly."
      ]
    },
    {
      "cell_type": "code",
      "metadata": {
        "id": "N6kaB_xP2Ieh",
        "colab_type": "code",
        "colab": {
          "base_uri": "https://localhost:8080/",
          "height": 146
        },
        "outputId": "cce4965d-c707-4a4d-929c-f592fe64396c"
      },
      "source": [
        "long_string = \"\"\"\\\n",
        "Strange women lying in ponds\n",
        "distributing swords is no basis\n",
        "for a system of government!\n",
        "Supreme executive power derives\n",
        "from a mandate from the masses,\n",
        "not from some farcical aquatic\n",
        "ceremony!\"\"\"\n",
        "\n",
        "print(long_string)"
      ],
      "execution_count": 15,
      "outputs": [
        {
          "output_type": "stream",
          "text": [
            "Strange women lying in ponds\n",
            "distributing swords is no basis\n",
            "for a system of government!\n",
            "Supreme executive power derives\n",
            "from a mandate from the masses,\n",
            "not from some farcical aquatic\n",
            "ceremony!\n"
          ],
          "name": "stdout"
        }
      ]
    },
    {
      "cell_type": "markdown",
      "metadata": {
        "id": "yIB_zDeJ5ZIh",
        "colab_type": "text"
      },
      "source": [
        "> *Aside: The Python language is named after the British comedy troupe \"Monty Python\", and the text above is a quote from their 1975 film \"Monty Python and the Holy Grail\". You will not learn much about programming by watching it, but I still highly recommend it.*\n",
        "\n",
        "Including a literal apostrophe (`'`) or quotation mark (`\"`) inside your string can cause a problem if Python misinterprets the character as terminating your string. You can avoid this problem by either using the other type of quote to enclose your string, or by using a backslash to \"escape\" the literal punctuation mark, which tells Python to not interpret the character as terminating the string. That is, Python will interpret `\\'` and `\\\"` as just punctuation in a string, rather than the end of the string."
      ]
    },
    {
      "cell_type": "code",
      "metadata": {
        "id": "u1IAYrpQ9y_7",
        "colab_type": "code",
        "colab": {
          "base_uri": "https://localhost:8080/",
          "height": 54
        },
        "outputId": "52e8fb02-e0b8-4832-dc4d-872f12477cf3"
      },
      "source": [
        "# option 1: enclose the string in double quotes\n",
        "# so that the apostrophe is not misinterpreted\n",
        "string1 = \"The slug's ink ain't pink.\"\n",
        "\n",
        "# option 2: use a backslash to escape the apostrophe\n",
        "string2 = 'The slug\\'s ink ain\\'t pink.'\n",
        "\n",
        "print(string1)\n",
        "print(string2)"
      ],
      "execution_count": 16,
      "outputs": [
        {
          "output_type": "stream",
          "text": [
            "The slug's ink ain't pink.\n",
            "The slug's ink ain't pink.\n"
          ],
          "name": "stdout"
        }
      ]
    },
    {
      "cell_type": "markdown",
      "metadata": {
        "id": "4g5s0sP381r8",
        "colab_type": "text"
      },
      "source": [
        "The value of a string variable can be tested with `==`. Notice that, in the following example, switching from double quotes (above, when `genus` was assigned its value) to single quotes (below) does not matter."
      ]
    },
    {
      "cell_type": "code",
      "metadata": {
        "id": "ctoPaymS0awd",
        "colab_type": "code",
        "colab": {
          "base_uri": "https://localhost:8080/",
          "height": 35
        },
        "outputId": "c28321c7-6955-42c3-d18c-d1c5216ff083"
      },
      "source": [
        "genus == 'Aplysia'"
      ],
      "execution_count": 17,
      "outputs": [
        {
          "output_type": "execute_result",
          "data": {
            "text/plain": [
              "True"
            ]
          },
          "metadata": {
            "tags": []
          },
          "execution_count": 17
        }
      ]
    },
    {
      "cell_type": "markdown",
      "metadata": {
        "id": "QhFbzs880zmB",
        "colab_type": "text"
      },
      "source": [
        "Strings can also be **concatenated**, or put together, using `+`. Here, a string containing just a space is sandwiched between two string variables:"
      ]
    },
    {
      "cell_type": "code",
      "metadata": {
        "id": "P3uCgkcl1AJS",
        "colab_type": "code",
        "colab": {
          "base_uri": "https://localhost:8080/",
          "height": 36
        },
        "outputId": "d5bd1513-f538-4ccc-c7a7-f04e811db7d4"
      },
      "source": [
        "genus + ' ' + species"
      ],
      "execution_count": 18,
      "outputs": [
        {
          "output_type": "execute_result",
          "data": {
            "application/vnd.google.colaboratory.intrinsic+json": {
              "type": "string"
            },
            "text/plain": [
              "'Aplysia californica'"
            ]
          },
          "metadata": {
            "tags": []
          },
          "execution_count": 18
        }
      ]
    },
    {
      "cell_type": "markdown",
      "metadata": {
        "id": "uY0J_AzNAnaq",
        "colab_type": "text"
      },
      "source": [
        "> *Aside: This is an example of* **operator overloading** *where the same symbol is used in different contexts to do different things. As we saw before, the `+` operator can be used to perform arithmetic addition, as well as to concatenate strings. It can also be used to join lists, as will be described below.*\n",
        "\n",
        "For more complex string manipulation, a special type of string called an **f-string** may be useful. F-strings are distinguished by the character `f` immediately preceding the enclosing quotes (either `f'...'` or `f\"...\"`). The `f` stands for \"format\", and f-strings allow you both to combine variables into a single string and to control the way numbers are displayed.\n",
        "\n",
        "In an f-string, curly braces (`{}`) may enclose the names of variables or more complex expressions, and those expressions will be evaluated to create the string. For example, the previous example combined a genus and species name with `+` symbols, but this can also be done with f-strings:"
      ]
    },
    {
      "cell_type": "code",
      "metadata": {
        "id": "3OOJGR2V0RJJ",
        "colab_type": "code",
        "colab": {
          "base_uri": "https://localhost:8080/",
          "height": 36
        },
        "outputId": "8d82ae13-bad4-43b4-de95-5749ed8818fa"
      },
      "source": [
        "f'{genus} {species}'"
      ],
      "execution_count": 19,
      "outputs": [
        {
          "output_type": "execute_result",
          "data": {
            "application/vnd.google.colaboratory.intrinsic+json": {
              "type": "string"
            },
            "text/plain": [
              "'Aplysia californica'"
            ]
          },
          "metadata": {
            "tags": []
          },
          "execution_count": 19
        }
      ]
    },
    {
      "cell_type": "markdown",
      "metadata": {
        "id": "odNiHSEVCKGg",
        "colab_type": "text"
      },
      "source": [
        "F-strings allow calculations to be performed inside of the curly braces:"
      ]
    },
    {
      "cell_type": "code",
      "metadata": {
        "id": "2oyBvwRJCJay",
        "colab_type": "code",
        "colab": {
          "base_uri": "https://localhost:8080/",
          "height": 36
        },
        "outputId": "b5c26cbd-8e08-4d30-a021-2332bb816903"
      },
      "source": [
        "x = 2\n",
        "y = 8\n",
        "\n",
        "f'{x} raised to the {y}th power is {x**y}'"
      ],
      "execution_count": 20,
      "outputs": [
        {
          "output_type": "execute_result",
          "data": {
            "application/vnd.google.colaboratory.intrinsic+json": {
              "type": "string"
            },
            "text/plain": [
              "'2 raised to the 8th power is 256'"
            ]
          },
          "metadata": {
            "tags": []
          },
          "execution_count": 20
        }
      ]
    },
    {
      "cell_type": "markdown",
      "metadata": {
        "id": "qCz9VfcaC3xg",
        "colab_type": "text"
      },
      "source": [
        "F-strings also allow numbers to be formatted just the way you want. For example, you can control how many digits after the decimal point are displayed using `{my_number:.xf}`, where `x` is the number of digits:"
      ]
    },
    {
      "cell_type": "code",
      "metadata": {
        "id": "sgf51uvcDGn2",
        "colab_type": "code",
        "colab": {
          "base_uri": "https://localhost:8080/",
          "height": 36
        },
        "outputId": "b94be291-9ada-4ffb-94ee-2ed9ad76b6d7"
      },
      "source": [
        "pi = 3.14159265358979323846\n",
        "\n",
        "f'The ratio of a circle\\'s circumferance to its diameter is {pi:.5f}'"
      ],
      "execution_count": 21,
      "outputs": [
        {
          "output_type": "execute_result",
          "data": {
            "application/vnd.google.colaboratory.intrinsic+json": {
              "type": "string"
            },
            "text/plain": [
              "\"The ratio of a circle's circumferance to its diameter is 3.14159\""
            ]
          },
          "metadata": {
            "tags": []
          },
          "execution_count": 21
        }
      ]
    },
    {
      "cell_type": "markdown",
      "metadata": {
        "id": "-lXX2habGfdh",
        "colab_type": "text"
      },
      "source": [
        "> *Aside: Prior to the addition of f-strings to Python in 2016, strings could be (and still can be) formatted using different syntax. All of these are equivalent, but f-strings tend to be, in my opinion, most readable because of their simplicity, while also being incredibly flexible:*\n",
        "```python\n",
        "genus + ' ' + species\n",
        "'%s %s' % (genus, species)\n",
        "'{} {}'.format(genus, species)\n",
        "'{g} {s}'.format(g=genus, s=species)\n",
        "f'{genus} {species}'\n",
        "```"
      ]
    },
    {
      "cell_type": "markdown",
      "metadata": {
        "id": "DyTGFNGmeJuk",
        "colab_type": "text"
      },
      "source": [
        "The built-in `str()` function can be used to convert objects of other types, such as numbers, into strings:"
      ]
    },
    {
      "cell_type": "code",
      "metadata": {
        "id": "glCFNuUDeRIJ",
        "colab_type": "code",
        "colab": {
          "base_uri": "https://localhost:8080/",
          "height": 36
        },
        "outputId": "713bca75-0a47-40d6-b571-8d18434e1c02"
      },
      "source": [
        "str(123)"
      ],
      "execution_count": 22,
      "outputs": [
        {
          "output_type": "execute_result",
          "data": {
            "application/vnd.google.colaboratory.intrinsic+json": {
              "type": "string"
            },
            "text/plain": [
              "'123'"
            ]
          },
          "metadata": {
            "tags": []
          },
          "execution_count": 22
        }
      ]
    },
    {
      "cell_type": "markdown",
      "metadata": {
        "id": "6fFMGy5af8w8",
        "colab_type": "text"
      },
      "source": [
        "## If/Else Statements"
      ]
    },
    {
      "cell_type": "markdown",
      "metadata": {
        "id": "Lju3cRiE2dow",
        "colab_type": "text"
      },
      "source": [
        "Code can be executed conditionally depending on the results of comparison operations and Boolean truth values using `if`/`else` statements.\n",
        "\n",
        "The simplest form of an `if` statement does something only if the specified condition is true. In the example below, a `print` command is executed only if `x` is positive (in this case, it is). Notice that a **colon** (`:`) terminates the condition in the line containing `if`, and the command(s) that follow are **indented**. This indentation is required and must be consistent."
      ]
    },
    {
      "cell_type": "code",
      "metadata": {
        "id": "5dRkuOnEgXdc",
        "colab_type": "code",
        "colab": {
          "base_uri": "https://localhost:8080/",
          "height": 35
        },
        "outputId": "9a7deddc-4353-4494-98c8-6111f4b6984d"
      },
      "source": [
        "x = 10\n",
        "\n",
        "if x > 0:\n",
        "    # this code will run because x > 0 is true\n",
        "    print('x is positive')"
      ],
      "execution_count": 23,
      "outputs": [
        {
          "output_type": "stream",
          "text": [
            "x is positive\n"
          ],
          "name": "stdout"
        }
      ]
    },
    {
      "cell_type": "markdown",
      "metadata": {
        "id": "N6WZc4w25b9V",
        "colab_type": "text"
      },
      "source": [
        "If the condition is not true, as below, nothing will happen."
      ]
    },
    {
      "cell_type": "code",
      "metadata": {
        "id": "6GsUjUgHgd26",
        "colab_type": "code",
        "colab": {}
      },
      "source": [
        "x = -5\n",
        "\n",
        "if x > 0:\n",
        "    # this code will NOT run because x > 0 is false\n",
        "    print('x is positive')"
      ],
      "execution_count": 24,
      "outputs": []
    },
    {
      "cell_type": "markdown",
      "metadata": {
        "id": "43Yehw8h5jcj",
        "colab_type": "text"
      },
      "source": [
        "The conditionally-executed code may contain much more than a single `print` command. Any number of lines of code can be included there, but they must be consistently indented. Four spaces is a common indentation convention.\n",
        "\n",
        "If you want some other code to run if the condition is false, use `else`. Again, a colon is needed."
      ]
    },
    {
      "cell_type": "code",
      "metadata": {
        "id": "mDK0CrOq6SjO",
        "colab_type": "code",
        "colab": {
          "base_uri": "https://localhost:8080/",
          "height": 35
        },
        "outputId": "c251f60f-b74a-4e1e-9aa8-9aa08541ca9d"
      },
      "source": [
        "x = -5\n",
        "\n",
        "if x > 0:\n",
        "    # this code will NOT run because x > 0 is false\n",
        "    print('x is positive')\n",
        "else:\n",
        "    # this code will run because the tested condition was not true\n",
        "    print('x is not positive')"
      ],
      "execution_count": 25,
      "outputs": [
        {
          "output_type": "stream",
          "text": [
            "x is not positive\n"
          ],
          "name": "stdout"
        }
      ]
    },
    {
      "cell_type": "markdown",
      "metadata": {
        "id": "hLhz8Vy66kue",
        "colab_type": "text"
      },
      "source": [
        "If you want alternative conditions to be tested if the first condition is false, use `elif` (\"else-if\"). Several of these can be chained together, and an `else` may be included at the end."
      ]
    },
    {
      "cell_type": "code",
      "metadata": {
        "id": "CjcEHIPFgB43",
        "colab_type": "code",
        "colab": {
          "base_uri": "https://localhost:8080/",
          "height": 35
        },
        "outputId": "d6577c82-5795-4edd-dbc6-14040231bab0"
      },
      "source": [
        "x = -5\n",
        "\n",
        "if x > 0:\n",
        "    # this code will NOT run because x > 0 is false\n",
        "    print('x is positive')\n",
        "elif x < 0:\n",
        "    # this code will run because x < 0 is true\n",
        "    print('x is negative')\n",
        "else:\n",
        "    # this code will NOT run because one of the tested conditions was true\n",
        "    print('x is zero')"
      ],
      "execution_count": 26,
      "outputs": [
        {
          "output_type": "stream",
          "text": [
            "x is negative\n"
          ],
          "name": "stdout"
        }
      ]
    },
    {
      "cell_type": "markdown",
      "metadata": {
        "id": "G8tY5Ru2UQAV",
        "colab_type": "text"
      },
      "source": [
        "## Lists"
      ]
    },
    {
      "cell_type": "markdown",
      "metadata": {
        "id": "ATim0snI9KfP",
        "colab_type": "text"
      },
      "source": [
        "One of the most common data types for sequences is the **list**. Lists are comma-separated values enclosed by square brackets (`[]`). Here is a simple example:"
      ]
    },
    {
      "cell_type": "code",
      "metadata": {
        "id": "HoTigxmBU5fp",
        "colab_type": "code",
        "colab": {
          "base_uri": "https://localhost:8080/",
          "height": 35
        },
        "outputId": "f7dc6264-4215-4e49-ac9d-6faf00a78db9"
      },
      "source": [
        "# create a new list using square brackets []\n",
        "my_list = [0, 10, 20, 30]\n",
        "my_list"
      ],
      "execution_count": 27,
      "outputs": [
        {
          "output_type": "execute_result",
          "data": {
            "text/plain": [
              "[0, 10, 20, 30]"
            ]
          },
          "metadata": {
            "tags": []
          },
          "execution_count": 27
        }
      ]
    },
    {
      "cell_type": "markdown",
      "metadata": {
        "id": "Ej3SZvgH9spA",
        "colab_type": "text"
      },
      "source": [
        "The type of a list variable is, unsurprisingly, `list`:"
      ]
    },
    {
      "cell_type": "code",
      "metadata": {
        "id": "DKAMZuH39qEK",
        "colab_type": "code",
        "colab": {
          "base_uri": "https://localhost:8080/",
          "height": 35
        },
        "outputId": "8d6fb204-bd4c-4fed-df76-94471646e5be"
      },
      "source": [
        "type(my_list)"
      ],
      "execution_count": 28,
      "outputs": [
        {
          "output_type": "execute_result",
          "data": {
            "text/plain": [
              "list"
            ]
          },
          "metadata": {
            "tags": []
          },
          "execution_count": 28
        }
      ]
    },
    {
      "cell_type": "markdown",
      "metadata": {
        "id": "z0fGrgg2Zwpz",
        "colab_type": "text"
      },
      "source": [
        "The built-in `range()` function can be used (in conjunction with the `list()` function for the purpose of this example) to create a list of ascending or descending numbers. As will be seen later with indexing and slicing, the numbering here is a bit weird, as it will produce a list that starts from 0 and goes up to, but does not include, your specified number."
      ]
    },
    {
      "cell_type": "code",
      "metadata": {
        "id": "FdEuuX6fYFpi",
        "colab_type": "code",
        "colab": {
          "base_uri": "https://localhost:8080/",
          "height": 35
        },
        "outputId": "46ac9465-55b0-4ba2-fb27-7bd8f2ebdad2"
      },
      "source": [
        "# create the numbers 0 through 19\n",
        "list(range(20)) # list() is needed for this demo since range() actually returns a special type of object"
      ],
      "execution_count": 29,
      "outputs": [
        {
          "output_type": "execute_result",
          "data": {
            "text/plain": [
              "[0, 1, 2, 3, 4, 5, 6, 7, 8, 9, 10, 11, 12, 13, 14, 15, 16, 17, 18, 19]"
            ]
          },
          "metadata": {
            "tags": []
          },
          "execution_count": 29
        }
      ]
    },
    {
      "cell_type": "markdown",
      "metadata": {
        "id": "yrtZkifAbEMK",
        "colab_type": "text"
      },
      "source": [
        "The `range()` function also accepts \"start\", \"stop\", and \"step\" inputs."
      ]
    },
    {
      "cell_type": "code",
      "metadata": {
        "id": "jnpq94wJZWm_",
        "colab_type": "code",
        "colab": {
          "base_uri": "https://localhost:8080/",
          "height": 35
        },
        "outputId": "0cb239f5-6256-464c-98a6-f348918a0ec5"
      },
      "source": [
        "# create the numbers 10 through 100 in steps of 20\n",
        "list(range(10, 100, 20))"
      ],
      "execution_count": 30,
      "outputs": [
        {
          "output_type": "execute_result",
          "data": {
            "text/plain": [
              "[10, 30, 50, 70, 90]"
            ]
          },
          "metadata": {
            "tags": []
          },
          "execution_count": 30
        }
      ]
    },
    {
      "cell_type": "markdown",
      "metadata": {
        "id": "WzP3_qm496-x",
        "colab_type": "text"
      },
      "source": [
        "Lists are a data type with **method functions**, i.e., built-in functions that are associated with every list object.\n",
        "\n",
        "> *Aside: Each of the other data types we have already discussed (`int`, `float`, `bool`, `str`) also have associated method functions (e.g., the `str.format` method shown earlier as an alternative to f-strings). We may discuss more of these in the future.*\n",
        "\n",
        "Method functions are accessed in Python using **dot notation**, e.g., `my_list.append`, where a period (`.`) separates the object name (`my_list`) and the method name (`append`). In Colab, it is easy to see a listing of the method functions (and other attributes) associated with a variable by typing in the variable name, followed by a period, and then pausing for a brief moment. If you try it for our list named `my_list` (assuming you evaluated the cells above), you will see a pop-up that looks like this:\n",
        "\n",
        "![Screenshot of list methods pop-up in Colab](https://raw.githubusercontent.com/jpgill86/python-for-neuroscientists/master/notebooks/img/list-methods-colab-popup.png)\n",
        "\n",
        "Try it!\n",
        "\n",
        "The `append` method can be used to add a new element to the end of a list. When `append` is used, the list is changed **in-place**, meaning that `my_list` is modified without you needing to write `my_list =`. For example:"
      ]
    },
    {
      "cell_type": "code",
      "metadata": {
        "id": "3WKOpCWYbhMT",
        "colab_type": "code",
        "colab": {
          "base_uri": "https://localhost:8080/",
          "height": 35
        },
        "outputId": "fef977da-0ef1-4841-b2fa-2db0eb82bdcf"
      },
      "source": [
        "# append an item to a list\n",
        "my_list.append(40) # note = is NOT needed for my_list to permanently change\n",
        "my_list"
      ],
      "execution_count": 31,
      "outputs": [
        {
          "output_type": "execute_result",
          "data": {
            "text/plain": [
              "[0, 10, 20, 30, 40]"
            ]
          },
          "metadata": {
            "tags": []
          },
          "execution_count": 31
        }
      ]
    },
    {
      "cell_type": "markdown",
      "metadata": {
        "id": "8x8RyR9PFLmL",
        "colab_type": "text"
      },
      "source": [
        "Lists can also be extended by \"adding\" lists together using `+`. This operation does *not* cause in-place modification of the `my_list` variable, so `my_list =` is needed."
      ]
    },
    {
      "cell_type": "code",
      "metadata": {
        "id": "Olvj9mwCbr_K",
        "colab_type": "code",
        "colab": {
          "base_uri": "https://localhost:8080/",
          "height": 35
        },
        "outputId": "0d7fdc5a-5c30-44ba-8459-3a8879ceced7"
      },
      "source": [
        "# combine lists with +\n",
        "my_list = my_list + [50, 60] # note = is needed for my_list to permanently change\n",
        "my_list"
      ],
      "execution_count": 32,
      "outputs": [
        {
          "output_type": "execute_result",
          "data": {
            "text/plain": [
              "[0, 10, 20, 30, 40, 50, 60]"
            ]
          },
          "metadata": {
            "tags": []
          },
          "execution_count": 32
        }
      ]
    },
    {
      "cell_type": "markdown",
      "metadata": {
        "id": "M7vQbZbIIQ_K",
        "colab_type": "text"
      },
      "source": [
        "The `extend` method does the same thing, but, like the `append` method, it *does* modify the variable in-place, so `my_list =` is not needed."
      ]
    },
    {
      "cell_type": "code",
      "metadata": {
        "id": "7obPN5keIF-v",
        "colab_type": "code",
        "colab": {
          "base_uri": "https://localhost:8080/",
          "height": 35
        },
        "outputId": "8341dc8c-f926-439a-9d15-fb5c352e646b"
      },
      "source": [
        "# alternative to +\n",
        "my_list.extend([70, 80]) # note = is NOT needed for my_list to permanently change\n",
        "my_list"
      ],
      "execution_count": 33,
      "outputs": [
        {
          "output_type": "execute_result",
          "data": {
            "text/plain": [
              "[0, 10, 20, 30, 40, 50, 60, 70, 80]"
            ]
          },
          "metadata": {
            "tags": []
          },
          "execution_count": 33
        }
      ]
    },
    {
      "cell_type": "markdown",
      "metadata": {
        "id": "mqtnUSxJOCU0",
        "colab_type": "text"
      },
      "source": [
        "To learn more about any of the list member functions, you can **view the documentation** using either `?` or the built-in `help()` function, e.g., `my_list.extend?` or `help(my_list.extend)`. For example, try looking at the documentation for `my_list.reverse`. You are encouraged to explore the other list member functions too!"
      ]
    },
    {
      "cell_type": "markdown",
      "metadata": {
        "id": "gVo7mNh_decj",
        "colab_type": "text"
      },
      "source": [
        "## Even More About Strings"
      ]
    },
    {
      "cell_type": "markdown",
      "metadata": {
        "id": "ZGCrimdJdipU",
        "colab_type": "text"
      },
      "source": [
        "Like lists, strings have method functions. Here are some examples:"
      ]
    },
    {
      "cell_type": "code",
      "metadata": {
        "id": "0y3Nt1TRLw8V",
        "colab_type": "code",
        "colab": {
          "base_uri": "https://localhost:8080/",
          "height": 146
        },
        "outputId": "3c466d03-0013-4d99-d140-8cbdd31d3df1"
      },
      "source": [
        "my_string = 'Aplysia californica'\n",
        "\n",
        "# convert all letters to capital\n",
        "print(my_string.upper())\n",
        "\n",
        "# return True if the string begins with capital A, otherwise return False\n",
        "print(my_string.startswith('A'))\n",
        "\n",
        "# count the number of occurances of lowercase i\n",
        "print(my_string.count('i'))\n",
        "\n",
        "# replace each i with an exclamation point\n",
        "print(my_string.replace('i', '!'))\n",
        "\n",
        "# split the string everywhere there is a lowercase i to make a list of smaller\n",
        "# strings, discarding the i's in the process\n",
        "print(my_string.split('i'))\n",
        "\n",
        "# join each string in the list with a hyphen\n",
        "print('-'.join(['pre', 'synaptic']))\n",
        "\n",
        "# after splitting the string at the i's, join the pieces together again with i's\n",
        "print('i'.join(my_string.split('i')))"
      ],
      "execution_count": 34,
      "outputs": [
        {
          "output_type": "stream",
          "text": [
            "APLYSIA CALIFORNICA\n",
            "True\n",
            "3\n",
            "Aplys!a cal!forn!ca\n",
            "['Aplys', 'a cal', 'forn', 'ca']\n",
            "pre-synaptic\n",
            "Aplysia californica\n"
          ],
          "name": "stdout"
        }
      ]
    },
    {
      "cell_type": "markdown",
      "metadata": {
        "id": "49_XtPs3VJnl",
        "colab_type": "text"
      },
      "source": [
        "Try to familiarize yourself with some of the list and string method functions by typing `my_list` or `my_string`, followed by a period, and then pausing for the pop-up listing of methods. Note that if the listing is long, as it will be for the string methods, you may need to scroll within the pop-up to see all the methods. Try using `?` to inspect some (e.g., `my_string.strip?`)."
      ]
    },
    {
      "cell_type": "markdown",
      "metadata": {
        "id": "XbviBW2WFEr1",
        "colab_type": "text"
      },
      "source": [
        "## Indexing and Slicing"
      ]
    },
    {
      "cell_type": "markdown",
      "metadata": {
        "id": "TmsfpWhcFChD",
        "colab_type": "text"
      },
      "source": [
        "Items in a list can be accessed by their position in the list using **indexing**, which is done using square brackets (`[]`) after the name of the list, with a position number given inside the brackets. The tricky thing to remember is that, like many other programming languages, **indexing starts from 0** in Python. That is, for our list `my_list`, to extract the first item of the list, you should use `my_list[0]`, not `my_list[1]`. If you are used to working with other languages that begin indexing with 1, such as MATLAB and Mathematica, this may take some getting used to!"
      ]
    },
    {
      "cell_type": "code",
      "metadata": {
        "id": "oCuo6EhJVLZh",
        "colab_type": "code",
        "colab": {
          "base_uri": "https://localhost:8080/",
          "height": 35
        },
        "outputId": "1af1c3cb-b983-41eb-b54b-8ce1f6d25156"
      },
      "source": [
        "# select the first item by index, which is in position 0\n",
        "my_list = [0, 10, 20, 30, 40, 50, 60, 70, 80]\n",
        "my_list[0]"
      ],
      "execution_count": 35,
      "outputs": [
        {
          "output_type": "execute_result",
          "data": {
            "text/plain": [
              "0"
            ]
          },
          "metadata": {
            "tags": []
          },
          "execution_count": 35
        }
      ]
    },
    {
      "cell_type": "markdown",
      "metadata": {
        "id": "DSPqBpnYfB3w",
        "colab_type": "text"
      },
      "source": [
        "To access the second or third item in our list, you would use `my_list[1]` or `my_list[2]`, and so on. **In general, to access the *i*-th item in a list, you should use index *i-1*.**\n",
        "\n",
        "You can also use negative indices to count backwards from the end of a list. For example, to access the last item in a list, use index `-1`; the second-to-last item could be accessed with index `-2`, and so on."
      ]
    },
    {
      "cell_type": "code",
      "metadata": {
        "id": "kRBaweZbVU7V",
        "colab_type": "code",
        "colab": {
          "base_uri": "https://localhost:8080/",
          "height": 35
        },
        "outputId": "065e08ae-9354-4de1-f087-a3c17ac59c45"
      },
      "source": [
        "# select the last item\n",
        "my_list = [0, 10, 20, 30, 40, 50, 60, 70, 80]\n",
        "my_list[-1]"
      ],
      "execution_count": 36,
      "outputs": [
        {
          "output_type": "execute_result",
          "data": {
            "text/plain": [
              "80"
            ]
          },
          "metadata": {
            "tags": []
          },
          "execution_count": 36
        }
      ]
    },
    {
      "cell_type": "markdown",
      "metadata": {
        "id": "eJNKzCmJpG1t",
        "colab_type": "text"
      },
      "source": [
        "Indexing works on strings too:"
      ]
    },
    {
      "cell_type": "code",
      "metadata": {
        "id": "zQmySwczg_qH",
        "colab_type": "code",
        "colab": {
          "base_uri": "https://localhost:8080/",
          "height": 54
        },
        "outputId": "36fb0458-8b50-4fea-e6df-f4a8c6aa5453"
      },
      "source": [
        "# strings can be indexed just like lists\n",
        "my_string = \"The slug's ink ain't pink.\"\n",
        "print(f'The first character: {my_string[0]}')\n",
        "print(f'The last character:  {my_string[-1]}')"
      ],
      "execution_count": 37,
      "outputs": [
        {
          "output_type": "stream",
          "text": [
            "The first character: T\n",
            "The last character:  .\n"
          ],
          "name": "stdout"
        }
      ]
    },
    {
      "cell_type": "markdown",
      "metadata": {
        "id": "ZWLTNLCJgEtC",
        "colab_type": "text"
      },
      "source": [
        "The concept of indexing can be extended to **slicing** a list, or extracting multiple items from it. To slice a list, provide two indices separated by a colon (`:`). There is another tricky thing to remember here, on top of indices starting with 0: **The item corresponding to the first index of the slice will be included in the result, but the item corresponding to the last index of the slice will not.** In other words, we can say that the first index is inclusive, and the last index is exclusive."
      ]
    },
    {
      "cell_type": "code",
      "metadata": {
        "id": "IdgQpOU3VsQR",
        "colab_type": "code",
        "colab": {
          "base_uri": "https://localhost:8080/",
          "height": 35
        },
        "outputId": "1ef19bed-1642-49ad-c72f-edaf6adef480"
      },
      "source": [
        "# select items in positions 1 (inclusive) through 4 (exclusive)\n",
        "my_list = [0, 10, 20, 30, 40, 50, 60, 70, 80]\n",
        "my_list[1:4]"
      ],
      "execution_count": 38,
      "outputs": [
        {
          "output_type": "execute_result",
          "data": {
            "text/plain": [
              "[10, 20, 30]"
            ]
          },
          "metadata": {
            "tags": []
          },
          "execution_count": 38
        }
      ]
    },
    {
      "cell_type": "markdown",
      "metadata": {
        "id": "o-Yh_E0OqRJE",
        "colab_type": "text"
      },
      "source": [
        "Slicing works on strings too:"
      ]
    },
    {
      "cell_type": "code",
      "metadata": {
        "id": "WGJzpt38pUEn",
        "colab_type": "code",
        "colab": {
          "base_uri": "https://localhost:8080/",
          "height": 36
        },
        "outputId": "b329d29d-009e-40d0-c698-16a61858385c"
      },
      "source": [
        "# strings can be sliced just like lists\n",
        "my_string = \"The slug's ink ain't pink.\"\n",
        "my_string[4:8]"
      ],
      "execution_count": 39,
      "outputs": [
        {
          "output_type": "execute_result",
          "data": {
            "application/vnd.google.colaboratory.intrinsic+json": {
              "type": "string"
            },
            "text/plain": [
              "'slug'"
            ]
          },
          "metadata": {
            "tags": []
          },
          "execution_count": 39
        }
      ]
    },
    {
      "cell_type": "markdown",
      "metadata": {
        "id": "RTGOeBTnm-KV",
        "colab_type": "text"
      },
      "source": [
        "A helpful way to think about slicing is given in the [official Python tutorial](https://docs.python.org/3/tutorial/introduction.html). This example refers to slicing into the string `\"Python\"`, but it applies to lists as well:\n",
        "\n",
        "> \"One way to remember how slices work is to think of the indices as pointing *between* characters, with the left edge of the first character numbered 0. Then the right edge of the last character of a string of *n* characters has index *n*, for example:\n",
        "```\n",
        " +---+---+---+---+---+---+\n",
        " | P | y | t | h | o | n |\n",
        " +---+---+---+---+---+---+\n",
        " 0   1   2   3   4   5   6\n",
        "-6  -5  -4  -3  -2  -1\n",
        "```\n",
        "The first row of numbers gives the position of the indices 0…6 in the string; the second row gives the corresponding negative indices. The slice from *i* to *j* consists of all characters between the edges labeled *i* and *j*, respectively.\"\n",
        "\n",
        "So, with `word = \"Python\"`, the substring `'Py'` could be extracted using `word[0:2]`:"
      ]
    },
    {
      "cell_type": "code",
      "metadata": {
        "id": "QSIS2MXwq6tT",
        "colab_type": "code",
        "colab": {
          "base_uri": "https://localhost:8080/",
          "height": 36
        },
        "outputId": "8a3ac7be-a1d9-4cdf-9859-e428fd2d6791"
      },
      "source": [
        "word = \"Python\"\n",
        "word[0:2]"
      ],
      "execution_count": 40,
      "outputs": [
        {
          "output_type": "execute_result",
          "data": {
            "application/vnd.google.colaboratory.intrinsic+json": {
              "type": "string"
            },
            "text/plain": [
              "'Py'"
            ]
          },
          "metadata": {
            "tags": []
          },
          "execution_count": 40
        }
      ]
    },
    {
      "cell_type": "markdown",
      "metadata": {
        "id": "4f6u1eDsrC_a",
        "colab_type": "text"
      },
      "source": [
        "When slicing, if the number before or after the colon is omitted, the slice will begin from the very beginning or go to the very end, respectively."
      ]
    },
    {
      "cell_type": "code",
      "metadata": {
        "id": "DlStQoCgrmxi",
        "colab_type": "code",
        "colab": {
          "base_uri": "https://localhost:8080/",
          "height": 35
        },
        "outputId": "ad28b518-d478-40b1-def9-56c08d27f3e1"
      },
      "source": [
        "# select all items before position 2, excluding position 2\n",
        "my_list = [0, 10, 20, 30, 40, 50, 60, 70, 80]\n",
        "my_list[:2]"
      ],
      "execution_count": 41,
      "outputs": [
        {
          "output_type": "execute_result",
          "data": {
            "text/plain": [
              "[0, 10]"
            ]
          },
          "metadata": {
            "tags": []
          },
          "execution_count": 41
        }
      ]
    },
    {
      "cell_type": "code",
      "metadata": {
        "id": "5vBwgDcyVYT6",
        "colab_type": "code",
        "colab": {
          "base_uri": "https://localhost:8080/",
          "height": 35
        },
        "outputId": "b865c136-aafe-493c-9563-f30741bb4278"
      },
      "source": [
        "# select all items after position 2, including position 2\n",
        "my_list = [0, 10, 20, 30, 40, 50, 60, 70, 80]\n",
        "my_list[2:]"
      ],
      "execution_count": 42,
      "outputs": [
        {
          "output_type": "execute_result",
          "data": {
            "text/plain": [
              "[20, 30, 40, 50, 60, 70, 80]"
            ]
          },
          "metadata": {
            "tags": []
          },
          "execution_count": 42
        }
      ]
    },
    {
      "cell_type": "code",
      "metadata": {
        "id": "fJYIXeDF2YQB",
        "colab_type": "code",
        "colab": {
          "base_uri": "https://localhost:8080/",
          "height": 35
        },
        "outputId": "aa9f1b93-5229-4915-be02-95c86585c817"
      },
      "source": [
        "# omitting both indices selects the whole list\n",
        "my_list = [0, 10, 20, 30, 40, 50, 60, 70, 80]\n",
        "my_list[:]"
      ],
      "execution_count": 43,
      "outputs": [
        {
          "output_type": "execute_result",
          "data": {
            "text/plain": [
              "[0, 10, 20, 30, 40, 50, 60, 70, 80]"
            ]
          },
          "metadata": {
            "tags": []
          },
          "execution_count": 43
        }
      ]
    },
    {
      "cell_type": "markdown",
      "metadata": {
        "id": "VlGVStrgsFmx",
        "colab_type": "text"
      },
      "source": [
        "You can even mix positive and negative indices when slicing."
      ]
    },
    {
      "cell_type": "code",
      "metadata": {
        "id": "UtAO-AlDsKJf",
        "colab_type": "code",
        "colab": {
          "base_uri": "https://localhost:8080/",
          "height": 35
        },
        "outputId": "69ea5f55-9607-4924-d1c3-8acad92e84f5"
      },
      "source": [
        "# start from position 4 and go up to (but not including!) the second-to-last item\n",
        "my_list = [0, 10, 20, 30, 40, 50, 60, 70, 80]\n",
        "my_list[4:-2]"
      ],
      "execution_count": 44,
      "outputs": [
        {
          "output_type": "execute_result",
          "data": {
            "text/plain": [
              "[40, 50, 60]"
            ]
          },
          "metadata": {
            "tags": []
          },
          "execution_count": 44
        }
      ]
    },
    {
      "cell_type": "markdown",
      "metadata": {
        "id": "g0hkyDiAsgLH",
        "colab_type": "text"
      },
      "source": [
        "When slicing, you can include a third number, separated from the second by a colon, that specifies a \"step size\", or how far to jump through the list between each selection. The complete slice notation looks like this: `[start:stop:step]`."
      ]
    },
    {
      "cell_type": "code",
      "metadata": {
        "id": "kZ2-bBiAVigy",
        "colab_type": "code",
        "colab": {
          "base_uri": "https://localhost:8080/",
          "height": 35
        },
        "outputId": "c6a492d5-8e62-4b15-93fe-e8e1e0951608"
      },
      "source": [
        "# select items in positions 0 (inclusive) through 6 (exclusive) in steps of 2\n",
        "my_list = [0, 10, 20, 30, 40, 50, 60, 70, 80]\n",
        "my_list[0:6:2]"
      ],
      "execution_count": 45,
      "outputs": [
        {
          "output_type": "execute_result",
          "data": {
            "text/plain": [
              "[0, 20, 40]"
            ]
          },
          "metadata": {
            "tags": []
          },
          "execution_count": 45
        }
      ]
    },
    {
      "cell_type": "markdown",
      "metadata": {
        "id": "rA6Fej9bzgDf",
        "colab_type": "text"
      },
      "source": [
        "If the \"start\" or \"stop\" index is omitted, or if both are omitted, the behavior is as you would expect."
      ]
    },
    {
      "cell_type": "code",
      "metadata": {
        "id": "8ThlXwrxz8a5",
        "colab_type": "code",
        "colab": {
          "base_uri": "https://localhost:8080/",
          "height": 35
        },
        "outputId": "6c33f21c-37cc-4a96-b39b-b2a96e3c0278"
      },
      "source": [
        "# get every other item\n",
        "my_list = [0, 10, 20, 30, 40, 50, 60, 70, 80]\n",
        "my_list[::2]"
      ],
      "execution_count": 46,
      "outputs": [
        {
          "output_type": "execute_result",
          "data": {
            "text/plain": [
              "[0, 20, 40, 60, 80]"
            ]
          },
          "metadata": {
            "tags": []
          },
          "execution_count": 46
        }
      ]
    },
    {
      "cell_type": "markdown",
      "metadata": {
        "id": "JGc9bMPC0CIC",
        "colab_type": "text"
      },
      "source": [
        "The step size can even be negative for advancing through the list backwards from the end. A common (and nearly inscrutable) trick for reversing a list is to use the slice notation `[::-1]`, which means \"in steps of 1 going backwards, start from the end of the list and go to the beginning\"."
      ]
    },
    {
      "cell_type": "code",
      "metadata": {
        "id": "0x04yXH8znUc",
        "colab_type": "code",
        "colab": {
          "base_uri": "https://localhost:8080/",
          "height": 35
        },
        "outputId": "16e56e1d-1a9a-49b5-fd95-6e2cf2fadaa4"
      },
      "source": [
        "# reverse the list (using syntax no one will understand)\n",
        "my_list = [0, 10, 20, 30, 40, 50, 60, 70, 80]\n",
        "my_list[::-1]"
      ],
      "execution_count": 47,
      "outputs": [
        {
          "output_type": "execute_result",
          "data": {
            "text/plain": [
              "[80, 70, 60, 50, 40, 30, 20, 10, 0]"
            ]
          },
          "metadata": {
            "tags": []
          },
          "execution_count": 47
        }
      ]
    },
    {
      "cell_type": "markdown",
      "metadata": {
        "id": "Wps6TAgJ0o5n",
        "colab_type": "text"
      },
      "source": [
        "This is almost the same as using the `reverse` method function, except that `reverse` permanently changes the list in-place, whereas the slicing approach does not change the list permanently."
      ]
    },
    {
      "cell_type": "code",
      "metadata": {
        "id": "2d2iLFAe0gkG",
        "colab_type": "code",
        "colab": {
          "base_uri": "https://localhost:8080/",
          "height": 35
        },
        "outputId": "a9800a2f-24fc-497f-d4ed-fd2a615861de"
      },
      "source": [
        "# similar to above, but my_list is permanently reversed\n",
        "# - if permanent reversal is what you need, reverse() is certainly easier to\n",
        "#   understand!\n",
        "# - if you wish to be obtuse for no reason, you could use\n",
        "#       my_list = my_list[::-1]\n",
        "#   and provide no comment explaining what it does, but I believe there is a\n",
        "#   special place in hell for people who do this\n",
        "my_list.reverse()\n",
        "my_list"
      ],
      "execution_count": 48,
      "outputs": [
        {
          "output_type": "execute_result",
          "data": {
            "text/plain": [
              "[80, 70, 60, 50, 40, 30, 20, 10, 0]"
            ]
          },
          "metadata": {
            "tags": []
          },
          "execution_count": 48
        }
      ]
    },
    {
      "cell_type": "markdown",
      "metadata": {
        "id": "pqtguD6ds6BK",
        "colab_type": "text"
      },
      "source": [
        "If permanent reversal is what you need, `my_list.reverse()` is certainly easier to understand! If you wish to be obtuse for no reason, you could use `my_list = my_list[::-1]` and provide no comment explaining what it does, but I believe there is a special place in hell for people who do this.\n",
        "\n",
        "Lists do not need to be composed of objects of just one type, and lists can be nested inside of other lists."
      ]
    },
    {
      "cell_type": "code",
      "metadata": {
        "id": "T76aU2cLVF_2",
        "colab_type": "code",
        "colab": {
          "base_uri": "https://localhost:8080/",
          "height": 35
        },
        "outputId": "b65037b6-b8bb-45ef-9a3b-b67b38489f15"
      },
      "source": [
        "# create a new list of objects of different types, including another list\n",
        "my_list = [0, 10, 20, 30, 40, 50, 60, 70, 80]\n",
        "another_list = ['a', 4.5, my_list]\n",
        "another_list"
      ],
      "execution_count": 49,
      "outputs": [
        {
          "output_type": "execute_result",
          "data": {
            "text/plain": [
              "['a', 4.5, [0, 10, 20, 30, 40, 50, 60, 70, 80]]"
            ]
          },
          "metadata": {
            "tags": []
          },
          "execution_count": 49
        }
      ]
    },
    {
      "cell_type": "markdown",
      "metadata": {
        "id": "mmyl1FCStJEp",
        "colab_type": "text"
      },
      "source": [
        "To index or slice into a nested list, chain together multiple square bracket selections."
      ]
    },
    {
      "cell_type": "code",
      "metadata": {
        "id": "BfWhKtBTWptg",
        "colab_type": "code",
        "colab": {
          "base_uri": "https://localhost:8080/",
          "height": 35
        },
        "outputId": "3b3f63a9-b518-4768-811d-1f7922bd8675"
      },
      "source": [
        "# select the item in position 2 (my_list), then select the item in its position 3\n",
        "another_list[2][3]"
      ],
      "execution_count": 50,
      "outputs": [
        {
          "output_type": "execute_result",
          "data": {
            "text/plain": [
              "30"
            ]
          },
          "metadata": {
            "tags": []
          },
          "execution_count": 50
        }
      ]
    },
    {
      "cell_type": "markdown",
      "metadata": {
        "id": "oAipMXdUtdLT",
        "colab_type": "text"
      },
      "source": [
        "Items inside a list (even nested lists) can be changed using indexing. For example, this code changes the last item in the nested list:"
      ]
    },
    {
      "cell_type": "code",
      "metadata": {
        "id": "8_y1ML13W5Fa",
        "colab_type": "code",
        "colab": {
          "base_uri": "https://localhost:8080/",
          "height": 35
        },
        "outputId": "4e6f3223-c2de-4ac8-80a5-1af0c88bacac"
      },
      "source": [
        "# change an item\n",
        "another_list[2][-1] = 9999\n",
        "another_list"
      ],
      "execution_count": 51,
      "outputs": [
        {
          "output_type": "execute_result",
          "data": {
            "text/plain": [
              "['a', 4.5, [0, 10, 20, 30, 40, 50, 60, 70, 9999]]"
            ]
          },
          "metadata": {
            "tags": []
          },
          "execution_count": 51
        }
      ]
    },
    {
      "cell_type": "markdown",
      "metadata": {
        "id": "jt4yZBSqtqaI",
        "colab_type": "text"
      },
      "source": [
        "When a named list (`my_list`) is contained within another list (`another_list`) in this way and an item in the inner list is changed like above, that change affects the original list too because the second list simply contains a reference to the first, rather than a separate copy of the data."
      ]
    },
    {
      "cell_type": "code",
      "metadata": {
        "id": "oB2qkEz5XJwA",
        "colab_type": "code",
        "colab": {
          "base_uri": "https://localhost:8080/",
          "height": 35
        },
        "outputId": "09797946-5a0e-46a6-dbff-8dd2c7795caf"
      },
      "source": [
        "# the original list (my_list) is changed too because another_list contains a reference to it\n",
        "my_list"
      ],
      "execution_count": 52,
      "outputs": [
        {
          "output_type": "execute_result",
          "data": {
            "text/plain": [
              "[0, 10, 20, 30, 40, 50, 60, 70, 9999]"
            ]
          },
          "metadata": {
            "tags": []
          },
          "execution_count": 52
        }
      ]
    },
    {
      "cell_type": "markdown",
      "metadata": {
        "id": "9lZbiQO9FQcB",
        "colab_type": "text"
      },
      "source": [
        "## Tuples"
      ]
    },
    {
      "cell_type": "markdown",
      "metadata": {
        "id": "b-f12iI5uYNF",
        "colab_type": "text"
      },
      "source": [
        "**Tuples** are another data type for storing sequences. They are similar to lists in many ways, but tuples are created using parentheses (`()`) rather than brackets."
      ]
    },
    {
      "cell_type": "code",
      "metadata": {
        "id": "kZCTXkBJXcMv",
        "colab_type": "code",
        "colab": {
          "base_uri": "https://localhost:8080/",
          "height": 35
        },
        "outputId": "51fa3e92-c162-451e-9a51-d257a4edfef8"
      },
      "source": [
        "# create a new tuple using parentheses\n",
        "my_tuple = ('a', 'b', 'c')\n",
        "my_tuple"
      ],
      "execution_count": 53,
      "outputs": [
        {
          "output_type": "execute_result",
          "data": {
            "text/plain": [
              "('a', 'b', 'c')"
            ]
          },
          "metadata": {
            "tags": []
          },
          "execution_count": 53
        }
      ]
    },
    {
      "cell_type": "markdown",
      "metadata": {
        "id": "ReoRI15-vgOm",
        "colab_type": "text"
      },
      "source": [
        "Indexing and slicing into tuples works just like lists and strings."
      ]
    },
    {
      "cell_type": "code",
      "metadata": {
        "id": "LOUOGmu3XuuC",
        "colab_type": "code",
        "colab": {
          "base_uri": "https://localhost:8080/",
          "height": 36
        },
        "outputId": "d76cc2d6-6113-47fc-ae32-2e273b12c0e8"
      },
      "source": [
        "# select items in tuples just like lists\n",
        "my_tuple[0]"
      ],
      "execution_count": 54,
      "outputs": [
        {
          "output_type": "execute_result",
          "data": {
            "application/vnd.google.colaboratory.intrinsic+json": {
              "type": "string"
            },
            "text/plain": [
              "'a'"
            ]
          },
          "metadata": {
            "tags": []
          },
          "execution_count": 54
        }
      ]
    },
    {
      "cell_type": "markdown",
      "metadata": {
        "id": "Tmz6hoSWvl1j",
        "colab_type": "text"
      },
      "source": [
        "A critical difference between lists and tuples, and between lists and strings, is that **tuples and strings are immutable**, which means they cannot be changed after creation, in some technical sense of \"changed\". Here's an example of an illegal operation:"
      ]
    },
    {
      "cell_type": "code",
      "metadata": {
        "id": "73IjwdRVX1NM",
        "colab_type": "code",
        "colab": {
          "base_uri": "https://localhost:8080/",
          "height": 191
        },
        "outputId": "7ce87c76-6309-4004-f6f1-5e3068585e09"
      },
      "source": [
        "# tuples are immutable, meaning they are not allowed to be changed after creation\n",
        "my_tuple[0] = 1 # this causes an error!"
      ],
      "execution_count": 55,
      "outputs": [
        {
          "output_type": "error",
          "ename": "TypeError",
          "evalue": "ignored",
          "traceback": [
            "\u001b[0;31m---------------------------------------------------------------------------\u001b[0m",
            "\u001b[0;31mTypeError\u001b[0m                                 Traceback (most recent call last)",
            "\u001b[0;32m<ipython-input-55-717f5355b3b8>\u001b[0m in \u001b[0;36m<module>\u001b[0;34m()\u001b[0m\n\u001b[1;32m      1\u001b[0m \u001b[0;31m# tuples are immutable, meaning they are not allowed to be changed after creation\u001b[0m\u001b[0;34m\u001b[0m\u001b[0;34m\u001b[0m\u001b[0;34m\u001b[0m\u001b[0m\n\u001b[0;32m----> 2\u001b[0;31m \u001b[0mmy_tuple\u001b[0m\u001b[0;34m[\u001b[0m\u001b[0;36m0\u001b[0m\u001b[0;34m]\u001b[0m \u001b[0;34m=\u001b[0m \u001b[0;36m1\u001b[0m \u001b[0;31m# this causes an error!\u001b[0m\u001b[0;34m\u001b[0m\u001b[0;34m\u001b[0m\u001b[0m\n\u001b[0m",
            "\u001b[0;31mTypeError\u001b[0m: 'tuple' object does not support item assignment"
          ]
        }
      ]
    },
    {
      "cell_type": "markdown",
      "metadata": {
        "id": "tX0uj0vgE34K",
        "colab_type": "text"
      },
      "source": [
        "The reasons that immutability is a useful quality of tuples, which motivates the necessity for both lists and tuples existing in the language, are a bit technical but will be touched on later when we discuss dictionaries."
      ]
    },
    {
      "cell_type": "markdown",
      "metadata": {
        "id": "4XGwx7iWE48v",
        "colab_type": "text"
      },
      "source": [
        "## Lists vs Tuples"
      ]
    },
    {
      "cell_type": "markdown",
      "metadata": {
        "id": "wLPZrITpvwFi",
        "colab_type": "text"
      },
      "source": [
        "In practice, conventions ofter determine whether an experienced Python programmer uses a list or a tuple when either could do the job. These conventions are not enforced by the language, but are common enough to mention here:\n",
        "* Sequences of **homogeneous data** (data of one type), for which the **positions of the values are not intrinsically meaningful**, are usually stored as **lists**.\n",
        "    * For example, a collection of height measurements of people could be stored in a list. Although the first measurement in the list obviously belongs to one person and the second belongs to another, this ordering is not essential on a conceptional level. You could swap the order of people without it mattering.\n",
        "* Sequences of **heterogeneous data** (data of different types), or sequences for which the **positions of the values is intrinsically meaningful**, are usually stored as **tuples**.\n",
        "    * Examples of the latter would be a pair of strings for first and last name, or an ordered pair of numbers representing a coordinate in space.\n",
        "    * An example of the former would be a collection of data about a person, such as name (string) and age (integer), which is expected to have a certain ordering, such as name first, age second.\n",
        "\n",
        "Here is an example where both conventions are in play at the same time:"
      ]
    },
    {
      "cell_type": "code",
      "metadata": {
        "id": "sBM8MA8X9L-n",
        "colab_type": "code",
        "colab": {}
      },
      "source": [
        "species_data = [\n",
        " # genus, species, date named, common name\n",
        " ('Aplysia',     'californica', 1863, 'California sea hare'),\n",
        " ('Macrocystis', 'pyrifera',    1820, 'Giant kelp'),\n",
        " ('Pagurus',     'samuelis',    1857, 'Blueband hermit crab'),\n",
        "]"
      ],
      "execution_count": 56,
      "outputs": []
    },
    {
      "cell_type": "markdown",
      "metadata": {
        "id": "0q2Z48KkARaA",
        "colab_type": "text"
      },
      "source": [
        "The object `species_data` is a list. The three items it contains are not in some essential order. The use of a list here, rather than a tuple, signals (by convention) to good programmers that code which uses `species_data` is expected to be able to handle the list changing through the addition or removal of species from the list.\n",
        "\n",
        "The items inside the list are tuples. Each tuple is composed of exactly four pieces of data, including a mix of strings and integers, and always in the same order: a genus name, a species name, the year the species was given its formal scientific name, and the common name for the species. The use of tuples here, rather than lists, signals (by convention) to good programmers that this order is essential and may be relied upon in some other code, so swapping the names and dates around could cause problems.\n",
        "\n",
        "A consequence of this convention is that if we try to access `species_data[2][0]` through indexing, we may not always know which species we will find in position 2, but we can be confident that we are accessing its genus name. This is important when looping through lists (more on that later).\n",
        "\n",
        "At a technical level, the tuples here *could* have been lists. In fact, if the values needed to change, they would have to be lists. Likewise, the list could have been a tuple, so long as the tuple did not need to be modified after creation. Ultimately, it is a long-standing convention to do it the way shown above, and, if adhered to, it signals to people reading or using your code how you intend the data object to be handled.\n",
        "\n",
        "As a final point, lists can be converted to tuples using the built-in `tuple()` function, and tuples can be converted to lists using the built-in `list()` function:"
      ]
    },
    {
      "cell_type": "code",
      "metadata": {
        "id": "x45E7l1fYySD",
        "colab_type": "code",
        "colab": {
          "base_uri": "https://localhost:8080/",
          "height": 54
        },
        "outputId": "2bc44220-8692-4d7a-acdc-6f975215e2ca"
      },
      "source": [
        "# the built-in list() and tuple() functions can be used to convert one type to the other\n",
        "# - note = is needed for my_tuple or my_list to permanently change\n",
        "print(list(my_tuple))\n",
        "print(tuple(my_list))"
      ],
      "execution_count": 57,
      "outputs": [
        {
          "output_type": "stream",
          "text": [
            "['a', 'b', 'c']\n",
            "(0, 10, 20, 30, 40, 50, 60, 70, 9999)\n"
          ],
          "name": "stdout"
        }
      ]
    },
    {
      "cell_type": "markdown",
      "metadata": {
        "id": "uZB8UiSGIguW",
        "colab_type": "text"
      },
      "source": [
        "---"
      ]
    },
    {
      "cell_type": "markdown",
      "metadata": {
        "id": "bS8YcdMMa1CS",
        "colab_type": "text"
      },
      "source": [
        "## For Loops and List Comprehensions"
      ]
    },
    {
      "cell_type": "code",
      "metadata": {
        "id": "1Kyl_55hbB_N",
        "colab_type": "code",
        "colab": {
          "base_uri": "https://localhost:8080/",
          "height": 127
        },
        "outputId": "3800af75-2449-4f27-cfe8-62a9ba831403"
      },
      "source": [
        "my_list = list(range(6))\n",
        "\n",
        "# colon and indentation are important\n",
        "for i in my_list:\n",
        "    print(i)"
      ],
      "execution_count": 58,
      "outputs": [
        {
          "output_type": "stream",
          "text": [
            "0\n",
            "1\n",
            "2\n",
            "3\n",
            "4\n",
            "5\n"
          ],
          "name": "stdout"
        }
      ]
    },
    {
      "cell_type": "code",
      "metadata": {
        "id": "eGZpfA1qbUAW",
        "colab_type": "code",
        "colab": {
          "base_uri": "https://localhost:8080/",
          "height": 127
        },
        "outputId": "70e56176-5afc-40c2-80a9-36f495bffaef"
      },
      "source": [
        "for i in my_list:\n",
        "    print(i**2)"
      ],
      "execution_count": 59,
      "outputs": [
        {
          "output_type": "stream",
          "text": [
            "0\n",
            "1\n",
            "4\n",
            "9\n",
            "16\n",
            "25\n"
          ],
          "name": "stdout"
        }
      ]
    },
    {
      "cell_type": "code",
      "metadata": {
        "id": "-8EBseAebY9r",
        "colab_type": "code",
        "colab": {
          "base_uri": "https://localhost:8080/",
          "height": 35
        },
        "outputId": "9798a595-fda2-4549-9134-c8a303fb5c4e"
      },
      "source": [
        "another_list = []\n",
        "for i in my_list:\n",
        "    another_list.append(i**2)\n",
        "\n",
        "another_list"
      ],
      "execution_count": 60,
      "outputs": [
        {
          "output_type": "execute_result",
          "data": {
            "text/plain": [
              "[0, 1, 4, 9, 16, 25]"
            ]
          },
          "metadata": {
            "tags": []
          },
          "execution_count": 60
        }
      ]
    },
    {
      "cell_type": "code",
      "metadata": {
        "id": "WlNapIW2dv97",
        "colab_type": "code",
        "colab": {
          "base_uri": "https://localhost:8080/",
          "height": 35
        },
        "outputId": "b783cd52-557c-472a-c384-8317563f7722"
      },
      "source": [
        "# basic list comprehension\n",
        "another_list = [i**2 for i in my_list]\n",
        "another_list"
      ],
      "execution_count": 61,
      "outputs": [
        {
          "output_type": "execute_result",
          "data": {
            "text/plain": [
              "[0, 1, 4, 9, 16, 25]"
            ]
          },
          "metadata": {
            "tags": []
          },
          "execution_count": 61
        }
      ]
    },
    {
      "cell_type": "code",
      "metadata": {
        "id": "zuJ_V2ene2dd",
        "colab_type": "code",
        "colab": {
          "base_uri": "https://localhost:8080/",
          "height": 35
        },
        "outputId": "5a530af9-3372-446d-9f41-b501e89c7f9b"
      },
      "source": [
        "# list comprehension with conditional\n",
        "another_list = [i**2 for i in my_list if i % 2 == 0]\n",
        "another_list"
      ],
      "execution_count": 62,
      "outputs": [
        {
          "output_type": "execute_result",
          "data": {
            "text/plain": [
              "[0, 4, 16]"
            ]
          },
          "metadata": {
            "tags": []
          },
          "execution_count": 62
        }
      ]
    },
    {
      "cell_type": "code",
      "metadata": {
        "id": "IXgkEuppekHU",
        "colab_type": "code",
        "colab": {
          "base_uri": "https://localhost:8080/",
          "height": 35
        },
        "outputId": "4151838f-2395-45cf-9463-ce762102f30e"
      },
      "source": [
        "# list comprehension with complex conditional\n",
        "another_list = [i**2 if i%2==0 else i+100 for i in my_list]\n",
        "another_list"
      ],
      "execution_count": 63,
      "outputs": [
        {
          "output_type": "execute_result",
          "data": {
            "text/plain": [
              "[0, 101, 4, 103, 16, 105]"
            ]
          },
          "metadata": {
            "tags": []
          },
          "execution_count": 63
        }
      ]
    },
    {
      "cell_type": "markdown",
      "metadata": {
        "id": "AMA_yUr1UZqi",
        "colab_type": "text"
      },
      "source": [
        "## While Loops"
      ]
    },
    {
      "cell_type": "code",
      "metadata": {
        "id": "pCV4Jl9KgvR3",
        "colab_type": "code",
        "colab": {
          "base_uri": "https://localhost:8080/",
          "height": 109
        },
        "outputId": "3713a33a-f05e-44ac-8d7a-606efdae8c41"
      },
      "source": [
        "x = 0\n",
        "\n",
        "while x < 5:\n",
        "    print(x)\n",
        "    x = x + 1"
      ],
      "execution_count": 64,
      "outputs": [
        {
          "output_type": "stream",
          "text": [
            "0\n",
            "1\n",
            "2\n",
            "3\n",
            "4\n"
          ],
          "name": "stdout"
        }
      ]
    },
    {
      "cell_type": "markdown",
      "metadata": {
        "id": "v0G2rk3FUSWn",
        "colab_type": "text"
      },
      "source": [
        "## Dictionaries"
      ]
    },
    {
      "cell_type": "code",
      "metadata": {
        "id": "nKfPDIKqh4_C",
        "colab_type": "code",
        "colab": {
          "base_uri": "https://localhost:8080/",
          "height": 35
        },
        "outputId": "d09c2763-bdc3-4f59-b156-b4f61e29a49e"
      },
      "source": [
        "# create a new dictionary using curly braces {}\n",
        "x = {'genus': 'Aplysia', 'species': 'californica', 'mass': 150}\n",
        "x"
      ],
      "execution_count": 65,
      "outputs": [
        {
          "output_type": "execute_result",
          "data": {
            "text/plain": [
              "{'genus': 'Aplysia', 'mass': 150, 'species': 'californica'}"
            ]
          },
          "metadata": {
            "tags": []
          },
          "execution_count": 65
        }
      ]
    },
    {
      "cell_type": "code",
      "metadata": {
        "id": "qKgS91s1iND3",
        "colab_type": "code",
        "colab": {
          "base_uri": "https://localhost:8080/",
          "height": 36
        },
        "outputId": "6f035ddd-3f5f-49e7-99fa-68125e1903d1"
      },
      "source": [
        "# select items by key\n",
        "x['species']"
      ],
      "execution_count": 66,
      "outputs": [
        {
          "output_type": "execute_result",
          "data": {
            "application/vnd.google.colaboratory.intrinsic+json": {
              "type": "string"
            },
            "text/plain": [
              "'californica'"
            ]
          },
          "metadata": {
            "tags": []
          },
          "execution_count": 66
        }
      ]
    },
    {
      "cell_type": "code",
      "metadata": {
        "id": "2Zv5Pku-iVnH",
        "colab_type": "code",
        "colab": {
          "base_uri": "https://localhost:8080/",
          "height": 35
        },
        "outputId": "50b8263f-27e2-47cb-d082-7b1cc28ca125"
      },
      "source": [
        "# change values by key\n",
        "x['mass'] = 300\n",
        "x"
      ],
      "execution_count": 67,
      "outputs": [
        {
          "output_type": "execute_result",
          "data": {
            "text/plain": [
              "{'genus': 'Aplysia', 'mass': 300, 'species': 'californica'}"
            ]
          },
          "metadata": {
            "tags": []
          },
          "execution_count": 67
        }
      ]
    },
    {
      "cell_type": "code",
      "metadata": {
        "id": "R7eGsGw1ieTE",
        "colab_type": "code",
        "colab": {
          "base_uri": "https://localhost:8080/",
          "height": 72
        },
        "outputId": "7cc96d88-f281-4746-ef28-61e5b46bc4dc"
      },
      "source": [
        "# iterate over key-value pairs\n",
        "for k,v in x.items():\n",
        "    print(f'key: {k} --> value: {v}')"
      ],
      "execution_count": 68,
      "outputs": [
        {
          "output_type": "stream",
          "text": [
            "key: genus --> value: Aplysia\n",
            "key: species --> value: californica\n",
            "key: mass --> value: 300\n"
          ],
          "name": "stdout"
        }
      ]
    },
    {
      "cell_type": "code",
      "metadata": {
        "id": "q0qefaLfi5qm",
        "colab_type": "code",
        "colab": {
          "base_uri": "https://localhost:8080/",
          "height": 54
        },
        "outputId": "a3178009-c028-413d-cbd3-9793cb25f128"
      },
      "source": [
        "# dictionary comprehension\n",
        "# - use curly braces, and use colon to separate key and value\n",
        "my_list = [1, 2, 3, 4, 5]\n",
        "squares = {i: i**2 for i in my_list}\n",
        "\n",
        "print(squares)\n",
        "print(squares[4])"
      ],
      "execution_count": 69,
      "outputs": [
        {
          "output_type": "stream",
          "text": [
            "{1: 1, 2: 4, 3: 9, 4: 16, 5: 25}\n",
            "16\n"
          ],
          "name": "stdout"
        }
      ]
    },
    {
      "cell_type": "markdown",
      "metadata": {
        "id": "XtfHIWprUw5r",
        "colab_type": "text"
      },
      "source": [
        "## Functions"
      ]
    },
    {
      "cell_type": "code",
      "metadata": {
        "id": "B3snzbIcUAx6",
        "colab_type": "code",
        "colab": {
          "base_uri": "https://localhost:8080/",
          "height": 35
        },
        "outputId": "ed30cee7-99a3-4137-deb2-57855fc1ef96"
      },
      "source": [
        "# note that variables used in function, including the arguments, have local scope\n",
        "\n",
        "def compute_square(x):\n",
        "    return x**2\n",
        "\n",
        "compute_square(4)"
      ],
      "execution_count": 70,
      "outputs": [
        {
          "output_type": "execute_result",
          "data": {
            "text/plain": [
              "16"
            ]
          },
          "metadata": {
            "tags": []
          },
          "execution_count": 70
        }
      ]
    },
    {
      "cell_type": "markdown",
      "metadata": {
        "id": "kW-Jw1uVlMy7",
        "colab_type": "text"
      },
      "source": [
        "## IPython \"Magics\" and Extra Features"
      ]
    },
    {
      "cell_type": "markdown",
      "metadata": {
        "id": "48d6nvbyPfw5",
        "colab_type": "text"
      },
      "source": [
        "We have already seen that `%whos` can be used to list symbols and their values, and `?` can be used to display documentation. Neither of these are technically part of the Python language but are instead extra features added by IPython (\"Interactive Python\"), which is a system that Jupyter notebooks are built on top of. These extra features are sometimes refered to as \"IPython magics\"."
      ]
    },
    {
      "cell_type": "code",
      "metadata": {
        "id": "PPCn9fn-lcND",
        "colab_type": "code",
        "colab": {
          "base_uri": "https://localhost:8080/",
          "height": 35
        },
        "outputId": "13dd7f45-daed-4ea3-9716-200bd1e06a5c"
      },
      "source": [
        "# use _ to access the most recent result\n",
        "x = 4\n",
        "x"
      ],
      "execution_count": 71,
      "outputs": [
        {
          "output_type": "execute_result",
          "data": {
            "text/plain": [
              "4"
            ]
          },
          "metadata": {
            "tags": []
          },
          "execution_count": 71
        }
      ]
    },
    {
      "cell_type": "code",
      "metadata": {
        "id": "qDBMsYsKlshv",
        "colab_type": "code",
        "colab": {
          "base_uri": "https://localhost:8080/",
          "height": 35
        },
        "outputId": "c925d67d-96be-46cd-ab62-c700aa31b3be"
      },
      "source": [
        "_ + 1"
      ],
      "execution_count": 72,
      "outputs": [
        {
          "output_type": "execute_result",
          "data": {
            "text/plain": [
              "5"
            ]
          },
          "metadata": {
            "tags": []
          },
          "execution_count": 72
        }
      ]
    },
    {
      "cell_type": "code",
      "metadata": {
        "id": "UTh1SUdOhUhE",
        "colab_type": "code",
        "colab": {
          "base_uri": "https://localhost:8080/",
          "height": 146
        },
        "outputId": "64496061-d110-43af-a633-cceff0a8fd2f"
      },
      "source": [
        "# use ! to drop out of Python and into a system shell (command line)\n",
        "! ls /"
      ],
      "execution_count": 73,
      "outputs": [
        {
          "output_type": "stream",
          "text": [
            "bin\t\t\t\t\t   etc\t  opt\t sys\n",
            "boot\t\t\t\t\t   home   proc\t tensorflow-1.15.2\n",
            "content\t\t\t\t\t   lib\t  root\t tmp\n",
            "datalab\t\t\t\t\t   lib32  run\t tools\n",
            "dev\t\t\t\t\t   lib64  sbin\t usr\n",
            "dlib-19.18.0-cp27-cp27mu-linux_x86_64.whl  media  srv\t var\n",
            "dlib-19.18.0-cp36-cp36m-linux_x86_64.whl   mnt\t  swift\n"
          ],
          "name": "stdout"
        }
      ]
    },
    {
      "cell_type": "code",
      "metadata": {
        "id": "3OcbWtmlhUVY",
        "colab_type": "code",
        "colab": {}
      },
      "source": [
        ""
      ],
      "execution_count": 73,
      "outputs": []
    },
    {
      "cell_type": "code",
      "metadata": {
        "id": "EoXN8xFdmwyK",
        "colab_type": "code",
        "colab": {}
      },
      "source": [
        ""
      ],
      "execution_count": 73,
      "outputs": []
    },
    {
      "cell_type": "code",
      "metadata": {
        "id": "zzAI0D6lmwky",
        "colab_type": "code",
        "colab": {}
      },
      "source": [
        ""
      ],
      "execution_count": 73,
      "outputs": []
    },
    {
      "cell_type": "code",
      "metadata": {
        "id": "2AduIZEamwWG",
        "colab_type": "code",
        "colab": {}
      },
      "source": [
        ""
      ],
      "execution_count": 73,
      "outputs": []
    },
    {
      "cell_type": "code",
      "metadata": {
        "id": "bvJM0ts6mwI7",
        "colab_type": "code",
        "colab": {}
      },
      "source": [
        ""
      ],
      "execution_count": 73,
      "outputs": []
    },
    {
      "cell_type": "code",
      "metadata": {
        "id": "Hlnov2M8hUJG",
        "colab_type": "code",
        "colab": {}
      },
      "source": [
        ""
      ],
      "execution_count": 73,
      "outputs": []
    },
    {
      "cell_type": "markdown",
      "metadata": {
        "id": "0Pj6wO9ZnQ-I",
        "colab_type": "text"
      },
      "source": [
        "---\n",
        "\n",
        "## Topics for First Lession(s)\n",
        "\n",
        "* Variables in general\n",
        "    * Not declared, not explicitly typed\n",
        "    * Ints and decimals interchangeable\n",
        "    * x += 1\n",
        "    * strings, concatenation with + or join()\n",
        "        * ' '.join() uses attribute notation with a period\n",
        "    * print(), f-strings\n",
        "* Lists\n",
        "    * Can hold inhomogeneous objects, not explicitly typed\n",
        "    * list() and []\n",
        "    * One-dimensional\n",
        "    * Access by index\n",
        "        * Works for strings too\n",
        "    * Slicing\n",
        "    * list(range()), really a generator\n",
        "    * List comprehension\n",
        "* Dictionaries\n",
        "    * Again not typed\n",
        "    * Access by key\n",
        "    * dict() and {}\n",
        "    * Dictionary comprehension\n",
        "* Tuples\n",
        "    * Immutable, usable as dict keys\n",
        "    * tuple()\n",
        "\n",
        "* \"Pythonic\"\n",
        "    * The Zen of Python\n",
        "    * Example: traditional for-loop vs comprehension\n",
        "        * for, in keywords\n",
        "            * get fancy with zip()\n",
        "\n",
        "* Whitespace, trailing commas, comments\n",
        "\n",
        "* Built-in functions and keywords\n",
        "    * and, or, not, is, ==, True, False, None\n",
        "    * round(), int(), float(), abs(), len()\n",
        "    * input()\n",
        "    * with open() as f\n",
        "    * help() and the official documentation (always check version)\n",
        "\n",
        "* IPython magic / extra features\n",
        "    * %whos\n",
        "    * _ for last output\n",
        "    * ? for help\n",
        "    * ! for shell\n",
        "\n",
        "* Creating functions, classes\n",
        "    * Variable scope\n",
        "    * Object oriented programming with classes\n",
        "        * Object attributes\n",
        "\n",
        "* Modules, imports, packages\n",
        "    * import this (Zen of Python)\n",
        "    * import antigravity (xkcd)\n",
        "    * Namespaces\n",
        "        * from foo import *\n",
        "    * Standard libraries\n",
        "        * math, random, os, sys, io\n",
        "\n",
        "* Creating a program\n",
        "\n",
        "* Debugging errors, exceptions, try/except\n",
        "\n",
        "* Python 2 vs 3\n",
        "\n",
        "## Advanced Lessions\n",
        "\n",
        "* Numpy\n",
        "* pandas\n",
        "    * reading and writing data\n",
        "* matplotlib\n",
        "    * exporting plots\n",
        "* Neo, quantities\n",
        "* neurotic\n",
        "* Version control, Git, GitHub\n",
        "* Command line, IDE, Spyder, notebooks\n",
        "\n",
        "---"
      ]
    },
    {
      "cell_type": "markdown",
      "metadata": {
        "id": "ywlbOi3FUWgK",
        "colab_type": "text"
      },
      "source": [
        "## External Resources"
      ]
    },
    {
      "cell_type": "markdown",
      "metadata": {
        "id": "Nl36l9SJSGG9",
        "colab_type": "text"
      },
      "source": [
        "The official language documentation:\n",
        "\n",
        "* [Python 3 documentation](https://docs.python.org/3/index.html)\n",
        "* [Built-in functions](https://docs.python.org/3/library/functions.html)\n",
        "* [Standard libraries](https://docs.python.org/3/library/index.html)\n",
        "* [Glossary of terms](https://docs.python.org/3/glossary.html)\n",
        "* [In-depth tutorial](https://docs.python.org/3/tutorial/index.html)\n",
        "\n",
        "Extended language documentation:\n",
        "* [IPython (Jupyter) vs. Python differences](https://ipython.readthedocs.io/en/stable/interactive/python-ipython-diff.html)\n",
        "* [IPython (Jupyter) \"magic\" (`%`) commands](https://ipython.readthedocs.io/en/stable/interactive/magics.html)\n",
        "\n",
        "Free interactive books created by Jake VanderPlas:\n",
        "\n",
        "* [A Whirlwind Tour of Python](https://colab.research.google.com/github/jakevdp/WhirlwindTourOfPython/blob/master/Index.ipynb) [[PDF version]](https://www.oreilly.com/programming/free/files/a-whirlwind-tour-of-python.pdf)\n",
        "* [Python Data Science Handbook](https://colab.research.google.com/github/jakevdp/PythonDataScienceHandbook/blob/master/notebooks/Index.ipynb)"
      ]
    },
    {
      "cell_type": "markdown",
      "metadata": {
        "id": "c07TBHdokweE",
        "colab_type": "text"
      },
      "source": [
        "# Continue to the Next Lesson\n",
        "\n",
        "Return to home to continue to the next lession:\n",
        "\n",
        "https://jpgill86.github.io/python-for-neuroscientists/"
      ]
    },
    {
      "cell_type": "markdown",
      "metadata": {
        "id": "n-KhMl8xk1Ze",
        "colab_type": "text"
      },
      "source": [
        "# License\n",
        "\n",
        "[This work](https://github.com/jpgill86/python-for-neuroscientists) is licensed under a [Creative Commons Attribution 4.0 International\n",
        "License](http://creativecommons.org/licenses/by/4.0/)."
      ]
    }
  ]
}