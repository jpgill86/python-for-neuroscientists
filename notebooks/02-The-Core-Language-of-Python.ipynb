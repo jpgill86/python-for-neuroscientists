{
  "nbformat": 4,
  "nbformat_minor": 0,
  "metadata": {
    "colab": {
      "name": "02-The-Core-Language-of-Python.ipynb",
      "provenance": [],
      "collapsed_sections": [],
      "toc_visible": true,
      "include_colab_link": true
    },
    "kernelspec": {
      "name": "python3",
      "display_name": "Python 3"
    }
  },
  "cells": [
    {
      "cell_type": "markdown",
      "metadata": {
        "id": "view-in-github",
        "colab_type": "text"
      },
      "source": [
        "<a href=\"https://colab.research.google.com/github/jpgill86/python-for-neuroscientists/blob/master/notebooks/02-The-Core-Language-of-Python.ipynb\" target=\"_parent\"><img src=\"https://colab.research.google.com/assets/colab-badge.svg\" alt=\"Open In Colab\"/></a>"
      ]
    },
    {
      "cell_type": "markdown",
      "metadata": {
        "id": "QRtgy8QlUJSM",
        "colab_type": "text"
      },
      "source": [
        "# The Core Language of Python"
      ]
    },
    {
      "cell_type": "markdown",
      "metadata": {
        "id": "c07TBHdokweE",
        "colab_type": "text"
      },
      "source": [
        "This notebook was getting a bit unwieldy, so it has been split into multiple parts. Return to home to find them:\n",
        "\n",
        "https://jpgill86.github.io/python-for-neuroscientists/"
      ]
    },
    {
      "cell_type": "markdown",
      "metadata": {
        "id": "n-KhMl8xk1Ze",
        "colab_type": "text"
      },
      "source": [
        "# License\n",
        "\n",
        "[This work](https://github.com/jpgill86/python-for-neuroscientists) is licensed under a [Creative Commons Attribution 4.0 International\n",
        "License](http://creativecommons.org/licenses/by/4.0/)."
      ]
    }
  ]
}