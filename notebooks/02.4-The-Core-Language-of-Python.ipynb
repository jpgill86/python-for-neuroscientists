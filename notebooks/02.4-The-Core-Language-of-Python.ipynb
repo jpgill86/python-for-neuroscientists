{
  "nbformat": 4,
  "nbformat_minor": 0,
  "metadata": {
    "colab": {
      "name": "02.4-The-Core-Language-of-Python.ipynb",
      "provenance": [],
      "collapsed_sections": [],
      "toc_visible": true,
      "include_colab_link": true
    },
    "kernelspec": {
      "name": "python3",
      "display_name": "Python 3"
    }
  },
  "cells": [
    {
      "cell_type": "markdown",
      "metadata": {
        "id": "view-in-github",
        "colab_type": "text"
      },
      "source": [
        "<a href=\"https://colab.research.google.com/github/jpgill86/python-for-neuroscientists/blob/master/notebooks/02.4-The-Core-Language-of-Python.ipynb\" target=\"_parent\"><img src=\"https://colab.research.google.com/assets/colab-badge.svg\" alt=\"Open In Colab\"/></a>"
      ]
    },
    {
      "cell_type": "markdown",
      "metadata": {
        "id": "QRtgy8QlUJSM",
        "colab_type": "text"
      },
      "source": [
        "# The Core Language of Python: Part 4"
      ]
    },
    {
      "cell_type": "markdown",
      "metadata": {
        "id": "XtfHIWprUw5r",
        "colab_type": "text"
      },
      "source": [
        "## Functions"
      ]
    },
    {
      "cell_type": "markdown",
      "metadata": {
        "id": "QyezIW6lYzth",
        "colab_type": "text"
      },
      "source": [
        "### Definitions and Variable Scope"
      ]
    },
    {
      "cell_type": "markdown",
      "metadata": {
        "id": "Wnszey9SlfdV",
        "colab_type": "text"
      },
      "source": [
        "**Functions** take inputs, called **arguments** or **parameters**, and do work with them. Often, functions will **return** a result.\n",
        "\n",
        "Before use, functions must be **defined** using the `def` keyword. Inside the definition, results can be **returned** using the `return` keyword. Function arguments are specified in the definition inside parentheses after the function name.\n",
        "\n",
        "A function is used, or **called**, by invoking its name with the arguments."
      ]
    },
    {
      "cell_type": "code",
      "metadata": {
        "id": "B3snzbIcUAx6",
        "colab_type": "code",
        "colab": {
          "base_uri": "https://localhost:8080/",
          "height": 35
        },
        "outputId": "4162a0a8-e7b0-4687-ada9-e7b07c7647e5"
      },
      "source": [
        "def compute_square(x):\n",
        "    return x**2\n",
        "\n",
        "compute_square(4)"
      ],
      "execution_count": null,
      "outputs": [
        {
          "output_type": "execute_result",
          "data": {
            "text/plain": [
              "16"
            ]
          },
          "metadata": {
            "tags": []
          },
          "execution_count": 1
        }
      ]
    },
    {
      "cell_type": "markdown",
      "metadata": {
        "id": "r1xmHta7f4xx",
        "colab_type": "text"
      },
      "source": [
        "Variables assignment within a function has limited **scope**. This means that if a new variable is assigned within a function, it will exist within the function (local scope) but not outside it (global scope)."
      ]
    },
    {
      "cell_type": "code",
      "metadata": {
        "id": "JCcEh5QcGZXM",
        "colab_type": "code",
        "colab": {
          "base_uri": "https://localhost:8080/",
          "height": 225
        },
        "outputId": "4e387917-b720-448d-bb09-4124eea574e7"
      },
      "source": [
        "def add_4(x):\n",
        "    # this new variable has local scope and will not be accessible outside the function\n",
        "    some_local_variable = x + 4\n",
        "    \n",
        "    # use an f-string to display the result\n",
        "    print(f'{x} + 4 = {some_local_variable}')\n",
        "\n",
        "add_4(1)\n",
        "\n",
        "# this will fail because some_local_variable is out of scope\n",
        "print(some_local_variable)"
      ],
      "execution_count": null,
      "outputs": [
        {
          "output_type": "stream",
          "text": [
            "1 + 4 = 5\n"
          ],
          "name": "stdout"
        },
        {
          "output_type": "error",
          "ename": "NameError",
          "evalue": "ignored",
          "traceback": [
            "\u001b[0;31m---------------------------------------------------------------------------\u001b[0m",
            "\u001b[0;31mNameError\u001b[0m                                 Traceback (most recent call last)",
            "\u001b[0;32m<ipython-input-2-dd89e550e808>\u001b[0m in \u001b[0;36m<module>\u001b[0;34m()\u001b[0m\n\u001b[1;32m      9\u001b[0m \u001b[0;34m\u001b[0m\u001b[0m\n\u001b[1;32m     10\u001b[0m \u001b[0;31m# this will fail because some_local_variable is out of scope\u001b[0m\u001b[0;34m\u001b[0m\u001b[0;34m\u001b[0m\u001b[0;34m\u001b[0m\u001b[0m\n\u001b[0;32m---> 11\u001b[0;31m \u001b[0mprint\u001b[0m\u001b[0;34m(\u001b[0m\u001b[0msome_local_variable\u001b[0m\u001b[0;34m)\u001b[0m\u001b[0;34m\u001b[0m\u001b[0;34m\u001b[0m\u001b[0m\n\u001b[0m",
            "\u001b[0;31mNameError\u001b[0m: name 'some_local_variable' is not defined"
          ]
        }
      ]
    },
    {
      "cell_type": "markdown",
      "metadata": {
        "id": "FJ61P-MoGTdM",
        "colab_type": "text"
      },
      "source": [
        "This also means that if a variable that already exists (a global variable) is given a value inside the function, the global variable will not be affected."
      ]
    },
    {
      "cell_type": "code",
      "metadata": {
        "id": "_-hoKrz9eaID",
        "colab_type": "code",
        "colab": {
          "base_uri": "https://localhost:8080/",
          "height": 72
        },
        "outputId": "bb9f3e1a-b310-4023-d239-eb62530d7289"
      },
      "source": [
        "x = 'original value'\n",
        "\n",
        "print(f'x in global scope: {x}')\n",
        "\n",
        "def print_something(text):\n",
        "    # assigning x inside the function does not affect x outside\n",
        "    x = text\n",
        "    print(f'x in local scope: {x}')\n",
        "\n",
        "print_something('new value')\n",
        "\n",
        "print(f'x in global scope: {x}')"
      ],
      "execution_count": null,
      "outputs": [
        {
          "output_type": "stream",
          "text": [
            "x in global scope: original value\n",
            "x in local scope: new value\n",
            "x in global scope: original value\n"
          ],
          "name": "stdout"
        }
      ]
    },
    {
      "cell_type": "markdown",
      "metadata": {
        "id": "5Ie5Qaikm3Pv",
        "colab_type": "text"
      },
      "source": [
        "Functions can be defined with multiple arguments."
      ]
    },
    {
      "cell_type": "code",
      "metadata": {
        "id": "lxyjjasHgblQ",
        "colab_type": "code",
        "colab": {
          "base_uri": "https://localhost:8080/",
          "height": 35
        },
        "outputId": "81741b79-f797-4d85-e153-809582346303"
      },
      "source": [
        "def quadratic(x, a, b, c):\n",
        "    return a * x**2 + b * x + c\n",
        "\n",
        "quadratic(3, 1, 0, 5)  # 1 * 3**2 + 5 = 14"
      ],
      "execution_count": null,
      "outputs": [
        {
          "output_type": "execute_result",
          "data": {
            "text/plain": [
              "14"
            ]
          },
          "metadata": {
            "tags": []
          },
          "execution_count": 4
        }
      ]
    },
    {
      "cell_type": "markdown",
      "metadata": {
        "id": "L72PWJovHNxu",
        "colab_type": "text"
      },
      "source": [
        "When calling a function with multiple arguments, the order of the inputs must match the definition unless the arguments are explicitly named. This can be done using `=` to pass what are called **keyword arguments**. This use of `=` does not actually assign the value to the argument in the global scope."
      ]
    },
    {
      "cell_type": "code",
      "metadata": {
        "id": "3CAqarN2H5KE",
        "colab_type": "code",
        "colab": {
          "base_uri": "https://localhost:8080/",
          "height": 35
        },
        "outputId": "fe69abbc-b1dd-4aa2-8d56-ef498b365349"
      },
      "source": [
        "# arguments may be given out of order if they are explicitly named with =\n",
        "quadratic(b=0, c=5, a=1, x=3)\n",
        "\n",
        "# after calling the function with explicit arguments, the variables x, a, b, c\n",
        "# have NOT been defined or changed in the global scope"
      ],
      "execution_count": null,
      "outputs": [
        {
          "output_type": "execute_result",
          "data": {
            "text/plain": [
              "14"
            ]
          },
          "metadata": {
            "tags": []
          },
          "execution_count": 5
        }
      ]
    },
    {
      "cell_type": "markdown",
      "metadata": {
        "id": "UxggRAaDMnS6",
        "colab_type": "text"
      },
      "source": [
        "Because `=` has this special non-assignment meaning in function calls, you will sometimes see seemingly odd notation where variables appear to be assigned to themselves. For example, if the parameters for `quadratic` are already defined in the global scope as variables with the same names, the function could be called like this:"
      ]
    },
    {
      "cell_type": "code",
      "metadata": {
        "id": "5KGA7juqNLqm",
        "colab_type": "code",
        "colab": {
          "base_uri": "https://localhost:8080/",
          "height": 35
        },
        "outputId": "4e8600f4-fc6b-4b1c-9d3b-37b0d8a6249b"
      },
      "source": [
        "x = 3\n",
        "a = 1\n",
        "b = 0\n",
        "c = 5\n",
        "\n",
        "quadratic(b=b, c=c, a=a, x=x)"
      ],
      "execution_count": null,
      "outputs": [
        {
          "output_type": "execute_result",
          "data": {
            "text/plain": [
              "14"
            ]
          },
          "metadata": {
            "tags": []
          },
          "execution_count": 6
        }
      ]
    },
    {
      "cell_type": "markdown",
      "metadata": {
        "id": "VeWgqNxpm97V",
        "colab_type": "text"
      },
      "source": [
        "When you see a function call like this, remember that the names to the left of the `=` symbols are the argument names, which will exist in the local scope of the function, and the names to the right of the `=` symbols refer to variables defined in the global scope.\n",
        "\n",
        "By default, all arguments must be provided when using the function. This code will fail because `quadratic` requires 4 arguments:"
      ]
    },
    {
      "cell_type": "code",
      "metadata": {
        "id": "NQ7NK9Nyg5rH",
        "colab_type": "code",
        "colab": {
          "base_uri": "https://localhost:8080/",
          "height": 189
        },
        "outputId": "7e420217-f3d0-44f7-ecfa-d16b9eea837c"
      },
      "source": [
        "# this will fail because 4 arguments are mandatory\n",
        "quadratic(3)"
      ],
      "execution_count": null,
      "outputs": [
        {
          "output_type": "error",
          "ename": "TypeError",
          "evalue": "ignored",
          "traceback": [
            "\u001b[0;31m---------------------------------------------------------------------------\u001b[0m",
            "\u001b[0;31mTypeError\u001b[0m                                 Traceback (most recent call last)",
            "\u001b[0;32m<ipython-input-7-91756da54ac8>\u001b[0m in \u001b[0;36m<module>\u001b[0;34m()\u001b[0m\n\u001b[1;32m      1\u001b[0m \u001b[0;31m# this will fail because 4 arguments are mandatory\u001b[0m\u001b[0;34m\u001b[0m\u001b[0;34m\u001b[0m\u001b[0;34m\u001b[0m\u001b[0m\n\u001b[0;32m----> 2\u001b[0;31m \u001b[0mquadratic\u001b[0m\u001b[0;34m(\u001b[0m\u001b[0;36m3\u001b[0m\u001b[0;34m)\u001b[0m\u001b[0;34m\u001b[0m\u001b[0;34m\u001b[0m\u001b[0m\n\u001b[0m",
            "\u001b[0;31mTypeError\u001b[0m: quadratic() missing 3 required positional arguments: 'a', 'b', and 'c'"
          ]
        }
      ]
    },
    {
      "cell_type": "markdown",
      "metadata": {
        "id": "JFHybcdonkuj",
        "colab_type": "text"
      },
      "source": [
        "Functions can be defined with default parameter values using `=` so that they are not required when calling the function. Again, this does not actually assign these values to variables in the global scope."
      ]
    },
    {
      "cell_type": "code",
      "metadata": {
        "id": "ZEB4y9hjg8-p",
        "colab_type": "code",
        "colab": {
          "base_uri": "https://localhost:8080/",
          "height": 35
        },
        "outputId": "eacbf2f0-7a92-4163-9978-88358c4a740a"
      },
      "source": [
        "# provide default values for parameters\n",
        "def quadratic(x, a=1, b=0, c=0):\n",
        "    return a * x**2 + b * x + c\n",
        "\n",
        "quadratic(3)"
      ],
      "execution_count": null,
      "outputs": [
        {
          "output_type": "execute_result",
          "data": {
            "text/plain": [
              "9"
            ]
          },
          "metadata": {
            "tags": []
          },
          "execution_count": 8
        }
      ]
    },
    {
      "cell_type": "markdown",
      "metadata": {
        "id": "PdcAOc_aAyDq",
        "colab_type": "text"
      },
      "source": [
        "When variables containing lists, dictionaries, or other complex objects (e.g., custom classes) are passed as arguments to a function, they are **passed by reference**, which means that the function can change those variables in the global scope. For example, if a list is passed to a function as input, the function could change items in the list:"
      ]
    },
    {
      "cell_type": "code",
      "metadata": {
        "id": "Sy4WEY0h_4J2",
        "colab_type": "code",
        "colab": {
          "base_uri": "https://localhost:8080/",
          "height": 35
        },
        "outputId": "8b60c9fa-7ac3-4ee6-ec43-e785b4c57f53"
      },
      "source": [
        "def change_list(some_list):\n",
        "    # change the first item in the list to 4\n",
        "    some_list[0] = 4\n",
        "\n",
        "my_list = [1, 1, 1, 1]\n",
        "\n",
        "# this function call will change my_list permanently in the global scope\n",
        "change_list(my_list)\n",
        "\n",
        "# the first item has changed\n",
        "my_list"
      ],
      "execution_count": null,
      "outputs": [
        {
          "output_type": "execute_result",
          "data": {
            "text/plain": [
              "[4, 1, 1, 1]"
            ]
          },
          "metadata": {
            "tags": []
          },
          "execution_count": 9
        }
      ]
    },
    {
      "cell_type": "markdown",
      "metadata": {
        "id": "DcczgmQ0YaO1",
        "colab_type": "text"
      },
      "source": [
        "### Map and Filter"
      ]
    },
    {
      "cell_type": "markdown",
      "metadata": {
        "id": "XRH7w9shnyAp",
        "colab_type": "text"
      },
      "source": [
        "The built-in function `map` can be used to apply a function to every value in a sequence:"
      ]
    },
    {
      "cell_type": "code",
      "metadata": {
        "id": "EZE5w-6GhMhr",
        "colab_type": "code",
        "colab": {
          "base_uri": "https://localhost:8080/",
          "height": 35
        },
        "outputId": "d88ff423-219d-4744-e672-f93c8606bc17"
      },
      "source": [
        "list(map(compute_square, range(5)))  # list() is used so the output displays nicely"
      ],
      "execution_count": null,
      "outputs": [
        {
          "output_type": "execute_result",
          "data": {
            "text/plain": [
              "[0, 1, 4, 9, 16]"
            ]
          },
          "metadata": {
            "tags": []
          },
          "execution_count": 10
        }
      ]
    },
    {
      "cell_type": "markdown",
      "metadata": {
        "id": "XbcJy_qEn5ow",
        "colab_type": "text"
      },
      "source": [
        "This example is identical to the following list comprehension:"
      ]
    },
    {
      "cell_type": "code",
      "metadata": {
        "id": "1IBPU99ghhj1",
        "colab_type": "code",
        "colab": {
          "base_uri": "https://localhost:8080/",
          "height": 35
        },
        "outputId": "50cf58b1-a42e-4647-82d2-7f350eb98ec3"
      },
      "source": [
        "[compute_square(i) for i in range(5)]"
      ],
      "execution_count": null,
      "outputs": [
        {
          "output_type": "execute_result",
          "data": {
            "text/plain": [
              "[0, 1, 4, 9, 16]"
            ]
          },
          "metadata": {
            "tags": []
          },
          "execution_count": 11
        }
      ]
    },
    {
      "cell_type": "markdown",
      "metadata": {
        "id": "YZIf9yoxCb9s",
        "colab_type": "text"
      },
      "source": [
        "`map` can be used with multiple sequences. The first items from all sequences will be passed together as arguments to the function, then the second items, and so on."
      ]
    },
    {
      "cell_type": "code",
      "metadata": {
        "id": "CGZ3OPHxCMuA",
        "colab_type": "code",
        "colab": {
          "base_uri": "https://localhost:8080/",
          "height": 35
        },
        "outputId": "3943f6a5-e732-413e-8e7e-4e10fb098ed7"
      },
      "source": [
        "def multiply(x, y):\n",
        "    return x * y\n",
        "\n",
        "list1 = [1, 2, 3, 4]\n",
        "list2 = [1, 10, 100, 1000]\n",
        "\n",
        "list(map(multiply, list1, list2))  # list() is used so the output displays nicely"
      ],
      "execution_count": null,
      "outputs": [
        {
          "output_type": "execute_result",
          "data": {
            "text/plain": [
              "[1, 20, 300, 4000]"
            ]
          },
          "metadata": {
            "tags": []
          },
          "execution_count": 12
        }
      ]
    },
    {
      "cell_type": "markdown",
      "metadata": {
        "id": "UTFrw3ckE08H",
        "colab_type": "text"
      },
      "source": [
        "This behavior can also be replicated with a list comprehension and `zip()`:"
      ]
    },
    {
      "cell_type": "code",
      "metadata": {
        "id": "JBfMFu-vErqc",
        "colab_type": "code",
        "colab": {
          "base_uri": "https://localhost:8080/",
          "height": 35
        },
        "outputId": "8f1a9ce6-260b-4f2d-d70f-755c822b666a"
      },
      "source": [
        "[multiply(x, y) for x, y in zip(list1, list2)]"
      ],
      "execution_count": null,
      "outputs": [
        {
          "output_type": "execute_result",
          "data": {
            "text/plain": [
              "[1, 20, 300, 4000]"
            ]
          },
          "metadata": {
            "tags": []
          },
          "execution_count": 13
        }
      ]
    },
    {
      "cell_type": "markdown",
      "metadata": {
        "id": "-_qiZpUOoEzx",
        "colab_type": "text"
      },
      "source": [
        "The built-in function `filter` is used to remove all items from a sequence that do not satisfy the criterion of returning `True` when passed into a function:"
      ]
    },
    {
      "cell_type": "code",
      "metadata": {
        "id": "jVmchd1HjuMT",
        "colab_type": "code",
        "colab": {
          "base_uri": "https://localhost:8080/",
          "height": 35
        },
        "outputId": "186aca67-b443-4c55-a383-05aa64805fc0"
      },
      "source": [
        "def greater_than_2(x):\n",
        "    return x > 2\n",
        "\n",
        "# keep only items that satisfy the condition\n",
        "list(filter(greater_than_2, range(5)))  # list() is used so the output displays nicely"
      ],
      "execution_count": null,
      "outputs": [
        {
          "output_type": "execute_result",
          "data": {
            "text/plain": [
              "[3, 4]"
            ]
          },
          "metadata": {
            "tags": []
          },
          "execution_count": 14
        }
      ]
    },
    {
      "cell_type": "markdown",
      "metadata": {
        "id": "ZJt99qRgKAAF",
        "colab_type": "text"
      },
      "source": [
        "This behavior can also be replicated by a list comprehension:"
      ]
    },
    {
      "cell_type": "code",
      "metadata": {
        "id": "F15qik_hKD7R",
        "colab_type": "code",
        "colab": {
          "base_uri": "https://localhost:8080/",
          "height": 35
        },
        "outputId": "50db40ce-ae94-40b3-aae9-e3a9d13b197d"
      },
      "source": [
        "[x for x in range(5) if greater_than_2(x)]"
      ],
      "execution_count": null,
      "outputs": [
        {
          "output_type": "execute_result",
          "data": {
            "text/plain": [
              "[3, 4]"
            ]
          },
          "metadata": {
            "tags": []
          },
          "execution_count": 15
        }
      ]
    },
    {
      "cell_type": "markdown",
      "metadata": {
        "id": "yuyyaYiODIZt",
        "colab_type": "text"
      },
      "source": [
        "`filter` does not change the variable:"
      ]
    },
    {
      "cell_type": "code",
      "metadata": {
        "id": "8l_rRZsAC-yt",
        "colab_type": "code",
        "colab": {
          "base_uri": "https://localhost:8080/",
          "height": 53
        },
        "outputId": "00bd0623-c43b-46d6-b23b-8b3dc3e8530c"
      },
      "source": [
        "my_list = [0, 1, 2, 3, 4]\n",
        "\n",
        "# return a filtered version of the list but do not actually change my_list\n",
        "print(list(filter(greater_than_2, my_list)))  # list() is used so the output displays nicely\n",
        "\n",
        "# the list was not permanently changed\n",
        "print(my_list)"
      ],
      "execution_count": null,
      "outputs": [
        {
          "output_type": "stream",
          "text": [
            "[3, 4]\n",
            "[0, 1, 2, 3, 4]\n"
          ],
          "name": "stdout"
        }
      ]
    },
    {
      "cell_type": "markdown",
      "metadata": {
        "id": "S6kjvYKTYfZ-",
        "colab_type": "text"
      },
      "source": [
        "### Lambda Functions"
      ]
    },
    {
      "cell_type": "markdown",
      "metadata": {
        "id": "F84GDe6GoVHz",
        "colab_type": "text"
      },
      "source": [
        "Temporary **anonymous functions**, also called **lambda functions**, can be defined using the `lambda` keyword. They are useful in contexts were a function is needed just once to do something simple.\n",
        "\n",
        "This example is equivalent to the previous one but does not require the function `greater_than_2` to be defined:"
      ]
    },
    {
      "cell_type": "code",
      "metadata": {
        "id": "Tdc-A3CCkS-_",
        "colab_type": "code",
        "colab": {
          "base_uri": "https://localhost:8080/",
          "height": 35
        },
        "outputId": "0de3daf7-6591-4cce-ace7-612e9041e731"
      },
      "source": [
        "list(filter(lambda x: x > 2, range(5)))"
      ],
      "execution_count": null,
      "outputs": [
        {
          "output_type": "execute_result",
          "data": {
            "text/plain": [
              "[3, 4]"
            ]
          },
          "metadata": {
            "tags": []
          },
          "execution_count": 17
        }
      ]
    },
    {
      "cell_type": "markdown",
      "metadata": {
        "id": "TXDjxkDCZCsM",
        "colab_type": "text"
      },
      "source": [
        "Here's another example where the expression `type(x) in [int, float]` is used to check whether each item in a list has a numeric type:"
      ]
    },
    {
      "cell_type": "code",
      "metadata": {
        "id": "O6_XdXgfZNRQ",
        "colab_type": "code",
        "colab": {
          "base_uri": "https://localhost:8080/",
          "height": 35
        },
        "outputId": "1d57cd23-e40c-473b-8977-52d90bc616be"
      },
      "source": [
        "my_list = ['some words', 99, 99., -1.23, 'a', 3.14, 'z', False, 9876, '445']\n",
        "\n",
        "print(list(filter(lambda x: type(x) in [int, float], my_list)))"
      ],
      "execution_count": null,
      "outputs": [
        {
          "output_type": "stream",
          "text": [
            "[99, 99.0, -1.23, 3.14, 9876]\n"
          ],
          "name": "stdout"
        }
      ]
    },
    {
      "cell_type": "markdown",
      "metadata": {
        "id": "tzaYf7a_ZgxD",
        "colab_type": "text"
      },
      "source": [
        "### Docstrings"
      ]
    },
    {
      "cell_type": "markdown",
      "metadata": {
        "id": "jhLHgGm8o3so",
        "colab_type": "text"
      },
      "source": [
        "A function can be defined with a **docstring**, or documentation string, which can provide helpful information when `help()` or `?` is used. Docstrings can span multiple lines and are sometimes very detailed (e.g., describing every function argument)."
      ]
    },
    {
      "cell_type": "code",
      "metadata": {
        "id": "m_U0UhMVk-rL",
        "colab_type": "code",
        "colab": {
          "base_uri": "https://localhost:8080/",
          "height": 144
        },
        "outputId": "487826e8-7d4e-43ff-b916-b4b06fe7835c"
      },
      "source": [
        "def compute_square(x):\n",
        "    '''Calculate the square of the input\n",
        "    \n",
        "    x: the number to be squared'''\n",
        "    \n",
        "    return x**2\n",
        "\n",
        "help(compute_square)"
      ],
      "execution_count": null,
      "outputs": [
        {
          "output_type": "stream",
          "text": [
            "Help on function compute_square in module __main__:\n",
            "\n",
            "compute_square(x)\n",
            "    Calculate the square of the input\n",
            "    \n",
            "    x: the number to be squared\n",
            "\n"
          ],
          "name": "stdout"
        }
      ]
    },
    {
      "cell_type": "markdown",
      "metadata": {
        "id": "B-kVZPo3ZmXa",
        "colab_type": "text"
      },
      "source": [
        "### Packing, Unpacking, and Variable Numbers of Arguments (Variadic Functions)"
      ]
    },
    {
      "cell_type": "markdown",
      "metadata": {
        "id": "JBF3eflUphLo",
        "colab_type": "text"
      },
      "source": [
        "Multiple values can be returned at once. If they are separated by commas without enclosing brackets, the returned object is a tuple."
      ]
    },
    {
      "cell_type": "code",
      "metadata": {
        "id": "ifdc6CuHlXtv",
        "colab_type": "code",
        "colab": {
          "base_uri": "https://localhost:8080/",
          "height": 35
        },
        "outputId": "c898aa84-919a-476c-d6da-74d83793a86c"
      },
      "source": [
        "def powers(x):\n",
        "    return x**1, x**2, x**3\n",
        "\n",
        "x = 2\n",
        "result = powers(x)\n",
        "\n",
        "print(f'Result of powers({x}) is a tuple: {result}')"
      ],
      "execution_count": null,
      "outputs": [
        {
          "output_type": "stream",
          "text": [
            "Result of powers(2) is a tuple: (2, 4, 8)\n"
          ],
          "name": "stdout"
        }
      ]
    },
    {
      "cell_type": "markdown",
      "metadata": {
        "id": "ZN_CJ4sOp4on",
        "colab_type": "text"
      },
      "source": [
        "When a function returns a tuple or list, the result can be **unpacked** into multiple named variables for convenience."
      ]
    },
    {
      "cell_type": "code",
      "metadata": {
        "id": "SFoRX6y3mpME",
        "colab_type": "code",
        "colab": {
          "base_uri": "https://localhost:8080/",
          "height": 90
        },
        "outputId": "ec46b6c4-299e-486c-d3fe-f84245a7a8f5"
      },
      "source": [
        "x = 2\n",
        "first, second, third = powers(x)\n",
        "\n",
        "print(f'Result of powers({x}) was unpacked into 3 variables...')\n",
        "print(f'first:  {first}')\n",
        "print(f'second: {second}')\n",
        "print(f'third:  {third}')"
      ],
      "execution_count": null,
      "outputs": [
        {
          "output_type": "stream",
          "text": [
            "Result of powers(2) was unpacked into 3 variables...\n",
            "first:  2\n",
            "second: 4\n",
            "third:  8\n"
          ],
          "name": "stdout"
        }
      ]
    },
    {
      "cell_type": "markdown",
      "metadata": {
        "id": "Mt_msWYiqOr9",
        "colab_type": "text"
      },
      "source": [
        "To partially unpack the returned values and discard the rest, use `_` as a placeholder for the results you do not care about."
      ]
    },
    {
      "cell_type": "code",
      "metadata": {
        "id": "nMbhhoQSqCpC",
        "colab_type": "code",
        "colab": {
          "base_uri": "https://localhost:8080/",
          "height": 53
        },
        "outputId": "b902de2d-d19e-491c-ad5e-34512eb4298f"
      },
      "source": [
        "x = 2\n",
        "first, _, _ = powers(x)\n",
        "\n",
        "print(f'The first result of powers({x}) was unpacked but the others were discarded...')\n",
        "print(f'first:  {first}')"
      ],
      "execution_count": null,
      "outputs": [
        {
          "output_type": "stream",
          "text": [
            "The first result of powers(2) was unpacked but the others were discarded...\n",
            "first:  2\n"
          ],
          "name": "stdout"
        }
      ]
    },
    {
      "cell_type": "markdown",
      "metadata": {
        "id": "NSyVc8sglo6O",
        "colab_type": "text"
      },
      "source": [
        "If you would like to unpack some variables and keep others packed instead of discaring them, you can do this using an asterisk (`*`) in front of one of the variable names, which essentially means \"store in here whatever is left over\":"
      ]
    },
    {
      "cell_type": "code",
      "metadata": {
        "id": "U28IZWpwpFdA",
        "colab_type": "code",
        "colab": {
          "base_uri": "https://localhost:8080/",
          "height": 72
        },
        "outputId": "7094fe1d-519a-4d58-9f6f-b6e70f4f2e37"
      },
      "source": [
        "x = 2\n",
        "first, *rest = powers(x)\n",
        "\n",
        "print(f'The first result of powers({x}) was unpacked into \"first\" and the rest were stored in \"rest\"...')\n",
        "print(f'first:  {first}')\n",
        "print(f'rest:   {rest}')"
      ],
      "execution_count": null,
      "outputs": [
        {
          "output_type": "stream",
          "text": [
            "The first result of powers(2) was unpacked into \"first\" and the rest were stored in \"rest\"...\n",
            "first:  2\n",
            "rest:   [4, 8]\n"
          ],
          "name": "stdout"
        }
      ]
    },
    {
      "cell_type": "markdown",
      "metadata": {
        "id": "hr-jg5gRopKj",
        "colab_type": "text"
      },
      "source": [
        "This can be especially useful when the number of returned values may change. For example, the following generalization of the `powers` function will return all powers of `x`, starting from 1 and going up to `max`; the first of these returned values will be stored in `first`, the last will be stored in `last`, and the rest will be stored in `middle`:"
      ]
    },
    {
      "cell_type": "code",
      "metadata": {
        "id": "5UlEdEJ8l7xW",
        "colab_type": "code",
        "colab": {
          "base_uri": "https://localhost:8080/",
          "height": 72
        },
        "outputId": "1ed3dc6d-5c95-45e8-ec7e-e429604e06ac"
      },
      "source": [
        "def powers(x, max=3):\n",
        "    return [x**i for i in range(1, max+1)]\n",
        "\n",
        "first, *middle, last = powers(2, max=6)\n",
        "\n",
        "print(first)\n",
        "print(middle)\n",
        "print(last)"
      ],
      "execution_count": null,
      "outputs": [
        {
          "output_type": "stream",
          "text": [
            "2\n",
            "[4, 8, 16, 32]\n",
            "64\n"
          ],
          "name": "stdout"
        }
      ]
    },
    {
      "cell_type": "markdown",
      "metadata": {
        "id": "ptJrJUavqk85",
        "colab_type": "text"
      },
      "source": [
        "The asterisk is used in many contexts related to unpacking *and packing*. If an asterisk precedes an argument name in the function definition, that argument name stands for a sequence of inputs of any length, which will be **packed** into one tuple."
      ]
    },
    {
      "cell_type": "code",
      "metadata": {
        "id": "w6Swtlprp5Fb",
        "colab_type": "code",
        "colab": {
          "base_uri": "https://localhost:8080/",
          "height": 35
        },
        "outputId": "f0de5524-cf1e-4c34-c433-79190b3bba6d"
      },
      "source": [
        "def my_func(*args):\n",
        "    # everything passed to my_func is stored in args as a tuple\n",
        "    print(f'here are the contents of args: {args}')\n",
        "\n",
        "# the returned object is a tuple containing all of the inputs\n",
        "my_func(['x', 'y', 'z'], 123, 'abc', True)"
      ],
      "execution_count": null,
      "outputs": [
        {
          "output_type": "stream",
          "text": [
            "here are the contents of args: (['x', 'y', 'z'], 123, 'abc', True)\n"
          ],
          "name": "stdout"
        }
      ]
    },
    {
      "cell_type": "markdown",
      "metadata": {
        "id": "WlEzWbjPq8bP",
        "colab_type": "text"
      },
      "source": [
        "This is useful when the number of inputs is allowed to vary. Functions that can have a variable number of inputs are called **variadic functions**. For example, this function can take any positive number of numeric inputs and compute their average using the built-in `sum()` and `len()` functions:"
      ]
    },
    {
      "cell_type": "code",
      "metadata": {
        "id": "oueWCZi1fq7y",
        "colab_type": "code",
        "colab": {
          "base_uri": "https://localhost:8080/",
          "height": 53
        },
        "outputId": "66addf8e-b746-44e9-f363-0114d9df4915"
      },
      "source": [
        "def average(*nums):\n",
        "    return sum(nums)/len(nums)\n",
        "\n",
        "print(f'Average of inputs 10, 20:   {average(10, 20)}')\n",
        "print(f'Average of inputs 1, 2, 6:  {average(1, 2, 6)}')"
      ],
      "execution_count": null,
      "outputs": [
        {
          "output_type": "stream",
          "text": [
            "Average of inputs 10, 20:   15.0\n",
            "Average of inputs 1, 2, 6:  3.0\n"
          ],
          "name": "stdout"
        }
      ]
    },
    {
      "cell_type": "markdown",
      "metadata": {
        "id": "UJpMeGBPrgFu",
        "colab_type": "text"
      },
      "source": [
        "Notice that because the function is defined with the argument `*nums` instead of `nums`, the local variable `nums`, when used within the function *without the asterisk*, will be a tuple containing the arguments. This means that the naked inputs `1, 2, 6` will be stored as `args = (1, 2, 6)`; in contrast, if the input is a list of numbers like `[1, 2, 6]`, `args` will be a list inside a tuple: `args = ([1, 2, 6],)`.  Both `sum()` and `len()` will not interpret this input as we want, so the function will produce an error when given a list as input, rather than naked numbers:"
      ]
    },
    {
      "cell_type": "code",
      "metadata": {
        "id": "6JVuUa-esfqE",
        "colab_type": "code",
        "colab": {
          "base_uri": "https://localhost:8080/",
          "height": 334
        },
        "outputId": "d0dd9a1a-6cd8-42ef-9e9c-78408e4a0a7d"
      },
      "source": [
        "# this does not work because nums should be naked numeric values, not a list\n",
        "my_list = [1, 2, 6]\n",
        "average(my_list)"
      ],
      "execution_count": null,
      "outputs": [
        {
          "output_type": "error",
          "ename": "TypeError",
          "evalue": "ignored",
          "traceback": [
            "\u001b[0;31m---------------------------------------------------------------------------\u001b[0m",
            "\u001b[0;31mTypeError\u001b[0m                                 Traceback (most recent call last)",
            "\u001b[0;32m<ipython-input-27-02c5b7dc10b3>\u001b[0m in \u001b[0;36m<module>\u001b[0;34m()\u001b[0m\n\u001b[1;32m      1\u001b[0m \u001b[0;31m# this does not work because nums should be naked numeric values, not a list\u001b[0m\u001b[0;34m\u001b[0m\u001b[0;34m\u001b[0m\u001b[0;34m\u001b[0m\u001b[0m\n\u001b[1;32m      2\u001b[0m \u001b[0mmy_list\u001b[0m \u001b[0;34m=\u001b[0m \u001b[0;34m[\u001b[0m\u001b[0;36m1\u001b[0m\u001b[0;34m,\u001b[0m \u001b[0;36m2\u001b[0m\u001b[0;34m,\u001b[0m \u001b[0;36m6\u001b[0m\u001b[0;34m]\u001b[0m\u001b[0;34m\u001b[0m\u001b[0;34m\u001b[0m\u001b[0m\n\u001b[0;32m----> 3\u001b[0;31m \u001b[0maverage\u001b[0m\u001b[0;34m(\u001b[0m\u001b[0mmy_list\u001b[0m\u001b[0;34m)\u001b[0m\u001b[0;34m\u001b[0m\u001b[0;34m\u001b[0m\u001b[0m\n\u001b[0m",
            "\u001b[0;32m<ipython-input-26-17e0d3c01293>\u001b[0m in \u001b[0;36maverage\u001b[0;34m(*nums)\u001b[0m\n\u001b[1;32m      1\u001b[0m \u001b[0;32mdef\u001b[0m \u001b[0maverage\u001b[0m\u001b[0;34m(\u001b[0m\u001b[0;34m*\u001b[0m\u001b[0mnums\u001b[0m\u001b[0;34m)\u001b[0m\u001b[0;34m:\u001b[0m\u001b[0;34m\u001b[0m\u001b[0;34m\u001b[0m\u001b[0m\n\u001b[0;32m----> 2\u001b[0;31m     \u001b[0;32mreturn\u001b[0m \u001b[0msum\u001b[0m\u001b[0;34m(\u001b[0m\u001b[0mnums\u001b[0m\u001b[0;34m)\u001b[0m\u001b[0;34m/\u001b[0m\u001b[0mlen\u001b[0m\u001b[0;34m(\u001b[0m\u001b[0mnums\u001b[0m\u001b[0;34m)\u001b[0m\u001b[0;34m\u001b[0m\u001b[0;34m\u001b[0m\u001b[0m\n\u001b[0m\u001b[1;32m      3\u001b[0m \u001b[0;34m\u001b[0m\u001b[0m\n\u001b[1;32m      4\u001b[0m \u001b[0mprint\u001b[0m\u001b[0;34m(\u001b[0m\u001b[0;34mf'Average of inputs 10, 20:   {average(10, 20)}'\u001b[0m\u001b[0;34m)\u001b[0m\u001b[0;34m\u001b[0m\u001b[0;34m\u001b[0m\u001b[0m\n\u001b[1;32m      5\u001b[0m \u001b[0mprint\u001b[0m\u001b[0;34m(\u001b[0m\u001b[0;34mf'Average of inputs 1, 2, 6:  {average(1, 2, 6)}'\u001b[0m\u001b[0;34m)\u001b[0m\u001b[0;34m\u001b[0m\u001b[0;34m\u001b[0m\u001b[0m\n",
            "\u001b[0;31mTypeError\u001b[0m: unsupported operand type(s) for +: 'int' and 'list'"
          ]
        }
      ]
    },
    {
      "cell_type": "markdown",
      "metadata": {
        "id": "IF3v1mORfdCX",
        "colab_type": "text"
      },
      "source": [
        "We can get around this by calling the function with an asterisk in the argument, which will cause `my_list` to be unpacked when the function is called, effectively leading to `average` being called with naked numbers:"
      ]
    },
    {
      "cell_type": "code",
      "metadata": {
        "id": "M6IM94i6Jzk9",
        "colab_type": "code",
        "colab": {
          "base_uri": "https://localhost:8080/",
          "height": 35
        },
        "outputId": "91d08449-083b-4688-a4c7-10feed241bcd"
      },
      "source": [
        "# this works because average(*[1, 2, 6]) is equivalent to average(1, 2, 6)\n",
        "my_list = [1, 2, 6]\n",
        "average(*my_list)"
      ],
      "execution_count": null,
      "outputs": [
        {
          "output_type": "execute_result",
          "data": {
            "text/plain": [
              "3.0"
            ]
          },
          "metadata": {
            "tags": []
          },
          "execution_count": 28
        }
      ]
    },
    {
      "cell_type": "markdown",
      "metadata": {
        "id": "kImaFt5Jr3yR",
        "colab_type": "text"
      },
      "source": [
        "If a double asterisk (`**`) is used in the function definition before an argument name, that argument represents a variable number of keyword arguments, i.e., arguments that are specified by name when the function is called. In the following example, just as all unnamed positional arguments will be packed into a tuple called `args`, all keyword arguments will be packed into a dictionary called `kwargs`:"
      ]
    },
    {
      "cell_type": "code",
      "metadata": {
        "id": "k69Kxi5Eq2eA",
        "colab_type": "code",
        "colab": {
          "base_uri": "https://localhost:8080/",
          "height": 90
        },
        "outputId": "86807766-cfcb-42ea-c78d-f4491d540550"
      },
      "source": [
        "def my_func(*args, **kwargs):\n",
        "    print(f'unnamed positional arguments are packed into args as a tuple:')\n",
        "    print(f'    {args}')\n",
        "    print(f'named keyword arguments are packed into kwargs as a dictionary:')\n",
        "    print(f'    {kwargs}')\n",
        "\n",
        "my_func(['x', 'y', 'z'], 123, 'abc', True, p=1, q=2)"
      ],
      "execution_count": null,
      "outputs": [
        {
          "output_type": "stream",
          "text": [
            "unnamed positional arguments are packed into args as a tuple:\n",
            "    (['x', 'y', 'z'], 123, 'abc', True)\n",
            "named keyword arguments are packed into kwargs as a dictionary:\n",
            "    {'p': 1, 'q': 2}\n"
          ],
          "name": "stdout"
        }
      ]
    },
    {
      "cell_type": "markdown",
      "metadata": {
        "id": "pt3jcE_ip8eQ",
        "colab_type": "text"
      },
      "source": [
        "Finally, just as an asterisk can be used to unpack a tuple or list into a function call as naked unnamed arguments (e.g., `average(*my_list)`), a double asterisk can be used to unpack a dictionary into a function call as named arguments:"
      ]
    },
    {
      "cell_type": "code",
      "metadata": {
        "id": "kgaiZDzFqJx3",
        "colab_type": "code",
        "colab": {
          "base_uri": "https://localhost:8080/",
          "height": 35
        },
        "outputId": "f19601b3-c4bd-4e71-db80-fc0a916e40c9"
      },
      "source": [
        "def quadratic(x, a=1, b=0, c=0):\n",
        "    return a * x**2 + b * x + c\n",
        "\n",
        "my_params = {'x': 2, 'a': 0, 'b': 1, 'c': 10}\n",
        "\n",
        "# this is equivalent to quadratic(x=2, a=0, b=1, c=10)\n",
        "quadratic(**my_params)"
      ],
      "execution_count": null,
      "outputs": [
        {
          "output_type": "execute_result",
          "data": {
            "text/plain": [
              "12"
            ]
          },
          "metadata": {
            "tags": []
          },
          "execution_count": 30
        }
      ]
    },
    {
      "cell_type": "markdown",
      "metadata": {
        "id": "Kw_vsBH0K0OT",
        "colab_type": "text"
      },
      "source": [
        "## Classes"
      ]
    },
    {
      "cell_type": "markdown",
      "metadata": {
        "id": "_hBQY5ibN3ut",
        "colab_type": "text"
      },
      "source": [
        "### Example: Counter"
      ]
    },
    {
      "cell_type": "markdown",
      "metadata": {
        "id": "SdJzI8f2zC95",
        "colab_type": "text"
      },
      "source": [
        "**Classes** are like customizable types, complete with named data **attributes** and **methods**. Classes can be designed from scratch, or they can be built on top of existing types or classes, giving them extra or altered functionality.\n",
        "\n",
        "Here is a simple class called `Counter` with one attribute called `count`:"
      ]
    },
    {
      "cell_type": "code",
      "metadata": {
        "id": "7cjk_nvueYDm",
        "colab_type": "code",
        "colab": {}
      },
      "source": [
        "class Counter():\n",
        "    count = 0"
      ],
      "execution_count": null,
      "outputs": []
    },
    {
      "cell_type": "markdown",
      "metadata": {
        "id": "4sXlH2rM0vyL",
        "colab_type": "text"
      },
      "source": [
        "We create an **instance** of the class this way:"
      ]
    },
    {
      "cell_type": "code",
      "metadata": {
        "id": "gQ109y5TemQ2",
        "colab_type": "code",
        "colab": {}
      },
      "source": [
        "my_counter = Counter()"
      ],
      "execution_count": null,
      "outputs": []
    },
    {
      "cell_type": "markdown",
      "metadata": {
        "id": "Ja_azk0702-R",
        "colab_type": "text"
      },
      "source": [
        "The object created does not display nicely, but we can at least see it has the `Counter` type:"
      ]
    },
    {
      "cell_type": "code",
      "metadata": {
        "id": "FhrEhd8xfeor",
        "colab_type": "code",
        "colab": {
          "base_uri": "https://localhost:8080/",
          "height": 53
        },
        "outputId": "26b2db4b-d3f8-46c5-e469-edf0a05ae890"
      },
      "source": [
        "print(my_counter)\n",
        "print(type(my_counter))"
      ],
      "execution_count": null,
      "outputs": [
        {
          "output_type": "stream",
          "text": [
            "<__main__.Counter object at 0x7f8b459b6860>\n",
            "<class '__main__.Counter'>\n"
          ],
          "name": "stdout"
        }
      ]
    },
    {
      "cell_type": "markdown",
      "metadata": {
        "id": "K10-s1hg1Mb9",
        "colab_type": "text"
      },
      "source": [
        "Every instance of the `Counter` class will have its own copy of the `count` attribute, which can be accessed with dot (`.`) notation and takes on the initial value set in the class definition:"
      ]
    },
    {
      "cell_type": "code",
      "metadata": {
        "id": "BBjJStzffafV",
        "colab_type": "code",
        "colab": {
          "base_uri": "https://localhost:8080/",
          "height": 35
        },
        "outputId": "dead5af1-ee56-4b1a-bcb0-21dec038e8b0"
      },
      "source": [
        "my_counter.count"
      ],
      "execution_count": null,
      "outputs": [
        {
          "output_type": "execute_result",
          "data": {
            "text/plain": [
              "0"
            ]
          },
          "metadata": {
            "tags": []
          },
          "execution_count": 34
        }
      ]
    },
    {
      "cell_type": "markdown",
      "metadata": {
        "id": "B8ngn40n1Uda",
        "colab_type": "text"
      },
      "source": [
        "We can assigned a new value to `count` and retrieve it:"
      ]
    },
    {
      "cell_type": "code",
      "metadata": {
        "id": "Mkc6Ro7Efgzp",
        "colab_type": "code",
        "colab": {
          "base_uri": "https://localhost:8080/",
          "height": 35
        },
        "outputId": "e8791a0b-a0ea-477f-fb43-f25842095905"
      },
      "source": [
        "my_counter.count = 5\n",
        "my_counter.count"
      ],
      "execution_count": null,
      "outputs": [
        {
          "output_type": "execute_result",
          "data": {
            "text/plain": [
              "5"
            ]
          },
          "metadata": {
            "tags": []
          },
          "execution_count": 35
        }
      ]
    },
    {
      "cell_type": "markdown",
      "metadata": {
        "id": "KbzMdOLq1bUS",
        "colab_type": "text"
      },
      "source": [
        "Let's make the `Counter` class more useful by adding an `increment` method that increases the value of `count` by one. Notice in the cell below that the method function is defined *inside* the class definition (indended beneath it). Methods always take as their first argument a reference to the instance itself; by convention, this argument is usually named `self`. This allows attributes of the instance to be accessed (e.g., `self.count`):"
      ]
    },
    {
      "cell_type": "code",
      "metadata": {
        "id": "HGLFQVtef39_",
        "colab_type": "code",
        "colab": {
          "base_uri": "https://localhost:8080/",
          "height": 72
        },
        "outputId": "d906f5f7-d67d-4a81-c6ad-cb58a1fbbb65"
      },
      "source": [
        "class Counter():\n",
        "    count = 0\n",
        "    \n",
        "    def increment(self):\n",
        "        self.count += 1\n",
        "\n",
        "my_counter = Counter()\n",
        "print(my_counter.count)\n",
        "\n",
        "my_counter.increment()\n",
        "print(my_counter.count)\n",
        "\n",
        "my_counter.increment()\n",
        "print(my_counter.count)"
      ],
      "execution_count": null,
      "outputs": [
        {
          "output_type": "stream",
          "text": [
            "0\n",
            "1\n",
            "2\n"
          ],
          "name": "stdout"
        }
      ]
    },
    {
      "cell_type": "markdown",
      "metadata": {
        "id": "X1xEdu1v2PvQ",
        "colab_type": "text"
      },
      "source": [
        "There is a special set of class methods called **double underscore methods**, or **dunder methods**, or sometimes **magic methods**, which have special roles. The names of each of these methods begin and end with two underscores (`__`).\n",
        "\n",
        "For example, we can define the `__repr__` method to control how instances of the `Counter` class are *represented* when displayed or printed. Below, we modify the class so that the value of `count` is displayed, rather than the much less useful representation we saw before (e.g., `<__main__.Counter object at 0x7fe45c2eb7b8>`):"
      ]
    },
    {
      "cell_type": "code",
      "metadata": {
        "id": "8dHb6cqZgNbw",
        "colab_type": "code",
        "colab": {
          "base_uri": "https://localhost:8080/",
          "height": 35
        },
        "outputId": "a3fcc820-c23b-443c-e5a5-bad09cc3986d"
      },
      "source": [
        "class Counter():\n",
        "    count = 0\n",
        "\n",
        "    def __repr__(self):\n",
        "        return str(self.count)\n",
        "    \n",
        "    def increment(self):\n",
        "        self.count += 1\n",
        "\n",
        "my_counter = Counter()\n",
        "my_counter"
      ],
      "execution_count": null,
      "outputs": [
        {
          "output_type": "execute_result",
          "data": {
            "text/plain": [
              "0"
            ]
          },
          "metadata": {
            "tags": []
          },
          "execution_count": 37
        }
      ]
    },
    {
      "cell_type": "markdown",
      "metadata": {
        "id": "bKk_g4QY3DTp",
        "colab_type": "text"
      },
      "source": [
        "Presently, Python does not know what to do if we try to add two instances of `Counter` together:"
      ]
    },
    {
      "cell_type": "code",
      "metadata": {
        "id": "rLeSDhFGgpD7",
        "colab_type": "code",
        "colab": {
          "base_uri": "https://localhost:8080/",
          "height": 243
        },
        "outputId": "fdbc8389-239b-4805-8921-0bc9141e99cd"
      },
      "source": [
        "x = Counter()\n",
        "y = Counter()\n",
        "\n",
        "x.increment()\n",
        "x.increment()\n",
        "\n",
        "y.increment()\n",
        "\n",
        "print(f'x = {x}')\n",
        "print(f'y = {y}')\n",
        "\n",
        "# this will fail because addition of Counter objects is undefined\n",
        "print(f'x + y = {x + y}')"
      ],
      "execution_count": null,
      "outputs": [
        {
          "output_type": "stream",
          "text": [
            "x = 2\n",
            "y = 1\n"
          ],
          "name": "stdout"
        },
        {
          "output_type": "error",
          "ename": "TypeError",
          "evalue": "ignored",
          "traceback": [
            "\u001b[0;31m---------------------------------------------------------------------------\u001b[0m",
            "\u001b[0;31mTypeError\u001b[0m                                 Traceback (most recent call last)",
            "\u001b[0;32m<ipython-input-38-4c09b6678ec4>\u001b[0m in \u001b[0;36m<module>\u001b[0;34m()\u001b[0m\n\u001b[1;32m     11\u001b[0m \u001b[0;34m\u001b[0m\u001b[0m\n\u001b[1;32m     12\u001b[0m \u001b[0;31m# this will fail because addition of Counter objects is undefined\u001b[0m\u001b[0;34m\u001b[0m\u001b[0;34m\u001b[0m\u001b[0;34m\u001b[0m\u001b[0m\n\u001b[0;32m---> 13\u001b[0;31m \u001b[0mprint\u001b[0m\u001b[0;34m(\u001b[0m\u001b[0;34mf'x + y = {x + y}'\u001b[0m\u001b[0;34m)\u001b[0m\u001b[0;34m\u001b[0m\u001b[0;34m\u001b[0m\u001b[0m\n\u001b[0m",
            "\u001b[0;31mTypeError\u001b[0m: unsupported operand type(s) for +: 'Counter' and 'Counter'"
          ]
        }
      ]
    },
    {
      "cell_type": "markdown",
      "metadata": {
        "id": "bLoX0AVb3qss",
        "colab_type": "text"
      },
      "source": [
        "There is a special dunder method, called `__add__`, that must be defined for addition to work with our custom class. Whenever the plus (`+`) operator is used for any data type in Python, an `__add__` method is called behind the scenes. We can modify our class so that addition of `Counter` instances returns the sum of their `count` attributes:"
      ]
    },
    {
      "cell_type": "code",
      "metadata": {
        "id": "Pt06Sr56gzjs",
        "colab_type": "code",
        "colab": {
          "base_uri": "https://localhost:8080/",
          "height": 72
        },
        "outputId": "01f45859-7296-4691-bf51-61d2794ff10b"
      },
      "source": [
        "class Counter():\n",
        "    count = 0\n",
        "\n",
        "    def __repr__(self):\n",
        "        return str(self.count)\n",
        "    \n",
        "    def __add__(self, other):\n",
        "        return self.count + other.count\n",
        "    \n",
        "    def increment(self):\n",
        "        self.count += 1\n",
        "\n",
        "x = Counter()\n",
        "y = Counter()\n",
        "\n",
        "x.increment()\n",
        "x.increment()\n",
        "\n",
        "y.increment()\n",
        "\n",
        "print(f'x = {x}')\n",
        "print(f'y = {y}')\n",
        "\n",
        "print(f'x + y = {x + y}')"
      ],
      "execution_count": null,
      "outputs": [
        {
          "output_type": "stream",
          "text": [
            "x = 2\n",
            "y = 1\n",
            "x + y = 3\n"
          ],
          "name": "stdout"
        }
      ]
    },
    {
      "cell_type": "markdown",
      "metadata": {
        "id": "4DC-HvVW4eon",
        "colab_type": "text"
      },
      "source": [
        "Addition using the plus (`+`) operator is the same as invoking the `__add__` function directly, either as a method of one instance (`x.__add__`) or as a class method (`Counter.__add__`):"
      ]
    },
    {
      "cell_type": "code",
      "metadata": {
        "id": "6eBzziVJg7hB",
        "colab_type": "code",
        "colab": {
          "base_uri": "https://localhost:8080/",
          "height": 72
        },
        "outputId": "1904370c-de5a-4f08-fd87-c6567c795308"
      },
      "source": [
        "print(x + y)\n",
        "print(x.__add__(y))\n",
        "print(Counter.__add__(x, y))"
      ],
      "execution_count": null,
      "outputs": [
        {
          "output_type": "stream",
          "text": [
            "3\n",
            "3\n",
            "3\n"
          ],
          "name": "stdout"
        }
      ]
    },
    {
      "cell_type": "markdown",
      "metadata": {
        "id": "Xid-Pnzm4x9d",
        "colab_type": "text"
      },
      "source": [
        "We can control how instances are initialized by defining the special dunder method `__init__`. We could, for example, allow an optional parameter, `start`, to be provided at the time that the `Counter` instance is created so that `count` has some starting value other than zero:"
      ]
    },
    {
      "cell_type": "code",
      "metadata": {
        "id": "OTqR0VXyhT1J",
        "colab_type": "code",
        "colab": {
          "base_uri": "https://localhost:8080/",
          "height": 53
        },
        "outputId": "c9ebbf42-2b86-42f3-badb-f38898db54ce"
      },
      "source": [
        "class Counter():\n",
        "    def __init__(self, start=0):\n",
        "        self.count = start\n",
        "\n",
        "    def __repr__(self):\n",
        "        return str(self.count)\n",
        "    \n",
        "    def __add__(self, other):\n",
        "        return self.count + other.count\n",
        "    \n",
        "    def increment(self):\n",
        "        self.count += 1\n",
        "\n",
        "my_counter = Counter(100)\n",
        "print(my_counter)\n",
        "\n",
        "my_counter.increment()\n",
        "print(my_counter)"
      ],
      "execution_count": null,
      "outputs": [
        {
          "output_type": "stream",
          "text": [
            "100\n",
            "101\n"
          ],
          "name": "stdout"
        }
      ]
    },
    {
      "cell_type": "markdown",
      "metadata": {
        "id": "m-AcZupQ5MTE",
        "colab_type": "text"
      },
      "source": [
        "Classes and class methods can have docstrings:"
      ]
    },
    {
      "cell_type": "code",
      "metadata": {
        "id": "c5Ejf7TwqwmH",
        "colab_type": "code",
        "colab": {}
      },
      "source": [
        "class Counter():\n",
        "    '''Counts the number of times increment() was called'''\n",
        "\n",
        "    def __init__(self, start=0):\n",
        "        self.count = start\n",
        "\n",
        "    def __repr__(self):\n",
        "        return str(self.count)\n",
        "    \n",
        "    def __add__(self, other):\n",
        "        return self.count + other.count\n",
        "    \n",
        "    def increment(self):\n",
        "        '''Increase the counter by one'''\n",
        "        self.count += 1"
      ],
      "execution_count": null,
      "outputs": []
    },
    {
      "cell_type": "code",
      "metadata": {
        "id": "x8E_kAEkrQY3",
        "colab_type": "code",
        "colab": {
          "base_uri": "https://localhost:8080/",
          "height": 108
        },
        "outputId": "28179d92-cdbf-4fb3-eb58-963d7416d993"
      },
      "source": [
        "my_counter = Counter()\n",
        "help(my_counter.increment)"
      ],
      "execution_count": null,
      "outputs": [
        {
          "output_type": "stream",
          "text": [
            "Help on method increment in module __main__:\n",
            "\n",
            "increment() method of __main__.Counter instance\n",
            "    Increase the counter by one\n",
            "\n"
          ],
          "name": "stdout"
        }
      ]
    },
    {
      "cell_type": "markdown",
      "metadata": {
        "id": "lej_iBnt5W21",
        "colab_type": "text"
      },
      "source": [
        "The built-in function `dir()` will display a complete list of all attributes of a type, class, or instance, including all its dunder methods. For example, `dir(float)` reveals all the dunder methods involved in implementing algebraic, comparative, and type conversion operations associated with floating point numbers:"
      ]
    },
    {
      "cell_type": "code",
      "metadata": {
        "id": "2wTlt8NxiUbK",
        "colab_type": "code",
        "colab": {
          "base_uri": "https://localhost:8080/",
          "height": 1000
        },
        "outputId": "ae4dc59d-b958-4cc9-bfec-3f38b6bb0eff"
      },
      "source": [
        "dir(float)"
      ],
      "execution_count": null,
      "outputs": [
        {
          "output_type": "execute_result",
          "data": {
            "text/plain": [
              "['__abs__',\n",
              " '__add__',\n",
              " '__bool__',\n",
              " '__class__',\n",
              " '__delattr__',\n",
              " '__dir__',\n",
              " '__divmod__',\n",
              " '__doc__',\n",
              " '__eq__',\n",
              " '__float__',\n",
              " '__floordiv__',\n",
              " '__format__',\n",
              " '__ge__',\n",
              " '__getattribute__',\n",
              " '__getformat__',\n",
              " '__getnewargs__',\n",
              " '__gt__',\n",
              " '__hash__',\n",
              " '__init__',\n",
              " '__init_subclass__',\n",
              " '__int__',\n",
              " '__le__',\n",
              " '__lt__',\n",
              " '__mod__',\n",
              " '__mul__',\n",
              " '__ne__',\n",
              " '__neg__',\n",
              " '__new__',\n",
              " '__pos__',\n",
              " '__pow__',\n",
              " '__radd__',\n",
              " '__rdivmod__',\n",
              " '__reduce__',\n",
              " '__reduce_ex__',\n",
              " '__repr__',\n",
              " '__rfloordiv__',\n",
              " '__rmod__',\n",
              " '__rmul__',\n",
              " '__round__',\n",
              " '__rpow__',\n",
              " '__rsub__',\n",
              " '__rtruediv__',\n",
              " '__setattr__',\n",
              " '__setformat__',\n",
              " '__sizeof__',\n",
              " '__str__',\n",
              " '__sub__',\n",
              " '__subclasshook__',\n",
              " '__truediv__',\n",
              " '__trunc__',\n",
              " 'as_integer_ratio',\n",
              " 'conjugate',\n",
              " 'fromhex',\n",
              " 'hex',\n",
              " 'imag',\n",
              " 'is_integer',\n",
              " 'real']"
            ]
          },
          "metadata": {
            "tags": []
          },
          "execution_count": 44
        }
      ]
    },
    {
      "cell_type": "markdown",
      "metadata": {
        "id": "0bwgC9aaNxO-",
        "colab_type": "text"
      },
      "source": [
        "### Example: NumericalList"
      ]
    },
    {
      "cell_type": "markdown",
      "metadata": {
        "id": "hw6EXThtM0IX",
        "colab_type": "text"
      },
      "source": [
        "Let's create a custom **subclass** of the list data type. This class will be designed on the assumption that all values within the list are numbers (which is not true of all lists in general). For now, we won't worry about checking that this assumption is correct.\n",
        "\n",
        "Since we are creating a new list-like class for numbers, let's call it `NumericalList`. In this first version, we'll just use the `pass` keyword to skip adding anything new."
      ]
    },
    {
      "cell_type": "code",
      "metadata": {
        "id": "wZj-eb0nKzpd",
        "colab_type": "code",
        "colab": {}
      },
      "source": [
        "class NumericalList(list):\n",
        "    pass # do nothing new"
      ],
      "execution_count": null,
      "outputs": []
    },
    {
      "cell_type": "code",
      "metadata": {
        "id": "GrWH5j4iK61-",
        "colab_type": "code",
        "colab": {
          "base_uri": "https://localhost:8080/",
          "height": 53
        },
        "outputId": "c17b96e1-7501-4455-ac51-2c8167f4927d"
      },
      "source": [
        "my_nlist = NumericalList([1, 5, 2, 12])\n",
        "print(my_nlist)\n",
        "print(type(my_nlist))"
      ],
      "execution_count": null,
      "outputs": [
        {
          "output_type": "stream",
          "text": [
            "[1, 5, 2, 12]\n",
            "<class '__main__.NumericalList'>\n"
          ],
          "name": "stdout"
        }
      ]
    },
    {
      "cell_type": "markdown",
      "metadata": {
        "id": "29m7S3T6Px_a",
        "colab_type": "text"
      },
      "source": [
        "Here we would say that `list` is the **parent class** of `NumericalList`. Our new class **inherits** the features of its parent and can be customized with new features, or existing ones can be changed.\n",
        "\n",
        "For example, the number of items in a list (its length) can be counted using the built-in `len()` function. The countability of lists is a feature that `NumericalList` inherits:"
      ]
    },
    {
      "cell_type": "code",
      "metadata": {
        "id": "XTUjA_TzPY8N",
        "colab_type": "code",
        "colab": {
          "base_uri": "https://localhost:8080/",
          "height": 35
        },
        "outputId": "92599280-284a-4276-8c14-4b924ab6dc43"
      },
      "source": [
        "len(my_nlist)"
      ],
      "execution_count": null,
      "outputs": [
        {
          "output_type": "execute_result",
          "data": {
            "text/plain": [
              "4"
            ]
          },
          "metadata": {
            "tags": []
          },
          "execution_count": 47
        }
      ]
    },
    {
      "cell_type": "markdown",
      "metadata": {
        "id": "0eWprdrZRX23",
        "colab_type": "text"
      },
      "source": [
        "Similarly, `NumericalList` inherits the `list` methods, like `append()`."
      ]
    },
    {
      "cell_type": "code",
      "metadata": {
        "id": "6Sb67ev0RS5n",
        "colab_type": "code",
        "colab": {
          "base_uri": "https://localhost:8080/",
          "height": 35
        },
        "outputId": "26472432-6acc-4d81-f306-427679487122"
      },
      "source": [
        "my_nlist.append(99)\n",
        "my_nlist"
      ],
      "execution_count": null,
      "outputs": [
        {
          "output_type": "execute_result",
          "data": {
            "text/plain": [
              "[1, 5, 2, 12, 99]"
            ]
          },
          "metadata": {
            "tags": []
          },
          "execution_count": 48
        }
      ]
    },
    {
      "cell_type": "markdown",
      "metadata": {
        "id": "x4hjQdhcM-Or",
        "colab_type": "text"
      },
      "source": [
        "So far, `NumericalList` has no useful features beyond those of its parent. Let's add one! Below we redefine the class with a new `mean()` method, which is something ordinary lists lack. Note `pass` is not needed anymore; it was needed earlier only because *something* must come after the initial semicolon."
      ]
    },
    {
      "cell_type": "code",
      "metadata": {
        "id": "T_3aD3oGLoQ6",
        "colab_type": "code",
        "colab": {}
      },
      "source": [
        "class NumericalList(list):\n",
        "    def mean(self):\n",
        "        return sum(self)/len(self)"
      ],
      "execution_count": null,
      "outputs": []
    },
    {
      "cell_type": "code",
      "metadata": {
        "id": "gVwDoXL8L00f",
        "colab_type": "code",
        "colab": {
          "base_uri": "https://localhost:8080/",
          "height": 35
        },
        "outputId": "7e968050-685c-4d82-e630-e152c8cda005"
      },
      "source": [
        "my_nlist = NumericalList([1, 5, 2, 12])\n",
        "my_nlist.mean()"
      ],
      "execution_count": null,
      "outputs": [
        {
          "output_type": "execute_result",
          "data": {
            "text/plain": [
              "5.0"
            ]
          },
          "metadata": {
            "tags": []
          },
          "execution_count": 50
        }
      ]
    },
    {
      "cell_type": "markdown",
      "metadata": {
        "id": "Uf_2SCEuNIn-",
        "colab_type": "text"
      },
      "source": [
        "Note that, when *defined*, all method functions need to take at least one argument, the first of which is conventionally named `self`. This serves as a name for the `NumericalList` instance within the function. When the same method function is *called* from an instance of the class (e.g., `my_nlist.mean()`), that first argument is not explicitly provided; instead, the associated instance (`my_nlist`) is the implicit first argument.\n",
        "\n",
        "For the sake of demonstration, let's add another method called `size()`, which just returns the length:"
      ]
    },
    {
      "cell_type": "code",
      "metadata": {
        "id": "VN2StbLGLQDa",
        "colab_type": "code",
        "colab": {}
      },
      "source": [
        "class NumericalList(list):\n",
        "    def mean(self):\n",
        "        return sum(self)/len(self)\n",
        "    \n",
        "    def size(self):\n",
        "        return len(self)"
      ],
      "execution_count": null,
      "outputs": []
    },
    {
      "cell_type": "code",
      "metadata": {
        "id": "jNgZYbq3LeIL",
        "colab_type": "code",
        "colab": {
          "base_uri": "https://localhost:8080/",
          "height": 35
        },
        "outputId": "cb95ee52-8a97-4b81-d0af-c578d6dd4b2e"
      },
      "source": [
        "my_nlist = NumericalList([1, 5, 2, 12])\n",
        "my_nlist.size()"
      ],
      "execution_count": null,
      "outputs": [
        {
          "output_type": "execute_result",
          "data": {
            "text/plain": [
              "4"
            ]
          },
          "metadata": {
            "tags": []
          },
          "execution_count": 52
        }
      ]
    },
    {
      "cell_type": "markdown",
      "metadata": {
        "id": "NL7ZCtUwNPYd",
        "colab_type": "text"
      },
      "source": [
        "We can use a special **decorator**, `@property`, to mark the `size()` function as a **property**. This will allow (require, actually) `size` to be used without the parentheses. This is useful in cases where it is necessary to \"disguise\" a method as a property, usually because your class needs to interface with other code that expects a property instead of a method."
      ]
    },
    {
      "cell_type": "code",
      "metadata": {
        "id": "SUAR2EYkMWUM",
        "colab_type": "code",
        "colab": {}
      },
      "source": [
        "class NumericalList(list):\n",
        "    def mean(self):\n",
        "        return sum(self)/len(self)\n",
        "    \n",
        "    @property\n",
        "    def size(self):\n",
        "        return len(self)"
      ],
      "execution_count": null,
      "outputs": []
    },
    {
      "cell_type": "code",
      "metadata": {
        "id": "l2xkGxGuNfV8",
        "colab_type": "code",
        "colab": {
          "base_uri": "https://localhost:8080/",
          "height": 35
        },
        "outputId": "4a603d13-f110-41a2-bb88-309debfa632a"
      },
      "source": [
        "my_nlist = NumericalList([1, 5, 2, 12])\n",
        "my_nlist.size"
      ],
      "execution_count": null,
      "outputs": [
        {
          "output_type": "execute_result",
          "data": {
            "text/plain": [
              "4"
            ]
          },
          "metadata": {
            "tags": []
          },
          "execution_count": 54
        }
      ]
    },
    {
      "cell_type": "markdown",
      "metadata": {
        "id": "HQNfkwnb0Th7",
        "colab_type": "text"
      },
      "source": [
        "Let's add dunder methods to the `NumericalList` class that implement element-wise addition, subtract, multiplication, and division of `NumericalLists`, as well as negation:"
      ]
    },
    {
      "cell_type": "code",
      "metadata": {
        "id": "m17v-dabIMeJ",
        "colab_type": "code",
        "colab": {}
      },
      "source": [
        "class NumericalList(list):\n",
        "    \n",
        "    def __add__(self, other):\n",
        "        return NumericalList([x+y for x, y in zip(self, other)])\n",
        "    def __sub__(self, other):\n",
        "        return NumericalList([x-y for x, y in zip(self, other)])\n",
        "    def __mul__(self, other):\n",
        "        return NumericalList([x*y for x, y in zip(self, other)])\n",
        "    def __truediv__(self, other):\n",
        "        return NumericalList([x/y for x, y in zip(self, other)])\n",
        "    def __neg__(self):\n",
        "        return NumericalList([-x for x in self])\n",
        "\n",
        "    @property\n",
        "    def size(self):\n",
        "        return len(self)\n",
        "\n",
        "    def mean(self):\n",
        "        return sum(self)/len(self)"
      ],
      "execution_count": null,
      "outputs": []
    },
    {
      "cell_type": "markdown",
      "metadata": {
        "id": "1PLq05c8NHwg",
        "colab_type": "text"
      },
      "source": [
        "Let's test it:"
      ]
    },
    {
      "cell_type": "code",
      "metadata": {
        "id": "TcLKfyCvNI64",
        "colab_type": "code",
        "colab": {
          "base_uri": "https://localhost:8080/",
          "height": 90
        },
        "outputId": "d32c31ee-8bd2-47b2-e027-34b8924a7149"
      },
      "source": [
        "list1 = NumericalList([1, 5, 2, 12])\n",
        "list2 = NumericalList([4, 3, 7, 9])\n",
        "\n",
        "print(f'{list1} + {list2} = {list1+list2}')\n",
        "print(f'{list1} - {list2} = {list1-list2}')\n",
        "print(f'{list1} * {list2} = {list1*list2}')\n",
        "print(f'{list1} / {list2} = {list1/list2}')"
      ],
      "execution_count": null,
      "outputs": [
        {
          "output_type": "stream",
          "text": [
            "[1, 5, 2, 12] + [4, 3, 7, 9] = [5, 8, 9, 21]\n",
            "[1, 5, 2, 12] - [4, 3, 7, 9] = [-3, 2, -5, 3]\n",
            "[1, 5, 2, 12] * [4, 3, 7, 9] = [4, 15, 14, 108]\n",
            "[1, 5, 2, 12] / [4, 3, 7, 9] = [0.25, 1.6666666666666667, 0.2857142857142857, 1.3333333333333333]\n"
          ],
          "name": "stdout"
        }
      ]
    },
    {
      "cell_type": "markdown",
      "metadata": {
        "id": "BbcxY99QcxGs",
        "colab_type": "text"
      },
      "source": [
        "To implement support for adding, subtracting, multiplying, and dividing by scalar constants as well, the dunder methods need to detect the type of the second object (a second `NumericalList`, or an `int`/`float`) and perform the right calculation for the input. We can use if-statements to check the types, and we can print error messages when an incompatible type is used. It would also be a good idea to ensure that `NumericalLists` have matching lengths before doing element-wise operations:"
      ]
    },
    {
      "cell_type": "code",
      "metadata": {
        "id": "PsKqVocd0Vm0",
        "colab_type": "code",
        "colab": {}
      },
      "source": [
        "class NumericalList(list):\n",
        "\n",
        "    def __add__(self, other):\n",
        "        if type(other) == NumericalList:\n",
        "            if len(other) == len(self):\n",
        "                return NumericalList([x+y for x, y in zip(self, other)])\n",
        "            else:\n",
        "                print('error: NumericalLists must have equal length')\n",
        "        elif type(other) in [int, float]:\n",
        "            return NumericalList([x+other for x in self])\n",
        "        else:\n",
        "            print(f'error: object after + has incompatible type {type(other)} but must be a NumericalList, int, or float')\n",
        "\n",
        "    def __sub__(self, other):\n",
        "        if type(other) == NumericalList:\n",
        "            if len(other) == len(self):\n",
        "                return NumericalList([x-y for x, y in zip(self, other)])\n",
        "            else:\n",
        "                print('error: NumericalLists must have equal length')\n",
        "        elif type(other) in [int, float]:\n",
        "            return NumericalList([x-other for x in self])\n",
        "        else:\n",
        "            print(f'error: object after - has incompatible type {type(other)} but must be a NumericalList, int, or float')\n",
        "\n",
        "    def __mul__(self, other):\n",
        "        if type(other) == NumericalList:\n",
        "            if len(other) == len(self):\n",
        "                return NumericalList([x*y for x, y in zip(self, other)])\n",
        "            else:\n",
        "                print('error: NumericalLists must have equal length')\n",
        "        elif type(other) in [int, float]:\n",
        "            return NumericalList([x*other for x in self])\n",
        "        else:\n",
        "            print(f'error: object after * has incompatible type {type(other)} but must be a NumericalList, int, or float')\n",
        "\n",
        "    def __truediv__(self, other):\n",
        "        if type(other) == NumericalList:\n",
        "            if len(other) == len(self):\n",
        "                return NumericalList([x/y for x, y in zip(self, other)])\n",
        "            else:\n",
        "                print('error: NumericalLists must have equal length')\n",
        "        elif type(other) in [int, float]:\n",
        "            return NumericalList([x/other for x in self])\n",
        "        else:\n",
        "            print(f'error: object after / has incompatible type {type(other)} but must be a NumericalList, int, or float')\n",
        "\n",
        "    def __neg__(self):\n",
        "        return NumericalList([-x for x in self])\n",
        "    \n",
        "    @property\n",
        "    def size(self):\n",
        "        return len(self)\n",
        "\n",
        "    def mean(self):\n",
        "        return sum(self)/len(self)"
      ],
      "execution_count": null,
      "outputs": []
    },
    {
      "cell_type": "markdown",
      "metadata": {
        "id": "1iwO7G2tM7qn",
        "colab_type": "text"
      },
      "source": [
        "When writing complex code, a testing function can be very helpful:"
      ]
    },
    {
      "cell_type": "code",
      "metadata": {
        "id": "XIJxagbsM4ZR",
        "colab_type": "code",
        "colab": {
          "base_uri": "https://localhost:8080/",
          "height": 526
        },
        "outputId": "aecf957d-5521-4c70-e38f-131324199e0e"
      },
      "source": [
        "def testNumericalList(list1=[1, 5, 2, 12], list2=[4, 3, 7, 9], factor=10):\n",
        "    list1 = NumericalList(list1)\n",
        "    list2 = NumericalList(list2)\n",
        "\n",
        "    print(f'list1 = {list1} \\n  sum(list1) = {sum(list1)} \\n  list1.size = {list1.size} \\n  list1.mean() = {list1.mean()}')\n",
        "    print(f'list2 = {list2} \\n  sum(list2) = {sum(list2)} \\n  list2.size = {list2.size} \\n  list2.mean() = {list2.mean()}')\n",
        "    print(f'factor = {factor}')\n",
        "    print()\n",
        "\n",
        "    print(f'{list1} + {list2}  \\n\\t = {list1+list2}')\n",
        "    print(f'{list1} + {factor} \\n\\t = {list1+factor}')\n",
        "    print(f'{list1} - {list2}  \\n\\t = {list1-list2}')\n",
        "    print(f'{list1} - {factor} \\n\\t = {list1-factor}')\n",
        "    print(f'{list1} * {list2}  \\n\\t = {list1*list2}')\n",
        "    print(f'{list1} * {factor} \\n\\t = {list1*factor}')\n",
        "    print(f'{list1} / {list2}  \\n\\t = {list1/list2}')\n",
        "    print(f'{list1} / {factor} \\n\\t = {list1/factor}')\n",
        "    print(f'-{list1} \\n\\t = {-list1}')\n",
        "\n",
        "testNumericalList()"
      ],
      "execution_count": null,
      "outputs": [
        {
          "output_type": "stream",
          "text": [
            "list1 = [1, 5, 2, 12] \n",
            "  sum(list1) = 20 \n",
            "  list1.size = 4 \n",
            "  list1.mean() = 5.0\n",
            "list2 = [4, 3, 7, 9] \n",
            "  sum(list2) = 23 \n",
            "  list2.size = 4 \n",
            "  list2.mean() = 5.75\n",
            "factor = 10\n",
            "\n",
            "[1, 5, 2, 12] + [4, 3, 7, 9]  \n",
            "\t = [5, 8, 9, 21]\n",
            "[1, 5, 2, 12] + 10 \n",
            "\t = [11, 15, 12, 22]\n",
            "[1, 5, 2, 12] - [4, 3, 7, 9]  \n",
            "\t = [-3, 2, -5, 3]\n",
            "[1, 5, 2, 12] - 10 \n",
            "\t = [-9, -5, -8, 2]\n",
            "[1, 5, 2, 12] * [4, 3, 7, 9]  \n",
            "\t = [4, 15, 14, 108]\n",
            "[1, 5, 2, 12] * 10 \n",
            "\t = [10, 50, 20, 120]\n",
            "[1, 5, 2, 12] / [4, 3, 7, 9]  \n",
            "\t = [0.25, 1.6666666666666667, 0.2857142857142857, 1.3333333333333333]\n",
            "[1, 5, 2, 12] / 10 \n",
            "\t = [0.1, 0.5, 0.2, 1.2]\n",
            "-[1, 5, 2, 12] \n",
            "\t = [-1, -5, -2, -12]\n"
          ],
          "name": "stdout"
        }
      ]
    },
    {
      "cell_type": "markdown",
      "metadata": {
        "id": "KjDXbBb5Npiy",
        "colab_type": "text"
      },
      "source": [
        "### Example: VoltageSignal"
      ]
    },
    {
      "cell_type": "markdown",
      "metadata": {
        "id": "E6z4qCDVODYg",
        "colab_type": "text"
      },
      "source": [
        "Let's create another custom class. This one will be designed for representing a sequence of voltage samples, like those obtained in electrophysiology experiments. The `mean()` function and `size` property of our `NumericalList` class will be useful, so let's build another subclass, but this time instead of subclassing `list`, we'll subclass `NumericalList`. Let's call this new class `VoltageSignal`, and we'll begin with nothing added (just using `pass` again):"
      ]
    },
    {
      "cell_type": "code",
      "metadata": {
        "id": "6_DxNpd0UgcW",
        "colab_type": "code",
        "colab": {}
      },
      "source": [
        "class VoltageSignal(NumericalList):\n",
        "    pass # do nothing new"
      ],
      "execution_count": null,
      "outputs": []
    },
    {
      "cell_type": "code",
      "metadata": {
        "id": "5JBsNmNMVFJd",
        "colab_type": "code",
        "colab": {
          "base_uri": "https://localhost:8080/",
          "height": 53
        },
        "outputId": "d07ae741-d488-4e43-cbd5-31bc2d3ce2c0"
      },
      "source": [
        "my_sig = VoltageSignal([1, 5, 2, 12])\n",
        "print(my_sig)\n",
        "print(type(my_sig))"
      ],
      "execution_count": null,
      "outputs": [
        {
          "output_type": "stream",
          "text": [
            "[1, 5, 2, 12]\n",
            "<class '__main__.VoltageSignal'>\n"
          ],
          "name": "stdout"
        }
      ]
    },
    {
      "cell_type": "markdown",
      "metadata": {
        "id": "9Kz059uaOeKR",
        "colab_type": "text"
      },
      "source": [
        "We can check whether an object is a `VoltageSignal` using the usual approach:"
      ]
    },
    {
      "cell_type": "code",
      "metadata": {
        "id": "omt2i8UZOnft",
        "colab_type": "code",
        "colab": {
          "base_uri": "https://localhost:8080/",
          "height": 35
        },
        "outputId": "a6af226f-b10d-40d1-f13d-b1c12e6041da"
      },
      "source": [
        "type(my_sig) == VoltageSignal"
      ],
      "execution_count": null,
      "outputs": [
        {
          "output_type": "execute_result",
          "data": {
            "text/plain": [
              "True"
            ]
          },
          "metadata": {
            "tags": []
          },
          "execution_count": 61
        }
      ]
    },
    {
      "cell_type": "markdown",
      "metadata": {
        "id": "Hibda4GBOrqC",
        "colab_type": "text"
      },
      "source": [
        "But there is another built-in function, `isinstance()`, which can confirm if an object is an instance of some class, or of any of that class's children. For example, by inheritance, `my_sig` is an instance of `VoltageSignal`, of `NumericalList`, and of `list`:"
      ]
    },
    {
      "cell_type": "code",
      "metadata": {
        "id": "z1Ac_P9rOrFv",
        "colab_type": "code",
        "colab": {
          "base_uri": "https://localhost:8080/",
          "height": 72
        },
        "outputId": "e8262af0-ed0f-423d-c1e0-da1e45143f72"
      },
      "source": [
        "print(isinstance(my_sig, VoltageSignal))\n",
        "print(isinstance(my_sig, NumericalList))\n",
        "print(isinstance(my_sig, list))"
      ],
      "execution_count": null,
      "outputs": [
        {
          "output_type": "stream",
          "text": [
            "True\n",
            "True\n",
            "True\n"
          ],
          "name": "stdout"
        }
      ]
    },
    {
      "cell_type": "markdown",
      "metadata": {
        "id": "s4BHlKLsVP-j",
        "colab_type": "text"
      },
      "source": [
        "Let's add some more specialized features to the `VoltageSignal` class. Voltages could be represented with different units, like millivolts or microvolts, so it would be useful for our class to store the units when it is created, allowing that information to be accessed later. We should require that information at the time the `VoltageSignal` is created.\n",
        "\n",
        "Recall that the `__init__` dunder method handles initialization. For subclasses, it is important that their initialization includes the initialization procedures of its parent classes. This is accomplished using `super().__init__()`, which calls the initializer of the parent class. If the parent `__init__` requires any arguments, these can be provided here. In our case, `VoltageSignal` is a subclass (of a subclass) of `list`, and `list`s can be initialized with data. We are already getting that functionality for free (i.e., `VoltageSignal([1, 5, 2, 12])` worked earlier to initialize the list with the provided numbers) because `VoltageSignal`'s initialization defaults to a `list`'s since it is undefined. Now that we plan to define (and enhance with units) the initialization, we need to be careful not to discard the data initialization feature we currently have. We can accomplish this by calling `super().__init__(data)`:"
      ]
    },
    {
      "cell_type": "code",
      "metadata": {
        "id": "xzh2v1LhV-xi",
        "colab_type": "code",
        "colab": {}
      },
      "source": [
        "class VoltageSignal(NumericalList):\n",
        "\n",
        "    # __init__ below does nothing extra that we didn't have before defining\n",
        "    # __init__, but super().__init__(data) is necessary if we are to expand\n",
        "    # initialization with new features, like units\n",
        "\n",
        "    def __init__(self, data):\n",
        "        super().__init__(data)"
      ],
      "execution_count": null,
      "outputs": []
    },
    {
      "cell_type": "code",
      "metadata": {
        "id": "x1Ww-q2SWHXN",
        "colab_type": "code",
        "colab": {
          "base_uri": "https://localhost:8080/",
          "height": 35
        },
        "outputId": "ec67d8ae-ebcb-48f7-fe20-bc4aa55aa447"
      },
      "source": [
        "# initialization of the list with data still works because we added\n",
        "# super().__init__(data) to VoltageSignal.__init__\n",
        "my_sig = VoltageSignal([1, 5, 2, 12])\n",
        "print(my_sig)"
      ],
      "execution_count": null,
      "outputs": [
        {
          "output_type": "stream",
          "text": [
            "[1, 5, 2, 12]\n"
          ],
          "name": "stdout"
        }
      ]
    },
    {
      "cell_type": "markdown",
      "metadata": {
        "id": "rJvlUwipX2F_",
        "colab_type": "text"
      },
      "source": [
        "So far we haven't done anything new. We've merely set the table for introducing new features. Let's now require that a second argument is provided after the numerical data, and let's store it as the `units` attribute."
      ]
    },
    {
      "cell_type": "code",
      "metadata": {
        "id": "WzlHImiGYHo9",
        "colab_type": "code",
        "colab": {}
      },
      "source": [
        "class VoltageSignal(NumericalList):\n",
        "    def __init__(self, data, units):\n",
        "        super().__init__(data)\n",
        "        self.units = units"
      ],
      "execution_count": null,
      "outputs": []
    },
    {
      "cell_type": "code",
      "metadata": {
        "colab_type": "code",
        "id": "geF-ZEk4YQyG",
        "colab": {
          "base_uri": "https://localhost:8080/",
          "height": 53
        },
        "outputId": "eecb5413-dd72-49b6-d006-c24da4920389"
      },
      "source": [
        "my_sig = VoltageSignal([1, 5, 2, 12], 'mV')\n",
        "print(my_sig)\n",
        "print(my_sig.units)"
      ],
      "execution_count": null,
      "outputs": [
        {
          "output_type": "stream",
          "text": [
            "[1, 5, 2, 12]\n",
            "mV\n"
          ],
          "name": "stdout"
        }
      ]
    },
    {
      "cell_type": "markdown",
      "metadata": {
        "id": "7-hX5P9BveLx",
        "colab_type": "text"
      },
      "source": [
        "Like with the `Counter` class, defining the `__repr__()` method allows us to control what is displayed when a `VoltageSignal` is printed. We can make our new class display both the values and the units this way:"
      ]
    },
    {
      "cell_type": "code",
      "metadata": {
        "id": "OkfFGoUkvnM3",
        "colab_type": "code",
        "colab": {}
      },
      "source": [
        "class VoltageSignal(NumericalList):\n",
        "    def __init__(self, data, units):\n",
        "        super().__init__(data)\n",
        "        self.units = units\n",
        "\n",
        "    def __repr__(self):\n",
        "        return f'{list(self)} {self.units}'"
      ],
      "execution_count": null,
      "outputs": []
    },
    {
      "cell_type": "code",
      "metadata": {
        "id": "oixx6Bqovu9H",
        "colab_type": "code",
        "colab": {
          "base_uri": "https://localhost:8080/",
          "height": 35
        },
        "outputId": "42c0389b-65c7-4d04-853d-c50f6a70a4dd"
      },
      "source": [
        "my_sig = VoltageSignal([1, 5, 2, 12], 'mV')\n",
        "print(my_sig)"
      ],
      "execution_count": null,
      "outputs": [
        {
          "output_type": "stream",
          "text": [
            "[1, 5, 2, 12] mV\n"
          ],
          "name": "stdout"
        }
      ]
    },
    {
      "cell_type": "markdown",
      "metadata": {
        "id": "_ERpGAExYZxT",
        "colab_type": "text"
      },
      "source": [
        "Let's do something useful with the units by adding a method that can convert between millivolts and microvolts, or vice versa:"
      ]
    },
    {
      "cell_type": "code",
      "metadata": {
        "id": "uPQRa1TrYkdy",
        "colab_type": "code",
        "colab": {}
      },
      "source": [
        "class VoltageSignal(NumericalList):\n",
        "    def __init__(self, data, units):\n",
        "        super().__init__(data)\n",
        "        self.units = units\n",
        "\n",
        "    def __repr__(self):\n",
        "        return f'{list(self)} {self.units}'\n",
        "    \n",
        "    def convert(self, new_units):\n",
        "        if self.units == 'mV' and new_units == 'uV':\n",
        "            factor = 1000\n",
        "        elif self.units == 'uV' and new_units == 'mV':\n",
        "            factor = 1/1000\n",
        "        else:\n",
        "            print('bad units!')\n",
        "            return\n",
        "        new_data = self*factor  # this simple syntax would not be possible if\n",
        "                                # VoltageSignal did not inherit __mul__() from\n",
        "                                # NumericalList\n",
        "        return VoltageSignal(new_data, new_units)"
      ],
      "execution_count": null,
      "outputs": []
    },
    {
      "cell_type": "code",
      "metadata": {
        "id": "1kcQk173ZV-Z",
        "colab_type": "code",
        "colab": {
          "base_uri": "https://localhost:8080/",
          "height": 35
        },
        "outputId": "355ba215-71cb-4a96-a510-93b0e253a509"
      },
      "source": [
        "my_sig = VoltageSignal([1, 5, 2, 12], 'mV')\n",
        "print(my_sig.convert('uV'))"
      ],
      "execution_count": null,
      "outputs": [
        {
          "output_type": "stream",
          "text": [
            "[1000, 5000, 2000, 12000] uV\n"
          ],
          "name": "stdout"
        }
      ]
    },
    {
      "cell_type": "code",
      "metadata": {
        "id": "8lCv-yJoVLIE",
        "colab_type": "code",
        "colab": {
          "base_uri": "https://localhost:8080/",
          "height": 35
        },
        "outputId": "08c8ebd4-bba5-47d0-98c3-8ebedac400ce"
      },
      "source": [
        "my_sig = VoltageSignal([1, 5, 2, 12], 'uV')\n",
        "print(my_sig.convert('mV'))"
      ],
      "execution_count": null,
      "outputs": [
        {
          "output_type": "stream",
          "text": [
            "[0.001, 0.005, 0.002, 0.012] mV\n"
          ],
          "name": "stdout"
        }
      ]
    },
    {
      "cell_type": "markdown",
      "metadata": {
        "id": "X5P6Zvxdau60",
        "colab_type": "text"
      },
      "source": [
        "Instances of the `VoltageSignal` still have access to methods inherited from `NumericalList`, including `mean()`:"
      ]
    },
    {
      "cell_type": "code",
      "metadata": {
        "id": "jeHaAmD7at9E",
        "colab_type": "code",
        "colab": {
          "base_uri": "https://localhost:8080/",
          "height": 53
        },
        "outputId": "fee2bd07-85fb-405a-b43f-0b562e9376ca"
      },
      "source": [
        "my_sig = VoltageSignal([1, 5, 2, 12], 'uV')\n",
        "my_sig_converted = my_sig.convert('mV')\n",
        "\n",
        "print(f'The mean voltage is {my_sig.mean()} {my_sig.units}.')\n",
        "print(f'This is equivalent to {my_sig_converted.mean()} {my_sig_converted.units}.')"
      ],
      "execution_count": null,
      "outputs": [
        {
          "output_type": "stream",
          "text": [
            "The mean voltage is 5.0 uV.\n",
            "This is equivalent to 0.005 mV.\n"
          ],
          "name": "stdout"
        }
      ]
    },
    {
      "cell_type": "markdown",
      "metadata": {
        "id": "p2CPFqukS442",
        "colab_type": "text"
      },
      "source": [
        "## Handling Errors with Try-Except"
      ]
    },
    {
      "cell_type": "markdown",
      "metadata": {
        "id": "zkGScQnmTLwz",
        "colab_type": "text"
      },
      "source": [
        "Using `print()` to display errors or warnings is quick and easy, but printed messages cannot be easily interpreted or handled programmatically. **Exceptions** are Python's approach to machine-readable error reporting which can be detected by code and either passed to the user when the problem is severe or handled when the problem is recoverable.\n",
        "\n",
        "You have already seen many types of common exceptions. For example, if you attempt to access an item in a list with an index that is greater than the list length, you will get one type of exception called an `IndexError`:"
      ]
    },
    {
      "cell_type": "code",
      "metadata": {
        "id": "PF9YGcnzYdM0",
        "colab_type": "code",
        "colab": {
          "base_uri": "https://localhost:8080/",
          "height": 189
        },
        "outputId": "2c9a744b-148f-4ac3-887b-3b17492b3421"
      },
      "source": [
        "my_list = [0, 1, 2, 3]\n",
        "my_list[9]"
      ],
      "execution_count": null,
      "outputs": [
        {
          "output_type": "error",
          "ename": "IndexError",
          "evalue": "ignored",
          "traceback": [
            "\u001b[0;31m---------------------------------------------------------------------------\u001b[0m",
            "\u001b[0;31mIndexError\u001b[0m                                Traceback (most recent call last)",
            "\u001b[0;32m<ipython-input-89-9667eae92609>\u001b[0m in \u001b[0;36m<module>\u001b[0;34m()\u001b[0m\n\u001b[1;32m      1\u001b[0m \u001b[0mmy_list\u001b[0m \u001b[0;34m=\u001b[0m \u001b[0;34m[\u001b[0m\u001b[0;36m0\u001b[0m\u001b[0;34m,\u001b[0m \u001b[0;36m1\u001b[0m\u001b[0;34m,\u001b[0m \u001b[0;36m2\u001b[0m\u001b[0;34m,\u001b[0m \u001b[0;36m3\u001b[0m\u001b[0;34m]\u001b[0m\u001b[0;34m\u001b[0m\u001b[0;34m\u001b[0m\u001b[0m\n\u001b[0;32m----> 2\u001b[0;31m \u001b[0mmy_list\u001b[0m\u001b[0;34m[\u001b[0m\u001b[0;36m9\u001b[0m\u001b[0;34m]\u001b[0m\u001b[0;34m\u001b[0m\u001b[0;34m\u001b[0m\u001b[0m\n\u001b[0m",
            "\u001b[0;31mIndexError\u001b[0m: list index out of range"
          ]
        }
      ]
    },
    {
      "cell_type": "markdown",
      "metadata": {
        "id": "KVDnVTUvZoDR",
        "colab_type": "text"
      },
      "source": [
        "Notice that in addition to printing the exception type and an explanation (\"`IndexError: list index out of range`\"), a \"**traceback**\" is printed which shows the line of code that caused the error. When an error is caused by deeply nested code, the traceback will show each function call that led from what you executed directly to the line of code that caused the problem. Learning how to read and decipher tracebacks is an essential skill!\n",
        "\n",
        "Here's a list of common exception types you have likely already encountered:\n",
        "\n",
        "* `AttributeError`: non-existant object attribute (e.g., `list.grow`)\n",
        "* `IndexError`: bad index for list or other sequence\n",
        "* `KeyError`: bad key for dictionary\n",
        "* `NameError`: non-existant variable\n",
        "* `SyntaxError`: bad syntax (e.g., `range 5`)\n",
        "* `TypeError`: incompatible type (e.g., `123 + 'abc'`)\n",
        "\n",
        "A special pair of keywords, `try` and `except`, can be used to **catch and handle exceptions**, allowing you to respond to them programmatically. If recovery from the error is possible, this is extremely useful.\n",
        "\n",
        "For example, by catching an exception raised by bad user input, a function could allow the user to fix their mistake and try again:"
      ]
    },
    {
      "cell_type": "code",
      "metadata": {
        "id": "d2M3mjd6bShW",
        "colab_type": "code",
        "colab": {
          "base_uri": "https://localhost:8080/",
          "height": 108
        },
        "outputId": "7caf7281-0d9d-4efc-ee07-8a6a50609081"
      },
      "source": [
        "def get_number():\n",
        "\n",
        "    # this while loop will run forever until a break statement is encountered\n",
        "    while True:\n",
        "\n",
        "        try:\n",
        "\n",
        "            # allow the user to type a string, then try to convert it to a float\n",
        "            num = float(input('Enter a number: '))\n",
        "\n",
        "            # if an exception does not interrupt the try clause before this\n",
        "            # point, this break will get us out of the while loop\n",
        "            break\n",
        "\n",
        "        except:\n",
        "\n",
        "            # the user entered a string that could not be converted to a number\n",
        "            # using float(), so an exception was raised and the assignment to\n",
        "            # num failed. here we will notify the user of the mistake and allow\n",
        "            # them another attempt in the next iteration of the while-loop.\n",
        "            print('That is not a number... try again!')\n",
        "            print()\n",
        "\n",
        "    # the while-loop terminated, so the user must have eventually entered a\n",
        "    # valid number\n",
        "    return num\n",
        "\n",
        "print(f'Your number is {get_number()}')"
      ],
      "execution_count": null,
      "outputs": [
        {
          "output_type": "stream",
          "text": [
            "Enter a number: abc\n",
            "That is not a number... try again!\n",
            "\n",
            "Enter a number: 123\n",
            "Your number is 123.0\n"
          ],
          "name": "stdout"
        }
      ]
    },
    {
      "cell_type": "markdown",
      "metadata": {
        "id": "tYNgTjPTljzU",
        "colab_type": "text"
      },
      "source": [
        "In addition to handling exceptions using `try` and `except`, you can also **raise exceptions** when you want to indicate an error using the `raise` keyword. When an exception is raised, execution of subsequent code is halted. This exception must be caught and handled by other code using `try` and `except`, or else it will be presented to the user.\n",
        "\n",
        "For example, we can improve our `NumericalList` class by raising an exception if it is initialized with non-numerical data. We can choose the type of exception (`TypeError` makes sense here), and we can include a message with the exception. Here is one way to do it, which uses the built-in function `enumerate` to get both the offending non-numerical list item and its position in the data list (note that most of the class definition previously developed has been removed for clarity):"
      ]
    },
    {
      "cell_type": "code",
      "metadata": {
        "id": "caGcTuQzoK0J",
        "colab_type": "code",
        "colab": {}
      },
      "source": [
        "class NumericalList(list):\n",
        "\n",
        "    def __init__(self, data):\n",
        "        super().__init__(data)\n",
        "\n",
        "        # verify that data contains only numbers\n",
        "        for i, x in enumerate(data):\n",
        "            if type(x) not in [int, float]:\n",
        "                raise TypeError(f'NumericalList initialized with non-numerical data at index {i}: {x}')"
      ],
      "execution_count": null,
      "outputs": []
    },
    {
      "cell_type": "code",
      "metadata": {
        "id": "8R6cW0vFlcZW",
        "colab_type": "code",
        "colab": {
          "base_uri": "https://localhost:8080/",
          "height": 262
        },
        "outputId": "cf1901f6-0bea-4b2d-ec35-827135837d59"
      },
      "source": [
        "my_nlist = NumericalList([0, 1, 2, 3, 4, 'five', 6, 7, 8, 9])"
      ],
      "execution_count": null,
      "outputs": [
        {
          "output_type": "error",
          "ename": "TypeError",
          "evalue": "ignored",
          "traceback": [
            "\u001b[0;31m---------------------------------------------------------------------------\u001b[0m",
            "\u001b[0;31mTypeError\u001b[0m                                 Traceback (most recent call last)",
            "\u001b[0;32m<ipython-input-91-ffeb8adec235>\u001b[0m in \u001b[0;36m<module>\u001b[0;34m()\u001b[0m\n\u001b[0;32m----> 1\u001b[0;31m \u001b[0mmy_nlist\u001b[0m \u001b[0;34m=\u001b[0m \u001b[0mNumericalList\u001b[0m\u001b[0;34m(\u001b[0m\u001b[0;34m[\u001b[0m\u001b[0;36m0\u001b[0m\u001b[0;34m,\u001b[0m \u001b[0;36m1\u001b[0m\u001b[0;34m,\u001b[0m \u001b[0;36m2\u001b[0m\u001b[0;34m,\u001b[0m \u001b[0;36m3\u001b[0m\u001b[0;34m,\u001b[0m \u001b[0;36m4\u001b[0m\u001b[0;34m,\u001b[0m \u001b[0;34m'five'\u001b[0m\u001b[0;34m,\u001b[0m \u001b[0;36m6\u001b[0m\u001b[0;34m,\u001b[0m \u001b[0;36m7\u001b[0m\u001b[0;34m,\u001b[0m \u001b[0;36m8\u001b[0m\u001b[0;34m,\u001b[0m \u001b[0;36m9\u001b[0m\u001b[0;34m]\u001b[0m\u001b[0;34m)\u001b[0m\u001b[0;34m\u001b[0m\u001b[0;34m\u001b[0m\u001b[0m\n\u001b[0m",
            "\u001b[0;32m<ipython-input-90-7f50dd95dc91>\u001b[0m in \u001b[0;36m__init__\u001b[0;34m(self, data)\u001b[0m\n\u001b[1;32m      7\u001b[0m         \u001b[0;32mfor\u001b[0m \u001b[0mi\u001b[0m\u001b[0;34m,\u001b[0m \u001b[0mx\u001b[0m \u001b[0;32min\u001b[0m \u001b[0menumerate\u001b[0m\u001b[0;34m(\u001b[0m\u001b[0mdata\u001b[0m\u001b[0;34m)\u001b[0m\u001b[0;34m:\u001b[0m\u001b[0;34m\u001b[0m\u001b[0;34m\u001b[0m\u001b[0m\n\u001b[1;32m      8\u001b[0m             \u001b[0;32mif\u001b[0m \u001b[0mtype\u001b[0m\u001b[0;34m(\u001b[0m\u001b[0mx\u001b[0m\u001b[0;34m)\u001b[0m \u001b[0;32mnot\u001b[0m \u001b[0;32min\u001b[0m \u001b[0;34m[\u001b[0m\u001b[0mint\u001b[0m\u001b[0;34m,\u001b[0m \u001b[0mfloat\u001b[0m\u001b[0;34m]\u001b[0m\u001b[0;34m:\u001b[0m\u001b[0;34m\u001b[0m\u001b[0;34m\u001b[0m\u001b[0m\n\u001b[0;32m----> 9\u001b[0;31m                 \u001b[0;32mraise\u001b[0m \u001b[0mTypeError\u001b[0m\u001b[0;34m(\u001b[0m\u001b[0;34mf'NumericalList initialized with non-numerical data at index {i}: {x}'\u001b[0m\u001b[0;34m)\u001b[0m\u001b[0;34m\u001b[0m\u001b[0;34m\u001b[0m\u001b[0m\n\u001b[0m",
            "\u001b[0;31mTypeError\u001b[0m: NumericalList initialized with non-numerical data at index 5: five"
          ]
        }
      ]
    },
    {
      "cell_type": "markdown",
      "metadata": {
        "id": "2ePq2PLIsCbG",
        "colab_type": "text"
      },
      "source": [
        "By raising an exception to indicate the bad input, rather than simply printing a message which is readable by a human but not by the computer, we allow users of the `NumericalList` class to detect bad input programmatically and decide what to do about it  using `try` and `except`. For this reason, when designing a class, raising exceptions when a problem occurs is generally better than just using `print()` because it increases flexibility and allows for recovery.\n",
        "\n",
        "We can improve `NumericalList` by replacing all of the printed errors with exceptions:"
      ]
    },
    {
      "cell_type": "code",
      "metadata": {
        "id": "ncdxaDWKtbw3",
        "colab_type": "code",
        "colab": {}
      },
      "source": [
        "class NumericalList(list):\n",
        "\n",
        "    def __init__(self, data):\n",
        "        super().__init__(data)\n",
        "\n",
        "        # verify that data contains only numbers\n",
        "        for i, x in enumerate(data):\n",
        "            if type(x) not in [int, float]:\n",
        "                raise TypeError(f'NumericalList initialized with non-numerical data at index {i}: {x}')\n",
        "\n",
        "    def __add__(self, other):\n",
        "        if type(other) == NumericalList:\n",
        "            if len(other) == len(self):\n",
        "                return NumericalList([x+y for x, y in zip(self, other)])\n",
        "            else:\n",
        "                raise ValueError(f'NumericalLists have unequal lengths: {len(self)} and {len(other)}')\n",
        "        elif type(other) in [int, float]:\n",
        "            return NumericalList([x+other for x in self])\n",
        "        else:\n",
        "            raise TypeError(f'object after + has incompatible type {type(other)} but must be a NumericalList, int, or float')\n",
        "\n",
        "    def __sub__(self, other):\n",
        "        if type(other) == NumericalList:\n",
        "            if len(other) == len(self):\n",
        "                return NumericalList([x-y for x, y in zip(self, other)])\n",
        "            else:\n",
        "                raise ValueError(f'NumericalLists have unequal lengths: {len(self)} and {len(other)}')\n",
        "        elif type(other) in [int, float]:\n",
        "            return NumericalList([x-other for x in self])\n",
        "        else:\n",
        "            raise TypeError(f'object after - has incompatible type {type(other)} but must be a NumericalList, int, or float')\n",
        "\n",
        "    def __mul__(self, other):\n",
        "        if type(other) == NumericalList:\n",
        "            if len(other) == len(self):\n",
        "                return NumericalList([x*y for x, y in zip(self, other)])\n",
        "            else:\n",
        "                raise ValueError(f'NumericalLists have unequal lengths: {len(self)} and {len(other)}')\n",
        "        elif type(other) in [int, float]:\n",
        "            return NumericalList([x*other for x in self])\n",
        "        else:\n",
        "            raise TypeError(f'object after * has incompatible type {type(other)} but must be a NumericalList, int, or float')\n",
        "\n",
        "    def __truediv__(self, other):\n",
        "        if type(other) == NumericalList:\n",
        "            if len(other) == len(self):\n",
        "                return NumericalList([x/y for x, y in zip(self, other)])\n",
        "            else:\n",
        "                raise ValueError(f'NumericalLists have unequal lengths: {len(self)} and {len(other)}')\n",
        "        elif type(other) in [int, float]:\n",
        "            return NumericalList([x/other for x in self])\n",
        "        else:\n",
        "            raise TypeError(f'object after / has incompatible type {type(other)} but must be a NumericalList, int, or float')\n",
        "\n",
        "    def __neg__(self):\n",
        "        return NumericalList([-x for x in self])\n",
        "    \n",
        "    @property\n",
        "    def size(self):\n",
        "        return len(self)\n",
        "\n",
        "    def mean(self):\n",
        "        return sum(self)/len(self)"
      ],
      "execution_count": null,
      "outputs": []
    },
    {
      "cell_type": "markdown",
      "metadata": {
        "id": "pvkFe3c9vXUW",
        "colab_type": "text"
      },
      "source": [
        "An `except` clause can target a specific type of exception by naming it (e.g., `except TypeError`), and different exception types can be handled differently by using multiple `except` clauses. Furthermore, the exception object itself can be given a variable name using `as` (e.g., `except TypeError as e`), and attributes of the exception can be accessed like any other Python object. Using an `else` clause after the `except` clause(s), code that should only be executed if no exceptions were raised can be entered. Finally, the `finally` clause allows some piece of code to always execute following a `try`/`except`, whether or not an exception was raised; this is typically used for clean-up of some kind. For example:"
      ]
    },
    {
      "cell_type": "code",
      "metadata": {
        "id": "KMJqMBKT7L74",
        "colab_type": "code",
        "colab": {
          "base_uri": "https://localhost:8080/",
          "height": 72
        },
        "outputId": "a7f561f0-a807-46d2-b378-043a32163e6d"
      },
      "source": [
        "try:\n",
        "    # this should not raise an exception\n",
        "    NumericalList([1, 2]) + NumericalList([3, 4])\n",
        "\n",
        "    # the try clause can finish uninterrupted\n",
        "    print('This will print')\n",
        "\n",
        "except ValueError as e:\n",
        "    print(f'A ValueError was caught! It says \"{e.args[0]}\".')\n",
        "\n",
        "except TypeError as e:\n",
        "    print(f'A TypeError was caught! It says \"{e.args[0]}\".')\n",
        "\n",
        "else:\n",
        "    # this else clause executes only if there were no exceptions raised\n",
        "    print('There were no errors!')\n",
        "\n",
        "finally:\n",
        "    # this finally clause executes regardless of whether the try clause was\n",
        "    # interrupted by an exception and can be used to delete variables, close\n",
        "    # open files, or perform other clean-up tasks\n",
        "    print('Finally done!')"
      ],
      "execution_count": null,
      "outputs": [
        {
          "output_type": "stream",
          "text": [
            "This will print\n",
            "There were no errors!\n",
            "Finally done!\n"
          ],
          "name": "stdout"
        }
      ]
    },
    {
      "cell_type": "code",
      "metadata": {
        "id": "pcU8meUGtblZ",
        "colab_type": "code",
        "colab": {
          "base_uri": "https://localhost:8080/",
          "height": 53
        },
        "outputId": "85893946-294a-4919-cff6-0730b571addd"
      },
      "source": [
        "try:\n",
        "    # this should raise a ValueError due to unequal length\n",
        "    NumericalList([1, 2]) + NumericalList([3])\n",
        "\n",
        "    # the exception will interrupt this try clause, so this print will never\n",
        "    # happen\n",
        "    print('This will not print')\n",
        "\n",
        "except ValueError as e:\n",
        "    print(f'A ValueError was caught! It says \"{e.args[0]}\".')\n",
        "\n",
        "except TypeError as e:\n",
        "    print(f'A TypeError was caught! It says \"{e.args[0]}\".')\n",
        "\n",
        "else:\n",
        "    # this else clause executes only if there were no exceptions raised\n",
        "    print('There were no errors!')\n",
        "\n",
        "finally:\n",
        "    # this finally clause executes regardless of whether the try clause was\n",
        "    # interrupted by an exception and can be used to delete variables, close\n",
        "    # open files, or perform other clean-up tasks\n",
        "    print('Finally done!')"
      ],
      "execution_count": null,
      "outputs": [
        {
          "output_type": "stream",
          "text": [
            "A ValueError was caught! It says \"NumericalLists have unequal lengths: 2 and 1\".\n",
            "Finally done!\n"
          ],
          "name": "stdout"
        }
      ]
    },
    {
      "cell_type": "code",
      "metadata": {
        "id": "mfhnDx25tX6y",
        "colab_type": "code",
        "colab": {
          "base_uri": "https://localhost:8080/",
          "height": 53
        },
        "outputId": "87b11ed6-d672-43e5-f855-cb4af60eed09"
      },
      "source": [
        "try:\n",
        "    # this should raise a TypeError due to 'three' being a string\n",
        "    NumericalList([1, 2]) + 'three'\n",
        "\n",
        "    # the exception will interrupt this try clause, so this print will never\n",
        "    # happen\n",
        "    print('This will not print')\n",
        "\n",
        "except ValueError as e:\n",
        "    print(f'A ValueError was caught! It says \"{e.args[0]}\".')\n",
        "\n",
        "except TypeError as e:\n",
        "    print(f'A TypeError was caught! It says \"{e.args[0]}\".')\n",
        "\n",
        "else:\n",
        "    # this else clause executes only if there were no exceptions raised\n",
        "    print('There were no errors!')\n",
        "\n",
        "finally:\n",
        "    # this finally clause executes regardless of whether the try clause was\n",
        "    # interrupted by an exception and can be used to delete variables, close\n",
        "    # open files, or perform other clean-up tasks\n",
        "    print('Finally done!')"
      ],
      "execution_count": null,
      "outputs": [
        {
          "output_type": "stream",
          "text": [
            "A TypeError was caught! It says \"object after + has incompatible type <class 'str'> but must be a NumericalList, int, or float\".\n",
            "Finally done!\n"
          ],
          "name": "stdout"
        }
      ]
    },
    {
      "cell_type": "markdown",
      "metadata": {
        "id": "_jkeWL7jyJb4",
        "colab_type": "text"
      },
      "source": [
        "The `assert` statement provides a compact way of checking that something is true and raising an exception if it is not. The general form of an `assert` statement is\n",
        "\n",
        "> ```\n",
        "assert condition, message\n",
        "```\n",
        "\n",
        "which is equivalent to\n",
        "\n",
        "> ```\n",
        "if not condition:\n",
        "    raise AssertionError(message)\n",
        "```\n",
        "\n",
        "For example:"
      ]
    },
    {
      "cell_type": "code",
      "metadata": {
        "id": "c05fxwI0bNEu",
        "colab_type": "code",
        "colab": {
          "base_uri": "https://localhost:8080/",
          "height": 171
        },
        "outputId": "9936d9c8-99a8-474f-d7eb-1e78899d9c40"
      },
      "source": [
        "assert 1+1==3, 'the assertion was not true'"
      ],
      "execution_count": null,
      "outputs": [
        {
          "output_type": "error",
          "ename": "AssertionError",
          "evalue": "ignored",
          "traceback": [
            "\u001b[0;31m---------------------------------------------------------------------------\u001b[0m",
            "\u001b[0;31mAssertionError\u001b[0m                            Traceback (most recent call last)",
            "\u001b[0;32m<ipython-input-88-aff25ed594fa>\u001b[0m in \u001b[0;36m<module>\u001b[0;34m()\u001b[0m\n\u001b[0;32m----> 1\u001b[0;31m \u001b[0;32massert\u001b[0m \u001b[0;36m1\u001b[0m\u001b[0;34m+\u001b[0m\u001b[0;36m1\u001b[0m\u001b[0;34m==\u001b[0m\u001b[0;36m3\u001b[0m\u001b[0;34m,\u001b[0m \u001b[0;34m'the assertion was not true'\u001b[0m\u001b[0;34m\u001b[0m\u001b[0;34m\u001b[0m\u001b[0m\n\u001b[0m",
            "\u001b[0;31mAssertionError\u001b[0m: the assertion was not true"
          ]
        }
      ]
    },
    {
      "cell_type": "markdown",
      "metadata": {
        "id": "c07TBHdokweE",
        "colab_type": "text"
      },
      "source": [
        "# Continue to the Next Lesson\n",
        "\n",
        "Return to home to continue to the next lession:\n",
        "\n",
        "https://jpgill86.github.io/python-for-neuroscientists/"
      ]
    },
    {
      "cell_type": "markdown",
      "metadata": {
        "id": "ywlbOi3FUWgK",
        "colab_type": "text"
      },
      "source": [
        "# External Resources"
      ]
    },
    {
      "cell_type": "markdown",
      "metadata": {
        "id": "Nl36l9SJSGG9",
        "colab_type": "text"
      },
      "source": [
        "The official language documentation:\n",
        "\n",
        "* [Python 3 documentation](https://docs.python.org/3/index.html)\n",
        "* [Built-in functions](https://docs.python.org/3/library/functions.html)\n",
        "* [Standard libraries](https://docs.python.org/3/library/index.html)\n",
        "* [Glossary of terms](https://docs.python.org/3/glossary.html)\n",
        "* [In-depth tutorial](https://docs.python.org/3/tutorial/index.html)\n",
        "\n",
        "Extended language documentation:\n",
        "* [IPython (Jupyter) vs. Python differences](https://ipython.readthedocs.io/en/stable/interactive/python-ipython-diff.html)\n",
        "* [IPython (Jupyter) \"magic\" (`%`) commands](https://ipython.readthedocs.io/en/stable/interactive/magics.html)\n",
        "\n",
        "Free interactive books created by Jake VanderPlas:\n",
        "\n",
        "* [A Whirlwind Tour of Python](https://colab.research.google.com/github/jakevdp/WhirlwindTourOfPython/blob/master/Index.ipynb) [[PDF version]](https://www.oreilly.com/programming/free/files/a-whirlwind-tour-of-python.pdf)\n",
        "* [Python Data Science Handbook](https://colab.research.google.com/github/jakevdp/PythonDataScienceHandbook/blob/master/notebooks/Index.ipynb)"
      ]
    },
    {
      "cell_type": "markdown",
      "metadata": {
        "id": "n-KhMl8xk1Ze",
        "colab_type": "text"
      },
      "source": [
        "# License\n",
        "\n",
        "[This work](https://github.com/jpgill86/python-for-neuroscientists) is licensed under a [Creative Commons Attribution 4.0 International\n",
        "License](http://creativecommons.org/licenses/by/4.0/)."
      ]
    }
  ]
}