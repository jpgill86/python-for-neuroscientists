{
  "nbformat": 4,
  "nbformat_minor": 0,
  "metadata": {
    "colab": {
      "name": "02.4-The-Core-Language-of-Python.ipynb",
      "provenance": [],
      "collapsed_sections": [],
      "toc_visible": true,
      "include_colab_link": true
    },
    "kernelspec": {
      "name": "python3",
      "display_name": "Python 3"
    }
  },
  "cells": [
    {
      "cell_type": "markdown",
      "metadata": {
        "id": "view-in-github",
        "colab_type": "text"
      },
      "source": [
        "<a href=\"https://colab.research.google.com/github/jpgill86/python-for-neuroscientists/blob/master/notebooks/02.4-The-Core-Language-of-Python.ipynb\" target=\"_parent\"><img src=\"https://colab.research.google.com/assets/colab-badge.svg\" alt=\"Open In Colab\"/></a>"
      ]
    },
    {
      "cell_type": "markdown",
      "metadata": {
        "id": "QRtgy8QlUJSM",
        "colab_type": "text"
      },
      "source": [
        "# The Core Language of Python: Part 4"
      ]
    },
    {
      "cell_type": "markdown",
      "metadata": {
        "id": "XtfHIWprUw5r",
        "colab_type": "text"
      },
      "source": [
        "## Functions"
      ]
    },
    {
      "cell_type": "markdown",
      "metadata": {
        "id": "QyezIW6lYzth",
        "colab_type": "text"
      },
      "source": [
        "### Definitions and Variable Scope"
      ]
    },
    {
      "cell_type": "markdown",
      "metadata": {
        "id": "Wnszey9SlfdV",
        "colab_type": "text"
      },
      "source": [
        "**Functions** take inputs, called **arguments** or **parameters**, and do work with them. Often, functions will **return** a result.\n",
        "\n",
        "Before use, functions must be **defined** using the `def` keyword. Inside the definition, results can be **returned** using the `return` keyword. Function arguments are specified in the definition inside parentheses after the function name.\n",
        "\n",
        "A function is used, or **called**, by invoking its name with the arguments."
      ]
    },
    {
      "cell_type": "code",
      "metadata": {
        "id": "B3snzbIcUAx6",
        "colab_type": "code",
        "colab": {
          "base_uri": "https://localhost:8080/",
          "height": 35
        },
        "outputId": "365d6bc3-b175-4967-cfca-2f152f1deab4"
      },
      "source": [
        "def compute_square(x):\n",
        "    return x**2\n",
        "\n",
        "compute_square(4)"
      ],
      "execution_count": null,
      "outputs": [
        {
          "output_type": "execute_result",
          "data": {
            "text/plain": [
              "16"
            ]
          },
          "metadata": {
            "tags": []
          },
          "execution_count": 1
        }
      ]
    },
    {
      "cell_type": "markdown",
      "metadata": {
        "id": "r1xmHta7f4xx",
        "colab_type": "text"
      },
      "source": [
        "Variables assignment within a function has limited **scope**. This means that if a new variable is assigned within a function, it will exist within the function (local scope) but not outside it (global scope)."
      ]
    },
    {
      "cell_type": "code",
      "metadata": {
        "id": "JCcEh5QcGZXM",
        "colab_type": "code",
        "colab": {
          "base_uri": "https://localhost:8080/",
          "height": 227
        },
        "outputId": "b5520f39-a5a1-4816-fcb7-973d68ae4c0b"
      },
      "source": [
        "def add_4(x):\n",
        "    # this new variable has local scope and will not be accessible outside the function\n",
        "    some_local_variable = x + 4\n",
        "    \n",
        "    # use an f-string to display the result\n",
        "    print(f'{x} + 4 = {some_local_variable}')\n",
        "\n",
        "add_4(1)\n",
        "\n",
        "# this will fail because some_local_variable is out of scope\n",
        "print(some_local_variable)"
      ],
      "execution_count": null,
      "outputs": [
        {
          "output_type": "stream",
          "text": [
            "1 + 4 = 5\n"
          ],
          "name": "stdout"
        },
        {
          "output_type": "error",
          "ename": "NameError",
          "evalue": "ignored",
          "traceback": [
            "\u001b[0;31m---------------------------------------------------------------------------\u001b[0m",
            "\u001b[0;31mNameError\u001b[0m                                 Traceback (most recent call last)",
            "\u001b[0;32m<ipython-input-2-dd89e550e808>\u001b[0m in \u001b[0;36m<module>\u001b[0;34m()\u001b[0m\n\u001b[1;32m      9\u001b[0m \u001b[0;34m\u001b[0m\u001b[0m\n\u001b[1;32m     10\u001b[0m \u001b[0;31m# this will fail because some_local_variable is out of scope\u001b[0m\u001b[0;34m\u001b[0m\u001b[0;34m\u001b[0m\u001b[0;34m\u001b[0m\u001b[0m\n\u001b[0;32m---> 11\u001b[0;31m \u001b[0mprint\u001b[0m\u001b[0;34m(\u001b[0m\u001b[0msome_local_variable\u001b[0m\u001b[0;34m)\u001b[0m\u001b[0;34m\u001b[0m\u001b[0;34m\u001b[0m\u001b[0m\n\u001b[0m",
            "\u001b[0;31mNameError\u001b[0m: name 'some_local_variable' is not defined"
          ]
        }
      ]
    },
    {
      "cell_type": "markdown",
      "metadata": {
        "id": "FJ61P-MoGTdM",
        "colab_type": "text"
      },
      "source": [
        "This also means that if a variable that already exists (a global variable) is given a value inside the function, the global variable will not be affected."
      ]
    },
    {
      "cell_type": "code",
      "metadata": {
        "id": "_-hoKrz9eaID",
        "colab_type": "code",
        "colab": {
          "base_uri": "https://localhost:8080/",
          "height": 72
        },
        "outputId": "fdcee7e4-15bc-49b5-f93c-7c23a0a9c90c"
      },
      "source": [
        "x = 'original value'\n",
        "\n",
        "print(f'x in global scope: {x}')\n",
        "\n",
        "def print_something(text):\n",
        "    # assigning x inside the function does not affect x outside\n",
        "    x = text\n",
        "    print(f'x in local scope: {x}')\n",
        "\n",
        "print_something('new value')\n",
        "\n",
        "print(f'x in global scope: {x}')"
      ],
      "execution_count": null,
      "outputs": [
        {
          "output_type": "stream",
          "text": [
            "x in global scope: original value\n",
            "x in local scope: new value\n",
            "x in global scope: original value\n"
          ],
          "name": "stdout"
        }
      ]
    },
    {
      "cell_type": "markdown",
      "metadata": {
        "id": "5Ie5Qaikm3Pv",
        "colab_type": "text"
      },
      "source": [
        "Functions can be defined with multiple arguments."
      ]
    },
    {
      "cell_type": "code",
      "metadata": {
        "id": "lxyjjasHgblQ",
        "colab_type": "code",
        "colab": {
          "base_uri": "https://localhost:8080/",
          "height": 35
        },
        "outputId": "54569246-eae3-41aa-eb77-ba2a5a7e1275"
      },
      "source": [
        "def quadratic(x, a, b, c):\n",
        "    return a * x**2 + b * x + c\n",
        "\n",
        "quadratic(3, 1, 0, 5)  # 1 * 3**2 + 5 = 14"
      ],
      "execution_count": null,
      "outputs": [
        {
          "output_type": "execute_result",
          "data": {
            "text/plain": [
              "14"
            ]
          },
          "metadata": {
            "tags": []
          },
          "execution_count": 4
        }
      ]
    },
    {
      "cell_type": "markdown",
      "metadata": {
        "id": "L72PWJovHNxu",
        "colab_type": "text"
      },
      "source": [
        "When calling a function with multiple arguments, the order of the inputs must match the definition unless the arguments are explicitly named. This can be done using `=` to pass what are called **keyword arguments**. This use of `=` does not actually assign the value to the argument in the global scope."
      ]
    },
    {
      "cell_type": "code",
      "metadata": {
        "id": "3CAqarN2H5KE",
        "colab_type": "code",
        "colab": {
          "base_uri": "https://localhost:8080/",
          "height": 35
        },
        "outputId": "6c0cabab-4572-4e58-bbe1-bf3f7bf93c82"
      },
      "source": [
        "# arguments may be given out of order if they are explicitly named with =\n",
        "quadratic(b=0, c=5, a=1, x=3)\n",
        "\n",
        "# after calling the function with explicit arguments, the variables x, a, b, c\n",
        "# have NOT been defined or changed in the global scope"
      ],
      "execution_count": null,
      "outputs": [
        {
          "output_type": "execute_result",
          "data": {
            "text/plain": [
              "14"
            ]
          },
          "metadata": {
            "tags": []
          },
          "execution_count": 5
        }
      ]
    },
    {
      "cell_type": "markdown",
      "metadata": {
        "id": "UxggRAaDMnS6",
        "colab_type": "text"
      },
      "source": [
        "Because `=` has this special non-assignment meaning in function calls, you will sometimes see seemingly odd notation where variables appear to be assigned to themselves. For example, if the parameters for `quadratic` are already defined in the global scope as variables with the same names, the function could be called like this:"
      ]
    },
    {
      "cell_type": "code",
      "metadata": {
        "id": "5KGA7juqNLqm",
        "colab_type": "code",
        "colab": {
          "base_uri": "https://localhost:8080/",
          "height": 35
        },
        "outputId": "eec23294-f148-4227-b5d4-0975b74d7493"
      },
      "source": [
        "x = 3\n",
        "a = 1\n",
        "b = 0\n",
        "c = 5\n",
        "\n",
        "quadratic(b=b, c=c, a=a, x=x)"
      ],
      "execution_count": null,
      "outputs": [
        {
          "output_type": "execute_result",
          "data": {
            "text/plain": [
              "14"
            ]
          },
          "metadata": {
            "tags": []
          },
          "execution_count": 6
        }
      ]
    },
    {
      "cell_type": "markdown",
      "metadata": {
        "id": "VeWgqNxpm97V",
        "colab_type": "text"
      },
      "source": [
        "When you see a function call like this, remember that the names to the left of the `=` symbols are the argument names, which will exist in the local scope of the function, and the names to the right of the `=` symbols refer to variables defined in the global scope.\n",
        "\n",
        "By default, all arguments must be provided when using the function. This code will fail because `quadratic` requires 4 arguments:"
      ]
    },
    {
      "cell_type": "code",
      "metadata": {
        "id": "NQ7NK9Nyg5rH",
        "colab_type": "code",
        "colab": {
          "base_uri": "https://localhost:8080/",
          "height": 191
        },
        "outputId": "c70854b2-72a6-4ff5-bc83-2c80905678b2"
      },
      "source": [
        "# this will fail because 4 arguments are mandatory\n",
        "quadratic(3)"
      ],
      "execution_count": null,
      "outputs": [
        {
          "output_type": "error",
          "ename": "TypeError",
          "evalue": "ignored",
          "traceback": [
            "\u001b[0;31m---------------------------------------------------------------------------\u001b[0m",
            "\u001b[0;31mTypeError\u001b[0m                                 Traceback (most recent call last)",
            "\u001b[0;32m<ipython-input-7-91756da54ac8>\u001b[0m in \u001b[0;36m<module>\u001b[0;34m()\u001b[0m\n\u001b[1;32m      1\u001b[0m \u001b[0;31m# this will fail because 4 arguments are mandatory\u001b[0m\u001b[0;34m\u001b[0m\u001b[0;34m\u001b[0m\u001b[0;34m\u001b[0m\u001b[0m\n\u001b[0;32m----> 2\u001b[0;31m \u001b[0mquadratic\u001b[0m\u001b[0;34m(\u001b[0m\u001b[0;36m3\u001b[0m\u001b[0;34m)\u001b[0m\u001b[0;34m\u001b[0m\u001b[0;34m\u001b[0m\u001b[0m\n\u001b[0m",
            "\u001b[0;31mTypeError\u001b[0m: quadratic() missing 3 required positional arguments: 'a', 'b', and 'c'"
          ]
        }
      ]
    },
    {
      "cell_type": "markdown",
      "metadata": {
        "id": "JFHybcdonkuj",
        "colab_type": "text"
      },
      "source": [
        "Functions can be defined with default parameter values using `=` so that they are not required when calling the function. Again, this does not actually assign these values to variables in the global scope."
      ]
    },
    {
      "cell_type": "code",
      "metadata": {
        "id": "ZEB4y9hjg8-p",
        "colab_type": "code",
        "colab": {
          "base_uri": "https://localhost:8080/",
          "height": 35
        },
        "outputId": "694504bf-feea-4db8-e76b-f0a3a4db883a"
      },
      "source": [
        "# provide default values for parameters\n",
        "def quadratic(x, a=1, b=0, c=0):\n",
        "    return a * x**2 + b * x + c\n",
        "\n",
        "quadratic(3)"
      ],
      "execution_count": null,
      "outputs": [
        {
          "output_type": "execute_result",
          "data": {
            "text/plain": [
              "9"
            ]
          },
          "metadata": {
            "tags": []
          },
          "execution_count": 8
        }
      ]
    },
    {
      "cell_type": "markdown",
      "metadata": {
        "id": "PdcAOc_aAyDq",
        "colab_type": "text"
      },
      "source": [
        "When variables containing lists, dictionaries, or other complex objects (e.g., custom classes) are passed as arguments to a function, they are **passed by reference**, which means that the function can change those variables in the global scope. For example, if a list is passed to a function as input, the function could change items in the list:"
      ]
    },
    {
      "cell_type": "code",
      "metadata": {
        "id": "Sy4WEY0h_4J2",
        "colab_type": "code",
        "colab": {
          "base_uri": "https://localhost:8080/",
          "height": 35
        },
        "outputId": "a6242344-83ef-470f-ad7e-5052ba105787"
      },
      "source": [
        "def change_list(some_list):\n",
        "    # change the first item in the list to 4\n",
        "    some_list[0] = 4\n",
        "\n",
        "my_list = [1, 1, 1, 1]\n",
        "\n",
        "# this function call will change my_list permanently in the global scope\n",
        "change_list(my_list)\n",
        "\n",
        "# the first item has changed\n",
        "my_list"
      ],
      "execution_count": null,
      "outputs": [
        {
          "output_type": "execute_result",
          "data": {
            "text/plain": [
              "[4, 1, 1, 1]"
            ]
          },
          "metadata": {
            "tags": []
          },
          "execution_count": 9
        }
      ]
    },
    {
      "cell_type": "markdown",
      "metadata": {
        "id": "DcczgmQ0YaO1",
        "colab_type": "text"
      },
      "source": [
        "### Map and Filter"
      ]
    },
    {
      "cell_type": "markdown",
      "metadata": {
        "id": "XRH7w9shnyAp",
        "colab_type": "text"
      },
      "source": [
        "The built-in function `map` can be used to apply a function to every value in a sequence:"
      ]
    },
    {
      "cell_type": "code",
      "metadata": {
        "id": "EZE5w-6GhMhr",
        "colab_type": "code",
        "colab": {
          "base_uri": "https://localhost:8080/",
          "height": 35
        },
        "outputId": "b6c5c954-8be9-4f8a-c8db-ef92e221108b"
      },
      "source": [
        "list(map(compute_square, range(5)))  # list() is used so the output displays nicely"
      ],
      "execution_count": null,
      "outputs": [
        {
          "output_type": "execute_result",
          "data": {
            "text/plain": [
              "[0, 1, 4, 9, 16]"
            ]
          },
          "metadata": {
            "tags": []
          },
          "execution_count": 10
        }
      ]
    },
    {
      "cell_type": "markdown",
      "metadata": {
        "id": "XbcJy_qEn5ow",
        "colab_type": "text"
      },
      "source": [
        "This example is identical to the following list comprehension:"
      ]
    },
    {
      "cell_type": "code",
      "metadata": {
        "id": "1IBPU99ghhj1",
        "colab_type": "code",
        "colab": {
          "base_uri": "https://localhost:8080/",
          "height": 35
        },
        "outputId": "daaf194b-0ba4-4d74-dde9-8f6e794eddfd"
      },
      "source": [
        "[compute_square(i) for i in range(5)]"
      ],
      "execution_count": null,
      "outputs": [
        {
          "output_type": "execute_result",
          "data": {
            "text/plain": [
              "[0, 1, 4, 9, 16]"
            ]
          },
          "metadata": {
            "tags": []
          },
          "execution_count": 11
        }
      ]
    },
    {
      "cell_type": "markdown",
      "metadata": {
        "id": "YZIf9yoxCb9s",
        "colab_type": "text"
      },
      "source": [
        "`map` can be used with multiple sequences. The first items from all sequences will be passed together as arguments to the function, then the second items, and so on."
      ]
    },
    {
      "cell_type": "code",
      "metadata": {
        "id": "CGZ3OPHxCMuA",
        "colab_type": "code",
        "colab": {
          "base_uri": "https://localhost:8080/",
          "height": 35
        },
        "outputId": "94c8abc5-fc86-4e1a-98bf-0634c7ccecb8"
      },
      "source": [
        "def multiply(x, y):\n",
        "    return x * y\n",
        "\n",
        "list1 = [1, 2, 3, 4]\n",
        "list2 = [1, 10, 100, 1000]\n",
        "\n",
        "list(map(multiply, list1, list2))  # list() is used so the output displays nicely"
      ],
      "execution_count": null,
      "outputs": [
        {
          "output_type": "execute_result",
          "data": {
            "text/plain": [
              "[1, 20, 300, 4000]"
            ]
          },
          "metadata": {
            "tags": []
          },
          "execution_count": 12
        }
      ]
    },
    {
      "cell_type": "markdown",
      "metadata": {
        "id": "UTFrw3ckE08H",
        "colab_type": "text"
      },
      "source": [
        "This behavior can also be replicated with a list comprehension and `zip()`:"
      ]
    },
    {
      "cell_type": "code",
      "metadata": {
        "id": "JBfMFu-vErqc",
        "colab_type": "code",
        "colab": {
          "base_uri": "https://localhost:8080/",
          "height": 35
        },
        "outputId": "59351ec2-38a5-4c79-ad07-881bb3578212"
      },
      "source": [
        "[multiply(x, y) for x, y in zip(list1, list2)]"
      ],
      "execution_count": null,
      "outputs": [
        {
          "output_type": "execute_result",
          "data": {
            "text/plain": [
              "[1, 20, 300, 4000]"
            ]
          },
          "metadata": {
            "tags": []
          },
          "execution_count": 13
        }
      ]
    },
    {
      "cell_type": "markdown",
      "metadata": {
        "id": "-_qiZpUOoEzx",
        "colab_type": "text"
      },
      "source": [
        "The built-in function `filter` is used to remove all items from a sequence that do not satisfy the criterion of returning `True` when passed into a function:"
      ]
    },
    {
      "cell_type": "code",
      "metadata": {
        "id": "jVmchd1HjuMT",
        "colab_type": "code",
        "colab": {
          "base_uri": "https://localhost:8080/",
          "height": 35
        },
        "outputId": "a151fd75-382d-40ea-9f88-c047d47b73a7"
      },
      "source": [
        "def greater_than_2(x):\n",
        "    return x > 2\n",
        "\n",
        "# keep only items that satisfy the condition\n",
        "list(filter(greater_than_2, range(5)))  # list() is used so the output displays nicely"
      ],
      "execution_count": null,
      "outputs": [
        {
          "output_type": "execute_result",
          "data": {
            "text/plain": [
              "[3, 4]"
            ]
          },
          "metadata": {
            "tags": []
          },
          "execution_count": 14
        }
      ]
    },
    {
      "cell_type": "markdown",
      "metadata": {
        "id": "ZJt99qRgKAAF",
        "colab_type": "text"
      },
      "source": [
        "This behavior can also be replicated by a list comprehension:"
      ]
    },
    {
      "cell_type": "code",
      "metadata": {
        "id": "F15qik_hKD7R",
        "colab_type": "code",
        "colab": {
          "base_uri": "https://localhost:8080/",
          "height": 35
        },
        "outputId": "843bbbf0-2046-477b-f6a0-cdf098f5b4b4"
      },
      "source": [
        "[x for x in range(5) if greater_than_2(x)]"
      ],
      "execution_count": null,
      "outputs": [
        {
          "output_type": "execute_result",
          "data": {
            "text/plain": [
              "[3, 4]"
            ]
          },
          "metadata": {
            "tags": []
          },
          "execution_count": 15
        }
      ]
    },
    {
      "cell_type": "markdown",
      "metadata": {
        "id": "yuyyaYiODIZt",
        "colab_type": "text"
      },
      "source": [
        "`filter` does not change the variable:"
      ]
    },
    {
      "cell_type": "code",
      "metadata": {
        "id": "8l_rRZsAC-yt",
        "colab_type": "code",
        "colab": {
          "base_uri": "https://localhost:8080/",
          "height": 54
        },
        "outputId": "7fb3e690-a8f6-4dc6-ce56-0981c4d12343"
      },
      "source": [
        "my_list = [0, 1, 2, 3, 4]\n",
        "\n",
        "# return a filtered version of the list but do not actually change my_list\n",
        "print(list(filter(greater_than_2, my_list)))  # list() is used so the output displays nicely\n",
        "\n",
        "# the list was not permanently changed\n",
        "print(my_list)"
      ],
      "execution_count": null,
      "outputs": [
        {
          "output_type": "stream",
          "text": [
            "[3, 4]\n",
            "[0, 1, 2, 3, 4]\n"
          ],
          "name": "stdout"
        }
      ]
    },
    {
      "cell_type": "markdown",
      "metadata": {
        "id": "S6kjvYKTYfZ-",
        "colab_type": "text"
      },
      "source": [
        "### Lambda Functions"
      ]
    },
    {
      "cell_type": "markdown",
      "metadata": {
        "id": "F84GDe6GoVHz",
        "colab_type": "text"
      },
      "source": [
        "Temporary **anonymous functions**, also called **lambda functions**, can be defined using the `lambda` keyword. They are useful in contexts were a function is needed just once to do something simple.\n",
        "\n",
        "This example is equivalent to the previous one but does not require the function `greater_than_2` to be defined:"
      ]
    },
    {
      "cell_type": "code",
      "metadata": {
        "id": "Tdc-A3CCkS-_",
        "colab_type": "code",
        "colab": {
          "base_uri": "https://localhost:8080/",
          "height": 35
        },
        "outputId": "64d0b05b-bd8f-4ee4-eede-dde5d97a37a1"
      },
      "source": [
        "list(filter(lambda x: x > 2, range(5)))"
      ],
      "execution_count": null,
      "outputs": [
        {
          "output_type": "execute_result",
          "data": {
            "text/plain": [
              "[3, 4]"
            ]
          },
          "metadata": {
            "tags": []
          },
          "execution_count": 17
        }
      ]
    },
    {
      "cell_type": "markdown",
      "metadata": {
        "id": "TXDjxkDCZCsM",
        "colab_type": "text"
      },
      "source": [
        "Here's another example where the expression `type(x) in [int, float]` is used to check whether each item in a list has a numeric type:"
      ]
    },
    {
      "cell_type": "code",
      "metadata": {
        "id": "O6_XdXgfZNRQ",
        "colab_type": "code",
        "colab": {
          "base_uri": "https://localhost:8080/",
          "height": 35
        },
        "outputId": "5be1f985-952b-43bc-9777-9cc8604da106"
      },
      "source": [
        "my_list = ['some words', 99, 99., -1.23, 'a', 3.14, 'z', False, 9876, '445']\n",
        "\n",
        "print(list(filter(lambda x: type(x) in [int, float], my_list)))"
      ],
      "execution_count": null,
      "outputs": [
        {
          "output_type": "stream",
          "text": [
            "[99, 99.0, -1.23, 3.14, 9876]\n"
          ],
          "name": "stdout"
        }
      ]
    },
    {
      "cell_type": "markdown",
      "metadata": {
        "id": "tzaYf7a_ZgxD",
        "colab_type": "text"
      },
      "source": [
        "### Docstrings"
      ]
    },
    {
      "cell_type": "markdown",
      "metadata": {
        "id": "jhLHgGm8o3so",
        "colab_type": "text"
      },
      "source": [
        "A function can be defined with a **docstring**, or documentation string, which can provide helpful information when `help()` or `?` is used. Docstrings can span multiple lines and are sometimes very detailed (e.g., describing every function argument)."
      ]
    },
    {
      "cell_type": "code",
      "metadata": {
        "id": "m_U0UhMVk-rL",
        "colab_type": "code",
        "colab": {
          "base_uri": "https://localhost:8080/",
          "height": 146
        },
        "outputId": "ae40c6f2-f269-47c4-8053-52a5764a09da"
      },
      "source": [
        "def compute_square(x):\n",
        "    '''Calculate the square of the input\n",
        "    \n",
        "    x: the number to be squared'''\n",
        "    \n",
        "    return x**2\n",
        "\n",
        "help(compute_square)"
      ],
      "execution_count": null,
      "outputs": [
        {
          "output_type": "stream",
          "text": [
            "Help on function compute_square in module __main__:\n",
            "\n",
            "compute_square(x)\n",
            "    Calculate the square of the input\n",
            "    \n",
            "    x: the number to be squared\n",
            "\n"
          ],
          "name": "stdout"
        }
      ]
    },
    {
      "cell_type": "markdown",
      "metadata": {
        "id": "B-kVZPo3ZmXa",
        "colab_type": "text"
      },
      "source": [
        "### Packing, Unpacking, and Variable Numbers of Arguments (Variadic Functions)"
      ]
    },
    {
      "cell_type": "markdown",
      "metadata": {
        "id": "JBF3eflUphLo",
        "colab_type": "text"
      },
      "source": [
        "Multiple values can be returned at once. If they are separated by commas without enclosing brackets, the returned object is a tuple."
      ]
    },
    {
      "cell_type": "code",
      "metadata": {
        "id": "ifdc6CuHlXtv",
        "colab_type": "code",
        "colab": {
          "base_uri": "https://localhost:8080/",
          "height": 35
        },
        "outputId": "0d8621f1-54ca-42ed-f8c8-8816f8d46144"
      },
      "source": [
        "def powers(x):\n",
        "    return x**1, x**2, x**3\n",
        "\n",
        "x = 2\n",
        "result = powers(x)\n",
        "\n",
        "print(f'Result of powers({x}) is a tuple: {result}')"
      ],
      "execution_count": null,
      "outputs": [
        {
          "output_type": "stream",
          "text": [
            "Result of powers(2) is a tuple: (2, 4, 8)\n"
          ],
          "name": "stdout"
        }
      ]
    },
    {
      "cell_type": "markdown",
      "metadata": {
        "id": "ZN_CJ4sOp4on",
        "colab_type": "text"
      },
      "source": [
        "When a function returns a tuple or list, the result can be **unpacked** into multiple named variables for convenience."
      ]
    },
    {
      "cell_type": "code",
      "metadata": {
        "id": "SFoRX6y3mpME",
        "colab_type": "code",
        "colab": {
          "base_uri": "https://localhost:8080/",
          "height": 90
        },
        "outputId": "0b6750b2-38af-4545-c7ae-014c1e25c1df"
      },
      "source": [
        "x = 2\n",
        "first, second, third = powers(x)\n",
        "\n",
        "print(f'Result of powers({x}) was unpacked into 3 variables...')\n",
        "print(f'first:  {first}')\n",
        "print(f'second: {second}')\n",
        "print(f'third:  {third}')"
      ],
      "execution_count": null,
      "outputs": [
        {
          "output_type": "stream",
          "text": [
            "Result of powers(2) was unpacked into 3 variables...\n",
            "first:  2\n",
            "second: 4\n",
            "third:  8\n"
          ],
          "name": "stdout"
        }
      ]
    },
    {
      "cell_type": "markdown",
      "metadata": {
        "id": "Mt_msWYiqOr9",
        "colab_type": "text"
      },
      "source": [
        "To partially unpack the returned values and discard the rest, use `_` as a placeholder for the results you do not care about."
      ]
    },
    {
      "cell_type": "code",
      "metadata": {
        "id": "nMbhhoQSqCpC",
        "colab_type": "code",
        "colab": {
          "base_uri": "https://localhost:8080/",
          "height": 54
        },
        "outputId": "1c045a97-92de-4c36-b1e2-03fbac550a54"
      },
      "source": [
        "x = 2\n",
        "first, _, _ = powers(x)\n",
        "\n",
        "print(f'The first result of powers({x}) was unpacked but the others were discarded...')\n",
        "print(f'first:  {first}')"
      ],
      "execution_count": null,
      "outputs": [
        {
          "output_type": "stream",
          "text": [
            "The first result of powers(2) was unpacked but the others were discarded...\n",
            "first:  2\n"
          ],
          "name": "stdout"
        }
      ]
    },
    {
      "cell_type": "markdown",
      "metadata": {
        "id": "NSyVc8sglo6O",
        "colab_type": "text"
      },
      "source": [
        "If you would like to unpack some variables and keep others packed instead of discaring them, you can do this using an asterisk (`*`) in front of one of the variable names, which essentially means \"store in here whatever is left over\":"
      ]
    },
    {
      "cell_type": "code",
      "metadata": {
        "id": "U28IZWpwpFdA",
        "colab_type": "code",
        "colab": {
          "base_uri": "https://localhost:8080/",
          "height": 72
        },
        "outputId": "79207598-b472-44e2-9a26-2178497b31ab"
      },
      "source": [
        "x = 2\n",
        "first, *rest = powers(x)\n",
        "\n",
        "print(f'The first result of powers({x}) was unpacked into \"first\" and the rest were stored in \"rest\"...')\n",
        "print(f'first:  {first}')\n",
        "print(f'rest:   {rest}')"
      ],
      "execution_count": null,
      "outputs": [
        {
          "output_type": "stream",
          "text": [
            "The first result of powers(2) was unpacked into \"first\" and the rest were stored in \"rest\"...\n",
            "first:  2\n",
            "rest:   [4, 8]\n"
          ],
          "name": "stdout"
        }
      ]
    },
    {
      "cell_type": "markdown",
      "metadata": {
        "id": "hr-jg5gRopKj",
        "colab_type": "text"
      },
      "source": [
        "This can be especially useful when the number of returned values may change. For example, the following generalization of the `powers` function will return all powers of `x`, starting from 1 and going up to `max`; the first of these returned values will be stored in `first`, the last will be stored in `last`, and the rest will be stored in `middle`:"
      ]
    },
    {
      "cell_type": "code",
      "metadata": {
        "id": "5UlEdEJ8l7xW",
        "colab_type": "code",
        "colab": {
          "base_uri": "https://localhost:8080/",
          "height": 72
        },
        "outputId": "9ac38e37-04ce-480e-a312-301639777d63"
      },
      "source": [
        "def powers(x, max=3):\n",
        "    return [x**i for i in range(1, max+1)]\n",
        "\n",
        "first, *middle, last = powers(2, max=6)\n",
        "\n",
        "print(first)\n",
        "print(middle)\n",
        "print(last)"
      ],
      "execution_count": null,
      "outputs": [
        {
          "output_type": "stream",
          "text": [
            "2\n",
            "[4, 8, 16, 32]\n",
            "64\n"
          ],
          "name": "stdout"
        }
      ]
    },
    {
      "cell_type": "markdown",
      "metadata": {
        "id": "ptJrJUavqk85",
        "colab_type": "text"
      },
      "source": [
        "The asterisk is used in many contexts related to unpacking *and packing*. If an asterisk precedes an argument name in the function definition, that argument name stands for a sequence of inputs of any length, which will be **packed** into one tuple."
      ]
    },
    {
      "cell_type": "code",
      "metadata": {
        "id": "w6Swtlprp5Fb",
        "colab_type": "code",
        "colab": {
          "base_uri": "https://localhost:8080/",
          "height": 35
        },
        "outputId": "a3b22c98-759c-44fe-9da4-995ecc53c404"
      },
      "source": [
        "def my_func(*args):\n",
        "    # everything passed to my_func is stored in args as a tuple\n",
        "    print(f'here are the contents of args: {args}')\n",
        "\n",
        "# the returned object is a tuple containing all of the inputs\n",
        "my_func(['x', 'y', 'z'], 123, 'abc', True)"
      ],
      "execution_count": null,
      "outputs": [
        {
          "output_type": "stream",
          "text": [
            "here are the contents of args: (['x', 'y', 'z'], 123, 'abc', True)\n"
          ],
          "name": "stdout"
        }
      ]
    },
    {
      "cell_type": "markdown",
      "metadata": {
        "id": "WlEzWbjPq8bP",
        "colab_type": "text"
      },
      "source": [
        "This is useful when the number of inputs is allowed to vary. Functions that can have a variable number of inputs are called **variadic functions**. For example, this function can take any positive number of numeric inputs and compute their average using the built-in `sum()` and `len()` functions:"
      ]
    },
    {
      "cell_type": "code",
      "metadata": {
        "id": "oueWCZi1fq7y",
        "colab_type": "code",
        "colab": {
          "base_uri": "https://localhost:8080/",
          "height": 54
        },
        "outputId": "5695327e-00f0-4df5-cf54-10aaad0b37ab"
      },
      "source": [
        "def average(*nums):\n",
        "    return sum(nums)/len(nums)\n",
        "\n",
        "print(f'Average of inputs 10, 20:   {average(10, 20)}')\n",
        "print(f'Average of inputs 1, 2, 6:  {average(1, 2, 6)}')"
      ],
      "execution_count": null,
      "outputs": [
        {
          "output_type": "stream",
          "text": [
            "Average of inputs 10, 20:   15.0\n",
            "Average of inputs 1, 2, 6:  3.0\n"
          ],
          "name": "stdout"
        }
      ]
    },
    {
      "cell_type": "markdown",
      "metadata": {
        "id": "UJpMeGBPrgFu",
        "colab_type": "text"
      },
      "source": [
        "Notice that because the function is defined with the argument `*nums` instead of `nums`, the local variable `nums`, when used within the function *without the asterisk*, will be a tuple containing the arguments. This means that the naked inputs `1, 2, 6` will be stored as `args = (1, 2, 6)`; in contrast, if the input is a list of numbers like `[1, 2, 6]`, `args` will be a list inside a tuple: `args = ([1, 2, 6],)`.  Both `sum()` and `len()` will not interpret this input as we want, so the function will produce an error when given a list as input, rather than naked numbers:"
      ]
    },
    {
      "cell_type": "code",
      "metadata": {
        "id": "6JVuUa-esfqE",
        "colab_type": "code",
        "colab": {
          "base_uri": "https://localhost:8080/",
          "height": 338
        },
        "outputId": "feabf19b-ae6f-4c22-9326-8a44a9a8fcd1"
      },
      "source": [
        "# this does not work because nums should be naked numeric values, not a list\n",
        "my_list = [1, 2, 6]\n",
        "average(my_list)"
      ],
      "execution_count": null,
      "outputs": [
        {
          "output_type": "error",
          "ename": "TypeError",
          "evalue": "ignored",
          "traceback": [
            "\u001b[0;31m---------------------------------------------------------------------------\u001b[0m",
            "\u001b[0;31mTypeError\u001b[0m                                 Traceback (most recent call last)",
            "\u001b[0;32m<ipython-input-27-02c5b7dc10b3>\u001b[0m in \u001b[0;36m<module>\u001b[0;34m()\u001b[0m\n\u001b[1;32m      1\u001b[0m \u001b[0;31m# this does not work because nums should be naked numeric values, not a list\u001b[0m\u001b[0;34m\u001b[0m\u001b[0;34m\u001b[0m\u001b[0;34m\u001b[0m\u001b[0m\n\u001b[1;32m      2\u001b[0m \u001b[0mmy_list\u001b[0m \u001b[0;34m=\u001b[0m \u001b[0;34m[\u001b[0m\u001b[0;36m1\u001b[0m\u001b[0;34m,\u001b[0m \u001b[0;36m2\u001b[0m\u001b[0;34m,\u001b[0m \u001b[0;36m6\u001b[0m\u001b[0;34m]\u001b[0m\u001b[0;34m\u001b[0m\u001b[0;34m\u001b[0m\u001b[0m\n\u001b[0;32m----> 3\u001b[0;31m \u001b[0maverage\u001b[0m\u001b[0;34m(\u001b[0m\u001b[0mmy_list\u001b[0m\u001b[0;34m)\u001b[0m\u001b[0;34m\u001b[0m\u001b[0;34m\u001b[0m\u001b[0m\n\u001b[0m",
            "\u001b[0;32m<ipython-input-26-17e0d3c01293>\u001b[0m in \u001b[0;36maverage\u001b[0;34m(*nums)\u001b[0m\n\u001b[1;32m      1\u001b[0m \u001b[0;32mdef\u001b[0m \u001b[0maverage\u001b[0m\u001b[0;34m(\u001b[0m\u001b[0;34m*\u001b[0m\u001b[0mnums\u001b[0m\u001b[0;34m)\u001b[0m\u001b[0;34m:\u001b[0m\u001b[0;34m\u001b[0m\u001b[0;34m\u001b[0m\u001b[0m\n\u001b[0;32m----> 2\u001b[0;31m     \u001b[0;32mreturn\u001b[0m \u001b[0msum\u001b[0m\u001b[0;34m(\u001b[0m\u001b[0mnums\u001b[0m\u001b[0;34m)\u001b[0m\u001b[0;34m/\u001b[0m\u001b[0mlen\u001b[0m\u001b[0;34m(\u001b[0m\u001b[0mnums\u001b[0m\u001b[0;34m)\u001b[0m\u001b[0;34m\u001b[0m\u001b[0;34m\u001b[0m\u001b[0m\n\u001b[0m\u001b[1;32m      3\u001b[0m \u001b[0;34m\u001b[0m\u001b[0m\n\u001b[1;32m      4\u001b[0m \u001b[0mprint\u001b[0m\u001b[0;34m(\u001b[0m\u001b[0;34mf'Average of inputs 10, 20:   {average(10, 20)}'\u001b[0m\u001b[0;34m)\u001b[0m\u001b[0;34m\u001b[0m\u001b[0;34m\u001b[0m\u001b[0m\n\u001b[1;32m      5\u001b[0m \u001b[0mprint\u001b[0m\u001b[0;34m(\u001b[0m\u001b[0;34mf'Average of inputs 1, 2, 6:  {average(1, 2, 6)}'\u001b[0m\u001b[0;34m)\u001b[0m\u001b[0;34m\u001b[0m\u001b[0;34m\u001b[0m\u001b[0m\n",
            "\u001b[0;31mTypeError\u001b[0m: unsupported operand type(s) for +: 'int' and 'list'"
          ]
        }
      ]
    },
    {
      "cell_type": "markdown",
      "metadata": {
        "id": "IF3v1mORfdCX",
        "colab_type": "text"
      },
      "source": [
        "We can get around this by calling the function with an asterisk in the argument, which will cause `my_list` to be unpacked when the function is called, effectively leading to `average` being called with naked numbers:"
      ]
    },
    {
      "cell_type": "code",
      "metadata": {
        "id": "M6IM94i6Jzk9",
        "colab_type": "code",
        "colab": {
          "base_uri": "https://localhost:8080/",
          "height": 35
        },
        "outputId": "51736ee6-034d-4f5a-c0cc-111ffbfc7fd5"
      },
      "source": [
        "# this works because average(*[1, 2, 6]) is equivalent to average(1, 2, 6)\n",
        "my_list = [1, 2, 6]\n",
        "average(*my_list)"
      ],
      "execution_count": null,
      "outputs": [
        {
          "output_type": "execute_result",
          "data": {
            "text/plain": [
              "3.0"
            ]
          },
          "metadata": {
            "tags": []
          },
          "execution_count": 28
        }
      ]
    },
    {
      "cell_type": "markdown",
      "metadata": {
        "id": "kImaFt5Jr3yR",
        "colab_type": "text"
      },
      "source": [
        "If a double asterisk (`**`) is used in the function definition before an argument name, that argument represents a variable number of keyword arguments, i.e., arguments that are specified by name when the function is called. In the following example, just as all unnamed positional arguments will be packed into a tuple called `args`, all keyword arguments will be packed into a dictionary called `kwargs`:"
      ]
    },
    {
      "cell_type": "code",
      "metadata": {
        "id": "k69Kxi5Eq2eA",
        "colab_type": "code",
        "colab": {
          "base_uri": "https://localhost:8080/",
          "height": 90
        },
        "outputId": "3b531392-c3ba-4a20-a0b2-11a9babf9b6f"
      },
      "source": [
        "def my_func(*args, **kwargs):\n",
        "    print(f'unnamed positional arguments are packed into args as a tuple:')\n",
        "    print(f'    {args}')\n",
        "    print(f'named keyword arguments are packed into kwargs as a dictionary:')\n",
        "    print(f'    {kwargs}')\n",
        "\n",
        "my_func(['x', 'y', 'z'], 123, 'abc', True, p=1, q=2)"
      ],
      "execution_count": null,
      "outputs": [
        {
          "output_type": "stream",
          "text": [
            "unnamed positional arguments are packed into args as a tuple:\n",
            "    (['x', 'y', 'z'], 123, 'abc', True)\n",
            "named keyword arguments are packed into kwargs as a dictionary:\n",
            "    {'p': 1, 'q': 2}\n"
          ],
          "name": "stdout"
        }
      ]
    },
    {
      "cell_type": "markdown",
      "metadata": {
        "id": "pt3jcE_ip8eQ",
        "colab_type": "text"
      },
      "source": [
        "Finally, just as an asterisk can be used to unpack a tuple or list into a function call as naked unnamed arguments (e.g., `average(*my_list)`), a double asterisk can be used to unpack a dictionary into a function call as named arguments:"
      ]
    },
    {
      "cell_type": "code",
      "metadata": {
        "id": "kgaiZDzFqJx3",
        "colab_type": "code",
        "colab": {
          "base_uri": "https://localhost:8080/",
          "height": 35
        },
        "outputId": "4b1482e2-74b4-459f-a564-bc3f80a90a9e"
      },
      "source": [
        "def quadratic(x, a=1, b=0, c=0):\n",
        "    return a * x**2 + b * x + c\n",
        "\n",
        "my_params = {'x': 2, 'a': 0, 'b': 1, 'c': 10}\n",
        "\n",
        "# this is equivalent to quadratic(x=2, a=0, b=1, c=10)\n",
        "quadratic(**my_params)"
      ],
      "execution_count": null,
      "outputs": [
        {
          "output_type": "execute_result",
          "data": {
            "text/plain": [
              "12"
            ]
          },
          "metadata": {
            "tags": []
          },
          "execution_count": 30
        }
      ]
    },
    {
      "cell_type": "markdown",
      "metadata": {
        "id": "Kw_vsBH0K0OT",
        "colab_type": "text"
      },
      "source": [
        "## Classes"
      ]
    },
    {
      "cell_type": "markdown",
      "metadata": {
        "id": "SdJzI8f2zC95",
        "colab_type": "text"
      },
      "source": [
        "**Classes** are like customizable types, complete with named data **attributes** and **methods**. Classes can be designed from scratch, or they can be built on top of existing types or classes, giving them extra or altered functionality.\n",
        "\n",
        "Here is a simple class called `Counter` with one attribute called `count`:"
      ]
    },
    {
      "cell_type": "code",
      "metadata": {
        "id": "7cjk_nvueYDm",
        "colab_type": "code",
        "colab": {}
      },
      "source": [
        "class Counter():\n",
        "    count = 0"
      ],
      "execution_count": 10,
      "outputs": []
    },
    {
      "cell_type": "markdown",
      "metadata": {
        "id": "4sXlH2rM0vyL",
        "colab_type": "text"
      },
      "source": [
        "We create an **instance** of the class this way:"
      ]
    },
    {
      "cell_type": "code",
      "metadata": {
        "id": "gQ109y5TemQ2",
        "colab_type": "code",
        "colab": {}
      },
      "source": [
        "my_counter = Counter()"
      ],
      "execution_count": 11,
      "outputs": []
    },
    {
      "cell_type": "markdown",
      "metadata": {
        "id": "Ja_azk0702-R",
        "colab_type": "text"
      },
      "source": [
        "The object created does not display nicely, but we can at least see it has the `Counter` type:"
      ]
    },
    {
      "cell_type": "code",
      "metadata": {
        "id": "FhrEhd8xfeor",
        "colab_type": "code",
        "colab": {
          "base_uri": "https://localhost:8080/",
          "height": 53
        },
        "outputId": "3adf15b0-2d5b-4bcd-cceb-22b9ecc2fd0b"
      },
      "source": [
        "print(my_counter)\n",
        "print(type(my_counter))"
      ],
      "execution_count": 15,
      "outputs": [
        {
          "output_type": "stream",
          "text": [
            "<__main__.Counter object at 0x7fe45c2eb7b8>\n",
            "<class '__main__.Counter'>\n"
          ],
          "name": "stdout"
        }
      ]
    },
    {
      "cell_type": "markdown",
      "metadata": {
        "id": "K10-s1hg1Mb9",
        "colab_type": "text"
      },
      "source": [
        "The `count` attribute can be accessed with dot (`.`) notation and takes on the initial value set in the class definition:"
      ]
    },
    {
      "cell_type": "code",
      "metadata": {
        "id": "BBjJStzffafV",
        "colab_type": "code",
        "colab": {
          "base_uri": "https://localhost:8080/",
          "height": 35
        },
        "outputId": "ffa0019e-0b33-402b-82b7-cb67bf305482"
      },
      "source": [
        "my_counter.count"
      ],
      "execution_count": 16,
      "outputs": [
        {
          "output_type": "execute_result",
          "data": {
            "text/plain": [
              "0"
            ]
          },
          "metadata": {
            "tags": []
          },
          "execution_count": 16
        }
      ]
    },
    {
      "cell_type": "markdown",
      "metadata": {
        "id": "B8ngn40n1Uda",
        "colab_type": "text"
      },
      "source": [
        "We can assigned a new value to `count` and retrieve it:"
      ]
    },
    {
      "cell_type": "code",
      "metadata": {
        "id": "Mkc6Ro7Efgzp",
        "colab_type": "code",
        "colab": {
          "base_uri": "https://localhost:8080/",
          "height": 35
        },
        "outputId": "8b901a63-ce0c-41e8-fcd7-f3134db72752"
      },
      "source": [
        "my_counter.count = 5\n",
        "my_counter.count"
      ],
      "execution_count": 17,
      "outputs": [
        {
          "output_type": "execute_result",
          "data": {
            "text/plain": [
              "5"
            ]
          },
          "metadata": {
            "tags": []
          },
          "execution_count": 17
        }
      ]
    },
    {
      "cell_type": "markdown",
      "metadata": {
        "id": "KbzMdOLq1bUS",
        "colab_type": "text"
      },
      "source": [
        "Let's make the `Counter` class more useful by adding an `increment` method that increases the value of `count` by one. Notice in the cell below that the method function is defined *inside* the class definition (indended beneath it). Methods always take as their first argument a reference to the instance itself; by convention, this argument is usually named `self`. This allows attributes of the instance to be accessed (e.g., `self.count`)"
      ]
    },
    {
      "cell_type": "code",
      "metadata": {
        "id": "HGLFQVtef39_",
        "colab_type": "code",
        "colab": {
          "base_uri": "https://localhost:8080/",
          "height": 72
        },
        "outputId": "5f2a5006-6579-40d3-e5c3-882183622006"
      },
      "source": [
        "class Counter():\n",
        "    count = 0\n",
        "    \n",
        "    def increment(self):\n",
        "        self.count += 1\n",
        "\n",
        "my_counter = Counter()\n",
        "print(my_counter.count)\n",
        "\n",
        "my_counter.increment()\n",
        "print(my_counter.count)\n",
        "\n",
        "my_counter.increment()\n",
        "print(my_counter.count)"
      ],
      "execution_count": 22,
      "outputs": [
        {
          "output_type": "stream",
          "text": [
            "0\n",
            "1\n",
            "2\n"
          ],
          "name": "stdout"
        }
      ]
    },
    {
      "cell_type": "markdown",
      "metadata": {
        "id": "X1xEdu1v2PvQ",
        "colab_type": "text"
      },
      "source": [
        "There is a set of class methods called **double underscore methods**, or **dunder methods**, or sometimes **magic methods**, which have special roles. The names of each of these methods begin and end with two underscores (`__`).\n",
        "\n",
        "For example, we can define the `__repr__` method to control how instances of the `Counter` class display when printed. Below, we modify the class so that the value of `count` is displayed:"
      ]
    },
    {
      "cell_type": "code",
      "metadata": {
        "id": "8dHb6cqZgNbw",
        "colab_type": "code",
        "colab": {
          "base_uri": "https://localhost:8080/",
          "height": 35
        },
        "outputId": "ee308c38-d48e-4306-ac41-15c1e8cd0e59"
      },
      "source": [
        "class Counter():\n",
        "    count = 0\n",
        "\n",
        "    def __repr__(self):\n",
        "        return str(self.count)\n",
        "    \n",
        "    def increment(self):\n",
        "        self.count += 1\n",
        "\n",
        "my_counter = Counter()\n",
        "my_counter"
      ],
      "execution_count": 34,
      "outputs": [
        {
          "output_type": "execute_result",
          "data": {
            "text/plain": [
              "0"
            ]
          },
          "metadata": {
            "tags": []
          },
          "execution_count": 34
        }
      ]
    },
    {
      "cell_type": "markdown",
      "metadata": {
        "id": "bKk_g4QY3DTp",
        "colab_type": "text"
      },
      "source": [
        "Recall that before `__repr__` was added, the instance displayed like this: `<__main__.Counter object at 0x7fe45c2eb7b8>`.\n",
        "\n",
        "Presently, Python does not know what to do if we try to add two instances of `Counter` together:"
      ]
    },
    {
      "cell_type": "code",
      "metadata": {
        "id": "rLeSDhFGgpD7",
        "colab_type": "code",
        "colab": {
          "base_uri": "https://localhost:8080/",
          "height": 243
        },
        "outputId": "29521739-656a-411b-a77a-86a3e6fba747"
      },
      "source": [
        "x = Counter()\n",
        "y = Counter()\n",
        "\n",
        "x.increment()\n",
        "x.increment()\n",
        "\n",
        "y.increment()\n",
        "\n",
        "print(f'x = {x}')\n",
        "print(f'y = {y}')\n",
        "\n",
        "# this will fail because addition of Counter objects is undefined\n",
        "print(f'x + y = {x + y}')"
      ],
      "execution_count": 35,
      "outputs": [
        {
          "output_type": "stream",
          "text": [
            "x = 2\n",
            "y = 1\n"
          ],
          "name": "stdout"
        },
        {
          "output_type": "error",
          "ename": "TypeError",
          "evalue": "ignored",
          "traceback": [
            "\u001b[0;31m---------------------------------------------------------------------------\u001b[0m",
            "\u001b[0;31mTypeError\u001b[0m                                 Traceback (most recent call last)",
            "\u001b[0;32m<ipython-input-35-4c09b6678ec4>\u001b[0m in \u001b[0;36m<module>\u001b[0;34m()\u001b[0m\n\u001b[1;32m     11\u001b[0m \u001b[0;34m\u001b[0m\u001b[0m\n\u001b[1;32m     12\u001b[0m \u001b[0;31m# this will fail because addition of Counter objects is undefined\u001b[0m\u001b[0;34m\u001b[0m\u001b[0;34m\u001b[0m\u001b[0;34m\u001b[0m\u001b[0m\n\u001b[0;32m---> 13\u001b[0;31m \u001b[0mprint\u001b[0m\u001b[0;34m(\u001b[0m\u001b[0;34mf'x + y = {x + y}'\u001b[0m\u001b[0;34m)\u001b[0m\u001b[0;34m\u001b[0m\u001b[0;34m\u001b[0m\u001b[0m\n\u001b[0m",
            "\u001b[0;31mTypeError\u001b[0m: unsupported operand type(s) for +: 'Counter' and 'Counter'"
          ]
        }
      ]
    },
    {
      "cell_type": "markdown",
      "metadata": {
        "id": "bLoX0AVb3qss",
        "colab_type": "text"
      },
      "source": [
        "There is a special dunder method, called `__add__` that must be defined for addition to work with our custom class. Whenever the plus (`+`) operator is used for any data type in Python, an `__add__` method is called behind the scenes. We can modify our class so that addition of `Counter` instances returns the sum of their `count` attributes:"
      ]
    },
    {
      "cell_type": "code",
      "metadata": {
        "id": "Pt06Sr56gzjs",
        "colab_type": "code",
        "colab": {
          "base_uri": "https://localhost:8080/",
          "height": 72
        },
        "outputId": "91c71ef7-f332-44e8-e691-b1d10aa15c8b"
      },
      "source": [
        "class Counter():\n",
        "    count = 0\n",
        "\n",
        "    def __repr__(self):\n",
        "        return str(self.count)\n",
        "    \n",
        "    def __add__(self, other):\n",
        "        return self.count + other.count\n",
        "    \n",
        "    def increment(self):\n",
        "        self.count += 1\n",
        "\n",
        "x = Counter()\n",
        "y = Counter()\n",
        "\n",
        "x.increment()\n",
        "x.increment()\n",
        "\n",
        "y.increment()\n",
        "\n",
        "print(f'x = {x}')\n",
        "print(f'y = {y}')\n",
        "\n",
        "print(f'x + y = {x + y}')"
      ],
      "execution_count": 37,
      "outputs": [
        {
          "output_type": "stream",
          "text": [
            "x = 2\n",
            "y = 1\n",
            "x + y = 3\n"
          ],
          "name": "stdout"
        }
      ]
    },
    {
      "cell_type": "markdown",
      "metadata": {
        "id": "4DC-HvVW4eon",
        "colab_type": "text"
      },
      "source": [
        "Addition using the plus (`+`) operator is the same as invoking the `__add__` function directly, either as a method of one instance (`x.__add__`) or as a class method (`Counter.__add__`):"
      ]
    },
    {
      "cell_type": "code",
      "metadata": {
        "id": "6eBzziVJg7hB",
        "colab_type": "code",
        "colab": {
          "base_uri": "https://localhost:8080/",
          "height": 72
        },
        "outputId": "4c5b076f-6649-401f-bbaa-f057a7f15b9b"
      },
      "source": [
        "print(x + y)\n",
        "print(x.__add__(y))\n",
        "print(Counter.__add__(x, y))"
      ],
      "execution_count": 38,
      "outputs": [
        {
          "output_type": "stream",
          "text": [
            "3\n",
            "3\n",
            "3\n"
          ],
          "name": "stdout"
        }
      ]
    },
    {
      "cell_type": "markdown",
      "metadata": {
        "id": "Xid-Pnzm4x9d",
        "colab_type": "text"
      },
      "source": [
        "We can control how instances are initialized by defining the special dunder method `__init__`. We could, for example, allow an optional parameter, `start`, to be provided at the time that the `Counter` instance is created so that `count` has some starting value other than zero:"
      ]
    },
    {
      "cell_type": "code",
      "metadata": {
        "id": "OTqR0VXyhT1J",
        "colab_type": "code",
        "colab": {
          "base_uri": "https://localhost:8080/",
          "height": 53
        },
        "outputId": "001b77a9-eae5-4cf7-8add-7a9dfc3469a1"
      },
      "source": [
        "class Counter():\n",
        "    def __init__(self, start=0):\n",
        "        self.count = start\n",
        "\n",
        "    def __repr__(self):\n",
        "        return str(self.count)\n",
        "    \n",
        "    def __add__(self, other):\n",
        "        return self.count + other.count\n",
        "    \n",
        "    def increment(self):\n",
        "        self.count += 1\n",
        "\n",
        "my_counter = Counter(100)\n",
        "print(my_counter)\n",
        "\n",
        "my_counter.increment()\n",
        "print(my_counter)"
      ],
      "execution_count": 39,
      "outputs": [
        {
          "output_type": "stream",
          "text": [
            "100\n",
            "101\n"
          ],
          "name": "stdout"
        }
      ]
    },
    {
      "cell_type": "markdown",
      "metadata": {
        "id": "m-AcZupQ5MTE",
        "colab_type": "text"
      },
      "source": [
        "Classes and class methods can have docstrings:"
      ]
    },
    {
      "cell_type": "code",
      "metadata": {
        "id": "c5Ejf7TwqwmH",
        "colab_type": "code",
        "colab": {}
      },
      "source": [
        "class Counter():\n",
        "    '''Counts the number of times increment() was called'''\n",
        "\n",
        "    def __init__(self, start=0):\n",
        "        self.count = start\n",
        "\n",
        "    def __repr__(self):\n",
        "        return str(self.count)\n",
        "    \n",
        "    def __add__(self, other):\n",
        "        return self.count + other.count\n",
        "    \n",
        "    def increment(self):\n",
        "        '''Increase the counter by one'''\n",
        "        self.count += 1"
      ],
      "execution_count": 40,
      "outputs": []
    },
    {
      "cell_type": "code",
      "metadata": {
        "id": "x8E_kAEkrQY3",
        "colab_type": "code",
        "colab": {
          "base_uri": "https://localhost:8080/",
          "height": 108
        },
        "outputId": "c860d596-878f-4204-91bb-39d0f758b0e7"
      },
      "source": [
        "my_counter = Counter()\n",
        "help(my_counter.increment)"
      ],
      "execution_count": 43,
      "outputs": [
        {
          "output_type": "stream",
          "text": [
            "Help on method increment in module __main__:\n",
            "\n",
            "increment() method of __main__.Counter instance\n",
            "    Increase the counter by one\n",
            "\n"
          ],
          "name": "stdout"
        }
      ]
    },
    {
      "cell_type": "markdown",
      "metadata": {
        "id": "lej_iBnt5W21",
        "colab_type": "text"
      },
      "source": [
        "The built-in function `dir()` will display a complete list of all attributes of a type, class, or instance, including all its dunder methods. For example, `dir(float)` reveals all the dunder methods involved in implementing algebraic, comparative, and type conversion operations associated with floating point numbers:"
      ]
    },
    {
      "cell_type": "code",
      "metadata": {
        "id": "2wTlt8NxiUbK",
        "colab_type": "code",
        "colab": {
          "base_uri": "https://localhost:8080/",
          "height": 1000
        },
        "outputId": "65e016c3-f2e4-4749-fbe1-d9a2ae3e184d"
      },
      "source": [
        "dir(float)"
      ],
      "execution_count": null,
      "outputs": [
        {
          "output_type": "execute_result",
          "data": {
            "text/plain": [
              "['__abs__',\n",
              " '__add__',\n",
              " '__bool__',\n",
              " '__class__',\n",
              " '__delattr__',\n",
              " '__dir__',\n",
              " '__divmod__',\n",
              " '__doc__',\n",
              " '__eq__',\n",
              " '__float__',\n",
              " '__floordiv__',\n",
              " '__format__',\n",
              " '__ge__',\n",
              " '__getattribute__',\n",
              " '__getformat__',\n",
              " '__getnewargs__',\n",
              " '__gt__',\n",
              " '__hash__',\n",
              " '__init__',\n",
              " '__init_subclass__',\n",
              " '__int__',\n",
              " '__le__',\n",
              " '__lt__',\n",
              " '__mod__',\n",
              " '__mul__',\n",
              " '__ne__',\n",
              " '__neg__',\n",
              " '__new__',\n",
              " '__pos__',\n",
              " '__pow__',\n",
              " '__radd__',\n",
              " '__rdivmod__',\n",
              " '__reduce__',\n",
              " '__reduce_ex__',\n",
              " '__repr__',\n",
              " '__rfloordiv__',\n",
              " '__rmod__',\n",
              " '__rmul__',\n",
              " '__round__',\n",
              " '__rpow__',\n",
              " '__rsub__',\n",
              " '__rtruediv__',\n",
              " '__setattr__',\n",
              " '__setformat__',\n",
              " '__sizeof__',\n",
              " '__str__',\n",
              " '__sub__',\n",
              " '__subclasshook__',\n",
              " '__truediv__',\n",
              " '__trunc__',\n",
              " 'as_integer_ratio',\n",
              " 'conjugate',\n",
              " 'fromhex',\n",
              " 'hex',\n",
              " 'imag',\n",
              " 'is_integer',\n",
              " 'real']"
            ]
          },
          "metadata": {
            "tags": []
          },
          "execution_count": 99
        }
      ]
    },
    {
      "cell_type": "markdown",
      "metadata": {
        "id": "hw6EXThtM0IX",
        "colab_type": "text"
      },
      "source": [
        "Let's create a custom **subclass** of the list data type. This class will be designed on the assumption that all values within the list are numbers (which is not true of all lists in general). For now, we won't worry about checking that this assumption is correct.\n",
        "\n",
        "Since we are creating a new list-like class for numbers, let's call it `NumericalList`. In this first version, we'll just use the `pass` keyword to skip adding anything new."
      ]
    },
    {
      "cell_type": "code",
      "metadata": {
        "id": "wZj-eb0nKzpd",
        "colab_type": "code",
        "colab": {}
      },
      "source": [
        "class NumericalList(list):\n",
        "    pass # do nothing new"
      ],
      "execution_count": null,
      "outputs": []
    },
    {
      "cell_type": "code",
      "metadata": {
        "id": "GrWH5j4iK61-",
        "colab_type": "code",
        "colab": {
          "base_uri": "https://localhost:8080/",
          "height": 54
        },
        "outputId": "44d21a1e-db51-4f4a-cbf3-fae425ae6224"
      },
      "source": [
        "my_nlist = NumericalList([1, 5, 2, 12])\n",
        "print(my_nlist)\n",
        "print(type(my_nlist))"
      ],
      "execution_count": null,
      "outputs": [
        {
          "output_type": "stream",
          "text": [
            "[1, 5, 2, 12]\n",
            "<class '__main__.NumericalList'>\n"
          ],
          "name": "stdout"
        }
      ]
    },
    {
      "cell_type": "markdown",
      "metadata": {
        "id": "29m7S3T6Px_a",
        "colab_type": "text"
      },
      "source": [
        "Here we would say that `list` is the **parent class** of `NumericalList`. Our new class **inherits** the features of its parent and can be customized with new features (or the existing ones can be changed).\n",
        "\n",
        "For example, the number of items in a list (its length) can be counted using the built-in `len()` function. The countability of lists is a feature that `NumericalList` inherits:"
      ]
    },
    {
      "cell_type": "code",
      "metadata": {
        "id": "XTUjA_TzPY8N",
        "colab_type": "code",
        "colab": {
          "base_uri": "https://localhost:8080/",
          "height": 35
        },
        "outputId": "f412785b-356b-4077-80e9-ad5dff5075c8"
      },
      "source": [
        "len(my_nlist)"
      ],
      "execution_count": null,
      "outputs": [
        {
          "output_type": "execute_result",
          "data": {
            "text/plain": [
              "4"
            ]
          },
          "metadata": {
            "tags": []
          },
          "execution_count": 33
        }
      ]
    },
    {
      "cell_type": "markdown",
      "metadata": {
        "id": "0eWprdrZRX23",
        "colab_type": "text"
      },
      "source": [
        "Similarly, `NumericalList` inherits the `list` methods, like `append()`."
      ]
    },
    {
      "cell_type": "code",
      "metadata": {
        "id": "6Sb67ev0RS5n",
        "colab_type": "code",
        "colab": {
          "base_uri": "https://localhost:8080/",
          "height": 35
        },
        "outputId": "599d6253-7485-4c58-a88c-0b23de297f40"
      },
      "source": [
        "my_nlist.append(99)\n",
        "my_nlist"
      ],
      "execution_count": null,
      "outputs": [
        {
          "output_type": "execute_result",
          "data": {
            "text/plain": [
              "[1, 5, 2, 12, 99]"
            ]
          },
          "metadata": {
            "tags": []
          },
          "execution_count": 34
        }
      ]
    },
    {
      "cell_type": "markdown",
      "metadata": {
        "id": "x4hjQdhcM-Or",
        "colab_type": "text"
      },
      "source": [
        "So far, `NumericalList` has no useful features beyond those of its parent. Let's add one! Below we redefine the class with a new `mean()` method, which is something ordinary lists lack. Note `pass` is not needed anymore; it was needed earlier only because *something* must come after the initial semicolon."
      ]
    },
    {
      "cell_type": "code",
      "metadata": {
        "id": "T_3aD3oGLoQ6",
        "colab_type": "code",
        "colab": {}
      },
      "source": [
        "class NumericalList(list):\n",
        "    def mean(self):\n",
        "        return sum(self)/len(self)"
      ],
      "execution_count": null,
      "outputs": []
    },
    {
      "cell_type": "code",
      "metadata": {
        "id": "gVwDoXL8L00f",
        "colab_type": "code",
        "colab": {
          "base_uri": "https://localhost:8080/",
          "height": 35
        },
        "outputId": "6ffa739c-c507-4ed3-ed24-6efa78c45b28"
      },
      "source": [
        "my_nlist = NumericalList([1, 5, 2, 12])\n",
        "my_nlist.mean()"
      ],
      "execution_count": null,
      "outputs": [
        {
          "output_type": "execute_result",
          "data": {
            "text/plain": [
              "5.0"
            ]
          },
          "metadata": {
            "tags": []
          },
          "execution_count": 36
        }
      ]
    },
    {
      "cell_type": "markdown",
      "metadata": {
        "id": "Uf_2SCEuNIn-",
        "colab_type": "text"
      },
      "source": [
        "Note that all method functions need to take at least one argument, which is conventionally named `self`. This serves as a name for the `NumericalList` itself within the function.\n",
        "\n",
        "For the sake of demonstration, let's add another method called `size()`, which just returns the length:"
      ]
    },
    {
      "cell_type": "code",
      "metadata": {
        "id": "VN2StbLGLQDa",
        "colab_type": "code",
        "colab": {}
      },
      "source": [
        "class NumericalList(list):\n",
        "    def mean(self):\n",
        "        return sum(self)/len(self)\n",
        "    \n",
        "    def size(self):\n",
        "        return len(self)"
      ],
      "execution_count": null,
      "outputs": []
    },
    {
      "cell_type": "code",
      "metadata": {
        "id": "jNgZYbq3LeIL",
        "colab_type": "code",
        "colab": {
          "base_uri": "https://localhost:8080/",
          "height": 35
        },
        "outputId": "07875302-28b9-4446-c3ac-a4cdd797ad3e"
      },
      "source": [
        "my_nlist = NumericalList([1, 5, 2, 12])\n",
        "my_nlist.size()"
      ],
      "execution_count": null,
      "outputs": [
        {
          "output_type": "execute_result",
          "data": {
            "text/plain": [
              "4"
            ]
          },
          "metadata": {
            "tags": []
          },
          "execution_count": 38
        }
      ]
    },
    {
      "cell_type": "markdown",
      "metadata": {
        "id": "NL7ZCtUwNPYd",
        "colab_type": "text"
      },
      "source": [
        "We can use a special **decorator**, `@property`, to mark the `size()` function as a **property**. This will allow (require, actually) `size` to be used without the parentheses."
      ]
    },
    {
      "cell_type": "code",
      "metadata": {
        "id": "SUAR2EYkMWUM",
        "colab_type": "code",
        "colab": {}
      },
      "source": [
        "class NumericalList(list):\n",
        "    def mean(self):\n",
        "        return sum(self)/len(self)\n",
        "    \n",
        "    @property\n",
        "    def size(self):\n",
        "        return len(self)"
      ],
      "execution_count": null,
      "outputs": []
    },
    {
      "cell_type": "code",
      "metadata": {
        "id": "l2xkGxGuNfV8",
        "colab_type": "code",
        "colab": {
          "base_uri": "https://localhost:8080/",
          "height": 35
        },
        "outputId": "53a12083-1f41-4eea-b73a-444a7b648255"
      },
      "source": [
        "my_nlist = NumericalList([1, 5, 2, 12])\n",
        "my_nlist.size"
      ],
      "execution_count": null,
      "outputs": [
        {
          "output_type": "execute_result",
          "data": {
            "text/plain": [
              "4"
            ]
          },
          "metadata": {
            "tags": []
          },
          "execution_count": 40
        }
      ]
    },
    {
      "cell_type": "markdown",
      "metadata": {
        "id": "HQNfkwnb0Th7",
        "colab_type": "text"
      },
      "source": [
        "---\n",
        "\n",
        "**TODO: Getting fancy...**"
      ]
    },
    {
      "cell_type": "code",
      "metadata": {
        "id": "PsKqVocd0Vm0",
        "colab_type": "code",
        "colab": {
          "base_uri": "https://localhost:8080/",
          "height": 35
        },
        "outputId": "0a4a0271-2cda-4be1-bbd9-f20d17037d5b"
      },
      "source": [
        "class NumericalList(list):\n",
        "    def mean(self):\n",
        "        return sum(self)/len(self)\n",
        "    \n",
        "    @property\n",
        "    def size(self):\n",
        "        return len(self)\n",
        "    \n",
        "    def __add__(self, other):\n",
        "        return [x+y for x, y in zip(self, other)]\n",
        "    def __sub__(self, other):\n",
        "        return [x-y for x, y in zip(self, other)]\n",
        "    def __mul__(self, factor):\n",
        "        return [x*factor for x in self]\n",
        "    def __truediv__(self, factor):\n",
        "        return [x/factor for x in self]\n",
        "    def __neg__(self):\n",
        "        return [-x for x in self]\n",
        "\n",
        "list1 = NumericalList([1, 5, 2, 12])\n",
        "list2 = NumericalList([4, 3, 7, 9])\n",
        "\n",
        "# list1+list2\n",
        "list1-list2\n",
        "# list1*5\n",
        "# list1/5\n",
        "# -list1"
      ],
      "execution_count": null,
      "outputs": [
        {
          "output_type": "execute_result",
          "data": {
            "text/plain": [
              "[-3, 2, -5, 3]"
            ]
          },
          "metadata": {
            "tags": []
          },
          "execution_count": 41
        }
      ]
    },
    {
      "cell_type": "markdown",
      "metadata": {
        "id": "tvhXFvyh0Uhh",
        "colab_type": "text"
      },
      "source": [
        "---"
      ]
    },
    {
      "cell_type": "markdown",
      "metadata": {
        "id": "E6z4qCDVODYg",
        "colab_type": "text"
      },
      "source": [
        "Let's create another custom class. This one will be designed for representing a sequence of voltage samples, like those obtained in electrophysiology experiments. The `mean()` function and `size` property of our `NumericalList` class will be useful, so let's build another subclass, but this time instead of subclassing `list`, we'll subclass `NumericalList`. Let's call this new class `VoltageSignal`, and we'll begin with nothing added (just using `pass` again):"
      ]
    },
    {
      "cell_type": "code",
      "metadata": {
        "id": "6_DxNpd0UgcW",
        "colab_type": "code",
        "colab": {}
      },
      "source": [
        "class VoltageSignal(NumericalList):\n",
        "    pass # do nothing new"
      ],
      "execution_count": null,
      "outputs": []
    },
    {
      "cell_type": "code",
      "metadata": {
        "id": "5JBsNmNMVFJd",
        "colab_type": "code",
        "colab": {
          "base_uri": "https://localhost:8080/",
          "height": 54
        },
        "outputId": "e4c93333-0914-4e97-f7ce-21e4ce895d1b"
      },
      "source": [
        "my_sig = VoltageSignal([1, 5, 2, 12])\n",
        "print(my_sig)\n",
        "print(type(my_sig))"
      ],
      "execution_count": null,
      "outputs": [
        {
          "output_type": "stream",
          "text": [
            "[1, 5, 2, 12]\n",
            "<class '__main__.VoltageSignal'>\n"
          ],
          "name": "stdout"
        }
      ]
    },
    {
      "cell_type": "markdown",
      "metadata": {
        "id": "s4BHlKLsVP-j",
        "colab_type": "text"
      },
      "source": [
        "Voltages could be represented with different units, like millivolts or microvolts, so it would be useful for our class to store the units when it is created, allowing that information to be accessed later. We should require that information at the time the `VoltageSignal` is created.\n",
        "\n",
        "**TODO: Explain `super()`**"
      ]
    },
    {
      "cell_type": "code",
      "metadata": {
        "id": "xzh2v1LhV-xi",
        "colab_type": "code",
        "colab": {}
      },
      "source": [
        "class VoltageSignal(NumericalList):\n",
        "    def __init__(self, data):\n",
        "        super().__init__(data)"
      ],
      "execution_count": null,
      "outputs": []
    },
    {
      "cell_type": "code",
      "metadata": {
        "id": "x1Ww-q2SWHXN",
        "colab_type": "code",
        "colab": {
          "base_uri": "https://localhost:8080/",
          "height": 54
        },
        "outputId": "cd0df1cc-2cf3-4514-ecf9-dfea1b767cfb"
      },
      "source": [
        "my_sig = VoltageSignal([1, 5, 2, 12])\n",
        "print(my_sig)\n",
        "print(type(my_sig))"
      ],
      "execution_count": null,
      "outputs": [
        {
          "output_type": "stream",
          "text": [
            "[1, 5, 2, 12]\n",
            "<class '__main__.VoltageSignal'>\n"
          ],
          "name": "stdout"
        }
      ]
    },
    {
      "cell_type": "markdown",
      "metadata": {
        "id": "rJvlUwipX2F_",
        "colab_type": "text"
      },
      "source": [
        "So far we haven't done anything new. We've merely set the table for introducing new things. Let's now require that a second argument is provided after the numerical data, and let's store it as the `units` attribute."
      ]
    },
    {
      "cell_type": "code",
      "metadata": {
        "id": "WzlHImiGYHo9",
        "colab_type": "code",
        "colab": {}
      },
      "source": [
        "class VoltageSignal(NumericalList):\n",
        "    def __init__(self, data, units):\n",
        "        super().__init__(data)\n",
        "        self.units = units"
      ],
      "execution_count": null,
      "outputs": []
    },
    {
      "cell_type": "code",
      "metadata": {
        "colab_type": "code",
        "id": "geF-ZEk4YQyG",
        "colab": {
          "base_uri": "https://localhost:8080/",
          "height": 54
        },
        "outputId": "f1e7b9b2-81f0-4057-d1f2-33e56c42bdf5"
      },
      "source": [
        "my_sig = VoltageSignal([1, 5, 2, 12], 'mV')\n",
        "print(my_sig)\n",
        "print(my_sig.units)"
      ],
      "execution_count": null,
      "outputs": [
        {
          "output_type": "stream",
          "text": [
            "[1, 5, 2, 12]\n",
            "mV\n"
          ],
          "name": "stdout"
        }
      ]
    },
    {
      "cell_type": "markdown",
      "metadata": {
        "id": "7-hX5P9BveLx",
        "colab_type": "text"
      },
      "source": [
        "**TODO: Use `__str__` or `__repr__`?**"
      ]
    },
    {
      "cell_type": "code",
      "metadata": {
        "id": "OkfFGoUkvnM3",
        "colab_type": "code",
        "colab": {}
      },
      "source": [
        "class VoltageSignal(NumericalList):\n",
        "    def __init__(self, data, units):\n",
        "        super().__init__(data)\n",
        "        self.units = units\n",
        "\n",
        "    def __str__(self):\n",
        "        return f'{list(self)} {self.units}'"
      ],
      "execution_count": null,
      "outputs": []
    },
    {
      "cell_type": "code",
      "metadata": {
        "id": "oixx6Bqovu9H",
        "colab_type": "code",
        "colab": {
          "base_uri": "https://localhost:8080/",
          "height": 35
        },
        "outputId": "fb4a84b6-1701-4652-a0c1-283b9a8530e0"
      },
      "source": [
        "my_sig = VoltageSignal([1, 5, 2, 12], 'mV')\n",
        "print(my_sig)"
      ],
      "execution_count": null,
      "outputs": [
        {
          "output_type": "stream",
          "text": [
            "[1, 5, 2, 12] mV\n"
          ],
          "name": "stdout"
        }
      ]
    },
    {
      "cell_type": "markdown",
      "metadata": {
        "id": "_ERpGAExYZxT",
        "colab_type": "text"
      },
      "source": [
        "Let's do something useful with the units by adding a method that can convert between millivolts and microvolts, or vice versa. We'll have it change the values in place."
      ]
    },
    {
      "cell_type": "code",
      "metadata": {
        "id": "uPQRa1TrYkdy",
        "colab_type": "code",
        "colab": {}
      },
      "source": [
        "class VoltageSignal(NumericalList):\n",
        "    def __init__(self, data, units):\n",
        "        super().__init__(data)\n",
        "        self.units = units\n",
        "\n",
        "    def __str__(self):\n",
        "        return f'{list(self)} {self.units}'\n",
        "    \n",
        "    def convert(self, new_units):\n",
        "        if self.units == 'mV' and new_units == 'uV':\n",
        "            factor = 1000\n",
        "        elif self.units == 'uV' and new_units == 'mV':\n",
        "            factor = 1/1000\n",
        "        else:\n",
        "            print('bad units!')\n",
        "            return\n",
        "        new_data = [x*factor for x in self]\n",
        "        return VoltageSignal(new_data, new_units)"
      ],
      "execution_count": null,
      "outputs": []
    },
    {
      "cell_type": "code",
      "metadata": {
        "id": "1kcQk173ZV-Z",
        "colab_type": "code",
        "colab": {
          "base_uri": "https://localhost:8080/",
          "height": 35
        },
        "outputId": "8895e55e-435a-4bab-d0bb-df27771074a2"
      },
      "source": [
        "my_sig = VoltageSignal([1, 5, 2, 12], 'mV')\n",
        "print(my_sig.convert('uV'))"
      ],
      "execution_count": null,
      "outputs": [
        {
          "output_type": "stream",
          "text": [
            "[1000, 5000, 2000, 12000] uV\n"
          ],
          "name": "stdout"
        }
      ]
    },
    {
      "cell_type": "code",
      "metadata": {
        "id": "guwwP_cEaatF",
        "colab_type": "code",
        "colab": {
          "base_uri": "https://localhost:8080/",
          "height": 35
        },
        "outputId": "1798839e-f325-4e06-bb10-e53ab292981c"
      },
      "source": [
        "my_sig = VoltageSignal([1, 5, 2, 12], 'uV')\n",
        "print(my_sig.convert('mV'))"
      ],
      "execution_count": null,
      "outputs": [
        {
          "output_type": "stream",
          "text": [
            "[0.001, 0.005, 0.002, 0.012] mV\n"
          ],
          "name": "stdout"
        }
      ]
    },
    {
      "cell_type": "markdown",
      "metadata": {
        "id": "X5P6Zvxdau60",
        "colab_type": "text"
      },
      "source": [
        "We still have access to the methods inherited from `NumericalList`."
      ]
    },
    {
      "cell_type": "code",
      "metadata": {
        "id": "jeHaAmD7at9E",
        "colab_type": "code",
        "colab": {
          "base_uri": "https://localhost:8080/",
          "height": 54
        },
        "outputId": "65061487-5481-43cd-ba4c-9f7668d987a6"
      },
      "source": [
        "my_sig = VoltageSignal([1, 5, 2, 12], 'uV')\n",
        "my_sig_converted = my_sig.convert('mV')\n",
        "\n",
        "print(f'The mean voltage is {my_sig.mean()} {my_sig.units}.')\n",
        "print(f'This is equivalent to {my_sig_converted.mean()} {my_sig_converted.units}.')"
      ],
      "execution_count": null,
      "outputs": [
        {
          "output_type": "stream",
          "text": [
            "The mean voltage is 5.0 uV.\n",
            "This is equivalent to 0.005 mV.\n"
          ],
          "name": "stdout"
        }
      ]
    },
    {
      "cell_type": "markdown",
      "metadata": {
        "id": "p2CPFqukS442",
        "colab_type": "text"
      },
      "source": [
        "## Handling Errors with Try-Except"
      ]
    },
    {
      "cell_type": "markdown",
      "metadata": {
        "id": "zkGScQnmTLwz",
        "colab_type": "text"
      },
      "source": [
        "*Coming soon...*"
      ]
    },
    {
      "cell_type": "markdown",
      "metadata": {
        "id": "c07TBHdokweE",
        "colab_type": "text"
      },
      "source": [
        "# Continue to the Next Lesson\n",
        "\n",
        "Return to home to continue to the next lession:\n",
        "\n",
        "https://jpgill86.github.io/python-for-neuroscientists/"
      ]
    },
    {
      "cell_type": "markdown",
      "metadata": {
        "id": "ywlbOi3FUWgK",
        "colab_type": "text"
      },
      "source": [
        "# External Resources"
      ]
    },
    {
      "cell_type": "markdown",
      "metadata": {
        "id": "Nl36l9SJSGG9",
        "colab_type": "text"
      },
      "source": [
        "The official language documentation:\n",
        "\n",
        "* [Python 3 documentation](https://docs.python.org/3/index.html)\n",
        "* [Built-in functions](https://docs.python.org/3/library/functions.html)\n",
        "* [Standard libraries](https://docs.python.org/3/library/index.html)\n",
        "* [Glossary of terms](https://docs.python.org/3/glossary.html)\n",
        "* [In-depth tutorial](https://docs.python.org/3/tutorial/index.html)\n",
        "\n",
        "Extended language documentation:\n",
        "* [IPython (Jupyter) vs. Python differences](https://ipython.readthedocs.io/en/stable/interactive/python-ipython-diff.html)\n",
        "* [IPython (Jupyter) \"magic\" (`%`) commands](https://ipython.readthedocs.io/en/stable/interactive/magics.html)\n",
        "\n",
        "Free interactive books created by Jake VanderPlas:\n",
        "\n",
        "* [A Whirlwind Tour of Python](https://colab.research.google.com/github/jakevdp/WhirlwindTourOfPython/blob/master/Index.ipynb) [[PDF version]](https://www.oreilly.com/programming/free/files/a-whirlwind-tour-of-python.pdf)\n",
        "* [Python Data Science Handbook](https://colab.research.google.com/github/jakevdp/PythonDataScienceHandbook/blob/master/notebooks/Index.ipynb)"
      ]
    },
    {
      "cell_type": "markdown",
      "metadata": {
        "id": "n-KhMl8xk1Ze",
        "colab_type": "text"
      },
      "source": [
        "# License\n",
        "\n",
        "[This work](https://github.com/jpgill86/python-for-neuroscientists) is licensed under a [Creative Commons Attribution 4.0 International\n",
        "License](http://creativecommons.org/licenses/by/4.0/)."
      ]
    }
  ]
}