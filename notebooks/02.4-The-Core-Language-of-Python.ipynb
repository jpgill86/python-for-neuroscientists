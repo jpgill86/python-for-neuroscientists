{
  "nbformat": 4,
  "nbformat_minor": 0,
  "metadata": {
    "colab": {
      "name": "02.4-The-Core-Language-of-Python.ipynb",
      "provenance": [],
      "collapsed_sections": [],
      "toc_visible": true,
      "include_colab_link": true
    },
    "kernelspec": {
      "name": "python3",
      "display_name": "Python 3"
    }
  },
  "cells": [
    {
      "cell_type": "markdown",
      "metadata": {
        "id": "view-in-github",
        "colab_type": "text"
      },
      "source": [
        "<a href=\"https://colab.research.google.com/github/jpgill86/python-for-neuroscientists/blob/master/notebooks/02.4-The-Core-Language-of-Python.ipynb\" target=\"_parent\"><img src=\"https://colab.research.google.com/assets/colab-badge.svg\" alt=\"Open In Colab\"/></a>"
      ]
    },
    {
      "cell_type": "markdown",
      "metadata": {
        "id": "QRtgy8QlUJSM",
        "colab_type": "text"
      },
      "source": [
        "# The Core Language of Python: Part 4"
      ]
    },
    {
      "cell_type": "markdown",
      "metadata": {
        "id": "XtfHIWprUw5r",
        "colab_type": "text"
      },
      "source": [
        "## Functions"
      ]
    },
    {
      "cell_type": "markdown",
      "metadata": {
        "id": "Wnszey9SlfdV",
        "colab_type": "text"
      },
      "source": [
        "**Functions** take inputs, called **arguments** or **parameters**, and do work with them. Often, functions will **return** a result.\n",
        "\n",
        "Before use, functions must be **defined** using the `def` keyword. Inside the definition, results can be **returned** using the `return` keyword. Function arguments are specified in the definition inside parentheses after the function name.\n",
        "\n",
        "A function is used, or **called**, by invoking its name with the arguments."
      ]
    },
    {
      "cell_type": "code",
      "metadata": {
        "id": "B3snzbIcUAx6",
        "colab_type": "code",
        "colab": {
          "base_uri": "https://localhost:8080/",
          "height": 35
        },
        "outputId": "cfc8bd2e-cea5-4518-fea3-3c9c518b418f"
      },
      "source": [
        "def compute_square(x):\n",
        "    return x**2\n",
        "\n",
        "compute_square(4)"
      ],
      "execution_count": null,
      "outputs": [
        {
          "output_type": "execute_result",
          "data": {
            "text/plain": [
              "16"
            ]
          },
          "metadata": {
            "tags": []
          },
          "execution_count": 1
        }
      ]
    },
    {
      "cell_type": "markdown",
      "metadata": {
        "id": "r1xmHta7f4xx",
        "colab_type": "text"
      },
      "source": [
        "Variables assignment within a function has limited **scope**. This means that if a new variable is assigned within a function, it will exist within the function (local scope) but not outside it (global scope)."
      ]
    },
    {
      "cell_type": "code",
      "metadata": {
        "id": "JCcEh5QcGZXM",
        "colab_type": "code",
        "colab": {
          "base_uri": "https://localhost:8080/",
          "height": 227
        },
        "outputId": "10aa572f-d827-4fdd-a3ba-9c167c989e51"
      },
      "source": [
        "def add_4(x):\n",
        "    # this new variable has local scope and will not be accessible outside the function\n",
        "    some_local_variable = x + 4\n",
        "    \n",
        "    # use an f-string to display the result\n",
        "    print(f'{x} + 4 = {some_local_variable}')\n",
        "\n",
        "add_4(1)\n",
        "\n",
        "# this will fail because some_local_variable is out of scope\n",
        "print(some_local_variable)"
      ],
      "execution_count": null,
      "outputs": [
        {
          "output_type": "stream",
          "text": [
            "1 + 4 = 5\n"
          ],
          "name": "stdout"
        },
        {
          "output_type": "error",
          "ename": "NameError",
          "evalue": "ignored",
          "traceback": [
            "\u001b[0;31m---------------------------------------------------------------------------\u001b[0m",
            "\u001b[0;31mNameError\u001b[0m                                 Traceback (most recent call last)",
            "\u001b[0;32m<ipython-input-2-dd89e550e808>\u001b[0m in \u001b[0;36m<module>\u001b[0;34m()\u001b[0m\n\u001b[1;32m      9\u001b[0m \u001b[0;34m\u001b[0m\u001b[0m\n\u001b[1;32m     10\u001b[0m \u001b[0;31m# this will fail because some_local_variable is out of scope\u001b[0m\u001b[0;34m\u001b[0m\u001b[0;34m\u001b[0m\u001b[0;34m\u001b[0m\u001b[0m\n\u001b[0;32m---> 11\u001b[0;31m \u001b[0mprint\u001b[0m\u001b[0;34m(\u001b[0m\u001b[0msome_local_variable\u001b[0m\u001b[0;34m)\u001b[0m\u001b[0;34m\u001b[0m\u001b[0;34m\u001b[0m\u001b[0m\n\u001b[0m",
            "\u001b[0;31mNameError\u001b[0m: name 'some_local_variable' is not defined"
          ]
        }
      ]
    },
    {
      "cell_type": "markdown",
      "metadata": {
        "id": "FJ61P-MoGTdM",
        "colab_type": "text"
      },
      "source": [
        "This also means that if a variable that already exists (a global variable) is given a value inside the function, the global variable will not be affected."
      ]
    },
    {
      "cell_type": "code",
      "metadata": {
        "id": "_-hoKrz9eaID",
        "colab_type": "code",
        "colab": {
          "base_uri": "https://localhost:8080/",
          "height": 72
        },
        "outputId": "24804fc4-2448-456f-e20d-b7856bffd785"
      },
      "source": [
        "x = 'original value'\n",
        "\n",
        "print(f'x in global scope: {x}')\n",
        "\n",
        "def print_something(text):\n",
        "    # assigning x inside the function does not affect x outside\n",
        "    x = text\n",
        "    print(f'x in local scope: {x}')\n",
        "\n",
        "print_something('new value')\n",
        "\n",
        "print(f'x in global scope: {x}')"
      ],
      "execution_count": null,
      "outputs": [
        {
          "output_type": "stream",
          "text": [
            "x in global scope: original value\n",
            "x in local scope: new value\n",
            "x in global scope: original value\n"
          ],
          "name": "stdout"
        }
      ]
    },
    {
      "cell_type": "markdown",
      "metadata": {
        "id": "5Ie5Qaikm3Pv",
        "colab_type": "text"
      },
      "source": [
        "Functions can be defined with multiple arguments."
      ]
    },
    {
      "cell_type": "code",
      "metadata": {
        "id": "lxyjjasHgblQ",
        "colab_type": "code",
        "colab": {
          "base_uri": "https://localhost:8080/",
          "height": 35
        },
        "outputId": "85764762-0e85-4a69-96d7-4deb3c210a5e"
      },
      "source": [
        "def quadratic(x, a, b, c):\n",
        "    return a * x**2 + b * x + c\n",
        "\n",
        "quadratic(3, 1, 0, 5)  # 1 * 3**2 + 5 = 14"
      ],
      "execution_count": null,
      "outputs": [
        {
          "output_type": "execute_result",
          "data": {
            "text/plain": [
              "14"
            ]
          },
          "metadata": {
            "tags": []
          },
          "execution_count": 4
        }
      ]
    },
    {
      "cell_type": "markdown",
      "metadata": {
        "id": "L72PWJovHNxu",
        "colab_type": "text"
      },
      "source": [
        "When calling a function with multiple arguments, the order of the inputs must match the definition unless the arguments are explicitly named. This can be done using `=`. This use of `=` does not actually assign the value to the argument in the global scope."
      ]
    },
    {
      "cell_type": "code",
      "metadata": {
        "id": "3CAqarN2H5KE",
        "colab_type": "code",
        "colab": {
          "base_uri": "https://localhost:8080/",
          "height": 35
        },
        "outputId": "5c333e7c-bb40-42c2-984a-267182ba9e50"
      },
      "source": [
        "# arguments may be given out of order if they are explicitly named with =\n",
        "quadratic(b=0, c=5, a=1, x=3)\n",
        "\n",
        "# after calling the function with explicit arguments, the variables x, a, b, c\n",
        "# have NOT been defined or changed in the global scope"
      ],
      "execution_count": null,
      "outputs": [
        {
          "output_type": "execute_result",
          "data": {
            "text/plain": [
              "14"
            ]
          },
          "metadata": {
            "tags": []
          },
          "execution_count": 5
        }
      ]
    },
    {
      "cell_type": "markdown",
      "metadata": {
        "id": "UxggRAaDMnS6",
        "colab_type": "text"
      },
      "source": [
        "Because `=` has this special non-assignment meaning in function calls, you will sometimes see seemingly odd notation where variables appear to be assigned to themselves. For example, if the parameters for `quadratic` are already defined in the global scope as variables with the same names, the function could be called like this:"
      ]
    },
    {
      "cell_type": "code",
      "metadata": {
        "id": "5KGA7juqNLqm",
        "colab_type": "code",
        "colab": {
          "base_uri": "https://localhost:8080/",
          "height": 35
        },
        "outputId": "cf7c5aea-c65f-42f5-b24c-e6e65de0b667"
      },
      "source": [
        "x = 3\n",
        "a = 1\n",
        "b = 0\n",
        "c = 5\n",
        "\n",
        "quadratic(b=b, c=c, a=a, x=x)"
      ],
      "execution_count": null,
      "outputs": [
        {
          "output_type": "execute_result",
          "data": {
            "text/plain": [
              "14"
            ]
          },
          "metadata": {
            "tags": []
          },
          "execution_count": 6
        }
      ]
    },
    {
      "cell_type": "markdown",
      "metadata": {
        "id": "VeWgqNxpm97V",
        "colab_type": "text"
      },
      "source": [
        "When you see a function call like this, remember that the names to the left of the `=` symbols are the argument names, which will exist in the local scope of the function, and the names to the right of the `=` symbols refer to variables defined in the global scope.\n",
        "\n",
        "By default, all arguments must be provided when using the function."
      ]
    },
    {
      "cell_type": "code",
      "metadata": {
        "id": "NQ7NK9Nyg5rH",
        "colab_type": "code",
        "colab": {
          "base_uri": "https://localhost:8080/",
          "height": 172
        },
        "outputId": "fa4a45fe-48a0-400d-e240-b58f41632604"
      },
      "source": [
        "quadratic(3)"
      ],
      "execution_count": null,
      "outputs": [
        {
          "output_type": "error",
          "ename": "TypeError",
          "evalue": "ignored",
          "traceback": [
            "\u001b[0;31m---------------------------------------------------------------------------\u001b[0m",
            "\u001b[0;31mTypeError\u001b[0m                                 Traceback (most recent call last)",
            "\u001b[0;32m<ipython-input-7-a9084b27f93d>\u001b[0m in \u001b[0;36m<module>\u001b[0;34m()\u001b[0m\n\u001b[0;32m----> 1\u001b[0;31m \u001b[0mquadratic\u001b[0m\u001b[0;34m(\u001b[0m\u001b[0;36m3\u001b[0m\u001b[0;34m)\u001b[0m\u001b[0;34m\u001b[0m\u001b[0;34m\u001b[0m\u001b[0m\n\u001b[0m",
            "\u001b[0;31mTypeError\u001b[0m: quadratic() missing 3 required positional arguments: 'a', 'b', and 'c'"
          ]
        }
      ]
    },
    {
      "cell_type": "markdown",
      "metadata": {
        "id": "JFHybcdonkuj",
        "colab_type": "text"
      },
      "source": [
        "Functions can be defined with default parameter values using `=` so that they are not required when calling the function. Again, this does not actually assign these values to variables in the global scope."
      ]
    },
    {
      "cell_type": "code",
      "metadata": {
        "id": "ZEB4y9hjg8-p",
        "colab_type": "code",
        "colab": {
          "base_uri": "https://localhost:8080/",
          "height": 35
        },
        "outputId": "abaf4009-7e9b-4c98-f106-e35ab9719316"
      },
      "source": [
        "# provide default values for parameters\n",
        "def quadratic(x, a=1, b=0, c=0):\n",
        "    return a * x**2 + b * x + c\n",
        "\n",
        "quadratic(3)"
      ],
      "execution_count": null,
      "outputs": [
        {
          "output_type": "execute_result",
          "data": {
            "text/plain": [
              "9"
            ]
          },
          "metadata": {
            "tags": []
          },
          "execution_count": 8
        }
      ]
    },
    {
      "cell_type": "markdown",
      "metadata": {
        "id": "PdcAOc_aAyDq",
        "colab_type": "text"
      },
      "source": [
        "When variables containing lists, dictionaries, or other complex objects (e.g., custom classes) are passed as arguments to a function, they are **passed by reference**, which means that the function can change those variables in the global scope. For example, if a list is passed to a function as input, the function could change items in the list:"
      ]
    },
    {
      "cell_type": "code",
      "metadata": {
        "id": "Sy4WEY0h_4J2",
        "colab_type": "code",
        "colab": {
          "base_uri": "https://localhost:8080/",
          "height": 35
        },
        "outputId": "0dc19f19-d47e-4a55-a108-7e7217939fdb"
      },
      "source": [
        "def change_list(some_list):\n",
        "    # change the first item in the list to 4\n",
        "    some_list[0] = 4\n",
        "\n",
        "my_list = [1, 1, 1, 1]\n",
        "\n",
        "# this function call will change my_list permanently in the global scope\n",
        "change_list(my_list)\n",
        "\n",
        "# the first item has changed\n",
        "my_list"
      ],
      "execution_count": null,
      "outputs": [
        {
          "output_type": "execute_result",
          "data": {
            "text/plain": [
              "[4, 1, 1, 1]"
            ]
          },
          "metadata": {
            "tags": []
          },
          "execution_count": 9
        }
      ]
    },
    {
      "cell_type": "markdown",
      "metadata": {
        "id": "XRH7w9shnyAp",
        "colab_type": "text"
      },
      "source": [
        "The built-in function `map` can be used to apply a function to every value in a sequence:"
      ]
    },
    {
      "cell_type": "code",
      "metadata": {
        "id": "EZE5w-6GhMhr",
        "colab_type": "code",
        "colab": {
          "base_uri": "https://localhost:8080/",
          "height": 35
        },
        "outputId": "e9c7b465-489e-4ae9-da2f-181dcfa1b1db"
      },
      "source": [
        "list(map(compute_square, range(5)))  # list() is used so the output displays nicely"
      ],
      "execution_count": null,
      "outputs": [
        {
          "output_type": "execute_result",
          "data": {
            "text/plain": [
              "[0, 1, 4, 9, 16]"
            ]
          },
          "metadata": {
            "tags": []
          },
          "execution_count": 10
        }
      ]
    },
    {
      "cell_type": "markdown",
      "metadata": {
        "id": "XbcJy_qEn5ow",
        "colab_type": "text"
      },
      "source": [
        "This example is identical to the following list comprehension:"
      ]
    },
    {
      "cell_type": "code",
      "metadata": {
        "id": "1IBPU99ghhj1",
        "colab_type": "code",
        "colab": {
          "base_uri": "https://localhost:8080/",
          "height": 35
        },
        "outputId": "2c671b8b-80fe-4c7b-ab69-5eae6cbd1964"
      },
      "source": [
        "[compute_square(i) for i in range(5)]"
      ],
      "execution_count": null,
      "outputs": [
        {
          "output_type": "execute_result",
          "data": {
            "text/plain": [
              "[0, 1, 4, 9, 16]"
            ]
          },
          "metadata": {
            "tags": []
          },
          "execution_count": 11
        }
      ]
    },
    {
      "cell_type": "markdown",
      "metadata": {
        "id": "YZIf9yoxCb9s",
        "colab_type": "text"
      },
      "source": [
        "`map` can be used with multiple sequences. The first items from all sequences will be passed together as arguments to the function, then the second items, and so on."
      ]
    },
    {
      "cell_type": "code",
      "metadata": {
        "id": "CGZ3OPHxCMuA",
        "colab_type": "code",
        "colab": {
          "base_uri": "https://localhost:8080/",
          "height": 35
        },
        "outputId": "db62cb20-9b1f-4f23-ed46-9a8fd57014bd"
      },
      "source": [
        "def multiply(x, y):\n",
        "    return x * y\n",
        "\n",
        "list1 = [1, 2, 3, 4]\n",
        "list2 = [1, 10, 100, 1000]\n",
        "\n",
        "list(map(multiply, list1, list2))  # list() is used so the output displays nicely"
      ],
      "execution_count": null,
      "outputs": [
        {
          "output_type": "execute_result",
          "data": {
            "text/plain": [
              "[1, 20, 300, 4000]"
            ]
          },
          "metadata": {
            "tags": []
          },
          "execution_count": 12
        }
      ]
    },
    {
      "cell_type": "markdown",
      "metadata": {
        "id": "UTFrw3ckE08H",
        "colab_type": "text"
      },
      "source": [
        "This behavior can also be replicated with a list comprehension and `zip()`:"
      ]
    },
    {
      "cell_type": "code",
      "metadata": {
        "id": "JBfMFu-vErqc",
        "colab_type": "code",
        "colab": {
          "base_uri": "https://localhost:8080/",
          "height": 35
        },
        "outputId": "47977f5a-f390-4ec3-bee6-b933be65bc8e"
      },
      "source": [
        "[multiply(x, y) for x, y in zip(list1, list2)]"
      ],
      "execution_count": null,
      "outputs": [
        {
          "output_type": "execute_result",
          "data": {
            "text/plain": [
              "[1, 20, 300, 4000]"
            ]
          },
          "metadata": {
            "tags": []
          },
          "execution_count": 13
        }
      ]
    },
    {
      "cell_type": "markdown",
      "metadata": {
        "id": "-_qiZpUOoEzx",
        "colab_type": "text"
      },
      "source": [
        "The built-in function `filter` is used to remove all items from a sequence that do not satisfy the criterion of returning `True` when passed into a function:"
      ]
    },
    {
      "cell_type": "code",
      "metadata": {
        "id": "jVmchd1HjuMT",
        "colab_type": "code",
        "colab": {
          "base_uri": "https://localhost:8080/",
          "height": 35
        },
        "outputId": "1a0acc0e-8fcd-4b6b-f539-3d2e458316aa"
      },
      "source": [
        "def greater_than_2(x):\n",
        "    return x > 2\n",
        "\n",
        "# keep only items that satisfy the condition\n",
        "list(filter(greater_than_2, range(5)))  # list() is used so the output displays nicely"
      ],
      "execution_count": null,
      "outputs": [
        {
          "output_type": "execute_result",
          "data": {
            "text/plain": [
              "[3, 4]"
            ]
          },
          "metadata": {
            "tags": []
          },
          "execution_count": 14
        }
      ]
    },
    {
      "cell_type": "markdown",
      "metadata": {
        "id": "ZJt99qRgKAAF",
        "colab_type": "text"
      },
      "source": [
        "This behavior can also be replicated by a list comprehension:"
      ]
    },
    {
      "cell_type": "code",
      "metadata": {
        "id": "F15qik_hKD7R",
        "colab_type": "code",
        "colab": {
          "base_uri": "https://localhost:8080/",
          "height": 35
        },
        "outputId": "ff403c2c-e4f5-4482-a94b-3a76ef217cf8"
      },
      "source": [
        "[x for x in range(5) if greater_than_2(x)]"
      ],
      "execution_count": null,
      "outputs": [
        {
          "output_type": "execute_result",
          "data": {
            "text/plain": [
              "[3, 4]"
            ]
          },
          "metadata": {
            "tags": []
          },
          "execution_count": 15
        }
      ]
    },
    {
      "cell_type": "markdown",
      "metadata": {
        "id": "yuyyaYiODIZt",
        "colab_type": "text"
      },
      "source": [
        "`filter` does not change the variable:"
      ]
    },
    {
      "cell_type": "code",
      "metadata": {
        "id": "8l_rRZsAC-yt",
        "colab_type": "code",
        "colab": {
          "base_uri": "https://localhost:8080/",
          "height": 54
        },
        "outputId": "416ece40-a1a4-4568-bfdd-07cc35fa1d3c"
      },
      "source": [
        "my_list = [0, 1, 2, 3, 4]\n",
        "\n",
        "# return a filtered version of the list but do not actually change my_list\n",
        "print(list(filter(greater_than_2, my_list)))  # list() is used so the output displays nicely\n",
        "\n",
        "# the list was not permanently changed\n",
        "print(my_list)"
      ],
      "execution_count": null,
      "outputs": [
        {
          "output_type": "stream",
          "text": [
            "[3, 4]\n",
            "[0, 1, 2, 3, 4]\n"
          ],
          "name": "stdout"
        }
      ]
    },
    {
      "cell_type": "markdown",
      "metadata": {
        "id": "F84GDe6GoVHz",
        "colab_type": "text"
      },
      "source": [
        "Temporary **anonymous functions**, also called **lambda functions**, can be defined using the `lambda` keyword. They are useful in contexts were a function is needed just once to do something simple.\n",
        "\n",
        "This example is equivalent to the previous one but does not require the function `greater_than_2` to be defined:"
      ]
    },
    {
      "cell_type": "code",
      "metadata": {
        "id": "Tdc-A3CCkS-_",
        "colab_type": "code",
        "colab": {
          "base_uri": "https://localhost:8080/",
          "height": 35
        },
        "outputId": "2d79a8c4-a72c-4d67-e5b5-2e9b6681fe67"
      },
      "source": [
        "list(filter(lambda x: x > 2, range(5)))"
      ],
      "execution_count": null,
      "outputs": [
        {
          "output_type": "execute_result",
          "data": {
            "text/plain": [
              "[3, 4]"
            ]
          },
          "metadata": {
            "tags": []
          },
          "execution_count": 17
        }
      ]
    },
    {
      "cell_type": "markdown",
      "metadata": {
        "id": "jhLHgGm8o3so",
        "colab_type": "text"
      },
      "source": [
        "A function can be defined with a **docstring**, or documentation string, which can provide helpful information when `help()` or `?` is used. Docstrings can span multiple lines and are sometimes very detailed (e.g., describing every function argument)."
      ]
    },
    {
      "cell_type": "code",
      "metadata": {
        "id": "m_U0UhMVk-rL",
        "colab_type": "code",
        "colab": {
          "base_uri": "https://localhost:8080/",
          "height": 146
        },
        "outputId": "1c4b97c8-4d03-4207-94e9-ff62849c65e6"
      },
      "source": [
        "def compute_square(x):\n",
        "    '''Calculate the square of the input\n",
        "    \n",
        "    x: the number to be squared'''\n",
        "    \n",
        "    return x**2\n",
        "\n",
        "help(compute_square)"
      ],
      "execution_count": null,
      "outputs": [
        {
          "output_type": "stream",
          "text": [
            "Help on function compute_square in module __main__:\n",
            "\n",
            "compute_square(x)\n",
            "    Calculate the square of the input\n",
            "    \n",
            "    x: the number to be squared\n",
            "\n"
          ],
          "name": "stdout"
        }
      ]
    },
    {
      "cell_type": "markdown",
      "metadata": {
        "id": "JBF3eflUphLo",
        "colab_type": "text"
      },
      "source": [
        "Multiple values can be returned at once. If they are separated by commas without enclosing brackets, the returned object is a tuple."
      ]
    },
    {
      "cell_type": "code",
      "metadata": {
        "id": "ifdc6CuHlXtv",
        "colab_type": "code",
        "colab": {
          "base_uri": "https://localhost:8080/",
          "height": 35
        },
        "outputId": "38a51010-d65e-483f-b3f0-be2d858f4366"
      },
      "source": [
        "def powers(x):\n",
        "    return x**1, x**2, x**3\n",
        "\n",
        "x = 4\n",
        "result = powers(x)\n",
        "\n",
        "print(f'Result of powers({x}) is a tuple: {result}')"
      ],
      "execution_count": null,
      "outputs": [
        {
          "output_type": "stream",
          "text": [
            "Result of powers(4) is a tuple: (4, 16, 64)\n"
          ],
          "name": "stdout"
        }
      ]
    },
    {
      "cell_type": "markdown",
      "metadata": {
        "id": "ZN_CJ4sOp4on",
        "colab_type": "text"
      },
      "source": [
        "When a function returns a tuple or list, the result can be **unpacked** into multiple named variables for convenience."
      ]
    },
    {
      "cell_type": "code",
      "metadata": {
        "id": "SFoRX6y3mpME",
        "colab_type": "code",
        "colab": {
          "base_uri": "https://localhost:8080/",
          "height": 90
        },
        "outputId": "0a2da934-7830-4c55-fd08-7e38260fdbc7"
      },
      "source": [
        "x = 4\n",
        "first, second, third = powers(x)\n",
        "\n",
        "print(f'Result of powers({x}) was unpacked into 3 variables...')\n",
        "print(f'first:  {first}')\n",
        "print(f'second: {second}')\n",
        "print(f'third:  {third}')"
      ],
      "execution_count": null,
      "outputs": [
        {
          "output_type": "stream",
          "text": [
            "Result of powers(4) was unpacked into 3 variables...\n",
            "first:  4\n",
            "second: 16\n",
            "third:  64\n"
          ],
          "name": "stdout"
        }
      ]
    },
    {
      "cell_type": "markdown",
      "metadata": {
        "id": "Mt_msWYiqOr9",
        "colab_type": "text"
      },
      "source": [
        "To partially unpack the returned values and discard the rest, use `_` as a placeholder for the results you do not care about."
      ]
    },
    {
      "cell_type": "code",
      "metadata": {
        "id": "nMbhhoQSqCpC",
        "colab_type": "code",
        "colab": {
          "base_uri": "https://localhost:8080/",
          "height": 54
        },
        "outputId": "b8bf9d1f-5495-42d0-ff37-307de6446881"
      },
      "source": [
        "x = 4\n",
        "first, _, _ = powers(x)\n",
        "\n",
        "print(f'The first result of powers({x}) was unpacked but the others were discarded...')\n",
        "print(f'first:  {first}')"
      ],
      "execution_count": null,
      "outputs": [
        {
          "output_type": "stream",
          "text": [
            "The first result of powers(4) was unpacked but the others were discarded...\n",
            "first:  4\n"
          ],
          "name": "stdout"
        }
      ]
    },
    {
      "cell_type": "markdown",
      "metadata": {
        "id": "IQF561jVKsMx",
        "colab_type": "text"
      },
      "source": [
        "STOPPED HERE AT END OF AUGUST 23 SESSION\n",
        "\n",
        "---"
      ]
    },
    {
      "cell_type": "markdown",
      "metadata": {
        "id": "ptJrJUavqk85",
        "colab_type": "text"
      },
      "source": [
        "If an asterisk (`*`) precedes an argument name in the function definition, that argument name stands for a sequence of inputs."
      ]
    },
    {
      "cell_type": "code",
      "metadata": {
        "id": "w6Swtlprp5Fb",
        "colab_type": "code",
        "colab": {
          "base_uri": "https://localhost:8080/",
          "height": 35
        },
        "outputId": "a8c607f3-52e7-4cd9-8178-61a37b25c57d"
      },
      "source": [
        "def my_func(*args):\n",
        "    # everything passed to my_func is stored in args\n",
        "    return args\n",
        "\n",
        "# the retuned object is a tuple containing all of the inputs\n",
        "my_func(123, 'abc', True)"
      ],
      "execution_count": null,
      "outputs": [
        {
          "output_type": "execute_result",
          "data": {
            "text/plain": [
              "(123, 'abc', True)"
            ]
          },
          "metadata": {
            "tags": []
          },
          "execution_count": 22
        }
      ]
    },
    {
      "cell_type": "markdown",
      "metadata": {
        "id": "WlEzWbjPq8bP",
        "colab_type": "text"
      },
      "source": [
        "This is useful when the number of inputs is allowed to vary. For example, this function can take any number of numeric inputs, sums them, and returns a list of the cumulative sums:"
      ]
    },
    {
      "cell_type": "code",
      "metadata": {
        "id": "HW-ZFhZzrs88",
        "colab_type": "code",
        "colab": {
          "base_uri": "https://localhost:8080/",
          "height": 54
        },
        "outputId": "4770a1fe-2997-4f09-f39e-ca3b2f17d9db"
      },
      "source": [
        "def cumulative_sum(*nums):\n",
        "    result = [0]\n",
        "    for x in nums:\n",
        "        result.append(result[-1] + x)\n",
        "    return result[1:]\n",
        "\n",
        "print(f'Result for input 10:       {cumulative_sum(10)}')\n",
        "print(f'Result for inputs 1, 2, 3: {cumulative_sum(1, 2, 3)}')"
      ],
      "execution_count": null,
      "outputs": [
        {
          "output_type": "stream",
          "text": [
            "Result for input 10:       [10]\n",
            "Result for inputs 1, 2, 3: [1, 3, 6]\n"
          ],
          "name": "stdout"
        }
      ]
    },
    {
      "cell_type": "markdown",
      "metadata": {
        "id": "UJpMeGBPrgFu",
        "colab_type": "text"
      },
      "source": [
        "Notice that this is different from passing a list as the first argument."
      ]
    },
    {
      "cell_type": "code",
      "metadata": {
        "id": "6JVuUa-esfqE",
        "colab_type": "code",
        "colab": {
          "base_uri": "https://localhost:8080/",
          "height": 319
        },
        "outputId": "441ddbe6-fb35-4eb0-fdce-9f831ec65354"
      },
      "source": [
        "# this does not work because nums should be naked numeric values, not a list\n",
        "cumulative_sum([1, 2, 3])"
      ],
      "execution_count": null,
      "outputs": [
        {
          "output_type": "error",
          "ename": "TypeError",
          "evalue": "ignored",
          "traceback": [
            "\u001b[0;31m---------------------------------------------------------------------------\u001b[0m",
            "\u001b[0;31mTypeError\u001b[0m                                 Traceback (most recent call last)",
            "\u001b[0;32m<ipython-input-24-b326e4e74a4c>\u001b[0m in \u001b[0;36m<module>\u001b[0;34m()\u001b[0m\n\u001b[1;32m      1\u001b[0m \u001b[0;31m# this does not work because nums should be naked numeric values, not a list\u001b[0m\u001b[0;34m\u001b[0m\u001b[0;34m\u001b[0m\u001b[0;34m\u001b[0m\u001b[0m\n\u001b[0;32m----> 2\u001b[0;31m \u001b[0mcumulative_sum\u001b[0m\u001b[0;34m(\u001b[0m\u001b[0;34m[\u001b[0m\u001b[0;36m1\u001b[0m\u001b[0;34m,\u001b[0m \u001b[0;36m2\u001b[0m\u001b[0;34m,\u001b[0m \u001b[0;36m3\u001b[0m\u001b[0;34m]\u001b[0m\u001b[0;34m)\u001b[0m\u001b[0;34m\u001b[0m\u001b[0;34m\u001b[0m\u001b[0m\n\u001b[0m",
            "\u001b[0;32m<ipython-input-23-18b29a464dbb>\u001b[0m in \u001b[0;36mcumulative_sum\u001b[0;34m(*nums)\u001b[0m\n\u001b[1;32m      2\u001b[0m     \u001b[0mresult\u001b[0m \u001b[0;34m=\u001b[0m \u001b[0;34m[\u001b[0m\u001b[0;36m0\u001b[0m\u001b[0;34m]\u001b[0m\u001b[0;34m\u001b[0m\u001b[0;34m\u001b[0m\u001b[0m\n\u001b[1;32m      3\u001b[0m     \u001b[0;32mfor\u001b[0m \u001b[0mx\u001b[0m \u001b[0;32min\u001b[0m \u001b[0mnums\u001b[0m\u001b[0;34m:\u001b[0m\u001b[0;34m\u001b[0m\u001b[0;34m\u001b[0m\u001b[0m\n\u001b[0;32m----> 4\u001b[0;31m         \u001b[0mresult\u001b[0m\u001b[0;34m.\u001b[0m\u001b[0mappend\u001b[0m\u001b[0;34m(\u001b[0m\u001b[0mresult\u001b[0m\u001b[0;34m[\u001b[0m\u001b[0;34m-\u001b[0m\u001b[0;36m1\u001b[0m\u001b[0;34m]\u001b[0m \u001b[0;34m+\u001b[0m \u001b[0mx\u001b[0m\u001b[0;34m)\u001b[0m\u001b[0;34m\u001b[0m\u001b[0;34m\u001b[0m\u001b[0m\n\u001b[0m\u001b[1;32m      5\u001b[0m     \u001b[0;32mreturn\u001b[0m \u001b[0mresult\u001b[0m\u001b[0;34m[\u001b[0m\u001b[0;36m1\u001b[0m\u001b[0;34m:\u001b[0m\u001b[0;34m]\u001b[0m\u001b[0;34m\u001b[0m\u001b[0;34m\u001b[0m\u001b[0m\n\u001b[1;32m      6\u001b[0m \u001b[0;34m\u001b[0m\u001b[0m\n",
            "\u001b[0;31mTypeError\u001b[0m: unsupported operand type(s) for +: 'int' and 'list'"
          ]
        }
      ]
    },
    {
      "cell_type": "markdown",
      "metadata": {
        "id": "kImaFt5Jr3yR",
        "colab_type": "text"
      },
      "source": [
        "If a double asterisk (`**`) is used in the function definition before an argument name, that argument represents all **keyword arguments**, which are arguments that must be specified by name when the function is called."
      ]
    },
    {
      "cell_type": "code",
      "metadata": {
        "id": "k69Kxi5Eq2eA",
        "colab_type": "code",
        "colab": {
          "base_uri": "https://localhost:8080/",
          "height": 35
        },
        "outputId": "50e06bec-48af-4530-a978-8a576a75866a"
      },
      "source": [
        "def my_func(*args, **kwargs):\n",
        "    return args, kwargs\n",
        "\n",
        "my_func(123, 'abc', True, one=1, two=2)"
      ],
      "execution_count": null,
      "outputs": [
        {
          "output_type": "execute_result",
          "data": {
            "text/plain": [
              "((123, 'abc', True), {'one': 1, 'two': 2})"
            ]
          },
          "metadata": {
            "tags": []
          },
          "execution_count": 25
        }
      ]
    },
    {
      "cell_type": "markdown",
      "metadata": {
        "id": "Kw_vsBH0K0OT",
        "colab_type": "text"
      },
      "source": [
        "## Classes"
      ]
    },
    {
      "cell_type": "markdown",
      "metadata": {
        "id": "hw6EXThtM0IX",
        "colab_type": "text"
      },
      "source": [
        "Let's create a custom **subclass** of the list data type. This class will be designed on the assumption that all values within the list are numbers (which is not true of all lists in general). For now, we won't worry about checking that this assumption is correct.\n",
        "\n",
        "Since we are creating a new list-like class for numbers, let's call it `NumericalList`. In this first version, we'll just use the `pass` keyword to skip adding anything new."
      ]
    },
    {
      "cell_type": "code",
      "metadata": {
        "id": "wZj-eb0nKzpd",
        "colab_type": "code",
        "colab": {}
      },
      "source": [
        "class NumericalList(list):\n",
        "    pass # do nothing new"
      ],
      "execution_count": null,
      "outputs": []
    },
    {
      "cell_type": "code",
      "metadata": {
        "id": "GrWH5j4iK61-",
        "colab_type": "code",
        "colab": {
          "base_uri": "https://localhost:8080/",
          "height": 54
        },
        "outputId": "1d9e44e1-0e03-4fe0-f4ba-673aca172ac0"
      },
      "source": [
        "my_nlist = NumericalList([1, 6, 1, 12])\n",
        "print(my_nlist)\n",
        "print(type(my_nlist))"
      ],
      "execution_count": null,
      "outputs": [
        {
          "output_type": "stream",
          "text": [
            "[1, 6, 1, 12]\n",
            "<class '__main__.NumericalList'>\n"
          ],
          "name": "stdout"
        }
      ]
    },
    {
      "cell_type": "markdown",
      "metadata": {
        "id": "29m7S3T6Px_a",
        "colab_type": "text"
      },
      "source": [
        "Here we would say that `list` is the **parent class** of `NumericalList`. Our new class **inherits** the features of its parent and can be customized with new features (or the existing ones can be changed).\n",
        "\n",
        "For example, the number of items in a list (its length) can be counted using the built-in `len()` function. The countability of lists is a feature that `NumericalList` inherits:"
      ]
    },
    {
      "cell_type": "code",
      "metadata": {
        "id": "XTUjA_TzPY8N",
        "colab_type": "code",
        "colab": {
          "base_uri": "https://localhost:8080/",
          "height": 35
        },
        "outputId": "1cebb11c-355a-4c9f-e537-d313b8eba851"
      },
      "source": [
        "len(my_nlist)"
      ],
      "execution_count": null,
      "outputs": [
        {
          "output_type": "execute_result",
          "data": {
            "text/plain": [
              "4"
            ]
          },
          "metadata": {
            "tags": []
          },
          "execution_count": 28
        }
      ]
    },
    {
      "cell_type": "markdown",
      "metadata": {
        "id": "0eWprdrZRX23",
        "colab_type": "text"
      },
      "source": [
        "Similarly, `NumericalList` inherits the `list` methods, like `append()`."
      ]
    },
    {
      "cell_type": "code",
      "metadata": {
        "id": "6Sb67ev0RS5n",
        "colab_type": "code",
        "colab": {
          "base_uri": "https://localhost:8080/",
          "height": 35
        },
        "outputId": "b3ae40da-f9a0-48ea-ab20-e80bc2d41e33"
      },
      "source": [
        "my_nlist.append(99)\n",
        "my_nlist"
      ],
      "execution_count": null,
      "outputs": [
        {
          "output_type": "execute_result",
          "data": {
            "text/plain": [
              "[1, 6, 1, 12, 99]"
            ]
          },
          "metadata": {
            "tags": []
          },
          "execution_count": 29
        }
      ]
    },
    {
      "cell_type": "markdown",
      "metadata": {
        "id": "x4hjQdhcM-Or",
        "colab_type": "text"
      },
      "source": [
        "So far, `NumericalList` has no useful features beyond those of its parent. Let's add one! Below we redefine the class with a new `mean()` method, which is something ordinary lists lack. Note `pass` is not needed anymore; it was needed earlier only because *something* must come after the initial semicolon."
      ]
    },
    {
      "cell_type": "code",
      "metadata": {
        "id": "T_3aD3oGLoQ6",
        "colab_type": "code",
        "colab": {}
      },
      "source": [
        "class NumericalList(list):\n",
        "    def mean(self):\n",
        "        return sum(self)/len(self)"
      ],
      "execution_count": null,
      "outputs": []
    },
    {
      "cell_type": "code",
      "metadata": {
        "id": "gVwDoXL8L00f",
        "colab_type": "code",
        "colab": {
          "base_uri": "https://localhost:8080/",
          "height": 35
        },
        "outputId": "22db36f7-a8e5-4fe4-dd90-81782977541b"
      },
      "source": [
        "my_nlist = NumericalList([1, 6, 1, 12])\n",
        "my_nlist.mean()"
      ],
      "execution_count": null,
      "outputs": [
        {
          "output_type": "execute_result",
          "data": {
            "text/plain": [
              "5.0"
            ]
          },
          "metadata": {
            "tags": []
          },
          "execution_count": 31
        }
      ]
    },
    {
      "cell_type": "markdown",
      "metadata": {
        "id": "Uf_2SCEuNIn-",
        "colab_type": "text"
      },
      "source": [
        "Note that all method functions need to take at least one argument, which is conventionally named `self`. This serves as a name for the `NumericalList` itself within the function.\n",
        "\n",
        "For the sake of demonstration, let's add another method called `size()`, which just returns the length:"
      ]
    },
    {
      "cell_type": "code",
      "metadata": {
        "id": "VN2StbLGLQDa",
        "colab_type": "code",
        "colab": {}
      },
      "source": [
        "class NumericalList(list):\n",
        "    def mean(self):\n",
        "        return sum(self)/len(self)\n",
        "    \n",
        "    def size(self):\n",
        "        return len(self)"
      ],
      "execution_count": null,
      "outputs": []
    },
    {
      "cell_type": "code",
      "metadata": {
        "id": "jNgZYbq3LeIL",
        "colab_type": "code",
        "colab": {
          "base_uri": "https://localhost:8080/",
          "height": 35
        },
        "outputId": "566c6ed9-d0e7-4b37-e259-c3b062434857"
      },
      "source": [
        "my_nlist = NumericalList([1, 6, 1, 12])\n",
        "my_nlist.size()"
      ],
      "execution_count": null,
      "outputs": [
        {
          "output_type": "execute_result",
          "data": {
            "text/plain": [
              "4"
            ]
          },
          "metadata": {
            "tags": []
          },
          "execution_count": 33
        }
      ]
    },
    {
      "cell_type": "markdown",
      "metadata": {
        "id": "NL7ZCtUwNPYd",
        "colab_type": "text"
      },
      "source": [
        "We can use a special **decorator**, `@property`, to mark the `size()` function as a **property**. This will allow (require, actually) `size` to be used without the parentheses."
      ]
    },
    {
      "cell_type": "code",
      "metadata": {
        "id": "SUAR2EYkMWUM",
        "colab_type": "code",
        "colab": {}
      },
      "source": [
        "class NumericalList(list):\n",
        "    def mean(self):\n",
        "        return sum(self)/len(self)\n",
        "    \n",
        "    @property\n",
        "    def size(self):\n",
        "        return len(self)"
      ],
      "execution_count": null,
      "outputs": []
    },
    {
      "cell_type": "code",
      "metadata": {
        "id": "l2xkGxGuNfV8",
        "colab_type": "code",
        "colab": {
          "base_uri": "https://localhost:8080/",
          "height": 35
        },
        "outputId": "626e46e6-69ef-46bb-9f0f-839018c0e001"
      },
      "source": [
        "my_nlist = NumericalList([1, 6, 1, 12])\n",
        "my_nlist.size"
      ],
      "execution_count": null,
      "outputs": [
        {
          "output_type": "execute_result",
          "data": {
            "text/plain": [
              "4"
            ]
          },
          "metadata": {
            "tags": []
          },
          "execution_count": 35
        }
      ]
    },
    {
      "cell_type": "markdown",
      "metadata": {
        "id": "HQNfkwnb0Th7",
        "colab_type": "text"
      },
      "source": [
        "---\n",
        "\n",
        "**TODO: Getting fancy...**"
      ]
    },
    {
      "cell_type": "code",
      "metadata": {
        "id": "PsKqVocd0Vm0",
        "colab_type": "code",
        "colab": {
          "base_uri": "https://localhost:8080/",
          "height": 35
        },
        "outputId": "cb71b769-859c-4f1c-fd59-e0312679b303"
      },
      "source": [
        "class NumericalList(list):\n",
        "    def mean(self):\n",
        "        return sum(self)/len(self)\n",
        "    \n",
        "    @property\n",
        "    def size(self):\n",
        "        return len(self)\n",
        "    \n",
        "    def __add__(self, other):\n",
        "        return [x+y for x, y in zip(self, other)]\n",
        "    def __sub__(self, other):\n",
        "        return [x-y for x, y in zip(self, other)]\n",
        "    def __mul__(self, factor):\n",
        "        return [x*factor for x in self]\n",
        "    def __truediv__(self, factor):\n",
        "        return [x/factor for x in self]\n",
        "    def __neg__(self):\n",
        "        return [-x for x in self]\n",
        "\n",
        "list1 = NumericalList([1, 6, 1, 12])\n",
        "list2 = NumericalList([4, 3, 7, 9])\n",
        "\n",
        "# list1+list2\n",
        "list1-list2\n",
        "# list1*5\n",
        "# list1/5\n",
        "# -list1"
      ],
      "execution_count": null,
      "outputs": [
        {
          "output_type": "execute_result",
          "data": {
            "text/plain": [
              "[-3, 3, -6, 3]"
            ]
          },
          "metadata": {
            "tags": []
          },
          "execution_count": 36
        }
      ]
    },
    {
      "cell_type": "markdown",
      "metadata": {
        "id": "tvhXFvyh0Uhh",
        "colab_type": "text"
      },
      "source": [
        "---"
      ]
    },
    {
      "cell_type": "markdown",
      "metadata": {
        "id": "E6z4qCDVODYg",
        "colab_type": "text"
      },
      "source": [
        "Let's create another custom class. This one will be designed for representing a sequence of voltage samples, like those obtained in electrophysiology experiments. The `mean()` function and `size` property of our `NumericalList` class will be useful, so let's build another subclass, but this time instead of subclassing `list`, we'll subclass `NumericalList`. Let's call this new class `VoltageSignal`, and we'll begin with nothing added (just using `pass` again):"
      ]
    },
    {
      "cell_type": "code",
      "metadata": {
        "id": "6_DxNpd0UgcW",
        "colab_type": "code",
        "colab": {}
      },
      "source": [
        "class VoltageSignal(NumericalList):\n",
        "    pass # do nothing new"
      ],
      "execution_count": null,
      "outputs": []
    },
    {
      "cell_type": "code",
      "metadata": {
        "id": "5JBsNmNMVFJd",
        "colab_type": "code",
        "colab": {
          "base_uri": "https://localhost:8080/",
          "height": 54
        },
        "outputId": "f5679efb-28c6-404e-edf4-ce4859ec83cf"
      },
      "source": [
        "my_sig = VoltageSignal([1, 6, 1, 12])\n",
        "print(my_sig)\n",
        "print(type(my_sig))"
      ],
      "execution_count": null,
      "outputs": [
        {
          "output_type": "stream",
          "text": [
            "[1, 6, 1, 12]\n",
            "<class '__main__.VoltageSignal'>\n"
          ],
          "name": "stdout"
        }
      ]
    },
    {
      "cell_type": "markdown",
      "metadata": {
        "id": "s4BHlKLsVP-j",
        "colab_type": "text"
      },
      "source": [
        "Voltages could be represented with different units, like millivolts or microvolts, so it would be useful for our class to store the units when it is created, allowing that information to be accessed later. We should require that information at the time the `VoltageSignal` is created.\n",
        "\n",
        "**TODO: Explain double underscore methods and initialization...**"
      ]
    },
    {
      "cell_type": "code",
      "metadata": {
        "id": "xzh2v1LhV-xi",
        "colab_type": "code",
        "colab": {}
      },
      "source": [
        "class VoltageSignal(NumericalList):\n",
        "    def __init__(self, data):\n",
        "        super().__init__(data)"
      ],
      "execution_count": null,
      "outputs": []
    },
    {
      "cell_type": "code",
      "metadata": {
        "id": "x1Ww-q2SWHXN",
        "colab_type": "code",
        "colab": {
          "base_uri": "https://localhost:8080/",
          "height": 54
        },
        "outputId": "3bb0b29e-fe11-4ca4-c340-8eb1a7a03ba9"
      },
      "source": [
        "my_sig = VoltageSignal([1, 6, 1, 12])\n",
        "print(my_sig)\n",
        "print(type(my_sig))"
      ],
      "execution_count": null,
      "outputs": [
        {
          "output_type": "stream",
          "text": [
            "[1, 6, 1, 12]\n",
            "<class '__main__.VoltageSignal'>\n"
          ],
          "name": "stdout"
        }
      ]
    },
    {
      "cell_type": "markdown",
      "metadata": {
        "id": "rJvlUwipX2F_",
        "colab_type": "text"
      },
      "source": [
        "So far we haven't done anything new. We've merely set the table for introducing new things. Let's now require that a second argument is provided after the numerical data, and let's store it as the `units` attribute."
      ]
    },
    {
      "cell_type": "code",
      "metadata": {
        "id": "WzlHImiGYHo9",
        "colab_type": "code",
        "colab": {}
      },
      "source": [
        "class VoltageSignal(NumericalList):\n",
        "    def __init__(self, data, units):\n",
        "        super().__init__(data)\n",
        "        self.units = units"
      ],
      "execution_count": null,
      "outputs": []
    },
    {
      "cell_type": "code",
      "metadata": {
        "colab_type": "code",
        "id": "geF-ZEk4YQyG",
        "colab": {
          "base_uri": "https://localhost:8080/",
          "height": 54
        },
        "outputId": "0dc5f697-433e-403e-cb45-4e2ca190e17f"
      },
      "source": [
        "my_sig = VoltageSignal([1, 6, 1, 12], 'mV')\n",
        "print(my_sig)\n",
        "print(my_sig.units)"
      ],
      "execution_count": null,
      "outputs": [
        {
          "output_type": "stream",
          "text": [
            "[1, 6, 1, 12]\n",
            "mV\n"
          ],
          "name": "stdout"
        }
      ]
    },
    {
      "cell_type": "markdown",
      "metadata": {
        "id": "_ERpGAExYZxT",
        "colab_type": "text"
      },
      "source": [
        "Let's do something useful with the units by adding a method that can convert between millivolts and microvolts, or vice versa. We'll have it change the values in place."
      ]
    },
    {
      "cell_type": "code",
      "metadata": {
        "id": "uPQRa1TrYkdy",
        "colab_type": "code",
        "colab": {}
      },
      "source": [
        "class VoltageSignal(NumericalList):\n",
        "    def __init__(self, data, units):\n",
        "        super().__init__(data)\n",
        "        self.units = units\n",
        "    \n",
        "    def convert(self, new_units):\n",
        "        if self.units == 'mV' and new_units == 'uV':\n",
        "            factor = 1000\n",
        "        elif self.units == 'uV' and new_units == 'mV':\n",
        "            factor = 1/1000\n",
        "        else:\n",
        "            print('bad units!')\n",
        "            return\n",
        "        new_data = [x*factor for x in self]\n",
        "        return VoltageSignal(new_data, new_units)"
      ],
      "execution_count": null,
      "outputs": []
    },
    {
      "cell_type": "code",
      "metadata": {
        "id": "1kcQk173ZV-Z",
        "colab_type": "code",
        "colab": {
          "base_uri": "https://localhost:8080/",
          "height": 54
        },
        "outputId": "c1bf1c50-e1ad-4d6a-d77b-7593787d6c7e"
      },
      "source": [
        "my_sig = VoltageSignal([1, 6, 1, 12], 'mV')\n",
        "my_sig_converted = my_sig.convert('uV')\n",
        "print(my_sig_converted)\n",
        "print(my_sig_converted.units)"
      ],
      "execution_count": null,
      "outputs": [
        {
          "output_type": "stream",
          "text": [
            "[1000, 6000, 1000, 12000]\n",
            "uV\n"
          ],
          "name": "stdout"
        }
      ]
    },
    {
      "cell_type": "code",
      "metadata": {
        "id": "guwwP_cEaatF",
        "colab_type": "code",
        "colab": {
          "base_uri": "https://localhost:8080/",
          "height": 54
        },
        "outputId": "72ad26ad-75a2-4f32-f35e-3d04bcca3309"
      },
      "source": [
        "my_sig = VoltageSignal([1, 6, 1, 12], 'uV')\n",
        "my_sig_converted = my_sig.convert('mV')\n",
        "print(my_sig_converted)\n",
        "print(my_sig_converted.units)"
      ],
      "execution_count": null,
      "outputs": [
        {
          "output_type": "stream",
          "text": [
            "[0.001, 0.006, 0.001, 0.012]\n",
            "mV\n"
          ],
          "name": "stdout"
        }
      ]
    },
    {
      "cell_type": "markdown",
      "metadata": {
        "id": "X5P6Zvxdau60",
        "colab_type": "text"
      },
      "source": [
        "We still have access to the methods inherited from `NumericalList`."
      ]
    },
    {
      "cell_type": "code",
      "metadata": {
        "id": "jeHaAmD7at9E",
        "colab_type": "code",
        "colab": {
          "base_uri": "https://localhost:8080/",
          "height": 35
        },
        "outputId": "a221dc49-1297-4c56-af02-d6d9928bfdf3"
      },
      "source": [
        "print(f'The mean voltage is {my_sig.mean()} {my_sig.units}. This is equivalent to {my_sig_converted.mean()} {my_sig_converted.units}.')"
      ],
      "execution_count": null,
      "outputs": [
        {
          "output_type": "stream",
          "text": [
            "The mean voltage is 5.0 uV. This is equivalent to 0.005 mV.\n"
          ],
          "name": "stdout"
        }
      ]
    },
    {
      "cell_type": "markdown",
      "metadata": {
        "id": "p2CPFqukS442",
        "colab_type": "text"
      },
      "source": [
        "## Handling Errors with Try-Except"
      ]
    },
    {
      "cell_type": "markdown",
      "metadata": {
        "id": "zkGScQnmTLwz",
        "colab_type": "text"
      },
      "source": [
        "TODO"
      ]
    },
    {
      "cell_type": "markdown",
      "metadata": {
        "id": "c07TBHdokweE",
        "colab_type": "text"
      },
      "source": [
        "# Continue to the Next Lesson\n",
        "\n",
        "Return to home to continue to the next lession:\n",
        "\n",
        "https://jpgill86.github.io/python-for-neuroscientists/"
      ]
    },
    {
      "cell_type": "markdown",
      "metadata": {
        "id": "ywlbOi3FUWgK",
        "colab_type": "text"
      },
      "source": [
        "# External Resources"
      ]
    },
    {
      "cell_type": "markdown",
      "metadata": {
        "id": "Nl36l9SJSGG9",
        "colab_type": "text"
      },
      "source": [
        "The official language documentation:\n",
        "\n",
        "* [Python 3 documentation](https://docs.python.org/3/index.html)\n",
        "* [Built-in functions](https://docs.python.org/3/library/functions.html)\n",
        "* [Standard libraries](https://docs.python.org/3/library/index.html)\n",
        "* [Glossary of terms](https://docs.python.org/3/glossary.html)\n",
        "* [In-depth tutorial](https://docs.python.org/3/tutorial/index.html)\n",
        "\n",
        "Extended language documentation:\n",
        "* [IPython (Jupyter) vs. Python differences](https://ipython.readthedocs.io/en/stable/interactive/python-ipython-diff.html)\n",
        "* [IPython (Jupyter) \"magic\" (`%`) commands](https://ipython.readthedocs.io/en/stable/interactive/magics.html)\n",
        "\n",
        "Free interactive books created by Jake VanderPlas:\n",
        "\n",
        "* [A Whirlwind Tour of Python](https://colab.research.google.com/github/jakevdp/WhirlwindTourOfPython/blob/master/Index.ipynb) [[PDF version]](https://www.oreilly.com/programming/free/files/a-whirlwind-tour-of-python.pdf)\n",
        "* [Python Data Science Handbook](https://colab.research.google.com/github/jakevdp/PythonDataScienceHandbook/blob/master/notebooks/Index.ipynb)"
      ]
    },
    {
      "cell_type": "markdown",
      "metadata": {
        "id": "n-KhMl8xk1Ze",
        "colab_type": "text"
      },
      "source": [
        "# License\n",
        "\n",
        "[This work](https://github.com/jpgill86/python-for-neuroscientists) is licensed under a [Creative Commons Attribution 4.0 International\n",
        "License](http://creativecommons.org/licenses/by/4.0/)."
      ]
    }
  ]
}