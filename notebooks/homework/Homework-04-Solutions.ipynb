{
  "nbformat": 4,
  "nbformat_minor": 0,
  "metadata": {
    "colab": {
      "name": "Homework-04-Solutions.ipynb",
      "provenance": [],
      "collapsed_sections": [],
      "authorship_tag": "ABX9TyNIXK1BqudgbJCKoF86JovL",
      "include_colab_link": true
    },
    "kernelspec": {
      "name": "python3",
      "display_name": "Python 3"
    }
  },
  "cells": [
    {
      "cell_type": "markdown",
      "metadata": {
        "id": "view-in-github",
        "colab_type": "text"
      },
      "source": [
        "<a href=\"https://colab.research.google.com/github/jpgill86/python-for-neuroscientists/blob/master/notebooks/homework/Homework-04-Solutions.ipynb\" target=\"_parent\"><img src=\"https://colab.research.google.com/assets/colab-badge.svg\" alt=\"Open In Colab\"/></a>"
      ]
    },
    {
      "cell_type": "markdown",
      "metadata": {
        "id": "PTET_rqkUyEU",
        "colab_type": "text"
      },
      "source": [
        "# Q1: Doubling with a Lambda Function"
      ]
    },
    {
      "cell_type": "markdown",
      "metadata": {
        "id": "TQzR7PJ4U2vk",
        "colab_type": "text"
      },
      "source": [
        "Use `map()` with a `lambda` function to create a new list from the input in which each number is doubled. Note that you could do the same thing with a list comprehension, but this problem is asking you to test your skills with `map()` and `lambda`."
      ]
    },
    {
      "cell_type": "code",
      "metadata": {
        "id": "qcJNUouqVDDx",
        "colab_type": "code",
        "colab": {}
      },
      "source": [
        "# double the values of this list using map() and a lambda function\n",
        "my_list = [2, -45, 91, 54, -234, 65]"
      ],
      "execution_count": null,
      "outputs": []
    },
    {
      "cell_type": "markdown",
      "metadata": {
        "id": "NED0VMuyVl4Z",
        "colab_type": "text"
      },
      "source": [
        "---\n",
        "Solution:"
      ]
    },
    {
      "cell_type": "code",
      "metadata": {
        "id": "QVayzXaOVMmi",
        "colab_type": "code",
        "colab": {
          "base_uri": "https://localhost:8080/",
          "height": 35
        },
        "outputId": "58508739-4493-43e4-c78d-6e3da8045f98"
      },
      "source": [
        "list(map(lambda x: 2*x, my_list))"
      ],
      "execution_count": null,
      "outputs": [
        {
          "output_type": "execute_result",
          "data": {
            "text/plain": [
              "[4, -90, 182, 108, -468, 130]"
            ]
          },
          "metadata": {
            "tags": []
          },
          "execution_count": 2
        }
      ]
    },
    {
      "cell_type": "markdown",
      "metadata": {
        "id": "ZrEeP9VkVtxE",
        "colab_type": "text"
      },
      "source": [
        "# Q2: Sorting with a Lambda Function"
      ]
    },
    {
      "cell_type": "markdown",
      "metadata": {
        "id": "H9pFSD3jVvtG",
        "colab_type": "text"
      },
      "source": [
        "The built-in function `sorted()` can be applied to a list to sort it. Here is a simple example:"
      ]
    },
    {
      "cell_type": "code",
      "metadata": {
        "id": "hW0oiitlWA5H",
        "colab_type": "code",
        "colab": {
          "base_uri": "https://localhost:8080/",
          "height": 35
        },
        "outputId": "6afb60e1-ea90-4b70-dfee-8c242e60a145"
      },
      "source": [
        "sorted([40, -20, 32, -49, -45, 7])"
      ],
      "execution_count": null,
      "outputs": [
        {
          "output_type": "execute_result",
          "data": {
            "text/plain": [
              "[-49, -45, -20, 7, 32, 40]"
            ]
          },
          "metadata": {
            "tags": []
          },
          "execution_count": 3
        }
      ]
    },
    {
      "cell_type": "markdown",
      "metadata": {
        "id": "sBRYljw-WFcH",
        "colab_type": "text"
      },
      "source": [
        "`sorted()` can be applied to more complicated lists and used with custom sorting criteria. To create a custom criterion for sorting, a function can be given as the `key` parameter to `sorted()` (not to be confused with dictionary keys; this is just the name of the function parameter). For example, this code sorts a list of ordered pairs, putting them in ascending order of their maximum values:"
      ]
    },
    {
      "cell_type": "code",
      "metadata": {
        "id": "_NolRc7kV2Dm",
        "colab_type": "code",
        "colab": {
          "base_uri": "https://localhost:8080/",
          "height": 35
        },
        "outputId": "5f06b50b-3f23-424f-c1ee-5c0786ee5fca"
      },
      "source": [
        "sorted([(11, 8), (9, 7), (5, 17), (2, 18), (1, 10)], key=max)"
      ],
      "execution_count": null,
      "outputs": [
        {
          "output_type": "execute_result",
          "data": {
            "text/plain": [
              "[(9, 7), (1, 10), (11, 8), (5, 17), (2, 18)]"
            ]
          },
          "metadata": {
            "tags": []
          },
          "execution_count": 4
        }
      ]
    },
    {
      "cell_type": "markdown",
      "metadata": {
        "id": "2AQQDvghX8RZ",
        "colab_type": "text"
      },
      "source": [
        "In the example above, the `max` function was applied to each item in the list (each ordered pair of numbers), one at a time. This yielded a single number for each pair: 11, 9, 17, 18, 10. These max values were then used as the sorting criteria. That is, the smallest max was 9, belonging to `(9, 7)`, so that pair was ordered first; the largest max was 18, belonging to `(2, 18)`, so that pair was ordered last.\n",
        "\n",
        "Instead of a built-in function like `max`, a `lambda` function may be used to specify more complicated sorting criteria.\n",
        "\n",
        "**For this problem, use `sorted()` and a `lambda` function to sort the following species data by the year each species received its scientific name.**"
      ]
    },
    {
      "cell_type": "code",
      "metadata": {
        "id": "CQ-kBl-BPK37",
        "colab_type": "code",
        "colab": {}
      },
      "source": [
        "# sort this list by year using sorted() and a lambda function\n",
        "species_dicts = [\n",
        " {'common':  'California sea hare',\n",
        "  'genus':   'Aplysia',\n",
        "  'species': 'californica',\n",
        "  'year':    1863},\n",
        " {'common':  'Giant kelp',\n",
        "  'genus':   'Macrocystis',\n",
        "  'species': 'pyrifera',\n",
        "  'year':    1820},\n",
        " {'common':  'Blueband hermit crab',\n",
        "  'genus':   'Pagurus',\n",
        "  'species': 'samuelis',\n",
        "  'year':    1857}\n",
        "]"
      ],
      "execution_count": null,
      "outputs": []
    },
    {
      "cell_type": "markdown",
      "metadata": {
        "id": "m8Lj360Bb1H2",
        "colab_type": "text"
      },
      "source": [
        "---\n",
        "Solution:"
      ]
    },
    {
      "cell_type": "code",
      "metadata": {
        "id": "iCRuIabERwXT",
        "colab_type": "code",
        "colab": {
          "base_uri": "https://localhost:8080/",
          "height": 235
        },
        "outputId": "7536135c-c43e-45c9-f0e5-a9ad1baf92a5"
      },
      "source": [
        "sorted(species_dicts, key = lambda d: d['year'])"
      ],
      "execution_count": null,
      "outputs": [
        {
          "output_type": "execute_result",
          "data": {
            "text/plain": [
              "[{'common': 'Giant kelp',\n",
              "  'genus': 'Macrocystis',\n",
              "  'species': 'pyrifera',\n",
              "  'year': 1820},\n",
              " {'common': 'Blueband hermit crab',\n",
              "  'genus': 'Pagurus',\n",
              "  'species': 'samuelis',\n",
              "  'year': 1857},\n",
              " {'common': 'California sea hare',\n",
              "  'genus': 'Aplysia',\n",
              "  'species': 'californica',\n",
              "  'year': 1863}]"
            ]
          },
          "metadata": {
            "tags": []
          },
          "execution_count": 6
        }
      ]
    },
    {
      "cell_type": "markdown",
      "metadata": {
        "id": "74dcyivaclxR",
        "colab_type": "text"
      },
      "source": [
        "# Q3: Interactive Input and Tuple Unpacking"
      ]
    },
    {
      "cell_type": "markdown",
      "metadata": {
        "id": "xGItdXcsjdR5",
        "colab_type": "text"
      },
      "source": [
        "The built-in `input()` function creates an interactive text prompt. After the user types something and presses Enter/Return, the `input()` function returns the typed string, which can be saved to a variable.\n",
        "\n",
        "For example, try running the code cell below, entering some text in the text prompt that appears, and then pressing Enter/Return:"
      ]
    },
    {
      "cell_type": "code",
      "metadata": {
        "id": "Yr77r3pLkC8Y",
        "colab_type": "code",
        "colab": {
          "base_uri": "https://localhost:8080/",
          "height": 53
        },
        "outputId": "a0fd81d0-ddd9-4deb-d5a2-d5b2d4f86465"
      },
      "source": [
        "x = input('Enter some text: ')\n",
        "print(f'You typed \"{x}\"')"
      ],
      "execution_count": null,
      "outputs": [
        {
          "output_type": "stream",
          "text": [
            "Enter some text: This is a test\n",
            "You typed \"This is a test\"\n"
          ],
          "name": "stdout"
        }
      ]
    },
    {
      "cell_type": "markdown",
      "metadata": {
        "id": "yKWTSoyWdigD",
        "colab_type": "text"
      },
      "source": [
        "**For this problem, complete the following:**\n",
        "1. Define a function called `test_integer` that takes no inputs.\n",
        "2. Within the function, use `x = int(input('Enter an integer: '))` to request an integer from the user.\n",
        "3. The function should then return 3 values:\n",
        "    * the input integer\n",
        "    * a bool (`True` or `False`) indicating if the integer is positive, and\n",
        "    * a bool (`True` or `False`) indicating if the integer is even.\n",
        "4. Following the function definition, call your function and unpack the 3 returned values into 3 separate variables called `x`, `positive`, and `even`. Calling and unpacking should be done in a single line of code.\n",
        "5. After this, print messages telling the user whether their input was positive and whether their input was even.\n",
        "6. Test your function of a variety of inputs to make sure it works.\n",
        "7. Add an informative docstring to your function and display it using `help(test_integer)`."
      ]
    },
    {
      "cell_type": "markdown",
      "metadata": {
        "id": "D8N6vowDhH4a",
        "colab_type": "text"
      },
      "source": [
        "---\n",
        "Solution:"
      ]
    },
    {
      "cell_type": "code",
      "metadata": {
        "id": "hzKRKm0EcnYL",
        "colab_type": "code",
        "colab": {
          "base_uri": "https://localhost:8080/",
          "height": 90
        },
        "outputId": "2f0d69e1-3c38-4d4f-acb7-d44aeef4aac8"
      },
      "source": [
        "def test_integer():\n",
        "    '''Prompts for an integer and returns 3 values:\n",
        "       (1) the input integer,\n",
        "       (2) whether the integer is positive, and\n",
        "       (3) whether the integer is even.'''\n",
        "\n",
        "    x = int(input('Enter an integer: '))\n",
        "    return x, x>0, x%2==0\n",
        "\n",
        "x, positive, even = test_integer()\n",
        "print(f\"{x} is {'positive' if positive else 'not positive'}\")\n",
        "print(f\"{x} is {'even' if even else 'odd'}\")\n",
        "print()"
      ],
      "execution_count": null,
      "outputs": [
        {
          "output_type": "stream",
          "text": [
            "Enter an integer: -8\n",
            "-8 is not positive\n",
            "-8 is even\n",
            "\n"
          ],
          "name": "stdout"
        }
      ]
    },
    {
      "cell_type": "code",
      "metadata": {
        "id": "PinNfWEAdJIo",
        "colab_type": "code",
        "colab": {
          "base_uri": "https://localhost:8080/",
          "height": 162
        },
        "outputId": "92d94de1-a9af-4143-dba1-19555eaef2e6"
      },
      "source": [
        "help(test_integer)"
      ],
      "execution_count": null,
      "outputs": [
        {
          "output_type": "stream",
          "text": [
            "Help on function test_integer in module __main__:\n",
            "\n",
            "test_integer()\n",
            "    Prompts for an integer and returns 3 values:\n",
            "    (1) the input integer,\n",
            "    (2) whether the integer is positive, and\n",
            "    (3) whether the integer is even.\n",
            "\n"
          ],
          "name": "stdout"
        }
      ]
    }
  ]
}