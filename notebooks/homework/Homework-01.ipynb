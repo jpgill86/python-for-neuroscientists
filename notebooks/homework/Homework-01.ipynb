{
  "nbformat": 4,
  "nbformat_minor": 0,
  "metadata": {
    "colab": {
      "name": "Homework-01.ipynb",
      "provenance": [],
      "collapsed_sections": [],
      "authorship_tag": "ABX9TyMp4nsf4RJO0sBvJj0K0GqV",
      "include_colab_link": true
    },
    "kernelspec": {
      "name": "python3",
      "display_name": "Python 3"
    }
  },
  "cells": [
    {
      "cell_type": "markdown",
      "metadata": {
        "id": "view-in-github",
        "colab_type": "text"
      },
      "source": [
        "<a href=\"https://colab.research.google.com/github/jpgill86/python-for-neuroscientists/blob/master/notebooks/homework/Homework-01.ipynb\" target=\"_parent\"><img src=\"https://colab.research.google.com/assets/colab-badge.svg\" alt=\"Open In Colab\"/></a>"
      ]
    },
    {
      "cell_type": "markdown",
      "metadata": {
        "id": "s5AYoIQU9Dih",
        "colab_type": "text"
      },
      "source": [
        "# Q1: Text cells\n"
      ]
    },
    {
      "cell_type": "markdown",
      "metadata": {
        "id": "xH6oeboz_WWC",
        "colab_type": "text"
      },
      "source": [
        "Try creating a new text cell below this one, filled with whatever you want. Familiarize yourself with the toolbar that appears above it (with the bold and italics buttons). Experiment with some of the things that Markdown can do, shown here: https://colab.research.google.com/notebooks/markdown_guide.ipynb\n"
      ]
    },
    {
      "cell_type": "markdown",
      "metadata": {
        "id": "psjPEpOB9yFJ",
        "colab_type": "text"
      },
      "source": [
        "# Q2: Displaying multiple variables"
      ]
    },
    {
      "cell_type": "markdown",
      "metadata": {
        "id": "wJpy276w_Szd",
        "colab_type": "text"
      },
      "source": [
        "Modify this code cell so that it displays the values of each variable, not just the last."
      ]
    },
    {
      "cell_type": "code",
      "metadata": {
        "id": "fiOGuc5o-KJu",
        "colab_type": "code",
        "colab": {}
      },
      "source": [
        "x = 1\n",
        "y = 2\n",
        "z = 3\n",
        "\n",
        "x\n",
        "y\n",
        "z"
      ],
      "execution_count": null,
      "outputs": []
    },
    {
      "cell_type": "markdown",
      "metadata": {
        "id": "j_99vQkc8Bxx",
        "colab_type": "text"
      },
      "source": [
        "# Q3: F-strings"
      ]
    },
    {
      "cell_type": "markdown",
      "metadata": {
        "id": "asj6NrvF_Nrz",
        "colab_type": "text"
      },
      "source": [
        "Using f-strings (format strings) and the variables below, print the following sentence:\n",
        "\n",
        "> Eric Kandel's Nobel Prize for his work on Aplysia was awarded 20 years ago.\n",
        "\n",
        "If you've forgotten how f-strings work, [try Googling it](https://www.google.com/search?q=python+f-string)! That's what the pros do too!"
      ]
    },
    {
      "cell_type": "code",
      "metadata": {
        "id": "sJ1DO-2p75Td",
        "colab_type": "code",
        "colab": {}
      },
      "source": [
        "first_name = 'Eric'\n",
        "last_name = 'Kandel'\n",
        "year_nobel_awarded = 2000\n",
        "current_year = 2020"
      ],
      "execution_count": null,
      "outputs": []
    },
    {
      "cell_type": "markdown",
      "metadata": {
        "id": "KIUYh-4s-qJz",
        "colab_type": "text"
      },
      "source": [
        "# Q4: Debugging code"
      ]
    },
    {
      "cell_type": "markdown",
      "metadata": {
        "id": "goFbRWPE_Ipf",
        "colab_type": "text"
      },
      "source": [
        "The following code contains 10 mistakes. Fix them! The output should be\n",
        "\n",
        "> It is False that -5 is positive and 0 equals zero.\n",
        "\n",
        "Read the error messages carefully. They are there to help you but sometimes require a little thinking to understand. Pay attention to the red squiggly underline as well. It marks the place where a problem is likely to be."
      ]
    },
    {
      "cell_type": "code",
      "metadata": {
        "id": "ig_J3VFn8OQw",
        "colab_type": "code",
        "colab": {}
      },
      "source": [
        "x = -5\n",
        "y = 0\n",
        "\n",
        "if x > 0 or y = 0:\n",
        "    conditions_met = true\n",
        " else\n",
        "    conditions_met = false\n",
        "\n",
        "print('It is {conditions_met} that {y} is positive and {x) equals zero.'"
      ],
      "execution_count": null,
      "outputs": []
    }
  ]
}