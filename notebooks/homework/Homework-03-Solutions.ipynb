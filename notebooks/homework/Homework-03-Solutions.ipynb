{
  "nbformat": 4,
  "nbformat_minor": 0,
  "metadata": {
    "colab": {
      "name": "Homework-03-Solutions.ipynb",
      "provenance": [],
      "collapsed_sections": [],
      "authorship_tag": "ABX9TyOVy9KgEJUgnE/d4S2Sc4aE",
      "include_colab_link": true
    },
    "kernelspec": {
      "name": "python3",
      "display_name": "Python 3"
    }
  },
  "cells": [
    {
      "cell_type": "markdown",
      "metadata": {
        "id": "view-in-github",
        "colab_type": "text"
      },
      "source": [
        "<a href=\"https://colab.research.google.com/github/jpgill86/python-for-neuroscientists/blob/master/notebooks/homework/Homework-03-Solutions.ipynb\" target=\"_parent\"><img src=\"https://colab.research.google.com/assets/colab-badge.svg\" alt=\"Open In Colab\"/></a>"
      ]
    },
    {
      "cell_type": "markdown",
      "metadata": {
        "id": "P4zHQgLGSh9j",
        "colab_type": "text"
      },
      "source": [
        "# Sum of digits\n",
        "\n"
      ]
    },
    {
      "cell_type": "markdown",
      "metadata": {
        "id": "BHdP___KTYQK",
        "colab_type": "text"
      },
      "source": [
        "Create a function that accepts a nonnegative integer as input and returns the sum of its digits.\n",
        "\n",
        "There are several ways to do this, but here are some hints for one method:\n",
        "* The input integer can be converted to a string using `str()`.\n",
        "* A `for` loop can iterate over the digits in the string.\n",
        "* Each digit can be converted from a string back into an integer using `int()`.\n",
        "\n",
        "Show that your function works by testing it on these and other values: 123, 456, 789, 1008, 0, 999999"
      ]
    },
    {
      "cell_type": "markdown",
      "metadata": {
        "id": "kCpTdTrjWn31",
        "colab_type": "text"
      },
      "source": [
        "Solution:"
      ]
    },
    {
      "cell_type": "code",
      "metadata": {
        "id": "BEFDWrn4VRz5",
        "colab_type": "code",
        "colab": {}
      },
      "source": [
        "def sumDigits(x):\n",
        "    total = 0\n",
        "    for d in str(x):\n",
        "        total += int(d)\n",
        "    return total"
      ],
      "execution_count": null,
      "outputs": []
    },
    {
      "cell_type": "code",
      "metadata": {
        "id": "5VDUjwigVdSt",
        "colab_type": "code",
        "colab": {
          "base_uri": "https://localhost:8080/",
          "height": 35
        },
        "outputId": "c06b4387-c762-4568-8c2a-e7cac56dc242"
      },
      "source": [
        "list(map(sumDigits, [123, 456, 789, 1008, 0, 999999]))"
      ],
      "execution_count": null,
      "outputs": [
        {
          "output_type": "execute_result",
          "data": {
            "text/plain": [
              "[6, 15, 24, 9, 0, 54]"
            ]
          },
          "metadata": {
            "tags": []
          },
          "execution_count": 2
        }
      ]
    },
    {
      "cell_type": "markdown",
      "metadata": {
        "id": "3QeiRmeFWwV0",
        "colab_type": "text"
      },
      "source": [
        "Compact solution using built-in function `sum()`:"
      ]
    },
    {
      "cell_type": "code",
      "metadata": {
        "id": "C_zldtK_Xtya",
        "colab_type": "code",
        "colab": {}
      },
      "source": [
        "def sumDigits2(x):\n",
        "    return sum([int(d) for d in str(x)])"
      ],
      "execution_count": null,
      "outputs": []
    },
    {
      "cell_type": "code",
      "metadata": {
        "id": "-hcDnQeJXACV",
        "colab_type": "code",
        "colab": {
          "base_uri": "https://localhost:8080/",
          "height": 35
        },
        "outputId": "ded771e2-69ae-4402-c655-4ede10c85b42"
      },
      "source": [
        "list(map(sumDigits2, [123, 456, 789, 1008, 0, 999999]))"
      ],
      "execution_count": null,
      "outputs": [
        {
          "output_type": "execute_result",
          "data": {
            "text/plain": [
              "[6, 15, 24, 9, 0, 54]"
            ]
          },
          "metadata": {
            "tags": []
          },
          "execution_count": 4
        }
      ]
    },
    {
      "cell_type": "markdown",
      "metadata": {
        "id": "g_VO37UhWpju",
        "colab_type": "text"
      },
      "source": [
        "Alternate solution that does not use strings:"
      ]
    },
    {
      "cell_type": "code",
      "metadata": {
        "id": "3ujsIfMgVeHn",
        "colab_type": "code",
        "colab": {}
      },
      "source": [
        "def sumDigits3(x):\n",
        "    total = 0\n",
        "    while x > 0:\n",
        "        # r = x % 10\n",
        "        # x = x // 10\n",
        "        x, r = divmod(x, 10)\n",
        "        total += r\n",
        "    return total"
      ],
      "execution_count": null,
      "outputs": []
    },
    {
      "cell_type": "code",
      "metadata": {
        "id": "3TFWjTJwWib5",
        "colab_type": "code",
        "colab": {
          "base_uri": "https://localhost:8080/",
          "height": 35
        },
        "outputId": "1ea0418e-b0fa-4989-a4d5-df99a03fc46a"
      },
      "source": [
        "list(map(sumDigits3, [123, 456, 789, 1008, 0, 999999]))"
      ],
      "execution_count": null,
      "outputs": [
        {
          "output_type": "execute_result",
          "data": {
            "text/plain": [
              "[6, 15, 24, 9, 0, 54]"
            ]
          },
          "metadata": {
            "tags": []
          },
          "execution_count": 6
        }
      ]
    }
  ]
}