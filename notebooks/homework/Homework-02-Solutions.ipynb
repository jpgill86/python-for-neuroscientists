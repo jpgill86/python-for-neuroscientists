{
  "nbformat": 4,
  "nbformat_minor": 0,
  "metadata": {
    "colab": {
      "name": "Homework-02-Solutions.ipynb",
      "provenance": [],
      "collapsed_sections": [],
      "authorship_tag": "ABX9TyMCdVNzwJRja0HfRbeXKKlx",
      "include_colab_link": true
    },
    "kernelspec": {
      "name": "python3",
      "display_name": "Python 3"
    }
  },
  "cells": [
    {
      "cell_type": "markdown",
      "metadata": {
        "id": "view-in-github",
        "colab_type": "text"
      },
      "source": [
        "<a href=\"https://colab.research.google.com/github/jpgill86/python-for-neuroscientists/blob/master/notebooks/homework/Homework-02-Solutions.ipynb\" target=\"_parent\"><img src=\"https://colab.research.google.com/assets/colab-badge.svg\" alt=\"Open In Colab\"/></a>"
      ]
    },
    {
      "cell_type": "markdown",
      "metadata": {
        "id": "9BmgcqWTZvwF",
        "colab_type": "text"
      },
      "source": [
        "# The Caesar Cipher"
      ]
    },
    {
      "cell_type": "markdown",
      "metadata": {
        "id": "sTfMuPMwZ9Bu",
        "colab_type": "text"
      },
      "source": [
        "A [Caeser cipher](https://en.wikipedia.org/wiki/Caesar_cipher) is a simple message encryption scheme where each letter of the message is replaced by another letter some fixed number of positions away from it in the alphabet. If necessary, the counting of positions wraps around to the other side of the alphabet.\n",
        "\n",
        "For example, with a shift of -2, each letter of the message would be replaced by the letter 2 positions before it:\n",
        "\n",
        "```\n",
        "a --> y\n",
        "b --> z\n",
        "c --> a\n",
        "d --> b\n",
        "e --> c\n",
        "f --> d\n",
        "```\n",
        "\n",
        "and so on. In this way, the message\n",
        "\n",
        "```\n",
        "asafesecret\n",
        "```\n",
        "\n",
        "would become\n",
        "\n",
        "```\n",
        "yqydcqcapcr\n",
        "```\n",
        "\n",
        "To decipher a message, the letters just need to be shifted in the other direction by the same number of positions:\n",
        "\n",
        "```\n",
        "a --> c\n",
        "b --> d\n",
        "c --> e\n",
        "d --> f\n",
        "e --> g\n",
        "f --> h\n",
        "```\n",
        "\n",
        "You are tasked with deciphering an encrypted message: **fcqvoapsoi**\n",
        "\n",
        "You are told this message was enciphered with a **shift of +14**. You know therefore that you need to apply a **shift of -14** to decipher the message.\n",
        "\n",
        "There may be many ways to do this, including brute force solving it in your head, but to complete this homework problem successfully you must follow my instructions!\n",
        "\n",
        "I will give you the letters of the alphabet in order:"
      ]
    },
    {
      "cell_type": "code",
      "metadata": {
        "id": "zP6m-ngsgYtI",
        "colab_type": "code",
        "colab": {}
      },
      "source": [
        "letters = 'abcdefghijklmnopqrstuvwxyz'"
      ],
      "execution_count": 1,
      "outputs": []
    },
    {
      "cell_type": "markdown",
      "metadata": {
        "id": "EDQU-Q1Fgdin",
        "colab_type": "text"
      },
      "source": [
        "I will also give you the numbers 0 through 25:"
      ]
    },
    {
      "cell_type": "code",
      "metadata": {
        "id": "feNAkvEggbpk",
        "colab_type": "code",
        "colab": {}
      },
      "source": [
        "numbers = list(range(26))"
      ],
      "execution_count": 2,
      "outputs": []
    },
    {
      "cell_type": "markdown",
      "metadata": {
        "id": "a0a6SDzlgpGL",
        "colab_type": "text"
      },
      "source": [
        "**Step 1:** Using the variables `letters` and `numbers`, create a dictionary called `letter2num`, where the letters are the keys and the numbers are the values. If you are successful, then `letter2num['f']` should result in 5 (because `numbers` starts with 0).\n",
        "\n",
        "Hint: Use the `zip()` function."
      ]
    },
    {
      "cell_type": "code",
      "metadata": {
        "id": "2pnZcr4igoKZ",
        "colab_type": "code",
        "colab": {
          "base_uri": "https://localhost:8080/",
          "height": 55
        },
        "outputId": "daea9284-25bb-47a3-939a-4342fd6cad22"
      },
      "source": [
        "# STEP 1: Create a dictionary that maps letters to numbers\n",
        "letter2num = dict(zip(letters, numbers))\n",
        "print(letter2num)"
      ],
      "execution_count": 3,
      "outputs": [
        {
          "output_type": "stream",
          "text": [
            "{'a': 0, 'b': 1, 'c': 2, 'd': 3, 'e': 4, 'f': 5, 'g': 6, 'h': 7, 'i': 8, 'j': 9, 'k': 10, 'l': 11, 'm': 12, 'n': 13, 'o': 14, 'p': 15, 'q': 16, 'r': 17, 's': 18, 't': 19, 'u': 20, 'v': 21, 'w': 22, 'x': 23, 'y': 24, 'z': 25}\n"
          ],
          "name": "stdout"
        }
      ]
    },
    {
      "cell_type": "markdown",
      "metadata": {
        "id": "_l8lq8dChHVR",
        "colab_type": "text"
      },
      "source": [
        "**Step 2:** Convert the encrypted message, also called the ciphertext, from letters to numbers using a list comprehension, and store the result in `nums`. If you are successful, then the first number should be 5, corresponding to `f`."
      ]
    },
    {
      "cell_type": "code",
      "metadata": {
        "id": "Suk03rediTDf",
        "colab_type": "code",
        "colab": {
          "base_uri": "https://localhost:8080/",
          "height": 35
        },
        "outputId": "ebe8c8b9-8676-4c4b-feca-8670322f6627"
      },
      "source": [
        "# STEP 2: Convert ciphertext to numbers\n",
        "ciphertext = 'fcqvoapsoi'\n",
        "nums = [letter2num[l] for l in ciphertext]\n",
        "print(nums)"
      ],
      "execution_count": 4,
      "outputs": [
        {
          "output_type": "stream",
          "text": [
            "[5, 2, 16, 21, 14, 0, 15, 18, 14, 8]\n"
          ],
          "name": "stdout"
        }
      ]
    },
    {
      "cell_type": "markdown",
      "metadata": {
        "id": "mfrouNiIiwWF",
        "colab_type": "text"
      },
      "source": [
        "**Step 3:** Copy your list comprehension for `nums` from step 2 into the cell below and modify it there to apply the decoding shift of -14 using the `shift` variable. Think carefully about how to handle wrapping around the alphabet. If you are successful, none of the numbers will be negative, and the initial 5 should be shifted to 17.\n",
        "\n",
        "Hint: Use `%`."
      ]
    },
    {
      "cell_type": "code",
      "metadata": {
        "id": "bepmBtFkjRPF",
        "colab_type": "code",
        "colab": {
          "base_uri": "https://localhost:8080/",
          "height": 35
        },
        "outputId": "0342add8-3b86-4c02-85a0-6ce588a992fe"
      },
      "source": [
        "# STEP 3: Apply the shift\n",
        "shift = -14\n",
        "nums = [(letter2num[l]+shift)%26 for l in ciphertext]\n",
        "print(nums)"
      ],
      "execution_count": 5,
      "outputs": [
        {
          "output_type": "stream",
          "text": [
            "[17, 14, 2, 7, 0, 12, 1, 4, 0, 20]\n"
          ],
          "name": "stdout"
        }
      ]
    },
    {
      "cell_type": "markdown",
      "metadata": {
        "id": "szTOfBNrlNze",
        "colab_type": "text"
      },
      "source": [
        "**Step 4:** Convert the shifted numbers stored in `nums` back to letters to reveal the message. Using the values in `nums` as indices into the `letters` string, construct a list comprehension that creates a list of decoded letters and store that result in `msg`."
      ]
    },
    {
      "cell_type": "code",
      "metadata": {
        "id": "inSGYxWklZHN",
        "colab_type": "code",
        "colab": {
          "base_uri": "https://localhost:8080/",
          "height": 35
        },
        "outputId": "51e85fa2-3f6b-491d-8b1f-1fee2ce693f2"
      },
      "source": [
        "# STEP 4: Convert numbers to letters\n",
        "msg = [letters[i] for i in nums]\n",
        "print(msg)"
      ],
      "execution_count": 6,
      "outputs": [
        {
          "output_type": "stream",
          "text": [
            "['r', 'o', 'c', 'h', 'a', 'm', 'b', 'e', 'a', 'u']\n"
          ],
          "name": "stdout"
        }
      ]
    },
    {
      "cell_type": "markdown",
      "metadata": {
        "id": "zy513IEqm0xD",
        "colab_type": "text"
      },
      "source": [
        "**Step 5**: By now you have deciphered the message, but having the letters printed separately in a list makes it difficult to read. Combine the list of letters in `msg` into a single string.\n",
        "\n",
        "Hint: Use the `join()` member function for strings."
      ]
    },
    {
      "cell_type": "code",
      "metadata": {
        "id": "Wb6da_YWnYsd",
        "colab_type": "code",
        "colab": {
          "base_uri": "https://localhost:8080/",
          "height": 35
        },
        "outputId": "88bfc672-4764-447a-c059-562ff9afa273"
      },
      "source": [
        "# STEP 5: Join the letters together into a single string\n",
        "secret = ''.join(msg)\n",
        "print(secret)"
      ],
      "execution_count": 7,
      "outputs": [
        {
          "output_type": "stream",
          "text": [
            "rochambeau\n"
          ],
          "name": "stdout"
        }
      ]
    },
    {
      "cell_type": "markdown",
      "metadata": {
        "id": "Kka8gLwkoCyu",
        "colab_type": "text"
      },
      "source": [
        "Congrats, [you won, you won, you won, you won!](https://youtu.be/41qJIfzaqlM)"
      ]
    },
    {
      "cell_type": "markdown",
      "metadata": {
        "id": "QkgyzmrH5Rme",
        "colab_type": "text"
      },
      "source": [
        "**Extra credit:** Combine the calculations in steps 3-5 into a single line of code, using just 1 list comprehension instead of 2."
      ]
    },
    {
      "cell_type": "code",
      "metadata": {
        "id": "PaV6Nk5d5qJJ",
        "colab_type": "code",
        "colab": {
          "base_uri": "https://localhost:8080/",
          "height": 35
        },
        "outputId": "3426207e-4632-4019-cf22-d0f3046c0336"
      },
      "source": [
        "# EXTRA CREDIT: Combine the decipher steps into one line with just one list comprehension\n",
        "secret = ''.join([letters[(letter2num[l]+shift)%26] for l in ciphertext])\n",
        "print(secret)"
      ],
      "execution_count": 8,
      "outputs": [
        {
          "output_type": "stream",
          "text": [
            "rochambeau\n"
          ],
          "name": "stdout"
        }
      ]
    },
    {
      "cell_type": "markdown",
      "metadata": {
        "id": "hVAW09IHPyBU",
        "colab_type": "text"
      },
      "source": [
        "**Double extra credit:** I found this ciphertext but don't know what shift was used to encode it. Can you use a `for` loop to check every possible shift for me? *Remember, I am depending on you!*"
      ]
    },
    {
      "cell_type": "code",
      "metadata": {
        "id": "g1-H5T2UQgc9",
        "colab_type": "code",
        "colab": {
          "base_uri": "https://localhost:8080/",
          "height": 489
        },
        "outputId": "738ad887-f69e-49a5-e6ef-7717e11a1469"
      },
      "source": [
        "# DOUBLE EXTRA CREDIT: ???\n",
        "ciphertext = 'locebodynbsxuiyebyfkvdsxo'\n",
        "for shift in range(26):\n",
        "    print(''.join([letters[(letter2num[l]+shift)%26] for l in ciphertext]))"
      ],
      "execution_count": 9,
      "outputs": [
        {
          "output_type": "stream",
          "text": [
            "locebodynbsxuiyebyfkvdsxo\n",
            "mpdfcpezoctyvjzfczglwetyp\n",
            "nqegdqfapduzwkagdahmxfuzq\n",
            "orfhergbqevaxlbhebinygvar\n",
            "psgifshcrfwbymcifcjozhwbs\n",
            "qthjgtidsgxczndjgdkpaixct\n",
            "ruikhujethydaoekhelqbjydu\n",
            "svjlivkfuizebpflifmrckzev\n",
            "twkmjwlgvjafcqgmjgnsdlafw\n",
            "uxlnkxmhwkbgdrhnkhotembgx\n",
            "vymolynixlchesiolipufnchy\n",
            "wznpmzojymdiftjpmjqvgodiz\n",
            "xaoqnapkznejgukqnkrwhpeja\n",
            "ybprobqlaofkhvlrolsxiqfkb\n",
            "zcqspcrmbpgliwmspmtyjrglc\n",
            "adrtqdsncqhmjxntqnuzkshmd\n",
            "besuretodrinkyourovaltine\n",
            "cftvsfupesjolzpvspwbmujof\n",
            "dguwtgvqftkpmaqwtqxcnvkpg\n",
            "ehvxuhwrgulqnbrxurydowlqh\n",
            "fiwyvixshvmrocsyvszepxmri\n",
            "gjxzwjytiwnspdtzwtafqynsj\n",
            "hkyaxkzujxotqeuaxubgrzotk\n",
            "ilzbylavkypurfvbyvchsapul\n",
            "jmaczmbwlzqvsgwczwditbqvm\n",
            "knbdancxmarwthxdaxejucrwn\n"
          ],
          "name": "stdout"
        }
      ]
    },
    {
      "cell_type": "markdown",
      "metadata": {
        "id": "d4OQx5R7SWLF",
        "colab_type": "text"
      },
      "source": [
        "[Did you get it?](https://youtu.be/zdA__2tKoIU)"
      ]
    },
    {
      "cell_type": "markdown",
      "metadata": {
        "id": "8kS36hQdt3wo",
        "colab_type": "text"
      },
      "source": [
        "---\n",
        "Bonus solutions using functions:"
      ]
    },
    {
      "cell_type": "code",
      "metadata": {
        "id": "LLy58sc8QUSj",
        "colab_type": "code",
        "colab": {}
      },
      "source": [
        "letters = 'abcdefghijklmnopqrstuvwxyz'\n",
        "letter2num = dict(zip(letters, range(26)))\n",
        "\n",
        "def encipher(plaintext, shift):\n",
        "    return ''.join([letters[(letter2num[letter]+shift)%26] for letter in plaintext])\n",
        "\n",
        "def decipher(ciphertext, shift):\n",
        "    return encipher(ciphertext, -shift)"
      ],
      "execution_count": 10,
      "outputs": []
    },
    {
      "cell_type": "code",
      "metadata": {
        "id": "w1n6vkCOuR5q",
        "colab_type": "code",
        "colab": {
          "base_uri": "https://localhost:8080/",
          "height": 35
        },
        "outputId": "7c331793-8a4a-486b-adff-2a17397860e0"
      },
      "source": [
        "secret = 'rochambeau'\n",
        "shift = 14\n",
        "\n",
        "ciphertext = encipher(secret, shift)\n",
        "\n",
        "print(secret, '-->', ciphertext, '-->', decipher(ciphertext, shift))"
      ],
      "execution_count": 11,
      "outputs": [
        {
          "output_type": "stream",
          "text": [
            "rochambeau --> fcqvoapsoi --> rochambeau\n"
          ],
          "name": "stdout"
        }
      ]
    },
    {
      "cell_type": "code",
      "metadata": {
        "id": "z3LvnyMNS5zo",
        "colab_type": "code",
        "colab": {
          "base_uri": "https://localhost:8080/",
          "height": 35
        },
        "outputId": "9cc254cd-33ad-45ec-c4ec-14c76ebed65b"
      },
      "source": [
        "secret = 'besuretodrinkyourovaltine'\n",
        "shift = 10\n",
        "\n",
        "ciphertext = encipher(secret, shift)\n",
        "\n",
        "print(secret, '-->', ciphertext, '-->', decipher(ciphertext, shift))"
      ],
      "execution_count": 12,
      "outputs": [
        {
          "output_type": "stream",
          "text": [
            "besuretodrinkyourovaltine --> locebodynbsxuiyebyfkvdsxo --> besuretodrinkyourovaltine\n"
          ],
          "name": "stdout"
        }
      ]
    },
    {
      "cell_type": "markdown",
      "metadata": {
        "id": "05silplY3pU6",
        "colab_type": "text"
      },
      "source": [
        "This version uses no dictionaries at all, just `letters.index()`:"
      ]
    },
    {
      "cell_type": "code",
      "metadata": {
        "id": "L0HQ8r4U3Zzf",
        "colab_type": "code",
        "colab": {}
      },
      "source": [
        "letters = 'abcdefghijklmnopqrstuvwxyz'\n",
        "\n",
        "def encipher(plaintext, shift):\n",
        "    return ''.join([letters[(letters.index(letter)+shift)%26] for letter in plaintext])\n",
        "\n",
        "def decipher(ciphertext, shift):\n",
        "    return encipher(ciphertext, -shift)"
      ],
      "execution_count": 13,
      "outputs": []
    },
    {
      "cell_type": "code",
      "metadata": {
        "id": "oxc_doN_3fN9",
        "colab_type": "code",
        "colab": {}
      },
      "source": [
        ""
      ],
      "execution_count": 13,
      "outputs": []
    }
  ]
}