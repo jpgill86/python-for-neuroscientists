{
  "nbformat": 4,
  "nbformat_minor": 0,
  "metadata": {
    "colab": {
      "name": "Homework-03.ipynb",
      "provenance": [],
      "collapsed_sections": [],
      "authorship_tag": "ABX9TyN+I9X8XwRGwGKEEcNV5TDE",
      "include_colab_link": true
    },
    "kernelspec": {
      "name": "python3",
      "display_name": "Python 3"
    }
  },
  "cells": [
    {
      "cell_type": "markdown",
      "metadata": {
        "id": "view-in-github",
        "colab_type": "text"
      },
      "source": [
        "<a href=\"https://colab.research.google.com/github/jpgill86/python-for-neuroscientists/blob/master/notebooks/homework/Homework-03.ipynb\" target=\"_parent\"><img src=\"https://colab.research.google.com/assets/colab-badge.svg\" alt=\"Open In Colab\"/></a>"
      ]
    },
    {
      "cell_type": "markdown",
      "metadata": {
        "id": "P4zHQgLGSh9j",
        "colab_type": "text"
      },
      "source": [
        "# Sum of digits\n",
        "\n"
      ]
    },
    {
      "cell_type": "markdown",
      "metadata": {
        "id": "BHdP___KTYQK",
        "colab_type": "text"
      },
      "source": [
        "Create a function that accepts a nonnegative integer as input and returns the sum of its digits.\n",
        "\n",
        "There are several ways to do this, but here are some hints for one method:\n",
        "* The input integer can be converted to a string using `str()`.\n",
        "* A `for` loop can iterate over the digits in the string.\n",
        "* Each digit can be converted from a string back into an integer using `int()`.\n",
        "\n",
        "Show that your function works by testing it on these and other values: 123, 456, 789, 1008, 0, 999999"
      ]
    },
    {
      "cell_type": "code",
      "metadata": {
        "id": "zvtlF22ae0Yi",
        "colab_type": "code",
        "colab": {}
      },
      "source": [
        ""
      ],
      "execution_count": null,
      "outputs": []
    }
  ]
}