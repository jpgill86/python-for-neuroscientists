{
  "nbformat": 4,
  "nbformat_minor": 0,
  "metadata": {
    "colab": {
      "name": "Homework-02.ipynb",
      "provenance": [],
      "collapsed_sections": [],
      "authorship_tag": "ABX9TyNkD9a/huSC1a2EIWkHJ2w2",
      "include_colab_link": true
    },
    "kernelspec": {
      "name": "python3",
      "display_name": "Python 3"
    }
  },
  "cells": [
    {
      "cell_type": "markdown",
      "metadata": {
        "id": "view-in-github",
        "colab_type": "text"
      },
      "source": [
        "<a href=\"https://colab.research.google.com/github/jpgill86/python-for-neuroscientists/blob/master/notebooks/homework/Homework-02.ipynb\" target=\"_parent\"><img src=\"https://colab.research.google.com/assets/colab-badge.svg\" alt=\"Open In Colab\"/></a>"
      ]
    },
    {
      "cell_type": "markdown",
      "metadata": {
        "id": "9BmgcqWTZvwF",
        "colab_type": "text"
      },
      "source": [
        "# The Caesar Cipher"
      ]
    },
    {
      "cell_type": "markdown",
      "metadata": {
        "id": "sTfMuPMwZ9Bu",
        "colab_type": "text"
      },
      "source": [
        "A [Caeser cipher](https://en.wikipedia.org/wiki/Caesar_cipher) is a simple message encryption scheme where each letter of the message is replaced by another letter some fixed number of positions away from it in the alphabet. If necessary, the counting of positions wraps around to the other side of the alphabet.\n",
        "\n",
        "For example, with a shift of -2, each letter of the message would be replaced by the letter 2 positions before it:\n",
        "\n",
        "```\n",
        "a --> y\n",
        "b --> z\n",
        "c --> a\n",
        "d --> b\n",
        "e --> c\n",
        "f --> d\n",
        "```\n",
        "\n",
        "and so on. In this way, the message\n",
        "\n",
        "```\n",
        "asafesecret\n",
        "```\n",
        "\n",
        "would become\n",
        "\n",
        "```\n",
        "yqydcqcapcr\n",
        "```\n",
        "\n",
        "To decipher a message, the letters just need to be shifted in the other direction by the same number of positions:\n",
        "\n",
        "```\n",
        "a --> c\n",
        "b --> d\n",
        "c --> e\n",
        "d --> f\n",
        "e --> g\n",
        "f --> h\n",
        "```\n",
        "\n",
        "You are tasked with deciphering an encrypted message: **fcqvoapsoi**\n",
        "\n",
        "You are told this message was enciphered with a **shift of +14**. You know therefore that you need to apply a **shift of -14** to decipher the message.\n",
        "\n",
        "There may be many ways to do this, including brute force solving it in your head, but to complete this homework problem successfully you must follow my instructions!\n",
        "\n",
        "I will give you the letters of the alphabet in order:"
      ]
    },
    {
      "cell_type": "code",
      "metadata": {
        "id": "zP6m-ngsgYtI",
        "colab_type": "code",
        "colab": {}
      },
      "source": [
        "letters = 'abcdefghijklmnopqrstuvwxyz'"
      ],
      "execution_count": null,
      "outputs": []
    },
    {
      "cell_type": "markdown",
      "metadata": {
        "id": "EDQU-Q1Fgdin",
        "colab_type": "text"
      },
      "source": [
        "I will also give you the numbers 0 through 25:"
      ]
    },
    {
      "cell_type": "code",
      "metadata": {
        "id": "feNAkvEggbpk",
        "colab_type": "code",
        "colab": {}
      },
      "source": [
        "numbers = list(range(26))"
      ],
      "execution_count": null,
      "outputs": []
    },
    {
      "cell_type": "markdown",
      "metadata": {
        "id": "a0a6SDzlgpGL",
        "colab_type": "text"
      },
      "source": [
        "**Step 1:** Using the variables `letters` and `numbers`, create a dictionary called `letter2num`, where the letters are the keys and the numbers are the values. If you are successful, then `letter2num['f']` should result in 5 (because `numbers` starts with 0).\n",
        "\n",
        "Hint: Use the `zip()` function."
      ]
    },
    {
      "cell_type": "code",
      "metadata": {
        "id": "2pnZcr4igoKZ",
        "colab_type": "code",
        "colab": {}
      },
      "source": [
        "# STEP 1: Create a dictionary that maps letters to numbers\n",
        "letter2num = \n",
        "print(letter2num)"
      ],
      "execution_count": null,
      "outputs": []
    },
    {
      "cell_type": "markdown",
      "metadata": {
        "id": "_l8lq8dChHVR",
        "colab_type": "text"
      },
      "source": [
        "**Step 2:** Convert the encrypted message, also called the ciphertext, from letters to numbers using a list comprehension, and store the result in `nums`. If you are successful, then the first number should be 5, corresponding to `f`."
      ]
    },
    {
      "cell_type": "code",
      "metadata": {
        "id": "Suk03rediTDf",
        "colab_type": "code",
        "colab": {}
      },
      "source": [
        "# STEP 2: Convert ciphertext to numbers\n",
        "ciphertext = 'fcqvoapsoi'\n",
        "nums = \n",
        "print(nums)"
      ],
      "execution_count": null,
      "outputs": []
    },
    {
      "cell_type": "markdown",
      "metadata": {
        "id": "mfrouNiIiwWF",
        "colab_type": "text"
      },
      "source": [
        "**Step 3:** Copy your list comprehension for `nums` from step 2 into the cell below and modify it there to apply the decoding shift of -14 using the `shift` variable. Think carefully about how to handle wrapping around the alphabet. If you are successful, none of the numbers will be negative, and the initial 5 should be shifted to 17.\n",
        "\n",
        "Hint: Use `%`."
      ]
    },
    {
      "cell_type": "code",
      "metadata": {
        "id": "bepmBtFkjRPF",
        "colab_type": "code",
        "colab": {}
      },
      "source": [
        "# STEP 3: Apply the shift\n",
        "shift = -14\n",
        "nums = \n",
        "print(nums)"
      ],
      "execution_count": null,
      "outputs": []
    },
    {
      "cell_type": "markdown",
      "metadata": {
        "id": "szTOfBNrlNze",
        "colab_type": "text"
      },
      "source": [
        "**Step 4:** Convert the shifted numbers stored in `nums` back to letters to reveal the message. Using the values in `nums` as indices into the `letters` string, construct a list comprehension that creates a list of decoded letters and store that result in `msg`."
      ]
    },
    {
      "cell_type": "code",
      "metadata": {
        "id": "inSGYxWklZHN",
        "colab_type": "code",
        "colab": {}
      },
      "source": [
        "# STEP 4: Convert numbers to letters\n",
        "msg = \n",
        "print(msg)"
      ],
      "execution_count": null,
      "outputs": []
    },
    {
      "cell_type": "markdown",
      "metadata": {
        "id": "zy513IEqm0xD",
        "colab_type": "text"
      },
      "source": [
        "**Step 5**: By now you have deciphered the message, but having the letters printed separately in a list makes it difficult to read. Combine the list of letters in `msg` into a single string.\n",
        "\n",
        "Hint: Use the `join()` member function for strings."
      ]
    },
    {
      "cell_type": "code",
      "metadata": {
        "id": "Wb6da_YWnYsd",
        "colab_type": "code",
        "colab": {}
      },
      "source": [
        "# STEP 5: Join the letters together into a single string\n",
        "secret = \n",
        "print(secret)"
      ],
      "execution_count": null,
      "outputs": []
    },
    {
      "cell_type": "markdown",
      "metadata": {
        "id": "Kka8gLwkoCyu",
        "colab_type": "text"
      },
      "source": [
        "Congrats, [you won, you won, you won, you won!](https://youtu.be/41qJIfzaqlM)"
      ]
    },
    {
      "cell_type": "markdown",
      "metadata": {
        "id": "QkgyzmrH5Rme",
        "colab_type": "text"
      },
      "source": [
        "**Extra credit:** Combine the calculations in steps 3-5 into a single line of code, using just 1 list comprehension instead of 2."
      ]
    },
    {
      "cell_type": "code",
      "metadata": {
        "id": "PaV6Nk5d5qJJ",
        "colab_type": "code",
        "colab": {}
      },
      "source": [
        "# EXTRA CREDIT: Combine the decipher steps into one line with just one list comprehension\n",
        "secret = \n",
        "print(secret)"
      ],
      "execution_count": null,
      "outputs": []
    },
    {
      "cell_type": "markdown",
      "metadata": {
        "id": "hVAW09IHPyBU",
        "colab_type": "text"
      },
      "source": [
        "**Double extra credit:** I found this ciphertext but don't know what shift was used to encode it. Can you use a `for` loop to check every possible shift for me? *Remember, I am depending on you!*"
      ]
    },
    {
      "cell_type": "code",
      "metadata": {
        "id": "g1-H5T2UQgc9",
        "colab_type": "code",
        "colab": {}
      },
      "source": [
        "# DOUBLE EXTRA CREDIT: ???\n",
        "ciphertext = 'locebodynbsxuiyebyfkvdsxo'\n"
      ],
      "execution_count": null,
      "outputs": []
    },
    {
      "cell_type": "markdown",
      "metadata": {
        "id": "d4OQx5R7SWLF",
        "colab_type": "text"
      },
      "source": [
        "[Did you get it?](https://youtu.be/zdA__2tKoIU)"
      ]
    }
  ]
}