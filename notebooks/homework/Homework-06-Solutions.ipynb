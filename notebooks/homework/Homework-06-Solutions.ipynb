{
  "nbformat": 4,
  "nbformat_minor": 0,
  "metadata": {
    "colab": {
      "name": "Homework-06-Solutions.ipynb",
      "provenance": [],
      "collapsed_sections": [],
      "authorship_tag": "ABX9TyNz+xqZLK6h9DeJqJESlFpR",
      "include_colab_link": true
    },
    "kernelspec": {
      "name": "python3",
      "display_name": "Python 3"
    }
  },
  "cells": [
    {
      "cell_type": "markdown",
      "metadata": {
        "id": "view-in-github",
        "colab_type": "text"
      },
      "source": [
        "<a href=\"https://colab.research.google.com/github/jpgill86/python-for-neuroscientists/blob/master/notebooks/homework/Homework-06-Solutions.ipynb\" target=\"_parent\"><img src=\"https://colab.research.google.com/assets/colab-badge.svg\" alt=\"Open In Colab\"/></a>"
      ]
    },
    {
      "cell_type": "markdown",
      "metadata": {
        "id": "SdyMQpX5iJeI",
        "colab_type": "text"
      },
      "source": [
        "# Custom classes"
      ]
    },
    {
      "cell_type": "markdown",
      "metadata": {
        "id": "GQ73AcGPhn8Y",
        "colab_type": "text"
      },
      "source": [
        "Below is a definition for a `NumericalList` class which implements addition, subtraction, multiplication, and division between two `NumericalList`s of equal length, or between one `NumericalList` and a scalar number (`int` or `float`). If any of these binary operators are performed with a different type (such as a string), the code catches that and prints an error. The class also implements simple negation, a `size` property, and a `mean()` method.\n",
        "\n",
        "The `__init__()` method is executed when a `NumericalList` is first created. After initializing the list (parent class) using `super().__init__(data)`, it is possible to perform other tasks by adding more code to `__init__()`, where the comment is located below.\n",
        "\n",
        "**For this problem, modify the class definition to accomplish these goals:**\n",
        "* Add code to `__init__()` (where indicated by the comment) that checks that the inputs are all numbers and prints an informative error message if they are not.\n",
        "* Add a new method called `std()` which returns the standard deviation of the numbers, calculated using this formula: $$\\sigma=\\sqrt{\\frac{\\sum(x_i-\\bar{x})^2}{N-1}},$$ where $\\sigma$ is the standard deviation, $\\bar{x}$ is the mean, $N$ is the length of the list, and $x_i$ represents each number in the list as the numerator is summed ($\\sum$). There is more than one way to compute a square root in Python; you can do it using what you have already learned by raising the expression to the one-half power (i.e., $\\sqrt{y}=y^{1/2}$).\n",
        "* Run the cells below the class definition to verify that your code works as intended."
      ]
    },
    {
      "cell_type": "code",
      "metadata": {
        "id": "9tEaP9DzB-fP",
        "colab_type": "code",
        "colab": {}
      },
      "source": [
        "class NumericalList(list):\n",
        "\n",
        "    def __init__(self, data):\n",
        "        super().__init__(data)\n",
        "\n",
        "        # other code can be placed here to run when a NumericalList is created\n",
        "\n",
        "        #######################################################################\n",
        "        # verify that data contains only numbers\n",
        "        if any(map(lambda x: type(x) not in [int, float], data)):\n",
        "            print('error: NumericalList initialized with non-numerical data')\n",
        "        #######################################################################\n",
        "\n",
        "    def __add__(self, other):\n",
        "        if type(other) == NumericalList:\n",
        "            if len(other) == len(self):\n",
        "                return NumericalList([x+y for x, y in zip(self, other)])\n",
        "            else:\n",
        "                print('error: NumericalLists must have equal length')\n",
        "        elif type(other) in [int, float]:\n",
        "            return NumericalList([x+other for x in self])\n",
        "        else:\n",
        "            print(f'error: object after + has incompatible type {type(other)} but must be a NumericalList, int, or float')\n",
        "\n",
        "    def __sub__(self, other):\n",
        "        if type(other) == NumericalList:\n",
        "            if len(other) == len(self):\n",
        "                return NumericalList([x-y for x, y in zip(self, other)])\n",
        "            else:\n",
        "                print('error: NumericalLists must have equal length')\n",
        "        elif type(other) in [int, float]:\n",
        "            return NumericalList([x-other for x in self])\n",
        "        else:\n",
        "            print(f'error: object after - has incompatible type {type(other)} but must be a NumericalList, int, or float')\n",
        "\n",
        "    def __mul__(self, other):\n",
        "        if type(other) == NumericalList:\n",
        "            if len(other) == len(self):\n",
        "                return NumericalList([x*y for x, y in zip(self, other)])\n",
        "            else:\n",
        "                print('error: NumericalLists must have equal length')\n",
        "        elif type(other) in [int, float]:\n",
        "            return NumericalList([x*other for x in self])\n",
        "        else:\n",
        "            print(f'error: object after * has incompatible type {type(other)} but must be a NumericalList, int, or float')\n",
        "\n",
        "    def __truediv__(self, other):\n",
        "        if type(other) == NumericalList:\n",
        "            if len(other) == len(self):\n",
        "                return NumericalList([x/y for x, y in zip(self, other)])\n",
        "            else:\n",
        "                print('error: NumericalLists must have equal length')\n",
        "        elif type(other) in [int, float]:\n",
        "            return NumericalList([x/other for x in self])\n",
        "        else:\n",
        "            print(f'error: object after / has incompatible type {type(other)} but must be a NumericalList, int, or float')\n",
        "\n",
        "    def __neg__(self):\n",
        "        return NumericalList([-x for x in self])\n",
        "\n",
        "    @property\n",
        "    def size(self):\n",
        "        return len(self)\n",
        "\n",
        "    def mean(self):\n",
        "        return sum(self)/len(self)\n",
        "    \n",
        "    ###########################################################################\n",
        "    def std(self):\n",
        "        return (sum(map(lambda x: (x-self.mean())**2, self))/(len(self)-1))**(1/2)\n",
        "    ###########################################################################"
      ],
      "execution_count": null,
      "outputs": []
    },
    {
      "cell_type": "code",
      "metadata": {
        "id": "2YzSwKUmt_TC",
        "colab_type": "code",
        "colab": {
          "base_uri": "https://localhost:8080/",
          "height": 35
        },
        "outputId": "863136aa-b41c-46c3-e9c4-eb3baed59928"
      },
      "source": [
        "# make sure your changes have not broken the class by trying this test of addition\n",
        "nlist1 = NumericalList([1, 5, 2, 12])\n",
        "nlist2 = NumericalList([4, 3, 7, 9])\n",
        "\n",
        "print(f'{nlist1} + {nlist2} = {nlist1+nlist2}  (should be [5, 8, 9, 21])')"
      ],
      "execution_count": null,
      "outputs": [
        {
          "output_type": "stream",
          "text": [
            "[1, 5, 2, 12] + [4, 3, 7, 9] = [5, 8, 9, 21]  (should be [5, 8, 9, 21])\n"
          ],
          "name": "stdout"
        }
      ]
    },
    {
      "cell_type": "code",
      "metadata": {
        "id": "LR4eAXbeqMP4",
        "colab_type": "code",
        "colab": {
          "base_uri": "https://localhost:8080/",
          "height": 35
        },
        "outputId": "15437cf9-5524-4025-90ec-67fca89dda70"
      },
      "source": [
        "# your code should catch this attempt to create a NumericalList with\n",
        "# non-numbers and print an error message\n",
        "bad_nlist = NumericalList([1.2, 'a', True, 4])"
      ],
      "execution_count": null,
      "outputs": [
        {
          "output_type": "stream",
          "text": [
            "error: NumericalList initialized with non-numerical data\n"
          ],
          "name": "stdout"
        }
      ]
    },
    {
      "cell_type": "code",
      "metadata": {
        "id": "ZQqpDa3ohmhw",
        "colab_type": "code",
        "colab": {
          "base_uri": "https://localhost:8080/",
          "height": 90
        },
        "outputId": "fa2c6343-f5aa-4b24-f5af-2bc7efdcc78f"
      },
      "source": [
        "# test your calculation of the standard deviation with these lists\n",
        "\n",
        "my_nlist = NumericalList([1, 5, 2, 12])\n",
        "print(f'The standard deviation of {my_nlist} is {my_nlist.std()}  (should be 4.967)')\n",
        "\n",
        "my_nlist = NumericalList([-1, 1])\n",
        "print(f'The standard deviation of {my_nlist} is {my_nlist.std()}  (should be 1.414)')\n",
        "\n",
        "my_nlist = NumericalList([1, 2, 3])\n",
        "print(f'The standard deviation of {my_nlist} is {my_nlist.std()}  (should be 1.0)')\n",
        "\n",
        "my_nlist = NumericalList([-24, 4, 7, -1.5])\n",
        "print(f'The standard deviation of {my_nlist} is {my_nlist.std()}  (should be 14.032)')"
      ],
      "execution_count": null,
      "outputs": [
        {
          "output_type": "stream",
          "text": [
            "The standard deviation of [1, 5, 2, 12] is 4.96655480858378  (should be 4.967)\n",
            "The standard deviation of [-1, 1] is 1.4142135623730951  (should be 1.414)\n",
            "The standard deviation of [1, 2, 3] is 1.0  (should be 1.0)\n",
            "The standard deviation of [-24, 4, 7, -1.5] is 14.031957573101955  (should be 14.032)\n"
          ],
          "name": "stdout"
        }
      ]
    },
    {
      "cell_type": "code",
      "metadata": {
        "id": "otDK9MLvudcW",
        "colab_type": "code",
        "colab": {}
      },
      "source": [
        ""
      ],
      "execution_count": null,
      "outputs": []
    }
  ]
}