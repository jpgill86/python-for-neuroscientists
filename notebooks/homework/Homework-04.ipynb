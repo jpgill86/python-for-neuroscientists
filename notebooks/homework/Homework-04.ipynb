{
  "nbformat": 4,
  "nbformat_minor": 0,
  "metadata": {
    "colab": {
      "name": "Homework-04.ipynb",
      "provenance": [],
      "collapsed_sections": [],
      "authorship_tag": "ABX9TyPfMii7MjlmS2gvgJKV10yj",
      "include_colab_link": true
    },
    "kernelspec": {
      "name": "python3",
      "display_name": "Python 3"
    }
  },
  "cells": [
    {
      "cell_type": "markdown",
      "metadata": {
        "id": "view-in-github",
        "colab_type": "text"
      },
      "source": [
        "<a href=\"https://colab.research.google.com/github/jpgill86/python-for-neuroscientists/blob/master/notebooks/homework/Homework-04.ipynb\" target=\"_parent\"><img src=\"https://colab.research.google.com/assets/colab-badge.svg\" alt=\"Open In Colab\"/></a>"
      ]
    },
    {
      "cell_type": "markdown",
      "metadata": {
        "id": "PTET_rqkUyEU",
        "colab_type": "text"
      },
      "source": [
        "# Q1: Doubling with a Lambda Function"
      ]
    },
    {
      "cell_type": "markdown",
      "metadata": {
        "id": "TQzR7PJ4U2vk",
        "colab_type": "text"
      },
      "source": [
        "Use `map()` with a `lambda` function to create a new list from the input in which each number is doubled. Note that you could do the same thing with a list comprehension, but this problem is asking you to test your skills with `map()` and `lambda`."
      ]
    },
    {
      "cell_type": "code",
      "metadata": {
        "id": "qcJNUouqVDDx",
        "colab_type": "code",
        "colab": {}
      },
      "source": [
        "# double the values of this list using map() and a lambda function\n",
        "my_list = [2, -45, 91, 54, -234, 65]"
      ],
      "execution_count": null,
      "outputs": []
    },
    {
      "cell_type": "markdown",
      "metadata": {
        "id": "ZrEeP9VkVtxE",
        "colab_type": "text"
      },
      "source": [
        "# Q2: Sorting with a Lambda Function"
      ]
    },
    {
      "cell_type": "markdown",
      "metadata": {
        "id": "H9pFSD3jVvtG",
        "colab_type": "text"
      },
      "source": [
        "The built-in function `sorted()` can be applied to a list to sort it. Here is a simple example:"
      ]
    },
    {
      "cell_type": "code",
      "metadata": {
        "id": "hW0oiitlWA5H",
        "colab_type": "code",
        "colab": {}
      },
      "source": [
        "sorted([40, -20, 32, -49, -45, 7])"
      ],
      "execution_count": null,
      "outputs": []
    },
    {
      "cell_type": "markdown",
      "metadata": {
        "id": "sBRYljw-WFcH",
        "colab_type": "text"
      },
      "source": [
        "`sorted()` can be applied to more complicated lists and used with custom sorting criteria. To create a custom criterion for sorting, a function can be given as the `key` parameter to `sorted()` (not to be confused with dictionary keys; this is just the name of the function parameter). For example, this code sorts a list of ordered pairs, putting them in ascending order of their maximum values:"
      ]
    },
    {
      "cell_type": "code",
      "metadata": {
        "id": "_NolRc7kV2Dm",
        "colab_type": "code",
        "colab": {}
      },
      "source": [
        "sorted([(11, 8), (9, 7), (5, 17), (2, 18), (1, 10)], key=max)"
      ],
      "execution_count": null,
      "outputs": []
    },
    {
      "cell_type": "markdown",
      "metadata": {
        "id": "2AQQDvghX8RZ",
        "colab_type": "text"
      },
      "source": [
        "In the example above, the `max` function was applied to each item in the list (each ordered pair of numbers), one at a time. This yielded a single number for each pair: 11, 9, 17, 18, 10. These max values were then used as the sorting criteria. That is, the smallest max was 9, belonging to `(9, 7)`, so that pair was ordered first; the largest max was 18, belonging to `(2, 18)`, so that pair was ordered last.\n",
        "\n",
        "Instead of a built-in function like `max`, a `lambda` function may be used to specify more complicated sorting criteria.\n",
        "\n",
        "**For this problem, use `sorted()` and a `lambda` function to sort the following species data by the year each species received its scientific name.**"
      ]
    },
    {
      "cell_type": "code",
      "metadata": {
        "id": "CQ-kBl-BPK37",
        "colab_type": "code",
        "colab": {}
      },
      "source": [
        "# sort this list by year using sorted() and a lambda function\n",
        "species_dicts = [\n",
        " {'common':  'California sea hare',\n",
        "  'genus':   'Aplysia',\n",
        "  'species': 'californica',\n",
        "  'year':    1863},\n",
        " {'common':  'Giant kelp',\n",
        "  'genus':   'Macrocystis',\n",
        "  'species': 'pyrifera',\n",
        "  'year':    1820},\n",
        " {'common':  'Blueband hermit crab',\n",
        "  'genus':   'Pagurus',\n",
        "  'species': 'samuelis',\n",
        "  'year':    1857}\n",
        "]"
      ],
      "execution_count": null,
      "outputs": []
    },
    {
      "cell_type": "markdown",
      "metadata": {
        "id": "74dcyivaclxR",
        "colab_type": "text"
      },
      "source": [
        "# Q3: Interactive Input and Tuple Unpacking"
      ]
    },
    {
      "cell_type": "markdown",
      "metadata": {
        "id": "xGItdXcsjdR5",
        "colab_type": "text"
      },
      "source": [
        "The built-in `input()` function creates an interactive text prompt. After the user types something and presses Enter/Return, the `input()` function returns the typed string, which can be saved to a variable.\n",
        "\n",
        "For example, try running the code cell below, entering some text in the text prompt that appears, and then pressing Enter/Return:"
      ]
    },
    {
      "cell_type": "code",
      "metadata": {
        "id": "Yr77r3pLkC8Y",
        "colab_type": "code",
        "colab": {}
      },
      "source": [
        "x = input('Enter some text: ')\n",
        "print(f'You typed \"{x}\"')"
      ],
      "execution_count": null,
      "outputs": []
    },
    {
      "cell_type": "markdown",
      "metadata": {
        "id": "yKWTSoyWdigD",
        "colab_type": "text"
      },
      "source": [
        "**For this problem, complete the following:**\n",
        "1. Define a function called `test_integer` that takes no inputs.\n",
        "2. Within the function, use `x = int(input('Enter an integer: '))` to request an integer from the user.\n",
        "3. The function should then return 3 values:\n",
        "    * the input integer\n",
        "    * a bool (`True` or `False`) indicating if the integer is positive, and\n",
        "    * a bool (`True` or `False`) indicating if the integer is even.\n",
        "4. Following the function definition, call your function and unpack the 3 returned values into 3 separate variables called `x`, `positive`, and `even`. Calling and unpacking should be done in a single line of code.\n",
        "5. After this, print messages telling the user whether their input was positive and whether their input was even.\n",
        "6. Test your function of a variety of inputs to make sure it works.\n",
        "7. Add an informative docstring to your function and display it using `help(test_integer)`."
      ]
    }
  ]
}