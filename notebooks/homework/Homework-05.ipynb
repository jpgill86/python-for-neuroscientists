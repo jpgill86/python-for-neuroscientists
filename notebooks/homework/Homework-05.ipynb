{
  "nbformat": 4,
  "nbformat_minor": 0,
  "metadata": {
    "colab": {
      "name": "Homework-05.ipynb",
      "provenance": [],
      "collapsed_sections": [],
      "authorship_tag": "ABX9TyO4e3MFW1G6iHDwmSKraIfV",
      "include_colab_link": true
    },
    "kernelspec": {
      "name": "python3",
      "display_name": "Python 3"
    }
  },
  "cells": [
    {
      "cell_type": "markdown",
      "metadata": {
        "id": "view-in-github",
        "colab_type": "text"
      },
      "source": [
        "<a href=\"https://colab.research.google.com/github/jpgill86/python-for-neuroscientists/blob/master/notebooks/homework/Homework-05.ipynb\" target=\"_parent\"><img src=\"https://colab.research.google.com/assets/colab-badge.svg\" alt=\"Open In Colab\"/></a>"
      ]
    },
    {
      "cell_type": "markdown",
      "metadata": {
        "id": "RuuFbe-C-H2d",
        "colab_type": "text"
      },
      "source": [
        "# Functions with Variable Numbers of Inputs"
      ]
    },
    {
      "cell_type": "markdown",
      "metadata": {
        "id": "QnnpQcdA1JxL",
        "colab_type": "text"
      },
      "source": [
        "Normally, when `print()` is called with multiple arguments, they are printed with spaces separating them. For example, all of these inputs are printed on a single line, separated by spaces:"
      ]
    },
    {
      "cell_type": "code",
      "metadata": {
        "id": "d08nYXRUjR0-",
        "colab_type": "code",
        "colab": {}
      },
      "source": [
        "my_string = 'Aplysia californica'\n",
        "my_list = [10, 20, 30]\n",
        "x = 'a'\n",
        "y = 'b'\n",
        "z = 'c'\n",
        "\n",
        "print(my_string, my_list, x, y, z)"
      ],
      "execution_count": null,
      "outputs": []
    },
    {
      "cell_type": "markdown",
      "metadata": {
        "id": "KtvUE09B1ZTS",
        "colab_type": "text"
      },
      "source": [
        "The `print()` function has an optional keyword parameter called `sep` which can be used to change this behavior. Its default value is a single space, `sep=' '`. By calling `print()` with a different value of `sep`, we can change how the inputs are printed. For example:"
      ]
    },
    {
      "cell_type": "code",
      "metadata": {
        "id": "CWUeo-N91xE0",
        "colab_type": "code",
        "colab": {}
      },
      "source": [
        "print(my_string, my_list, x, y, z, sep=' --- ')"
      ],
      "execution_count": null,
      "outputs": []
    },
    {
      "cell_type": "markdown",
      "metadata": {
        "id": "uSDBIFAj13wF",
        "colab_type": "text"
      },
      "source": [
        "Inputs can be printed on separate lines if the thing separating them is a \"new line character\", represented by a special string, `'\\n'`. So, if we use `sep='\\n'` with `print()`, we can get the inputs to print on separate lines:"
      ]
    },
    {
      "cell_type": "code",
      "metadata": {
        "id": "07wy5ekwymjT",
        "colab_type": "code",
        "colab": {}
      },
      "source": [
        "print(my_string, my_list, x, y, z, sep='\\n')"
      ],
      "execution_count": null,
      "outputs": []
    },
    {
      "cell_type": "markdown",
      "metadata": {
        "id": "eEJ0LLoA2gXf",
        "colab_type": "text"
      },
      "source": [
        "Suppose we prefer this printing style and would like to use it over and over again in our code, but we don't like typing \"`, sep='\\n'`\" over and over again because it's awkward or hard to remember. It could make sense to create a new function, called `print_lines()`, which prints in the style we prefer.\n",
        "\n",
        "**Part 1:** Create a new function called `print_lines()` which does the following:\n",
        "1. `print_lines()` should accept a variable number of arguments, just as `print()` does, so that it can be called with zero, one, or many inputs.\n",
        "2. `print_lines()` should call the `print()` function with those arguments and with the `sep='\\n'` parameter so that the inputs are printed on separate lines.\n",
        "3. This can be done in just 2 lines of code (or even just 1 if you are going for maximum compactness!)."
      ]
    },
    {
      "cell_type": "code",
      "metadata": {
        "id": "HbmZWtUnjdVv",
        "colab_type": "code",
        "colab": {}
      },
      "source": [
        "# PART 1: Create the print_lines() function\n"
      ],
      "execution_count": null,
      "outputs": []
    },
    {
      "cell_type": "markdown",
      "metadata": {
        "id": "Q-ce3iJg6GMz",
        "colab_type": "text"
      },
      "source": [
        "Test your function by running the next code cell (without modifying it) and making sure you get the desired output, which should look like this:\n",
        "> ```\n",
        "Aplysia californica\n",
        "[10, 20, 30]\n",
        "a\n",
        "b\n",
        "c\n",
        "```"
      ]
    },
    {
      "cell_type": "code",
      "metadata": {
        "id": "5acKeteO6KLa",
        "colab_type": "code",
        "colab": {}
      },
      "source": [
        "my_string = 'Aplysia californica'\n",
        "my_list = [10, 20, 30]\n",
        "x = 'a'\n",
        "y = 'b'\n",
        "z = 'c'\n",
        "\n",
        "print_lines(my_string, my_list, x, y, z)"
      ],
      "execution_count": null,
      "outputs": []
    },
    {
      "cell_type": "markdown",
      "metadata": {
        "id": "rIBd1STw724b",
        "colab_type": "text"
      },
      "source": [
        "**Part 2:** Supppose you want the things printed by `print_lines()` to really stand out from other things you might print using the normal `print()` function. Copy your definition of `print_lines()` from Part 1 into the cell below and modify it slightly to print \"`--- START ---`\" before the first input and \"`--- END ---`\" after the last input."
      ]
    },
    {
      "cell_type": "code",
      "metadata": {
        "id": "U7HzTPvsjxgM",
        "colab_type": "code",
        "colab": {}
      },
      "source": [
        "# PART 2: Modify the definition for print_lines()\n"
      ],
      "execution_count": null,
      "outputs": []
    },
    {
      "cell_type": "markdown",
      "metadata": {
        "id": "9g_mmKqo80Q9",
        "colab_type": "text"
      },
      "source": [
        "Test your function again by running the next code cell. The output should look like this:\n",
        "> ```\n",
        "--- START ---\n",
        "Aplysia californica\n",
        "[10, 20, 30]\n",
        "a\n",
        "b\n",
        "c\n",
        "--- END ---\n",
        "```"
      ]
    },
    {
      "cell_type": "code",
      "metadata": {
        "id": "yFerqAil848B",
        "colab_type": "code",
        "colab": {}
      },
      "source": [
        "print_lines(my_string, my_list, x, y, z)"
      ],
      "execution_count": null,
      "outputs": []
    },
    {
      "cell_type": "markdown",
      "metadata": {
        "id": "JTO3SSWb67qi",
        "colab_type": "text"
      },
      "source": [
        "**Part 3:** Use `print_lines()` to print every item in `my_list` on a separate line by making a slight modification to the next code cell. The output should look like this:\n",
        "> ```\n",
        "--- START ---\n",
        "10\n",
        "20\n",
        "30\n",
        "--- END ---\n",
        "```"
      ]
    },
    {
      "cell_type": "code",
      "metadata": {
        "id": "KMqEO9Az7UsU",
        "colab_type": "code",
        "colab": {}
      },
      "source": [
        "# PART 3: Print each item in my_list on a separate line\n",
        "print_lines(my_list)"
      ],
      "execution_count": null,
      "outputs": []
    },
    {
      "cell_type": "code",
      "metadata": {
        "id": "mA3NBjaOCNLY",
        "colab_type": "code",
        "colab": {}
      },
      "source": [
        ""
      ],
      "execution_count": null,
      "outputs": []
    }
  ]
}