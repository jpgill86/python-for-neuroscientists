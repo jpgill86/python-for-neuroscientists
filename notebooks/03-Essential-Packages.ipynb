{
  "nbformat": 4,
  "nbformat_minor": 0,
  "metadata": {
    "colab": {
      "name": "03-Essential-Packages.ipynb",
      "provenance": [],
      "collapsed_sections": [
        "T_9CGt0HH4CJ"
      ],
      "include_colab_link": true
    },
    "kernelspec": {
      "name": "python3",
      "display_name": "Python 3"
    }
  },
  "cells": [
    {
      "cell_type": "markdown",
      "metadata": {
        "id": "view-in-github",
        "colab_type": "text"
      },
      "source": [
        "<a href=\"https://colab.research.google.com/github/jpgill86/python-for-neuroscientists/blob/master/notebooks/03-Essential-Packages.ipynb\" target=\"_parent\"><img src=\"https://colab.research.google.com/assets/colab-badge.svg\" alt=\"Open In Colab\"/></a>"
      ]
    },
    {
      "cell_type": "markdown",
      "metadata": {
        "id": "QRtgy8QlUJSM"
      },
      "source": [
        "# NumPy"
      ]
    },
    {
      "cell_type": "code",
      "metadata": {
        "id": "TWqSBbboIbOO"
      },
      "source": [
        "import numpy as np"
      ],
      "execution_count": 15,
      "outputs": []
    },
    {
      "cell_type": "code",
      "metadata": {
        "id": "0fOKE3FEIfWY",
        "outputId": "5669e39f-3ea0-4496-f3b1-04a0186e364c",
        "colab": {
          "base_uri": "https://localhost:8080/",
          "height": 35
        }
      },
      "source": [
        "x = np.array([1, 2, 3, 4, 5, 6])\n",
        "x"
      ],
      "execution_count": 19,
      "outputs": [
        {
          "output_type": "execute_result",
          "data": {
            "text/plain": [
              "array([1, 2, 3, 4, 5, 6])"
            ]
          },
          "metadata": {
            "tags": []
          },
          "execution_count": 19
        }
      ]
    },
    {
      "cell_type": "code",
      "metadata": {
        "id": "OQ9bFOVm_FUr",
        "outputId": "f6be072b-205b-43c8-e7ef-9aa24f1bb034",
        "colab": {
          "base_uri": "https://localhost:8080/",
          "height": 35
        }
      },
      "source": [
        "x = np.arange(6)\n",
        "x"
      ],
      "execution_count": 20,
      "outputs": [
        {
          "output_type": "execute_result",
          "data": {
            "text/plain": [
              "array([0, 1, 2, 3, 4, 5])"
            ]
          },
          "metadata": {
            "tags": []
          },
          "execution_count": 20
        }
      ]
    },
    {
      "cell_type": "code",
      "metadata": {
        "id": "bYG8vmhkKU1w",
        "outputId": "5b4446e7-6feb-4784-e691-6e04672bff93",
        "colab": {
          "base_uri": "https://localhost:8080/",
          "height": 53
        }
      },
      "source": [
        "x = np.arange(6).reshape(2, 3)\n",
        "x"
      ],
      "execution_count": 21,
      "outputs": [
        {
          "output_type": "execute_result",
          "data": {
            "text/plain": [
              "array([[0, 1, 2],\n",
              "       [3, 4, 5]])"
            ]
          },
          "metadata": {
            "tags": []
          },
          "execution_count": 21
        }
      ]
    },
    {
      "cell_type": "code",
      "metadata": {
        "id": "C8QSKCnUJHa5",
        "outputId": "eb03fa7b-5ce5-4a36-ac80-8bc0ef824ce5",
        "colab": {
          "base_uri": "https://localhost:8080/",
          "height": 53
        }
      },
      "source": [
        "np.ones((2, 3)) * 7"
      ],
      "execution_count": 22,
      "outputs": [
        {
          "output_type": "execute_result",
          "data": {
            "text/plain": [
              "array([[7., 7., 7.],\n",
              "       [7., 7., 7.]])"
            ]
          },
          "metadata": {
            "tags": []
          },
          "execution_count": 22
        }
      ]
    },
    {
      "cell_type": "code",
      "metadata": {
        "id": "7CHtnCYC_fZm",
        "outputId": "dc568abc-1c5a-4dc2-9dd5-7df1813afbc0",
        "colab": {
          "base_uri": "https://localhost:8080/",
          "height": 53
        }
      },
      "source": [
        "x = np.arange(6)\n",
        "y = np.ones(6) * 7\n",
        "\n",
        "# element-wise multiplication\n",
        "print(x * y)\n",
        "\n",
        "# matrix multiplication (dot product in this case)\n",
        "print(x.dot(y))"
      ],
      "execution_count": 23,
      "outputs": [
        {
          "output_type": "stream",
          "text": [
            "[ 0.  7. 14. 21. 28. 35.]\n",
            "105.0\n"
          ],
          "name": "stdout"
        }
      ]
    },
    {
      "cell_type": "code",
      "metadata": {
        "id": "KKzjdh-HQ11x",
        "outputId": "532728d5-450b-4a05-dcee-4bc90b1f689c",
        "colab": {
          "base_uri": "https://localhost:8080/",
          "height": 72
        }
      },
      "source": [
        "x = np.arange(12).reshape((3, 4))\n",
        "x"
      ],
      "execution_count": 26,
      "outputs": [
        {
          "output_type": "execute_result",
          "data": {
            "text/plain": [
              "array([[ 0,  1,  2,  3],\n",
              "       [ 4,  5,  6,  7],\n",
              "       [ 8,  9, 10, 11]])"
            ]
          },
          "metadata": {
            "tags": []
          },
          "execution_count": 26
        }
      ]
    },
    {
      "cell_type": "code",
      "metadata": {
        "id": "39Tt09MRRBDd",
        "outputId": "d6495c63-b327-45fd-bb02-b9c7bee5ce04",
        "colab": {
          "base_uri": "https://localhost:8080/",
          "height": 35
        }
      },
      "source": [
        "x[2, 2]"
      ],
      "execution_count": 62,
      "outputs": [
        {
          "output_type": "execute_result",
          "data": {
            "text/plain": [
              "10"
            ]
          },
          "metadata": {
            "tags": []
          },
          "execution_count": 62
        }
      ]
    },
    {
      "cell_type": "code",
      "metadata": {
        "id": "JRZz1icDis42",
        "outputId": "2662260f-5abb-4ab6-bea1-d8267f16efb1",
        "colab": {
          "base_uri": "https://localhost:8080/",
          "height": 35
        }
      },
      "source": [
        "# first row\n",
        "x[0]"
      ],
      "execution_count": 65,
      "outputs": [
        {
          "output_type": "execute_result",
          "data": {
            "text/plain": [
              "array([0, 1, 2, 3])"
            ]
          },
          "metadata": {
            "tags": []
          },
          "execution_count": 65
        }
      ]
    },
    {
      "cell_type": "code",
      "metadata": {
        "id": "IYnC84aXRO_q",
        "outputId": "25c29981-59af-4eab-d21b-809af9c57f8b",
        "colab": {
          "base_uri": "https://localhost:8080/",
          "height": 35
        }
      },
      "source": [
        "# first column\n",
        "x[:, 0]"
      ],
      "execution_count": 66,
      "outputs": [
        {
          "output_type": "execute_result",
          "data": {
            "text/plain": [
              "array([0, 4, 8])"
            ]
          },
          "metadata": {
            "tags": []
          },
          "execution_count": 66
        }
      ]
    },
    {
      "cell_type": "markdown",
      "metadata": {
        "id": "zwFi3SzwAV0I"
      },
      "source": [
        "# SciPy"
      ]
    },
    {
      "cell_type": "markdown",
      "metadata": {
        "id": "oIjChUWMAXkY"
      },
      "source": [
        "# pandas"
      ]
    },
    {
      "cell_type": "code",
      "metadata": {
        "id": "wkhLctIBAlyI"
      },
      "source": [
        "import pandas as pd"
      ],
      "execution_count": 31,
      "outputs": []
    },
    {
      "cell_type": "markdown",
      "metadata": {
        "id": "_6BzgFnIN8xS"
      },
      "source": [
        "[Download this CSV data file](https://raw.githubusercontent.com/jpgill86/python-for-neuroscientists/master/notebooks/data/inedible-food.csv), and then upload it to the Colab server using the \"Files\" tab on the left edge of the screen."
      ]
    },
    {
      "cell_type": "code",
      "metadata": {
        "id": "7aMSW9IuI0tr",
        "outputId": "ce78d4ba-2b8b-4ce3-f834-f18e2eb3152c",
        "colab": {
          "base_uri": "https://localhost:8080/",
          "height": 677
        }
      },
      "source": [
        "df = pd.read_csv('inedible-food.csv')\n",
        "df"
      ],
      "execution_count": 9,
      "outputs": [
        {
          "output_type": "execute_result",
          "data": {
            "text/html": [
              "<div>\n",
              "<style scoped>\n",
              "    .dataframe tbody tr th:only-of-type {\n",
              "        vertical-align: middle;\n",
              "    }\n",
              "\n",
              "    .dataframe tbody tr th {\n",
              "        vertical-align: top;\n",
              "    }\n",
              "\n",
              "    .dataframe thead th {\n",
              "        text-align: right;\n",
              "    }\n",
              "</style>\n",
              "<table border=\"1\" class=\"dataframe\">\n",
              "  <thead>\n",
              "    <tr style=\"text-align: right;\">\n",
              "      <th></th>\n",
              "      <th>Animal</th>\n",
              "      <th>Pair</th>\n",
              "      <th>Training order</th>\n",
              "      <th>Testing order</th>\n",
              "      <th>Food</th>\n",
              "      <th>Training time (s)</th>\n",
              "      <th>Testing time (s)</th>\n",
              "    </tr>\n",
              "  </thead>\n",
              "  <tbody>\n",
              "    <tr>\n",
              "      <th>0</th>\n",
              "      <td>1</td>\n",
              "      <td>1</td>\n",
              "      <td>1</td>\n",
              "      <td>1</td>\n",
              "      <td>Nori</td>\n",
              "      <td>973</td>\n",
              "      <td>1124.0</td>\n",
              "    </tr>\n",
              "    <tr>\n",
              "      <th>1</th>\n",
              "      <td>2</td>\n",
              "      <td>1</td>\n",
              "      <td>2</td>\n",
              "      <td>2</td>\n",
              "      <td>Nori</td>\n",
              "      <td>792</td>\n",
              "      <td>1198.0</td>\n",
              "    </tr>\n",
              "    <tr>\n",
              "      <th>2</th>\n",
              "      <td>3</td>\n",
              "      <td>2</td>\n",
              "      <td>1</td>\n",
              "      <td>1</td>\n",
              "      <td>Nori</td>\n",
              "      <td>2044</td>\n",
              "      <td>1127.0</td>\n",
              "    </tr>\n",
              "    <tr>\n",
              "      <th>3</th>\n",
              "      <td>4</td>\n",
              "      <td>2</td>\n",
              "      <td>2</td>\n",
              "      <td>2</td>\n",
              "      <td>Nori</td>\n",
              "      <td>440</td>\n",
              "      <td>1926.0</td>\n",
              "    </tr>\n",
              "    <tr>\n",
              "      <th>4</th>\n",
              "      <td>5</td>\n",
              "      <td>3</td>\n",
              "      <td>1</td>\n",
              "      <td>-1</td>\n",
              "      <td>Nori</td>\n",
              "      <td>4382</td>\n",
              "      <td>NaN</td>\n",
              "    </tr>\n",
              "    <tr>\n",
              "      <th>5</th>\n",
              "      <td>6</td>\n",
              "      <td>3</td>\n",
              "      <td>2</td>\n",
              "      <td>-1</td>\n",
              "      <td>Nori</td>\n",
              "      <td>1383</td>\n",
              "      <td>NaN</td>\n",
              "    </tr>\n",
              "    <tr>\n",
              "      <th>6</th>\n",
              "      <td>7</td>\n",
              "      <td>4</td>\n",
              "      <td>1</td>\n",
              "      <td>2</td>\n",
              "      <td>Nori</td>\n",
              "      <td>1588</td>\n",
              "      <td>403.0</td>\n",
              "    </tr>\n",
              "    <tr>\n",
              "      <th>7</th>\n",
              "      <td>8</td>\n",
              "      <td>4</td>\n",
              "      <td>2</td>\n",
              "      <td>1</td>\n",
              "      <td>Nori</td>\n",
              "      <td>1095</td>\n",
              "      <td>1428.0</td>\n",
              "    </tr>\n",
              "    <tr>\n",
              "      <th>8</th>\n",
              "      <td>9</td>\n",
              "      <td>5</td>\n",
              "      <td>1</td>\n",
              "      <td>2</td>\n",
              "      <td>Dulse</td>\n",
              "      <td>570</td>\n",
              "      <td>1188.0</td>\n",
              "    </tr>\n",
              "    <tr>\n",
              "      <th>9</th>\n",
              "      <td>10</td>\n",
              "      <td>5</td>\n",
              "      <td>2</td>\n",
              "      <td>1</td>\n",
              "      <td>Dulse</td>\n",
              "      <td>445</td>\n",
              "      <td>522.0</td>\n",
              "    </tr>\n",
              "    <tr>\n",
              "      <th>10</th>\n",
              "      <td>11</td>\n",
              "      <td>6</td>\n",
              "      <td>1</td>\n",
              "      <td>2</td>\n",
              "      <td>Dulse</td>\n",
              "      <td>739</td>\n",
              "      <td>927.0</td>\n",
              "    </tr>\n",
              "    <tr>\n",
              "      <th>11</th>\n",
              "      <td>12</td>\n",
              "      <td>6</td>\n",
              "      <td>2</td>\n",
              "      <td>1</td>\n",
              "      <td>Dulse</td>\n",
              "      <td>708</td>\n",
              "      <td>976.0</td>\n",
              "    </tr>\n",
              "    <tr>\n",
              "      <th>12</th>\n",
              "      <td>13</td>\n",
              "      <td>7</td>\n",
              "      <td>1</td>\n",
              "      <td>1</td>\n",
              "      <td>Ulva</td>\n",
              "      <td>612</td>\n",
              "      <td>403.0</td>\n",
              "    </tr>\n",
              "    <tr>\n",
              "      <th>13</th>\n",
              "      <td>14</td>\n",
              "      <td>7</td>\n",
              "      <td>2</td>\n",
              "      <td>2</td>\n",
              "      <td>Ulva</td>\n",
              "      <td>218</td>\n",
              "      <td>195.0</td>\n",
              "    </tr>\n",
              "    <tr>\n",
              "      <th>14</th>\n",
              "      <td>15</td>\n",
              "      <td>8</td>\n",
              "      <td>1</td>\n",
              "      <td>1</td>\n",
              "      <td>Ulva</td>\n",
              "      <td>862</td>\n",
              "      <td>879.0</td>\n",
              "    </tr>\n",
              "    <tr>\n",
              "      <th>15</th>\n",
              "      <td>16</td>\n",
              "      <td>8</td>\n",
              "      <td>2</td>\n",
              "      <td>2</td>\n",
              "      <td>Ulva</td>\n",
              "      <td>328</td>\n",
              "      <td>295.0</td>\n",
              "    </tr>\n",
              "    <tr>\n",
              "      <th>16</th>\n",
              "      <td>17</td>\n",
              "      <td>9</td>\n",
              "      <td>1</td>\n",
              "      <td>1</td>\n",
              "      <td>Ulva</td>\n",
              "      <td>871</td>\n",
              "      <td>402.0</td>\n",
              "    </tr>\n",
              "    <tr>\n",
              "      <th>17</th>\n",
              "      <td>18</td>\n",
              "      <td>9</td>\n",
              "      <td>2</td>\n",
              "      <td>2</td>\n",
              "      <td>Ulva</td>\n",
              "      <td>393</td>\n",
              "      <td>283.0</td>\n",
              "    </tr>\n",
              "    <tr>\n",
              "      <th>18</th>\n",
              "      <td>19</td>\n",
              "      <td>10</td>\n",
              "      <td>1</td>\n",
              "      <td>2</td>\n",
              "      <td>Ulva</td>\n",
              "      <td>597</td>\n",
              "      <td>423.0</td>\n",
              "    </tr>\n",
              "    <tr>\n",
              "      <th>19</th>\n",
              "      <td>20</td>\n",
              "      <td>10</td>\n",
              "      <td>2</td>\n",
              "      <td>1</td>\n",
              "      <td>Ulva</td>\n",
              "      <td>424</td>\n",
              "      <td>443.0</td>\n",
              "    </tr>\n",
              "  </tbody>\n",
              "</table>\n",
              "</div>"
            ],
            "text/plain": [
              "    Animal  Pair  Training order  ...   Food Training time (s)  Testing time (s)\n",
              "0        1     1               1  ...   Nori               973            1124.0\n",
              "1        2     1               2  ...   Nori               792            1198.0\n",
              "2        3     2               1  ...   Nori              2044            1127.0\n",
              "3        4     2               2  ...   Nori               440            1926.0\n",
              "4        5     3               1  ...   Nori              4382               NaN\n",
              "5        6     3               2  ...   Nori              1383               NaN\n",
              "6        7     4               1  ...   Nori              1588             403.0\n",
              "7        8     4               2  ...   Nori              1095            1428.0\n",
              "8        9     5               1  ...  Dulse               570            1188.0\n",
              "9       10     5               2  ...  Dulse               445             522.0\n",
              "10      11     6               1  ...  Dulse               739             927.0\n",
              "11      12     6               2  ...  Dulse               708             976.0\n",
              "12      13     7               1  ...   Ulva               612             403.0\n",
              "13      14     7               2  ...   Ulva               218             195.0\n",
              "14      15     8               1  ...   Ulva               862             879.0\n",
              "15      16     8               2  ...   Ulva               328             295.0\n",
              "16      17     9               1  ...   Ulva               871             402.0\n",
              "17      18     9               2  ...   Ulva               393             283.0\n",
              "18      19    10               1  ...   Ulva               597             423.0\n",
              "19      20    10               2  ...   Ulva               424             443.0\n",
              "\n",
              "[20 rows x 7 columns]"
            ]
          },
          "metadata": {
            "tags": []
          },
          "execution_count": 9
        }
      ]
    },
    {
      "cell_type": "code",
      "metadata": {
        "id": "I0OZMJqoUyNw",
        "outputId": "5071d7e9-75a4-433a-e61c-f2a47a28160b",
        "colab": {
          "base_uri": "https://localhost:8080/",
          "height": 300
        }
      },
      "source": [
        "df[df['Food'] == 'Nori']"
      ],
      "execution_count": 35,
      "outputs": [
        {
          "output_type": "execute_result",
          "data": {
            "text/html": [
              "<div>\n",
              "<style scoped>\n",
              "    .dataframe tbody tr th:only-of-type {\n",
              "        vertical-align: middle;\n",
              "    }\n",
              "\n",
              "    .dataframe tbody tr th {\n",
              "        vertical-align: top;\n",
              "    }\n",
              "\n",
              "    .dataframe thead th {\n",
              "        text-align: right;\n",
              "    }\n",
              "</style>\n",
              "<table border=\"1\" class=\"dataframe\">\n",
              "  <thead>\n",
              "    <tr style=\"text-align: right;\">\n",
              "      <th></th>\n",
              "      <th>Animal</th>\n",
              "      <th>Pair</th>\n",
              "      <th>Training order</th>\n",
              "      <th>Testing order</th>\n",
              "      <th>Food</th>\n",
              "      <th>Training time (s)</th>\n",
              "      <th>Testing time (s)</th>\n",
              "    </tr>\n",
              "  </thead>\n",
              "  <tbody>\n",
              "    <tr>\n",
              "      <th>0</th>\n",
              "      <td>1</td>\n",
              "      <td>1</td>\n",
              "      <td>1</td>\n",
              "      <td>1</td>\n",
              "      <td>Nori</td>\n",
              "      <td>973</td>\n",
              "      <td>1124.0</td>\n",
              "    </tr>\n",
              "    <tr>\n",
              "      <th>1</th>\n",
              "      <td>2</td>\n",
              "      <td>1</td>\n",
              "      <td>2</td>\n",
              "      <td>2</td>\n",
              "      <td>Nori</td>\n",
              "      <td>792</td>\n",
              "      <td>1198.0</td>\n",
              "    </tr>\n",
              "    <tr>\n",
              "      <th>2</th>\n",
              "      <td>3</td>\n",
              "      <td>2</td>\n",
              "      <td>1</td>\n",
              "      <td>1</td>\n",
              "      <td>Nori</td>\n",
              "      <td>2044</td>\n",
              "      <td>1127.0</td>\n",
              "    </tr>\n",
              "    <tr>\n",
              "      <th>3</th>\n",
              "      <td>4</td>\n",
              "      <td>2</td>\n",
              "      <td>2</td>\n",
              "      <td>2</td>\n",
              "      <td>Nori</td>\n",
              "      <td>440</td>\n",
              "      <td>1926.0</td>\n",
              "    </tr>\n",
              "    <tr>\n",
              "      <th>4</th>\n",
              "      <td>5</td>\n",
              "      <td>3</td>\n",
              "      <td>1</td>\n",
              "      <td>-1</td>\n",
              "      <td>Nori</td>\n",
              "      <td>4382</td>\n",
              "      <td>NaN</td>\n",
              "    </tr>\n",
              "    <tr>\n",
              "      <th>5</th>\n",
              "      <td>6</td>\n",
              "      <td>3</td>\n",
              "      <td>2</td>\n",
              "      <td>-1</td>\n",
              "      <td>Nori</td>\n",
              "      <td>1383</td>\n",
              "      <td>NaN</td>\n",
              "    </tr>\n",
              "    <tr>\n",
              "      <th>6</th>\n",
              "      <td>7</td>\n",
              "      <td>4</td>\n",
              "      <td>1</td>\n",
              "      <td>2</td>\n",
              "      <td>Nori</td>\n",
              "      <td>1588</td>\n",
              "      <td>403.0</td>\n",
              "    </tr>\n",
              "    <tr>\n",
              "      <th>7</th>\n",
              "      <td>8</td>\n",
              "      <td>4</td>\n",
              "      <td>2</td>\n",
              "      <td>1</td>\n",
              "      <td>Nori</td>\n",
              "      <td>1095</td>\n",
              "      <td>1428.0</td>\n",
              "    </tr>\n",
              "  </tbody>\n",
              "</table>\n",
              "</div>"
            ],
            "text/plain": [
              "   Animal  Pair  Training order  ...  Food Training time (s)  Testing time (s)\n",
              "0       1     1               1  ...  Nori               973            1124.0\n",
              "1       2     1               2  ...  Nori               792            1198.0\n",
              "2       3     2               1  ...  Nori              2044            1127.0\n",
              "3       4     2               2  ...  Nori               440            1926.0\n",
              "4       5     3               1  ...  Nori              4382               NaN\n",
              "5       6     3               2  ...  Nori              1383               NaN\n",
              "6       7     4               1  ...  Nori              1588             403.0\n",
              "7       8     4               2  ...  Nori              1095            1428.0\n",
              "\n",
              "[8 rows x 7 columns]"
            ]
          },
          "metadata": {
            "tags": []
          },
          "execution_count": 35
        }
      ]
    },
    {
      "cell_type": "code",
      "metadata": {
        "id": "XsRoKBJiVKJa",
        "outputId": "8f30dd5c-dd16-47d9-a008-7eeb0e250029",
        "colab": {
          "base_uri": "https://localhost:8080/",
          "height": 112
        }
      },
      "source": [
        "df.query('Food == \"Nori\" and Pair <= 2 and `Training order` == 1')"
      ],
      "execution_count": 41,
      "outputs": [
        {
          "output_type": "execute_result",
          "data": {
            "text/html": [
              "<div>\n",
              "<style scoped>\n",
              "    .dataframe tbody tr th:only-of-type {\n",
              "        vertical-align: middle;\n",
              "    }\n",
              "\n",
              "    .dataframe tbody tr th {\n",
              "        vertical-align: top;\n",
              "    }\n",
              "\n",
              "    .dataframe thead th {\n",
              "        text-align: right;\n",
              "    }\n",
              "</style>\n",
              "<table border=\"1\" class=\"dataframe\">\n",
              "  <thead>\n",
              "    <tr style=\"text-align: right;\">\n",
              "      <th></th>\n",
              "      <th>Animal</th>\n",
              "      <th>Pair</th>\n",
              "      <th>Training order</th>\n",
              "      <th>Testing order</th>\n",
              "      <th>Food</th>\n",
              "      <th>Training time (s)</th>\n",
              "      <th>Testing time (s)</th>\n",
              "    </tr>\n",
              "  </thead>\n",
              "  <tbody>\n",
              "    <tr>\n",
              "      <th>0</th>\n",
              "      <td>1</td>\n",
              "      <td>1</td>\n",
              "      <td>1</td>\n",
              "      <td>1</td>\n",
              "      <td>Nori</td>\n",
              "      <td>973</td>\n",
              "      <td>1124.0</td>\n",
              "    </tr>\n",
              "    <tr>\n",
              "      <th>2</th>\n",
              "      <td>3</td>\n",
              "      <td>2</td>\n",
              "      <td>1</td>\n",
              "      <td>1</td>\n",
              "      <td>Nori</td>\n",
              "      <td>2044</td>\n",
              "      <td>1127.0</td>\n",
              "    </tr>\n",
              "  </tbody>\n",
              "</table>\n",
              "</div>"
            ],
            "text/plain": [
              "   Animal  Pair  Training order  ...  Food Training time (s)  Testing time (s)\n",
              "0       1     1               1  ...  Nori               973            1124.0\n",
              "2       3     2               1  ...  Nori              2044            1127.0\n",
              "\n",
              "[2 rows x 7 columns]"
            ]
          },
          "metadata": {
            "tags": []
          },
          "execution_count": 41
        }
      ]
    },
    {
      "cell_type": "code",
      "metadata": {
        "id": "V1uORjV6JCrH",
        "outputId": "4585d945-2521-4a83-d04e-4e54af9f3149",
        "colab": {
          "base_uri": "https://localhost:8080/",
          "height": 394
        }
      },
      "source": [
        "df_training_by_pair_and_order = df.pivot(index='Pair', columns='Training order', values='Training time (s)')\n",
        "df_training_by_pair_and_order"
      ],
      "execution_count": 10,
      "outputs": [
        {
          "output_type": "execute_result",
          "data": {
            "text/html": [
              "<div>\n",
              "<style scoped>\n",
              "    .dataframe tbody tr th:only-of-type {\n",
              "        vertical-align: middle;\n",
              "    }\n",
              "\n",
              "    .dataframe tbody tr th {\n",
              "        vertical-align: top;\n",
              "    }\n",
              "\n",
              "    .dataframe thead th {\n",
              "        text-align: right;\n",
              "    }\n",
              "</style>\n",
              "<table border=\"1\" class=\"dataframe\">\n",
              "  <thead>\n",
              "    <tr style=\"text-align: right;\">\n",
              "      <th>Training order</th>\n",
              "      <th>1</th>\n",
              "      <th>2</th>\n",
              "    </tr>\n",
              "    <tr>\n",
              "      <th>Pair</th>\n",
              "      <th></th>\n",
              "      <th></th>\n",
              "    </tr>\n",
              "  </thead>\n",
              "  <tbody>\n",
              "    <tr>\n",
              "      <th>1</th>\n",
              "      <td>973</td>\n",
              "      <td>792</td>\n",
              "    </tr>\n",
              "    <tr>\n",
              "      <th>2</th>\n",
              "      <td>2044</td>\n",
              "      <td>440</td>\n",
              "    </tr>\n",
              "    <tr>\n",
              "      <th>3</th>\n",
              "      <td>4382</td>\n",
              "      <td>1383</td>\n",
              "    </tr>\n",
              "    <tr>\n",
              "      <th>4</th>\n",
              "      <td>1588</td>\n",
              "      <td>1095</td>\n",
              "    </tr>\n",
              "    <tr>\n",
              "      <th>5</th>\n",
              "      <td>570</td>\n",
              "      <td>445</td>\n",
              "    </tr>\n",
              "    <tr>\n",
              "      <th>6</th>\n",
              "      <td>739</td>\n",
              "      <td>708</td>\n",
              "    </tr>\n",
              "    <tr>\n",
              "      <th>7</th>\n",
              "      <td>612</td>\n",
              "      <td>218</td>\n",
              "    </tr>\n",
              "    <tr>\n",
              "      <th>8</th>\n",
              "      <td>862</td>\n",
              "      <td>328</td>\n",
              "    </tr>\n",
              "    <tr>\n",
              "      <th>9</th>\n",
              "      <td>871</td>\n",
              "      <td>393</td>\n",
              "    </tr>\n",
              "    <tr>\n",
              "      <th>10</th>\n",
              "      <td>597</td>\n",
              "      <td>424</td>\n",
              "    </tr>\n",
              "  </tbody>\n",
              "</table>\n",
              "</div>"
            ],
            "text/plain": [
              "Training order     1     2\n",
              "Pair                      \n",
              "1                973   792\n",
              "2               2044   440\n",
              "3               4382  1383\n",
              "4               1588  1095\n",
              "5                570   445\n",
              "6                739   708\n",
              "7                612   218\n",
              "8                862   328\n",
              "9                871   393\n",
              "10               597   424"
            ]
          },
          "metadata": {
            "tags": []
          },
          "execution_count": 10
        }
      ]
    },
    {
      "cell_type": "markdown",
      "metadata": {
        "id": "cyWoxy8TAaiw"
      },
      "source": [
        "# matplotlib and seaborn"
      ]
    },
    {
      "cell_type": "code",
      "metadata": {
        "id": "FF4AlvvhAnaC"
      },
      "source": [
        "import matplotlib.pyplot as plt\n",
        "import seaborn as sns"
      ],
      "execution_count": 42,
      "outputs": []
    },
    {
      "cell_type": "code",
      "metadata": {
        "id": "HwWP53xbJXF5",
        "outputId": "9438715f-44c6-4783-d215-769f27efa8ef",
        "colab": {
          "base_uri": "https://localhost:8080/",
          "height": 282
        }
      },
      "source": [
        "ax = df_training_by_pair_and_order.plot.bar()\n",
        "\n",
        "# state machine approach\n",
        "# plt.ylabel('Training time (s)')\n",
        "\n",
        "# object-oriented approach\n",
        "yaxis_label = ax.set_ylabel('Training time (s)')\n",
        "# yaxis_label.set_fontfamily('monospace')"
      ],
      "execution_count": 56,
      "outputs": [
        {
          "output_type": "display_data",
          "data": {
            "image/png": "[encoded data removed]",
            "text/plain": [
              "<Figure size 432x288 with 1 Axes>"
            ]
          },
          "metadata": {
            "tags": [],
            "needs_background": "light"
          }
        }
      ]
    },
    {
      "cell_type": "code",
      "metadata": {
        "id": "GOaO7r6eJayx",
        "outputId": "1127415a-cf64-4c85-eda6-1c2758c60ffc",
        "colab": {
          "base_uri": "https://localhost:8080/",
          "height": 279
        }
      },
      "source": [
        "ax = sns.barplot(\n",
        "    data=df,\n",
        "    x='Pair',\n",
        "    y='Training time (s)',\n",
        "    hue='Training order',\n",
        ")"
      ],
      "execution_count": 60,
      "outputs": [
        {
          "output_type": "display_data",
          "data": {
            "image/png": "[encoded data removed]",
            "text/plain": [
              "<Figure size 432x288 with 1 Axes>"
            ]
          },
          "metadata": {
            "tags": [],
            "needs_background": "light"
          }
        }
      ]
    },
    {
      "cell_type": "code",
      "metadata": {
        "id": "cj-Ia3MvKXmO",
        "outputId": "dd823d03-5d4d-40c7-de37-926efc22d2ef",
        "colab": {
          "base_uri": "https://localhost:8080/",
          "height": 319
        }
      },
      "source": [
        "df.boxplot(column='Training time (s)', by=['Food', 'Training order'])"
      ],
      "execution_count": 61,
      "outputs": [
        {
          "output_type": "execute_result",
          "data": {
            "text/plain": [
              "<matplotlib.axes._subplots.AxesSubplot at 0x7f48fee9c9e8>"
            ]
          },
          "metadata": {
            "tags": []
          },
          "execution_count": 61
        },
        {
          "output_type": "display_data",
          "data": {
            "image/png": "[encoded data removed]",
            "text/plain": [
              "<Figure size 432x288 with 1 Axes>"
            ]
          },
          "metadata": {
            "tags": [],
            "needs_background": "light"
          }
        }
      ]
    },
    {
      "cell_type": "markdown",
      "metadata": {
        "id": "T_9CGt0HH4CJ"
      },
      "source": [
        "# Continue to the Next Lesson\n",
        "\n",
        "Return to home to continue to the next lession:\n",
        "\n",
        "https://jpgill86.github.io/python-for-neuroscientists/"
      ]
    },
    {
      "cell_type": "markdown",
      "metadata": {
        "id": "ZzpFSeQDH7s-"
      },
      "source": [
        "# External Resources"
      ]
    },
    {
      "cell_type": "markdown",
      "metadata": {
        "id": "0iXeW4yUH--o"
      },
      "source": [
        "NumPy (arrays, vectors, matrices):\n",
        "\n",
        "* [NumPy manual](https://numpy.org/doc/stable/)\n",
        "* [\"NumPy: the absolute basics for beginners\"](https://numpy.org/doc/stable/user/absolute_beginners.html)\n",
        "* [NumPy tutorials](https://numpy.org/doc/stable/user/tutorials_index.html)\n",
        "* [NumPy for Matlab users](https://numpy.org/doc/stable/user/numpy-for-matlab-users.html)\n",
        "\n",
        "SciPy (advanced algorithms, numerical integration, optimization):\n",
        "\n",
        "* [SciPy reference guide](https://docs.scipy.org/doc/scipy/reference/)\n",
        "\n",
        "pandas (tables)\n",
        "\n",
        "* [pandas documentation](https://pandas.pydata.org/docs/)\n",
        "* [\"10 minutes to pandas\"](https://pandas.pydata.org/docs/user_guide/10min.html)\n",
        "* [pandas User Guide](https://pandas.pydata.org/docs/user_guide/index.html)\n",
        "\n",
        "Plotting\n",
        "* [Visualization with pandas](https://pandas.pydata.org/docs/user_guide/visualization.html)\n",
        "* [seaborn documentation](https://seaborn.pydata.org/index.html)\n",
        "* [seaborn gallery](https://seaborn.pydata.org/examples/index.html)\n",
        "* [matplotlib gallery](https://matplotlib.org/gallery/index.html)\n",
        "* [matplotlib tutorials](https://matplotlib.org/tutorials/index.html)\n",
        "\n",
        "Free interactive book created by Jake VanderPlas:\n",
        "\n",
        "* [Python Data Science Handbook](https://colab.research.google.com/github/jakevdp/PythonDataScienceHandbook/blob/master/notebooks/Index.ipynb)"
      ]
    },
    {
      "cell_type": "markdown",
      "metadata": {
        "id": "n-KhMl8xk1Ze"
      },
      "source": [
        "# License\n",
        "\n",
        "[This work](https://github.com/jpgill86/python-for-neuroscientists) is licensed under a [Creative Commons Attribution 4.0 International\n",
        "License](http://creativecommons.org/licenses/by/4.0/)."
      ]
    }
  ]
}