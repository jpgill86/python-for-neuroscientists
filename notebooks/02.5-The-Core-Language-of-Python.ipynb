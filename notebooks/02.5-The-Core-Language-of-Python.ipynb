{
  "nbformat": 4,
  "nbformat_minor": 0,
  "metadata": {
    "colab": {
      "name": "02.5-The-Core-Language-of-Python.ipynb",
      "provenance": [],
      "collapsed_sections": [],
      "toc_visible": true,
      "include_colab_link": true
    },
    "kernelspec": {
      "name": "python3",
      "display_name": "Python 3"
    }
  },
  "cells": [
    {
      "cell_type": "markdown",
      "metadata": {
        "id": "view-in-github",
        "colab_type": "text"
      },
      "source": [
        "<a href=\"https://colab.research.google.com/github/jpgill86/python-for-neuroscientists/blob/master/02.5-The-Core-Language-of-Python.ipynb\" target=\"_parent\"><img src=\"https://colab.research.google.com/assets/colab-badge.svg\" alt=\"Open In Colab\"/></a>"
      ]
    },
    {
      "cell_type": "markdown",
      "metadata": {
        "id": "QRtgy8QlUJSM"
      },
      "source": [
        "# The Core Language of Python: Part 5"
      ]
    },
    {
      "cell_type": "markdown",
      "metadata": {
        "id": "VdhMMp_nB1si"
      },
      "source": [
        "## Reading and Writing Files"
      ]
    },
    {
      "cell_type": "markdown",
      "metadata": {
        "id": "Kk1-u-WQ6RQb"
      },
      "source": [
        "The built-in function `open()` can be used for reading and writing files. Let's try writing a bit of text to a new file called `my_file.txt`. The `open()` function must be called with the file name, as well as a \"mode\" parameter, `'w'`, which indicates the file will be written to. `open()` returns an object representing the file, which we will store in a variable named `f`. This object has a `write()` method we can use to add text to the file. Finally, we must call the `close()` method to ensure the file is saved properly."
      ]
    },
    {
      "cell_type": "code",
      "metadata": {
        "id": "ZSRoUQTBgFKQ"
      },
      "source": [
        "f = open('my_file.txt', 'w')\n",
        "f.write('here is some text')\n",
        "f.close()"
      ],
      "execution_count": 1,
      "outputs": []
    },
    {
      "cell_type": "markdown",
      "metadata": {
        "id": "BxmyRI4K5ns2"
      },
      "source": [
        "On the left edge of your browser window, you can access Colab's \"Files\" tab, which should now contain the new file `my_file.txt` (new files may sometimes take a few moments to appear in the list):\n",
        "\n",
        "> ![image.png](data:image/png;base64,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)\n",
        "\n",
        "You can now double-click the file to open it in another tab and confirm that it contains the written text.\n",
        "\n",
        "We can also read the file programmatically using `open()` with the `'r'` mode parameter, along with the `read()` method. Although we are not writing to the file this time, we still need to call `close()` to ensure the file is released properly from Python's clutches:"
      ]
    },
    {
      "cell_type": "code",
      "metadata": {
        "id": "R0wwCyrIgZO1",
        "outputId": "0457da69-b6a3-40b8-8aa4-e66355854da0",
        "colab": {
          "base_uri": "https://localhost:8080/",
          "height": 35
        }
      },
      "source": [
        "f = open('my_file.txt', 'r')\n",
        "print(f.read())\n",
        "f.close()"
      ],
      "execution_count": 2,
      "outputs": [
        {
          "output_type": "stream",
          "text": [
            "here is some text\n"
          ],
          "name": "stdout"
        }
      ]
    },
    {
      "cell_type": "markdown",
      "metadata": {
        "id": "IppMzHIQlp-3"
      },
      "source": [
        "A recommended alternative for doing the same thing involves using the **`with` and `as` keywords** to work within what is called a **context manager**. Context managers can have many uses. In the case of accessing files with `open()`, the advantage of using the context manager is that it will automatically call the `close()` method when everything inside the `with` block is finished. This approach is recommended because of this automatic \"clean-up\", which should occur even if there is an error during the reading. The following code is equivalent to the previous:"
      ]
    },
    {
      "cell_type": "code",
      "metadata": {
        "id": "JfxmbHqohCWz",
        "outputId": "90b9103e-b022-47ef-9c63-5abf4900cd4b",
        "colab": {
          "base_uri": "https://localhost:8080/",
          "height": 35
        }
      },
      "source": [
        "with open('my_file.txt', 'r') as f:\n",
        "    print(f.read())"
      ],
      "execution_count": 3,
      "outputs": [
        {
          "output_type": "stream",
          "text": [
            "here is some text\n"
          ],
          "name": "stdout"
        }
      ]
    },
    {
      "cell_type": "markdown",
      "metadata": {
        "id": "SInifp8-sOcr"
      },
      "source": [
        "> **Important:** Files on a Colab server, like `my_file.txt`, are destroyed when either *Runtime > Factory reset runtime* is executed from the Colab menu, or when the session has expired (usually after some hours of inactivity). Don't put important files on the Colab server and expect them to be there forever! You can download a file to save on your own computer using the Files tab on the left edge of the window."
      ]
    },
    {
      "cell_type": "markdown",
      "metadata": {
        "id": "qFGM-T8cB_gl"
      },
      "source": [
        "## Importing Code"
      ]
    },
    {
      "cell_type": "markdown",
      "metadata": {
        "id": "LALoxzYPm48-"
      },
      "source": [
        "Python code can be stored within text files with the file extension `.py` instead of `.txt`. These code files are called **modules**.\n",
        "\n",
        "Let's create a string containing a bit of Python code that defines a simple variable and function:"
      ]
    },
    {
      "cell_type": "code",
      "metadata": {
        "id": "WG4a3bcthBvi"
      },
      "source": [
        "some_code = '''\\\n",
        "my_string = 'Aplysia californica'\n",
        "\n",
        "def count_to(n):\n",
        "    for i in range(1, n+1):\n",
        "        print(i)\n",
        "'''"
      ],
      "execution_count": 4,
      "outputs": []
    },
    {
      "cell_type": "markdown",
      "metadata": {
        "id": "kJuGFOdXnd5e"
      },
      "source": [
        "Note that since this is just a string, `my_list` and `my_func` have not actually been defined in your session (yet).\n",
        "\n",
        "Next, let's write that string to a Python module, with the file name `my_module.py`:"
      ]
    },
    {
      "cell_type": "code",
      "metadata": {
        "id": "5Yq09MuCndLF"
      },
      "source": [
        "with open('my_module.py', 'w') as f:\n",
        "    f.write(some_code)"
      ],
      "execution_count": 5,
      "outputs": []
    },
    {
      "cell_type": "markdown",
      "metadata": {
        "id": "tWHiE86jnma8"
      },
      "source": [
        "View the file from the Colab Files tab to confirm it contains the string (again, the new file may take a few moments to appear in the file list).\n",
        "\n",
        "Like in the previous example, we can read the file and print its contents using the normal approach for text files:"
      ]
    },
    {
      "cell_type": "code",
      "metadata": {
        "id": "e0UBM8XYhwHW",
        "outputId": "2c4a0740-d32a-4d79-a719-28325cc3b5ef",
        "colab": {
          "base_uri": "https://localhost:8080/",
          "height": 127
        }
      },
      "source": [
        "with open('my_module.py', 'r') as f:\n",
        "    print(f.read())"
      ],
      "execution_count": 6,
      "outputs": [
        {
          "output_type": "stream",
          "text": [
            "my_string = 'Aplysia californica'\n",
            "\n",
            "def count_to(n):\n",
            "    for i in range(1, n+1):\n",
            "        print(i)\n",
            "\n"
          ],
          "name": "stdout"
        }
      ]
    },
    {
      "cell_type": "markdown",
      "metadata": {
        "id": "c4k37tymlKnO"
      },
      "source": [
        "Again, this is just text in the form of a string.\n",
        "\n",
        "To actually use the code within a module, we must **import** it using the `import` command with the name of the module, without the `.py` at the end:"
      ]
    },
    {
      "cell_type": "code",
      "metadata": {
        "id": "7LjOky7vhzP0"
      },
      "source": [
        "import my_module"
      ],
      "execution_count": 7,
      "outputs": []
    },
    {
      "cell_type": "markdown",
      "metadata": {
        "id": "qcv0HKtqCkKo"
      },
      "source": [
        "Running `import my_module` causes the code within `my_module.py` to be executed. Every variable, function, and class within the module was placed under a common **namespace** matching the module name and assessible using dot (`.`) notation:"
      ]
    },
    {
      "cell_type": "code",
      "metadata": {
        "id": "qqD8bqXMh1IG",
        "outputId": "11cf5a79-1a5f-4397-8a09-3fd0ccfad4ef",
        "colab": {
          "base_uri": "https://localhost:8080/",
          "height": 36
        }
      },
      "source": [
        "my_module.my_string"
      ],
      "execution_count": 8,
      "outputs": [
        {
          "output_type": "execute_result",
          "data": {
            "application/vnd.google.colaboratory.intrinsic+json": {
              "type": "string"
            },
            "text/plain": [
              "'Aplysia californica'"
            ]
          },
          "metadata": {
            "tags": []
          },
          "execution_count": 8
        }
      ]
    },
    {
      "cell_type": "code",
      "metadata": {
        "id": "uokqiL7ikdx2",
        "outputId": "75a557da-802a-4c5b-9962-f90746005365",
        "colab": {
          "base_uri": "https://localhost:8080/",
          "height": 90
        }
      },
      "source": [
        "my_module.count_to(4)"
      ],
      "execution_count": 9,
      "outputs": [
        {
          "output_type": "stream",
          "text": [
            "1\n",
            "2\n",
            "3\n",
            "4\n"
          ],
          "name": "stdout"
        }
      ]
    },
    {
      "cell_type": "markdown",
      "metadata": {
        "id": "6Pbe1Yo7B9dL"
      },
      "source": [
        "Using the syntax `import ... as ...`, it is possible to choose a different namespace name:"
      ]
    },
    {
      "cell_type": "code",
      "metadata": {
        "id": "9a1fTL0wh-AG",
        "outputId": "b95522af-4bcd-4293-947d-cfaa03871d1a",
        "colab": {
          "base_uri": "https://localhost:8080/",
          "height": 36
        }
      },
      "source": [
        "import my_module as another_name\n",
        "\n",
        "another_name.my_string"
      ],
      "execution_count": 10,
      "outputs": [
        {
          "output_type": "execute_result",
          "data": {
            "application/vnd.google.colaboratory.intrinsic+json": {
              "type": "string"
            },
            "text/plain": [
              "'Aplysia californica'"
            ]
          },
          "metadata": {
            "tags": []
          },
          "execution_count": 10
        }
      ]
    },
    {
      "cell_type": "markdown",
      "metadata": {
        "id": "u9LLbsFMCTVn"
      },
      "source": [
        "It is also possible to import specific contents of the module directly into the global namespace:"
      ]
    },
    {
      "cell_type": "code",
      "metadata": {
        "id": "7FxQ9SKAiD8H",
        "outputId": "25377580-ce16-4813-96d1-788bbda5219e",
        "colab": {
          "base_uri": "https://localhost:8080/",
          "height": 36
        }
      },
      "source": [
        "from my_module import my_string\n",
        "\n",
        "my_string"
      ],
      "execution_count": 11,
      "outputs": [
        {
          "output_type": "execute_result",
          "data": {
            "application/vnd.google.colaboratory.intrinsic+json": {
              "type": "string"
            },
            "text/plain": [
              "'Aplysia californica'"
            ]
          },
          "metadata": {
            "tags": []
          },
          "execution_count": 11
        }
      ]
    },
    {
      "cell_type": "markdown",
      "metadata": {
        "id": "HLioK8cqjDsu"
      },
      "source": [
        "You would not typically create a module by programmatically writing a string like `some_code` to a `.py` file; that was done here just as a demonstration. Normally, modules are created and modified in an external text editor like any other text file. This works well if you are running Python locally on your computer, but less so for Colab running remotely in a browser.\n",
        "\n",
        "If changes are made to a module after it has been imported once already in your session, you cannot just use `import` again to import the module's updated definitions. Python will ignore import commands for modules it has already imported. This prevents circular imports (yes, modules can import other modules!) and improves performance, but it is a little annoying when you are actively developing code in a module. You have to restart your session (from the Colab menu choose *Runtime > Restart runtime*), which will delete all variables in memory, before you can import the modified module."
      ]
    },
    {
      "cell_type": "markdown",
      "metadata": {
        "id": "pje6PLaZCKUM"
      },
      "source": [
        "## The Standard Library"
      ]
    },
    {
      "cell_type": "markdown",
      "metadata": {
        "id": "9OAhPHpPEN6k"
      },
      "source": [
        "Every Python installation includes a large set of available modules, referred to collectively as **the standard library**, which implements many important functions and classes. A complete listing of the standard library modules can be found in the official documentation: [The Standard Library](https://docs.python.org/3/library/index.html). We will not survey the many useful features here, so you are encouraged to take a look yourself. Instead, what follows is just a small sampling of what the standard library offers:"
      ]
    },
    {
      "cell_type": "code",
      "metadata": {
        "id": "cKFacKrVLLKB",
        "outputId": "7f8a0526-7421-411a-9bf4-72e9c68203dd",
        "colab": {
          "base_uri": "https://localhost:8080/",
          "height": 35
        }
      },
      "source": [
        "import math\n",
        "\n",
        "# the math module defines common mathematical functions and constants\n",
        "math.cos(math.pi/4) == math.sqrt(2)/2"
      ],
      "execution_count": 12,
      "outputs": [
        {
          "output_type": "execute_result",
          "data": {
            "text/plain": [
              "True"
            ]
          },
          "metadata": {
            "tags": []
          },
          "execution_count": 12
        }
      ]
    },
    {
      "cell_type": "code",
      "metadata": {
        "id": "pGmO5LsJS76p",
        "outputId": "70d33446-4cdd-4c47-d294-572272ef140d",
        "colab": {
          "base_uri": "https://localhost:8080/",
          "height": 35
        }
      },
      "source": [
        "import statistics\n",
        "\n",
        "# the statistics module defines many common statistical functions, such as\n",
        "# stdev() for computing the sample standard deviation\n",
        "statistics.stdev([1, 3, 5, 10])"
      ],
      "execution_count": 13,
      "outputs": [
        {
          "output_type": "execute_result",
          "data": {
            "text/plain": [
              "3.8622100754188224"
            ]
          },
          "metadata": {
            "tags": []
          },
          "execution_count": 13
        }
      ]
    },
    {
      "cell_type": "code",
      "metadata": {
        "id": "FPggjxGxLJQV",
        "outputId": "f9edef74-26ed-4d8c-96d0-80289c4bd9c5",
        "colab": {
          "base_uri": "https://localhost:8080/",
          "height": 35
        }
      },
      "source": [
        "import random\n",
        "\n",
        "# the random module defines a randint() function for generating a random\n",
        "# integer within a given range\n",
        "random.randint(1, 100)"
      ],
      "execution_count": 14,
      "outputs": [
        {
          "output_type": "execute_result",
          "data": {
            "text/plain": [
              "37"
            ]
          },
          "metadata": {
            "tags": []
          },
          "execution_count": 14
        }
      ]
    },
    {
      "cell_type": "code",
      "metadata": {
        "id": "0-bEngQcVsug",
        "outputId": "10bc0c82-a7ca-46e4-82df-af3c130d1d72",
        "colab": {
          "base_uri": "https://localhost:8080/",
          "height": 35
        }
      },
      "source": [
        "import itertools\n",
        "\n",
        "# the itertools module defines a permutations() function which is used here to\n",
        "# obtain all possible orderings of items in a sequence\n",
        "[''.join(p) for p in itertools.permutations('ABC')]"
      ],
      "execution_count": 15,
      "outputs": [
        {
          "output_type": "execute_result",
          "data": {
            "text/plain": [
              "['ABC', 'ACB', 'BAC', 'BCA', 'CAB', 'CBA']"
            ]
          },
          "metadata": {
            "tags": []
          },
          "execution_count": 15
        }
      ]
    },
    {
      "cell_type": "code",
      "metadata": {
        "id": "jY9pmMzoHJwn",
        "outputId": "022c3f34-d99f-4ffc-a5f3-5b78b3b3b007",
        "colab": {
          "base_uri": "https://localhost:8080/",
          "height": 35
        }
      },
      "source": [
        "import datetime\n",
        "\n",
        "# the datetime module defines a class that is (somewhat confusingly) also named\n",
        "# datetime. here we call a class method called now() which returns an instance\n",
        "# of the datetime class for the current date and time\n",
        "datetime.datetime.now()"
      ],
      "execution_count": 16,
      "outputs": [
        {
          "output_type": "execute_result",
          "data": {
            "text/plain": [
              "datetime.datetime(2020, 9, 26, 2, 36, 55, 898600)"
            ]
          },
          "metadata": {
            "tags": []
          },
          "execution_count": 16
        }
      ]
    },
    {
      "cell_type": "code",
      "metadata": {
        "id": "7jUQrG0SLMNk",
        "outputId": "eb1cf152-1d6f-4b29-cf86-4345732c8e6a",
        "colab": {
          "base_uri": "https://localhost:8080/",
          "height": 54
        }
      },
      "source": [
        "import sys\n",
        "\n",
        "# the sys module defines a string called version which contains info about the\n",
        "# version of Python in use\n",
        "print(sys.version)"
      ],
      "execution_count": 17,
      "outputs": [
        {
          "output_type": "stream",
          "text": [
            "3.6.9 (default, Jul 17 2020, 12:50:27) \n",
            "[GCC 8.4.0]\n"
          ],
          "name": "stdout"
        }
      ]
    },
    {
      "cell_type": "code",
      "metadata": {
        "id": "bgyu9ufwK0QC",
        "outputId": "1f77b425-5a0c-44f7-e873-027ed0373332",
        "colab": {
          "base_uri": "https://localhost:8080/",
          "height": 36
        }
      },
      "source": [
        "import os\n",
        "\n",
        "# the os module defines a getcwd() function which returns the path of the\n",
        "# current working directory (cwd), which is the default folder where files will\n",
        "# be written to, and where Python looks first for reading files. the function\n",
        "# os.chdir() can be used to change the current working directory.\n",
        "os.getcwd()"
      ],
      "execution_count": 18,
      "outputs": [
        {
          "output_type": "execute_result",
          "data": {
            "application/vnd.google.colaboratory.intrinsic+json": {
              "type": "string"
            },
            "text/plain": [
              "'/content'"
            ]
          },
          "metadata": {
            "tags": []
          },
          "execution_count": 18
        }
      ]
    },
    {
      "cell_type": "markdown",
      "metadata": {
        "id": "cZ8TAXxnC0JZ"
      },
      "source": [
        "## Third-Party Packages"
      ]
    },
    {
      "cell_type": "markdown",
      "metadata": {
        "id": "A0XqrS7-HRkR"
      },
      "source": [
        "**Packages** are installable modules, or installable collections of modules, which are packaged for easy distribution to other computers. There is an official website, called **PyPI** (Python Package Index), where packages can be located: https://pypi.org. Anybody ([literally anybody!](https://pypi.org/project/neurotic/)) is allowed to submit packages to PyPI where they are hosted on PyPI's servers for all to access.\n",
        "\n",
        "Although it is possible to use a browser to manually download packages from PyPI, this is not recommended. Instead, to install packages you can use an official command line tool: **`pip`** (Pip Installs Packages). `pip` will not only download a package for you and put the files in the correct place, but it will also automatically and recursively install other packages that the desired package depends on. `pip` can also be used to upgrade installed packages to newer versions or uninstall them, or to list all installed packages.\n",
        "\n",
        "`pip` is a command line tool, not a Python command. So, normally you would run `pip` from a command prompt or terminal. In Colab (or any Jupyter notebook), commands can be passed to the command line but beginning the command with an exclamation point (`!`). For instance, the command `pip list` will list all installed packages, and we can run this command within a notebook using `! pip list`:"
      ]
    },
    {
      "cell_type": "code",
      "metadata": {
        "id": "YeIc5AOisFm_",
        "outputId": "661447ae-a50a-4d21-c47c-87fc2e8fda5e",
        "colab": {
          "base_uri": "https://localhost:8080/",
          "height": 1000
        }
      },
      "source": [
        "! pip list"
      ],
      "execution_count": 19,
      "outputs": [
        {
          "output_type": "stream",
          "text": [
            "Package                       Version        \n",
            "----------------------------- ---------------\n",
            "absl-py                       0.10.0         \n",
            "alabaster                     0.7.12         \n",
            "albumentations                0.1.12         \n",
            "altair                        4.1.0          \n",
            "argon2-cffi                   20.1.0         \n",
            "asgiref                       3.2.10         \n",
            "astor                         0.8.1          \n",
            "astropy                       4.0.1.post1    \n",
            "astunparse                    1.6.3          \n",
            "async-generator               1.10           \n",
            "atari-py                      0.2.6          \n",
            "atomicwrites                  1.4.0          \n",
            "attrs                         20.2.0         \n",
            "audioread                     2.1.8          \n",
            "autograd                      1.3            \n",
            "Babel                         2.8.0          \n",
            "backcall                      0.2.0          \n",
            "beautifulsoup4                4.6.3          \n",
            "bleach                        3.2.0          \n",
            "blis                          0.4.1          \n",
            "bokeh                         2.1.1          \n",
            "boto                          2.49.0         \n",
            "boto3                         1.14.63        \n",
            "botocore                      1.17.63        \n",
            "Bottleneck                    1.3.2          \n",
            "branca                        0.4.1          \n",
            "bs4                           0.0.1          \n",
            "CacheControl                  0.12.6         \n",
            "cachetools                    4.1.1          \n",
            "catalogue                     1.0.0          \n",
            "certifi                       2020.6.20      \n",
            "cffi                          1.14.2         \n",
            "chainer                       7.4.0          \n",
            "chardet                       3.0.4          \n",
            "click                         7.1.2          \n",
            "cloudpickle                   1.3.0          \n",
            "cmake                         3.12.0         \n",
            "cmdstanpy                     0.9.5          \n",
            "colorlover                    0.3.0          \n",
            "community                     1.0.0b1        \n",
            "contextlib2                   0.5.5          \n",
            "convertdate                   2.2.2          \n",
            "coverage                      3.7.1          \n",
            "coveralls                     0.5            \n",
            "crcmod                        1.7            \n",
            "cufflinks                     0.17.3         \n",
            "cvxopt                        1.2.5          \n",
            "cvxpy                         1.0.31         \n",
            "cycler                        0.10.0         \n",
            "cymem                         2.0.3          \n",
            "Cython                        0.29.21        \n",
            "daft                          0.0.4          \n",
            "dask                          2.12.0         \n",
            "dataclasses                   0.7            \n",
            "datascience                   0.10.6         \n",
            "debugpy                       1.0.0rc2       \n",
            "decorator                     4.4.2          \n",
            "defusedxml                    0.6.0          \n",
            "descartes                     1.1.0          \n",
            "dill                          0.3.2          \n",
            "distributed                   1.25.3         \n",
            "Django                        3.1.1          \n",
            "dlib                          19.18.0        \n",
            "dm-tree                       0.1.5          \n",
            "docopt                        0.6.2          \n",
            "docutils                      0.15.2         \n",
            "dopamine-rl                   1.0.5          \n",
            "earthengine-api               0.1.235        \n",
            "easydict                      1.9            \n",
            "ecos                          2.0.7.post1    \n",
            "editdistance                  0.5.3          \n",
            "en-core-web-sm                2.2.5          \n",
            "entrypoints                   0.3            \n",
            "ephem                         3.7.7.1        \n",
            "et-xmlfile                    1.0.1          \n",
            "fa2                           0.3.5          \n",
            "fancyimpute                   0.4.3          \n",
            "fastai                        1.0.61         \n",
            "fastdtw                       0.3.4          \n",
            "fastprogress                  1.0.0          \n",
            "fastrlock                     0.5            \n",
            "fbprophet                     0.7.1          \n",
            "feather-format                0.4.1          \n",
            "filelock                      3.0.12         \n",
            "firebase-admin                4.4.0          \n",
            "fix-yahoo-finance             0.0.22         \n",
            "Flask                         1.1.2          \n",
            "folium                        0.8.3          \n",
            "future                        0.16.0         \n",
            "gast                          0.3.3          \n",
            "GDAL                          2.2.2          \n",
            "gdown                         3.6.4          \n",
            "gensim                        3.6.0          \n",
            "geographiclib                 1.50           \n",
            "geopy                         1.17.0         \n",
            "gin-config                    0.3.0          \n",
            "glob2                         0.7            \n",
            "google                        2.0.3          \n",
            "google-api-core               1.16.0         \n",
            "google-api-python-client      1.7.12         \n",
            "google-auth                   1.17.2         \n",
            "google-auth-httplib2          0.0.4          \n",
            "google-auth-oauthlib          0.4.1          \n",
            "google-cloud-bigquery         1.21.0         \n",
            "google-cloud-core             1.0.3          \n",
            "google-cloud-datastore        1.8.0          \n",
            "google-cloud-firestore        1.7.0          \n",
            "google-cloud-language         1.2.0          \n",
            "google-cloud-storage          1.18.1         \n",
            "google-cloud-translate        1.5.0          \n",
            "google-colab                  1.0.0          \n",
            "google-pasta                  0.2.0          \n",
            "google-resumable-media        0.4.1          \n",
            "googleapis-common-protos      1.52.0         \n",
            "googledrivedownloader         0.4            \n",
            "graphviz                      0.10.1         \n",
            "grpcio                        1.32.0         \n",
            "gspread                       3.0.1          \n",
            "gspread-dataframe             3.0.8          \n",
            "gym                           0.17.2         \n",
            "h5py                          2.10.0         \n",
            "HeapDict                      1.0.1          \n",
            "holidays                      0.10.3         \n",
            "holoviews                     1.13.4         \n",
            "html5lib                      1.0.1          \n",
            "httpimport                    0.5.18         \n",
            "httplib2                      0.17.4         \n",
            "httplib2shim                  0.0.3          \n",
            "humanize                      0.5.1          \n",
            "hyperopt                      0.1.2          \n",
            "ideep4py                      2.0.0.post3    \n",
            "idna                          2.10           \n",
            "image                         1.5.32         \n",
            "imageio                       2.4.1          \n",
            "imagesize                     1.2.0          \n",
            "imbalanced-learn              0.4.3          \n",
            "imblearn                      0.0            \n",
            "imgaug                        0.2.9          \n",
            "importlib-metadata            1.7.0          \n",
            "imutils                       0.5.3          \n",
            "inflect                       2.1.0          \n",
            "iniconfig                     1.0.1          \n",
            "intel-openmp                  2020.0.133     \n",
            "intervaltree                  2.1.0          \n",
            "ipykernel                     4.10.1         \n",
            "ipython                       5.5.0          \n",
            "ipython-genutils              0.2.0          \n",
            "ipython-sql                   0.3.9          \n",
            "ipywidgets                    7.5.1          \n",
            "itsdangerous                  1.1.0          \n",
            "jax                           0.1.75         \n",
            "jaxlib                        0.1.52         \n",
            "jdcal                         1.4.1          \n",
            "jedi                          0.17.2         \n",
            "jieba                         0.42.1         \n",
            "Jinja2                        2.11.2         \n",
            "jmespath                      0.10.0         \n",
            "joblib                        0.16.0         \n",
            "jpeg4py                       0.1.4          \n",
            "jsonschema                    2.6.0          \n",
            "jupyter                       1.0.0          \n",
            "jupyter-client                5.3.5          \n",
            "jupyter-console               5.2.0          \n",
            "jupyter-core                  4.6.3          \n",
            "jupyterlab-pygments           0.1.1          \n",
            "kaggle                        1.5.8          \n",
            "kapre                         0.1.3.1        \n",
            "Keras                         2.4.3          \n",
            "Keras-Preprocessing           1.1.2          \n",
            "keras-vis                     0.4.1          \n",
            "kiwisolver                    1.2.0          \n",
            "knnimpute                     0.1.0          \n",
            "korean-lunar-calendar         0.2.1          \n",
            "librosa                       0.6.3          \n",
            "lightgbm                      2.2.3          \n",
            "llvmlite                      0.31.0         \n",
            "lmdb                          0.99           \n",
            "lucid                         0.3.8          \n",
            "LunarCalendar                 0.0.9          \n",
            "lxml                          4.2.6          \n",
            "Markdown                      3.2.2          \n",
            "MarkupSafe                    1.1.1          \n",
            "matplotlib                    3.2.2          \n",
            "matplotlib-venn               0.11.5         \n",
            "missingno                     0.4.2          \n",
            "mistune                       0.8.4          \n",
            "mizani                        0.6.0          \n",
            "mkl                           2019.0         \n",
            "mlxtend                       0.14.0         \n",
            "more-itertools                8.5.0          \n",
            "moviepy                       0.2.3.5        \n",
            "mpmath                        1.1.0          \n",
            "msgpack                       1.0.0          \n",
            "multiprocess                  0.70.10        \n",
            "multitasking                  0.0.9          \n",
            "murmurhash                    1.0.2          \n",
            "music21                       5.5.0          \n",
            "natsort                       5.5.0          \n",
            "nbclient                      0.5.0          \n",
            "nbconvert                     5.6.1          \n",
            "nbformat                      5.0.7          \n",
            "nest-asyncio                  1.4.0          \n",
            "networkx                      2.5            \n",
            "nibabel                       3.0.2          \n",
            "nltk                          3.2.5          \n",
            "notebook                      5.3.1          \n",
            "np-utils                      0.5.12.1       \n",
            "numba                         0.48.0         \n",
            "numexpr                       2.7.1          \n",
            "numpy                         1.18.5         \n",
            "nvidia-ml-py3                 7.352.0        \n",
            "oauth2client                  4.1.3          \n",
            "oauthlib                      3.1.0          \n",
            "okgrade                       0.4.3          \n",
            "opencv-contrib-python         4.1.2.30       \n",
            "opencv-python                 4.1.2.30       \n",
            "openpyxl                      2.5.9          \n",
            "opt-einsum                    3.3.0          \n",
            "osqp                          0.6.1          \n",
            "packaging                     20.4           \n",
            "palettable                    3.3.0          \n",
            "pandas                        1.0.5          \n",
            "pandas-datareader             0.8.1          \n",
            "pandas-gbq                    0.11.0         \n",
            "pandas-profiling              1.4.1          \n",
            "pandocfilters                 1.4.2          \n",
            "panel                         0.9.7          \n",
            "param                         1.9.3          \n",
            "parso                         0.7.1          \n",
            "pathlib                       1.0.1          \n",
            "patsy                         0.5.1          \n",
            "pexpect                       4.8.0          \n",
            "pickleshare                   0.7.5          \n",
            "Pillow                        7.0.0          \n",
            "pip                           19.3.1         \n",
            "pip-tools                     4.5.1          \n",
            "plac                          1.1.3          \n",
            "plotly                        4.4.1          \n",
            "plotnine                      0.6.0          \n",
            "pluggy                        0.7.1          \n",
            "portpicker                    1.3.1          \n",
            "prefetch-generator            1.0.1          \n",
            "preshed                       3.0.2          \n",
            "prettytable                   0.7.2          \n",
            "progressbar2                  3.38.0         \n",
            "prometheus-client             0.8.0          \n",
            "promise                       2.3            \n",
            "prompt-toolkit                1.0.18         \n",
            "protobuf                      3.12.4         \n",
            "psutil                        5.4.8          \n",
            "psycopg2                      2.7.6.1        \n",
            "ptyprocess                    0.6.0          \n",
            "py                            1.9.0          \n",
            "pyarrow                       0.14.1         \n",
            "pyasn1                        0.4.8          \n",
            "pyasn1-modules                0.2.8          \n",
            "pycocotools                   2.0.2          \n",
            "pycparser                     2.20           \n",
            "pyct                          0.4.8          \n",
            "pydata-google-auth            1.1.0          \n",
            "pydot                         1.3.0          \n",
            "pydot-ng                      2.0.0          \n",
            "pydotplus                     2.0.2          \n",
            "PyDrive                       1.3.1          \n",
            "pyemd                         0.5.1          \n",
            "pyglet                        1.5.0          \n",
            "Pygments                      2.6.1          \n",
            "pygobject                     3.26.1         \n",
            "pymc3                         3.7            \n",
            "PyMeeus                       0.3.7          \n",
            "pymongo                       3.11.0         \n",
            "pymystem3                     0.2.0          \n",
            "PyOpenGL                      3.1.5          \n",
            "pyparsing                     2.4.7          \n",
            "pyrsistent                    0.17.3         \n",
            "pysndfile                     1.3.8          \n",
            "PySocks                       1.7.1          \n",
            "pystan                        2.19.1.1       \n",
            "pytest                        3.6.4          \n",
            "python-apt                    1.6.5+ubuntu0.3\n",
            "python-chess                  0.23.11        \n",
            "python-dateutil               2.8.1          \n",
            "python-louvain                0.14           \n",
            "python-slugify                4.0.1          \n",
            "python-utils                  2.4.0          \n",
            "pytz                          2018.9         \n",
            "pyviz-comms                   0.7.6          \n",
            "PyWavelets                    1.1.1          \n",
            "PyYAML                        3.13           \n",
            "pyzmq                         19.0.2         \n",
            "qtconsole                     4.7.7          \n",
            "QtPy                          1.9.0          \n",
            "regex                         2019.12.20     \n",
            "requests                      2.23.0         \n",
            "requests-oauthlib             1.3.0          \n",
            "resampy                       0.2.2          \n",
            "retrying                      1.3.3          \n",
            "rpy2                          3.2.7          \n",
            "rsa                           4.6            \n",
            "s3transfer                    0.3.3          \n",
            "scikit-image                  0.16.2         \n",
            "scikit-learn                  0.22.2.post1   \n",
            "scipy                         1.4.1          \n",
            "screen-resolution-extra       0.0.0          \n",
            "scs                           2.1.2          \n",
            "seaborn                       0.10.1         \n",
            "Send2Trash                    1.5.0          \n",
            "setuptools                    50.3.0         \n",
            "setuptools-git                1.2            \n",
            "Shapely                       1.7.1          \n",
            "simplegeneric                 0.8.1          \n",
            "six                           1.15.0         \n",
            "sklearn                       0.0            \n",
            "sklearn-pandas                1.8.0          \n",
            "slugify                       0.0.1          \n",
            "smart-open                    2.1.1          \n",
            "snowballstemmer               2.0.0          \n",
            "sortedcontainers              2.2.2          \n",
            "spacy                         2.2.4          \n",
            "Sphinx                        1.8.5          \n",
            "sphinxcontrib-serializinghtml 1.1.4          \n",
            "sphinxcontrib-websupport      1.2.4          \n",
            "SQLAlchemy                    1.3.19         \n",
            "sqlparse                      0.3.1          \n",
            "srsly                         1.0.2          \n",
            "statsmodels                   0.10.2         \n",
            "sympy                         1.1.1          \n",
            "tables                        3.4.4          \n",
            "tabulate                      0.8.7          \n",
            "tblib                         1.7.0          \n",
            "tensorboard                   2.3.0          \n",
            "tensorboard-plugin-wit        1.7.0          \n",
            "tensorboardcolab              0.0.22         \n",
            "tensorflow                    2.3.0          \n",
            "tensorflow-addons             0.8.3          \n",
            "tensorflow-datasets           2.1.0          \n",
            "tensorflow-estimator          2.3.0          \n",
            "tensorflow-gcs-config         2.3.0          \n",
            "tensorflow-hub                0.9.0          \n",
            "tensorflow-metadata           0.24.0         \n",
            "tensorflow-privacy            0.2.2          \n",
            "tensorflow-probability        0.11.0         \n",
            "termcolor                     1.1.0          \n",
            "terminado                     0.8.3          \n",
            "testpath                      0.4.4          \n",
            "text-unidecode                1.3            \n",
            "textblob                      0.15.3         \n",
            "textgenrnn                    1.4.1          \n",
            "Theano                        1.0.5          \n",
            "thinc                         7.4.0          \n",
            "tifffile                      2020.9.3       \n",
            "toml                          0.10.1         \n",
            "toolz                         0.10.0         \n",
            "torch                         1.6.0+cu101    \n",
            "torchsummary                  1.5.1          \n",
            "torchtext                     0.3.1          \n",
            "torchvision                   0.7.0+cu101    \n",
            "tornado                       5.1.1          \n",
            "tqdm                          4.41.1         \n",
            "traitlets                     4.3.3          \n",
            "tweepy                        3.6.0          \n",
            "typeguard                     2.7.1          \n",
            "typing-extensions             3.7.4.3        \n",
            "tzlocal                       1.5.1          \n",
            "umap-learn                    0.4.6          \n",
            "uritemplate                   3.0.1          \n",
            "urllib3                       1.24.3         \n",
            "vega-datasets                 0.8.0          \n",
            "wasabi                        0.8.0          \n",
            "wcwidth                       0.2.5          \n",
            "webencodings                  0.5.1          \n",
            "Werkzeug                      1.0.1          \n",
            "wheel                         0.35.1         \n",
            "widgetsnbextension            3.5.1          \n",
            "wordcloud                     1.5.0          \n",
            "wrapt                         1.12.1         \n",
            "xarray                        0.15.1         \n",
            "xgboost                       0.90           \n",
            "xkit                          0.0.0          \n",
            "xlrd                          1.1.0          \n",
            "xlwt                          1.3.0          \n",
            "yellowbrick                   0.9.1          \n",
            "zict                          2.0.0          \n",
            "zipp                          3.1.0          \n"
          ],
          "name": "stdout"
        }
      ]
    },
    {
      "cell_type": "markdown",
      "metadata": {
        "id": "zvsN7MSCNSOH"
      },
      "source": [
        "Woah, that's a long list! A minimal Python installation would have far fewer packages installed initially, but Colab comes preloaded with many popular packages used for scientific computing.\n",
        "\n",
        "One very important package which will be the focus of the next chapter is called [NumPy](https://numpy.org) (Numeric Python) and is already installed. We can learn a little more about the version we have installed using `pip show`:"
      ]
    },
    {
      "cell_type": "code",
      "metadata": {
        "id": "MnCaAzbEx16J",
        "outputId": "ed686a8c-4a43-48bd-d8d7-982747c361b4",
        "colab": {
          "base_uri": "https://localhost:8080/",
          "height": 221
        }
      },
      "source": [
        "! pip show numpy"
      ],
      "execution_count": 20,
      "outputs": [
        {
          "output_type": "stream",
          "text": [
            "Name: numpy\n",
            "Version: 1.18.5\n",
            "Summary: NumPy is the fundamental package for array computing with Python.\n",
            "Home-page: https://www.numpy.org\n",
            "Author: Travis E. Oliphant et al.\n",
            "Author-email: None\n",
            "License: BSD\n",
            "Location: /usr/local/lib/python3.6/dist-packages\n",
            "Requires: \n",
            "Required-by: yellowbrick, xgboost, xarray, wordcloud, umap-learn, torchvision, torchtext, torch, tifffile, thinc, Theano, tensorflow, tensorflow-probability, tensorflow-hub, tensorflow-datasets, tensorboard, tables, statsmodels, spacy, sklearn-pandas, seaborn, scs, scipy, scikit-learn, resampy, PyWavelets, python-louvain, pystan, pysndfile, pymc3, pyemd, pyarrow, plotnine, patsy, pandas, osqp, opt-einsum, opencv-python, opencv-contrib-python, numexpr, numba, np-utils, nibabel, moviepy, mlxtend, mizani, missingno, matplotlib, matplotlib-venn, lucid, lightgbm, librosa, knnimpute, Keras, Keras-Preprocessing, kapre, jpeg4py, jaxlib, jax, imgaug, imbalanced-learn, imageio, hyperopt, holoviews, h5py, gym, gensim, folium, fix-yahoo-finance, fbprophet, fastprogress, fastdtw, fastai, fancyimpute, fa2, ecos, daft, cvxpy, cufflinks, cmdstanpy, chainer, Bottleneck, bokeh, blis, autograd, atari-py, astropy, altair, albumentations\n"
          ],
          "name": "stdout"
        }
      ]
    },
    {
      "cell_type": "markdown",
      "metadata": {
        "id": "ldpRil4wPAY0"
      },
      "source": [
        "To see how easy installing packages is, let's install the [Quantities](https://python-quantities.readthedocs.io) package, which implements physical units and constants:"
      ]
    },
    {
      "cell_type": "code",
      "metadata": {
        "id": "xJArGiiHyz8c",
        "outputId": "7507a5db-b820-4fe8-dc52-635aedf03992",
        "colab": {
          "base_uri": "https://localhost:8080/",
          "height": 201
        }
      },
      "source": [
        "! pip install quantities"
      ],
      "execution_count": 21,
      "outputs": [
        {
          "output_type": "stream",
          "text": [
            "Collecting quantities\n",
            "\u001b[?25l  Downloading https://files.pythonhosted.org/packages/2b/4f/2e8ce7d6c16fb07c43036f8539962322b2bf241e7397e87f318a1aa2f7c4/quantities-0.12.4.tar.gz (83kB)\n",
            "\r\u001b[K     |████                            | 10kB 16.9MB/s eta 0:00:01\r\u001b[K     |███████▉                        | 20kB 1.8MB/s eta 0:00:01\r\u001b[K     |███████████▊                    | 30kB 2.3MB/s eta 0:00:01\r\u001b[K     |███████████████▋                | 40kB 2.6MB/s eta 0:00:01\r\u001b[K     |███████████████████▌            | 51kB 2.1MB/s eta 0:00:01\r\u001b[K     |███████████████████████▍        | 61kB 2.3MB/s eta 0:00:01\r\u001b[K     |███████████████████████████▍    | 71kB 2.6MB/s eta 0:00:01\r\u001b[K     |███████████████████████████████▎| 81kB 2.8MB/s eta 0:00:01\r\u001b[K     |████████████████████████████████| 92kB 2.5MB/s \n",
            "\u001b[?25hBuilding wheels for collected packages: quantities\n",
            "  Building wheel for quantities (setup.py) ... \u001b[?25l\u001b[?25hdone\n",
            "  Created wheel for quantities: filename=quantities-0.12.4-cp36-none-any.whl size=79168 sha256=1e184458625ec46854d975770349a3a19504549c740b77d0c5992cd8f7029727\n",
            "  Stored in directory: /root/.cache/pip/wheels/2c/27/a5/62fb2a57d167d7b7164278de7399ba1504321c1d6c3a3802d5\n",
            "Successfully built quantities\n",
            "Installing collected packages: quantities\n",
            "Successfully installed quantities-0.12.4\n"
          ],
          "name": "stdout"
        }
      ]
    },
    {
      "cell_type": "markdown",
      "metadata": {
        "id": "UhWJX8YBQCT5"
      },
      "source": [
        "Now it can be used like any other module:"
      ]
    },
    {
      "cell_type": "code",
      "metadata": {
        "id": "vUkUDIgYy-Pb",
        "outputId": "9da7704f-847b-48f1-b36a-37651691439f",
        "colab": {
          "base_uri": "https://localhost:8080/",
          "height": 35
        }
      },
      "source": [
        "import quantities\n",
        "\n",
        "# the quantities package implements a class called Quantity which is an array\n",
        "# of numbers with an associated unit (e.g., microvolts). the class has a method\n",
        "# called rescale() which can convert the units (e.g., to millivolts).\n",
        "quantities.Quantity([1, 2, 3], 'uV').rescale('mV')"
      ],
      "execution_count": 22,
      "outputs": [
        {
          "output_type": "execute_result",
          "data": {
            "text/plain": [
              "array([0.001, 0.002, 0.003]) * mV"
            ]
          },
          "metadata": {
            "tags": []
          },
          "execution_count": 22
        }
      ]
    },
    {
      "cell_type": "markdown",
      "metadata": {
        "id": "bjBgFoUSQ4X8"
      },
      "source": [
        "If ever you install packages in a Colab environment but then want to revert to the original state (effectively uninstalling all the packages you added or upgraded), you can use the menu action *Runtime > Factory reset runtime*."
      ]
    },
    {
      "cell_type": "markdown",
      "metadata": {
        "id": "c07TBHdokweE"
      },
      "source": [
        "# Continue to the Next Lesson\n",
        "\n",
        "Return to home to continue to the next lession:\n",
        "\n",
        "https://jpgill86.github.io/python-for-neuroscientists/"
      ]
    },
    {
      "cell_type": "markdown",
      "metadata": {
        "id": "ywlbOi3FUWgK"
      },
      "source": [
        "# External Resources"
      ]
    },
    {
      "cell_type": "markdown",
      "metadata": {
        "id": "Nl36l9SJSGG9"
      },
      "source": [
        "The official language documentation:\n",
        "\n",
        "* [Python 3 documentation](https://docs.python.org/3/index.html)\n",
        "* [Built-in functions](https://docs.python.org/3/library/functions.html)\n",
        "* [Standard libraries](https://docs.python.org/3/library/index.html)\n",
        "* [Glossary of terms](https://docs.python.org/3/glossary.html)\n",
        "* [In-depth tutorial](https://docs.python.org/3/tutorial/index.html)\n",
        "\n",
        "Extended language documentation:\n",
        "* [IPython (Jupyter) vs. Python differences](https://ipython.readthedocs.io/en/stable/interactive/python-ipython-diff.html)\n",
        "* [IPython (Jupyter) \"magic\" (`%`) commands](https://ipython.readthedocs.io/en/stable/interactive/magics.html)\n",
        "\n",
        "Free interactive books created by Jake VanderPlas:\n",
        "\n",
        "* [A Whirlwind Tour of Python](https://colab.research.google.com/github/jakevdp/WhirlwindTourOfPython/blob/master/Index.ipynb) [[PDF version]](https://www.oreilly.com/programming/free/files/a-whirlwind-tour-of-python.pdf)\n",
        "* [Python Data Science Handbook](https://colab.research.google.com/github/jakevdp/PythonDataScienceHandbook/blob/master/notebooks/Index.ipynb)"
      ]
    },
    {
      "cell_type": "markdown",
      "metadata": {
        "id": "n-KhMl8xk1Ze"
      },
      "source": [
        "# License\n",
        "\n",
        "[This work](https://github.com/jpgill86/python-for-neuroscientists) is licensed under a [Creative Commons Attribution 4.0 International\n",
        "License](http://creativecommons.org/licenses/by/4.0/)."
      ]
    }
  ]
}