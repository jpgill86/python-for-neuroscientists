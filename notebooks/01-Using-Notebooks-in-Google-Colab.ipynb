{
  "nbformat": 4,
  "nbformat_minor": 0,
  "metadata": {
    "colab": {
      "name": "01-Using-Notebooks-in-Google-Colab.ipynb",
      "provenance": [],
      "collapsed_sections": [],
      "authorship_tag": "ABX9TyODb0lZMjcTTgV+rfnpyhlT",
      "include_colab_link": true
    },
    "kernelspec": {
      "name": "python3",
      "display_name": "Python 3"
    }
  },
  "cells": [
    {
      "cell_type": "markdown",
      "metadata": {
        "id": "view-in-github",
        "colab_type": "text"
      },
      "source": [
        "<a href=\"https://colab.research.google.com/github/jpgill86/python-for-neuroscientists/blob/master/notebooks/01-Using-Notebooks-in-Google-Colab.ipynb\" target=\"_parent\"><img src=\"https://colab.research.google.com/assets/colab-badge.svg\" alt=\"Open In Colab\"/></a>"
      ]
    },
    {
      "cell_type": "markdown",
      "metadata": {
        "id": "kRtOENxLT3Ft",
        "colab_type": "text"
      },
      "source": [
        "# Using Notebooks in Google Colab"
      ]
    },
    {
      "cell_type": "markdown",
      "metadata": {
        "id": "kNztP0Rw5Hew",
        "colab_type": "text"
      },
      "source": [
        "## What is Google Colab? What are Jupyter Notebooks?"
      ]
    },
    {
      "cell_type": "markdown",
      "metadata": {
        "id": "HgzkExqysI04",
        "colab_type": "text"
      },
      "source": [
        "The website you are using right now (https://colab.research.google.com) is called **Google Colaboratory**, or just **Colab** for short.\n",
        "\n",
        "Colab lets you work effortlessly with **Jupyter notebooks**, which are a special way to use the Python programming language. The page you are reading is a Jupyter notebook. Notebooks are interactive, containing both text and code that can be executed and changed in your web browser. Notebooks are a great way to write Python code, generate results, and document your work, all in one place.\n",
        "\n",
        "While it is possible to install Python and Jupyter on your computer so that you can work with Jupyter notebooks offline, this requires a lot of time to set up (and possibly some troubleshooting). The beauty of Colab is that all of the setup is done for you already. There is nothing to install. Just by navigating to this web page, you are ready to write Python code."
      ]
    },
    {
      "cell_type": "markdown",
      "metadata": {
        "id": "MSrQbk1S-p1R",
        "colab_type": "text"
      },
      "source": [
        "## Notebook Cells"
      ]
    },
    {
      "cell_type": "markdown",
      "metadata": {
        "id": "mmk4MB-22FiH",
        "colab_type": "text"
      },
      "source": [
        "Notebooks are composed of **cells**, which come in two types: **text cells** and **code cells**.\n",
        "\n",
        "You can click once on this text to select this text cell. This should cause a border to be displayed around its edges indicating it is selected.\n",
        "\n",
        "Immediately below is a code cell. If you click inside of the cell, a cursor will appear that will allow you to write code. Try typing `1+1`, and then pressing the Ctrl+Enter keys (Cmd+Return on Mac) on your keyboard to execute the code."
      ]
    },
    {
      "cell_type": "code",
      "metadata": {
        "id": "qFMIbgBI1st_",
        "colab_type": "code",
        "colab": {}
      },
      "source": [
        ""
      ],
      "execution_count": null,
      "outputs": []
    },
    {
      "cell_type": "markdown",
      "metadata": {
        "id": "kMcP2o9Z36YI",
        "colab_type": "text"
      },
      "source": [
        "The first time you execute code, three things may happen:\n",
        "\n",
        "1. You will be prompted to sign into Google if you are not already.\n",
        "2. If the notebook is not owned by you (not saved in your Google Drive), it may display \"Warning: This notebook was not authored by Google\" and require you to click \"Run anyway\".\n",
        "3. Execution may be a slower than normal because Colab needs to set up a new \"runtime\" session for you.\n",
        "\n",
        "If all goes well, you should see output below the code cell, in this case `2`.\n",
        "\n",
        "Ways to **execute a code cell** include:\n",
        "* Hover your mouse cursor over the left side of the code cell to reveal a play button and click it.\n",
        "* Open the \"Runtime\" menu at the top of the page and click one of several \"Run\" commands. The \"Run all\" command is useful for executing every code cell in a notebook in sequential order.\n",
        "* Press Ctrl+Enter (Cmd+Return on Mac) to execute the selected code cell.\n",
        "* Press Shift+Enter (Shift+Return on Mac) to execute the selected code cell and move the selection to the next cell. This keyboard shortcut can be pressed multiple times in succession to run many consecutive cells one at a time."
      ]
    },
    {
      "cell_type": "markdown",
      "metadata": {
        "id": "oBGb_D6PEeMw",
        "colab_type": "text"
      },
      "source": [
        "To **insert new cells** into the notebook:\n",
        "* Use the \"+ Code\" and \"+ Text\" buttons at the top of the page, immediately below the menus.\n",
        "* Open the \"Insert\" menu at the top of the page and click one of the cell insertion commands.\n",
        "* Place your mouse cursor between two cells to reveal \"+ Code\" and \"+ Text\" buttons and click one. This is convenient for controlling where the cell goes.\n",
        "\n",
        "A selected cell will display buttons on its right side, including:\n",
        "* Arrows to move the cell up or down in the notebook.\n",
        "* A trash can button to delete the cell. (The \"Edit\" menu has an \"Undo\" action.)\n",
        "\n",
        "To **edit a text cell**, double click on it. Text cells use [Markdown formatting](https://colab.research.google.com/notebooks/markdown_guide.ipynb) for creating bold text, italics, lists, links, inserting images, tables, equations and more.\n",
        "\n",
        "Edits you make in text cells or code cells can be **undone** using Ctrl+Z (Cmd+Z on Mac) and **redone** using Ctrl+Shirt+Z or Ctrl+Y (Cmd+Shift+Z on Mac)."
      ]
    },
    {
      "cell_type": "markdown",
      "metadata": {
        "id": "NN8SSjucSyi0",
        "colab_type": "text"
      },
      "source": [
        "## Saving and Sharing Notebooks"
      ]
    },
    {
      "cell_type": "markdown",
      "metadata": {
        "id": "wWuQGhiVS27S",
        "colab_type": "text"
      },
      "source": [
        "When working with a notebook that you do not own, you can **save a copy** of the notebook to Google Drive along with any changes you have made. Save commands are found under the \"File\" menu at the top of the page.\n",
        "\n",
        "Changes you make to notebooks you own are **saved automatically** at regular intervals, similar to Google Docs. To the right of the \"Help\" menu, you should see \"All changes saved\" when this is done successfully (you will see \"Cannot save changes\" if you do not own the notebook). You may see \"Save failed\" if your internet connection is interrupted; if this happens, stop making edits and fix the problem. You can try manually saving from the \"File\" menu or using the Ctrl+S (Cmd+S on Mac) keyboard shortcut.\n",
        "\n",
        "Previous versions of a notebook can be viewed by opening the \"File\" menu and clicking the \"Revision history\" command. You can even **restore an old version** this way if you make a big mistake.\n",
        "\n",
        "Google Colab allows you to *collab*orate with others on code. Notebooks can be shared using the \"Share\" button in the top-right corner of the page. You can **allow others to view or to edit** your notebook.\n",
        "\n",
        "**Be warned:** Multiple people working on a notebook simultaneously (this includes just executing code cells without changing the code!) can lead to complications and should usually be avoided. **Saving may fail** with this message: \"Automatic saving failed. This file was updated remotely or in another tab.\" or \"The notebook has been changed outside of this session.\""
      ]
    },
    {
      "cell_type": "markdown",
      "metadata": {
        "id": "DW8OgaMnRuBA",
        "colab_type": "text"
      },
      "source": [
        "## External Resources"
      ]
    },
    {
      "cell_type": "markdown",
      "metadata": {
        "id": "lX0I-4oDyVBf",
        "colab_type": "text"
      },
      "source": [
        "These interactive resources may be helpful for understanding Colab better:\n",
        "\n",
        "* [Overview of Colaboratory Features](https://colab.research.google.com/notebooks/basic_features_overview.ipynb)\n",
        "* [Markdown Guide](https://colab.research.google.com/notebooks/markdown_guide.ipynb)\n",
        "* [Other Colab Examples](https://colab.research.google.com/notebooks/)"
      ]
    },
    {
      "cell_type": "markdown",
      "metadata": {
        "id": "AuFdr9E1g3sJ",
        "colab_type": "text"
      },
      "source": [
        "# Continue to the Next Lesson\n",
        "\n",
        "Return to home to continue to the next lession:\n",
        "\n",
        "https://jpgill86.github.io/python-for-neuroscientists/"
      ]
    },
    {
      "cell_type": "markdown",
      "metadata": {
        "id": "EW1Jdt4Eh92t",
        "colab_type": "text"
      },
      "source": [
        "# License\n",
        "\n",
        "[This work](https://github.com/jpgill86/python-for-neuroscientists) is licensed under a [Creative Commons Attribution 4.0 International\n",
        "License](http://creativecommons.org/licenses/by/4.0/)."
      ]
    }
  ]
}