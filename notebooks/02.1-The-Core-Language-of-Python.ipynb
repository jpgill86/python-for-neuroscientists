{
  "nbformat": 4,
  "nbformat_minor": 0,
  "metadata": {
    "colab": {
      "name": "02.1-The-Core-Language-of-Python.ipynb",
      "provenance": [],
      "collapsed_sections": [],
      "toc_visible": true,
      "include_colab_link": true
    },
    "kernelspec": {
      "name": "python3",
      "display_name": "Python 3"
    }
  },
  "cells": [
    {
      "cell_type": "markdown",
      "metadata": {
        "id": "view-in-github",
        "colab_type": "text"
      },
      "source": [
        "<a href=\"https://colab.research.google.com/github/jpgill86/python-for-neuroscientists/blob/master/notebooks/02.1-The-Core-Language-of-Python.ipynb\" target=\"_parent\"><img src=\"https://colab.research.google.com/assets/colab-badge.svg\" alt=\"Open In Colab\"/></a>"
      ]
    },
    {
      "cell_type": "markdown",
      "metadata": {
        "id": "QRtgy8QlUJSM",
        "colab_type": "text"
      },
      "source": [
        "# The Core Language of Python: Part 1"
      ]
    },
    {
      "cell_type": "markdown",
      "metadata": {
        "id": "EKEQe-jELmlJ",
        "colab_type": "text"
      },
      "source": [
        "This chapter is broken into multiple notebooks and will be primarily focused on \"vanilla\" Python. That is, the core language will be showcased, but third-party libraries (like NumPy, Pandas, Matplotlib) will be discussed elsewhere. This chapter is all about what the basic language can do.\n",
        "\n",
        "That said, there are a some extra features available in Jupyter notebooks that are not part of the core language but which will be useful to introduce here. These will be sprinked in where appropriate."
      ]
    },
    {
      "cell_type": "markdown",
      "metadata": {
        "id": "EzxgjskbI3aP",
        "colab_type": "text"
      },
      "source": [
        "## Getting Help While Coding"
      ]
    },
    {
      "cell_type": "markdown",
      "metadata": {
        "id": "OJm7JzuhJGI3",
        "colab_type": "text"
      },
      "source": [
        "Even veteran Python programmers need to look things up sometimes! As you work through this notebook and start to write your own code, keep these tips in mind:\n",
        "\n",
        "* Python has a built-in documentation system, which is accessed using the `help()` function. For example, `help(print)` or `help(str)` can give you more information about functions and data types (try it!). You can use it on variables that have been defined in your code as well.\n",
        "\n",
        "* In Jupyter notebooks, you can get some of the same information (often with fewer technical details) to appear in a separate \"Help\" tab by using the special `?` symbol, which can be placed before or immediately after a name. For examples, try `? print` or `max?`.\n",
        "\n",
        "* The online, official documentation is great for in-depth, definitive information: [https://docs.python.org](https://docs.python.org)\n",
        "\n",
        "* Googling with the right search terms, like \"python list slicing\", will get you very far in life. Just be aware that results for older versions of Python, especially Python 2, may come up and no longer be correct. To check the version of Python you are using, just run this code:"
      ]
    },
    {
      "cell_type": "code",
      "metadata": {
        "id": "aBJ8DWQDNFGs",
        "colab_type": "code",
        "colab": {
          "base_uri": "https://localhost:8080/",
          "height": 54
        },
        "outputId": "f57a90b9-073d-402f-c731-5221588453e5"
      },
      "source": [
        "from sys import version\n",
        "print(version)"
      ],
      "execution_count": null,
      "outputs": [
        {
          "output_type": "stream",
          "text": [
            "3.6.9 (default, Jul 17 2020, 12:50:27) \n",
            "[GCC 8.4.0]\n"
          ],
          "name": "stdout"
        }
      ]
    },
    {
      "cell_type": "markdown",
      "metadata": {
        "id": "di2Gq7cVXOM_",
        "colab_type": "text"
      },
      "source": [
        "## Comments"
      ]
    },
    {
      "cell_type": "markdown",
      "metadata": {
        "id": "lg_S4UTWXQpw",
        "colab_type": "text"
      },
      "source": [
        "In Python, the `#` character indicates the start of a **comment**. Everything on a line of code that comes after a `#` character is ignored by the computer.\n",
        "\n",
        "> *Aside: Colab allows you to attach notes to cells, which are confusingly also called \"comments\". These are not the same thing as code comments.*\n",
        "\n",
        "Code comments have two purposes:\n",
        "\n",
        "* Comments allow you to include explanations of how the code works. This is an essential habit every programmer should develop: **write helpful comments in your code**. This helps others understand how your code works. This (especially) includes *future-you*!\n",
        "* You can **reversibly disable** a line of code by putting a `#` character at the start. When developing code, this is very useful.\n",
        "\n",
        "Here's a trivial example of an explanatory comment:"
      ]
    },
    {
      "cell_type": "code",
      "metadata": {
        "id": "mYSE5BYnZsgS",
        "colab_type": "code",
        "colab": {
          "base_uri": "https://localhost:8080/",
          "height": 35
        },
        "outputId": "fe45d754-e901-4a49-828c-413f1d7cc384"
      },
      "source": [
        "# calculate one plus one\n",
        "1 + 1"
      ],
      "execution_count": null,
      "outputs": [
        {
          "output_type": "execute_result",
          "data": {
            "text/plain": [
              "2"
            ]
          },
          "metadata": {
            "tags": []
          },
          "execution_count": 2
        }
      ]
    },
    {
      "cell_type": "markdown",
      "metadata": {
        "id": "NZndinzxZ6km",
        "colab_type": "text"
      },
      "source": [
        "Notice the comment is easily distinguishable by its color.\n",
        "\n",
        "Colab provides a very useful keyboard shortcut for adding and removing the `#` symbol from the current line of code, or many lines at once if you select them first: Ctrl+/ (Cmd+/ on Mac).\n",
        "\n",
        "Try placing your cursor in the code cell below and toggling the comment state of the line using the keyboard shortcut:"
      ]
    },
    {
      "cell_type": "code",
      "metadata": {
        "id": "6503wDsMcUzq",
        "colab_type": "code",
        "colab": {}
      },
      "source": [
        "# 1 + 1"
      ],
      "execution_count": null,
      "outputs": []
    },
    {
      "cell_type": "markdown",
      "metadata": {
        "id": "iYTNC1UTQRTZ",
        "colab_type": "text"
      },
      "source": [
        "## Variables and Operators"
      ]
    },
    {
      "cell_type": "markdown",
      "metadata": {
        "id": "WA2OomvOQXY8",
        "colab_type": "text"
      },
      "source": [
        "Data can be stored in variables using `=`. Try executing the two code cells below in order to first store the value `2` in the variable `x` and then to display the contents of `x`."
      ]
    },
    {
      "cell_type": "code",
      "metadata": {
        "id": "e_2GYieLLBV5",
        "colab_type": "code",
        "colab": {}
      },
      "source": [
        "# store 2 in x\n",
        "x = 1 + 1"
      ],
      "execution_count": null,
      "outputs": []
    },
    {
      "cell_type": "code",
      "metadata": {
        "id": "MYMDjVCbK15F",
        "colab_type": "code",
        "colab": {
          "base_uri": "https://localhost:8080/",
          "height": 35
        },
        "outputId": "04c09dfc-6f0b-411c-aece-0182fedea8d1"
      },
      "source": [
        "# output the value of x\n",
        "x"
      ],
      "execution_count": null,
      "outputs": [
        {
          "output_type": "execute_result",
          "data": {
            "text/plain": [
              "2"
            ]
          },
          "metadata": {
            "tags": []
          },
          "execution_count": 5
        }
      ]
    },
    {
      "cell_type": "markdown",
      "metadata": {
        "id": "9q9mptu_OaEm",
        "colab_type": "text"
      },
      "source": [
        "In Jupyter notebooks, you can list all of the variables (and functions, classes, imported modules) that you have defined, along with their values, using the \"magic\" command `%whos`:"
      ]
    },
    {
      "cell_type": "code",
      "metadata": {
        "id": "_N4utwwnKmcd",
        "colab_type": "code",
        "colab": {
          "base_uri": "https://localhost:8080/",
          "height": 90
        },
        "outputId": "bf9c34ff-2eea-48de-be58-2117ccdc9bd0"
      },
      "source": [
        "# remember this one -- it is super useful!\n",
        "%whos"
      ],
      "execution_count": null,
      "outputs": [
        {
          "output_type": "stream",
          "text": [
            "Variable   Type    Data/Info\n",
            "----------------------------\n",
            "version    str     3.6.9 (default, Jul 17 20<...>, 12:50:27) \\n[GCC 8.4.0]\n",
            "x          int     2\n"
          ],
          "name": "stdout"
        }
      ]
    },
    {
      "cell_type": "markdown",
      "metadata": {
        "id": "SxwD_4d3Rp57",
        "colab_type": "text"
      },
      "source": [
        "You can check a variable's type using the built-in `type()` function:"
      ]
    },
    {
      "cell_type": "code",
      "metadata": {
        "id": "4J1xA6H1S7GI",
        "colab_type": "code",
        "colab": {
          "base_uri": "https://localhost:8080/",
          "height": 35
        },
        "outputId": "38328efd-633f-4286-9946-4501deaf30ea"
      },
      "source": [
        "type(x)"
      ],
      "execution_count": null,
      "outputs": [
        {
          "output_type": "execute_result",
          "data": {
            "text/plain": [
              "int"
            ]
          },
          "metadata": {
            "tags": []
          },
          "execution_count": 7
        }
      ]
    },
    {
      "cell_type": "markdown",
      "metadata": {
        "id": "NFxV9GUgS86c",
        "colab_type": "text"
      },
      "source": [
        "`int` stands for \"integer\".\n",
        "\n",
        "Unlike some stricter languages, Python allows you to change the type of a variable effortlessly by assigning it a new value."
      ]
    },
    {
      "cell_type": "code",
      "metadata": {
        "id": "WfHybtGqTR7J",
        "colab_type": "code",
        "colab": {}
      },
      "source": [
        "x = 1.5"
      ],
      "execution_count": null,
      "outputs": []
    },
    {
      "cell_type": "code",
      "metadata": {
        "id": "2qJRlmD2Tz12",
        "colab_type": "code",
        "colab": {
          "base_uri": "https://localhost:8080/",
          "height": 35
        },
        "outputId": "35fd48a6-cac5-463a-d8be-297a6bcf5197"
      },
      "source": [
        "type(x)"
      ],
      "execution_count": null,
      "outputs": [
        {
          "output_type": "execute_result",
          "data": {
            "text/plain": [
              "float"
            ]
          },
          "metadata": {
            "tags": []
          },
          "execution_count": 9
        }
      ]
    },
    {
      "cell_type": "markdown",
      "metadata": {
        "id": "T7xSp41zTVOX",
        "colab_type": "text"
      },
      "source": [
        "`float` stands for \"floating point number\", which is a format that computers use to represent decimal numbers. `int` and `float` are both numeric types.\n",
        "\n",
        "Truth values are represented in Python using `True` and `False`, which have type `bool` (for \"Boolean\"). `True` and `False` must always start with capital letters. These values can be assigned to variables directly, or they can result from comparisons and tests.\n",
        "\n",
        "For example, the `==` comparison operator (double-equals; this is different from the single-equals `=` used for variable assignment!) can be used to test whether two values match. It will evaluate to either `True` or `False`.\n",
        "\n",
        "Try running the cell below twice, first with `x = 2` and a second time with `x = 1.5`. Use the keyboard shortcut for toggling comments (Ctrl+/ or Cmd+/) to switch which variable assignment is used when the cell runs."
      ]
    },
    {
      "cell_type": "code",
      "metadata": {
        "id": "04f2nV4DTkdk",
        "colab_type": "code",
        "colab": {
          "base_uri": "https://localhost:8080/",
          "height": 35
        },
        "outputId": "045f7dd4-f245-4f97-f999-4473cb267782"
      },
      "source": [
        "x = 2\n",
        "# x = 1.5\n",
        "type(x) == int"
      ],
      "execution_count": null,
      "outputs": [
        {
          "output_type": "execute_result",
          "data": {
            "text/plain": [
              "True"
            ]
          },
          "metadata": {
            "tags": []
          },
          "execution_count": 10
        }
      ]
    },
    {
      "cell_type": "markdown",
      "metadata": {
        "id": "aY3xfKBag32B",
        "colab_type": "text"
      },
      "source": [
        "Python can, of course, perform the other basic mathematical operations, not just addition:\n",
        "\n",
        "```python\n",
        "5 + 2   # addition        = 7\n",
        "5 - 2   # subtraction     = 3\n",
        "5 * 2   # multiplication  = 10\n",
        "5 / 2   # division        = 2.5\n",
        "5 ** 2  # exponentiation  = 25\n",
        "        # (do NOT use ^ for exponentiation, it does something very different!)\n",
        "\n",
        "5 // 2  # integer division (drop remainder)  = 2\n",
        "5 % 2   # modulus (remainder)                = 1\n",
        "```\n",
        "\n",
        "Python has many more comparison operators:\n",
        "\n",
        "```python\n",
        "x = 2      # assign 2 to x\n",
        "t = True   # assign True to t\n",
        "f = False  # assign False to f\n",
        "\n",
        "x == 2     # equal                  = True\n",
        "x != 2     # not equal              = False\n",
        "x > 2      # greater than           = False\n",
        "x < 2      # less than              = False\n",
        "x >= 2     # greater than or equal  = True\n",
        "x <= 2     # less than or equal     = True\n",
        "\n",
        "t and f    # both true              = False\n",
        "t or f     # either true            = True\n",
        "not t      # negation               = False\n",
        "not f      #                        = True\n",
        "```"
      ]
    },
    {
      "cell_type": "markdown",
      "metadata": {
        "id": "ltks2-ABKx1c",
        "colab_type": "text"
      },
      "source": [
        "## Printing"
      ]
    },
    {
      "cell_type": "markdown",
      "metadata": {
        "id": "aXQC7_bXK13G",
        "colab_type": "text"
      },
      "source": [
        "To display the value of a variable or the result of a calculation, you can simply write the variable name or perform the calculation as the last thing in a code cell. For example:"
      ]
    },
    {
      "cell_type": "code",
      "metadata": {
        "id": "JNgiUIoKK06g",
        "colab_type": "code",
        "colab": {
          "base_uri": "https://localhost:8080/",
          "height": 35
        },
        "outputId": "db01f56f-9273-4282-eb28-b979d5fa6937"
      },
      "source": [
        "x = 1 + 1\n",
        "x"
      ],
      "execution_count": null,
      "outputs": [
        {
          "output_type": "execute_result",
          "data": {
            "text/plain": [
              "2"
            ]
          },
          "metadata": {
            "tags": []
          },
          "execution_count": 11
        }
      ]
    },
    {
      "cell_type": "markdown",
      "metadata": {
        "id": "RrCbYTOZLpfX",
        "colab_type": "text"
      },
      "source": [
        "If you try to do this with multiple variables or calculations, only the last will be displayed automatically:"
      ]
    },
    {
      "cell_type": "code",
      "metadata": {
        "id": "TYCxagQjLnCv",
        "colab_type": "code",
        "colab": {
          "base_uri": "https://localhost:8080/",
          "height": 35
        },
        "outputId": "7ebeb1c1-1c51-484c-b925-d34af2f8ca6d"
      },
      "source": [
        "x = 1 + 1\n",
        "y = x + 1\n",
        "\n",
        "x\n",
        "y"
      ],
      "execution_count": null,
      "outputs": [
        {
          "output_type": "execute_result",
          "data": {
            "text/plain": [
              "3"
            ]
          },
          "metadata": {
            "tags": []
          },
          "execution_count": 12
        }
      ]
    },
    {
      "cell_type": "markdown",
      "metadata": {
        "id": "ia2rpRTAL2Z6",
        "colab_type": "text"
      },
      "source": [
        "To display multiple things as a result of running one code cell, you can use the `print()` function:"
      ]
    },
    {
      "cell_type": "code",
      "metadata": {
        "id": "l0kZmZHrMFmC",
        "colab_type": "code",
        "colab": {
          "base_uri": "https://localhost:8080/",
          "height": 90
        },
        "outputId": "7a2e8baa-9263-404a-b814-71296a025cd6"
      },
      "source": [
        "print(x)\n",
        "print(y)\n",
        "\n",
        "z = y + 1\n",
        "\n",
        "print(z)\n",
        "print(z + 1)"
      ],
      "execution_count": null,
      "outputs": [
        {
          "output_type": "stream",
          "text": [
            "2\n",
            "3\n",
            "4\n",
            "5\n"
          ],
          "name": "stdout"
        }
      ]
    },
    {
      "cell_type": "markdown",
      "metadata": {
        "id": "o3tAb3nZnzYb",
        "colab_type": "text"
      },
      "source": [
        "## Strings"
      ]
    },
    {
      "cell_type": "markdown",
      "metadata": {
        "id": "J7GJkDWroVj9",
        "colab_type": "text"
      },
      "source": [
        "Variables containing text are called strings and have type `str`. Strings can be enclosed by either double quotes (`\"\"`) or single quotes (`''`). Which you use often comes down to personal preference."
      ]
    },
    {
      "cell_type": "code",
      "metadata": {
        "id": "-usEh06mz-cf",
        "colab_type": "code",
        "colab": {
          "base_uri": "https://localhost:8080/",
          "height": 35
        },
        "outputId": "dec5519c-a266-4ed8-8d1d-2056e1721193"
      },
      "source": [
        "genus = \"Aplysia\"\n",
        "species = 'californica'\n",
        "\n",
        "type(genus)"
      ],
      "execution_count": null,
      "outputs": [
        {
          "output_type": "execute_result",
          "data": {
            "text/plain": [
              "str"
            ]
          },
          "metadata": {
            "tags": []
          },
          "execution_count": 14
        }
      ]
    },
    {
      "cell_type": "markdown",
      "metadata": {
        "id": "RLDRIAgh2fOj",
        "colab_type": "text"
      },
      "source": [
        "Multi-line strings can be constructed using three quote marks (either `\"\"\"` or `'''`). Inside of a **triple quoted string**, including a backslash (`\\`) at the end of a line will cause the line break immediately following it to be ignored.\n",
        "\n",
        "In the example below, a backslash is included at the end of the first line so that the string will not begin with an empty line. Also, the string is printed using `print()`, instead of just displayed by naming the variable, so that the line breaks will display properly."
      ]
    },
    {
      "cell_type": "code",
      "metadata": {
        "id": "N6kaB_xP2Ieh",
        "colab_type": "code",
        "colab": {
          "base_uri": "https://localhost:8080/",
          "height": 146
        },
        "outputId": "990cb00b-92a4-4dc7-f133-3db26605d4e0"
      },
      "source": [
        "long_string = \"\"\"\\\n",
        "Strange women lying in ponds\n",
        "distributing swords is no basis\n",
        "for a system of government!\n",
        "Supreme executive power derives\n",
        "from a mandate from the masses,\n",
        "not from some farcical aquatic\n",
        "ceremony!\"\"\"\n",
        "\n",
        "print(long_string)"
      ],
      "execution_count": null,
      "outputs": [
        {
          "output_type": "stream",
          "text": [
            "Strange women lying in ponds\n",
            "distributing swords is no basis\n",
            "for a system of government!\n",
            "Supreme executive power derives\n",
            "from a mandate from the masses,\n",
            "not from some farcical aquatic\n",
            "ceremony!\n"
          ],
          "name": "stdout"
        }
      ]
    },
    {
      "cell_type": "markdown",
      "metadata": {
        "id": "yIB_zDeJ5ZIh",
        "colab_type": "text"
      },
      "source": [
        "> *Aside: The Python language is named after the British comedy troupe \"Monty Python\", and the text above is a quote from their 1975 film \"Monty Python and the Holy Grail\". You will not learn much about programming by watching it, but I still highly recommend it.*\n",
        "\n",
        "Including a literal apostrophe (`'`) or quotation mark (`\"`) inside your string can cause a problem if Python misinterprets the character as terminating your string. You can avoid this problem by either using the other type of quote to enclose your string, or by using a backslash to \"escape\" the literal punctuation mark, which tells Python to not interpret the character as terminating the string. That is, Python will interpret `\\'` and `\\\"` as just punctuation in a string, rather than the end of the string."
      ]
    },
    {
      "cell_type": "code",
      "metadata": {
        "id": "u1IAYrpQ9y_7",
        "colab_type": "code",
        "colab": {
          "base_uri": "https://localhost:8080/",
          "height": 54
        },
        "outputId": "11671741-1785-43bc-ba5d-7e043839654c"
      },
      "source": [
        "# option 1: enclose the string in double quotes\n",
        "# so that the apostrophe is not misinterpreted\n",
        "string1 = \"The slug's ink ain't pink; it's purple.\"\n",
        "\n",
        "# option 2: use a backslash to escape the apostrophe\n",
        "string2 = 'The slug\\'s ink ain\\'t pink; it\\'s purple.'\n",
        "\n",
        "print(string1)\n",
        "print(string2)"
      ],
      "execution_count": null,
      "outputs": [
        {
          "output_type": "stream",
          "text": [
            "The slug's ink ain't pink; it's purple.\n",
            "The slug's ink ain't pink; it's purple.\n"
          ],
          "name": "stdout"
        }
      ]
    },
    {
      "cell_type": "markdown",
      "metadata": {
        "id": "4g5s0sP381r8",
        "colab_type": "text"
      },
      "source": [
        "The value of a string variable can be tested with `==`. Notice that, in the following example, switching from double quotes (above, when `genus` was assigned its value) to single quotes (below) does not matter."
      ]
    },
    {
      "cell_type": "code",
      "metadata": {
        "id": "ctoPaymS0awd",
        "colab_type": "code",
        "colab": {
          "base_uri": "https://localhost:8080/",
          "height": 35
        },
        "outputId": "11bb9828-3999-4fdb-99f1-7d61f69b9bb5"
      },
      "source": [
        "genus == 'Aplysia'"
      ],
      "execution_count": null,
      "outputs": [
        {
          "output_type": "execute_result",
          "data": {
            "text/plain": [
              "True"
            ]
          },
          "metadata": {
            "tags": []
          },
          "execution_count": 17
        }
      ]
    },
    {
      "cell_type": "markdown",
      "metadata": {
        "id": "QhFbzs880zmB",
        "colab_type": "text"
      },
      "source": [
        "Strings can also be **concatenated**, or put together, using `+`. Here, a string containing just a space is sandwiched between two string variables:"
      ]
    },
    {
      "cell_type": "code",
      "metadata": {
        "id": "P3uCgkcl1AJS",
        "colab_type": "code",
        "colab": {
          "base_uri": "https://localhost:8080/",
          "height": 36
        },
        "outputId": "98c1a2e1-6856-4238-ab63-4a019e3b8979"
      },
      "source": [
        "genus + ' ' + species"
      ],
      "execution_count": null,
      "outputs": [
        {
          "output_type": "execute_result",
          "data": {
            "application/vnd.google.colaboratory.intrinsic+json": {
              "type": "string"
            },
            "text/plain": [
              "'Aplysia californica'"
            ]
          },
          "metadata": {
            "tags": []
          },
          "execution_count": 18
        }
      ]
    },
    {
      "cell_type": "markdown",
      "metadata": {
        "id": "uY0J_AzNAnaq",
        "colab_type": "text"
      },
      "source": [
        "> *Aside: This is an example of* **operator overloading** *where the same symbol is used in different contexts to do different things. As we saw before, the `+` operator can be used to perform arithmetic addition, as well as to concatenate strings. It can also be used to join lists, as will be described below.*\n",
        "\n",
        "For more complex string manipulation, a special type of string called an **f-string** may be useful. F-strings are distinguished by the character `f` immediately preceding the enclosing quotes (either `f'...'` or `f\"...\"`). The `f` stands for \"format\", and f-strings allow you both to combine variables into a single string and to control the way numbers are displayed.\n",
        "\n",
        "In an f-string, curly braces (`{}`) may enclose the names of variables or more complex expressions, and those expressions will be evaluated to create the string. For example, the previous example combined a genus and species name with `+` symbols, but this can also be done with f-strings:"
      ]
    },
    {
      "cell_type": "code",
      "metadata": {
        "id": "3OOJGR2V0RJJ",
        "colab_type": "code",
        "colab": {
          "base_uri": "https://localhost:8080/",
          "height": 36
        },
        "outputId": "776c498b-5c7e-4b72-e92a-76850580cdb1"
      },
      "source": [
        "f'{genus} {species}'"
      ],
      "execution_count": null,
      "outputs": [
        {
          "output_type": "execute_result",
          "data": {
            "application/vnd.google.colaboratory.intrinsic+json": {
              "type": "string"
            },
            "text/plain": [
              "'Aplysia californica'"
            ]
          },
          "metadata": {
            "tags": []
          },
          "execution_count": 19
        }
      ]
    },
    {
      "cell_type": "markdown",
      "metadata": {
        "id": "odNiHSEVCKGg",
        "colab_type": "text"
      },
      "source": [
        "F-strings allow calculations to be performed inside of the curly braces:"
      ]
    },
    {
      "cell_type": "code",
      "metadata": {
        "id": "2oyBvwRJCJay",
        "colab_type": "code",
        "colab": {
          "base_uri": "https://localhost:8080/",
          "height": 36
        },
        "outputId": "f07480b7-e300-4261-993b-b60bff43e2b5"
      },
      "source": [
        "x = 2\n",
        "y = 8\n",
        "\n",
        "f'{x} raised to the {y}th power is {x**y}'"
      ],
      "execution_count": null,
      "outputs": [
        {
          "output_type": "execute_result",
          "data": {
            "application/vnd.google.colaboratory.intrinsic+json": {
              "type": "string"
            },
            "text/plain": [
              "'2 raised to the 8th power is 256'"
            ]
          },
          "metadata": {
            "tags": []
          },
          "execution_count": 20
        }
      ]
    },
    {
      "cell_type": "markdown",
      "metadata": {
        "id": "qCz9VfcaC3xg",
        "colab_type": "text"
      },
      "source": [
        "F-strings also allow numbers to be formatted just the way you want. For example, you can control how many digits after the decimal point are displayed using `{my_number:.xf}`, where `x` is the number of digits:"
      ]
    },
    {
      "cell_type": "code",
      "metadata": {
        "id": "sgf51uvcDGn2",
        "colab_type": "code",
        "colab": {
          "base_uri": "https://localhost:8080/",
          "height": 36
        },
        "outputId": "5cca45f9-119d-4d99-800d-56450231ba15"
      },
      "source": [
        "pi = 3.14159265358979323846\n",
        "\n",
        "f'The ratio of a circle\\'s circumferance to its diameter is {pi:.5f}'"
      ],
      "execution_count": null,
      "outputs": [
        {
          "output_type": "execute_result",
          "data": {
            "application/vnd.google.colaboratory.intrinsic+json": {
              "type": "string"
            },
            "text/plain": [
              "\"The ratio of a circle's circumferance to its diameter is 3.14159\""
            ]
          },
          "metadata": {
            "tags": []
          },
          "execution_count": 21
        }
      ]
    },
    {
      "cell_type": "markdown",
      "metadata": {
        "id": "-lXX2habGfdh",
        "colab_type": "text"
      },
      "source": [
        "> *Aside: Prior to the addition of f-strings to Python in 2016, strings could be (and still can be) formatted using different syntax. All of these are equivalent, but f-strings tend to be, in my opinion, most readable because of their simplicity, while also being incredibly flexible:*\n",
        "```python\n",
        "genus + ' ' + species\n",
        "'%s %s' % (genus, species)\n",
        "'{} {}'.format(genus, species)\n",
        "'{g} {s}'.format(g=genus, s=species)\n",
        "f'{genus} {species}'\n",
        "```"
      ]
    },
    {
      "cell_type": "markdown",
      "metadata": {
        "id": "DyTGFNGmeJuk",
        "colab_type": "text"
      },
      "source": [
        "The built-in `str()` function can be used to convert objects of other types, such as numbers, into strings:"
      ]
    },
    {
      "cell_type": "code",
      "metadata": {
        "id": "glCFNuUDeRIJ",
        "colab_type": "code",
        "colab": {
          "base_uri": "https://localhost:8080/",
          "height": 36
        },
        "outputId": "4ab7e615-a097-438f-ddf2-b0c838fa7f49"
      },
      "source": [
        "str(123)"
      ],
      "execution_count": null,
      "outputs": [
        {
          "output_type": "execute_result",
          "data": {
            "application/vnd.google.colaboratory.intrinsic+json": {
              "type": "string"
            },
            "text/plain": [
              "'123'"
            ]
          },
          "metadata": {
            "tags": []
          },
          "execution_count": 22
        }
      ]
    },
    {
      "cell_type": "markdown",
      "metadata": {
        "id": "O5qvrpM95d8N",
        "colab_type": "text"
      },
      "source": [
        "Strings are a data type with **method functions** (also called **member functions**), i.e., built-in functions that are associated with every string object.\n",
        "\n",
        "> *Aside: In fact, virtually every data type, including those we have already seen (`int`, `float`, `bool`) and others we will see shortly (`list`, `tuple`, `dict`) have associated method functions. We will discuss more of these in the future.*\n",
        "\n",
        "One example of a string method is `upper()`, which converts all letters in the string to uppercase:"
      ]
    },
    {
      "cell_type": "code",
      "metadata": {
        "id": "ZHDBe9sx6pcf",
        "colab_type": "code",
        "colab": {
          "base_uri": "https://localhost:8080/",
          "height": 36
        },
        "outputId": "9df90151-0447-4e4d-fc39-87fd9489ebde"
      },
      "source": [
        "my_string = 'Aplysia californica'\n",
        "my_string.upper()"
      ],
      "execution_count": null,
      "outputs": [
        {
          "output_type": "execute_result",
          "data": {
            "application/vnd.google.colaboratory.intrinsic+json": {
              "type": "string"
            },
            "text/plain": [
              "'APLYSIA CALIFORNICA'"
            ]
          },
          "metadata": {
            "tags": []
          },
          "execution_count": 23
        }
      ]
    },
    {
      "cell_type": "markdown",
      "metadata": {
        "id": "fW5IK37-6wB4",
        "colab_type": "text"
      },
      "source": [
        "As you can see above, method functions are accessed in Python using **dot notation**, e.g., `my_string.upper`, where a period (`.`) separates the object name (`my_string`) and the method name (`upper`). In Colab, it is easy to see a listing of the method functions (and other attributes) associated with a variable by typing in the variable name, followed by a period, and then pausing for a brief moment. If you try it for `my_string` (assuming you evaluated the cell above), you will see a pop-up that looks like this:\n",
        "\n",
        "![Screenshot of list methods pop-up in Colab](data:image/png;base64,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)\n",
        "\n",
        "If the number of available methods is large, you may need to scroll within the pop-up to see them all. Try it!\n",
        "\n",
        "Take some time to familiarize yourself with some of the string methods. You can use `?` to learn more about them (e.g., `my_string.upper?`). Here are some additional examples (some use lists, which will be introduced soon):"
      ]
    },
    {
      "cell_type": "code",
      "metadata": {
        "id": "ATbqRGU78vEh",
        "colab_type": "code",
        "colab": {
          "base_uri": "https://localhost:8080/",
          "height": 146
        },
        "outputId": "b75c2476-6003-4ac4-9473-f5b2e17ce494"
      },
      "source": [
        "my_string = 'Aplysia californica'\n",
        "\n",
        "# convert all letters to uppercase\n",
        "print(my_string.upper())\n",
        "\n",
        "# return True if the string begins with capital A, otherwise return False\n",
        "print(my_string.startswith('A'))\n",
        "\n",
        "# count the number of occurances of lowercase i\n",
        "print(my_string.count('i'))\n",
        "\n",
        "# replace each i with an exclamation point\n",
        "print(my_string.replace('i', '!'))\n",
        "\n",
        "# split the string everywhere there is a lowercase i to make a list of smaller\n",
        "# strings, discarding the i's in the process\n",
        "print(my_string.split('i'))\n",
        "\n",
        "# join each string in the list with a hyphen\n",
        "print('-'.join(['pre', 'synaptic']))\n",
        "\n",
        "# after splitting the string at the i's, join the pieces together again with\n",
        "# i's, thereby reconstructing the original string\n",
        "print('i'.join(my_string.split('i')))"
      ],
      "execution_count": null,
      "outputs": [
        {
          "output_type": "stream",
          "text": [
            "APLYSIA CALIFORNICA\n",
            "True\n",
            "3\n",
            "Aplys!a cal!forn!ca\n",
            "['Aplys', 'a cal', 'forn', 'ca']\n",
            "pre-synaptic\n",
            "Aplysia californica\n"
          ],
          "name": "stdout"
        }
      ]
    },
    {
      "cell_type": "markdown",
      "metadata": {
        "id": "6fFMGy5af8w8",
        "colab_type": "text"
      },
      "source": [
        "## If/Else Statements"
      ]
    },
    {
      "cell_type": "markdown",
      "metadata": {
        "id": "Lju3cRiE2dow",
        "colab_type": "text"
      },
      "source": [
        "Code can be executed conditionally depending on the results of comparison operations and Boolean truth values using `if`/`else` statements.\n",
        "\n",
        "The simplest form of an `if` statement does something only if the specified condition is true. In the example below, a `print` command is executed only if `x` is positive (in this case, it is). Notice that a **colon** (`:`) terminates the condition in the line containing `if`, and the command(s) that follow are **indented**. This indentation is required and must be consistent."
      ]
    },
    {
      "cell_type": "code",
      "metadata": {
        "id": "5dRkuOnEgXdc",
        "colab_type": "code",
        "colab": {
          "base_uri": "https://localhost:8080/",
          "height": 35
        },
        "outputId": "ca5d8c9f-deaf-4602-c816-8f354a583c70"
      },
      "source": [
        "x = 10\n",
        "\n",
        "if x > 0:\n",
        "    # this code will run because x > 0 is true\n",
        "    print('x is positive')"
      ],
      "execution_count": null,
      "outputs": [
        {
          "output_type": "stream",
          "text": [
            "x is positive\n"
          ],
          "name": "stdout"
        }
      ]
    },
    {
      "cell_type": "markdown",
      "metadata": {
        "id": "N6WZc4w25b9V",
        "colab_type": "text"
      },
      "source": [
        "If the condition is not true, as below, nothing will happen."
      ]
    },
    {
      "cell_type": "code",
      "metadata": {
        "id": "6GsUjUgHgd26",
        "colab_type": "code",
        "colab": {}
      },
      "source": [
        "x = -5\n",
        "\n",
        "if x > 0:\n",
        "    # this code will NOT run because x > 0 is false\n",
        "    print('x is positive')"
      ],
      "execution_count": null,
      "outputs": []
    },
    {
      "cell_type": "markdown",
      "metadata": {
        "id": "43Yehw8h5jcj",
        "colab_type": "text"
      },
      "source": [
        "The conditionally-executed code may contain much more than a single `print` command. Any number of lines of code can be included there, but they must be consistently indented. Four spaces is a common indentation convention.\n",
        "\n",
        "If you want some other code to run if the condition is false, use `else`. Again, a colon is needed."
      ]
    },
    {
      "cell_type": "code",
      "metadata": {
        "id": "mDK0CrOq6SjO",
        "colab_type": "code",
        "colab": {
          "base_uri": "https://localhost:8080/",
          "height": 35
        },
        "outputId": "44f30323-c748-4b2d-bffc-f0a9cfdb3086"
      },
      "source": [
        "x = -5\n",
        "\n",
        "if x > 0:\n",
        "    # this code will NOT run because x > 0 is false\n",
        "    print('x is positive')\n",
        "else:\n",
        "    # this code will run because the tested condition was not true\n",
        "    print('x is not positive')"
      ],
      "execution_count": null,
      "outputs": [
        {
          "output_type": "stream",
          "text": [
            "x is not positive\n"
          ],
          "name": "stdout"
        }
      ]
    },
    {
      "cell_type": "markdown",
      "metadata": {
        "id": "hLhz8Vy66kue",
        "colab_type": "text"
      },
      "source": [
        "If you want alternative conditions to be tested if the first condition is false, use `elif` (\"else-if\"). Several of these can be chained together, and an `else` may be included at the end."
      ]
    },
    {
      "cell_type": "code",
      "metadata": {
        "id": "CjcEHIPFgB43",
        "colab_type": "code",
        "colab": {
          "base_uri": "https://localhost:8080/",
          "height": 35
        },
        "outputId": "c27eef66-4947-4515-8a02-fec8511f82f4"
      },
      "source": [
        "x = -5\n",
        "\n",
        "if x > 0:\n",
        "    # this code will NOT run because x > 0 is false\n",
        "    print('x is positive')\n",
        "elif x < 0:\n",
        "    # this code will run because x < 0 is true\n",
        "    print('x is negative')\n",
        "else:\n",
        "    # this code will NOT run because one of the tested conditions was true\n",
        "    print('x is zero')"
      ],
      "execution_count": null,
      "outputs": [
        {
          "output_type": "stream",
          "text": [
            "x is negative\n"
          ],
          "name": "stdout"
        }
      ]
    },
    {
      "cell_type": "markdown",
      "metadata": {
        "id": "c07TBHdokweE",
        "colab_type": "text"
      },
      "source": [
        "# Continue to the Next Lesson\n",
        "\n",
        "Return to home to continue to the next lession:\n",
        "\n",
        "https://jpgill86.github.io/python-for-neuroscientists/"
      ]
    },
    {
      "cell_type": "markdown",
      "metadata": {
        "id": "ywlbOi3FUWgK",
        "colab_type": "text"
      },
      "source": [
        "# External Resources"
      ]
    },
    {
      "cell_type": "markdown",
      "metadata": {
        "id": "Nl36l9SJSGG9",
        "colab_type": "text"
      },
      "source": [
        "The official language documentation:\n",
        "\n",
        "* [Python 3 documentation](https://docs.python.org/3/index.html)\n",
        "* [Built-in functions](https://docs.python.org/3/library/functions.html)\n",
        "* [Standard libraries](https://docs.python.org/3/library/index.html)\n",
        "* [Glossary of terms](https://docs.python.org/3/glossary.html)\n",
        "* [In-depth tutorial](https://docs.python.org/3/tutorial/index.html)\n",
        "\n",
        "Extended language documentation:\n",
        "* [IPython (Jupyter) vs. Python differences](https://ipython.readthedocs.io/en/stable/interactive/python-ipython-diff.html)\n",
        "* [IPython (Jupyter) \"magic\" (`%`) commands](https://ipython.readthedocs.io/en/stable/interactive/magics.html)\n",
        "\n",
        "Free interactive books created by Jake VanderPlas:\n",
        "\n",
        "* [A Whirlwind Tour of Python](https://colab.research.google.com/github/jakevdp/WhirlwindTourOfPython/blob/master/Index.ipynb) [[PDF version]](https://www.oreilly.com/programming/free/files/a-whirlwind-tour-of-python.pdf)\n",
        "* [Python Data Science Handbook](https://colab.research.google.com/github/jakevdp/PythonDataScienceHandbook/blob/master/notebooks/Index.ipynb)"
      ]
    },
    {
      "cell_type": "markdown",
      "metadata": {
        "id": "n-KhMl8xk1Ze",
        "colab_type": "text"
      },
      "source": [
        "# License\n",
        "\n",
        "[This work](https://github.com/jpgill86/python-for-neuroscientists) is licensed under a [Creative Commons Attribution 4.0 International\n",
        "License](http://creativecommons.org/licenses/by/4.0/)."
      ]
    }
  ]
}