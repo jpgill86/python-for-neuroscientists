{
  "nbformat": 4,
  "nbformat_minor": 0,
  "metadata": {
    "colab": {
      "name": "02.3-The-Core-Language-of-Python.ipynb",
      "provenance": [],
      "collapsed_sections": [],
      "toc_visible": true,
      "include_colab_link": true
    },
    "kernelspec": {
      "name": "python3",
      "display_name": "Python 3"
    }
  },
  "cells": [
    {
      "cell_type": "markdown",
      "metadata": {
        "id": "view-in-github",
        "colab_type": "text"
      },
      "source": [
        "<a href=\"https://colab.research.google.com/github/jpgill86/python-for-neuroscientists/blob/master/notebooks/02.3-The-Core-Language-of-Python.ipynb\" target=\"_parent\"><img src=\"https://colab.research.google.com/assets/colab-badge.svg\" alt=\"Open In Colab\"/></a>"
      ]
    },
    {
      "cell_type": "markdown",
      "metadata": {
        "id": "QRtgy8QlUJSM",
        "colab_type": "text"
      },
      "source": [
        "# The Core Language of Python: Part 3"
      ]
    },
    {
      "cell_type": "markdown",
      "metadata": {
        "id": "bS8YcdMMa1CS",
        "colab_type": "text"
      },
      "source": [
        "## For Loops and List Comprehensions"
      ]
    },
    {
      "cell_type": "markdown",
      "metadata": {
        "id": "Lyf7B6WmM7cw",
        "colab_type": "text"
      },
      "source": [
        "A `for` loop can **iterate** over a list or tuple, performing calculations for each item in the sequence. Like `if` statements, `for` loops require a **colon** to terminate the first line and consistent **indentation** (typically four spaces) below it for the block of code that will be executed for each item in the sequence. Each item in the sequence is assigned a temporary variable name that can be used within the block. In the example below, this temporary variable is called `i`:"
      ]
    },
    {
      "cell_type": "code",
      "metadata": {
        "id": "1Kyl_55hbB_N",
        "colab_type": "code",
        "colab": {
          "base_uri": "https://localhost:8080/",
          "height": 127
        },
        "outputId": "f35dde47-0802-490d-fb80-b130d1ee82b1"
      },
      "source": [
        "my_list = [0, 1, 2, 3, 4, 5]\n",
        "\n",
        "# print the square of each item in my_list\n",
        "# - colon and indentation are important!\n",
        "for i in my_list:\n",
        "    print(i**2)"
      ],
      "execution_count": null,
      "outputs": [
        {
          "output_type": "stream",
          "text": [
            "0\n",
            "1\n",
            "4\n",
            "9\n",
            "16\n",
            "25\n"
          ],
          "name": "stdout"
        }
      ]
    },
    {
      "cell_type": "markdown",
      "metadata": {
        "id": "fyCBH9N3CEUq",
        "colab_type": "text"
      },
      "source": [
        "Be careful what name you give the iterator variable, since its value will be overwritten again and again with the items in the sequence. If the variable had a value before the `for` loop, it will be lost, which may not be what you intended."
      ]
    },
    {
      "cell_type": "code",
      "metadata": {
        "id": "I94RaX5vCMW0",
        "colab_type": "code",
        "colab": {
          "base_uri": "https://localhost:8080/",
          "height": 164
        },
        "outputId": "7ab9906f-b297-4e40-fbe9-21ab2b9870f5"
      },
      "source": [
        "i = 'abc'\n",
        "print(f'i at the start = {i}')\n",
        "\n",
        "for i in my_list:\n",
        "    print(i**2)\n",
        "\n",
        "print(f'i at the end = {i}')"
      ],
      "execution_count": null,
      "outputs": [
        {
          "output_type": "stream",
          "text": [
            "i at the start = abc\n",
            "0\n",
            "1\n",
            "4\n",
            "9\n",
            "16\n",
            "25\n",
            "i at the end = 5\n"
          ],
          "name": "stdout"
        }
      ]
    },
    {
      "cell_type": "markdown",
      "metadata": {
        "id": "iWMTke1JISYU",
        "colab_type": "text"
      },
      "source": [
        "If you wanted to store a result from each step of the `for` loop in another list, one way you could do it is\n",
        "\n",
        "1. Initialize another variable as an empty list (`another_list = []`), and then\n",
        "2. Append a result to the new list in each step (`another_list.append`).\n",
        "\n",
        "For example:"
      ]
    },
    {
      "cell_type": "code",
      "metadata": {
        "id": "-8EBseAebY9r",
        "colab_type": "code",
        "colab": {
          "base_uri": "https://localhost:8080/",
          "height": 35
        },
        "outputId": "1745bbab-d2e9-4b06-d6e6-0e7312706793"
      },
      "source": [
        "another_list = []\n",
        "for i in my_list:\n",
        "    another_list.append(i**2)\n",
        "\n",
        "another_list"
      ],
      "execution_count": null,
      "outputs": [
        {
          "output_type": "execute_result",
          "data": {
            "text/plain": [
              "[0, 1, 4, 9, 16, 25]"
            ]
          },
          "metadata": {
            "tags": []
          },
          "execution_count": 3
        }
      ]
    },
    {
      "cell_type": "markdown",
      "metadata": {
        "id": "9g7pL0jNJQqJ",
        "colab_type": "text"
      },
      "source": [
        "If the calculation of the result (in this example, squaring `i`) is fairly simple, you can perform the same work using a more concise notation called **list comprehension**. The simplest version of list comprehension takes the form `[f(i) for i in my_list]`, where `f(i)` is some function or transformation of the list item `i`. Notice list comprehensions are enclosed in square brackets (`[]`) because they create lists. Here is a list comprehension equivalent to the example above:"
      ]
    },
    {
      "cell_type": "code",
      "metadata": {
        "id": "WlNapIW2dv97",
        "colab_type": "code",
        "colab": {
          "base_uri": "https://localhost:8080/",
          "height": 35
        },
        "outputId": "9f6076db-4b3f-47bc-a3e2-810a29e19aae"
      },
      "source": [
        "# basic list comprehension\n",
        "# - this means \"square the item for each item in my_list\"\n",
        "another_list = [i**2 for i in my_list]\n",
        "another_list"
      ],
      "execution_count": null,
      "outputs": [
        {
          "output_type": "execute_result",
          "data": {
            "text/plain": [
              "[0, 1, 4, 9, 16, 25]"
            ]
          },
          "metadata": {
            "tags": []
          },
          "execution_count": 4
        }
      ]
    },
    {
      "cell_type": "markdown",
      "metadata": {
        "id": "NlkBlgvEKoIF",
        "colab_type": "text"
      },
      "source": [
        "All of the work is completed in a single line of code. Elegant!\n",
        "\n",
        "List comprehensions can be more complex than this. Suppose we modified the `for` loop to append a result only if the list item is an even number (`i % 2 == 0` means that `i` divided by 2 must have a remainder of 0):"
      ]
    },
    {
      "cell_type": "code",
      "metadata": {
        "id": "OgWt2BQ6K1tk",
        "colab_type": "code",
        "colab": {
          "base_uri": "https://localhost:8080/",
          "height": 35
        },
        "outputId": "c511c2fe-6571-4c42-f3c4-8b297b2ddcb3"
      },
      "source": [
        "another_list = []\n",
        "for i in my_list:\n",
        "    if i % 2 == 0:\n",
        "        # append only if i is even\n",
        "        another_list.append(i**2)\n",
        "\n",
        "# the squares of 0, 2, 4\n",
        "another_list"
      ],
      "execution_count": null,
      "outputs": [
        {
          "output_type": "execute_result",
          "data": {
            "text/plain": [
              "[0, 4, 16]"
            ]
          },
          "metadata": {
            "tags": []
          },
          "execution_count": 5
        }
      ]
    },
    {
      "cell_type": "markdown",
      "metadata": {
        "id": "ZzofzI3DLF5F",
        "colab_type": "text"
      },
      "source": [
        "To do this with list comprehension, just add `if i % 2 == 0` to the end:"
      ]
    },
    {
      "cell_type": "code",
      "metadata": {
        "id": "zuJ_V2ene2dd",
        "colab_type": "code",
        "colab": {
          "base_uri": "https://localhost:8080/",
          "height": 35
        },
        "outputId": "dbd081ee-a7f8-4387-b070-14bced646c46"
      },
      "source": [
        "# list comprehension with conditional\n",
        "# - this means \"square the item for each item in my_list if it is even (otherwise skip it)\"\n",
        "another_list = [i**2 for i in my_list if i % 2 == 0]\n",
        "another_list"
      ],
      "execution_count": null,
      "outputs": [
        {
          "output_type": "execute_result",
          "data": {
            "text/plain": [
              "[0, 4, 16]"
            ]
          },
          "metadata": {
            "tags": []
          },
          "execution_count": 6
        }
      ]
    },
    {
      "cell_type": "markdown",
      "metadata": {
        "id": "vue1exdmLRKt",
        "colab_type": "text"
      },
      "source": [
        "Suppose we modify the `for` loop further to perform a different calculation if the list item is an odd number:"
      ]
    },
    {
      "cell_type": "code",
      "metadata": {
        "id": "gvy65vvMLZMP",
        "colab_type": "code",
        "colab": {
          "base_uri": "https://localhost:8080/",
          "height": 35
        },
        "outputId": "b300214d-9af4-4ac5-aa65-047a5f37c599"
      },
      "source": [
        "another_list = []\n",
        "for i in my_list:\n",
        "    if i % 2 == 0:\n",
        "        # square if i is even\n",
        "        another_list.append(i**2)\n",
        "    else:\n",
        "        # add 100 if i is odd\n",
        "        another_list.append(i+100)\n",
        "\n",
        "another_list"
      ],
      "execution_count": null,
      "outputs": [
        {
          "output_type": "execute_result",
          "data": {
            "text/plain": [
              "[0, 101, 4, 103, 16, 105]"
            ]
          },
          "metadata": {
            "tags": []
          },
          "execution_count": 7
        }
      ]
    },
    {
      "cell_type": "markdown",
      "metadata": {
        "id": "yACuxW0pLiie",
        "colab_type": "text"
      },
      "source": [
        "This can be done with list comprehension by moving the `if i % 2 == 0` to an earlier position, just after `i**2`, and adding `else i+100`:"
      ]
    },
    {
      "cell_type": "code",
      "metadata": {
        "id": "IXgkEuppekHU",
        "colab_type": "code",
        "colab": {
          "base_uri": "https://localhost:8080/",
          "height": 35
        },
        "outputId": "f1af42cf-787f-49cb-8bb3-19ac57cb7664"
      },
      "source": [
        "# list comprehension with complex conditional\n",
        "# - this means \"square the item if it is even, otherwise add 100 to it, for each item in my_list\"\n",
        "another_list = [i**2 if i%2==0 else i+100 for i in my_list]\n",
        "another_list"
      ],
      "execution_count": null,
      "outputs": [
        {
          "output_type": "execute_result",
          "data": {
            "text/plain": [
              "[0, 101, 4, 103, 16, 105]"
            ]
          },
          "metadata": {
            "tags": []
          },
          "execution_count": 8
        }
      ]
    },
    {
      "cell_type": "markdown",
      "metadata": {
        "id": "d-rCAUbyL7qc",
        "colab_type": "text"
      },
      "source": [
        "The results stored in `another_list` could be something other than a calculation using `i`. For example, strings:"
      ]
    },
    {
      "cell_type": "code",
      "metadata": {
        "id": "-U7WjGFQMQol",
        "colab_type": "code",
        "colab": {
          "base_uri": "https://localhost:8080/",
          "height": 127
        },
        "outputId": "8d2fc37e-5bf1-4b80-b592-d79c15bfd15e"
      },
      "source": [
        "# this means \"store the string 'less than 2' if the item is less than 2, otherwise store '2 or greater', for each item in my_list\"\n",
        "another_list = ['less than 2' if i < 2 else '2 or greater' for i in my_list]\n",
        "another_list"
      ],
      "execution_count": null,
      "outputs": [
        {
          "output_type": "execute_result",
          "data": {
            "text/plain": [
              "['less than 2',\n",
              " 'less than 2',\n",
              " '2 or greater',\n",
              " '2 or greater',\n",
              " '2 or greater',\n",
              " '2 or greater']"
            ]
          },
          "metadata": {
            "tags": []
          },
          "execution_count": 9
        }
      ]
    },
    {
      "cell_type": "markdown",
      "metadata": {
        "id": "AMA_yUr1UZqi",
        "colab_type": "text"
      },
      "source": [
        "## While Loops"
      ]
    },
    {
      "cell_type": "markdown",
      "metadata": {
        "id": "hSR1KkbVUYMI",
        "colab_type": "text"
      },
      "source": [
        "A `while` loop is another way to repeatedly perform calculations. Whereas `for` loops execute code for each item in a sequence, `while` loops execute code for as long as a condition is true. For example:"
      ]
    },
    {
      "cell_type": "code",
      "metadata": {
        "id": "pCV4Jl9KgvR3",
        "colab_type": "code",
        "colab": {
          "base_uri": "https://localhost:8080/",
          "height": 127
        },
        "outputId": "445e8fae-2c97-4d2a-978e-8c0d903d7c48"
      },
      "source": [
        "x = 0\n",
        "\n",
        "while x < 5:\n",
        "    print(x)\n",
        "    x = x + 1\n",
        "\n",
        "print(f'final value of x = {x}')"
      ],
      "execution_count": null,
      "outputs": [
        {
          "output_type": "stream",
          "text": [
            "0\n",
            "1\n",
            "2\n",
            "3\n",
            "4\n",
            "final value of x = 5\n"
          ],
          "name": "stdout"
        }
      ]
    },
    {
      "cell_type": "markdown",
      "metadata": {
        "id": "EGhAoW-IVEzb",
        "colab_type": "text"
      },
      "source": [
        "Generally, this means that the code within the `while` loop should take steps toward making the condition no longer true, even if it is unknown ahead of time how many steps that may require. In the simple example above, `x` was incremented each step until `x` was no longer less than 5. A more practical example would be a piece of code that reads a text file of unknown length one line at a time using a `while` loop that continues until a request for the next line yields nothing.\n",
        "\n",
        "Be warned: **If the condition never ceases to be true, the `while` loop will never stop**, which is probably not what you want!\n",
        "\n",
        "Try executing the code cell below, which will start an infinite loop because `x` is never incremented. You will see the icon in the left margin of the code cell spin and spin endlessly as the computer keeps executing the code within the `while` loop again and again, never stopping because the condition `x < 5` never stops being true. For this to end, you must **manually interrupt the code execution**, which you can do two ways:\n",
        "\n",
        "1. Click the spinning stop icon in the left margin, or\n",
        "2. Use the \"Runtime\" menu at the top of the page and click \"Interrupt execution\".\n",
        "\n",
        "Colab executes cells one at a time, so until you interrupt the execution of this cell, you will not be able to run any other code!"
      ]
    },
    {
      "cell_type": "code",
      "metadata": {
        "id": "ioSBMMcFVdvF",
        "colab_type": "code",
        "colab": {}
      },
      "source": [
        "# this will run forever until interrupted!\n",
        "x = 0\n",
        "while x < 5:\n",
        "    pass # do nothing"
      ],
      "execution_count": null,
      "outputs": []
    },
    {
      "cell_type": "markdown",
      "metadata": {
        "id": "v0G2rk3FUSWn",
        "colab_type": "text"
      },
      "source": [
        "## Dictionaries"
      ]
    },
    {
      "cell_type": "markdown",
      "metadata": {
        "id": "mIUlVjvWZOXA",
        "colab_type": "text"
      },
      "source": [
        "Dictionaries are another important data type in Python. Dictionaries store **key-value pairs**, where each piece of data (the **value**) is assigned a name (the **key**) for easy access.\n",
        "\n",
        "Dictionaries are created using curly braces (`{}`). (This is different from the use of curly braces in f-strings!) Inside of the curly braces, key-value pairs are separated from one another by commas, and colons separate each key from its value. For example:"
      ]
    },
    {
      "cell_type": "code",
      "metadata": {
        "id": "nKfPDIKqh4_C",
        "colab_type": "code",
        "colab": {
          "base_uri": "https://localhost:8080/",
          "height": 35
        },
        "outputId": "5d9d2aac-3d89-42fe-9320-02ca03d66a10"
      },
      "source": [
        "# create a new dictionary using curly braces {}\n",
        "my_dict = {'genus': 'Aplysia', 'species': 'californica', 'mass': 150}\n",
        "my_dict"
      ],
      "execution_count": null,
      "outputs": [
        {
          "output_type": "execute_result",
          "data": {
            "text/plain": [
              "{'genus': 'Aplysia', 'mass': 150, 'species': 'californica'}"
            ]
          },
          "metadata": {
            "tags": []
          },
          "execution_count": 12
        }
      ]
    },
    {
      "cell_type": "markdown",
      "metadata": {
        "id": "_ZEE8hQibFPk",
        "colab_type": "text"
      },
      "source": [
        "The syntax for extracting a piece of data from a dictionary is similar to indexing into lists. It uses square brackets after the dictionary name (not curly braces like you might guess), but instead of a number indicating position, a key should be provided."
      ]
    },
    {
      "cell_type": "code",
      "metadata": {
        "id": "qKgS91s1iND3",
        "colab_type": "code",
        "colab": {
          "base_uri": "https://localhost:8080/",
          "height": 36
        },
        "outputId": "b07e30fc-72d3-4ee9-fd23-8ef7fd1a7891"
      },
      "source": [
        "# select items by key\n",
        "my_dict['species']"
      ],
      "execution_count": null,
      "outputs": [
        {
          "output_type": "execute_result",
          "data": {
            "application/vnd.google.colaboratory.intrinsic+json": {
              "type": "string"
            },
            "text/plain": [
              "'californica'"
            ]
          },
          "metadata": {
            "tags": []
          },
          "execution_count": 13
        }
      ]
    },
    {
      "cell_type": "markdown",
      "metadata": {
        "id": "CDTTCM4Ybb1b",
        "colab_type": "text"
      },
      "source": [
        "Like changing the value of an item in a list via its index, the value of an item in a dictionary can be changed via its key:"
      ]
    },
    {
      "cell_type": "code",
      "metadata": {
        "id": "2Zv5Pku-iVnH",
        "colab_type": "code",
        "colab": {
          "base_uri": "https://localhost:8080/",
          "height": 35
        },
        "outputId": "057357e0-5d90-4bb1-b89b-f37dd801438f"
      },
      "source": [
        "# change values by key\n",
        "my_dict['mass'] = 300\n",
        "my_dict"
      ],
      "execution_count": null,
      "outputs": [
        {
          "output_type": "execute_result",
          "data": {
            "text/plain": [
              "{'genus': 'Aplysia', 'mass': 300, 'species': 'californica'}"
            ]
          },
          "metadata": {
            "tags": []
          },
          "execution_count": 14
        }
      ]
    },
    {
      "cell_type": "markdown",
      "metadata": {
        "id": "7KMxLle5bpKn",
        "colab_type": "text"
      },
      "source": [
        "New key-value pairs can be added to a dictionary the same way. In fact, you can start with an empty dictionary and build it up one key-value pair at a time:"
      ]
    },
    {
      "cell_type": "code",
      "metadata": {
        "id": "ED2BXEonb0Y2",
        "colab_type": "code",
        "colab": {
          "base_uri": "https://localhost:8080/",
          "height": 35
        },
        "outputId": "439c2904-6441-41df-dd8f-a8a84c933202"
      },
      "source": [
        "my_dict2 = {}\n",
        "\n",
        "my_dict2['genus'] = 'Aplysia'\n",
        "my_dict2['species'] = 'californica'\n",
        "my_dict2['mass'] = 300\n",
        "\n",
        "my_dict2"
      ],
      "execution_count": null,
      "outputs": [
        {
          "output_type": "execute_result",
          "data": {
            "text/plain": [
              "{'genus': 'Aplysia', 'mass': 300, 'species': 'californica'}"
            ]
          },
          "metadata": {
            "tags": []
          },
          "execution_count": 15
        }
      ]
    },
    {
      "cell_type": "markdown",
      "metadata": {
        "id": "-Ku9Y5v1ajF6",
        "colab_type": "text"
      },
      "source": [
        "Values can have any data type. Most basic data types are valid for keys too, but an important exception is lists: **lists are not allowed to be dictionary keys**. Tuples, on the other hand, are allowed to be keys. This is because keys must be immutable (uneditable), which is a property that tuples have but lists do not."
      ]
    },
    {
      "cell_type": "code",
      "metadata": {
        "id": "84vyRC8ydXow",
        "colab_type": "code",
        "colab": {
          "base_uri": "https://localhost:8080/",
          "height": 209
        },
        "outputId": "6762422d-95a7-487b-bb60-41277ecc5827"
      },
      "source": [
        "# lists cannot be keys, so this is NOT allowed\n",
        "# - the error \"unhashable type\" is a consequence of the fact that lists are not immutable (they can be changed)\n",
        "my_dict2[['x', 'y', 'z']] = [1, 2, 3]"
      ],
      "execution_count": null,
      "outputs": [
        {
          "output_type": "error",
          "ename": "TypeError",
          "evalue": "ignored",
          "traceback": [
            "\u001b[0;31m---------------------------------------------------------------------------\u001b[0m",
            "\u001b[0;31mTypeError\u001b[0m                                 Traceback (most recent call last)",
            "\u001b[0;32m<ipython-input-16-660271824196>\u001b[0m in \u001b[0;36m<module>\u001b[0;34m()\u001b[0m\n\u001b[1;32m      1\u001b[0m \u001b[0;31m# lists cannot be keys, so this is NOT allowed\u001b[0m\u001b[0;34m\u001b[0m\u001b[0;34m\u001b[0m\u001b[0;34m\u001b[0m\u001b[0m\n\u001b[1;32m      2\u001b[0m \u001b[0;31m# - the error \"unhashable type\" is a consequence of the fact that lists are not immutable (they can be changed)\u001b[0m\u001b[0;34m\u001b[0m\u001b[0;34m\u001b[0m\u001b[0;34m\u001b[0m\u001b[0m\n\u001b[0;32m----> 3\u001b[0;31m \u001b[0mmy_dict2\u001b[0m\u001b[0;34m[\u001b[0m\u001b[0;34m[\u001b[0m\u001b[0;34m'x'\u001b[0m\u001b[0;34m,\u001b[0m \u001b[0;34m'y'\u001b[0m\u001b[0;34m,\u001b[0m \u001b[0;34m'z'\u001b[0m\u001b[0;34m]\u001b[0m\u001b[0;34m]\u001b[0m \u001b[0;34m=\u001b[0m \u001b[0;34m[\u001b[0m\u001b[0;36m1\u001b[0m\u001b[0;34m,\u001b[0m \u001b[0;36m2\u001b[0m\u001b[0;34m,\u001b[0m \u001b[0;36m3\u001b[0m\u001b[0;34m]\u001b[0m\u001b[0;34m\u001b[0m\u001b[0;34m\u001b[0m\u001b[0m\n\u001b[0m",
            "\u001b[0;31mTypeError\u001b[0m: unhashable type: 'list'"
          ]
        }
      ]
    },
    {
      "cell_type": "code",
      "metadata": {
        "id": "EzrV7q7Repbd",
        "colab_type": "code",
        "colab": {
          "base_uri": "https://localhost:8080/",
          "height": 90
        },
        "outputId": "e038ba33-73ee-47c8-f5f0-a224b7f3e6a5"
      },
      "source": [
        "# tuples can be keys, so this IS allowed\n",
        "my_dict2[('x', 'y', 'z')] = [1, 2, 3]\n",
        "\n",
        "my_dict2"
      ],
      "execution_count": null,
      "outputs": [
        {
          "output_type": "execute_result",
          "data": {
            "text/plain": [
              "{('x', 'y', 'z'): [1, 2, 3],\n",
              " 'genus': 'Aplysia',\n",
              " 'mass': 300,\n",
              " 'species': 'californica'}"
            ]
          },
          "metadata": {
            "tags": []
          },
          "execution_count": 17
        }
      ]
    },
    {
      "cell_type": "markdown",
      "metadata": {
        "id": "7VIUOPVWjXIU",
        "colab_type": "text"
      },
      "source": [
        "You can delete a key-value pair from a dictionary using the `del` keyword:"
      ]
    },
    {
      "cell_type": "code",
      "metadata": {
        "id": "arSWjJTsjcKf",
        "colab_type": "code",
        "colab": {
          "base_uri": "https://localhost:8080/",
          "height": 35
        },
        "outputId": "9eb96a7b-5f56-4222-b0e4-7bcd6c14c65f"
      },
      "source": [
        "del my_dict2['species']\n",
        "\n",
        "my_dict2"
      ],
      "execution_count": null,
      "outputs": [
        {
          "output_type": "execute_result",
          "data": {
            "text/plain": [
              "{('x', 'y', 'z'): [1, 2, 3], 'genus': 'Aplysia', 'mass': 300}"
            ]
          },
          "metadata": {
            "tags": []
          },
          "execution_count": 18
        }
      ]
    },
    {
      "cell_type": "markdown",
      "metadata": {
        "id": "jxvOXW8Vjjf8",
        "colab_type": "text"
      },
      "source": [
        "As a matter of fact, **`del` is how you unset any variable**:"
      ]
    },
    {
      "cell_type": "code",
      "metadata": {
        "id": "FsDr-dIcjydX",
        "colab_type": "code",
        "colab": {
          "base_uri": "https://localhost:8080/",
          "height": 209
        },
        "outputId": "7d321ee6-efab-401f-981e-e672e3c0ff31"
      },
      "source": [
        "del my_dict2\n",
        "\n",
        "# now my_dict2 is not defined\n",
        "my_dict2"
      ],
      "execution_count": null,
      "outputs": [
        {
          "output_type": "error",
          "ename": "NameError",
          "evalue": "ignored",
          "traceback": [
            "\u001b[0;31m---------------------------------------------------------------------------\u001b[0m",
            "\u001b[0;31mNameError\u001b[0m                                 Traceback (most recent call last)",
            "\u001b[0;32m<ipython-input-19-e8ec4f3d0d06>\u001b[0m in \u001b[0;36m<module>\u001b[0;34m()\u001b[0m\n\u001b[1;32m      2\u001b[0m \u001b[0;34m\u001b[0m\u001b[0m\n\u001b[1;32m      3\u001b[0m \u001b[0;31m# now my_dict2 is not defined\u001b[0m\u001b[0;34m\u001b[0m\u001b[0;34m\u001b[0m\u001b[0;34m\u001b[0m\u001b[0m\n\u001b[0;32m----> 4\u001b[0;31m \u001b[0mmy_dict2\u001b[0m\u001b[0;34m\u001b[0m\u001b[0;34m\u001b[0m\u001b[0m\n\u001b[0m",
            "\u001b[0;31mNameError\u001b[0m: name 'my_dict2' is not defined"
          ]
        }
      ]
    },
    {
      "cell_type": "markdown",
      "metadata": {
        "id": "QBHvoLeFDwLP",
        "colab_type": "text"
      },
      "source": [
        "Just like lists and tuples, `for` loops can iterate over a dictionary. In its simplest form, this actually iterates over the dictionary's keys. In the example below, we choose to use the name `k`, rather than `i`, for the temporary variable to reflect this. To access the value associated with key `k`, we must use `my_dict[k]`."
      ]
    },
    {
      "cell_type": "code",
      "metadata": {
        "id": "iqhcOTaiDAfm",
        "colab_type": "code",
        "colab": {
          "base_uri": "https://localhost:8080/",
          "height": 72
        },
        "outputId": "94a92ee4-d32c-4827-f32b-22ee0eda2fbd"
      },
      "source": [
        "# iterate over keys\n",
        "for k in my_dict:\n",
        "    print(f'key: {k} --> value: {my_dict[k]}')"
      ],
      "execution_count": null,
      "outputs": [
        {
          "output_type": "stream",
          "text": [
            "key: genus --> value: Aplysia\n",
            "key: species --> value: californica\n",
            "key: mass --> value: 300\n"
          ],
          "name": "stdout"
        }
      ]
    },
    {
      "cell_type": "markdown",
      "metadata": {
        "id": "GDzD1KKQDvKY",
        "colab_type": "text"
      },
      "source": [
        "The dictionary method `items()` returns a (special type of) list of tuples, where each tuple is a key-value pair:"
      ]
    },
    {
      "cell_type": "code",
      "metadata": {
        "id": "CtGqkepIEF4P",
        "colab_type": "code",
        "colab": {
          "base_uri": "https://localhost:8080/",
          "height": 35
        },
        "outputId": "2b062394-8a30-4cbd-fe17-8ffce7f1dfca"
      },
      "source": [
        "# using list() here to simplify how the list of tuples is displayed\n",
        "list(my_dict.items())"
      ],
      "execution_count": null,
      "outputs": [
        {
          "output_type": "execute_result",
          "data": {
            "text/plain": [
              "[('genus', 'Aplysia'), ('species', 'californica'), ('mass', 300)]"
            ]
          },
          "metadata": {
            "tags": []
          },
          "execution_count": 21
        }
      ]
    },
    {
      "cell_type": "markdown",
      "metadata": {
        "id": "q6UZtRrQEXjg",
        "colab_type": "text"
      },
      "source": [
        "When using a `for` loop to iterate over any list of tuples (or a list of lists, or a tuple of lists, or a tuple of tuples...) such as this, you can assign a temporary variable name to each item in the inner tuple/list. This is an example of what is called **unpacking**. For example:"
      ]
    },
    {
      "cell_type": "code",
      "metadata": {
        "id": "joJJS5mXE-AN",
        "colab_type": "code",
        "colab": {
          "base_uri": "https://localhost:8080/",
          "height": 72
        },
        "outputId": "31e374c5-dd57-4e34-837c-ebbbaa4c778a"
      },
      "source": [
        "list_of_tuples = [\n",
        "    ('a', 1),\n",
        "    ('b', 2),\n",
        "    ('c', 3),\n",
        "]\n",
        "\n",
        "for (letter, number) in list_of_tuples:\n",
        "    print(letter, number)"
      ],
      "execution_count": null,
      "outputs": [
        {
          "output_type": "stream",
          "text": [
            "a 1\n",
            "b 2\n",
            "c 3\n"
          ],
          "name": "stdout"
        }
      ]
    },
    {
      "cell_type": "markdown",
      "metadata": {
        "id": "Etn3F4xeFO6-",
        "colab_type": "text"
      },
      "source": [
        "In the example above, the parentheses around the iterator variables `(letter, number)` are actually optional, so the loop could be written without them:"
      ]
    },
    {
      "cell_type": "code",
      "metadata": {
        "id": "6IZq91W2Fdh4",
        "colab_type": "code",
        "colab": {
          "base_uri": "https://localhost:8080/",
          "height": 72
        },
        "outputId": "2dafcb90-13c7-4b09-f968-5780b075d024"
      },
      "source": [
        "for letter, number in list_of_tuples:\n",
        "    print(letter, number)"
      ],
      "execution_count": null,
      "outputs": [
        {
          "output_type": "stream",
          "text": [
            "a 1\n",
            "b 2\n",
            "c 3\n"
          ],
          "name": "stdout"
        }
      ]
    },
    {
      "cell_type": "markdown",
      "metadata": {
        "id": "Dt6hLG2wFh8J",
        "colab_type": "text"
      },
      "source": [
        "Using the list of tuples produced by `my_dict.items()` and unpacking each key-value tuple into `k,v`, we can write the `for` loop this way:"
      ]
    },
    {
      "cell_type": "code",
      "metadata": {
        "id": "R7eGsGw1ieTE",
        "colab_type": "code",
        "colab": {
          "base_uri": "https://localhost:8080/",
          "height": 72
        },
        "outputId": "a897521c-2d29-4de6-ea62-919a1195e702"
      },
      "source": [
        "# iterate over key-value pairs\n",
        "for k,v in my_dict.items():\n",
        "    print(f'key: {k} --> value: {v}')"
      ],
      "execution_count": null,
      "outputs": [
        {
          "output_type": "stream",
          "text": [
            "key: genus --> value: Aplysia\n",
            "key: species --> value: californica\n",
            "key: mass --> value: 300\n"
          ],
          "name": "stdout"
        }
      ]
    },
    {
      "cell_type": "markdown",
      "metadata": {
        "id": "xYicbmxTGVnx",
        "colab_type": "text"
      },
      "source": [
        "Notice this does exactly the same thing as\n",
        "```python\n",
        "for k in my_dict:\n",
        "    print(f'key: {k} --> value: {my_dict[k]}')\n",
        "```\n",
        "seen earlier, except the version using `for k,v in my_dict.items()` conveniently assigns the name `v` to the value of each key-value pair, so that `my_dict[k]` does not need to be typed out.\n",
        "\n",
        "Like list comprehensions, there exists a concise way for constructing dictionaries from a sequence, called **dictionary comprehension**. The syntax is similar, but a key and a value must be computed for each iteration, separated by a colon.\n",
        "\n",
        "To set up an example, here is a long way of constructing a dictionary of squares using a `for` loop, where the keys are string versions of the numbers:"
      ]
    },
    {
      "cell_type": "code",
      "metadata": {
        "id": "29IB32ctkux2",
        "colab_type": "code",
        "colab": {
          "base_uri": "https://localhost:8080/",
          "height": 35
        },
        "outputId": "25d400ec-63c8-4db2-c73c-7003dfe8a96d"
      },
      "source": [
        "my_list = [0, 1, 2, 3, 4, 5]\n",
        "\n",
        "squares = {}\n",
        "for i in my_list:\n",
        "    # store keys as strings and values as integers\n",
        "    squares[str(i)] = i**2\n",
        "\n",
        "squares"
      ],
      "execution_count": null,
      "outputs": [
        {
          "output_type": "execute_result",
          "data": {
            "text/plain": [
              "{'0': 0, '1': 1, '2': 4, '3': 9, '4': 16, '5': 25}"
            ]
          },
          "metadata": {
            "tags": []
          },
          "execution_count": 25
        }
      ]
    },
    {
      "cell_type": "markdown",
      "metadata": {
        "id": "MlYNw-5Klap2",
        "colab_type": "text"
      },
      "source": [
        "Here is a dictionary comprehension that does the same thing. Note it is enclosed with curly braces because it produces a dictionary, and a colon separates a key and its value."
      ]
    },
    {
      "cell_type": "code",
      "metadata": {
        "id": "q0qefaLfi5qm",
        "colab_type": "code",
        "colab": {
          "base_uri": "https://localhost:8080/",
          "height": 35
        },
        "outputId": "91104a9a-7de8-466e-862b-820d9936b0da"
      },
      "source": [
        "# basic dictionary comprehension\n",
        "# - this means \"pair a string version of the item with its square for each item in my_list\"\n",
        "squares = {str(i): i**2 for i in my_list}\n",
        "\n",
        "squares"
      ],
      "execution_count": null,
      "outputs": [
        {
          "output_type": "execute_result",
          "data": {
            "text/plain": [
              "{'0': 0, '1': 1, '2': 4, '3': 9, '4': 16, '5': 25}"
            ]
          },
          "metadata": {
            "tags": []
          },
          "execution_count": 26
        }
      ]
    },
    {
      "cell_type": "markdown",
      "metadata": {
        "id": "DU1jv-zRlmwC",
        "colab_type": "text"
      },
      "source": [
        "Like list comprehension, conditionals are allowed for the values:"
      ]
    },
    {
      "cell_type": "code",
      "metadata": {
        "id": "r7LQKLYZlucM",
        "colab_type": "code",
        "colab": {
          "base_uri": "https://localhost:8080/",
          "height": 35
        },
        "outputId": "3c9a0a2e-0ac9-4eea-a4aa-7165935c5ed6"
      },
      "source": [
        "# dictionary comprehension with complex conditional\n",
        "# - this means \"pair a string version of the item with its square if it is even, otherwise with the item plus 100, for each item in my_list\"\n",
        "squares = {str(i): i**2 if i%2==0 else i+100 for i in my_list}\n",
        "\n",
        "squares"
      ],
      "execution_count": null,
      "outputs": [
        {
          "output_type": "execute_result",
          "data": {
            "text/plain": [
              "{'0': 0, '1': 101, '2': 4, '3': 103, '4': 16, '5': 105}"
            ]
          },
          "metadata": {
            "tags": []
          },
          "execution_count": 27
        }
      ]
    },
    {
      "cell_type": "markdown",
      "metadata": {
        "id": "aV04ty_YxORR",
        "colab_type": "text"
      },
      "source": [
        "## A Practical Example for Dictionaries and Comprehensions"
      ]
    },
    {
      "cell_type": "markdown",
      "metadata": {
        "id": "imBs2CaDqZMu",
        "colab_type": "text"
      },
      "source": [
        "So how are dictionaries useful? There are countless ways, but let's look at one example. Previously we saw in the section titled \"Lists vs. Tuples\" that a list of tuples with consistent structure is useful because pieces of data have predictable indices. For example, with this definition of `species_data`, the genus of every entry always has index 0:"
      ]
    },
    {
      "cell_type": "code",
      "metadata": {
        "id": "I_Nr2BlQqj8r",
        "colab_type": "code",
        "colab": {
          "base_uri": "https://localhost:8080/",
          "height": 72
        },
        "outputId": "871fae2e-bb0d-4f85-d387-32b6fbb40707"
      },
      "source": [
        "species_data = [\n",
        "    # genus, species, date named, common name\n",
        "    ('Aplysia',     'californica', 1863, 'California sea hare'),\n",
        "    ('Macrocystis', 'pyrifera',    1820, 'Giant kelp'),\n",
        "    ('Pagurus',     'samuelis',    1857, 'Blueband hermit crab'),\n",
        "]\n",
        "\n",
        "# print every genus\n",
        "for sp in species_data:\n",
        "    print(sp[0])"
      ],
      "execution_count": null,
      "outputs": [
        {
          "output_type": "stream",
          "text": [
            "Aplysia\n",
            "Macrocystis\n",
            "Pagurus\n"
          ],
          "name": "stdout"
        }
      ]
    },
    {
      "cell_type": "markdown",
      "metadata": {
        "id": "WmFDnSjAr4nQ",
        "colab_type": "text"
      },
      "source": [
        "However, this approach requires that we memorize the meaning of each index (0 = genus, 1 = species, etc.). If we use dictionaries instead of tuples, we can access data by name, rather than arbitrary indices. To do this, we could convert every tuple into a dictionary, so that the whole data set is a list of dictionaries with identical keys.\n",
        "\n",
        "To demonstrate this, we could write everything out, like this:"
      ]
    },
    {
      "cell_type": "code",
      "metadata": {
        "id": "BjVNnxL_vgkO",
        "colab_type": "code",
        "colab": {}
      },
      "source": [
        "species_dicts = [\n",
        "    {'genus': 'Aplysia',     'species': 'californica', 'year': 1863, 'common': 'California sea hare'},\n",
        "    {'genus': 'Macrocystis', 'species': 'pyrifera',    'year': 1820, 'common': 'Giant kelp'},\n",
        "    {'genus': 'Pagurus',     'species': 'samuelis',    'year': 1857, 'common': 'Blueband hermit crab'},\n",
        "]"
      ],
      "execution_count": null,
      "outputs": []
    },
    {
      "cell_type": "markdown",
      "metadata": {
        "id": "GYuk9MXBvZl7",
        "colab_type": "text"
      },
      "source": [
        "However, if the `species_data` list already existed and was much longer than it is here, this would be a lot of extra work!\n",
        "\n",
        "Instead, we could use what we have learned to programmatically construct the list of dictionaries from the existing list of tuples using a `for` loop. Here's one way to do that which uses tuple unpacking for naming each of the four pieces of data in every tuple:"
      ]
    },
    {
      "cell_type": "code",
      "metadata": {
        "id": "uGoo7PROqtlZ",
        "colab_type": "code",
        "colab": {
          "base_uri": "https://localhost:8080/",
          "height": 237
        },
        "outputId": "bc1e99b8-4b8b-43e6-c2f3-bf1401c3885c"
      },
      "source": [
        "# create a new empty list\n",
        "species_dicts = []\n",
        "\n",
        "# for each tuple, unpack the 4 pieces of data into 4 temporary variables\n",
        "for genus, species, year, common in species_data:\n",
        "\n",
        "    # build a new dictionary for this species\n",
        "    d = {'genus': genus, 'species': species, 'year': year, 'common': common}\n",
        "\n",
        "    # append the dictionary to the new list\n",
        "    species_dicts.append(d)\n",
        "\n",
        "# display the new list of dictionaries\n",
        "species_dicts"
      ],
      "execution_count": null,
      "outputs": [
        {
          "output_type": "execute_result",
          "data": {
            "text/plain": [
              "[{'common': 'California sea hare',\n",
              "  'genus': 'Aplysia',\n",
              "  'species': 'californica',\n",
              "  'year': 1863},\n",
              " {'common': 'Giant kelp',\n",
              "  'genus': 'Macrocystis',\n",
              "  'species': 'pyrifera',\n",
              "  'year': 1820},\n",
              " {'common': 'Blueband hermit crab',\n",
              "  'genus': 'Pagurus',\n",
              "  'species': 'samuelis',\n",
              "  'year': 1857}]"
            ]
          },
          "metadata": {
            "tags": []
          },
          "execution_count": 30
        }
      ]
    },
    {
      "cell_type": "markdown",
      "metadata": {
        "id": "0FkLJqqAsqOO",
        "colab_type": "text"
      },
      "source": [
        "Now the genus of every entry can be accessed using the key `'genus'` rather than index 0:"
      ]
    },
    {
      "cell_type": "code",
      "metadata": {
        "id": "G0SzsX3gs2ox",
        "colab_type": "code",
        "colab": {
          "base_uri": "https://localhost:8080/",
          "height": 72
        },
        "outputId": "22640b65-ac79-4283-a363-04b84f05644a"
      },
      "source": [
        "# print every genus\n",
        "for sp in species_dicts:\n",
        "    print(sp['genus'])"
      ],
      "execution_count": null,
      "outputs": [
        {
          "output_type": "stream",
          "text": [
            "Aplysia\n",
            "Macrocystis\n",
            "Pagurus\n"
          ],
          "name": "stdout"
        }
      ]
    },
    {
      "cell_type": "markdown",
      "metadata": {
        "id": "YQ2BzKEMugig",
        "colab_type": "text"
      },
      "source": [
        "If we want to be *really* clever, we can do the entire conversion in a single step by *constructing a dictionary inside a list comprehension*. For this, we need to first introduce another built-in function.\n",
        "\n",
        "The `zip()` function takes two or more sequences (e.g., lists or tuples) as inputs and groups the elements from each sequence in order. For example:"
      ]
    },
    {
      "cell_type": "code",
      "metadata": {
        "id": "frBlTOmHzels",
        "colab_type": "code",
        "colab": {
          "base_uri": "https://localhost:8080/",
          "height": 35
        },
        "outputId": "d8ab31c4-b98a-444c-8d26-845eefb8983e"
      },
      "source": [
        "list1 = ['a', 'b', 'c']\n",
        "list2 = [1, 2, 3]\n",
        "\n",
        "# using list() here to simplify how the result is displayed\n",
        "list(zip(list1, list2))"
      ],
      "execution_count": null,
      "outputs": [
        {
          "output_type": "execute_result",
          "data": {
            "text/plain": [
              "[('a', 1), ('b', 2), ('c', 3)]"
            ]
          },
          "metadata": {
            "tags": []
          },
          "execution_count": 32
        }
      ]
    },
    {
      "cell_type": "markdown",
      "metadata": {
        "id": "j7VRGwpuz68T",
        "colab_type": "text"
      },
      "source": [
        "How can we use `zip()` to help us convert our list of tuples into a list of dictionaries? First, define a variable containing the dictionary keys:"
      ]
    },
    {
      "cell_type": "code",
      "metadata": {
        "id": "mLJEEGMk0MP7",
        "colab_type": "code",
        "colab": {}
      },
      "source": [
        "keys = ('genus', 'species', 'year', 'common')"
      ],
      "execution_count": null,
      "outputs": []
    },
    {
      "cell_type": "markdown",
      "metadata": {
        "id": "iaCMlCc10RI0",
        "colab_type": "text"
      },
      "source": [
        "With this, it is possible to pair the values from one of the tuples with these keys. For example, if we just look at the first tuple:"
      ]
    },
    {
      "cell_type": "code",
      "metadata": {
        "id": "RyKy59dI0aFK",
        "colab_type": "code",
        "colab": {
          "base_uri": "https://localhost:8080/",
          "height": 90
        },
        "outputId": "7e9d4ac1-01f0-47bf-d965-784df49f3325"
      },
      "source": [
        "values = species_data[0]\n",
        "list(zip(keys, values))"
      ],
      "execution_count": null,
      "outputs": [
        {
          "output_type": "execute_result",
          "data": {
            "text/plain": [
              "[('genus', 'Aplysia'),\n",
              " ('species', 'californica'),\n",
              " ('year', 1863),\n",
              " ('common', 'California sea hare')]"
            ]
          },
          "metadata": {
            "tags": []
          },
          "execution_count": 34
        }
      ]
    },
    {
      "cell_type": "markdown",
      "metadata": {
        "id": "eK4jy2L70lZI",
        "colab_type": "text"
      },
      "source": [
        "Here we have a list of tuples, where each tuple is a key-value pair. This is just like what the `items()` function returns for a dictionary. From this, we could construct a dictionary from this first tuple using dictionary comprehension:"
      ]
    },
    {
      "cell_type": "code",
      "metadata": {
        "id": "4TSE6cjr039H",
        "colab_type": "code",
        "colab": {
          "base_uri": "https://localhost:8080/",
          "height": 90
        },
        "outputId": "ecc4ef8a-380f-4653-a437-8fb823ff03ce"
      },
      "source": [
        "{k:v for k,v in zip(keys, values)}"
      ],
      "execution_count": null,
      "outputs": [
        {
          "output_type": "execute_result",
          "data": {
            "text/plain": [
              "{'common': 'California sea hare',\n",
              " 'genus': 'Aplysia',\n",
              " 'species': 'californica',\n",
              " 'year': 1863}"
            ]
          },
          "metadata": {
            "tags": []
          },
          "execution_count": 35
        }
      ]
    },
    {
      "cell_type": "markdown",
      "metadata": {
        "id": "qiD0qY-315Qm",
        "colab_type": "text"
      },
      "source": [
        "Equivalently, because there is no extra manipulation of `k` or `v` here, we could use the built-in function `dict()` to convert the list of key-value pairs directly into a dictionary:"
      ]
    },
    {
      "cell_type": "code",
      "metadata": {
        "id": "cIb6CoY01rZn",
        "colab_type": "code",
        "colab": {
          "base_uri": "https://localhost:8080/",
          "height": 90
        },
        "outputId": "039a7cf3-91a3-4a5d-a44f-64d5b62f7e30"
      },
      "source": [
        "dict(zip(keys, values))"
      ],
      "execution_count": null,
      "outputs": [
        {
          "output_type": "execute_result",
          "data": {
            "text/plain": [
              "{'common': 'California sea hare',\n",
              " 'genus': 'Aplysia',\n",
              " 'species': 'californica',\n",
              " 'year': 1863}"
            ]
          },
          "metadata": {
            "tags": []
          },
          "execution_count": 36
        }
      ]
    },
    {
      "cell_type": "markdown",
      "metadata": {
        "id": "-DB_FszX1DVx",
        "colab_type": "text"
      },
      "source": [
        "All we have to do now is generalize this to all tuples in `species_data`. We can use a list comprehension for this, which gives us the final expression that does the entire conversion in one step, from a list of tuples to a list of dictionaries:"
      ]
    },
    {
      "cell_type": "code",
      "metadata": {
        "id": "00KpIj04uK1o",
        "colab_type": "code",
        "colab": {
          "base_uri": "https://localhost:8080/",
          "height": 237
        },
        "outputId": "abe85dac-d824-4d4f-e123-6bcb8296d7b0"
      },
      "source": [
        "keys = ('genus', 'species', 'year', 'common')\n",
        "species_dicts = [dict(zip(keys, values)) for values in species_data]\n",
        "species_dicts"
      ],
      "execution_count": null,
      "outputs": [
        {
          "output_type": "execute_result",
          "data": {
            "text/plain": [
              "[{'common': 'California sea hare',\n",
              "  'genus': 'Aplysia',\n",
              "  'species': 'californica',\n",
              "  'year': 1863},\n",
              " {'common': 'Giant kelp',\n",
              "  'genus': 'Macrocystis',\n",
              "  'species': 'pyrifera',\n",
              "  'year': 1820},\n",
              " {'common': 'Blueband hermit crab',\n",
              "  'genus': 'Pagurus',\n",
              "  'species': 'samuelis',\n",
              "  'year': 1857}]"
            ]
          },
          "metadata": {
            "tags": []
          },
          "execution_count": 37
        }
      ]
    },
    {
      "cell_type": "markdown",
      "metadata": {
        "id": "cUknVPFX2xUU",
        "colab_type": "text"
      },
      "source": [
        "This is much more elegant than writing out the list of dictionaries by hand!\n",
        "\n",
        "As a final proof of success, we can once again access the genus of every entry using a key:"
      ]
    },
    {
      "cell_type": "code",
      "metadata": {
        "id": "91fECV-72vq4",
        "colab_type": "code",
        "colab": {
          "base_uri": "https://localhost:8080/",
          "height": 72
        },
        "outputId": "412c3787-50a3-4a47-91d4-8305da6d0691"
      },
      "source": [
        "# print every genus\n",
        "for sp in species_dicts:\n",
        "    print(sp['genus'])"
      ],
      "execution_count": null,
      "outputs": [
        {
          "output_type": "stream",
          "text": [
            "Aplysia\n",
            "Macrocystis\n",
            "Pagurus\n"
          ],
          "name": "stdout"
        }
      ]
    },
    {
      "cell_type": "markdown",
      "metadata": {
        "id": "-jFZdhVM5amr",
        "colab_type": "text"
      },
      "source": [
        "For me, the amount of work we get out of this single expression, `[dict(zip(keys, values)) for values in species_data]`, is delightful!"
      ]
    },
    {
      "cell_type": "markdown",
      "metadata": {
        "id": "c07TBHdokweE",
        "colab_type": "text"
      },
      "source": [
        "# Continue to the Next Lesson\n",
        "\n",
        "Return to home to continue to the next lession:\n",
        "\n",
        "https://jpgill86.github.io/python-for-neuroscientists/"
      ]
    },
    {
      "cell_type": "markdown",
      "metadata": {
        "id": "ywlbOi3FUWgK",
        "colab_type": "text"
      },
      "source": [
        "# External Resources"
      ]
    },
    {
      "cell_type": "markdown",
      "metadata": {
        "id": "Nl36l9SJSGG9",
        "colab_type": "text"
      },
      "source": [
        "The official language documentation:\n",
        "\n",
        "* [Python 3 documentation](https://docs.python.org/3/index.html)\n",
        "* [Built-in functions](https://docs.python.org/3/library/functions.html)\n",
        "* [Standard libraries](https://docs.python.org/3/library/index.html)\n",
        "* [Glossary of terms](https://docs.python.org/3/glossary.html)\n",
        "* [In-depth tutorial](https://docs.python.org/3/tutorial/index.html)\n",
        "\n",
        "Extended language documentation:\n",
        "* [IPython (Jupyter) vs. Python differences](https://ipython.readthedocs.io/en/stable/interactive/python-ipython-diff.html)\n",
        "* [IPython (Jupyter) \"magic\" (`%`) commands](https://ipython.readthedocs.io/en/stable/interactive/magics.html)\n",
        "\n",
        "Free interactive books created by Jake VanderPlas:\n",
        "\n",
        "* [A Whirlwind Tour of Python](https://colab.research.google.com/github/jakevdp/WhirlwindTourOfPython/blob/master/Index.ipynb) [[PDF version]](https://www.oreilly.com/programming/free/files/a-whirlwind-tour-of-python.pdf)\n",
        "* [Python Data Science Handbook](https://colab.research.google.com/github/jakevdp/PythonDataScienceHandbook/blob/master/notebooks/Index.ipynb)"
      ]
    },
    {
      "cell_type": "markdown",
      "metadata": {
        "id": "n-KhMl8xk1Ze",
        "colab_type": "text"
      },
      "source": [
        "# License\n",
        "\n",
        "[This work](https://github.com/jpgill86/python-for-neuroscientists) is licensed under a [Creative Commons Attribution 4.0 International\n",
        "License](http://creativecommons.org/licenses/by/4.0/)."
      ]
    }
  ]
}